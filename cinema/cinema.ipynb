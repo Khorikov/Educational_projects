{
 "cells": [
  {
   "cell_type": "markdown",
   "metadata": {
    "id": "sIfNaMOxgFyK"
   },
   "source": [
    "# Исследование данных о российском кинопрокате\n",
    "\n"
   ]
  },
  {
   "cell_type": "markdown",
   "metadata": {},
   "source": [
    "Заказчик этого исследования — Министерство культуры Российской Федерации. \n",
    "\n",
    "Нужно изучить рынок российского кинопроката и выявить текущие тренды. Уделить внимание фильмам, которые получили государственную поддержку. Попробовать ответить на вопрос, насколько такие фильмы интересны зрителю.\n",
    "\n",
    "Для исследования используются данные, опубликованные на портале открытых данных Министерства культуры. Набор данных содержит информацию о прокатных удостоверениях, сборах и государственной поддержке фильмов, а также информацию с сайта КиноПоиск."
   ]
  },
  {
   "cell_type": "markdown",
   "metadata": {},
   "source": [
    "Цель исследования:\n",
    "\n",
    "1. Провести исследовательский анализ рынка российского кинопроката и выявить текущие тренды.\n",
    "2. Провести исследовательский анализ рынка российского кинопроката и выявить текущие тренды.\n",
    "\n",
    "Ход исследования пройдёт в четыре этапа:\n",
    "\n",
    "1. Обзор данных.\n",
    "2. Предобработка данных.\n",
    "3. Исследовательский анализ данных.\n",
    "4. Исследование фильмов, получивших государственную поддержку."
   ]
  },
  {
   "cell_type": "markdown",
   "metadata": {},
   "source": [
    "## Обзор данных"
   ]
  },
  {
   "cell_type": "code",
   "execution_count": 1,
   "metadata": {
    "id": "dw87FlzMgFyM"
   },
   "outputs": [],
   "source": [
    "import pandas as pd"
   ]
  },
  {
   "cell_type": "code",
   "execution_count": 2,
   "metadata": {},
   "outputs": [],
   "source": [
    "import numpy as np"
   ]
  },
  {
   "cell_type": "code",
   "execution_count": 3,
   "metadata": {},
   "outputs": [],
   "source": [
    "import matplotlib.pyplot as plt"
   ]
  },
  {
   "cell_type": "code",
   "execution_count": 4,
   "metadata": {},
   "outputs": [],
   "source": [
    "pd.options.display.float_format = '{:,.2f}'.format"
   ]
  },
  {
   "cell_type": "code",
   "execution_count": 5,
   "metadata": {},
   "outputs": [],
   "source": [
    "df_1 = pd.read_csv('/datasets/mkrf_movies.csv')\n",
    "df_2 = pd.read_csv('/datasets/mkrf_shows.csv')"
   ]
  },
  {
   "cell_type": "code",
   "execution_count": 6,
   "metadata": {
    "scrolled": false
   },
   "outputs": [
    {
     "data": {
      "text/html": [
       "<div>\n",
       "<style scoped>\n",
       "    .dataframe tbody tr th:only-of-type {\n",
       "        vertical-align: middle;\n",
       "    }\n",
       "\n",
       "    .dataframe tbody tr th {\n",
       "        vertical-align: top;\n",
       "    }\n",
       "\n",
       "    .dataframe thead th {\n",
       "        text-align: right;\n",
       "    }\n",
       "</style>\n",
       "<table border=\"1\" class=\"dataframe\">\n",
       "  <thead>\n",
       "    <tr style=\"text-align: right;\">\n",
       "      <th></th>\n",
       "      <th>title</th>\n",
       "      <th>puNumber</th>\n",
       "      <th>show_start_date</th>\n",
       "      <th>type</th>\n",
       "      <th>film_studio</th>\n",
       "      <th>production_country</th>\n",
       "      <th>director</th>\n",
       "      <th>producer</th>\n",
       "      <th>age_restriction</th>\n",
       "      <th>refundable_support</th>\n",
       "      <th>nonrefundable_support</th>\n",
       "      <th>budget</th>\n",
       "      <th>financing_source</th>\n",
       "      <th>ratings</th>\n",
       "      <th>genres</th>\n",
       "    </tr>\n",
       "  </thead>\n",
       "  <tbody>\n",
       "    <tr>\n",
       "      <td>0</td>\n",
       "      <td>Открытый простор</td>\n",
       "      <td>221048915</td>\n",
       "      <td>2015-11-27T12:00:00.000Z</td>\n",
       "      <td>Художественный</td>\n",
       "      <td>Тачстоун Пикчерз, Кобальт Пикчерз, Бикон Пикче...</td>\n",
       "      <td>США</td>\n",
       "      <td>Кевин Костнер</td>\n",
       "      <td>Дэвид Валдес, Кевин Костнер, Джейк Эбертс</td>\n",
       "      <td>«18+» - запрещено для детей</td>\n",
       "      <td>nan</td>\n",
       "      <td>nan</td>\n",
       "      <td>nan</td>\n",
       "      <td>NaN</td>\n",
       "      <td>7.2</td>\n",
       "      <td>боевик,драма,мелодрама</td>\n",
       "    </tr>\n",
       "    <tr>\n",
       "      <td>1</td>\n",
       "      <td>Особо важное задание</td>\n",
       "      <td>111013716</td>\n",
       "      <td>2016-09-13T12:00:00.000Z</td>\n",
       "      <td>Художественный</td>\n",
       "      <td>Киностудия \"Мосфильм\"</td>\n",
       "      <td>СССР</td>\n",
       "      <td>Е.Матвеев</td>\n",
       "      <td>NaN</td>\n",
       "      <td>«6+» - для детей старше 6 лет</td>\n",
       "      <td>nan</td>\n",
       "      <td>nan</td>\n",
       "      <td>nan</td>\n",
       "      <td>NaN</td>\n",
       "      <td>6.6</td>\n",
       "      <td>драма,военный</td>\n",
       "    </tr>\n",
       "    <tr>\n",
       "      <td>2</td>\n",
       "      <td>Особо опасен</td>\n",
       "      <td>221038416</td>\n",
       "      <td>2016-10-10T12:00:00.000Z</td>\n",
       "      <td>Художественный</td>\n",
       "      <td>Юниверсал Пикчерз, Кикстарт Продакшнз, Марк Пл...</td>\n",
       "      <td>США</td>\n",
       "      <td>Тимур Бекмамбетов</td>\n",
       "      <td>Джим Лемли, Джейсон Нетер, Марк Е.Платт, Яйн Смит</td>\n",
       "      <td>«18+» - запрещено для детей</td>\n",
       "      <td>nan</td>\n",
       "      <td>nan</td>\n",
       "      <td>nan</td>\n",
       "      <td>NaN</td>\n",
       "      <td>6.8</td>\n",
       "      <td>фантастика,боевик,триллер</td>\n",
       "    </tr>\n",
       "    <tr>\n",
       "      <td>3</td>\n",
       "      <td>Особо опасен</td>\n",
       "      <td>221026916</td>\n",
       "      <td>2016-06-10T12:00:00.000Z</td>\n",
       "      <td>Художественный</td>\n",
       "      <td>Юниверсал Пикчерз, Кикстарт Продакшнз, Марк Пл...</td>\n",
       "      <td>США</td>\n",
       "      <td>Тимур Бекмамбетов</td>\n",
       "      <td>Джим Лемли, Джейсон Нетер, Марк Е.Платт, Яйн Смит</td>\n",
       "      <td>«18+» - запрещено для детей</td>\n",
       "      <td>nan</td>\n",
       "      <td>nan</td>\n",
       "      <td>nan</td>\n",
       "      <td>NaN</td>\n",
       "      <td>6.8</td>\n",
       "      <td>фантастика,боевик,триллер</td>\n",
       "    </tr>\n",
       "    <tr>\n",
       "      <td>4</td>\n",
       "      <td>Особо опасен</td>\n",
       "      <td>221030815</td>\n",
       "      <td>2015-07-29T12:00:00.000Z</td>\n",
       "      <td>Художественный</td>\n",
       "      <td>Юниверсал Пикчерз, Кикстарт Продакшнз, Марк Пл...</td>\n",
       "      <td>США</td>\n",
       "      <td>Тимур Бекмамбетов</td>\n",
       "      <td>Джим Лемли, Джейсон Нетер, Марк Е.Платт, Яйн Смит</td>\n",
       "      <td>«18+» - запрещено для детей</td>\n",
       "      <td>nan</td>\n",
       "      <td>nan</td>\n",
       "      <td>nan</td>\n",
       "      <td>NaN</td>\n",
       "      <td>6.8</td>\n",
       "      <td>фантастика,боевик,триллер</td>\n",
       "    </tr>\n",
       "  </tbody>\n",
       "</table>\n",
       "</div>"
      ],
      "text/plain": [
       "                  title   puNumber           show_start_date            type  \\\n",
       "0      Открытый простор  221048915  2015-11-27T12:00:00.000Z  Художественный   \n",
       "1  Особо важное задание  111013716  2016-09-13T12:00:00.000Z  Художественный   \n",
       "2          Особо опасен  221038416  2016-10-10T12:00:00.000Z  Художественный   \n",
       "3          Особо опасен  221026916  2016-06-10T12:00:00.000Z  Художественный   \n",
       "4          Особо опасен  221030815  2015-07-29T12:00:00.000Z  Художественный   \n",
       "\n",
       "                                         film_studio production_country  \\\n",
       "0  Тачстоун Пикчерз, Кобальт Пикчерз, Бикон Пикче...                США   \n",
       "1                              Киностудия \"Мосфильм\"               СССР   \n",
       "2  Юниверсал Пикчерз, Кикстарт Продакшнз, Марк Пл...                США   \n",
       "3  Юниверсал Пикчерз, Кикстарт Продакшнз, Марк Пл...                США   \n",
       "4  Юниверсал Пикчерз, Кикстарт Продакшнз, Марк Пл...                США   \n",
       "\n",
       "            director                                           producer  \\\n",
       "0      Кевин Костнер          Дэвид Валдес, Кевин Костнер, Джейк Эбертс   \n",
       "1          Е.Матвеев                                                NaN   \n",
       "2  Тимур Бекмамбетов  Джим Лемли, Джейсон Нетер, Марк Е.Платт, Яйн Смит   \n",
       "3  Тимур Бекмамбетов  Джим Лемли, Джейсон Нетер, Марк Е.Платт, Яйн Смит   \n",
       "4  Тимур Бекмамбетов  Джим Лемли, Джейсон Нетер, Марк Е.Платт, Яйн Смит   \n",
       "\n",
       "                 age_restriction  refundable_support  nonrefundable_support  \\\n",
       "0    «18+» - запрещено для детей                 nan                    nan   \n",
       "1  «6+» - для детей старше 6 лет                 nan                    nan   \n",
       "2    «18+» - запрещено для детей                 nan                    nan   \n",
       "3    «18+» - запрещено для детей                 nan                    nan   \n",
       "4    «18+» - запрещено для детей                 nan                    nan   \n",
       "\n",
       "   budget financing_source ratings                     genres  \n",
       "0     nan              NaN     7.2     боевик,драма,мелодрама  \n",
       "1     nan              NaN     6.6              драма,военный  \n",
       "2     nan              NaN     6.8  фантастика,боевик,триллер  \n",
       "3     nan              NaN     6.8  фантастика,боевик,триллер  \n",
       "4     nan              NaN     6.8  фантастика,боевик,триллер  "
      ]
     },
     "metadata": {},
     "output_type": "display_data"
    },
    {
     "name": "stdout",
     "output_type": "stream",
     "text": [
      "<class 'pandas.core.frame.DataFrame'>\n",
      "RangeIndex: 7486 entries, 0 to 7485\n",
      "Data columns (total 15 columns):\n",
      "title                    7486 non-null object\n",
      "puNumber                 7486 non-null object\n",
      "show_start_date          7486 non-null object\n",
      "type                     7486 non-null object\n",
      "film_studio              7468 non-null object\n",
      "production_country       7484 non-null object\n",
      "director                 7477 non-null object\n",
      "producer                 6918 non-null object\n",
      "age_restriction          7486 non-null object\n",
      "refundable_support       332 non-null float64\n",
      "nonrefundable_support    332 non-null float64\n",
      "budget                   332 non-null float64\n",
      "financing_source         332 non-null object\n",
      "ratings                  6519 non-null object\n",
      "genres                   6510 non-null object\n",
      "dtypes: float64(3), object(12)\n",
      "memory usage: 877.4+ KB\n"
     ]
    }
   ],
   "source": [
    "display(df_1.head())\n",
    "df_1.info()"
   ]
  },
  {
   "cell_type": "code",
   "execution_count": 7,
   "metadata": {},
   "outputs": [
    {
     "data": {
      "text/html": [
       "<div>\n",
       "<style scoped>\n",
       "    .dataframe tbody tr th:only-of-type {\n",
       "        vertical-align: middle;\n",
       "    }\n",
       "\n",
       "    .dataframe tbody tr th {\n",
       "        vertical-align: top;\n",
       "    }\n",
       "\n",
       "    .dataframe thead th {\n",
       "        text-align: right;\n",
       "    }\n",
       "</style>\n",
       "<table border=\"1\" class=\"dataframe\">\n",
       "  <thead>\n",
       "    <tr style=\"text-align: right;\">\n",
       "      <th></th>\n",
       "      <th>puNumber</th>\n",
       "      <th>box_office</th>\n",
       "    </tr>\n",
       "  </thead>\n",
       "  <tbody>\n",
       "    <tr>\n",
       "      <td>0</td>\n",
       "      <td>111000113</td>\n",
       "      <td>2,450.00</td>\n",
       "    </tr>\n",
       "    <tr>\n",
       "      <td>1</td>\n",
       "      <td>111000115</td>\n",
       "      <td>61,040.00</td>\n",
       "    </tr>\n",
       "    <tr>\n",
       "      <td>2</td>\n",
       "      <td>111000116</td>\n",
       "      <td>153,030,013.40</td>\n",
       "    </tr>\n",
       "    <tr>\n",
       "      <td>3</td>\n",
       "      <td>111000117</td>\n",
       "      <td>12,260,956.00</td>\n",
       "    </tr>\n",
       "    <tr>\n",
       "      <td>4</td>\n",
       "      <td>111000118</td>\n",
       "      <td>163,684,057.79</td>\n",
       "    </tr>\n",
       "  </tbody>\n",
       "</table>\n",
       "</div>"
      ],
      "text/plain": [
       "    puNumber     box_office\n",
       "0  111000113       2,450.00\n",
       "1  111000115      61,040.00\n",
       "2  111000116 153,030,013.40\n",
       "3  111000117  12,260,956.00\n",
       "4  111000118 163,684,057.79"
      ]
     },
     "metadata": {},
     "output_type": "display_data"
    },
    {
     "name": "stdout",
     "output_type": "stream",
     "text": [
      "<class 'pandas.core.frame.DataFrame'>\n",
      "RangeIndex: 3158 entries, 0 to 3157\n",
      "Data columns (total 2 columns):\n",
      "puNumber      3158 non-null int64\n",
      "box_office    3158 non-null float64\n",
      "dtypes: float64(1), int64(1)\n",
      "memory usage: 49.5 KB\n"
     ]
    }
   ],
   "source": [
    "display(df_2.head())\n",
    "df_2.info()"
   ]
  },
  {
   "cell_type": "markdown",
   "metadata": {},
   "source": [
    "В исходных данных мы имеем два файла:\n",
    "* `mkrf_movies` содержит информацию из реестра прокатных удостоверений;\n",
    "* `mkrf_shows` содержит сведения о показах фильмов в российских кинотеатрах."
   ]
  },
  {
   "cell_type": "markdown",
   "metadata": {},
   "source": [
    "Объединим таблицы в один датафрейм по совпадающим значениям столбца `puNumber`. Для этого предварительно изменим тип данных столбца `puNumber` в данных `mkrf_movies` на числовой."
   ]
  },
  {
   "cell_type": "code",
   "execution_count": 8,
   "metadata": {},
   "outputs": [],
   "source": [
    "df_1['puNumber'] = pd.to_numeric(df_1['puNumber'], errors='coerce')"
   ]
  },
  {
   "cell_type": "code",
   "execution_count": 9,
   "metadata": {},
   "outputs": [
    {
     "name": "stdout",
     "output_type": "stream",
     "text": [
      "<class 'pandas.core.frame.DataFrame'>\n",
      "Int64Index: 7486 entries, 0 to 7485\n",
      "Data columns (total 16 columns):\n",
      "title                    7486 non-null object\n",
      "puNumber                 7485 non-null float64\n",
      "show_start_date          7486 non-null object\n",
      "type                     7486 non-null object\n",
      "film_studio              7468 non-null object\n",
      "production_country       7484 non-null object\n",
      "director                 7477 non-null object\n",
      "producer                 6918 non-null object\n",
      "age_restriction          7486 non-null object\n",
      "refundable_support       332 non-null float64\n",
      "nonrefundable_support    332 non-null float64\n",
      "budget                   332 non-null float64\n",
      "financing_source         332 non-null object\n",
      "ratings                  6519 non-null object\n",
      "genres                   6510 non-null object\n",
      "box_office               3158 non-null float64\n",
      "dtypes: float64(5), object(11)\n",
      "memory usage: 8.9 MB\n"
     ]
    }
   ],
   "source": [
    "df = df_1.merge(df_2, on='puNumber', how='left')\n",
    "df.info(memory_usage='deep')"
   ]
  },
  {
   "cell_type": "markdown",
   "metadata": {},
   "source": [
    "Присоединение прошло успешно, все 3158 записей файла `mkrf_shows` нашли своё место."
   ]
  },
  {
   "cell_type": "code",
   "execution_count": 10,
   "metadata": {
    "scrolled": false
   },
   "outputs": [
    {
     "data": {
      "text/html": [
       "<div>\n",
       "<style scoped>\n",
       "    .dataframe tbody tr th:only-of-type {\n",
       "        vertical-align: middle;\n",
       "    }\n",
       "\n",
       "    .dataframe tbody tr th {\n",
       "        vertical-align: top;\n",
       "    }\n",
       "\n",
       "    .dataframe thead th {\n",
       "        text-align: right;\n",
       "    }\n",
       "</style>\n",
       "<table border=\"1\" class=\"dataframe\">\n",
       "  <thead>\n",
       "    <tr style=\"text-align: right;\">\n",
       "      <th></th>\n",
       "      <th>title</th>\n",
       "      <th>puNumber</th>\n",
       "      <th>show_start_date</th>\n",
       "      <th>type</th>\n",
       "      <th>film_studio</th>\n",
       "      <th>production_country</th>\n",
       "      <th>director</th>\n",
       "      <th>producer</th>\n",
       "      <th>age_restriction</th>\n",
       "      <th>refundable_support</th>\n",
       "      <th>nonrefundable_support</th>\n",
       "      <th>budget</th>\n",
       "      <th>financing_source</th>\n",
       "      <th>ratings</th>\n",
       "      <th>genres</th>\n",
       "      <th>box_office</th>\n",
       "    </tr>\n",
       "  </thead>\n",
       "  <tbody>\n",
       "    <tr>\n",
       "      <td>0</td>\n",
       "      <td>Открытый простор</td>\n",
       "      <td>221,048,915.00</td>\n",
       "      <td>2015-11-27T12:00:00.000Z</td>\n",
       "      <td>Художественный</td>\n",
       "      <td>Тачстоун Пикчерз, Кобальт Пикчерз, Бикон Пикче...</td>\n",
       "      <td>США</td>\n",
       "      <td>Кевин Костнер</td>\n",
       "      <td>Дэвид Валдес, Кевин Костнер, Джейк Эбертс</td>\n",
       "      <td>«18+» - запрещено для детей</td>\n",
       "      <td>nan</td>\n",
       "      <td>nan</td>\n",
       "      <td>nan</td>\n",
       "      <td>NaN</td>\n",
       "      <td>7.2</td>\n",
       "      <td>боевик,драма,мелодрама</td>\n",
       "      <td>nan</td>\n",
       "    </tr>\n",
       "    <tr>\n",
       "      <td>1</td>\n",
       "      <td>Особо важное задание</td>\n",
       "      <td>111,013,716.00</td>\n",
       "      <td>2016-09-13T12:00:00.000Z</td>\n",
       "      <td>Художественный</td>\n",
       "      <td>Киностудия \"Мосфильм\"</td>\n",
       "      <td>СССР</td>\n",
       "      <td>Е.Матвеев</td>\n",
       "      <td>NaN</td>\n",
       "      <td>«6+» - для детей старше 6 лет</td>\n",
       "      <td>nan</td>\n",
       "      <td>nan</td>\n",
       "      <td>nan</td>\n",
       "      <td>NaN</td>\n",
       "      <td>6.6</td>\n",
       "      <td>драма,военный</td>\n",
       "      <td>nan</td>\n",
       "    </tr>\n",
       "    <tr>\n",
       "      <td>2</td>\n",
       "      <td>Особо опасен</td>\n",
       "      <td>221,038,416.00</td>\n",
       "      <td>2016-10-10T12:00:00.000Z</td>\n",
       "      <td>Художественный</td>\n",
       "      <td>Юниверсал Пикчерз, Кикстарт Продакшнз, Марк Пл...</td>\n",
       "      <td>США</td>\n",
       "      <td>Тимур Бекмамбетов</td>\n",
       "      <td>Джим Лемли, Джейсон Нетер, Марк Е.Платт, Яйн Смит</td>\n",
       "      <td>«18+» - запрещено для детей</td>\n",
       "      <td>nan</td>\n",
       "      <td>nan</td>\n",
       "      <td>nan</td>\n",
       "      <td>NaN</td>\n",
       "      <td>6.8</td>\n",
       "      <td>фантастика,боевик,триллер</td>\n",
       "      <td>nan</td>\n",
       "    </tr>\n",
       "    <tr>\n",
       "      <td>3</td>\n",
       "      <td>Особо опасен</td>\n",
       "      <td>221,026,916.00</td>\n",
       "      <td>2016-06-10T12:00:00.000Z</td>\n",
       "      <td>Художественный</td>\n",
       "      <td>Юниверсал Пикчерз, Кикстарт Продакшнз, Марк Пл...</td>\n",
       "      <td>США</td>\n",
       "      <td>Тимур Бекмамбетов</td>\n",
       "      <td>Джим Лемли, Джейсон Нетер, Марк Е.Платт, Яйн Смит</td>\n",
       "      <td>«18+» - запрещено для детей</td>\n",
       "      <td>nan</td>\n",
       "      <td>nan</td>\n",
       "      <td>nan</td>\n",
       "      <td>NaN</td>\n",
       "      <td>6.8</td>\n",
       "      <td>фантастика,боевик,триллер</td>\n",
       "      <td>nan</td>\n",
       "    </tr>\n",
       "    <tr>\n",
       "      <td>4</td>\n",
       "      <td>Особо опасен</td>\n",
       "      <td>221,030,815.00</td>\n",
       "      <td>2015-07-29T12:00:00.000Z</td>\n",
       "      <td>Художественный</td>\n",
       "      <td>Юниверсал Пикчерз, Кикстарт Продакшнз, Марк Пл...</td>\n",
       "      <td>США</td>\n",
       "      <td>Тимур Бекмамбетов</td>\n",
       "      <td>Джим Лемли, Джейсон Нетер, Марк Е.Платт, Яйн Смит</td>\n",
       "      <td>«18+» - запрещено для детей</td>\n",
       "      <td>nan</td>\n",
       "      <td>nan</td>\n",
       "      <td>nan</td>\n",
       "      <td>NaN</td>\n",
       "      <td>6.8</td>\n",
       "      <td>фантастика,боевик,триллер</td>\n",
       "      <td>nan</td>\n",
       "    </tr>\n",
       "  </tbody>\n",
       "</table>\n",
       "</div>"
      ],
      "text/plain": [
       "                  title       puNumber           show_start_date  \\\n",
       "0      Открытый простор 221,048,915.00  2015-11-27T12:00:00.000Z   \n",
       "1  Особо важное задание 111,013,716.00  2016-09-13T12:00:00.000Z   \n",
       "2          Особо опасен 221,038,416.00  2016-10-10T12:00:00.000Z   \n",
       "3          Особо опасен 221,026,916.00  2016-06-10T12:00:00.000Z   \n",
       "4          Особо опасен 221,030,815.00  2015-07-29T12:00:00.000Z   \n",
       "\n",
       "             type                                        film_studio  \\\n",
       "0  Художественный  Тачстоун Пикчерз, Кобальт Пикчерз, Бикон Пикче...   \n",
       "1  Художественный                              Киностудия \"Мосфильм\"   \n",
       "2  Художественный  Юниверсал Пикчерз, Кикстарт Продакшнз, Марк Пл...   \n",
       "3  Художественный  Юниверсал Пикчерз, Кикстарт Продакшнз, Марк Пл...   \n",
       "4  Художественный  Юниверсал Пикчерз, Кикстарт Продакшнз, Марк Пл...   \n",
       "\n",
       "  production_country           director  \\\n",
       "0                США      Кевин Костнер   \n",
       "1               СССР          Е.Матвеев   \n",
       "2                США  Тимур Бекмамбетов   \n",
       "3                США  Тимур Бекмамбетов   \n",
       "4                США  Тимур Бекмамбетов   \n",
       "\n",
       "                                            producer  \\\n",
       "0          Дэвид Валдес, Кевин Костнер, Джейк Эбертс   \n",
       "1                                                NaN   \n",
       "2  Джим Лемли, Джейсон Нетер, Марк Е.Платт, Яйн Смит   \n",
       "3  Джим Лемли, Джейсон Нетер, Марк Е.Платт, Яйн Смит   \n",
       "4  Джим Лемли, Джейсон Нетер, Марк Е.Платт, Яйн Смит   \n",
       "\n",
       "                 age_restriction  refundable_support  nonrefundable_support  \\\n",
       "0    «18+» - запрещено для детей                 nan                    nan   \n",
       "1  «6+» - для детей старше 6 лет                 nan                    nan   \n",
       "2    «18+» - запрещено для детей                 nan                    nan   \n",
       "3    «18+» - запрещено для детей                 nan                    nan   \n",
       "4    «18+» - запрещено для детей                 nan                    nan   \n",
       "\n",
       "   budget financing_source ratings                     genres  box_office  \n",
       "0     nan              NaN     7.2     боевик,драма,мелодрама         nan  \n",
       "1     nan              NaN     6.6              драма,военный         nan  \n",
       "2     nan              NaN     6.8  фантастика,боевик,триллер         nan  \n",
       "3     nan              NaN     6.8  фантастика,боевик,триллер         nan  \n",
       "4     nan              NaN     6.8  фантастика,боевик,триллер         nan  "
      ]
     },
     "execution_count": 10,
     "metadata": {},
     "output_type": "execute_result"
    }
   ],
   "source": [
    "df.head()"
   ]
  },
  {
   "cell_type": "code",
   "execution_count": 11,
   "metadata": {},
   "outputs": [
    {
     "name": "stdout",
     "output_type": "stream",
     "text": [
      "<class 'pandas.core.frame.DataFrame'>\n",
      "Int64Index: 7486 entries, 0 to 7485\n",
      "Data columns (total 16 columns):\n",
      "title                    7486 non-null object\n",
      "puNumber                 7485 non-null float64\n",
      "show_start_date          7486 non-null object\n",
      "type                     7486 non-null object\n",
      "film_studio              7468 non-null object\n",
      "production_country       7484 non-null object\n",
      "director                 7477 non-null object\n",
      "producer                 6918 non-null object\n",
      "age_restriction          7486 non-null object\n",
      "refundable_support       332 non-null float64\n",
      "nonrefundable_support    332 non-null float64\n",
      "budget                   332 non-null float64\n",
      "financing_source         332 non-null object\n",
      "ratings                  6519 non-null object\n",
      "genres                   6510 non-null object\n",
      "box_office               3158 non-null float64\n",
      "dtypes: float64(5), object(11)\n",
      "memory usage: 994.2+ KB\n"
     ]
    }
   ],
   "source": [
    "df.info()"
   ]
  },
  {
   "cell_type": "code",
   "execution_count": 12,
   "metadata": {
    "scrolled": true
   },
   "outputs": [
    {
     "data": {
      "text/html": [
       "<div>\n",
       "<style scoped>\n",
       "    .dataframe tbody tr th:only-of-type {\n",
       "        vertical-align: middle;\n",
       "    }\n",
       "\n",
       "    .dataframe tbody tr th {\n",
       "        vertical-align: top;\n",
       "    }\n",
       "\n",
       "    .dataframe thead th {\n",
       "        text-align: right;\n",
       "    }\n",
       "</style>\n",
       "<table border=\"1\" class=\"dataframe\">\n",
       "  <thead>\n",
       "    <tr style=\"text-align: right;\">\n",
       "      <th></th>\n",
       "      <th>count</th>\n",
       "      <th>mean</th>\n",
       "      <th>std</th>\n",
       "      <th>min</th>\n",
       "      <th>25%</th>\n",
       "      <th>50%</th>\n",
       "      <th>75%</th>\n",
       "      <th>max</th>\n",
       "    </tr>\n",
       "  </thead>\n",
       "  <tbody>\n",
       "    <tr>\n",
       "      <td>puNumber</td>\n",
       "      <td>7,485.00</td>\n",
       "      <td>135,196,587.56</td>\n",
       "      <td>38,352,919.34</td>\n",
       "      <td>1,811,096.00</td>\n",
       "      <td>112,025,118.00</td>\n",
       "      <td>121,015,510.00</td>\n",
       "      <td>124,003,314.00</td>\n",
       "      <td>231,001,111.00</td>\n",
       "    </tr>\n",
       "    <tr>\n",
       "      <td>refundable_support</td>\n",
       "      <td>332.00</td>\n",
       "      <td>11,864,457.83</td>\n",
       "      <td>24,916,555.26</td>\n",
       "      <td>0.00</td>\n",
       "      <td>0.00</td>\n",
       "      <td>0.00</td>\n",
       "      <td>15,000,000.00</td>\n",
       "      <td>180,000,000.00</td>\n",
       "    </tr>\n",
       "    <tr>\n",
       "      <td>nonrefundable_support</td>\n",
       "      <td>332.00</td>\n",
       "      <td>48,980,988.89</td>\n",
       "      <td>59,980,117.92</td>\n",
       "      <td>0.00</td>\n",
       "      <td>25,000,000.00</td>\n",
       "      <td>30,000,000.00</td>\n",
       "      <td>40,375,000.00</td>\n",
       "      <td>400,000,000.00</td>\n",
       "    </tr>\n",
       "    <tr>\n",
       "      <td>budget</td>\n",
       "      <td>332.00</td>\n",
       "      <td>127,229,716.68</td>\n",
       "      <td>188,588,333.12</td>\n",
       "      <td>0.00</td>\n",
       "      <td>42,000,000.00</td>\n",
       "      <td>68,649,916.00</td>\n",
       "      <td>141,985,319.50</td>\n",
       "      <td>2,305,074,303.00</td>\n",
       "    </tr>\n",
       "    <tr>\n",
       "      <td>box_office</td>\n",
       "      <td>3,158.00</td>\n",
       "      <td>76,478,696.16</td>\n",
       "      <td>240,353,122.82</td>\n",
       "      <td>0.00</td>\n",
       "      <td>86,239.00</td>\n",
       "      <td>2,327,987.55</td>\n",
       "      <td>23,979,671.02</td>\n",
       "      <td>3,073,568,690.79</td>\n",
       "    </tr>\n",
       "  </tbody>\n",
       "</table>\n",
       "</div>"
      ],
      "text/plain": [
       "                         count           mean            std          min  \\\n",
       "puNumber              7,485.00 135,196,587.56  38,352,919.34 1,811,096.00   \n",
       "refundable_support      332.00  11,864,457.83  24,916,555.26         0.00   \n",
       "nonrefundable_support   332.00  48,980,988.89  59,980,117.92         0.00   \n",
       "budget                  332.00 127,229,716.68 188,588,333.12         0.00   \n",
       "box_office            3,158.00  76,478,696.16 240,353,122.82         0.00   \n",
       "\n",
       "                                 25%            50%            75%  \\\n",
       "puNumber              112,025,118.00 121,015,510.00 124,003,314.00   \n",
       "refundable_support              0.00           0.00  15,000,000.00   \n",
       "nonrefundable_support  25,000,000.00  30,000,000.00  40,375,000.00   \n",
       "budget                 42,000,000.00  68,649,916.00 141,985,319.50   \n",
       "box_office                 86,239.00   2,327,987.55  23,979,671.02   \n",
       "\n",
       "                                   max  \n",
       "puNumber                231,001,111.00  \n",
       "refundable_support      180,000,000.00  \n",
       "nonrefundable_support   400,000,000.00  \n",
       "budget                2,305,074,303.00  \n",
       "box_office            3,073,568,690.79  "
      ]
     },
     "execution_count": 12,
     "metadata": {},
     "output_type": "execute_result"
    }
   ],
   "source": [
    "df.describe().T"
   ]
  },
  {
   "cell_type": "code",
   "execution_count": 13,
   "metadata": {},
   "outputs": [
    {
     "data": {
      "text/html": [
       "<div>\n",
       "<style scoped>\n",
       "    .dataframe tbody tr th:only-of-type {\n",
       "        vertical-align: middle;\n",
       "    }\n",
       "\n",
       "    .dataframe tbody tr th {\n",
       "        vertical-align: top;\n",
       "    }\n",
       "\n",
       "    .dataframe thead th {\n",
       "        text-align: right;\n",
       "    }\n",
       "</style>\n",
       "<table border=\"1\" class=\"dataframe\">\n",
       "  <thead>\n",
       "    <tr style=\"text-align: right;\">\n",
       "      <th></th>\n",
       "      <th>title</th>\n",
       "      <th>puNumber</th>\n",
       "      <th>show_start_date</th>\n",
       "      <th>type</th>\n",
       "      <th>film_studio</th>\n",
       "      <th>production_country</th>\n",
       "      <th>director</th>\n",
       "      <th>producer</th>\n",
       "      <th>age_restriction</th>\n",
       "      <th>refundable_support</th>\n",
       "      <th>nonrefundable_support</th>\n",
       "      <th>budget</th>\n",
       "      <th>financing_source</th>\n",
       "      <th>ratings</th>\n",
       "      <th>genres</th>\n",
       "      <th>box_office</th>\n",
       "    </tr>\n",
       "  </thead>\n",
       "  <tbody>\n",
       "    <tr>\n",
       "      <td>1797</td>\n",
       "      <td>Курбан-роман. (История с жертвой)</td>\n",
       "      <td>nan</td>\n",
       "      <td>2014-05-15T12:00:00.000Z</td>\n",
       "      <td>Художественный</td>\n",
       "      <td>ФОНД \"ИННОВАЦИЯ\"</td>\n",
       "      <td>Россия</td>\n",
       "      <td>С.Юзеев</td>\n",
       "      <td>М.Галицкая</td>\n",
       "      <td>«12+» - для детей старше 12 лет</td>\n",
       "      <td>nan</td>\n",
       "      <td>nan</td>\n",
       "      <td>nan</td>\n",
       "      <td>NaN</td>\n",
       "      <td>NaN</td>\n",
       "      <td>NaN</td>\n",
       "      <td>nan</td>\n",
       "    </tr>\n",
       "  </tbody>\n",
       "</table>\n",
       "</div>"
      ],
      "text/plain": [
       "                                  title  puNumber           show_start_date  \\\n",
       "1797  Курбан-роман. (История с жертвой)       nan  2014-05-15T12:00:00.000Z   \n",
       "\n",
       "                type       film_studio production_country director  \\\n",
       "1797  Художественный  ФОНД \"ИННОВАЦИЯ\"             Россия  С.Юзеев   \n",
       "\n",
       "        producer                  age_restriction  refundable_support  \\\n",
       "1797  М.Галицкая  «12+» - для детей старше 12 лет                 nan   \n",
       "\n",
       "      nonrefundable_support  budget financing_source ratings genres  \\\n",
       "1797                    nan     nan              NaN     NaN    NaN   \n",
       "\n",
       "      box_office  \n",
       "1797         nan  "
      ]
     },
     "execution_count": 13,
     "metadata": {},
     "output_type": "execute_result"
    }
   ],
   "source": [
    "df.query('puNumber.isna()')"
   ]
  },
  {
   "cell_type": "code",
   "execution_count": 14,
   "metadata": {
    "scrolled": true
   },
   "outputs": [
    {
     "data": {
      "text/plain": [
       "array(['Художественный', 'Анимационный', 'Прочие', 'Документальный',\n",
       "       'Научно-популярный', ' Художественный', ' Анимационный',\n",
       "       'Музыкально-развлекательный'], dtype=object)"
      ]
     },
     "execution_count": 14,
     "metadata": {},
     "output_type": "execute_result"
    }
   ],
   "source": [
    "df['type'].unique()"
   ]
  },
  {
   "cell_type": "code",
   "execution_count": 15,
   "metadata": {},
   "outputs": [
    {
     "data": {
      "text/plain": [
       "5491"
      ]
     },
     "execution_count": 15,
     "metadata": {},
     "output_type": "execute_result"
    }
   ],
   "source": [
    "len(df['film_studio'].unique())"
   ]
  },
  {
   "cell_type": "code",
   "execution_count": 16,
   "metadata": {},
   "outputs": [
    {
     "data": {
      "text/html": [
       "<div>\n",
       "<style scoped>\n",
       "    .dataframe tbody tr th:only-of-type {\n",
       "        vertical-align: middle;\n",
       "    }\n",
       "\n",
       "    .dataframe tbody tr th {\n",
       "        vertical-align: top;\n",
       "    }\n",
       "\n",
       "    .dataframe thead th {\n",
       "        text-align: right;\n",
       "    }\n",
       "</style>\n",
       "<table border=\"1\" class=\"dataframe\">\n",
       "  <thead>\n",
       "    <tr style=\"text-align: right;\">\n",
       "      <th></th>\n",
       "      <th>title</th>\n",
       "      <th>puNumber</th>\n",
       "      <th>show_start_date</th>\n",
       "      <th>type</th>\n",
       "      <th>film_studio</th>\n",
       "      <th>production_country</th>\n",
       "      <th>director</th>\n",
       "      <th>producer</th>\n",
       "      <th>age_restriction</th>\n",
       "      <th>refundable_support</th>\n",
       "      <th>nonrefundable_support</th>\n",
       "      <th>budget</th>\n",
       "      <th>financing_source</th>\n",
       "      <th>ratings</th>\n",
       "      <th>genres</th>\n",
       "      <th>box_office</th>\n",
       "    </tr>\n",
       "  </thead>\n",
       "  <tbody>\n",
       "    <tr>\n",
       "      <td>3186</td>\n",
       "      <td>Детский юмористический киножурнал \"Ералаш. Ну ...</td>\n",
       "      <td>111,001,216.00</td>\n",
       "      <td>2016-02-09T12:00:00.000Z</td>\n",
       "      <td>Художественный</td>\n",
       "      <td>ООО \"Продюсерский центр ЕРАЛАШ\"</td>\n",
       "      <td>NaN</td>\n",
       "      <td>Р.Светлов, И.Магитон, А.Арутюнян, Л.Мирский, А...</td>\n",
       "      <td>ООО \"Продюсерский центр ЕРАЛАШ\"</td>\n",
       "      <td>«0+» - для любой зрительской аудитории</td>\n",
       "      <td>nan</td>\n",
       "      <td>nan</td>\n",
       "      <td>nan</td>\n",
       "      <td>NaN</td>\n",
       "      <td>7.2</td>\n",
       "      <td>детский,комедия</td>\n",
       "      <td>194,527.00</td>\n",
       "    </tr>\n",
       "    <tr>\n",
       "      <td>4441</td>\n",
       "      <td>Мульт личности. Выпуск 5</td>\n",
       "      <td>214,000,410.00</td>\n",
       "      <td>2010-01-25T12:00:00.000Z</td>\n",
       "      <td>Художественный</td>\n",
       "      <td>NaN</td>\n",
       "      <td>NaN</td>\n",
       "      <td>NaN</td>\n",
       "      <td>NaN</td>\n",
       "      <td>«0+» - для любой зрительской аудитории</td>\n",
       "      <td>nan</td>\n",
       "      <td>nan</td>\n",
       "      <td>nan</td>\n",
       "      <td>NaN</td>\n",
       "      <td>4.0</td>\n",
       "      <td>мультфильм,комедия</td>\n",
       "      <td>nan</td>\n",
       "    </tr>\n",
       "  </tbody>\n",
       "</table>\n",
       "</div>"
      ],
      "text/plain": [
       "                                                  title       puNumber  \\\n",
       "3186  Детский юмористический киножурнал \"Ералаш. Ну ... 111,001,216.00   \n",
       "4441                           Мульт личности. Выпуск 5 214,000,410.00   \n",
       "\n",
       "               show_start_date            type  \\\n",
       "3186  2016-02-09T12:00:00.000Z  Художественный   \n",
       "4441  2010-01-25T12:00:00.000Z  Художественный   \n",
       "\n",
       "                          film_studio production_country  \\\n",
       "3186  ООО \"Продюсерский центр ЕРАЛАШ\"                NaN   \n",
       "4441                              NaN                NaN   \n",
       "\n",
       "                                               director  \\\n",
       "3186  Р.Светлов, И.Магитон, А.Арутюнян, Л.Мирский, А...   \n",
       "4441                                                NaN   \n",
       "\n",
       "                             producer                         age_restriction  \\\n",
       "3186  ООО \"Продюсерский центр ЕРАЛАШ\"  «0+» - для любой зрительской аудитории   \n",
       "4441                              NaN  «0+» - для любой зрительской аудитории   \n",
       "\n",
       "      refundable_support  nonrefundable_support  budget financing_source  \\\n",
       "3186                 nan                    nan     nan              NaN   \n",
       "4441                 nan                    nan     nan              NaN   \n",
       "\n",
       "     ratings              genres  box_office  \n",
       "3186     7.2     детский,комедия  194,527.00  \n",
       "4441     4.0  мультфильм,комедия         nan  "
      ]
     },
     "execution_count": 16,
     "metadata": {},
     "output_type": "execute_result"
    }
   ],
   "source": [
    "df.query('production_country.isnull()')"
   ]
  },
  {
   "cell_type": "code",
   "execution_count": 17,
   "metadata": {},
   "outputs": [
    {
     "data": {
      "text/plain": [
       "951"
      ]
     },
     "execution_count": 17,
     "metadata": {},
     "output_type": "execute_result"
    }
   ],
   "source": [
    "len(df['production_country'].unique())"
   ]
  },
  {
   "cell_type": "code",
   "execution_count": 18,
   "metadata": {
    "scrolled": true
   },
   "outputs": [
    {
     "data": {
      "text/plain": [
       "array(['«18+» - запрещено для детей', '«6+» - для детей старше 6 лет',\n",
       "       '«12+» - для детей старше 12 лет',\n",
       "       '«16+» - для детей старше 16 лет',\n",
       "       '«0+» - для любой зрительской аудитории'], dtype=object)"
      ]
     },
     "execution_count": 18,
     "metadata": {},
     "output_type": "execute_result"
    }
   ],
   "source": [
    "df['age_restriction'].unique()"
   ]
  },
  {
   "cell_type": "code",
   "execution_count": 19,
   "metadata": {},
   "outputs": [
    {
     "data": {
      "text/plain": [
       "array(['7.2', '6.6', '6.8', '7.7', '8.3', '8.0', '7.8', '8.1', '7.1',\n",
       "       '6.0', '7.4', '5.8', '8.7', '6.3', '6.9', '5.0', '4.3', '7.3',\n",
       "       '7.0', '6.4', nan, '8.2', '7.5', '6.7', '7.9', '5.9', '6.2', '5.6',\n",
       "       '6.5', '2.4', '7.6', '6.1', '8.6', '8.5', '8.8', '5.5', '5.1',\n",
       "       '5.7', '5.4', '99%', '4.4', '4.5', '5.3', '4.1', '8.4', '2.6',\n",
       "       '3.8', '4.6', '4.8', '4.0', '3.0', '1.6', '4.2', '5.2', '4.7',\n",
       "       '4.9', '3.9', '2.7', '3.3', '2.9', '28%', '3.7', '1.4', '3.1',\n",
       "       '97%', '3.5', '3.2', '2.8', '1.5', '2.1', '2.5', '9.2', '3.4',\n",
       "       '1.1', '3.6', '83%', '64%', '91%', '94%', '62%', '79%', '90%',\n",
       "       '19%', '88%', '1.0', '89%', '1.3', '1.9', '1.8', '1.2', '1.7',\n",
       "       '9.0', '98%', '8.9', '9.1'], dtype=object)"
      ]
     },
     "execution_count": 19,
     "metadata": {},
     "output_type": "execute_result"
    }
   ],
   "source": [
    "df['ratings'].unique()"
   ]
  },
  {
   "cell_type": "code",
   "execution_count": 20,
   "metadata": {},
   "outputs": [
    {
     "data": {
      "text/plain": [
       "743"
      ]
     },
     "execution_count": 20,
     "metadata": {},
     "output_type": "execute_result"
    }
   ],
   "source": [
    "len(df['genres'].unique())"
   ]
  },
  {
   "cell_type": "markdown",
   "metadata": {},
   "source": [
    "**Вывод**\n",
    "\n",
    "Замечания по рассматриваемому датафрейму:\n",
    "\n",
    "* нарушение стиля в названии столбца `'puNumber'`;\n",
    "* пропуски в записях в столбцах;\n",
    "* неявные дубликаты в столбце `'type'`;\n",
    "* используются неоптимальные типы данных в столбцах `'show_start_date', 'puNumber', 'type', 'production_country', 'age_restriction', 'financing_source', 'ratings'`."
   ]
  },
  {
   "cell_type": "markdown",
   "metadata": {
    "id": "KLDGpPG0gFyM"
   },
   "source": [
    "## Предобработка данных"
   ]
  },
  {
   "cell_type": "markdown",
   "metadata": {},
   "source": [
    "### Форматирование заголовков"
   ]
  },
  {
   "cell_type": "code",
   "execution_count": 21,
   "metadata": {},
   "outputs": [
    {
     "data": {
      "text/plain": [
       "Index(['title', 'pu_number', 'show_start_date', 'type', 'film_studio',\n",
       "       'production_country', 'director', 'producer', 'age_restriction',\n",
       "       'refundable_support', 'nonrefundable_support', 'budget',\n",
       "       'financing_source', 'ratings', 'genres', 'box_office'],\n",
       "      dtype='object')"
      ]
     },
     "execution_count": 21,
     "metadata": {},
     "output_type": "execute_result"
    }
   ],
   "source": [
    "df = df.rename(columns={'puNumber': 'pu_number'})\n",
    "df.columns"
   ]
  },
  {
   "cell_type": "markdown",
   "metadata": {
    "id": "i0MOLbF-gFyP"
   },
   "source": [
    "### Обработка пропусков"
   ]
  },
  {
   "cell_type": "markdown",
   "metadata": {},
   "source": [
    "В столбце `'pu_number'` существует один пропуск, который может помешать изменить тип данных этого столбца. Заполним этот пропуск."
   ]
  },
  {
   "cell_type": "code",
   "execution_count": 22,
   "metadata": {},
   "outputs": [],
   "source": [
    "df['pu_number'] = df['pu_number'].fillna(0)"
   ]
  },
  {
   "cell_type": "markdown",
   "metadata": {},
   "source": [
    "В столбце `'production_country'` были обнаружены два пропуска. Записи с данными пропусками явно принадлежат отечественным произведениям."
   ]
  },
  {
   "cell_type": "code",
   "execution_count": 23,
   "metadata": {},
   "outputs": [],
   "source": [
    "df['production_country'] = df['production_country'].fillna('Россия')"
   ]
  },
  {
   "cell_type": "markdown",
   "metadata": {},
   "source": [
    "Пропуски в столбцах `'genres', 'director', 'producer' и 'film_studio'` заполним явными обозначениями"
   ]
  },
  {
   "cell_type": "code",
   "execution_count": 24,
   "metadata": {},
   "outputs": [],
   "source": [
    "df[['genres', 'director', 'producer', 'film_studio']] = df[['genres', 'director', 'producer', 'film_studio']].fillna('неизвестен')"
   ]
  },
  {
   "cell_type": "code",
   "execution_count": 25,
   "metadata": {},
   "outputs": [
    {
     "name": "stdout",
     "output_type": "stream",
     "text": [
      "<class 'pandas.core.frame.DataFrame'>\n",
      "Int64Index: 7486 entries, 0 to 7485\n",
      "Data columns (total 16 columns):\n",
      "title                    7486 non-null object\n",
      "pu_number                7486 non-null float64\n",
      "show_start_date          7486 non-null object\n",
      "type                     7486 non-null object\n",
      "film_studio              7486 non-null object\n",
      "production_country       7486 non-null object\n",
      "director                 7486 non-null object\n",
      "producer                 7486 non-null object\n",
      "age_restriction          7486 non-null object\n",
      "refundable_support       332 non-null float64\n",
      "nonrefundable_support    332 non-null float64\n",
      "budget                   332 non-null float64\n",
      "financing_source         332 non-null object\n",
      "ratings                  6519 non-null object\n",
      "genres                   7486 non-null object\n",
      "box_office               3158 non-null float64\n",
      "dtypes: float64(5), object(11)\n",
      "memory usage: 9.6 MB\n"
     ]
    }
   ],
   "source": [
    "df.info(memory_usage='deep')"
   ]
  },
  {
   "cell_type": "markdown",
   "metadata": {
    "id": "4c6k1t9ygFyQ"
   },
   "source": [
    "### Обработка дубликатов\n"
   ]
  },
  {
   "cell_type": "markdown",
   "metadata": {},
   "source": [
    "Проверим данные на наличие явных дубликатов:"
   ]
  },
  {
   "cell_type": "code",
   "execution_count": 26,
   "metadata": {
    "id": "aKck8RIdgFyQ"
   },
   "outputs": [
    {
     "name": "stdout",
     "output_type": "stream",
     "text": [
      "Явных дубликатов в данных: 0\n"
     ]
    }
   ],
   "source": [
    "print('Явных дубликатов в данных:', df.duplicated().sum())"
   ]
  },
  {
   "cell_type": "markdown",
   "metadata": {},
   "source": [
    "Избавимся от неявных дубликатов, обнаруженных в столбце `'type'`:"
   ]
  },
  {
   "cell_type": "code",
   "execution_count": 27,
   "metadata": {},
   "outputs": [
    {
     "data": {
      "text/plain": [
       "array(['Художественный', 'Анимационный', 'Прочие', 'Документальный',\n",
       "       'Научно-популярный', 'Музыкально-развлекательный'], dtype=object)"
      ]
     },
     "execution_count": 27,
     "metadata": {},
     "output_type": "execute_result"
    }
   ],
   "source": [
    "df['type'] = df['type'].str.strip()\n",
    "df['type'].unique()"
   ]
  },
  {
   "cell_type": "markdown",
   "metadata": {},
   "source": [
    "Можно предположить, что уникальные значения в каждой строке содержатся в столбцах `'title'` и `'pu_number'`. Поэтому стоит их проверить на наличие дубликатов."
   ]
  },
  {
   "cell_type": "markdown",
   "metadata": {},
   "source": [
    "Проверим наличие дубликатов в столбце `'title'`:"
   ]
  },
  {
   "cell_type": "code",
   "execution_count": 28,
   "metadata": {},
   "outputs": [
    {
     "data": {
      "text/plain": [
       "День святого Валентина_                             5\n",
       "Не брать живым /По книге Раджива Чандрасекарана/    4\n",
       "Двойной копец                                       4\n",
       "Знакомство с Факерами 2.                            4\n",
       "Прощание                                            4\n",
       "                                                   ..\n",
       "Необычайные приключения Адель                       1\n",
       "10 лет спустя                                       1\n",
       "Фламенко, фламенко                                  1\n",
       "Спасибо деду                                        1\n",
       "Мушкетеры в 3D                                      1\n",
       "Name: title, Length: 6772, dtype: int64"
      ]
     },
     "execution_count": 28,
     "metadata": {},
     "output_type": "execute_result"
    }
   ],
   "source": [
    "df['title'].value_counts()"
   ]
  },
  {
   "cell_type": "markdown",
   "metadata": {},
   "source": [
    "Имеют место быть повторяющиеся значения. Рассмотрим их внимательнее, на каком-либо примере:"
   ]
  },
  {
   "cell_type": "code",
   "execution_count": 29,
   "metadata": {
    "scrolled": false
   },
   "outputs": [
    {
     "data": {
      "text/html": [
       "<div>\n",
       "<style scoped>\n",
       "    .dataframe tbody tr th:only-of-type {\n",
       "        vertical-align: middle;\n",
       "    }\n",
       "\n",
       "    .dataframe tbody tr th {\n",
       "        vertical-align: top;\n",
       "    }\n",
       "\n",
       "    .dataframe thead th {\n",
       "        text-align: right;\n",
       "    }\n",
       "</style>\n",
       "<table border=\"1\" class=\"dataframe\">\n",
       "  <thead>\n",
       "    <tr style=\"text-align: right;\">\n",
       "      <th></th>\n",
       "      <th>title</th>\n",
       "      <th>pu_number</th>\n",
       "      <th>show_start_date</th>\n",
       "      <th>type</th>\n",
       "      <th>film_studio</th>\n",
       "      <th>production_country</th>\n",
       "      <th>director</th>\n",
       "      <th>producer</th>\n",
       "      <th>age_restriction</th>\n",
       "      <th>refundable_support</th>\n",
       "      <th>nonrefundable_support</th>\n",
       "      <th>budget</th>\n",
       "      <th>financing_source</th>\n",
       "      <th>ratings</th>\n",
       "      <th>genres</th>\n",
       "      <th>box_office</th>\n",
       "    </tr>\n",
       "  </thead>\n",
       "  <tbody>\n",
       "    <tr>\n",
       "      <td>3902</td>\n",
       "      <td>День святого Валентина_</td>\n",
       "      <td>221,083,810.00</td>\n",
       "      <td>2010-07-15T12:00:00.000Z</td>\n",
       "      <td>Художественный</td>\n",
       "      <td>Уорнер Бразерс, Нью Лайн Синема, Уэйн Райс, Ка...</td>\n",
       "      <td>США</td>\n",
       "      <td>Гарри Маршалл</td>\n",
       "      <td>Сэмюэл Дж.Браун</td>\n",
       "      <td>«16+» - для детей старше 16 лет</td>\n",
       "      <td>nan</td>\n",
       "      <td>nan</td>\n",
       "      <td>nan</td>\n",
       "      <td>NaN</td>\n",
       "      <td>6.7</td>\n",
       "      <td>мелодрама,комедия</td>\n",
       "      <td>nan</td>\n",
       "    </tr>\n",
       "    <tr>\n",
       "      <td>3991</td>\n",
       "      <td>День святого Валентина_</td>\n",
       "      <td>221,068,010.00</td>\n",
       "      <td>2010-05-14T12:00:00.000Z</td>\n",
       "      <td>Художественный</td>\n",
       "      <td>Уорнер Бразерс, Нью Лайн Синема, Уэйн Райс, Ка...</td>\n",
       "      <td>США</td>\n",
       "      <td>Гарри Маршалл</td>\n",
       "      <td>Сэмюэл Дж.Браун</td>\n",
       "      <td>«16+» - для детей старше 16 лет</td>\n",
       "      <td>nan</td>\n",
       "      <td>nan</td>\n",
       "      <td>nan</td>\n",
       "      <td>NaN</td>\n",
       "      <td>6.7</td>\n",
       "      <td>мелодрама,комедия</td>\n",
       "      <td>nan</td>\n",
       "    </tr>\n",
       "    <tr>\n",
       "      <td>4070</td>\n",
       "      <td>День святого Валентина_</td>\n",
       "      <td>121,002,210.00</td>\n",
       "      <td>2010-02-03T12:00:00.000Z</td>\n",
       "      <td>Художественный</td>\n",
       "      <td>Уорнер Бразерс, Нью Лайн Синема, Уэйн Райс, Ка...</td>\n",
       "      <td>США</td>\n",
       "      <td>Гарри Маршалл</td>\n",
       "      <td>Сэмюэл Дж.Браун</td>\n",
       "      <td>«16+» - для детей старше 16 лет</td>\n",
       "      <td>nan</td>\n",
       "      <td>nan</td>\n",
       "      <td>nan</td>\n",
       "      <td>NaN</td>\n",
       "      <td>6.7</td>\n",
       "      <td>мелодрама,комедия</td>\n",
       "      <td>nan</td>\n",
       "    </tr>\n",
       "    <tr>\n",
       "      <td>4196</td>\n",
       "      <td>День святого Валентина_</td>\n",
       "      <td>221,136,210.00</td>\n",
       "      <td>2010-11-30T12:00:00.000Z</td>\n",
       "      <td>Художественный</td>\n",
       "      <td>Уорнер Бразерс, Нью Лайн Синема, Уэйн Райс, Ка...</td>\n",
       "      <td>США</td>\n",
       "      <td>Гарри Маршалл</td>\n",
       "      <td>Сэмюэл Дж.Браун</td>\n",
       "      <td>«16+» - для детей старше 16 лет</td>\n",
       "      <td>nan</td>\n",
       "      <td>nan</td>\n",
       "      <td>nan</td>\n",
       "      <td>NaN</td>\n",
       "      <td>6.7</td>\n",
       "      <td>мелодрама,комедия</td>\n",
       "      <td>nan</td>\n",
       "    </tr>\n",
       "    <tr>\n",
       "      <td>5070</td>\n",
       "      <td>День святого Валентина_</td>\n",
       "      <td>221,066,410.00</td>\n",
       "      <td>2010-06-01T12:00:00.000Z</td>\n",
       "      <td>Художественный</td>\n",
       "      <td>Уорнер Бразерс, Нью Лайн Синема, Уэйн Райс, Ка...</td>\n",
       "      <td>США</td>\n",
       "      <td>Гарри Маршалл</td>\n",
       "      <td>Сэмюэл Дж.Браун</td>\n",
       "      <td>«16+» - для детей старше 16 лет</td>\n",
       "      <td>nan</td>\n",
       "      <td>nan</td>\n",
       "      <td>nan</td>\n",
       "      <td>NaN</td>\n",
       "      <td>6.7</td>\n",
       "      <td>мелодрама,комедия</td>\n",
       "      <td>nan</td>\n",
       "    </tr>\n",
       "  </tbody>\n",
       "</table>\n",
       "</div>"
      ],
      "text/plain": [
       "                        title      pu_number           show_start_date  \\\n",
       "3902  День святого Валентина_ 221,083,810.00  2010-07-15T12:00:00.000Z   \n",
       "3991  День святого Валентина_ 221,068,010.00  2010-05-14T12:00:00.000Z   \n",
       "4070  День святого Валентина_ 121,002,210.00  2010-02-03T12:00:00.000Z   \n",
       "4196  День святого Валентина_ 221,136,210.00  2010-11-30T12:00:00.000Z   \n",
       "5070  День святого Валентина_ 221,066,410.00  2010-06-01T12:00:00.000Z   \n",
       "\n",
       "                type                                        film_studio  \\\n",
       "3902  Художественный  Уорнер Бразерс, Нью Лайн Синема, Уэйн Райс, Ка...   \n",
       "3991  Художественный  Уорнер Бразерс, Нью Лайн Синема, Уэйн Райс, Ка...   \n",
       "4070  Художественный  Уорнер Бразерс, Нью Лайн Синема, Уэйн Райс, Ка...   \n",
       "4196  Художественный  Уорнер Бразерс, Нью Лайн Синема, Уэйн Райс, Ка...   \n",
       "5070  Художественный  Уорнер Бразерс, Нью Лайн Синема, Уэйн Райс, Ка...   \n",
       "\n",
       "     production_country       director         producer  \\\n",
       "3902                США  Гарри Маршалл  Сэмюэл Дж.Браун   \n",
       "3991                США  Гарри Маршалл  Сэмюэл Дж.Браун   \n",
       "4070                США  Гарри Маршалл  Сэмюэл Дж.Браун   \n",
       "4196                США  Гарри Маршалл  Сэмюэл Дж.Браун   \n",
       "5070                США  Гарри Маршалл  Сэмюэл Дж.Браун   \n",
       "\n",
       "                      age_restriction  refundable_support  \\\n",
       "3902  «16+» - для детей старше 16 лет                 nan   \n",
       "3991  «16+» - для детей старше 16 лет                 nan   \n",
       "4070  «16+» - для детей старше 16 лет                 nan   \n",
       "4196  «16+» - для детей старше 16 лет                 nan   \n",
       "5070  «16+» - для детей старше 16 лет                 nan   \n",
       "\n",
       "      nonrefundable_support  budget financing_source ratings  \\\n",
       "3902                    nan     nan              NaN     6.7   \n",
       "3991                    nan     nan              NaN     6.7   \n",
       "4070                    nan     nan              NaN     6.7   \n",
       "4196                    nan     nan              NaN     6.7   \n",
       "5070                    nan     nan              NaN     6.7   \n",
       "\n",
       "                 genres  box_office  \n",
       "3902  мелодрама,комедия         nan  \n",
       "3991  мелодрама,комедия         nan  \n",
       "4070  мелодрама,комедия         nan  \n",
       "4196  мелодрама,комедия         nan  \n",
       "5070  мелодрама,комедия         nan  "
      ]
     },
     "execution_count": 29,
     "metadata": {},
     "output_type": "execute_result"
    }
   ],
   "source": [
    "df.query('title==\"День святого Валентина_\"')"
   ]
  },
  {
   "cell_type": "markdown",
   "metadata": {},
   "source": [
    "И еще для примера:"
   ]
  },
  {
   "cell_type": "code",
   "execution_count": 30,
   "metadata": {},
   "outputs": [
    {
     "data": {
      "text/html": [
       "<div>\n",
       "<style scoped>\n",
       "    .dataframe tbody tr th:only-of-type {\n",
       "        vertical-align: middle;\n",
       "    }\n",
       "\n",
       "    .dataframe tbody tr th {\n",
       "        vertical-align: top;\n",
       "    }\n",
       "\n",
       "    .dataframe thead th {\n",
       "        text-align: right;\n",
       "    }\n",
       "</style>\n",
       "<table border=\"1\" class=\"dataframe\">\n",
       "  <thead>\n",
       "    <tr style=\"text-align: right;\">\n",
       "      <th></th>\n",
       "      <th>title</th>\n",
       "      <th>pu_number</th>\n",
       "      <th>show_start_date</th>\n",
       "      <th>type</th>\n",
       "      <th>film_studio</th>\n",
       "      <th>production_country</th>\n",
       "      <th>director</th>\n",
       "      <th>producer</th>\n",
       "      <th>age_restriction</th>\n",
       "      <th>refundable_support</th>\n",
       "      <th>nonrefundable_support</th>\n",
       "      <th>budget</th>\n",
       "      <th>financing_source</th>\n",
       "      <th>ratings</th>\n",
       "      <th>genres</th>\n",
       "      <th>box_office</th>\n",
       "    </tr>\n",
       "  </thead>\n",
       "  <tbody>\n",
       "    <tr>\n",
       "      <td>3794</td>\n",
       "      <td>Жена путешественника во времени</td>\n",
       "      <td>221,010,310.00</td>\n",
       "      <td>2010-01-15T12:00:00.000Z</td>\n",
       "      <td>Художественный</td>\n",
       "      <td>Уорнер Бразерс, Нью Лайн Синема, Плэн Би</td>\n",
       "      <td>США</td>\n",
       "      <td>Роберт Швентке</td>\n",
       "      <td>Деде Гарднер, Ник Уэкслер</td>\n",
       "      <td>«16+» - для детей старше 16 лет</td>\n",
       "      <td>nan</td>\n",
       "      <td>nan</td>\n",
       "      <td>nan</td>\n",
       "      <td>NaN</td>\n",
       "      <td>7.6</td>\n",
       "      <td>фантастика,фэнтези,драма</td>\n",
       "      <td>nan</td>\n",
       "    </tr>\n",
       "    <tr>\n",
       "      <td>4077</td>\n",
       "      <td>Жена путешественника во времени</td>\n",
       "      <td>221,004,110.00</td>\n",
       "      <td>2010-01-19T12:00:00.000Z</td>\n",
       "      <td>Художественный</td>\n",
       "      <td>Уорнер Бразерс, Нью Лайн Синема, Плэн Би</td>\n",
       "      <td>США</td>\n",
       "      <td>Роберт Швентке</td>\n",
       "      <td>Деде Гарднер, Ник Уэкслер</td>\n",
       "      <td>«16+» - для детей старше 16 лет</td>\n",
       "      <td>nan</td>\n",
       "      <td>nan</td>\n",
       "      <td>nan</td>\n",
       "      <td>NaN</td>\n",
       "      <td>7.6</td>\n",
       "      <td>фантастика,фэнтези,драма</td>\n",
       "      <td>nan</td>\n",
       "    </tr>\n",
       "    <tr>\n",
       "      <td>4096</td>\n",
       "      <td>Жена путешественника во времени</td>\n",
       "      <td>221,055,510.00</td>\n",
       "      <td>2010-04-14T12:00:00.000Z</td>\n",
       "      <td>Художественный</td>\n",
       "      <td>Уорнер Бразерс, Нью Лайн Синема, Плэн Би</td>\n",
       "      <td>США</td>\n",
       "      <td>Роберт Швентке</td>\n",
       "      <td>Деде Гарднер, Ник Уэкслер</td>\n",
       "      <td>«16+» - для детей старше 16 лет</td>\n",
       "      <td>nan</td>\n",
       "      <td>nan</td>\n",
       "      <td>nan</td>\n",
       "      <td>NaN</td>\n",
       "      <td>7.6</td>\n",
       "      <td>фантастика,фэнтези,драма</td>\n",
       "      <td>nan</td>\n",
       "    </tr>\n",
       "    <tr>\n",
       "      <td>4829</td>\n",
       "      <td>Жена путешественника во времени</td>\n",
       "      <td>221,014,211.00</td>\n",
       "      <td>2011-01-25T12:00:00.000Z</td>\n",
       "      <td>Художественный</td>\n",
       "      <td>Уорнер Бразерс, Нью Лайн Синема, Плэн Би</td>\n",
       "      <td>США</td>\n",
       "      <td>Роберт Швентке</td>\n",
       "      <td>Деде Гарднер, Ник Уэкслер</td>\n",
       "      <td>«16+» - для детей старше 16 лет</td>\n",
       "      <td>nan</td>\n",
       "      <td>nan</td>\n",
       "      <td>nan</td>\n",
       "      <td>NaN</td>\n",
       "      <td>7.6</td>\n",
       "      <td>фантастика,фэнтези,драма</td>\n",
       "      <td>nan</td>\n",
       "    </tr>\n",
       "  </tbody>\n",
       "</table>\n",
       "</div>"
      ],
      "text/plain": [
       "                                title      pu_number  \\\n",
       "3794  Жена путешественника во времени 221,010,310.00   \n",
       "4077  Жена путешественника во времени 221,004,110.00   \n",
       "4096  Жена путешественника во времени 221,055,510.00   \n",
       "4829  Жена путешественника во времени 221,014,211.00   \n",
       "\n",
       "               show_start_date            type  \\\n",
       "3794  2010-01-15T12:00:00.000Z  Художественный   \n",
       "4077  2010-01-19T12:00:00.000Z  Художественный   \n",
       "4096  2010-04-14T12:00:00.000Z  Художественный   \n",
       "4829  2011-01-25T12:00:00.000Z  Художественный   \n",
       "\n",
       "                                   film_studio production_country  \\\n",
       "3794  Уорнер Бразерс, Нью Лайн Синема, Плэн Би                США   \n",
       "4077  Уорнер Бразерс, Нью Лайн Синема, Плэн Би                США   \n",
       "4096  Уорнер Бразерс, Нью Лайн Синема, Плэн Би                США   \n",
       "4829  Уорнер Бразерс, Нью Лайн Синема, Плэн Би                США   \n",
       "\n",
       "            director                   producer  \\\n",
       "3794  Роберт Швентке  Деде Гарднер, Ник Уэкслер   \n",
       "4077  Роберт Швентке  Деде Гарднер, Ник Уэкслер   \n",
       "4096  Роберт Швентке  Деде Гарднер, Ник Уэкслер   \n",
       "4829  Роберт Швентке  Деде Гарднер, Ник Уэкслер   \n",
       "\n",
       "                      age_restriction  refundable_support  \\\n",
       "3794  «16+» - для детей старше 16 лет                 nan   \n",
       "4077  «16+» - для детей старше 16 лет                 nan   \n",
       "4096  «16+» - для детей старше 16 лет                 nan   \n",
       "4829  «16+» - для детей старше 16 лет                 nan   \n",
       "\n",
       "      nonrefundable_support  budget financing_source ratings  \\\n",
       "3794                    nan     nan              NaN     7.6   \n",
       "4077                    nan     nan              NaN     7.6   \n",
       "4096                    nan     nan              NaN     7.6   \n",
       "4829                    nan     nan              NaN     7.6   \n",
       "\n",
       "                        genres  box_office  \n",
       "3794  фантастика,фэнтези,драма         nan  \n",
       "4077  фантастика,фэнтези,драма         nan  \n",
       "4096  фантастика,фэнтези,драма         nan  \n",
       "4829  фантастика,фэнтези,драма         nan  "
      ]
     },
     "execution_count": 30,
     "metadata": {},
     "output_type": "execute_result"
    }
   ],
   "source": [
    "df.query('title==\"Жена путешественника во времени\"')"
   ]
  },
  {
   "cell_type": "markdown",
   "metadata": {},
   "source": [
    "Очевидно, что записи с одинаковыми названиями фильмов имеют разные номера прокатных удостоверений и даты премьер."
   ]
  },
  {
   "cell_type": "markdown",
   "metadata": {},
   "source": [
    "Найдем общее количество повторов в столбце `'title'`: "
   ]
  },
  {
   "cell_type": "code",
   "execution_count": 31,
   "metadata": {},
   "outputs": [
    {
     "name": "stdout",
     "output_type": "stream",
     "text": [
      "Всего дубликатов в столбце title: 714\n"
     ]
    }
   ],
   "source": [
    "print('Всего дубликатов в столбце title:', df['title'].duplicated().sum())"
   ]
  },
  {
   "cell_type": "markdown",
   "metadata": {},
   "source": [
    "А теперь посмотрим, есть ли среди них фильмы с одинаковыми номерами прокатных удостоверений:"
   ]
  },
  {
   "cell_type": "code",
   "execution_count": 32,
   "metadata": {},
   "outputs": [
    {
     "name": "stdout",
     "output_type": "stream",
     "text": [
      "Всего дубликатов: 0\n"
     ]
    }
   ],
   "source": [
    "print('Всего дубликатов:', df[['title', 'pu_number']].duplicated().sum())"
   ]
  },
  {
   "cell_type": "markdown",
   "metadata": {},
   "source": [
    "Можно утверждать, что повторяющиеся записи в столбце `'title'` не являются дубликатами, поскольку каждой такой записи соответствуют разные номера прокатных удостоверений. Возможно такие фильмы получали новые удостоверения для повторного проката в кинотеатрах, или на телевидении."
   ]
  },
  {
   "cell_type": "markdown",
   "metadata": {},
   "source": [
    "Теперь рассмотрим столбец `'pu_number'`:"
   ]
  },
  {
   "cell_type": "code",
   "execution_count": 33,
   "metadata": {},
   "outputs": [
    {
     "data": {
      "text/plain": [
       "2"
      ]
     },
     "execution_count": 33,
     "metadata": {},
     "output_type": "execute_result"
    }
   ],
   "source": [
    "df['pu_number'].duplicated().sum()"
   ]
  },
  {
   "cell_type": "code",
   "execution_count": 34,
   "metadata": {},
   "outputs": [
    {
     "data": {
      "text/html": [
       "<div>\n",
       "<style scoped>\n",
       "    .dataframe tbody tr th:only-of-type {\n",
       "        vertical-align: middle;\n",
       "    }\n",
       "\n",
       "    .dataframe tbody tr th {\n",
       "        vertical-align: top;\n",
       "    }\n",
       "\n",
       "    .dataframe thead th {\n",
       "        text-align: right;\n",
       "    }\n",
       "</style>\n",
       "<table border=\"1\" class=\"dataframe\">\n",
       "  <thead>\n",
       "    <tr style=\"text-align: right;\">\n",
       "      <th></th>\n",
       "      <th>title</th>\n",
       "      <th>pu_number</th>\n",
       "      <th>show_start_date</th>\n",
       "      <th>type</th>\n",
       "      <th>film_studio</th>\n",
       "      <th>production_country</th>\n",
       "      <th>director</th>\n",
       "      <th>producer</th>\n",
       "      <th>age_restriction</th>\n",
       "      <th>refundable_support</th>\n",
       "      <th>nonrefundable_support</th>\n",
       "      <th>budget</th>\n",
       "      <th>financing_source</th>\n",
       "      <th>ratings</th>\n",
       "      <th>genres</th>\n",
       "      <th>box_office</th>\n",
       "    </tr>\n",
       "  </thead>\n",
       "  <tbody>\n",
       "    <tr>\n",
       "      <td>4639</td>\n",
       "      <td>Иоанна - женщина на папском престоле /По роман...</td>\n",
       "      <td>221,154,310.00</td>\n",
       "      <td>2010-12-17T12:00:00.000Z</td>\n",
       "      <td>Художественный</td>\n",
       "      <td>Константин Фильм, А Эр Ди Дегето Фильм, Дюне ...</td>\n",
       "      <td>Германия - Великобритания - Италия - Испания</td>\n",
       "      <td>Зенке Вортманн</td>\n",
       "      <td>Оливер Бербен, Дорис Д.Хайнце, Фарук Элтан</td>\n",
       "      <td>«16+» - для детей старше 16 лет</td>\n",
       "      <td>nan</td>\n",
       "      <td>nan</td>\n",
       "      <td>nan</td>\n",
       "      <td>NaN</td>\n",
       "      <td>7.6</td>\n",
       "      <td>драма,мелодрама,история</td>\n",
       "      <td>nan</td>\n",
       "    </tr>\n",
       "    <tr>\n",
       "      <td>5068</td>\n",
       "      <td>Анализируй то!</td>\n",
       "      <td>221,054,410.00</td>\n",
       "      <td>2010-05-25T12:00:00.000Z</td>\n",
       "      <td>Художественный</td>\n",
       "      <td>Уорнер Бразерс, Виллидж Роадшоу Пикчерз, Эн-Пи...</td>\n",
       "      <td>США</td>\n",
       "      <td>Гарольд Реймис</td>\n",
       "      <td>Джейн Розенталь, Паул Уэйнстейн</td>\n",
       "      <td>«12+» - для детей старше 12 лет</td>\n",
       "      <td>nan</td>\n",
       "      <td>nan</td>\n",
       "      <td>nan</td>\n",
       "      <td>NaN</td>\n",
       "      <td>6.8</td>\n",
       "      <td>комедия,криминал</td>\n",
       "      <td>nan</td>\n",
       "    </tr>\n",
       "  </tbody>\n",
       "</table>\n",
       "</div>"
      ],
      "text/plain": [
       "                                                  title      pu_number  \\\n",
       "4639  Иоанна - женщина на папском престоле /По роман... 221,154,310.00   \n",
       "5068                                     Анализируй то! 221,054,410.00   \n",
       "\n",
       "               show_start_date            type  \\\n",
       "4639  2010-12-17T12:00:00.000Z  Художественный   \n",
       "5068  2010-05-25T12:00:00.000Z  Художественный   \n",
       "\n",
       "                                            film_studio  \\\n",
       "4639   Константин Фильм, А Эр Ди Дегето Фильм, Дюне ...   \n",
       "5068  Уорнер Бразерс, Виллидж Роадшоу Пикчерз, Эн-Пи...   \n",
       "\n",
       "                                production_country        director  \\\n",
       "4639  Германия - Великобритания - Италия - Испания  Зенке Вортманн   \n",
       "5068                                           США  Гарольд Реймис   \n",
       "\n",
       "                                        producer  \\\n",
       "4639  Оливер Бербен, Дорис Д.Хайнце, Фарук Элтан   \n",
       "5068             Джейн Розенталь, Паул Уэйнстейн   \n",
       "\n",
       "                      age_restriction  refundable_support  \\\n",
       "4639  «16+» - для детей старше 16 лет                 nan   \n",
       "5068  «12+» - для детей старше 12 лет                 nan   \n",
       "\n",
       "      nonrefundable_support  budget financing_source ratings  \\\n",
       "4639                    nan     nan              NaN     7.6   \n",
       "5068                    nan     nan              NaN     6.8   \n",
       "\n",
       "                       genres  box_office  \n",
       "4639  драма,мелодрама,история         nan  \n",
       "5068         комедия,криминал         nan  "
      ]
     },
     "execution_count": 34,
     "metadata": {},
     "output_type": "execute_result"
    }
   ],
   "source": [
    "df.loc[df['pu_number'].duplicated()==True]"
   ]
  },
  {
   "cell_type": "markdown",
   "metadata": {},
   "source": [
    "Нашлось два дубликата. Посмотрим что они из себя представляют."
   ]
  },
  {
   "cell_type": "code",
   "execution_count": 35,
   "metadata": {},
   "outputs": [
    {
     "data": {
      "text/html": [
       "<div>\n",
       "<style scoped>\n",
       "    .dataframe tbody tr th:only-of-type {\n",
       "        vertical-align: middle;\n",
       "    }\n",
       "\n",
       "    .dataframe tbody tr th {\n",
       "        vertical-align: top;\n",
       "    }\n",
       "\n",
       "    .dataframe thead th {\n",
       "        text-align: right;\n",
       "    }\n",
       "</style>\n",
       "<table border=\"1\" class=\"dataframe\">\n",
       "  <thead>\n",
       "    <tr style=\"text-align: right;\">\n",
       "      <th></th>\n",
       "      <th>title</th>\n",
       "      <th>pu_number</th>\n",
       "      <th>show_start_date</th>\n",
       "      <th>type</th>\n",
       "      <th>film_studio</th>\n",
       "      <th>production_country</th>\n",
       "      <th>director</th>\n",
       "      <th>producer</th>\n",
       "      <th>age_restriction</th>\n",
       "      <th>refundable_support</th>\n",
       "      <th>nonrefundable_support</th>\n",
       "      <th>budget</th>\n",
       "      <th>financing_source</th>\n",
       "      <th>ratings</th>\n",
       "      <th>genres</th>\n",
       "      <th>box_office</th>\n",
       "    </tr>\n",
       "  </thead>\n",
       "  <tbody>\n",
       "    <tr>\n",
       "      <td>4638</td>\n",
       "      <td>Как жениться и остаться холостым</td>\n",
       "      <td>221,154,310.00</td>\n",
       "      <td>2010-12-17T12:00:00.000Z</td>\n",
       "      <td>Художественный</td>\n",
       "      <td>Ше Вам, Скрипт Ассосье, Тэ Фэ 1 Фильм Продюксь...</td>\n",
       "      <td>Франция</td>\n",
       "      <td>Эрик Лартиго</td>\n",
       "      <td>Амандин Било, Алан Шаба</td>\n",
       "      <td>«16+» - для детей старше 16 лет</td>\n",
       "      <td>nan</td>\n",
       "      <td>nan</td>\n",
       "      <td>nan</td>\n",
       "      <td>NaN</td>\n",
       "      <td>7.0</td>\n",
       "      <td>мелодрама,комедия</td>\n",
       "      <td>nan</td>\n",
       "    </tr>\n",
       "    <tr>\n",
       "      <td>4639</td>\n",
       "      <td>Иоанна - женщина на папском престоле /По роман...</td>\n",
       "      <td>221,154,310.00</td>\n",
       "      <td>2010-12-17T12:00:00.000Z</td>\n",
       "      <td>Художественный</td>\n",
       "      <td>Константин Фильм, А Эр Ди Дегето Фильм, Дюне ...</td>\n",
       "      <td>Германия - Великобритания - Италия - Испания</td>\n",
       "      <td>Зенке Вортманн</td>\n",
       "      <td>Оливер Бербен, Дорис Д.Хайнце, Фарук Элтан</td>\n",
       "      <td>«16+» - для детей старше 16 лет</td>\n",
       "      <td>nan</td>\n",
       "      <td>nan</td>\n",
       "      <td>nan</td>\n",
       "      <td>NaN</td>\n",
       "      <td>7.6</td>\n",
       "      <td>драма,мелодрама,история</td>\n",
       "      <td>nan</td>\n",
       "    </tr>\n",
       "  </tbody>\n",
       "</table>\n",
       "</div>"
      ],
      "text/plain": [
       "                                                  title      pu_number  \\\n",
       "4638                   Как жениться и остаться холостым 221,154,310.00   \n",
       "4639  Иоанна - женщина на папском престоле /По роман... 221,154,310.00   \n",
       "\n",
       "               show_start_date            type  \\\n",
       "4638  2010-12-17T12:00:00.000Z  Художественный   \n",
       "4639  2010-12-17T12:00:00.000Z  Художественный   \n",
       "\n",
       "                                            film_studio  \\\n",
       "4638  Ше Вам, Скрипт Ассосье, Тэ Фэ 1 Фильм Продюксь...   \n",
       "4639   Константин Фильм, А Эр Ди Дегето Фильм, Дюне ...   \n",
       "\n",
       "                                production_country        director  \\\n",
       "4638                                       Франция    Эрик Лартиго   \n",
       "4639  Германия - Великобритания - Италия - Испания  Зенке Вортманн   \n",
       "\n",
       "                                        producer  \\\n",
       "4638                     Амандин Било, Алан Шаба   \n",
       "4639  Оливер Бербен, Дорис Д.Хайнце, Фарук Элтан   \n",
       "\n",
       "                      age_restriction  refundable_support  \\\n",
       "4638  «16+» - для детей старше 16 лет                 nan   \n",
       "4639  «16+» - для детей старше 16 лет                 nan   \n",
       "\n",
       "      nonrefundable_support  budget financing_source ratings  \\\n",
       "4638                    nan     nan              NaN     7.0   \n",
       "4639                    nan     nan              NaN     7.6   \n",
       "\n",
       "                       genres  box_office  \n",
       "4638        мелодрама,комедия         nan  \n",
       "4639  драма,мелодрама,история         nan  "
      ]
     },
     "execution_count": 35,
     "metadata": {},
     "output_type": "execute_result"
    }
   ],
   "source": [
    "df.query('pu_number==221154310')"
   ]
  },
  {
   "cell_type": "code",
   "execution_count": 36,
   "metadata": {},
   "outputs": [
    {
     "data": {
      "text/html": [
       "<div>\n",
       "<style scoped>\n",
       "    .dataframe tbody tr th:only-of-type {\n",
       "        vertical-align: middle;\n",
       "    }\n",
       "\n",
       "    .dataframe tbody tr th {\n",
       "        vertical-align: top;\n",
       "    }\n",
       "\n",
       "    .dataframe thead th {\n",
       "        text-align: right;\n",
       "    }\n",
       "</style>\n",
       "<table border=\"1\" class=\"dataframe\">\n",
       "  <thead>\n",
       "    <tr style=\"text-align: right;\">\n",
       "      <th></th>\n",
       "      <th>title</th>\n",
       "      <th>pu_number</th>\n",
       "      <th>show_start_date</th>\n",
       "      <th>type</th>\n",
       "      <th>film_studio</th>\n",
       "      <th>production_country</th>\n",
       "      <th>director</th>\n",
       "      <th>producer</th>\n",
       "      <th>age_restriction</th>\n",
       "      <th>refundable_support</th>\n",
       "      <th>nonrefundable_support</th>\n",
       "      <th>budget</th>\n",
       "      <th>financing_source</th>\n",
       "      <th>ratings</th>\n",
       "      <th>genres</th>\n",
       "      <th>box_office</th>\n",
       "    </tr>\n",
       "  </thead>\n",
       "  <tbody>\n",
       "    <tr>\n",
       "      <td>5067</td>\n",
       "      <td>Анализируй это!</td>\n",
       "      <td>221,054,410.00</td>\n",
       "      <td>2010-05-25T12:00:00.000Z</td>\n",
       "      <td>Художественный</td>\n",
       "      <td>Уорнер Бразерс, Вилладж Роудшоу Филмз ЛТД</td>\n",
       "      <td>США-Австралия</td>\n",
       "      <td>ХЭрольд Рэмис</td>\n",
       "      <td>Джейн Розенталь, Пола Уейнстейн</td>\n",
       "      <td>«16+» - для детей старше 16 лет</td>\n",
       "      <td>nan</td>\n",
       "      <td>nan</td>\n",
       "      <td>nan</td>\n",
       "      <td>NaN</td>\n",
       "      <td>7.4</td>\n",
       "      <td>комедия,криминал</td>\n",
       "      <td>nan</td>\n",
       "    </tr>\n",
       "    <tr>\n",
       "      <td>5068</td>\n",
       "      <td>Анализируй то!</td>\n",
       "      <td>221,054,410.00</td>\n",
       "      <td>2010-05-25T12:00:00.000Z</td>\n",
       "      <td>Художественный</td>\n",
       "      <td>Уорнер Бразерс, Виллидж Роадшоу Пикчерз, Эн-Пи...</td>\n",
       "      <td>США</td>\n",
       "      <td>Гарольд Реймис</td>\n",
       "      <td>Джейн Розенталь, Паул Уэйнстейн</td>\n",
       "      <td>«12+» - для детей старше 12 лет</td>\n",
       "      <td>nan</td>\n",
       "      <td>nan</td>\n",
       "      <td>nan</td>\n",
       "      <td>NaN</td>\n",
       "      <td>6.8</td>\n",
       "      <td>комедия,криминал</td>\n",
       "      <td>nan</td>\n",
       "    </tr>\n",
       "  </tbody>\n",
       "</table>\n",
       "</div>"
      ],
      "text/plain": [
       "                title      pu_number           show_start_date  \\\n",
       "5067  Анализируй это! 221,054,410.00  2010-05-25T12:00:00.000Z   \n",
       "5068   Анализируй то! 221,054,410.00  2010-05-25T12:00:00.000Z   \n",
       "\n",
       "                type                                        film_studio  \\\n",
       "5067  Художественный          Уорнер Бразерс, Вилладж Роудшоу Филмз ЛТД   \n",
       "5068  Художественный  Уорнер Бразерс, Виллидж Роадшоу Пикчерз, Эн-Пи...   \n",
       "\n",
       "     production_country        director                         producer  \\\n",
       "5067      США-Австралия   ХЭрольд Рэмис  Джейн Розенталь, Пола Уейнстейн   \n",
       "5068                США  Гарольд Реймис  Джейн Розенталь, Паул Уэйнстейн   \n",
       "\n",
       "                      age_restriction  refundable_support  \\\n",
       "5067  «16+» - для детей старше 16 лет                 nan   \n",
       "5068  «12+» - для детей старше 12 лет                 nan   \n",
       "\n",
       "      nonrefundable_support  budget financing_source ratings  \\\n",
       "5067                    nan     nan              NaN     7.4   \n",
       "5068                    nan     nan              NaN     6.8   \n",
       "\n",
       "                genres  box_office  \n",
       "5067  комедия,криминал         nan  \n",
       "5068  комедия,криминал         nan  "
      ]
     },
     "execution_count": 36,
     "metadata": {},
     "output_type": "execute_result"
    }
   ],
   "source": [
    "df.query('pu_number==221054410')"
   ]
  },
  {
   "cell_type": "markdown",
   "metadata": {},
   "source": [
    "Несомненно, разные фильмы имеют одинаковые номера прокатных удостоверений и одинаковые даты премьер. Скорее всего произошли ошибки при записях данных. И если с парой фильмов `Анализируй то! / Анализируй это!` можно понять как легко было ошибиться, то в случае с другой парой фильмов `Как жениться и остаться холостым / Иоанна - женщина на папском престоле` допущенная ошибка вызывает недоумение. В любом случае, несмотря на одинаковые номера прокатных удостоверений рассмотренные записи принадлежат разным фильмам и не являются дубликатами. "
   ]
  },
  {
   "cell_type": "markdown",
   "metadata": {
    "id": "ssWwKXsxgFyO"
   },
   "source": [
    "### Замена типа данных"
   ]
  },
  {
   "cell_type": "markdown",
   "metadata": {},
   "source": [
    "Тип данных столбца `'show_start_date'` переведём в формат времени"
   ]
  },
  {
   "cell_type": "code",
   "execution_count": 37,
   "metadata": {},
   "outputs": [
    {
     "data": {
      "text/plain": [
       "3596   2017-05-05 12:00:00+00:00\n",
       "Name: show_start_date, dtype: datetime64[ns, UTC]"
      ]
     },
     "execution_count": 37,
     "metadata": {},
     "output_type": "execute_result"
    }
   ],
   "source": [
    "df['show_start_date'] = pd.to_datetime(df['show_start_date'], format='%Y-%m-%dT%H:%M:%S')\n",
    "df['show_start_date'].sample()"
   ]
  },
  {
   "cell_type": "markdown",
   "metadata": {},
   "source": [
    "Тип данных столбца `'pu_number'` переведём в тип `uint32`"
   ]
  },
  {
   "cell_type": "code",
   "execution_count": 38,
   "metadata": {
    "id": "kVGSplJOgFyO"
   },
   "outputs": [],
   "source": [
    "df['pu_number'] = df['pu_number'].astype('uint32')"
   ]
  },
  {
   "cell_type": "markdown",
   "metadata": {},
   "source": [
    "Тип данных столбцов `'type', 'production_country', 'age_restriction', 'financing_source'` переведём в тип `category`"
   ]
  },
  {
   "cell_type": "code",
   "execution_count": 39,
   "metadata": {},
   "outputs": [],
   "source": [
    "df[['type', 'production_country', 'age_restriction', 'financing_source']] = df[['type', 'production_country', 'age_restriction', 'financing_source']].astype('category')"
   ]
  },
  {
   "cell_type": "markdown",
   "metadata": {},
   "source": [
    "Тип данных столбца `ratings` в данных `mkrf_movies` переведём в числовой"
   ]
  },
  {
   "cell_type": "code",
   "execution_count": 40,
   "metadata": {},
   "outputs": [],
   "source": [
    "df['ratings'] = pd.to_numeric(df['ratings'], errors='coerce')"
   ]
  },
  {
   "cell_type": "code",
   "execution_count": 41,
   "metadata": {
    "id": "8MJD_lkngFyP"
   },
   "outputs": [
    {
     "name": "stdout",
     "output_type": "stream",
     "text": [
      "<class 'pandas.core.frame.DataFrame'>\n",
      "Int64Index: 7486 entries, 0 to 7485\n",
      "Data columns (total 16 columns):\n",
      "title                    7486 non-null object\n",
      "pu_number                7486 non-null uint32\n",
      "show_start_date          7486 non-null datetime64[ns, UTC]\n",
      "type                     7486 non-null category\n",
      "film_studio              7486 non-null object\n",
      "production_country       7486 non-null category\n",
      "director                 7486 non-null object\n",
      "producer                 7486 non-null object\n",
      "age_restriction          7486 non-null category\n",
      "refundable_support       332 non-null float64\n",
      "nonrefundable_support    332 non-null float64\n",
      "budget                   332 non-null float64\n",
      "financing_source         332 non-null category\n",
      "ratings                  6490 non-null float64\n",
      "genres                   7486 non-null object\n",
      "box_office               3158 non-null float64\n",
      "dtypes: category(4), datetime64[ns, UTC](1), float64(5), object(5), uint32(1)\n",
      "memory usage: 7.4 MB\n"
     ]
    }
   ],
   "source": [
    "df.info(memory_usage='deep')"
   ]
  },
  {
   "cell_type": "markdown",
   "metadata": {},
   "source": [
    "Изменив тип данных нам удалось уменьшить объем используемой памяти с 9.6 до 6.7 MB, то есть на 30%."
   ]
  },
  {
   "cell_type": "markdown",
   "metadata": {},
   "source": [
    "### Проверка категориальных значений"
   ]
  },
  {
   "cell_type": "markdown",
   "metadata": {},
   "source": [
    "К столбцам, которые содержат категориальные значения можно отнести `'type', 'film_studio', 'production_country', 'director', 'producer', 'age_restriction', 'financing_source','genres'`."
   ]
  },
  {
   "cell_type": "markdown",
   "metadata": {},
   "source": [
    "Количество категорий в столбцах `'type', 'age_restriction', 'financing_source'` небольшое, и каждой записи датафрейма соответствует только одна категория."
   ]
  },
  {
   "cell_type": "code",
   "execution_count": 42,
   "metadata": {
    "scrolled": true
   },
   "outputs": [
    {
     "data": {
      "text/plain": [
       "array(['Тачстоун Пикчерз, Кобальт Пикчерз, Бикон Пикчерз, Тиг Продакшнз',\n",
       "       'Киностудия \"Мосфильм\"',\n",
       "       'Юниверсал Пикчерз, Кикстарт Продакшнз, Марк Платт Продакшнз, Рилейтивити Медиа, Спайгласс Интертейнмент, Стилкин Филмз, Топ Кау Продакшнз',\n",
       "       ...,\n",
       "       'Дэниел Гродник Продакшнз, Вандерфилм Медиа Корпорэйшн, Импринт Интертейнмент, Вор Хорс Интертейнмент, Пимиента ',\n",
       "       'Никелодеон Анимейшн Студиос, Спин Мастер',\n",
       "       'Анимаккорд Лтд., ООО Студия \"АНИМАККОРД\"'], dtype=object)"
      ]
     },
     "execution_count": 42,
     "metadata": {},
     "output_type": "execute_result"
    }
   ],
   "source": [
    "df['film_studio'].unique()"
   ]
  },
  {
   "cell_type": "code",
   "execution_count": 43,
   "metadata": {},
   "outputs": [
    {
     "data": {
      "text/plain": [
       "5491"
      ]
     },
     "execution_count": 43,
     "metadata": {},
     "output_type": "execute_result"
    }
   ],
   "source": [
    "len(df['film_studio'].unique())"
   ]
  },
  {
   "cell_type": "code",
   "execution_count": 44,
   "metadata": {},
   "outputs": [
    {
     "data": {
      "text/plain": [
       "[США, СССР, Франция, СССР, Венгрия, Германия-Великобритания, ..., КНР - Франция, Дания, Норвегия, Швеция, Исландия, Республика Кипр, США, Россия, Новая Зеландия - КНР, Дания - Канада - Швеция - Франция - Германия -...]\n",
       "Length: 950\n",
       "Categories (950, object): [США, СССР, Франция, СССР, Венгрия, ..., Дания, Норвегия, Швеция, Исландия, Республика Кипр, США, Россия, Новая Зеландия - КНР, Дания - Канада - Швеция - Франция - Германия -...]"
      ]
     },
     "execution_count": 44,
     "metadata": {},
     "output_type": "execute_result"
    }
   ],
   "source": [
    "df['production_country'].unique()"
   ]
  },
  {
   "cell_type": "code",
   "execution_count": 45,
   "metadata": {},
   "outputs": [
    {
     "data": {
      "text/plain": [
       "950"
      ]
     },
     "execution_count": 45,
     "metadata": {},
     "output_type": "execute_result"
    }
   ],
   "source": [
    "len(df['production_country'].unique())"
   ]
  },
  {
   "cell_type": "code",
   "execution_count": 46,
   "metadata": {},
   "outputs": [
    {
     "data": {
      "text/plain": [
       "array(['Кевин Костнер', 'Е.Матвеев', 'Тимур Бекмамбетов', ...,\n",
       "       'Ник Пауэлл', 'А.Беляев', 'И.Трусов'], dtype=object)"
      ]
     },
     "execution_count": 46,
     "metadata": {},
     "output_type": "execute_result"
    }
   ],
   "source": [
    "df['director'].unique()"
   ]
  },
  {
   "cell_type": "code",
   "execution_count": 47,
   "metadata": {},
   "outputs": [
    {
     "data": {
      "text/plain": [
       "4812"
      ]
     },
     "execution_count": 47,
     "metadata": {},
     "output_type": "execute_result"
    }
   ],
   "source": [
    "len(df['director'].unique())"
   ]
  },
  {
   "cell_type": "code",
   "execution_count": 48,
   "metadata": {},
   "outputs": [
    {
     "data": {
      "text/plain": [
       "array(['Дэвид Валдес, Кевин Костнер, Джейк Эбертс', 'неизвестен',\n",
       "       'Джим Лемли, Джейсон Нетер, Марк Е.Платт, Яйн Смит', ...,\n",
       "       'Поппи Бегум, Ник Пойнц',\n",
       "       'Джефф Боулер, Дэниэл Гродник, Луильо Руис, Брэт Саксон, Кирк Шоу',\n",
       "       'Дженнифер Додж'], dtype=object)"
      ]
     },
     "execution_count": 48,
     "metadata": {},
     "output_type": "execute_result"
    }
   ],
   "source": [
    "df['producer'].unique()"
   ]
  },
  {
   "cell_type": "code",
   "execution_count": 49,
   "metadata": {},
   "outputs": [
    {
     "data": {
      "text/plain": [
       "5350"
      ]
     },
     "execution_count": 49,
     "metadata": {},
     "output_type": "execute_result"
    }
   ],
   "source": [
    "len(df['producer'].unique())"
   ]
  },
  {
   "cell_type": "code",
   "execution_count": 50,
   "metadata": {
    "scrolled": true
   },
   "outputs": [
    {
     "data": {
      "text/plain": [
       "array(['боевик,драма,мелодрама', 'драма,военный',\n",
       "       'фантастика,боевик,триллер', 'драма', 'мелодрама,комедия',\n",
       "       'мюзикл,мелодрама,комедия', 'комедия,криминал',\n",
       "       'боевик,триллер,детектив', 'боевик,драма,приключения',\n",
       "       'драма,спорт', 'триллер,драма,мелодрама', 'комедия,мелодрама',\n",
       "       'драма,мелодрама,комедия', 'драма,мелодрама', 'драма,история',\n",
       "       'драма,мелодрама,семейный', 'комедия,мелодрама,криминал',\n",
       "       'комедия', 'боевик,драма,криминал', 'драма,комедия',\n",
       "       'ужасы,фантастика,комедия', 'мультфильм,короткометражка,мелодрама',\n",
       "       'драма,криминал', 'мультфильм,фантастика,фэнтези',\n",
       "       'триллер,драма,криминал', 'драма,мелодрама,биография',\n",
       "       'драма,комедия,военный', 'фантастика,драма,детектив',\n",
       "       'мюзикл,семейный', 'неизвестен', 'военный,приключения,драма',\n",
       "       'документальный,драма', 'драма,биография,история',\n",
       "       'боевик,триллер,драма', 'фэнтези,боевик',\n",
       "       'боевик,комедия,криминал', 'мюзикл,комедия,детский',\n",
       "       'комедия,мелодрама,драма', 'мультфильм,фэнтези,комедия',\n",
       "       'комедия,история', 'мелодрама', 'драма,биография,музыка',\n",
       "       'фэнтези,драма,мелодрама', 'триллер,военный',\n",
       "       'драма,мелодрама,военный', 'мюзикл,драма,мелодрама',\n",
       "       'мюзикл,комедия', 'мультфильм,приключения,семейный',\n",
       "       'ужасы,триллер', 'боевик,драма,военный', 'драма,боевик',\n",
       "       'мультфильм,драма,комедия', 'триллер,криминал',\n",
       "       'военный,биография,драма', 'комедия,семейный', 'военный',\n",
       "       'драма,семейный,биография', 'фэнтези,приключения,семейный',\n",
       "       'драма,криминал,биография', 'ужасы,триллер,детектив',\n",
       "       'боевик,история,драма', 'ужасы,триллер,драма',\n",
       "       'драма,криминал,спорт', 'документальный,короткометражка',\n",
       "       'триллер,драма', 'криминал,детектив,приключения',\n",
       "       'драма,комедия,криминал', 'драма,комедия,вестерн',\n",
       "       'драма,мелодрама,детектив', 'мелодрама,биография',\n",
       "       'фэнтези,мелодрама,драма', 'драма,мелодрама,история',\n",
       "       'комедия,приключения,история', 'приключения', 'драма,семейный',\n",
       "       'криминал,детектив', 'мультфильм,короткометражка,ужасы',\n",
       "       'фантастика,триллер,драма', 'фэнтези,мелодрама,комедия',\n",
       "       'драма,биография', 'комедия,криминал,история',\n",
       "       'триллер,драма,детектив', 'фантастика,комедия,приключения',\n",
       "       'фэнтези,семейный', 'ужасы,фантастика,боевик',\n",
       "       'мелодрама,криминал', 'комедия,приключения,мелодрама',\n",
       "       'боевик,триллер,приключения', 'боевик,приключения',\n",
       "       'боевик,триллер,криминал', 'документальный,военный,история',\n",
       "       'драма,музыка', 'боевик,драма', 'приключения,боевик',\n",
       "       'драма,военный,биография', 'триллер,драма,приключения',\n",
       "       'аниме,мультфильм,фэнтези', 'триллер,детектив,драма',\n",
       "       'боевик,триллер,мелодрама', 'боевик,история',\n",
       "       'приключения,история', 'драма,комедия,приключения',\n",
       "       'фэнтези,комедия,приключения', 'драма,вестерн',\n",
       "       'документальный,музыка', 'мелодрама,драма',\n",
       "       'триллер,криминал,детектив', 'ужасы', 'боевик,комедия,приключения',\n",
       "       'мультфильм,фэнтези,боевик', 'боевик,фэнтези,драма',\n",
       "       'фэнтези,драма', 'фэнтези,боевик,комедия',\n",
       "       'приключения,детский,комедия', 'документальный',\n",
       "       'боевик,триллер,комедия', 'мелодрама,комедия,криминал',\n",
       "       'драма,детектив', 'мюзикл,ужасы,триллер', 'детектив,триллер,ужасы',\n",
       "       'ужасы,фэнтези', 'ужасы,фэнтези,триллер', 'мультфильм,драма',\n",
       "       'ужасы,боевик,фантастика', 'боевик', 'фантастика,боевик',\n",
       "       'мелодрама,комедия,приключения', 'триллер,детектив',\n",
       "       'мюзикл,мелодрама,фэнтези', 'криминал', 'триллер,комедия,криминал',\n",
       "       'боевик,приключения,триллер', 'триллер,драма,военный',\n",
       "       'комедия,семейный,музыка', 'комедия,фантастика,мелодрама',\n",
       "       'фантастика,триллер,криминал', 'комедия,драма', 'боевик,военный',\n",
       "       'ужасы,фантастика,триллер', 'фантастика,драма,мелодрама',\n",
       "       'фэнтези,драма,детектив', 'боевик,триллер', 'боевик,драма,история',\n",
       "       'мультфильм,мюзикл,фэнтези', 'для взрослых,драма,мелодрама',\n",
       "       'мультфильм,боевик,детектив', 'фантастика,мелодрама,боевик',\n",
       "       'ужасы,фантастика,детектив', 'фантастика,боевик,приключения',\n",
       "       'мелодрама,комедия,спорт', 'комедия,боевик,приключения',\n",
       "       'документальный,приключения', 'мультфильм,короткометражка,детский',\n",
       "       'комедия,приключения', 'ужасы,драма', 'ужасы,фэнтези,боевик',\n",
       "       'мультфильм,фэнтези,детский', 'мюзикл,боевик,драма',\n",
       "       'семейный,комедия,драма', 'концерт,музыка', 'фэнтези,боевик,драма',\n",
       "       'драма,комедия,музыка', 'фантастика,фэнтези,боевик',\n",
       "       'фэнтези,комедия,семейный', 'фэнтези,драма,комедия',\n",
       "       'мультфильм,мюзикл,драма', 'триллер', 'боевик,криминал,триллер',\n",
       "       'мультфильм,приключения,драма', 'мелодрама,музыка',\n",
       "       'документальный,музыка,концерт', 'мультфильм,семейный',\n",
       "       'мультфильм,комедия,приключения', 'мультфильм,комедия,семейный',\n",
       "       'фантастика,драма', 'фэнтези,боевик,приключения',\n",
       "       'мультфильм,приключения', 'драма,военный,история', 'история',\n",
       "       'драма,приключения,военный',\n",
       "       'документальный,короткометражка,семейный',\n",
       "       'мелодрама,история,триллер', 'ужасы,детектив',\n",
       "       'мюзикл,комедия,приключения', 'драма,спорт,биография',\n",
       "       'фантастика,боевик,комедия', 'фантастика,приключения,детектив',\n",
       "       'короткометражка,драма,военный', 'драма,мультфильм',\n",
       "       'приключения,семейный', 'детектив', 'триллер,приключения',\n",
       "       'аниме,мультфильм,боевик', 'драма,комедия,биография',\n",
       "       'драма,комедия,спорт', 'боевик,мелодрама,комедия',\n",
       "       'семейный,комедия', 'фэнтези,боевик,триллер',\n",
       "       'документальный,фэнтези,семейный', 'фантастика,фэнтези,драма',\n",
       "       'ужасы,комедия,фэнтези', 'документальный,биография,музыка',\n",
       "       'фантастика,боевик,фэнтези', 'ужасы,боевик,триллер',\n",
       "       'комедия,криминал,семейный', 'приключения,драма',\n",
       "       'криминал,драма,триллер', 'драма,детектив,криминал',\n",
       "       'фэнтези,приключения,комедия', 'комедия,спорт',\n",
       "       'мюзикл,фэнтези,мелодрама', 'мультфильм,фэнтези,приключения',\n",
       "       'фантастика,фэнтези,приключения', 'фэнтези',\n",
       "       'фэнтези,приключения,боевик', 'фантастика,боевик,драма',\n",
       "       'криминал,драма', 'криминал,триллер,драма',\n",
       "       'драма,мелодрама,приключения', 'детский,комедия',\n",
       "       'фантастика,драма,боевик', 'мультфильм,семейный,фэнтези',\n",
       "       'концерт,музыка,документальный', 'ужасы,комедия,приключения',\n",
       "       'драма,мелодрама,криминал', 'ужасы,фантастика,фэнтези',\n",
       "       'боевик,комедия', 'мультфильм,фантастика,комедия', 'триллер,ужасы',\n",
       "       'мультфильм,мюзикл,комедия', 'мелодрама,фэнтези,триллер',\n",
       "       'детский,приключения,комедия', 'комедия,детектив',\n",
       "       'аниме,мультфильм,мелодрама', 'документальный,драма,семейный',\n",
       "       'документальный,биография,история', 'военный,боевик,драма',\n",
       "       'ужасы,комедия', 'комедия,приключения,семейный',\n",
       "       'приключения,биография,история', 'детский,приключения,семейный',\n",
       "       'спорт,драма,биография', 'аниме,мультфильм,ужасы',\n",
       "       'фантастика,боевик,криминал', 'мюзикл,драма',\n",
       "       'драма,криминал,детектив', 'аниме,мультфильм,драма',\n",
       "       'драма,триллер,приключения', 'триллер,криминал,драма',\n",
       "       'фэнтези,комедия,драма', 'мультфильм,комедия',\n",
       "       'драма,комедия,история', 'комедия,биография,история',\n",
       "       'мультфильм,фантастика,приключения', 'аниме,мультфильм,фантастика',\n",
       "       'мультфильм,фэнтези,семейный', 'мультфильм,боевик,комедия',\n",
       "       'комедия,криминал,спорт', 'документальный,мюзикл',\n",
       "       'мелодрама,комедия,музыка', 'биография',\n",
       "       'триллер,криминал,комедия', 'фантастика,драма,комедия',\n",
       "       'комедия,драма,мелодрама', 'фантастика,приключения,боевик',\n",
       "       'мультфильм,фэнтези,драма', 'триллер,комедия',\n",
       "       'драма,приключения,биография', 'фантастика,комедия',\n",
       "       'мелодрама,драма,комедия', 'боевик,криминал',\n",
       "       'драма,криминал,боевик', 'мультфильм,мюзикл,детский',\n",
       "       'драма,фэнтези', 'документальный,семейный',\n",
       "       'фэнтези,драма,приключения', 'ужасы,комедия,фантастика',\n",
       "       'драма,мелодрама,музыка', 'фэнтези,драма,семейный',\n",
       "       'триллер,мелодрама,драма', 'вестерн,боевик,драма',\n",
       "       'мультфильм,короткометражка,комедия', 'триллер,драма,история',\n",
       "       'ужасы,фантастика', 'ужасы,мелодрама,комедия',\n",
       "       'фэнтези,приключения', 'фантастика,триллер',\n",
       "       'ужасы,боевик,фэнтези', 'мультфильм,комедия,детский',\n",
       "       'триллер,драма,биография', 'мультфильм,ужасы,фэнтези',\n",
       "       'мультфильм,ужасы,фантастика', 'ужасы,боевик,комедия',\n",
       "       'драма,биография,спорт', 'мультфильм', 'мелодрама,комедия,драма',\n",
       "       'приключения,фантастика,семейный', 'комедия,криминал,детектив',\n",
       "       'ужасы,триллер,комедия', 'криминал,комедия,триллер',\n",
       "       'семейный,приключения,комедия', 'мультфильм,драма,приключения',\n",
       "       'ужасы,драма,детектив', 'драма,приключения,фэнтези',\n",
       "       'фантастика,мультфильм,драма', 'драма,триллер,детектив',\n",
       "       'драма,история,музыка', 'детский', 'триллер,боевик,криминал',\n",
       "       'драма,фантастика', 'комедия,драма,семейный',\n",
       "       'боевик,драма,комедия', 'комедия,ужасы',\n",
       "       'драма,фантастика,триллер', 'фантастика,драма,триллер',\n",
       "       'история,спорт,драма', 'документальный,биография',\n",
       "       'биография,история', 'спорт,драма', 'боевик,фэнтези',\n",
       "       'мультфильм,фэнтези', 'документальный,комедия,история',\n",
       "       'криминал,комедия,боевик', 'фэнтези,приключения,драма',\n",
       "       'музыка,концерт', 'триллер,драма,боевик',\n",
       "       'комедия,криминал,боевик', 'комедия,фантастика,боевик',\n",
       "       'вестерн,приключения,боевик', 'аниме,мультфильм,комедия',\n",
       "       'детектив,криминал,триллер', 'мультфильм,комедия,криминал',\n",
       "       'комедия,приключения,детектив', 'мелодрама,фантастика,драма',\n",
       "       'драма,комедия,семейный', 'приключения,фантастика',\n",
       "       'триллер,детектив,ужасы', 'комедия,приключения,фэнтези',\n",
       "       'фэнтези,триллер,драма', 'мелодрама,приключения,боевик',\n",
       "       'детектив,триллер,криминал', 'фэнтези,семейный,мелодрама',\n",
       "       'военный,драма', 'документальный,приключения,семейный',\n",
       "       'криминал,комедия,драма', 'комедия,фантастика',\n",
       "       'история,биография,драма', 'мелодрама,драма,музыка',\n",
       "       'боевик,мелодрама', 'комедия,криминал,триллер',\n",
       "       'детектив,триллер,боевик', 'комедия,боевик,криминал',\n",
       "       'комедия,вестерн', 'детский,мелодрама,семейный',\n",
       "       'короткометражка,мультфильм', 'комедия,фэнтези',\n",
       "       'фантастика,драма,ужасы', 'триллер,драма,ужасы',\n",
       "       'драма,фэнтези,история', 'комедия,драма,короткометражка',\n",
       "       'фэнтези,триллер,приключения', 'семейный',\n",
       "       'комедия,криминал,драма', 'комедия,фэнтези,ужасы',\n",
       "       'короткометражка,комедия,криминал', 'фантастика',\n",
       "       'триллер,ужасы,драма', 'мелодрама,драма,фэнтези',\n",
       "       'фантастика,приключения,драма', 'боевик,детектив',\n",
       "       'военный,драма,боевик', 'комедия,мелодрама,фэнтези',\n",
       "       'вестерн,криминал,триллер', 'драма,история,триллер',\n",
       "       'мультфильм,фантастика,боевик', 'детектив,драма,криминал',\n",
       "       'приключения,история,драма', 'мультфильм,семейный,детский',\n",
       "       'биография,драма,история', 'триллер,криминал,боевик',\n",
       "       'история,мелодрама', 'приключения,детский',\n",
       "       'музыка,приключения,концерт', 'военный,драма,комедия',\n",
       "       'фэнтези,боевик,военный', 'фантастика,детектив,боевик',\n",
       "       'мультфильм,фэнтези,история', 'биография,мелодрама,драма',\n",
       "       'документальный,биография,спорт', 'фантастика,комедия,детектив',\n",
       "       'музыка,концерт,документальный', 'триллер,боевик,приключения',\n",
       "       'триллер,драма,комедия', 'детектив,криминал',\n",
       "       'мультфильм,приключения,фэнтези', 'мелодрама,приключения',\n",
       "       'комедия,музыка', 'мелодрама,комедия,ужасы',\n",
       "       'драма,криминал,приключения', 'приключения,детектив,мелодрама',\n",
       "       'драма,криминал,фантастика', 'фэнтези,драма,биография',\n",
       "       'детектив,фантастика,криминал', 'триллер,драма,фантастика',\n",
       "       'ужасы,комедия,боевик', 'мелодрама,история', 'триллер,боевик',\n",
       "       'фильм-нуар,триллер,детектив', 'комедия,криминал,приключения',\n",
       "       'ужасы,триллер,мелодрама', 'военный,драма,история',\n",
       "       'драма,спорт,история', 'документальный,драма,история',\n",
       "       'триллер,мелодрама,детектив', 'детский,семейный',\n",
       "       'мюзикл,семейный,драма', 'биография,военный,драма',\n",
       "       'мультфильм,детский', 'боевик,криминал,драма',\n",
       "       'детектив,фэнтези,триллер', 'драма,боевик,приключения',\n",
       "       'драма,мелодрама,фэнтези', 'детектив,история,драма',\n",
       "       'фэнтези,боевик,ужасы', 'ужасы,фэнтези,мелодрама',\n",
       "       'ужасы,приключения', 'боевик,фантастика',\n",
       "       'ужасы,мелодрама,детектив', 'фантастика,триллер,приключения',\n",
       "       'боевик,приключения,история', 'приключения,боевик,триллер',\n",
       "       'детектив,ужасы,криминал', 'семейный,фэнтези', 'мюзикл,мелодрама',\n",
       "       'драма,военный,приключения', 'фантастика,драма,приключения',\n",
       "       'приключения,семейный,драма', 'история,драма,боевик',\n",
       "       'мультфильм,приключения,комедия', 'криминал,драма,комедия',\n",
       "       'ужасы,комедия,драма', 'комедия,семейный,приключения',\n",
       "       'мюзикл,фэнтези,драма', 'драма,вестерн,боевик',\n",
       "       'фантастика,триллер,детектив', 'драма,история,детектив',\n",
       "       'короткометражка,биография', 'мультфильм,приключения,фантастика',\n",
       "       'комедия,триллер', 'мультфильм,приключения,детектив',\n",
       "       'драма,триллер', 'ужасы,триллер,криминал',\n",
       "       'документальный,криминал,военный', 'ужасы,фэнтези,драма',\n",
       "       'фэнтези,комедия', 'ужасы,фэнтези,комедия', 'комедия,музыка,драма',\n",
       "       'мультфильм,приключения,военный', 'мюзикл,фэнтези,комедия',\n",
       "       'боевик,фантастика,приключения', 'триллер,ужасы,криминал',\n",
       "       'ужасы,фантастика,драма', 'фантастика,приключения,семейный',\n",
       "       'короткометражка,музыка', 'мелодрама,детектив,комедия',\n",
       "       'документальный,триллер,биография', 'боевик,фантастика,триллер',\n",
       "       'спорт,драма,комедия', 'фэнтези,мелодрама,приключения',\n",
       "       'триллер,детектив,криминал', 'короткометражка,мелодрама',\n",
       "       'мультфильм,семейный,спорт', 'комедия,фэнтези,мелодрама',\n",
       "       'драма,спорт,комедия', 'история,драма,мелодрама',\n",
       "       'драма,боевик,криминал', 'драма,комедия,триллер',\n",
       "       'аниме,мультфильм', 'документальный,ужасы',\n",
       "       'мультфильм,короткометражка', 'драма,история,военный',\n",
       "       'мультфильм,короткометражка,фэнтези', 'комедия,военный,музыка',\n",
       "       'биография,история,драма', 'ужасы,драма,мелодрама',\n",
       "       'драма,комедия,детектив', 'комедия,семейный,фантастика',\n",
       "       'мультфильм,семейный,комедия', 'история,детектив',\n",
       "       'приключения,мелодрама,детектив', 'мюзикл,комедия,мелодрама',\n",
       "       'драма,фантастика,ужасы', 'мультфильм,ужасы,комедия',\n",
       "       'для взрослых,драма,комедия', 'ужасы,комедия,музыка',\n",
       "       'комедия,история,драма', 'семейный,детектив,детский',\n",
       "       'короткометражка,драма', 'документальный,новости,драма',\n",
       "       'триллер,мелодрама', 'ужасы,драма,вестерн',\n",
       "       'мюзикл,фэнтези,семейный', 'вестерн,драма,триллер',\n",
       "       'приключения,вестерн,боевик', 'семейный,комедия,музыка',\n",
       "       'боевик,драма,вестерн', 'ужасы,драма,триллер',\n",
       "       'фантастика,мелодрама', 'комедия,криминал,биография',\n",
       "       'семейный,мультфильм,комедия', 'комедия,драма,криминал',\n",
       "       'фантастика,боевик,военный', 'приключения,биография,драма',\n",
       "       'приключения,триллер,биография', 'криминал,боевик,триллер',\n",
       "       'боевик,вестерн,приключения', 'история,драма',\n",
       "       'фантастика,фэнтези,комедия', 'мультфильм,детский,комедия',\n",
       "       'мелодрама,комедия,триллер', 'документальный,боевик,приключения',\n",
       "       'драма,приключения', 'мелодрама,военный,драма', 'триллер,фэнтези',\n",
       "       'драма,триллер,биография', 'фэнтези,боевик,семейный',\n",
       "       'фантастика,триллер,комедия', 'документальный,фэнтези',\n",
       "       'комедия,мультфильм,фантастика', 'криминал,биография,комедия',\n",
       "       'биография,спорт,драма', 'приключения,военный',\n",
       "       'мультфильм,семейный,драма', 'документальный,фэнтези,драма',\n",
       "       'комедия,боевик,фантастика', 'семейный,приключения,военный',\n",
       "       'триллер,ужасы,детектив', 'короткометражка',\n",
       "       'мелодрама,триллер,история', 'документальный,история',\n",
       "       'мультфильм,приключения,детский', 'драма,комедия,мультфильм',\n",
       "       'военный,детектив', 'семейный,приключения,документальный',\n",
       "       'детский,фэнтези', 'документальный,комедия', 'комедия,биография',\n",
       "       'криминал,комедия', 'спорт,мелодрама,криминал',\n",
       "       'фантастика,комедия,боевик', 'боевик,приключения,детектив',\n",
       "       'детектив,триллер,драма', 'документальный,фантастика',\n",
       "       'мелодрама,комедия,семейный', 'мультфильм,мелодрама,комедия',\n",
       "       'драма,спорт,семейный', 'фантастика,мелодрама,фэнтези',\n",
       "       'мюзикл,комедия,музыка', 'фантастика,триллер,мелодрама',\n",
       "       'приключения,комедия,фэнтези', 'фэнтези,боевик,детектив',\n",
       "       'фэнтези,боевик,мелодрама', 'комедия,военный',\n",
       "       'драма,спорт,боевик', 'мультфильм,боевик,триллер',\n",
       "       'мелодрама,семейный', 'фантастика,боевик,детектив',\n",
       "       'драма,приключения,история', 'документальный,драма,музыка',\n",
       "       'фантастика,триллер,боевик', 'фэнтези,боевик,вестерн',\n",
       "       'драма,комедия,мелодрама', 'ужасы,фэнтези,приключения',\n",
       "       'триллер,фэнтези,драма', 'мультфильм,мюзикл,мелодрама',\n",
       "       'ужасы,триллер,фантастика', 'триллер,мелодрама,комедия',\n",
       "       'ужасы,комедия,семейный', 'комедия,приключения,музыка',\n",
       "       'документальный,комедия,криминал', 'мелодрама,детектив',\n",
       "       'детский,приключения,фантастика', 'короткометражка,боевик,драма',\n",
       "       'боевик,комедия,семейный', 'фантастика,боевик,мелодрама',\n",
       "       'фэнтези,триллер,мелодрама', 'драма,детектив,история',\n",
       "       'боевик,криминал,детектив', 'мультфильм,фэнтези,мелодрама',\n",
       "       'мелодрама,драма,боевик', 'драма,вестерн,приключения',\n",
       "       'драма,приключения,мелодрама', 'фэнтези,боевик,криминал',\n",
       "       'фантастика,комедия,семейный', 'детский,фэнтези,приключения',\n",
       "       'ужасы,боевик', 'фантастика,мелодрама,комедия',\n",
       "       'семейный,спорт,боевик', 'триллер,биография,драма',\n",
       "       'ужасы,драма,комедия', 'мультфильм,фэнтези,триллер', 'мюзикл',\n",
       "       'боевик,спорт,драма', 'комедия,приключения,вестерн',\n",
       "       'документальный,ужасы,боевик', 'фантастика,боевик,семейный',\n",
       "       'военный,история', 'ужасы,боевик,криминал', 'детектив,триллер',\n",
       "       'драма,семейный,комедия', 'драма,детектив,приключения',\n",
       "       'драма,криминал,история', 'приключения,триллер',\n",
       "       'боевик,драма,биография', 'драма,приключения,триллер',\n",
       "       'комедия,фэнтези,приключения', 'фантастика,боевик,ужасы',\n",
       "       'драма,комедия,фантастика', 'детектив,криминал,драма',\n",
       "       'боевик,триллер,фэнтези', 'приключения,детектив,семейный',\n",
       "       'ужасы,комедия,криминал', 'мультфильм,биография,драма',\n",
       "       'история,боевик,фэнтези', 'детектив,криминал,боевик',\n",
       "       'приключения,фэнтези', 'комедия,приключения,спорт',\n",
       "       'драма,биография,мюзикл', 'комедия,семейный,фэнтези',\n",
       "       'детектив,драма,триллер', 'боевик,приключения,семейный',\n",
       "       'биография,спорт,комедия', 'фантастика,приключения,военный',\n",
       "       'документальный,драма,биография', 'детектив,приключения,драма',\n",
       "       'аниме,мультфильм,приключения', 'семейный,приключения',\n",
       "       'ужасы,фэнтези,детектив', 'семейный,документальный',\n",
       "       'драма,приключения,семейный', 'приключения,история,военный',\n",
       "       'фэнтези,мелодрама', 'фэнтези,триллер,детектив',\n",
       "       'документальный,спорт,биография', 'комедия,триллер,драма',\n",
       "       'драма,ужасы', 'биография,музыка,драма', 'фэнтези,ужасы',\n",
       "       'детектив,мелодрама,фэнтези', 'боевик,военный,история',\n",
       "       'биография,драма,криминал', 'триллер,мелодрама,криминал',\n",
       "       'семейный,мелодрама', 'биография,драма', 'военный,история,драма',\n",
       "       'фантастика,детектив,фэнтези', 'детектив,приключения,триллер',\n",
       "       'фантастика,приключения', 'мультфильм,короткометражка,мюзикл',\n",
       "       'мультфильм,детский,семейный', 'документальный,драма,комедия',\n",
       "       'комедия,приключения,криминал', 'документальный,семейный,музыка',\n",
       "       'мелодрама,музыка,драма', 'детектив,фантастика,триллер',\n",
       "       'драма,мелодрама,триллер', 'биография,драма,военный',\n",
       "       'приключения,фантастика,драма', 'детектив,фильм-нуар,комедия',\n",
       "       'документальный,спорт', 'триллер,фантастика,драма',\n",
       "       'биография,документальный', 'ужасы,фантастика,мелодрама',\n",
       "       'детектив,комедия', 'история,биография,военный',\n",
       "       'криминал,мелодрама', 'драма,криминал,вестерн',\n",
       "       'мелодрама,семейный,приключения', 'триллер,ужасы,мелодрама',\n",
       "       'фэнтези,драма,фильм-нуар', 'детектив,мелодрама',\n",
       "       'комедия,драма,биография', 'драма,военный,боевик',\n",
       "       'драма,комедия,ужасы', 'фантастика,драма,криминал',\n",
       "       'документальный,музыка,биография', 'мультфильм,боевик,приключения',\n",
       "       'короткометражка,фантастика', 'мультфильм,мелодрама,драма',\n",
       "       'боевик,военный,драма', 'фэнтези,семейный,приключения',\n",
       "       'детский,мультфильм,приключения', 'семейный,фэнтези,комедия',\n",
       "       'фэнтези,ужасы,триллер', 'ужасы,триллер,приключения',\n",
       "       'драма,боевик,история', 'фэнтези,комедия,детектив',\n",
       "       'история,приключения', 'аниме,мультфильм,короткометражка',\n",
       "       'драма,военный,триллер', 'биография,криминал,триллер',\n",
       "       'фантастика,фэнтези,детектив', 'вестерн,биография,драма',\n",
       "       'биография,музыка,мюзикл', 'драма,история,биография',\n",
       "       'приключения,драма,фантастика', 'комедия,фэнтези,криминал',\n",
       "       'биография,спорт,история', 'драма,криминал,семейный',\n",
       "       'детектив,боевик,история', 'ужасы,комедия,детектив',\n",
       "       'триллер,приключения,драма', 'фэнтези,комедия,криминал',\n",
       "       'триллер,криминал,приключения', 'комедия,детектив,приключения',\n",
       "       'фэнтези,драма,ужасы', 'ужасы,драма,военный', 'реальное ТВ',\n",
       "       'аниме,мультфильм,детектив', 'приключения,фэнтези,семейный',\n",
       "       'драма,биография,комедия', 'триллер,комедия,ужасы',\n",
       "       'музыка,мелодрама,фэнтези', 'мультфильм,история',\n",
       "       'мультфильм,комедия,фантастика', 'биография,криминал,драма',\n",
       "       'комедия,мелодрама,фантастика', 'криминал,боевик,комедия',\n",
       "       'история,криминал', 'детектив,комедия,драма',\n",
       "       'триллер,фантастика,боевик', 'криминал,боевик',\n",
       "       'комедия,драма,военный', 'драма,триллер,криминал',\n",
       "       'мультфильм,мелодрама,приключения', 'фантастика,фэнтези,триллер',\n",
       "       'короткометражка,драма,триллер', 'военный,боевик,история',\n",
       "       'боевик,драма,триллер', 'документальный,военный,драма',\n",
       "       'драма,криминал,фильм-нуар', 'мультфильм,детский,приключения',\n",
       "       'мелодрама,история,драма'], dtype=object)"
      ]
     },
     "execution_count": 50,
     "metadata": {},
     "output_type": "execute_result"
    }
   ],
   "source": [
    "df['genres'].unique()"
   ]
  },
  {
   "cell_type": "code",
   "execution_count": 51,
   "metadata": {},
   "outputs": [
    {
     "data": {
      "text/plain": [
       "743"
      ]
     },
     "execution_count": 51,
     "metadata": {},
     "output_type": "execute_result"
    }
   ],
   "source": [
    "len(df['genres'].unique())"
   ]
  },
  {
   "cell_type": "markdown",
   "metadata": {},
   "source": [
    "Проблема столбцов `'film_studio', 'production_country', 'director', 'producer','genres'` в том, что некоторые записи в этих столбцах представляют собой не категории, а список из комбинации категорий. То есть реальных категорий используется гораздо меньше, чем существует записей."
   ]
  },
  {
   "cell_type": "markdown",
   "metadata": {
    "id": "XFSN5lrEgFyR"
   },
   "source": [
    "### Проверка количественных значений"
   ]
  },
  {
   "cell_type": "markdown",
   "metadata": {},
   "source": [
    "Проверим данные на наличие ошибок среди количественных значений. Например величина бюджета фильма может быть меньше, чем сумма всех средств государственной поддержки:"
   ]
  },
  {
   "cell_type": "code",
   "execution_count": 52,
   "metadata": {
    "id": "YbzClBxagFyS",
    "scrolled": false
   },
   "outputs": [
    {
     "data": {
      "text/html": [
       "<div>\n",
       "<style scoped>\n",
       "    .dataframe tbody tr th:only-of-type {\n",
       "        vertical-align: middle;\n",
       "    }\n",
       "\n",
       "    .dataframe tbody tr th {\n",
       "        vertical-align: top;\n",
       "    }\n",
       "\n",
       "    .dataframe thead th {\n",
       "        text-align: right;\n",
       "    }\n",
       "</style>\n",
       "<table border=\"1\" class=\"dataframe\">\n",
       "  <thead>\n",
       "    <tr style=\"text-align: right;\">\n",
       "      <th></th>\n",
       "      <th>title</th>\n",
       "      <th>pu_number</th>\n",
       "      <th>show_start_date</th>\n",
       "      <th>type</th>\n",
       "      <th>film_studio</th>\n",
       "      <th>production_country</th>\n",
       "      <th>director</th>\n",
       "      <th>producer</th>\n",
       "      <th>age_restriction</th>\n",
       "      <th>refundable_support</th>\n",
       "      <th>nonrefundable_support</th>\n",
       "      <th>budget</th>\n",
       "      <th>financing_source</th>\n",
       "      <th>ratings</th>\n",
       "      <th>genres</th>\n",
       "      <th>box_office</th>\n",
       "    </tr>\n",
       "  </thead>\n",
       "  <tbody>\n",
       "    <tr>\n",
       "      <td>2053</td>\n",
       "      <td>14+</td>\n",
       "      <td>111023614</td>\n",
       "      <td>2014-12-19 12:00:00+00:00</td>\n",
       "      <td>Художественный</td>\n",
       "      <td>ООО Киностудия  \"Сентябрь\"</td>\n",
       "      <td>Россия</td>\n",
       "      <td>А.Зайцев</td>\n",
       "      <td>О.Гранина, А.Зайцев</td>\n",
       "      <td>«16+» - для детей старше 16 лет</td>\n",
       "      <td>0.00</td>\n",
       "      <td>23,000,000.00</td>\n",
       "      <td>0.00</td>\n",
       "      <td>Министерство культуры, Фонд кино</td>\n",
       "      <td>6.60</td>\n",
       "      <td>мелодрама</td>\n",
       "      <td>10,234,016.10</td>\n",
       "    </tr>\n",
       "    <tr>\n",
       "      <td>2058</td>\n",
       "      <td>Дуxless 2</td>\n",
       "      <td>111000415</td>\n",
       "      <td>2015-01-26 12:00:00+00:00</td>\n",
       "      <td>Художественный</td>\n",
       "      <td>ООО \"Киностудия \"Слово\", ООО \"Арт Пикчерс Студия\"</td>\n",
       "      <td>Россия</td>\n",
       "      <td>Р.Прыгунов</td>\n",
       "      <td>П.Ануров, Ф.Бондарчук, Д.Рудовский</td>\n",
       "      <td>«16+» - для детей старше 16 лет</td>\n",
       "      <td>0.00</td>\n",
       "      <td>75,000,000.00</td>\n",
       "      <td>0.00</td>\n",
       "      <td>Фонд кино</td>\n",
       "      <td>6.60</td>\n",
       "      <td>драма</td>\n",
       "      <td>446,163,511.00</td>\n",
       "    </tr>\n",
       "    <tr>\n",
       "      <td>2472</td>\n",
       "      <td>Воин (2015)</td>\n",
       "      <td>111017315</td>\n",
       "      <td>2015-09-28 12:00:00+00:00</td>\n",
       "      <td>Художественный</td>\n",
       "      <td>ООО \"Форпост Продакшн\", ООО \"Арт Пикчерс Студия\"</td>\n",
       "      <td>Россия</td>\n",
       "      <td>А.Андрианов</td>\n",
       "      <td>ООО \"Арт Пикчерс Студия\"</td>\n",
       "      <td>«12+» - для детей старше 12 лет</td>\n",
       "      <td>10,000,000.00</td>\n",
       "      <td>70,000,000.00</td>\n",
       "      <td>0.00</td>\n",
       "      <td>Фонд кино</td>\n",
       "      <td>7.80</td>\n",
       "      <td>боевик,драма,криминал</td>\n",
       "      <td>196,572,438.40</td>\n",
       "    </tr>\n",
       "    <tr>\n",
       "      <td>2532</td>\n",
       "      <td>Бармен.</td>\n",
       "      <td>111009615</td>\n",
       "      <td>2015-05-26 12:00:00+00:00</td>\n",
       "      <td>Художественный</td>\n",
       "      <td>АО \"ВайТ Медиа\", ООО \"Арт Пикчерс Студия\"</td>\n",
       "      <td>Россия</td>\n",
       "      <td>Д.Штурманова</td>\n",
       "      <td>Т.Вайнштейн</td>\n",
       "      <td>«16+» - для детей старше 16 лет</td>\n",
       "      <td>20,000,000.00</td>\n",
       "      <td>0.00</td>\n",
       "      <td>0.00</td>\n",
       "      <td>Фонд кино</td>\n",
       "      <td>6.20</td>\n",
       "      <td>комедия,фэнтези</td>\n",
       "      <td>67,418,974.80</td>\n",
       "    </tr>\n",
       "    <tr>\n",
       "      <td>2615</td>\n",
       "      <td>Савва. Сердце воина</td>\n",
       "      <td>114001715</td>\n",
       "      <td>2015-07-21 12:00:00+00:00</td>\n",
       "      <td>Анимационный</td>\n",
       "      <td>ООО \"Глюкоза Продакшн\", ООО \"Арт Пикчерс Студия\"</td>\n",
       "      <td>Россия</td>\n",
       "      <td>М.Фадеев</td>\n",
       "      <td>А.Чистяков</td>\n",
       "      <td>«6+» - для детей старше 6 лет</td>\n",
       "      <td>60,000,000.00</td>\n",
       "      <td>100,000,000.00</td>\n",
       "      <td>0.00</td>\n",
       "      <td>Фонд кино</td>\n",
       "      <td>4.60</td>\n",
       "      <td>мультфильм,приключения,фэнтези</td>\n",
       "      <td>184,487,551.40</td>\n",
       "    </tr>\n",
       "    <tr>\n",
       "      <td>2684</td>\n",
       "      <td>Тряпичный союз</td>\n",
       "      <td>111010215</td>\n",
       "      <td>2015-06-08 12:00:00+00:00</td>\n",
       "      <td>Художественный</td>\n",
       "      <td>ООО \"Кинокомпания \"КОКТЕБЕЛЬ\"</td>\n",
       "      <td>Россия</td>\n",
       "      <td>М.Местецкий</td>\n",
       "      <td>Р.Борисевич, А.Кушаев</td>\n",
       "      <td>«18+» - запрещено для детей</td>\n",
       "      <td>0.00</td>\n",
       "      <td>59,000,000.00</td>\n",
       "      <td>0.00</td>\n",
       "      <td>Фонд кино</td>\n",
       "      <td>6.30</td>\n",
       "      <td>комедия,драма</td>\n",
       "      <td>1,957,738.51</td>\n",
       "    </tr>\n",
       "    <tr>\n",
       "      <td>2788</td>\n",
       "      <td>Срочно выйду замуж</td>\n",
       "      <td>111017115</td>\n",
       "      <td>2015-09-30 12:00:00+00:00</td>\n",
       "      <td>Художественный</td>\n",
       "      <td>АО \"ВайТ Медиа\", ООО \"Арт Пикчерс Студия\"</td>\n",
       "      <td>Россия</td>\n",
       "      <td>С Чекалов</td>\n",
       "      <td>Ф.Бондарчук, Т.Вайнштейн, Д.Рудовский</td>\n",
       "      <td>«16+» - для детей старше 16 лет</td>\n",
       "      <td>0.00</td>\n",
       "      <td>35,000,000.00</td>\n",
       "      <td>0.00</td>\n",
       "      <td>Фонд кино</td>\n",
       "      <td>5.10</td>\n",
       "      <td>комедия,мелодрама</td>\n",
       "      <td>72,937,783.20</td>\n",
       "    </tr>\n",
       "    <tr>\n",
       "      <td>2874</td>\n",
       "      <td>Помню - не помню!</td>\n",
       "      <td>111004916</td>\n",
       "      <td>2016-03-01 12:00:00+00:00</td>\n",
       "      <td>Художественный</td>\n",
       "      <td>ООО \"КиноФирма\"</td>\n",
       "      <td>Россия</td>\n",
       "      <td>В.Ровенский</td>\n",
       "      <td>ООО \"КиноФирма\"</td>\n",
       "      <td>«12+» - для детей старше 12 лет</td>\n",
       "      <td>0.00</td>\n",
       "      <td>6,000,000.00</td>\n",
       "      <td>0.00</td>\n",
       "      <td>Министерство культуры</td>\n",
       "      <td>4.30</td>\n",
       "      <td>комедия</td>\n",
       "      <td>15,362,931.43</td>\n",
       "    </tr>\n",
       "    <tr>\n",
       "      <td>3047</td>\n",
       "      <td>Любовь с ограничениями</td>\n",
       "      <td>111008216</td>\n",
       "      <td>2016-04-29 12:00:00+00:00</td>\n",
       "      <td>Художественный</td>\n",
       "      <td>АО \"ВайТ Медиа\", ООО \"Арт Пикчерс Студия\"</td>\n",
       "      <td>Россия</td>\n",
       "      <td>Д.Тюрин</td>\n",
       "      <td>Ф.Бондарчук, Т.Вайнштейн, Д.Рудовский</td>\n",
       "      <td>«16+» - для детей старше 16 лет</td>\n",
       "      <td>19,000,000.00</td>\n",
       "      <td>51,000,000.00</td>\n",
       "      <td>0.00</td>\n",
       "      <td>Фонд кино</td>\n",
       "      <td>6.30</td>\n",
       "      <td>комедия,мелодрама</td>\n",
       "      <td>70,299,052.00</td>\n",
       "    </tr>\n",
       "    <tr>\n",
       "      <td>3565</td>\n",
       "      <td>Притяжение (2016)</td>\n",
       "      <td>111018116</td>\n",
       "      <td>2016-12-16 12:00:00+00:00</td>\n",
       "      <td>Художественный</td>\n",
       "      <td>ООО \"Водород 2011\",  ООО \"Арт Пикчерс Студия\"</td>\n",
       "      <td>Россия</td>\n",
       "      <td>Ф.Бондарчук</td>\n",
       "      <td>ООО \"Арт Пикчерс Студия\"</td>\n",
       "      <td>«12+» - для детей старше 12 лет</td>\n",
       "      <td>0.00</td>\n",
       "      <td>250,000,000.00</td>\n",
       "      <td>0.00</td>\n",
       "      <td>Фонд кино</td>\n",
       "      <td>5.60</td>\n",
       "      <td>фантастика</td>\n",
       "      <td>1,038,321,489.00</td>\n",
       "    </tr>\n",
       "    <tr>\n",
       "      <td>3675</td>\n",
       "      <td>Чудо-юдо</td>\n",
       "      <td>114001817</td>\n",
       "      <td>2017-06-27 12:00:00+00:00</td>\n",
       "      <td>Анимационный</td>\n",
       "      <td>ООО \"КиноФирма\"</td>\n",
       "      <td>Россия</td>\n",
       "      <td>А.Лукичев</td>\n",
       "      <td>ООО \"КиноФирма\"</td>\n",
       "      <td>«6+» - для детей старше 6 лет</td>\n",
       "      <td>20,000,000.00</td>\n",
       "      <td>20,000,000.00</td>\n",
       "      <td>0.00</td>\n",
       "      <td>Фонд кино</td>\n",
       "      <td>5.20</td>\n",
       "      <td>мультфильм,фэнтези,семейный</td>\n",
       "      <td>55,108,014.76</td>\n",
       "    </tr>\n",
       "    <tr>\n",
       "      <td>3739</td>\n",
       "      <td>Мифы</td>\n",
       "      <td>111004317</td>\n",
       "      <td>2017-06-07 12:00:00+00:00</td>\n",
       "      <td>Художественный</td>\n",
       "      <td>ООО \"ХАЙПФИЛМ\", ООО \"Арт Пикчерс Студия\"</td>\n",
       "      <td>Россия</td>\n",
       "      <td>А.Молочников</td>\n",
       "      <td>Ф.Бондарчук, Д.Рудовский, И.Стюарт, М.Османн, ...</td>\n",
       "      <td>«16+» - для детей старше 16 лет</td>\n",
       "      <td>25,000,000.00</td>\n",
       "      <td>20,000,000.00</td>\n",
       "      <td>0.00</td>\n",
       "      <td>Фонд кино</td>\n",
       "      <td>4.80</td>\n",
       "      <td>комедия</td>\n",
       "      <td>50,451,949.00</td>\n",
       "    </tr>\n",
       "    <tr>\n",
       "      <td>5673</td>\n",
       "      <td>Селфи</td>\n",
       "      <td>111012117</td>\n",
       "      <td>2018-02-01 12:00:00+00:00</td>\n",
       "      <td>Художественный</td>\n",
       "      <td>ООО \"Киностудия \"Слово\", ООО \"Арт Пикчерс Студия\"</td>\n",
       "      <td>Россия</td>\n",
       "      <td>Н.Хомерики</td>\n",
       "      <td>П.Ануров, Ф.Бондарчук, Д.Рудовский</td>\n",
       "      <td>«16+» - для детей старше 16 лет</td>\n",
       "      <td>20,000,000.00</td>\n",
       "      <td>40,000,000.00</td>\n",
       "      <td>0.00</td>\n",
       "      <td>Фонд кино</td>\n",
       "      <td>5.80</td>\n",
       "      <td>триллер,драма</td>\n",
       "      <td>225,196,400.03</td>\n",
       "    </tr>\n",
       "    <tr>\n",
       "      <td>5806</td>\n",
       "      <td>Два хвоста</td>\n",
       "      <td>114001018</td>\n",
       "      <td>2018-05-31 12:00:00+00:00</td>\n",
       "      <td>Анимационный</td>\n",
       "      <td>ООО \"ЛИЦЕНЗИОННЫЕ БРЕНДЫ\"</td>\n",
       "      <td>Россия</td>\n",
       "      <td>В.Ровенский, Н.Лопато, В.Азеев</td>\n",
       "      <td>ООО \"ЛИЦЕНЗИОННЫЕ БРЕНДЫ\"</td>\n",
       "      <td>«6+» - для детей старше 6 лет</td>\n",
       "      <td>10,000,000.00</td>\n",
       "      <td>60,000,000.00</td>\n",
       "      <td>0.00</td>\n",
       "      <td>Фонд кино</td>\n",
       "      <td>5.00</td>\n",
       "      <td>мультфильм,детский</td>\n",
       "      <td>106,514,301.03</td>\n",
       "    </tr>\n",
       "    <tr>\n",
       "      <td>6008</td>\n",
       "      <td>Принцесса и дракон</td>\n",
       "      <td>114003018</td>\n",
       "      <td>2018-08-23 12:00:00+00:00</td>\n",
       "      <td>Анимационный</td>\n",
       "      <td>ООО \"ЛИЦЕНЗИОННЫЕ БРЕНДЫ\"</td>\n",
       "      <td>Россия</td>\n",
       "      <td>М.Нефедова</td>\n",
       "      <td>ООО \"ЛИЦЕНЗИОННЫЕ БРЕНДЫ\"</td>\n",
       "      <td>«6+» - для детей старше 6 лет</td>\n",
       "      <td>40,000,000.00</td>\n",
       "      <td>40,000,000.00</td>\n",
       "      <td>0.00</td>\n",
       "      <td>Фонд кино</td>\n",
       "      <td>5.20</td>\n",
       "      <td>мультфильм,фэнтези,детский</td>\n",
       "      <td>83,366,328.66</td>\n",
       "    </tr>\n",
       "    <tr>\n",
       "      <td>6323</td>\n",
       "      <td>Баба Яга</td>\n",
       "      <td>114006518</td>\n",
       "      <td>2018-11-08 12:00:00+00:00</td>\n",
       "      <td>Анимационный</td>\n",
       "      <td>ООО \"Арт Пикчерс Студия\"</td>\n",
       "      <td>Россия</td>\n",
       "      <td>В.Саков</td>\n",
       "      <td>ООО \"Арт Пикчерс Студия\", ООО \"КРИЭЙТИВ АНИМЭЙ...</td>\n",
       "      <td>«6+» - для детей старше 6 лет</td>\n",
       "      <td>0.00</td>\n",
       "      <td>138,969,465.00</td>\n",
       "      <td>0.00</td>\n",
       "      <td>Фонд кино</td>\n",
       "      <td>nan</td>\n",
       "      <td>неизвестен</td>\n",
       "      <td>1,334,699.40</td>\n",
       "    </tr>\n",
       "    <tr>\n",
       "      <td>6823</td>\n",
       "      <td>Большое путешествие</td>\n",
       "      <td>114002419</td>\n",
       "      <td>2019-04-20 12:00:00+00:00</td>\n",
       "      <td>Анимационный</td>\n",
       "      <td>ООО \"ЛИЦЕНЗИОННЫЕ БРЕНДЫ\"</td>\n",
       "      <td>Россия</td>\n",
       "      <td>Н.Лопато, В.Ровенский</td>\n",
       "      <td>ООО \"ЛИЦЕНЗИОННЫЕ БРЕНДЫ\"</td>\n",
       "      <td>«6+» - для детей старше 6 лет</td>\n",
       "      <td>60,000,000.00</td>\n",
       "      <td>120,000,000.00</td>\n",
       "      <td>0.00</td>\n",
       "      <td>Фонд кино</td>\n",
       "      <td>6.20</td>\n",
       "      <td>мультфильм,комедия,приключения</td>\n",
       "      <td>147,606,826.51</td>\n",
       "    </tr>\n",
       "  </tbody>\n",
       "</table>\n",
       "</div>"
      ],
      "text/plain": [
       "                       title  pu_number           show_start_date  \\\n",
       "2053                     14+  111023614 2014-12-19 12:00:00+00:00   \n",
       "2058               Дуxless 2  111000415 2015-01-26 12:00:00+00:00   \n",
       "2472             Воин (2015)  111017315 2015-09-28 12:00:00+00:00   \n",
       "2532                 Бармен.  111009615 2015-05-26 12:00:00+00:00   \n",
       "2615     Савва. Сердце воина  114001715 2015-07-21 12:00:00+00:00   \n",
       "2684          Тряпичный союз  111010215 2015-06-08 12:00:00+00:00   \n",
       "2788      Срочно выйду замуж  111017115 2015-09-30 12:00:00+00:00   \n",
       "2874       Помню - не помню!  111004916 2016-03-01 12:00:00+00:00   \n",
       "3047  Любовь с ограничениями  111008216 2016-04-29 12:00:00+00:00   \n",
       "3565       Притяжение (2016)  111018116 2016-12-16 12:00:00+00:00   \n",
       "3675                Чудо-юдо  114001817 2017-06-27 12:00:00+00:00   \n",
       "3739                    Мифы  111004317 2017-06-07 12:00:00+00:00   \n",
       "5673                   Селфи  111012117 2018-02-01 12:00:00+00:00   \n",
       "5806              Два хвоста  114001018 2018-05-31 12:00:00+00:00   \n",
       "6008      Принцесса и дракон  114003018 2018-08-23 12:00:00+00:00   \n",
       "6323                Баба Яга  114006518 2018-11-08 12:00:00+00:00   \n",
       "6823     Большое путешествие  114002419 2019-04-20 12:00:00+00:00   \n",
       "\n",
       "                type                                        film_studio  \\\n",
       "2053  Художественный                         ООО Киностудия  \"Сентябрь\"   \n",
       "2058  Художественный  ООО \"Киностудия \"Слово\", ООО \"Арт Пикчерс Студия\"   \n",
       "2472  Художественный   ООО \"Форпост Продакшн\", ООО \"Арт Пикчерс Студия\"   \n",
       "2532  Художественный          АО \"ВайТ Медиа\", ООО \"Арт Пикчерс Студия\"   \n",
       "2615    Анимационный   ООО \"Глюкоза Продакшн\", ООО \"Арт Пикчерс Студия\"   \n",
       "2684  Художественный                      ООО \"Кинокомпания \"КОКТЕБЕЛЬ\"   \n",
       "2788  Художественный          АО \"ВайТ Медиа\", ООО \"Арт Пикчерс Студия\"   \n",
       "2874  Художественный                                    ООО \"КиноФирма\"   \n",
       "3047  Художественный          АО \"ВайТ Медиа\", ООО \"Арт Пикчерс Студия\"   \n",
       "3565  Художественный      ООО \"Водород 2011\",  ООО \"Арт Пикчерс Студия\"   \n",
       "3675    Анимационный                                    ООО \"КиноФирма\"   \n",
       "3739  Художественный           ООО \"ХАЙПФИЛМ\", ООО \"Арт Пикчерс Студия\"   \n",
       "5673  Художественный  ООО \"Киностудия \"Слово\", ООО \"Арт Пикчерс Студия\"   \n",
       "5806    Анимационный                          ООО \"ЛИЦЕНЗИОННЫЕ БРЕНДЫ\"   \n",
       "6008    Анимационный                          ООО \"ЛИЦЕНЗИОННЫЕ БРЕНДЫ\"   \n",
       "6323    Анимационный                           ООО \"Арт Пикчерс Студия\"   \n",
       "6823    Анимационный                          ООО \"ЛИЦЕНЗИОННЫЕ БРЕНДЫ\"   \n",
       "\n",
       "     production_country                        director  \\\n",
       "2053             Россия                        А.Зайцев   \n",
       "2058             Россия                      Р.Прыгунов   \n",
       "2472             Россия                     А.Андрианов   \n",
       "2532             Россия                    Д.Штурманова   \n",
       "2615             Россия                        М.Фадеев   \n",
       "2684             Россия                     М.Местецкий   \n",
       "2788             Россия                       С Чекалов   \n",
       "2874             Россия                     В.Ровенский   \n",
       "3047             Россия                         Д.Тюрин   \n",
       "3565             Россия                     Ф.Бондарчук   \n",
       "3675             Россия                       А.Лукичев   \n",
       "3739             Россия                    А.Молочников   \n",
       "5673             Россия                      Н.Хомерики   \n",
       "5806             Россия  В.Ровенский, Н.Лопато, В.Азеев   \n",
       "6008             Россия                      М.Нефедова   \n",
       "6323             Россия                         В.Саков   \n",
       "6823             Россия           Н.Лопато, В.Ровенский   \n",
       "\n",
       "                                               producer  \\\n",
       "2053                                О.Гранина, А.Зайцев   \n",
       "2058                 П.Ануров, Ф.Бондарчук, Д.Рудовский   \n",
       "2472                           ООО \"Арт Пикчерс Студия\"   \n",
       "2532                                        Т.Вайнштейн   \n",
       "2615                                         А.Чистяков   \n",
       "2684                              Р.Борисевич, А.Кушаев   \n",
       "2788              Ф.Бондарчук, Т.Вайнштейн, Д.Рудовский   \n",
       "2874                                    ООО \"КиноФирма\"   \n",
       "3047              Ф.Бондарчук, Т.Вайнштейн, Д.Рудовский   \n",
       "3565                           ООО \"Арт Пикчерс Студия\"   \n",
       "3675                                    ООО \"КиноФирма\"   \n",
       "3739  Ф.Бондарчук, Д.Рудовский, И.Стюарт, М.Османн, ...   \n",
       "5673                 П.Ануров, Ф.Бондарчук, Д.Рудовский   \n",
       "5806                          ООО \"ЛИЦЕНЗИОННЫЕ БРЕНДЫ\"   \n",
       "6008                          ООО \"ЛИЦЕНЗИОННЫЕ БРЕНДЫ\"   \n",
       "6323  ООО \"Арт Пикчерс Студия\", ООО \"КРИЭЙТИВ АНИМЭЙ...   \n",
       "6823                          ООО \"ЛИЦЕНЗИОННЫЕ БРЕНДЫ\"   \n",
       "\n",
       "                      age_restriction  refundable_support  \\\n",
       "2053  «16+» - для детей старше 16 лет                0.00   \n",
       "2058  «16+» - для детей старше 16 лет                0.00   \n",
       "2472  «12+» - для детей старше 12 лет       10,000,000.00   \n",
       "2532  «16+» - для детей старше 16 лет       20,000,000.00   \n",
       "2615    «6+» - для детей старше 6 лет       60,000,000.00   \n",
       "2684      «18+» - запрещено для детей                0.00   \n",
       "2788  «16+» - для детей старше 16 лет                0.00   \n",
       "2874  «12+» - для детей старше 12 лет                0.00   \n",
       "3047  «16+» - для детей старше 16 лет       19,000,000.00   \n",
       "3565  «12+» - для детей старше 12 лет                0.00   \n",
       "3675    «6+» - для детей старше 6 лет       20,000,000.00   \n",
       "3739  «16+» - для детей старше 16 лет       25,000,000.00   \n",
       "5673  «16+» - для детей старше 16 лет       20,000,000.00   \n",
       "5806    «6+» - для детей старше 6 лет       10,000,000.00   \n",
       "6008    «6+» - для детей старше 6 лет       40,000,000.00   \n",
       "6323    «6+» - для детей старше 6 лет                0.00   \n",
       "6823    «6+» - для детей старше 6 лет       60,000,000.00   \n",
       "\n",
       "      nonrefundable_support  budget                  financing_source  \\\n",
       "2053          23,000,000.00    0.00  Министерство культуры, Фонд кино   \n",
       "2058          75,000,000.00    0.00                         Фонд кино   \n",
       "2472          70,000,000.00    0.00                         Фонд кино   \n",
       "2532                   0.00    0.00                         Фонд кино   \n",
       "2615         100,000,000.00    0.00                         Фонд кино   \n",
       "2684          59,000,000.00    0.00                         Фонд кино   \n",
       "2788          35,000,000.00    0.00                         Фонд кино   \n",
       "2874           6,000,000.00    0.00             Министерство культуры   \n",
       "3047          51,000,000.00    0.00                         Фонд кино   \n",
       "3565         250,000,000.00    0.00                         Фонд кино   \n",
       "3675          20,000,000.00    0.00                         Фонд кино   \n",
       "3739          20,000,000.00    0.00                         Фонд кино   \n",
       "5673          40,000,000.00    0.00                         Фонд кино   \n",
       "5806          60,000,000.00    0.00                         Фонд кино   \n",
       "6008          40,000,000.00    0.00                         Фонд кино   \n",
       "6323         138,969,465.00    0.00                         Фонд кино   \n",
       "6823         120,000,000.00    0.00                         Фонд кино   \n",
       "\n",
       "      ratings                          genres       box_office  \n",
       "2053     6.60                       мелодрама    10,234,016.10  \n",
       "2058     6.60                           драма   446,163,511.00  \n",
       "2472     7.80           боевик,драма,криминал   196,572,438.40  \n",
       "2532     6.20                 комедия,фэнтези    67,418,974.80  \n",
       "2615     4.60  мультфильм,приключения,фэнтези   184,487,551.40  \n",
       "2684     6.30                   комедия,драма     1,957,738.51  \n",
       "2788     5.10               комедия,мелодрама    72,937,783.20  \n",
       "2874     4.30                         комедия    15,362,931.43  \n",
       "3047     6.30               комедия,мелодрама    70,299,052.00  \n",
       "3565     5.60                      фантастика 1,038,321,489.00  \n",
       "3675     5.20     мультфильм,фэнтези,семейный    55,108,014.76  \n",
       "3739     4.80                         комедия    50,451,949.00  \n",
       "5673     5.80                   триллер,драма   225,196,400.03  \n",
       "5806     5.00              мультфильм,детский   106,514,301.03  \n",
       "6008     5.20      мультфильм,фэнтези,детский    83,366,328.66  \n",
       "6323      nan                      неизвестен     1,334,699.40  \n",
       "6823     6.20  мультфильм,комедия,приключения   147,606,826.51  "
      ]
     },
     "execution_count": 52,
     "metadata": {},
     "output_type": "execute_result"
    }
   ],
   "source": [
    "df.query('budget < (refundable_support + nonrefundable_support)')"
   ]
  },
  {
   "cell_type": "markdown",
   "metadata": {},
   "source": [
    "Нашлось 17 записей фильмов с присутствием господдержки и нулевыми бюджетами. Это явная ошибка, поскольку бюджет включает в себя всю государственную помощь. Исправим эту ошибку:"
   ]
  },
  {
   "cell_type": "code",
   "execution_count": 53,
   "metadata": {},
   "outputs": [],
   "source": [
    "bad_budget = df.query('budget < (refundable_support + nonrefundable_support)')"
   ]
  },
  {
   "cell_type": "code",
   "execution_count": 54,
   "metadata": {},
   "outputs": [
    {
     "name": "stdout",
     "output_type": "stream",
     "text": [
      "Пропуски до: 17\n",
      "Пропуски после: 0\n"
     ]
    }
   ],
   "source": [
    "print('Пропуски до:', df.loc[df['budget'] < (df['refundable_support'] + df['nonrefundable_support']), 'budget'].count())\n",
    "df.loc[df['budget'] < (df['refundable_support'] + df['nonrefundable_support']), 'budget'] = (\n",
    "    df.loc[df['budget'] < (df['refundable_support'] + df['nonrefundable_support']), 'refundable_support'] + \n",
    "    df.loc[df['budget'] < (df['refundable_support'] + df['nonrefundable_support']), 'nonrefundable_support']\n",
    ")\n",
    "print('Пропуски после:', df.loc[df['budget'] < (df['refundable_support'] + df['nonrefundable_support']), 'budget'].count())"
   ]
  },
  {
   "cell_type": "code",
   "execution_count": 55,
   "metadata": {
    "scrolled": true
   },
   "outputs": [
    {
     "data": {
      "text/html": [
       "<div>\n",
       "<style scoped>\n",
       "    .dataframe tbody tr th:only-of-type {\n",
       "        vertical-align: middle;\n",
       "    }\n",
       "\n",
       "    .dataframe tbody tr th {\n",
       "        vertical-align: top;\n",
       "    }\n",
       "\n",
       "    .dataframe thead th {\n",
       "        text-align: right;\n",
       "    }\n",
       "</style>\n",
       "<table border=\"1\" class=\"dataframe\">\n",
       "  <thead>\n",
       "    <tr style=\"text-align: right;\">\n",
       "      <th></th>\n",
       "      <th>title</th>\n",
       "      <th>pu_number</th>\n",
       "      <th>show_start_date</th>\n",
       "      <th>type</th>\n",
       "      <th>film_studio</th>\n",
       "      <th>production_country</th>\n",
       "      <th>director</th>\n",
       "      <th>producer</th>\n",
       "      <th>age_restriction</th>\n",
       "      <th>refundable_support</th>\n",
       "      <th>nonrefundable_support</th>\n",
       "      <th>budget</th>\n",
       "      <th>financing_source</th>\n",
       "      <th>ratings</th>\n",
       "      <th>genres</th>\n",
       "      <th>box_office</th>\n",
       "    </tr>\n",
       "  </thead>\n",
       "  <tbody>\n",
       "    <tr>\n",
       "      <td>2053</td>\n",
       "      <td>14+</td>\n",
       "      <td>111023614</td>\n",
       "      <td>2014-12-19 12:00:00+00:00</td>\n",
       "      <td>Художественный</td>\n",
       "      <td>ООО Киностудия  \"Сентябрь\"</td>\n",
       "      <td>Россия</td>\n",
       "      <td>А.Зайцев</td>\n",
       "      <td>О.Гранина, А.Зайцев</td>\n",
       "      <td>«16+» - для детей старше 16 лет</td>\n",
       "      <td>0.00</td>\n",
       "      <td>23,000,000.00</td>\n",
       "      <td>23,000,000.00</td>\n",
       "      <td>Министерство культуры, Фонд кино</td>\n",
       "      <td>6.60</td>\n",
       "      <td>мелодрама</td>\n",
       "      <td>10,234,016.10</td>\n",
       "    </tr>\n",
       "    <tr>\n",
       "      <td>2058</td>\n",
       "      <td>Дуxless 2</td>\n",
       "      <td>111000415</td>\n",
       "      <td>2015-01-26 12:00:00+00:00</td>\n",
       "      <td>Художественный</td>\n",
       "      <td>ООО \"Киностудия \"Слово\", ООО \"Арт Пикчерс Студия\"</td>\n",
       "      <td>Россия</td>\n",
       "      <td>Р.Прыгунов</td>\n",
       "      <td>П.Ануров, Ф.Бондарчук, Д.Рудовский</td>\n",
       "      <td>«16+» - для детей старше 16 лет</td>\n",
       "      <td>0.00</td>\n",
       "      <td>75,000,000.00</td>\n",
       "      <td>75,000,000.00</td>\n",
       "      <td>Фонд кино</td>\n",
       "      <td>6.60</td>\n",
       "      <td>драма</td>\n",
       "      <td>446,163,511.00</td>\n",
       "    </tr>\n",
       "    <tr>\n",
       "      <td>2472</td>\n",
       "      <td>Воин (2015)</td>\n",
       "      <td>111017315</td>\n",
       "      <td>2015-09-28 12:00:00+00:00</td>\n",
       "      <td>Художественный</td>\n",
       "      <td>ООО \"Форпост Продакшн\", ООО \"Арт Пикчерс Студия\"</td>\n",
       "      <td>Россия</td>\n",
       "      <td>А.Андрианов</td>\n",
       "      <td>ООО \"Арт Пикчерс Студия\"</td>\n",
       "      <td>«12+» - для детей старше 12 лет</td>\n",
       "      <td>10,000,000.00</td>\n",
       "      <td>70,000,000.00</td>\n",
       "      <td>80,000,000.00</td>\n",
       "      <td>Фонд кино</td>\n",
       "      <td>7.80</td>\n",
       "      <td>боевик,драма,криминал</td>\n",
       "      <td>196,572,438.40</td>\n",
       "    </tr>\n",
       "    <tr>\n",
       "      <td>2532</td>\n",
       "      <td>Бармен.</td>\n",
       "      <td>111009615</td>\n",
       "      <td>2015-05-26 12:00:00+00:00</td>\n",
       "      <td>Художественный</td>\n",
       "      <td>АО \"ВайТ Медиа\", ООО \"Арт Пикчерс Студия\"</td>\n",
       "      <td>Россия</td>\n",
       "      <td>Д.Штурманова</td>\n",
       "      <td>Т.Вайнштейн</td>\n",
       "      <td>«16+» - для детей старше 16 лет</td>\n",
       "      <td>20,000,000.00</td>\n",
       "      <td>0.00</td>\n",
       "      <td>20,000,000.00</td>\n",
       "      <td>Фонд кино</td>\n",
       "      <td>6.20</td>\n",
       "      <td>комедия,фэнтези</td>\n",
       "      <td>67,418,974.80</td>\n",
       "    </tr>\n",
       "    <tr>\n",
       "      <td>2615</td>\n",
       "      <td>Савва. Сердце воина</td>\n",
       "      <td>114001715</td>\n",
       "      <td>2015-07-21 12:00:00+00:00</td>\n",
       "      <td>Анимационный</td>\n",
       "      <td>ООО \"Глюкоза Продакшн\", ООО \"Арт Пикчерс Студия\"</td>\n",
       "      <td>Россия</td>\n",
       "      <td>М.Фадеев</td>\n",
       "      <td>А.Чистяков</td>\n",
       "      <td>«6+» - для детей старше 6 лет</td>\n",
       "      <td>60,000,000.00</td>\n",
       "      <td>100,000,000.00</td>\n",
       "      <td>160,000,000.00</td>\n",
       "      <td>Фонд кино</td>\n",
       "      <td>4.60</td>\n",
       "      <td>мультфильм,приключения,фэнтези</td>\n",
       "      <td>184,487,551.40</td>\n",
       "    </tr>\n",
       "    <tr>\n",
       "      <td>2684</td>\n",
       "      <td>Тряпичный союз</td>\n",
       "      <td>111010215</td>\n",
       "      <td>2015-06-08 12:00:00+00:00</td>\n",
       "      <td>Художественный</td>\n",
       "      <td>ООО \"Кинокомпания \"КОКТЕБЕЛЬ\"</td>\n",
       "      <td>Россия</td>\n",
       "      <td>М.Местецкий</td>\n",
       "      <td>Р.Борисевич, А.Кушаев</td>\n",
       "      <td>«18+» - запрещено для детей</td>\n",
       "      <td>0.00</td>\n",
       "      <td>59,000,000.00</td>\n",
       "      <td>59,000,000.00</td>\n",
       "      <td>Фонд кино</td>\n",
       "      <td>6.30</td>\n",
       "      <td>комедия,драма</td>\n",
       "      <td>1,957,738.51</td>\n",
       "    </tr>\n",
       "    <tr>\n",
       "      <td>2788</td>\n",
       "      <td>Срочно выйду замуж</td>\n",
       "      <td>111017115</td>\n",
       "      <td>2015-09-30 12:00:00+00:00</td>\n",
       "      <td>Художественный</td>\n",
       "      <td>АО \"ВайТ Медиа\", ООО \"Арт Пикчерс Студия\"</td>\n",
       "      <td>Россия</td>\n",
       "      <td>С Чекалов</td>\n",
       "      <td>Ф.Бондарчук, Т.Вайнштейн, Д.Рудовский</td>\n",
       "      <td>«16+» - для детей старше 16 лет</td>\n",
       "      <td>0.00</td>\n",
       "      <td>35,000,000.00</td>\n",
       "      <td>35,000,000.00</td>\n",
       "      <td>Фонд кино</td>\n",
       "      <td>5.10</td>\n",
       "      <td>комедия,мелодрама</td>\n",
       "      <td>72,937,783.20</td>\n",
       "    </tr>\n",
       "    <tr>\n",
       "      <td>2874</td>\n",
       "      <td>Помню - не помню!</td>\n",
       "      <td>111004916</td>\n",
       "      <td>2016-03-01 12:00:00+00:00</td>\n",
       "      <td>Художественный</td>\n",
       "      <td>ООО \"КиноФирма\"</td>\n",
       "      <td>Россия</td>\n",
       "      <td>В.Ровенский</td>\n",
       "      <td>ООО \"КиноФирма\"</td>\n",
       "      <td>«12+» - для детей старше 12 лет</td>\n",
       "      <td>0.00</td>\n",
       "      <td>6,000,000.00</td>\n",
       "      <td>6,000,000.00</td>\n",
       "      <td>Министерство культуры</td>\n",
       "      <td>4.30</td>\n",
       "      <td>комедия</td>\n",
       "      <td>15,362,931.43</td>\n",
       "    </tr>\n",
       "    <tr>\n",
       "      <td>3047</td>\n",
       "      <td>Любовь с ограничениями</td>\n",
       "      <td>111008216</td>\n",
       "      <td>2016-04-29 12:00:00+00:00</td>\n",
       "      <td>Художественный</td>\n",
       "      <td>АО \"ВайТ Медиа\", ООО \"Арт Пикчерс Студия\"</td>\n",
       "      <td>Россия</td>\n",
       "      <td>Д.Тюрин</td>\n",
       "      <td>Ф.Бондарчук, Т.Вайнштейн, Д.Рудовский</td>\n",
       "      <td>«16+» - для детей старше 16 лет</td>\n",
       "      <td>19,000,000.00</td>\n",
       "      <td>51,000,000.00</td>\n",
       "      <td>70,000,000.00</td>\n",
       "      <td>Фонд кино</td>\n",
       "      <td>6.30</td>\n",
       "      <td>комедия,мелодрама</td>\n",
       "      <td>70,299,052.00</td>\n",
       "    </tr>\n",
       "    <tr>\n",
       "      <td>3565</td>\n",
       "      <td>Притяжение (2016)</td>\n",
       "      <td>111018116</td>\n",
       "      <td>2016-12-16 12:00:00+00:00</td>\n",
       "      <td>Художественный</td>\n",
       "      <td>ООО \"Водород 2011\",  ООО \"Арт Пикчерс Студия\"</td>\n",
       "      <td>Россия</td>\n",
       "      <td>Ф.Бондарчук</td>\n",
       "      <td>ООО \"Арт Пикчерс Студия\"</td>\n",
       "      <td>«12+» - для детей старше 12 лет</td>\n",
       "      <td>0.00</td>\n",
       "      <td>250,000,000.00</td>\n",
       "      <td>250,000,000.00</td>\n",
       "      <td>Фонд кино</td>\n",
       "      <td>5.60</td>\n",
       "      <td>фантастика</td>\n",
       "      <td>1,038,321,489.00</td>\n",
       "    </tr>\n",
       "    <tr>\n",
       "      <td>3675</td>\n",
       "      <td>Чудо-юдо</td>\n",
       "      <td>114001817</td>\n",
       "      <td>2017-06-27 12:00:00+00:00</td>\n",
       "      <td>Анимационный</td>\n",
       "      <td>ООО \"КиноФирма\"</td>\n",
       "      <td>Россия</td>\n",
       "      <td>А.Лукичев</td>\n",
       "      <td>ООО \"КиноФирма\"</td>\n",
       "      <td>«6+» - для детей старше 6 лет</td>\n",
       "      <td>20,000,000.00</td>\n",
       "      <td>20,000,000.00</td>\n",
       "      <td>40,000,000.00</td>\n",
       "      <td>Фонд кино</td>\n",
       "      <td>5.20</td>\n",
       "      <td>мультфильм,фэнтези,семейный</td>\n",
       "      <td>55,108,014.76</td>\n",
       "    </tr>\n",
       "    <tr>\n",
       "      <td>3739</td>\n",
       "      <td>Мифы</td>\n",
       "      <td>111004317</td>\n",
       "      <td>2017-06-07 12:00:00+00:00</td>\n",
       "      <td>Художественный</td>\n",
       "      <td>ООО \"ХАЙПФИЛМ\", ООО \"Арт Пикчерс Студия\"</td>\n",
       "      <td>Россия</td>\n",
       "      <td>А.Молочников</td>\n",
       "      <td>Ф.Бондарчук, Д.Рудовский, И.Стюарт, М.Османн, ...</td>\n",
       "      <td>«16+» - для детей старше 16 лет</td>\n",
       "      <td>25,000,000.00</td>\n",
       "      <td>20,000,000.00</td>\n",
       "      <td>45,000,000.00</td>\n",
       "      <td>Фонд кино</td>\n",
       "      <td>4.80</td>\n",
       "      <td>комедия</td>\n",
       "      <td>50,451,949.00</td>\n",
       "    </tr>\n",
       "    <tr>\n",
       "      <td>5673</td>\n",
       "      <td>Селфи</td>\n",
       "      <td>111012117</td>\n",
       "      <td>2018-02-01 12:00:00+00:00</td>\n",
       "      <td>Художественный</td>\n",
       "      <td>ООО \"Киностудия \"Слово\", ООО \"Арт Пикчерс Студия\"</td>\n",
       "      <td>Россия</td>\n",
       "      <td>Н.Хомерики</td>\n",
       "      <td>П.Ануров, Ф.Бондарчук, Д.Рудовский</td>\n",
       "      <td>«16+» - для детей старше 16 лет</td>\n",
       "      <td>20,000,000.00</td>\n",
       "      <td>40,000,000.00</td>\n",
       "      <td>60,000,000.00</td>\n",
       "      <td>Фонд кино</td>\n",
       "      <td>5.80</td>\n",
       "      <td>триллер,драма</td>\n",
       "      <td>225,196,400.03</td>\n",
       "    </tr>\n",
       "    <tr>\n",
       "      <td>5806</td>\n",
       "      <td>Два хвоста</td>\n",
       "      <td>114001018</td>\n",
       "      <td>2018-05-31 12:00:00+00:00</td>\n",
       "      <td>Анимационный</td>\n",
       "      <td>ООО \"ЛИЦЕНЗИОННЫЕ БРЕНДЫ\"</td>\n",
       "      <td>Россия</td>\n",
       "      <td>В.Ровенский, Н.Лопато, В.Азеев</td>\n",
       "      <td>ООО \"ЛИЦЕНЗИОННЫЕ БРЕНДЫ\"</td>\n",
       "      <td>«6+» - для детей старше 6 лет</td>\n",
       "      <td>10,000,000.00</td>\n",
       "      <td>60,000,000.00</td>\n",
       "      <td>70,000,000.00</td>\n",
       "      <td>Фонд кино</td>\n",
       "      <td>5.00</td>\n",
       "      <td>мультфильм,детский</td>\n",
       "      <td>106,514,301.03</td>\n",
       "    </tr>\n",
       "    <tr>\n",
       "      <td>6008</td>\n",
       "      <td>Принцесса и дракон</td>\n",
       "      <td>114003018</td>\n",
       "      <td>2018-08-23 12:00:00+00:00</td>\n",
       "      <td>Анимационный</td>\n",
       "      <td>ООО \"ЛИЦЕНЗИОННЫЕ БРЕНДЫ\"</td>\n",
       "      <td>Россия</td>\n",
       "      <td>М.Нефедова</td>\n",
       "      <td>ООО \"ЛИЦЕНЗИОННЫЕ БРЕНДЫ\"</td>\n",
       "      <td>«6+» - для детей старше 6 лет</td>\n",
       "      <td>40,000,000.00</td>\n",
       "      <td>40,000,000.00</td>\n",
       "      <td>80,000,000.00</td>\n",
       "      <td>Фонд кино</td>\n",
       "      <td>5.20</td>\n",
       "      <td>мультфильм,фэнтези,детский</td>\n",
       "      <td>83,366,328.66</td>\n",
       "    </tr>\n",
       "    <tr>\n",
       "      <td>6323</td>\n",
       "      <td>Баба Яга</td>\n",
       "      <td>114006518</td>\n",
       "      <td>2018-11-08 12:00:00+00:00</td>\n",
       "      <td>Анимационный</td>\n",
       "      <td>ООО \"Арт Пикчерс Студия\"</td>\n",
       "      <td>Россия</td>\n",
       "      <td>В.Саков</td>\n",
       "      <td>ООО \"Арт Пикчерс Студия\", ООО \"КРИЭЙТИВ АНИМЭЙ...</td>\n",
       "      <td>«6+» - для детей старше 6 лет</td>\n",
       "      <td>0.00</td>\n",
       "      <td>138,969,465.00</td>\n",
       "      <td>138,969,465.00</td>\n",
       "      <td>Фонд кино</td>\n",
       "      <td>nan</td>\n",
       "      <td>неизвестен</td>\n",
       "      <td>1,334,699.40</td>\n",
       "    </tr>\n",
       "    <tr>\n",
       "      <td>6823</td>\n",
       "      <td>Большое путешествие</td>\n",
       "      <td>114002419</td>\n",
       "      <td>2019-04-20 12:00:00+00:00</td>\n",
       "      <td>Анимационный</td>\n",
       "      <td>ООО \"ЛИЦЕНЗИОННЫЕ БРЕНДЫ\"</td>\n",
       "      <td>Россия</td>\n",
       "      <td>Н.Лопато, В.Ровенский</td>\n",
       "      <td>ООО \"ЛИЦЕНЗИОННЫЕ БРЕНДЫ\"</td>\n",
       "      <td>«6+» - для детей старше 6 лет</td>\n",
       "      <td>60,000,000.00</td>\n",
       "      <td>120,000,000.00</td>\n",
       "      <td>180,000,000.00</td>\n",
       "      <td>Фонд кино</td>\n",
       "      <td>6.20</td>\n",
       "      <td>мультфильм,комедия,приключения</td>\n",
       "      <td>147,606,826.51</td>\n",
       "    </tr>\n",
       "  </tbody>\n",
       "</table>\n",
       "</div>"
      ],
      "text/plain": [
       "                       title  pu_number           show_start_date  \\\n",
       "2053                     14+  111023614 2014-12-19 12:00:00+00:00   \n",
       "2058               Дуxless 2  111000415 2015-01-26 12:00:00+00:00   \n",
       "2472             Воин (2015)  111017315 2015-09-28 12:00:00+00:00   \n",
       "2532                 Бармен.  111009615 2015-05-26 12:00:00+00:00   \n",
       "2615     Савва. Сердце воина  114001715 2015-07-21 12:00:00+00:00   \n",
       "2684          Тряпичный союз  111010215 2015-06-08 12:00:00+00:00   \n",
       "2788      Срочно выйду замуж  111017115 2015-09-30 12:00:00+00:00   \n",
       "2874       Помню - не помню!  111004916 2016-03-01 12:00:00+00:00   \n",
       "3047  Любовь с ограничениями  111008216 2016-04-29 12:00:00+00:00   \n",
       "3565       Притяжение (2016)  111018116 2016-12-16 12:00:00+00:00   \n",
       "3675                Чудо-юдо  114001817 2017-06-27 12:00:00+00:00   \n",
       "3739                    Мифы  111004317 2017-06-07 12:00:00+00:00   \n",
       "5673                   Селфи  111012117 2018-02-01 12:00:00+00:00   \n",
       "5806              Два хвоста  114001018 2018-05-31 12:00:00+00:00   \n",
       "6008      Принцесса и дракон  114003018 2018-08-23 12:00:00+00:00   \n",
       "6323                Баба Яга  114006518 2018-11-08 12:00:00+00:00   \n",
       "6823     Большое путешествие  114002419 2019-04-20 12:00:00+00:00   \n",
       "\n",
       "                type                                        film_studio  \\\n",
       "2053  Художественный                         ООО Киностудия  \"Сентябрь\"   \n",
       "2058  Художественный  ООО \"Киностудия \"Слово\", ООО \"Арт Пикчерс Студия\"   \n",
       "2472  Художественный   ООО \"Форпост Продакшн\", ООО \"Арт Пикчерс Студия\"   \n",
       "2532  Художественный          АО \"ВайТ Медиа\", ООО \"Арт Пикчерс Студия\"   \n",
       "2615    Анимационный   ООО \"Глюкоза Продакшн\", ООО \"Арт Пикчерс Студия\"   \n",
       "2684  Художественный                      ООО \"Кинокомпания \"КОКТЕБЕЛЬ\"   \n",
       "2788  Художественный          АО \"ВайТ Медиа\", ООО \"Арт Пикчерс Студия\"   \n",
       "2874  Художественный                                    ООО \"КиноФирма\"   \n",
       "3047  Художественный          АО \"ВайТ Медиа\", ООО \"Арт Пикчерс Студия\"   \n",
       "3565  Художественный      ООО \"Водород 2011\",  ООО \"Арт Пикчерс Студия\"   \n",
       "3675    Анимационный                                    ООО \"КиноФирма\"   \n",
       "3739  Художественный           ООО \"ХАЙПФИЛМ\", ООО \"Арт Пикчерс Студия\"   \n",
       "5673  Художественный  ООО \"Киностудия \"Слово\", ООО \"Арт Пикчерс Студия\"   \n",
       "5806    Анимационный                          ООО \"ЛИЦЕНЗИОННЫЕ БРЕНДЫ\"   \n",
       "6008    Анимационный                          ООО \"ЛИЦЕНЗИОННЫЕ БРЕНДЫ\"   \n",
       "6323    Анимационный                           ООО \"Арт Пикчерс Студия\"   \n",
       "6823    Анимационный                          ООО \"ЛИЦЕНЗИОННЫЕ БРЕНДЫ\"   \n",
       "\n",
       "     production_country                        director  \\\n",
       "2053             Россия                        А.Зайцев   \n",
       "2058             Россия                      Р.Прыгунов   \n",
       "2472             Россия                     А.Андрианов   \n",
       "2532             Россия                    Д.Штурманова   \n",
       "2615             Россия                        М.Фадеев   \n",
       "2684             Россия                     М.Местецкий   \n",
       "2788             Россия                       С Чекалов   \n",
       "2874             Россия                     В.Ровенский   \n",
       "3047             Россия                         Д.Тюрин   \n",
       "3565             Россия                     Ф.Бондарчук   \n",
       "3675             Россия                       А.Лукичев   \n",
       "3739             Россия                    А.Молочников   \n",
       "5673             Россия                      Н.Хомерики   \n",
       "5806             Россия  В.Ровенский, Н.Лопато, В.Азеев   \n",
       "6008             Россия                      М.Нефедова   \n",
       "6323             Россия                         В.Саков   \n",
       "6823             Россия           Н.Лопато, В.Ровенский   \n",
       "\n",
       "                                               producer  \\\n",
       "2053                                О.Гранина, А.Зайцев   \n",
       "2058                 П.Ануров, Ф.Бондарчук, Д.Рудовский   \n",
       "2472                           ООО \"Арт Пикчерс Студия\"   \n",
       "2532                                        Т.Вайнштейн   \n",
       "2615                                         А.Чистяков   \n",
       "2684                              Р.Борисевич, А.Кушаев   \n",
       "2788              Ф.Бондарчук, Т.Вайнштейн, Д.Рудовский   \n",
       "2874                                    ООО \"КиноФирма\"   \n",
       "3047              Ф.Бондарчук, Т.Вайнштейн, Д.Рудовский   \n",
       "3565                           ООО \"Арт Пикчерс Студия\"   \n",
       "3675                                    ООО \"КиноФирма\"   \n",
       "3739  Ф.Бондарчук, Д.Рудовский, И.Стюарт, М.Османн, ...   \n",
       "5673                 П.Ануров, Ф.Бондарчук, Д.Рудовский   \n",
       "5806                          ООО \"ЛИЦЕНЗИОННЫЕ БРЕНДЫ\"   \n",
       "6008                          ООО \"ЛИЦЕНЗИОННЫЕ БРЕНДЫ\"   \n",
       "6323  ООО \"Арт Пикчерс Студия\", ООО \"КРИЭЙТИВ АНИМЭЙ...   \n",
       "6823                          ООО \"ЛИЦЕНЗИОННЫЕ БРЕНДЫ\"   \n",
       "\n",
       "                      age_restriction  refundable_support  \\\n",
       "2053  «16+» - для детей старше 16 лет                0.00   \n",
       "2058  «16+» - для детей старше 16 лет                0.00   \n",
       "2472  «12+» - для детей старше 12 лет       10,000,000.00   \n",
       "2532  «16+» - для детей старше 16 лет       20,000,000.00   \n",
       "2615    «6+» - для детей старше 6 лет       60,000,000.00   \n",
       "2684      «18+» - запрещено для детей                0.00   \n",
       "2788  «16+» - для детей старше 16 лет                0.00   \n",
       "2874  «12+» - для детей старше 12 лет                0.00   \n",
       "3047  «16+» - для детей старше 16 лет       19,000,000.00   \n",
       "3565  «12+» - для детей старше 12 лет                0.00   \n",
       "3675    «6+» - для детей старше 6 лет       20,000,000.00   \n",
       "3739  «16+» - для детей старше 16 лет       25,000,000.00   \n",
       "5673  «16+» - для детей старше 16 лет       20,000,000.00   \n",
       "5806    «6+» - для детей старше 6 лет       10,000,000.00   \n",
       "6008    «6+» - для детей старше 6 лет       40,000,000.00   \n",
       "6323    «6+» - для детей старше 6 лет                0.00   \n",
       "6823    «6+» - для детей старше 6 лет       60,000,000.00   \n",
       "\n",
       "      nonrefundable_support         budget                  financing_source  \\\n",
       "2053          23,000,000.00  23,000,000.00  Министерство культуры, Фонд кино   \n",
       "2058          75,000,000.00  75,000,000.00                         Фонд кино   \n",
       "2472          70,000,000.00  80,000,000.00                         Фонд кино   \n",
       "2532                   0.00  20,000,000.00                         Фонд кино   \n",
       "2615         100,000,000.00 160,000,000.00                         Фонд кино   \n",
       "2684          59,000,000.00  59,000,000.00                         Фонд кино   \n",
       "2788          35,000,000.00  35,000,000.00                         Фонд кино   \n",
       "2874           6,000,000.00   6,000,000.00             Министерство культуры   \n",
       "3047          51,000,000.00  70,000,000.00                         Фонд кино   \n",
       "3565         250,000,000.00 250,000,000.00                         Фонд кино   \n",
       "3675          20,000,000.00  40,000,000.00                         Фонд кино   \n",
       "3739          20,000,000.00  45,000,000.00                         Фонд кино   \n",
       "5673          40,000,000.00  60,000,000.00                         Фонд кино   \n",
       "5806          60,000,000.00  70,000,000.00                         Фонд кино   \n",
       "6008          40,000,000.00  80,000,000.00                         Фонд кино   \n",
       "6323         138,969,465.00 138,969,465.00                         Фонд кино   \n",
       "6823         120,000,000.00 180,000,000.00                         Фонд кино   \n",
       "\n",
       "      ratings                          genres       box_office  \n",
       "2053     6.60                       мелодрама    10,234,016.10  \n",
       "2058     6.60                           драма   446,163,511.00  \n",
       "2472     7.80           боевик,драма,криминал   196,572,438.40  \n",
       "2532     6.20                 комедия,фэнтези    67,418,974.80  \n",
       "2615     4.60  мультфильм,приключения,фэнтези   184,487,551.40  \n",
       "2684     6.30                   комедия,драма     1,957,738.51  \n",
       "2788     5.10               комедия,мелодрама    72,937,783.20  \n",
       "2874     4.30                         комедия    15,362,931.43  \n",
       "3047     6.30               комедия,мелодрама    70,299,052.00  \n",
       "3565     5.60                      фантастика 1,038,321,489.00  \n",
       "3675     5.20     мультфильм,фэнтези,семейный    55,108,014.76  \n",
       "3739     4.80                         комедия    50,451,949.00  \n",
       "5673     5.80                   триллер,драма   225,196,400.03  \n",
       "5806     5.00              мультфильм,детский   106,514,301.03  \n",
       "6008     5.20      мультфильм,фэнтези,детский    83,366,328.66  \n",
       "6323      nan                      неизвестен     1,334,699.40  \n",
       "6823     6.20  мультфильм,комедия,приключения   147,606,826.51  "
      ]
     },
     "execution_count": 55,
     "metadata": {},
     "output_type": "execute_result"
    }
   ],
   "source": [
    "df.query('pu_number in @bad_budget.pu_number')"
   ]
  },
  {
   "cell_type": "markdown",
   "metadata": {
    "id": "Eu6oWp2CgFyS"
   },
   "source": [
    "### Расчёты и добавление результатов в таблицу"
   ]
  },
  {
   "cell_type": "markdown",
   "metadata": {
    "id": "7GgW-UpAgFyS"
   },
   "source": [
    "Создадим столбец с информацией о годе проката:"
   ]
  },
  {
   "cell_type": "code",
   "execution_count": 56,
   "metadata": {
    "id": "I-yd1DkWgFyT"
   },
   "outputs": [],
   "source": [
    "df['film_distribution_year'] = df['show_start_date'].dt.year"
   ]
  },
  {
   "cell_type": "markdown",
   "metadata": {
    "id": "nFTDLDYOgFyT"
   },
   "source": [
    "Создадим два столбца: с именем и фамилией главного режиссёра и основным жанром фильма. В столбцы войдут первые значения из списка режиссёров и жанров соответственно."
   ]
  },
  {
   "cell_type": "code",
   "execution_count": 57,
   "metadata": {},
   "outputs": [],
   "source": [
    "def first_in_list(cell_value):\n",
    "    \"\"\"\n",
    "    Возвращает первый токен строки разбитой по знаку ','.\n",
    "    \"\"\"    \n",
    "    pieces = cell_value.split(',')\n",
    "    return pieces[0]"
   ]
  },
  {
   "cell_type": "code",
   "execution_count": 58,
   "metadata": {},
   "outputs": [],
   "source": [
    "df['main_genre'] = df['genres'].apply(first_in_list)"
   ]
  },
  {
   "cell_type": "code",
   "execution_count": 59,
   "metadata": {},
   "outputs": [],
   "source": [
    "df['main_director'] = df['director'].apply(first_in_list)"
   ]
  },
  {
   "cell_type": "code",
   "execution_count": 60,
   "metadata": {},
   "outputs": [
    {
     "data": {
      "text/html": [
       "<div>\n",
       "<style scoped>\n",
       "    .dataframe tbody tr th:only-of-type {\n",
       "        vertical-align: middle;\n",
       "    }\n",
       "\n",
       "    .dataframe tbody tr th {\n",
       "        vertical-align: top;\n",
       "    }\n",
       "\n",
       "    .dataframe thead th {\n",
       "        text-align: right;\n",
       "    }\n",
       "</style>\n",
       "<table border=\"1\" class=\"dataframe\">\n",
       "  <thead>\n",
       "    <tr style=\"text-align: right;\">\n",
       "      <th></th>\n",
       "      <th>title</th>\n",
       "      <th>pu_number</th>\n",
       "      <th>show_start_date</th>\n",
       "      <th>type</th>\n",
       "      <th>film_studio</th>\n",
       "      <th>production_country</th>\n",
       "      <th>director</th>\n",
       "      <th>producer</th>\n",
       "      <th>age_restriction</th>\n",
       "      <th>refundable_support</th>\n",
       "      <th>nonrefundable_support</th>\n",
       "      <th>budget</th>\n",
       "      <th>financing_source</th>\n",
       "      <th>ratings</th>\n",
       "      <th>genres</th>\n",
       "      <th>box_office</th>\n",
       "      <th>film_distribution_year</th>\n",
       "      <th>main_genre</th>\n",
       "      <th>main_director</th>\n",
       "    </tr>\n",
       "  </thead>\n",
       "  <tbody>\n",
       "    <tr>\n",
       "      <td>0</td>\n",
       "      <td>Открытый простор</td>\n",
       "      <td>221048915</td>\n",
       "      <td>2015-11-27 12:00:00+00:00</td>\n",
       "      <td>Художественный</td>\n",
       "      <td>Тачстоун Пикчерз, Кобальт Пикчерз, Бикон Пикче...</td>\n",
       "      <td>США</td>\n",
       "      <td>Кевин Костнер</td>\n",
       "      <td>Дэвид Валдес, Кевин Костнер, Джейк Эбертс</td>\n",
       "      <td>«18+» - запрещено для детей</td>\n",
       "      <td>nan</td>\n",
       "      <td>nan</td>\n",
       "      <td>nan</td>\n",
       "      <td>NaN</td>\n",
       "      <td>7.20</td>\n",
       "      <td>боевик,драма,мелодрама</td>\n",
       "      <td>nan</td>\n",
       "      <td>2015</td>\n",
       "      <td>боевик</td>\n",
       "      <td>Кевин Костнер</td>\n",
       "    </tr>\n",
       "    <tr>\n",
       "      <td>1</td>\n",
       "      <td>Особо важное задание</td>\n",
       "      <td>111013716</td>\n",
       "      <td>2016-09-13 12:00:00+00:00</td>\n",
       "      <td>Художественный</td>\n",
       "      <td>Киностудия \"Мосфильм\"</td>\n",
       "      <td>СССР</td>\n",
       "      <td>Е.Матвеев</td>\n",
       "      <td>неизвестен</td>\n",
       "      <td>«6+» - для детей старше 6 лет</td>\n",
       "      <td>nan</td>\n",
       "      <td>nan</td>\n",
       "      <td>nan</td>\n",
       "      <td>NaN</td>\n",
       "      <td>6.60</td>\n",
       "      <td>драма,военный</td>\n",
       "      <td>nan</td>\n",
       "      <td>2016</td>\n",
       "      <td>драма</td>\n",
       "      <td>Е.Матвеев</td>\n",
       "    </tr>\n",
       "    <tr>\n",
       "      <td>2</td>\n",
       "      <td>Особо опасен</td>\n",
       "      <td>221038416</td>\n",
       "      <td>2016-10-10 12:00:00+00:00</td>\n",
       "      <td>Художественный</td>\n",
       "      <td>Юниверсал Пикчерз, Кикстарт Продакшнз, Марк Пл...</td>\n",
       "      <td>США</td>\n",
       "      <td>Тимур Бекмамбетов</td>\n",
       "      <td>Джим Лемли, Джейсон Нетер, Марк Е.Платт, Яйн Смит</td>\n",
       "      <td>«18+» - запрещено для детей</td>\n",
       "      <td>nan</td>\n",
       "      <td>nan</td>\n",
       "      <td>nan</td>\n",
       "      <td>NaN</td>\n",
       "      <td>6.80</td>\n",
       "      <td>фантастика,боевик,триллер</td>\n",
       "      <td>nan</td>\n",
       "      <td>2016</td>\n",
       "      <td>фантастика</td>\n",
       "      <td>Тимур Бекмамбетов</td>\n",
       "    </tr>\n",
       "    <tr>\n",
       "      <td>3</td>\n",
       "      <td>Особо опасен</td>\n",
       "      <td>221026916</td>\n",
       "      <td>2016-06-10 12:00:00+00:00</td>\n",
       "      <td>Художественный</td>\n",
       "      <td>Юниверсал Пикчерз, Кикстарт Продакшнз, Марк Пл...</td>\n",
       "      <td>США</td>\n",
       "      <td>Тимур Бекмамбетов</td>\n",
       "      <td>Джим Лемли, Джейсон Нетер, Марк Е.Платт, Яйн Смит</td>\n",
       "      <td>«18+» - запрещено для детей</td>\n",
       "      <td>nan</td>\n",
       "      <td>nan</td>\n",
       "      <td>nan</td>\n",
       "      <td>NaN</td>\n",
       "      <td>6.80</td>\n",
       "      <td>фантастика,боевик,триллер</td>\n",
       "      <td>nan</td>\n",
       "      <td>2016</td>\n",
       "      <td>фантастика</td>\n",
       "      <td>Тимур Бекмамбетов</td>\n",
       "    </tr>\n",
       "    <tr>\n",
       "      <td>4</td>\n",
       "      <td>Особо опасен</td>\n",
       "      <td>221030815</td>\n",
       "      <td>2015-07-29 12:00:00+00:00</td>\n",
       "      <td>Художественный</td>\n",
       "      <td>Юниверсал Пикчерз, Кикстарт Продакшнз, Марк Пл...</td>\n",
       "      <td>США</td>\n",
       "      <td>Тимур Бекмамбетов</td>\n",
       "      <td>Джим Лемли, Джейсон Нетер, Марк Е.Платт, Яйн Смит</td>\n",
       "      <td>«18+» - запрещено для детей</td>\n",
       "      <td>nan</td>\n",
       "      <td>nan</td>\n",
       "      <td>nan</td>\n",
       "      <td>NaN</td>\n",
       "      <td>6.80</td>\n",
       "      <td>фантастика,боевик,триллер</td>\n",
       "      <td>nan</td>\n",
       "      <td>2015</td>\n",
       "      <td>фантастика</td>\n",
       "      <td>Тимур Бекмамбетов</td>\n",
       "    </tr>\n",
       "  </tbody>\n",
       "</table>\n",
       "</div>"
      ],
      "text/plain": [
       "                  title  pu_number           show_start_date            type  \\\n",
       "0      Открытый простор  221048915 2015-11-27 12:00:00+00:00  Художественный   \n",
       "1  Особо важное задание  111013716 2016-09-13 12:00:00+00:00  Художественный   \n",
       "2          Особо опасен  221038416 2016-10-10 12:00:00+00:00  Художественный   \n",
       "3          Особо опасен  221026916 2016-06-10 12:00:00+00:00  Художественный   \n",
       "4          Особо опасен  221030815 2015-07-29 12:00:00+00:00  Художественный   \n",
       "\n",
       "                                         film_studio production_country  \\\n",
       "0  Тачстоун Пикчерз, Кобальт Пикчерз, Бикон Пикче...                США   \n",
       "1                              Киностудия \"Мосфильм\"               СССР   \n",
       "2  Юниверсал Пикчерз, Кикстарт Продакшнз, Марк Пл...                США   \n",
       "3  Юниверсал Пикчерз, Кикстарт Продакшнз, Марк Пл...                США   \n",
       "4  Юниверсал Пикчерз, Кикстарт Продакшнз, Марк Пл...                США   \n",
       "\n",
       "            director                                           producer  \\\n",
       "0      Кевин Костнер          Дэвид Валдес, Кевин Костнер, Джейк Эбертс   \n",
       "1          Е.Матвеев                                         неизвестен   \n",
       "2  Тимур Бекмамбетов  Джим Лемли, Джейсон Нетер, Марк Е.Платт, Яйн Смит   \n",
       "3  Тимур Бекмамбетов  Джим Лемли, Джейсон Нетер, Марк Е.Платт, Яйн Смит   \n",
       "4  Тимур Бекмамбетов  Джим Лемли, Джейсон Нетер, Марк Е.Платт, Яйн Смит   \n",
       "\n",
       "                 age_restriction  refundable_support  nonrefundable_support  \\\n",
       "0    «18+» - запрещено для детей                 nan                    nan   \n",
       "1  «6+» - для детей старше 6 лет                 nan                    nan   \n",
       "2    «18+» - запрещено для детей                 nan                    nan   \n",
       "3    «18+» - запрещено для детей                 nan                    nan   \n",
       "4    «18+» - запрещено для детей                 nan                    nan   \n",
       "\n",
       "   budget financing_source  ratings                     genres  box_office  \\\n",
       "0     nan              NaN     7.20     боевик,драма,мелодрама         nan   \n",
       "1     nan              NaN     6.60              драма,военный         nan   \n",
       "2     nan              NaN     6.80  фантастика,боевик,триллер         nan   \n",
       "3     nan              NaN     6.80  фантастика,боевик,триллер         nan   \n",
       "4     nan              NaN     6.80  фантастика,боевик,триллер         nan   \n",
       "\n",
       "   film_distribution_year  main_genre      main_director  \n",
       "0                    2015      боевик      Кевин Костнер  \n",
       "1                    2016       драма          Е.Матвеев  \n",
       "2                    2016  фантастика  Тимур Бекмамбетов  \n",
       "3                    2016  фантастика  Тимур Бекмамбетов  \n",
       "4                    2015  фантастика  Тимур Бекмамбетов  "
      ]
     },
     "execution_count": 60,
     "metadata": {},
     "output_type": "execute_result"
    }
   ],
   "source": [
    "df.head()"
   ]
  },
  {
   "cell_type": "markdown",
   "metadata": {
    "id": "1FsCXHwdgFyU"
   },
   "source": [
    "Посчитаем, какую долю от общего бюджета фильма составляет государственная поддержка:"
   ]
  },
  {
   "cell_type": "code",
   "execution_count": 61,
   "metadata": {},
   "outputs": [],
   "source": [
    "df['total_support'] = df['refundable_support'] + df['nonrefundable_support']"
   ]
  },
  {
   "cell_type": "code",
   "execution_count": 62,
   "metadata": {
    "id": "LV6qFuZLgFyV"
   },
   "outputs": [],
   "source": [
    "df['government_support_share'] = df['total_support'] / df['budget']"
   ]
  },
  {
   "cell_type": "code",
   "execution_count": 63,
   "metadata": {
    "scrolled": false
   },
   "outputs": [
    {
     "data": {
      "text/html": [
       "<div>\n",
       "<style scoped>\n",
       "    .dataframe tbody tr th:only-of-type {\n",
       "        vertical-align: middle;\n",
       "    }\n",
       "\n",
       "    .dataframe tbody tr th {\n",
       "        vertical-align: top;\n",
       "    }\n",
       "\n",
       "    .dataframe thead th {\n",
       "        text-align: right;\n",
       "    }\n",
       "</style>\n",
       "<table border=\"1\" class=\"dataframe\">\n",
       "  <thead>\n",
       "    <tr style=\"text-align: right;\">\n",
       "      <th></th>\n",
       "      <th>title</th>\n",
       "      <th>pu_number</th>\n",
       "      <th>show_start_date</th>\n",
       "      <th>type</th>\n",
       "      <th>film_studio</th>\n",
       "      <th>production_country</th>\n",
       "      <th>director</th>\n",
       "      <th>producer</th>\n",
       "      <th>age_restriction</th>\n",
       "      <th>refundable_support</th>\n",
       "      <th>...</th>\n",
       "      <th>budget</th>\n",
       "      <th>financing_source</th>\n",
       "      <th>ratings</th>\n",
       "      <th>genres</th>\n",
       "      <th>box_office</th>\n",
       "      <th>film_distribution_year</th>\n",
       "      <th>main_genre</th>\n",
       "      <th>main_director</th>\n",
       "      <th>total_support</th>\n",
       "      <th>government_support_share</th>\n",
       "    </tr>\n",
       "  </thead>\n",
       "  <tbody>\n",
       "    <tr>\n",
       "      <td>1281</td>\n",
       "      <td>Пока еще жива</td>\n",
       "      <td>111005313</td>\n",
       "      <td>2013-10-11 12:00:00+00:00</td>\n",
       "      <td>Художественный</td>\n",
       "      <td>АНО содействия развитию кинематографии \"Ангел-...</td>\n",
       "      <td>Россия</td>\n",
       "      <td>А.Атанесян</td>\n",
       "      <td>А.Атанесян, М.Бабаханов, Р.Бутко</td>\n",
       "      <td>«16+» - для детей старше 16 лет</td>\n",
       "      <td>0.00</td>\n",
       "      <td>...</td>\n",
       "      <td>79,411,900.00</td>\n",
       "      <td>Министерство культуры</td>\n",
       "      <td>8.10</td>\n",
       "      <td>драма,мелодрама</td>\n",
       "      <td>365,353.60</td>\n",
       "      <td>2013</td>\n",
       "      <td>драма</td>\n",
       "      <td>А.Атанесян</td>\n",
       "      <td>26,500,000.00</td>\n",
       "      <td>0.33</td>\n",
       "    </tr>\n",
       "    <tr>\n",
       "      <td>1448</td>\n",
       "      <td>Бесславные придурки</td>\n",
       "      <td>111003314</td>\n",
       "      <td>2014-03-28 12:00:00+00:00</td>\n",
       "      <td>Художественный</td>\n",
       "      <td>ООО \"Компания \"АТК-Студио\"</td>\n",
       "      <td>Россия</td>\n",
       "      <td>А.Якимчук</td>\n",
       "      <td>А.Тютрюмов</td>\n",
       "      <td>«12+» - для детей старше 12 лет</td>\n",
       "      <td>0.00</td>\n",
       "      <td>...</td>\n",
       "      <td>37,142,857.00</td>\n",
       "      <td>Министерство культуры</td>\n",
       "      <td>nan</td>\n",
       "      <td>неизвестен</td>\n",
       "      <td>28,140.00</td>\n",
       "      <td>2014</td>\n",
       "      <td>неизвестен</td>\n",
       "      <td>А.Якимчук</td>\n",
       "      <td>26,000,000.00</td>\n",
       "      <td>0.70</td>\n",
       "    </tr>\n",
       "    <tr>\n",
       "      <td>1498</td>\n",
       "      <td>Невидимки</td>\n",
       "      <td>111004213</td>\n",
       "      <td>2013-09-10 12:00:00+00:00</td>\n",
       "      <td>Художественный</td>\n",
       "      <td>ООО \"Компания \"РЕАЛ-ДАКОТА\"</td>\n",
       "      <td>Россия</td>\n",
       "      <td>Р.Давлетьяров, С.Комаров</td>\n",
       "      <td>Р.Давлетьяров, А.Котелевский, А.Олейников</td>\n",
       "      <td>«12+» - для детей старше 12 лет</td>\n",
       "      <td>0.00</td>\n",
       "      <td>...</td>\n",
       "      <td>176,023,490.00</td>\n",
       "      <td>Фонд кино</td>\n",
       "      <td>5.30</td>\n",
       "      <td>комедия,фантастика</td>\n",
       "      <td>19,957,031.50</td>\n",
       "      <td>2013</td>\n",
       "      <td>комедия</td>\n",
       "      <td>Р.Давлетьяров</td>\n",
       "      <td>107,847,945.00</td>\n",
       "      <td>0.61</td>\n",
       "    </tr>\n",
       "    <tr>\n",
       "      <td>1524</td>\n",
       "      <td>БЕРЦЫ</td>\n",
       "      <td>111004314</td>\n",
       "      <td>2014-05-05 12:00:00+00:00</td>\n",
       "      <td>Художественный</td>\n",
       "      <td>ООО \"Студия \"Пассажир\"</td>\n",
       "      <td>Россия</td>\n",
       "      <td>Е.Миндадзе (псевдоним Катя Шагалова)</td>\n",
       "      <td>Л.Антонова</td>\n",
       "      <td>«16+» - для детей старше 16 лет</td>\n",
       "      <td>0.00</td>\n",
       "      <td>...</td>\n",
       "      <td>40,574,140.00</td>\n",
       "      <td>Министерство культуры</td>\n",
       "      <td>4.20</td>\n",
       "      <td>драма</td>\n",
       "      <td>55,917.50</td>\n",
       "      <td>2014</td>\n",
       "      <td>драма</td>\n",
       "      <td>Е.Миндадзе (псевдоним Катя Шагалова)</td>\n",
       "      <td>28,000,000.00</td>\n",
       "      <td>0.69</td>\n",
       "    </tr>\n",
       "    <tr>\n",
       "      <td>1792</td>\n",
       "      <td>Братья Ч</td>\n",
       "      <td>111004414</td>\n",
       "      <td>2014-04-23 12:00:00+00:00</td>\n",
       "      <td>Художественный</td>\n",
       "      <td>ООО \"Студия \"Пассажир\"</td>\n",
       "      <td>Россия</td>\n",
       "      <td>М.Угаров</td>\n",
       "      <td>А.Миндадзе, Л.Антонова</td>\n",
       "      <td>«16+» - для детей старше 16 лет</td>\n",
       "      <td>0.00</td>\n",
       "      <td>...</td>\n",
       "      <td>40,015,122.00</td>\n",
       "      <td>Министерство культуры</td>\n",
       "      <td>6.40</td>\n",
       "      <td>драма</td>\n",
       "      <td>232,100.00</td>\n",
       "      <td>2014</td>\n",
       "      <td>драма</td>\n",
       "      <td>М.Угаров</td>\n",
       "      <td>25,000,000.00</td>\n",
       "      <td>0.62</td>\n",
       "    </tr>\n",
       "    <tr>\n",
       "      <td>...</td>\n",
       "      <td>...</td>\n",
       "      <td>...</td>\n",
       "      <td>...</td>\n",
       "      <td>...</td>\n",
       "      <td>...</td>\n",
       "      <td>...</td>\n",
       "      <td>...</td>\n",
       "      <td>...</td>\n",
       "      <td>...</td>\n",
       "      <td>...</td>\n",
       "      <td>...</td>\n",
       "      <td>...</td>\n",
       "      <td>...</td>\n",
       "      <td>...</td>\n",
       "      <td>...</td>\n",
       "      <td>...</td>\n",
       "      <td>...</td>\n",
       "      <td>...</td>\n",
       "      <td>...</td>\n",
       "      <td>...</td>\n",
       "      <td>...</td>\n",
       "    </tr>\n",
       "    <tr>\n",
       "      <td>7464</td>\n",
       "      <td>Союз спасения</td>\n",
       "      <td>111022019</td>\n",
       "      <td>2019-12-26 12:00:00+00:00</td>\n",
       "      <td>Художественный</td>\n",
       "      <td>ЗАО \"Дирекция кино\"</td>\n",
       "      <td>Россия</td>\n",
       "      <td>А.Кравчук</td>\n",
       "      <td>А.Максимов, К.Эрнст</td>\n",
       "      <td>«12+» - для детей старше 12 лет</td>\n",
       "      <td>100,000,000.00</td>\n",
       "      <td>...</td>\n",
       "      <td>980,000,000.00</td>\n",
       "      <td>Фонд кино</td>\n",
       "      <td>6.00</td>\n",
       "      <td>история,биография,драма</td>\n",
       "      <td>717,703,185.53</td>\n",
       "      <td>2019</td>\n",
       "      <td>история</td>\n",
       "      <td>А.Кравчук</td>\n",
       "      <td>500,000,000.00</td>\n",
       "      <td>0.51</td>\n",
       "    </tr>\n",
       "    <tr>\n",
       "      <td>7466</td>\n",
       "      <td>Иван Царевич и Серый Волк 4</td>\n",
       "      <td>114005019</td>\n",
       "      <td>2019-12-20 12:00:00+00:00</td>\n",
       "      <td>Анимационный</td>\n",
       "      <td>ООО \"Студия анимационного кино \"Мельница\"</td>\n",
       "      <td>Россия</td>\n",
       "      <td>Д.Шмидт, К.Феоктистов</td>\n",
       "      <td>С.Сельянов, А.Боярский</td>\n",
       "      <td>«6+» - для детей старше 6 лет</td>\n",
       "      <td>100,000,000.00</td>\n",
       "      <td>...</td>\n",
       "      <td>190,000,000.00</td>\n",
       "      <td>Фонд кино</td>\n",
       "      <td>6.70</td>\n",
       "      <td>мультфильм,приключения,семейный</td>\n",
       "      <td>501,069,235.00</td>\n",
       "      <td>2019</td>\n",
       "      <td>мультфильм</td>\n",
       "      <td>Д.Шмидт</td>\n",
       "      <td>100,000,000.00</td>\n",
       "      <td>0.53</td>\n",
       "    </tr>\n",
       "    <tr>\n",
       "      <td>7474</td>\n",
       "      <td>Вторжение</td>\n",
       "      <td>111022519</td>\n",
       "      <td>2019-12-23 12:00:00+00:00</td>\n",
       "      <td>Художественный</td>\n",
       "      <td>ООО \"Арт Пикчерс Студия\", ООО \"Водород 2011\"</td>\n",
       "      <td>Россия</td>\n",
       "      <td>Ф.Бондарчук</td>\n",
       "      <td>Ф.Бондарчук, М.Врубель, А.Андрющенко, Д.Рудовский</td>\n",
       "      <td>«12+» - для детей старше 12 лет</td>\n",
       "      <td>100,000,000.00</td>\n",
       "      <td>...</td>\n",
       "      <td>944,000,000.00</td>\n",
       "      <td>Фонд кино</td>\n",
       "      <td>5.70</td>\n",
       "      <td>фантастика,боевик</td>\n",
       "      <td>nan</td>\n",
       "      <td>2019</td>\n",
       "      <td>фантастика</td>\n",
       "      <td>Ф.Бондарчук</td>\n",
       "      <td>500,000,000.00</td>\n",
       "      <td>0.53</td>\n",
       "    </tr>\n",
       "    <tr>\n",
       "      <td>7476</td>\n",
       "      <td>Я свободен</td>\n",
       "      <td>111023019</td>\n",
       "      <td>2019-12-26 12:00:00+00:00</td>\n",
       "      <td>Художественный</td>\n",
       "      <td>АО \"ТПО \"Киностудия им. М.Горького\"</td>\n",
       "      <td>Россия</td>\n",
       "      <td>И.Северов</td>\n",
       "      <td>С.Зернов</td>\n",
       "      <td>«12+» - для детей старше 12 лет</td>\n",
       "      <td>0.00</td>\n",
       "      <td>...</td>\n",
       "      <td>46,154,000.00</td>\n",
       "      <td>Министерство культуры</td>\n",
       "      <td>5.90</td>\n",
       "      <td>драма</td>\n",
       "      <td>nan</td>\n",
       "      <td>2019</td>\n",
       "      <td>драма</td>\n",
       "      <td>И.Северов</td>\n",
       "      <td>30,000,000.00</td>\n",
       "      <td>0.65</td>\n",
       "    </tr>\n",
       "    <tr>\n",
       "      <td>7478</td>\n",
       "      <td>(Не)идеальный мужчина</td>\n",
       "      <td>111023119</td>\n",
       "      <td>2019-12-24 12:00:00+00:00</td>\n",
       "      <td>Художественный</td>\n",
       "      <td>ООО \"Нон-Стоп Продакшн\"</td>\n",
       "      <td>Россия</td>\n",
       "      <td>М.Бальчюнас (псевдоним М.Вайсберг)</td>\n",
       "      <td>С.Мелькумов, А.Роднянский, М.Вайсберг, Р.Минас...</td>\n",
       "      <td>«12+» - для детей старше 12 лет</td>\n",
       "      <td>40,000,000.00</td>\n",
       "      <td>...</td>\n",
       "      <td>150,147,502.00</td>\n",
       "      <td>Фонд кино</td>\n",
       "      <td>4.50</td>\n",
       "      <td>комедия,фантастика,мелодрама</td>\n",
       "      <td>nan</td>\n",
       "      <td>2019</td>\n",
       "      <td>комедия</td>\n",
       "      <td>М.Бальчюнас (псевдоним М.Вайсберг)</td>\n",
       "      <td>100,000,000.00</td>\n",
       "      <td>0.67</td>\n",
       "    </tr>\n",
       "  </tbody>\n",
       "</table>\n",
       "<p>332 rows × 21 columns</p>\n",
       "</div>"
      ],
      "text/plain": [
       "                            title  pu_number           show_start_date  \\\n",
       "1281                Пока еще жива  111005313 2013-10-11 12:00:00+00:00   \n",
       "1448          Бесславные придурки  111003314 2014-03-28 12:00:00+00:00   \n",
       "1498                    Невидимки  111004213 2013-09-10 12:00:00+00:00   \n",
       "1524                        БЕРЦЫ  111004314 2014-05-05 12:00:00+00:00   \n",
       "1792                     Братья Ч  111004414 2014-04-23 12:00:00+00:00   \n",
       "...                           ...        ...                       ...   \n",
       "7464                Союз спасения  111022019 2019-12-26 12:00:00+00:00   \n",
       "7466  Иван Царевич и Серый Волк 4  114005019 2019-12-20 12:00:00+00:00   \n",
       "7474                    Вторжение  111022519 2019-12-23 12:00:00+00:00   \n",
       "7476                   Я свободен  111023019 2019-12-26 12:00:00+00:00   \n",
       "7478        (Не)идеальный мужчина  111023119 2019-12-24 12:00:00+00:00   \n",
       "\n",
       "                type                                        film_studio  \\\n",
       "1281  Художественный  АНО содействия развитию кинематографии \"Ангел-...   \n",
       "1448  Художественный                         ООО \"Компания \"АТК-Студио\"   \n",
       "1498  Художественный                        ООО \"Компания \"РЕАЛ-ДАКОТА\"   \n",
       "1524  Художественный                             ООО \"Студия \"Пассажир\"   \n",
       "1792  Художественный                             ООО \"Студия \"Пассажир\"   \n",
       "...              ...                                                ...   \n",
       "7464  Художественный                                ЗАО \"Дирекция кино\"   \n",
       "7466    Анимационный          ООО \"Студия анимационного кино \"Мельница\"   \n",
       "7474  Художественный       ООО \"Арт Пикчерс Студия\", ООО \"Водород 2011\"   \n",
       "7476  Художественный                АО \"ТПО \"Киностудия им. М.Горького\"   \n",
       "7478  Художественный                           ООО \"Нон-Стоп Продакшн\"    \n",
       "\n",
       "     production_country                              director  \\\n",
       "1281             Россия                            А.Атанесян   \n",
       "1448             Россия                             А.Якимчук   \n",
       "1498             Россия              Р.Давлетьяров, С.Комаров   \n",
       "1524             Россия  Е.Миндадзе (псевдоним Катя Шагалова)   \n",
       "1792             Россия                              М.Угаров   \n",
       "...                 ...                                   ...   \n",
       "7464             Россия                             А.Кравчук   \n",
       "7466             Россия                 Д.Шмидт, К.Феоктистов   \n",
       "7474             Россия                           Ф.Бондарчук   \n",
       "7476             Россия                             И.Северов   \n",
       "7478             Россия    М.Бальчюнас (псевдоним М.Вайсберг)   \n",
       "\n",
       "                                               producer  \\\n",
       "1281                   А.Атанесян, М.Бабаханов, Р.Бутко   \n",
       "1448                                         А.Тютрюмов   \n",
       "1498          Р.Давлетьяров, А.Котелевский, А.Олейников   \n",
       "1524                                         Л.Антонова   \n",
       "1792                             А.Миндадзе, Л.Антонова   \n",
       "...                                                 ...   \n",
       "7464                                А.Максимов, К.Эрнст   \n",
       "7466                             С.Сельянов, А.Боярский   \n",
       "7474  Ф.Бондарчук, М.Врубель, А.Андрющенко, Д.Рудовский   \n",
       "7476                                           С.Зернов   \n",
       "7478  С.Мелькумов, А.Роднянский, М.Вайсберг, Р.Минас...   \n",
       "\n",
       "                      age_restriction  refundable_support  ...         budget  \\\n",
       "1281  «16+» - для детей старше 16 лет                0.00  ...  79,411,900.00   \n",
       "1448  «12+» - для детей старше 12 лет                0.00  ...  37,142,857.00   \n",
       "1498  «12+» - для детей старше 12 лет                0.00  ... 176,023,490.00   \n",
       "1524  «16+» - для детей старше 16 лет                0.00  ...  40,574,140.00   \n",
       "1792  «16+» - для детей старше 16 лет                0.00  ...  40,015,122.00   \n",
       "...                               ...                 ...  ...            ...   \n",
       "7464  «12+» - для детей старше 12 лет      100,000,000.00  ... 980,000,000.00   \n",
       "7466    «6+» - для детей старше 6 лет      100,000,000.00  ... 190,000,000.00   \n",
       "7474  «12+» - для детей старше 12 лет      100,000,000.00  ... 944,000,000.00   \n",
       "7476  «12+» - для детей старше 12 лет                0.00  ...  46,154,000.00   \n",
       "7478  «12+» - для детей старше 12 лет       40,000,000.00  ... 150,147,502.00   \n",
       "\n",
       "           financing_source ratings                           genres  \\\n",
       "1281  Министерство культуры    8.10                  драма,мелодрама   \n",
       "1448  Министерство культуры     nan                       неизвестен   \n",
       "1498              Фонд кино    5.30               комедия,фантастика   \n",
       "1524  Министерство культуры    4.20                            драма   \n",
       "1792  Министерство культуры    6.40                            драма   \n",
       "...                     ...     ...                              ...   \n",
       "7464              Фонд кино    6.00          история,биография,драма   \n",
       "7466              Фонд кино    6.70  мультфильм,приключения,семейный   \n",
       "7474              Фонд кино    5.70                фантастика,боевик   \n",
       "7476  Министерство культуры    5.90                            драма   \n",
       "7478              Фонд кино    4.50     комедия,фантастика,мелодрама   \n",
       "\n",
       "         box_office  film_distribution_year  main_genre  \\\n",
       "1281     365,353.60                    2013       драма   \n",
       "1448      28,140.00                    2014  неизвестен   \n",
       "1498  19,957,031.50                    2013     комедия   \n",
       "1524      55,917.50                    2014       драма   \n",
       "1792     232,100.00                    2014       драма   \n",
       "...             ...                     ...         ...   \n",
       "7464 717,703,185.53                    2019     история   \n",
       "7466 501,069,235.00                    2019  мультфильм   \n",
       "7474            nan                    2019  фантастика   \n",
       "7476            nan                    2019       драма   \n",
       "7478            nan                    2019     комедия   \n",
       "\n",
       "                             main_director  total_support  \\\n",
       "1281                            А.Атанесян  26,500,000.00   \n",
       "1448                             А.Якимчук  26,000,000.00   \n",
       "1498                         Р.Давлетьяров 107,847,945.00   \n",
       "1524  Е.Миндадзе (псевдоним Катя Шагалова)  28,000,000.00   \n",
       "1792                              М.Угаров  25,000,000.00   \n",
       "...                                    ...            ...   \n",
       "7464                             А.Кравчук 500,000,000.00   \n",
       "7466                               Д.Шмидт 100,000,000.00   \n",
       "7474                           Ф.Бондарчук 500,000,000.00   \n",
       "7476                             И.Северов  30,000,000.00   \n",
       "7478    М.Бальчюнас (псевдоним М.Вайсберг) 100,000,000.00   \n",
       "\n",
       "      government_support_share  \n",
       "1281                      0.33  \n",
       "1448                      0.70  \n",
       "1498                      0.61  \n",
       "1524                      0.69  \n",
       "1792                      0.62  \n",
       "...                        ...  \n",
       "7464                      0.51  \n",
       "7466                      0.53  \n",
       "7474                      0.53  \n",
       "7476                      0.65  \n",
       "7478                      0.67  \n",
       "\n",
       "[332 rows x 21 columns]"
      ]
     },
     "execution_count": 63,
     "metadata": {},
     "output_type": "execute_result"
    }
   ],
   "source": [
    "df.query('budget.notnull()')"
   ]
  },
  {
   "cell_type": "markdown",
   "metadata": {},
   "source": [
    "**Вывод**\n",
    "\n",
    "В ходе подготовки данных к дальнейшему анализу были проведены следующие действия:\n",
    "\n",
    "* исправлены нарушения стиля в названии столбца `'puNumber'`;\n",
    "* в столбцах `'pu_number', 'production_country', 'genres', 'director', 'producer'` пропуски заполнены явными значениями;\n",
    "* удалены неявные дубликаты в столбце `'type'`;\n",
    "* заменены типы данных в столбцах `'show_start_date', 'puNumber', 'type', 'production_country', 'age_restriction', 'financing_source', 'ratings'`, что позволило на 30% уменьшит объем используемой памяти;\n",
    "* добавлены столбцы с информацией о годе проката, с именем и фамилией главного режиссёра и основным жанром фильма, а также с расчётом доли от общего бюджета фильма государственной поддержки."
   ]
  },
  {
   "cell_type": "markdown",
   "metadata": {
    "id": "6t4EukPLgFyV"
   },
   "source": [
    "## Исследовательский анализ данных"
   ]
  },
  {
   "cell_type": "markdown",
   "metadata": {
    "id": "vAH8WCzugFyV"
   },
   "source": [
    "Изучим, сколько фильмов выходило в прокат каждый год:"
   ]
  },
  {
   "cell_type": "code",
   "execution_count": 64,
   "metadata": {},
   "outputs": [],
   "source": [
    "pure_df = df.query('box_office > 0')"
   ]
  },
  {
   "cell_type": "code",
   "execution_count": 65,
   "metadata": {},
   "outputs": [
    {
     "data": {
      "image/png": "[encoded data removed]",
      "text/plain": [
       "<Figure size 864x360 with 1 Axes>"
      ]
     },
     "metadata": {
      "needs_background": "light"
     },
     "output_type": "display_data"
    }
   ],
   "source": [
    "(pure_df\n",
    " .pivot_table(index='film_distribution_year', values='box_office', aggfunc='count')\n",
    " .plot(grid=True, figsize=(12, 5), legend=None))\n",
    "plt.title('Количество фильмов выходивших в прокат каждый год', fontsize=16, fontweight='bold')\n",
    "plt.show()"
   ]
  },
  {
   "cell_type": "markdown",
   "metadata": {},
   "source": [
    "Посчитаем, какую долю составляют фильмы с указанной информацией о прокате в кинотеатрах:"
   ]
  },
  {
   "cell_type": "code",
   "execution_count": 66,
   "metadata": {},
   "outputs": [
    {
     "data": {
      "text/plain": [
       "0.4186481432006412"
      ]
     },
     "execution_count": 66,
     "metadata": {},
     "output_type": "execute_result"
    }
   ],
   "source": [
    "len(pure_df) / len(df)"
   ]
  },
  {
   "cell_type": "markdown",
   "metadata": {
    "id": "BEOdcIrIgFyW"
   },
   "source": [
    "Изучим, как менялась динамика проката по годам. В каком году сумма сборов была минимальной? А максимальной?"
   ]
  },
  {
   "cell_type": "code",
   "execution_count": 67,
   "metadata": {
    "id": "tfEhofYvgFyX"
   },
   "outputs": [
    {
     "data": {
      "image/png": "[encoded data removed]",
      "text/plain": [
       "<Figure size 864x360 with 1 Axes>"
      ]
     },
     "metadata": {
      "needs_background": "light"
     },
     "output_type": "display_data"
    }
   ],
   "source": [
    "(pure_df\n",
    " .pivot_table(index='film_distribution_year', values='box_office', aggfunc=['min', 'max', 'sum'])\n",
    " .plot(grid=True, figsize=(12, 5)))\n",
    "plt.xlim(2013, 2019)\n",
    "plt.ylabel(\"amount_of_money\")\n",
    "plt.show()"
   ]
  },
  {
   "cell_type": "markdown",
   "metadata": {
    "id": "G-7qS-N-gFyY"
   },
   "source": [
    "Посчитаем среднюю и медианную сумму сборов для каждого года:"
   ]
  },
  {
   "cell_type": "code",
   "execution_count": 68,
   "metadata": {
    "id": "jmp-rgg9gFyY"
   },
   "outputs": [
    {
     "data": {
      "text/html": [
       "<div>\n",
       "<style scoped>\n",
       "    .dataframe tbody tr th:only-of-type {\n",
       "        vertical-align: middle;\n",
       "    }\n",
       "\n",
       "    .dataframe tbody tr th {\n",
       "        vertical-align: top;\n",
       "    }\n",
       "\n",
       "    .dataframe thead tr th {\n",
       "        text-align: left;\n",
       "    }\n",
       "\n",
       "    .dataframe thead tr:last-of-type th {\n",
       "        text-align: right;\n",
       "    }\n",
       "</style>\n",
       "<table border=\"1\" class=\"dataframe\">\n",
       "  <thead>\n",
       "    <tr>\n",
       "      <th></th>\n",
       "      <th>mean</th>\n",
       "      <th>median</th>\n",
       "    </tr>\n",
       "    <tr>\n",
       "      <th></th>\n",
       "      <th>box_office</th>\n",
       "      <th>box_office</th>\n",
       "    </tr>\n",
       "    <tr>\n",
       "      <th>film_distribution_year</th>\n",
       "      <th></th>\n",
       "      <th></th>\n",
       "    </tr>\n",
       "  </thead>\n",
       "  <tbody>\n",
       "    <tr>\n",
       "      <td>2010</td>\n",
       "      <td>24,046.08</td>\n",
       "      <td>1,710.00</td>\n",
       "    </tr>\n",
       "    <tr>\n",
       "      <td>2011</td>\n",
       "      <td>129,383.17</td>\n",
       "      <td>3,000.00</td>\n",
       "    </tr>\n",
       "    <tr>\n",
       "      <td>2012</td>\n",
       "      <td>56,548.15</td>\n",
       "      <td>6,220.00</td>\n",
       "    </tr>\n",
       "    <tr>\n",
       "      <td>2013</td>\n",
       "      <td>166,478.81</td>\n",
       "      <td>3,580.00</td>\n",
       "    </tr>\n",
       "    <tr>\n",
       "      <td>2014</td>\n",
       "      <td>27,270,885.93</td>\n",
       "      <td>20,400.00</td>\n",
       "    </tr>\n",
       "    <tr>\n",
       "      <td>2015</td>\n",
       "      <td>85,492,132.46</td>\n",
       "      <td>5,003,450.15</td>\n",
       "    </tr>\n",
       "    <tr>\n",
       "      <td>2016</td>\n",
       "      <td>91,173,904.27</td>\n",
       "      <td>3,915,041.02</td>\n",
       "    </tr>\n",
       "    <tr>\n",
       "      <td>2017</td>\n",
       "      <td>136,032,793.33</td>\n",
       "      <td>9,968,340.00</td>\n",
       "    </tr>\n",
       "    <tr>\n",
       "      <td>2018</td>\n",
       "      <td>104,565,059.23</td>\n",
       "      <td>8,891,102.21</td>\n",
       "    </tr>\n",
       "    <tr>\n",
       "      <td>2019</td>\n",
       "      <td>91,369,261.85</td>\n",
       "      <td>4,627,798.34</td>\n",
       "    </tr>\n",
       "  </tbody>\n",
       "</table>\n",
       "</div>"
      ],
      "text/plain": [
       "                                 mean       median\n",
       "                           box_office   box_office\n",
       "film_distribution_year                            \n",
       "2010                        24,046.08     1,710.00\n",
       "2011                       129,383.17     3,000.00\n",
       "2012                        56,548.15     6,220.00\n",
       "2013                       166,478.81     3,580.00\n",
       "2014                    27,270,885.93    20,400.00\n",
       "2015                    85,492,132.46 5,003,450.15\n",
       "2016                    91,173,904.27 3,915,041.02\n",
       "2017                   136,032,793.33 9,968,340.00\n",
       "2018                   104,565,059.23 8,891,102.21\n",
       "2019                    91,369,261.85 4,627,798.34"
      ]
     },
     "execution_count": 68,
     "metadata": {},
     "output_type": "execute_result"
    }
   ],
   "source": [
    "pure_df.pivot_table(index='film_distribution_year', values='box_office', aggfunc=['mean', 'median'])"
   ]
  },
  {
   "cell_type": "markdown",
   "metadata": {
    "id": "Ok89WFwJgFyZ"
   },
   "source": [
    "Определим, влияет ли возрастное ограничение аудитории («6+», «12+», «16+», «18+» и т. д.) на сборы фильма в прокате в период с 2015 по 2019 год. Узнаем фильмы с каким возрастным ограничением собрали больше всего денег в прокате. Проверим, меняется ли картина в зависимости от года, и с чем это может быть связано."
   ]
  },
  {
   "cell_type": "code",
   "execution_count": 69,
   "metadata": {
    "id": "jsSbEqfjgFya"
   },
   "outputs": [
    {
     "data": {
      "image/png": "[encoded data removed]",
      "text/plain": [
       "<Figure size 864x360 with 1 Axes>"
      ]
     },
     "metadata": {
      "needs_background": "light"
     },
     "output_type": "display_data"
    }
   ],
   "source": [
    "(pure_df\n",
    " .pivot_table(index='film_distribution_year', columns='age_restriction', values='box_office', aggfunc='sum')\n",
    " .plot(grid=True, figsize=(12, 5)))\n",
    "plt.xlim(2015, 2019)\n",
    "plt.ylabel(\"amount_of_money\")\n",
    "plt.show()"
   ]
  },
  {
   "cell_type": "markdown",
   "metadata": {},
   "source": [
    "**Вывод**\n",
    "\n",
    "* Больше всего в прокат выходило фильмов в 2016 и 2019 годах. с 2010 по 2016 годы наблюдался продолжительный постоянный рост количества фильмов в прокате. В 2017 году произошёл серъёзный спад, после которого вновь начался подъём;\n",
    "* Доля фильмов, для которых указана информация о прокате в кинотеатрах составляет 41,86%;\n",
    "* Начиная с 2013 до 2016 год можно увидеть взрывной рост суммарных сборов от проката фильмов в кинотеатрах. С 2016 до 2018 последовал очень плавный рост, а затем до 2019 небольшой спад;\n",
    "* В период с 2015 до 2019 годы наибольшей популярностью в прокате пользовались фильмы с рейтингом \"16+\", достигнув максимума в 2017 году. Возможно это связано с расцветом популярности фильмов киновселенных MARVEL и DC в этот период."
   ]
  },
  {
   "cell_type": "markdown",
   "metadata": {
    "id": "l_Kg6Ku4gFya"
   },
   "source": [
    "## Исследование фильмов, которые получили государственную поддержку"
   ]
  },
  {
   "cell_type": "markdown",
   "metadata": {},
   "source": [
    "Выделим вышедшие в прокат фильмы которые получили государственную поддержку:"
   ]
  },
  {
   "cell_type": "code",
   "execution_count": 70,
   "metadata": {
    "id": "W9QKpjUdgFyb"
   },
   "outputs": [],
   "source": [
    "government_support_df = df.query('government_support_share.notnull() and box_office.notnull()')"
   ]
  },
  {
   "cell_type": "code",
   "execution_count": 71,
   "metadata": {
    "scrolled": false
   },
   "outputs": [
    {
     "data": {
      "text/html": [
       "<div>\n",
       "<style scoped>\n",
       "    .dataframe tbody tr th:only-of-type {\n",
       "        vertical-align: middle;\n",
       "    }\n",
       "\n",
       "    .dataframe tbody tr th {\n",
       "        vertical-align: top;\n",
       "    }\n",
       "\n",
       "    .dataframe thead th {\n",
       "        text-align: right;\n",
       "    }\n",
       "</style>\n",
       "<table border=\"1\" class=\"dataframe\">\n",
       "  <thead>\n",
       "    <tr style=\"text-align: right;\">\n",
       "      <th></th>\n",
       "      <th>title</th>\n",
       "      <th>pu_number</th>\n",
       "      <th>show_start_date</th>\n",
       "      <th>type</th>\n",
       "      <th>film_studio</th>\n",
       "      <th>production_country</th>\n",
       "      <th>director</th>\n",
       "      <th>producer</th>\n",
       "      <th>age_restriction</th>\n",
       "      <th>refundable_support</th>\n",
       "      <th>...</th>\n",
       "      <th>budget</th>\n",
       "      <th>financing_source</th>\n",
       "      <th>ratings</th>\n",
       "      <th>genres</th>\n",
       "      <th>box_office</th>\n",
       "      <th>film_distribution_year</th>\n",
       "      <th>main_genre</th>\n",
       "      <th>main_director</th>\n",
       "      <th>total_support</th>\n",
       "      <th>government_support_share</th>\n",
       "    </tr>\n",
       "  </thead>\n",
       "  <tbody>\n",
       "    <tr>\n",
       "      <td>1281</td>\n",
       "      <td>Пока еще жива</td>\n",
       "      <td>111005313</td>\n",
       "      <td>2013-10-11 12:00:00+00:00</td>\n",
       "      <td>Художественный</td>\n",
       "      <td>АНО содействия развитию кинематографии \"Ангел-...</td>\n",
       "      <td>Россия</td>\n",
       "      <td>А.Атанесян</td>\n",
       "      <td>А.Атанесян, М.Бабаханов, Р.Бутко</td>\n",
       "      <td>«16+» - для детей старше 16 лет</td>\n",
       "      <td>0.00</td>\n",
       "      <td>...</td>\n",
       "      <td>79,411,900.00</td>\n",
       "      <td>Министерство культуры</td>\n",
       "      <td>8.10</td>\n",
       "      <td>драма,мелодрама</td>\n",
       "      <td>365,353.60</td>\n",
       "      <td>2013</td>\n",
       "      <td>драма</td>\n",
       "      <td>А.Атанесян</td>\n",
       "      <td>26,500,000.00</td>\n",
       "      <td>0.33</td>\n",
       "    </tr>\n",
       "    <tr>\n",
       "      <td>1448</td>\n",
       "      <td>Бесславные придурки</td>\n",
       "      <td>111003314</td>\n",
       "      <td>2014-03-28 12:00:00+00:00</td>\n",
       "      <td>Художественный</td>\n",
       "      <td>ООО \"Компания \"АТК-Студио\"</td>\n",
       "      <td>Россия</td>\n",
       "      <td>А.Якимчук</td>\n",
       "      <td>А.Тютрюмов</td>\n",
       "      <td>«12+» - для детей старше 12 лет</td>\n",
       "      <td>0.00</td>\n",
       "      <td>...</td>\n",
       "      <td>37,142,857.00</td>\n",
       "      <td>Министерство культуры</td>\n",
       "      <td>nan</td>\n",
       "      <td>неизвестен</td>\n",
       "      <td>28,140.00</td>\n",
       "      <td>2014</td>\n",
       "      <td>неизвестен</td>\n",
       "      <td>А.Якимчук</td>\n",
       "      <td>26,000,000.00</td>\n",
       "      <td>0.70</td>\n",
       "    </tr>\n",
       "    <tr>\n",
       "      <td>1498</td>\n",
       "      <td>Невидимки</td>\n",
       "      <td>111004213</td>\n",
       "      <td>2013-09-10 12:00:00+00:00</td>\n",
       "      <td>Художественный</td>\n",
       "      <td>ООО \"Компания \"РЕАЛ-ДАКОТА\"</td>\n",
       "      <td>Россия</td>\n",
       "      <td>Р.Давлетьяров, С.Комаров</td>\n",
       "      <td>Р.Давлетьяров, А.Котелевский, А.Олейников</td>\n",
       "      <td>«12+» - для детей старше 12 лет</td>\n",
       "      <td>0.00</td>\n",
       "      <td>...</td>\n",
       "      <td>176,023,490.00</td>\n",
       "      <td>Фонд кино</td>\n",
       "      <td>5.30</td>\n",
       "      <td>комедия,фантастика</td>\n",
       "      <td>19,957,031.50</td>\n",
       "      <td>2013</td>\n",
       "      <td>комедия</td>\n",
       "      <td>Р.Давлетьяров</td>\n",
       "      <td>107,847,945.00</td>\n",
       "      <td>0.61</td>\n",
       "    </tr>\n",
       "    <tr>\n",
       "      <td>1524</td>\n",
       "      <td>БЕРЦЫ</td>\n",
       "      <td>111004314</td>\n",
       "      <td>2014-05-05 12:00:00+00:00</td>\n",
       "      <td>Художественный</td>\n",
       "      <td>ООО \"Студия \"Пассажир\"</td>\n",
       "      <td>Россия</td>\n",
       "      <td>Е.Миндадзе (псевдоним Катя Шагалова)</td>\n",
       "      <td>Л.Антонова</td>\n",
       "      <td>«16+» - для детей старше 16 лет</td>\n",
       "      <td>0.00</td>\n",
       "      <td>...</td>\n",
       "      <td>40,574,140.00</td>\n",
       "      <td>Министерство культуры</td>\n",
       "      <td>4.20</td>\n",
       "      <td>драма</td>\n",
       "      <td>55,917.50</td>\n",
       "      <td>2014</td>\n",
       "      <td>драма</td>\n",
       "      <td>Е.Миндадзе (псевдоним Катя Шагалова)</td>\n",
       "      <td>28,000,000.00</td>\n",
       "      <td>0.69</td>\n",
       "    </tr>\n",
       "    <tr>\n",
       "      <td>1792</td>\n",
       "      <td>Братья Ч</td>\n",
       "      <td>111004414</td>\n",
       "      <td>2014-04-23 12:00:00+00:00</td>\n",
       "      <td>Художественный</td>\n",
       "      <td>ООО \"Студия \"Пассажир\"</td>\n",
       "      <td>Россия</td>\n",
       "      <td>М.Угаров</td>\n",
       "      <td>А.Миндадзе, Л.Антонова</td>\n",
       "      <td>«16+» - для детей старше 16 лет</td>\n",
       "      <td>0.00</td>\n",
       "      <td>...</td>\n",
       "      <td>40,015,122.00</td>\n",
       "      <td>Министерство культуры</td>\n",
       "      <td>6.40</td>\n",
       "      <td>драма</td>\n",
       "      <td>232,100.00</td>\n",
       "      <td>2014</td>\n",
       "      <td>драма</td>\n",
       "      <td>М.Угаров</td>\n",
       "      <td>25,000,000.00</td>\n",
       "      <td>0.62</td>\n",
       "    </tr>\n",
       "  </tbody>\n",
       "</table>\n",
       "<p>5 rows × 21 columns</p>\n",
       "</div>"
      ],
      "text/plain": [
       "                    title  pu_number           show_start_date  \\\n",
       "1281        Пока еще жива  111005313 2013-10-11 12:00:00+00:00   \n",
       "1448  Бесславные придурки  111003314 2014-03-28 12:00:00+00:00   \n",
       "1498            Невидимки  111004213 2013-09-10 12:00:00+00:00   \n",
       "1524                БЕРЦЫ  111004314 2014-05-05 12:00:00+00:00   \n",
       "1792             Братья Ч  111004414 2014-04-23 12:00:00+00:00   \n",
       "\n",
       "                type                                        film_studio  \\\n",
       "1281  Художественный  АНО содействия развитию кинематографии \"Ангел-...   \n",
       "1448  Художественный                         ООО \"Компания \"АТК-Студио\"   \n",
       "1498  Художественный                        ООО \"Компания \"РЕАЛ-ДАКОТА\"   \n",
       "1524  Художественный                             ООО \"Студия \"Пассажир\"   \n",
       "1792  Художественный                             ООО \"Студия \"Пассажир\"   \n",
       "\n",
       "     production_country                              director  \\\n",
       "1281             Россия                            А.Атанесян   \n",
       "1448             Россия                             А.Якимчук   \n",
       "1498             Россия              Р.Давлетьяров, С.Комаров   \n",
       "1524             Россия  Е.Миндадзе (псевдоним Катя Шагалова)   \n",
       "1792             Россия                              М.Угаров   \n",
       "\n",
       "                                       producer  \\\n",
       "1281           А.Атанесян, М.Бабаханов, Р.Бутко   \n",
       "1448                                 А.Тютрюмов   \n",
       "1498  Р.Давлетьяров, А.Котелевский, А.Олейников   \n",
       "1524                                 Л.Антонова   \n",
       "1792                     А.Миндадзе, Л.Антонова   \n",
       "\n",
       "                      age_restriction  refundable_support  ...         budget  \\\n",
       "1281  «16+» - для детей старше 16 лет                0.00  ...  79,411,900.00   \n",
       "1448  «12+» - для детей старше 12 лет                0.00  ...  37,142,857.00   \n",
       "1498  «12+» - для детей старше 12 лет                0.00  ... 176,023,490.00   \n",
       "1524  «16+» - для детей старше 16 лет                0.00  ...  40,574,140.00   \n",
       "1792  «16+» - для детей старше 16 лет                0.00  ...  40,015,122.00   \n",
       "\n",
       "           financing_source ratings              genres    box_office  \\\n",
       "1281  Министерство культуры    8.10     драма,мелодрама    365,353.60   \n",
       "1448  Министерство культуры     nan          неизвестен     28,140.00   \n",
       "1498              Фонд кино    5.30  комедия,фантастика 19,957,031.50   \n",
       "1524  Министерство культуры    4.20               драма     55,917.50   \n",
       "1792  Министерство культуры    6.40               драма    232,100.00   \n",
       "\n",
       "      film_distribution_year  main_genre  \\\n",
       "1281                    2013       драма   \n",
       "1448                    2014  неизвестен   \n",
       "1498                    2013     комедия   \n",
       "1524                    2014       драма   \n",
       "1792                    2014       драма   \n",
       "\n",
       "                             main_director  total_support  \\\n",
       "1281                            А.Атанесян  26,500,000.00   \n",
       "1448                             А.Якимчук  26,000,000.00   \n",
       "1498                         Р.Давлетьяров 107,847,945.00   \n",
       "1524  Е.Миндадзе (псевдоним Катя Шагалова)  28,000,000.00   \n",
       "1792                              М.Угаров  25,000,000.00   \n",
       "\n",
       "      government_support_share  \n",
       "1281                      0.33  \n",
       "1448                      0.70  \n",
       "1498                      0.61  \n",
       "1524                      0.69  \n",
       "1792                      0.62  \n",
       "\n",
       "[5 rows x 21 columns]"
      ]
     },
     "execution_count": 71,
     "metadata": {},
     "output_type": "execute_result"
    }
   ],
   "source": [
    "government_support_df.head()"
   ]
  },
  {
   "cell_type": "markdown",
   "metadata": {},
   "source": [
    "Рассмотрим, сколько фильмы получали суммарно государственной поддержки и сколько зарабатывали в кинотеатрах ежегодно:"
   ]
  },
  {
   "cell_type": "code",
   "execution_count": 72,
   "metadata": {},
   "outputs": [
    {
     "data": {
      "text/html": [
       "<div>\n",
       "<style scoped>\n",
       "    .dataframe tbody tr th:only-of-type {\n",
       "        vertical-align: middle;\n",
       "    }\n",
       "\n",
       "    .dataframe tbody tr th {\n",
       "        vertical-align: top;\n",
       "    }\n",
       "\n",
       "    .dataframe thead th {\n",
       "        text-align: right;\n",
       "    }\n",
       "</style>\n",
       "<table border=\"1\" class=\"dataframe\">\n",
       "  <thead>\n",
       "    <tr style=\"text-align: right;\">\n",
       "      <th></th>\n",
       "      <th>budget</th>\n",
       "    </tr>\n",
       "    <tr>\n",
       "      <th>film_distribution_year</th>\n",
       "      <th></th>\n",
       "    </tr>\n",
       "  </thead>\n",
       "  <tbody>\n",
       "    <tr>\n",
       "      <td>2013</td>\n",
       "      <td>255,435,390.00</td>\n",
       "    </tr>\n",
       "    <tr>\n",
       "      <td>2014</td>\n",
       "      <td>1,302,484,783.00</td>\n",
       "    </tr>\n",
       "    <tr>\n",
       "      <td>2015</td>\n",
       "      <td>7,696,670,223.00</td>\n",
       "    </tr>\n",
       "    <tr>\n",
       "      <td>2016</td>\n",
       "      <td>7,536,236,668.00</td>\n",
       "    </tr>\n",
       "    <tr>\n",
       "      <td>2017</td>\n",
       "      <td>6,951,572,568.00</td>\n",
       "    </tr>\n",
       "    <tr>\n",
       "      <td>2018</td>\n",
       "      <td>7,000,664,099.00</td>\n",
       "    </tr>\n",
       "    <tr>\n",
       "      <td>2019</td>\n",
       "      <td>11,235,073,892.00</td>\n",
       "    </tr>\n",
       "  </tbody>\n",
       "</table>\n",
       "</div>"
      ],
      "text/plain": [
       "                                  budget\n",
       "film_distribution_year                  \n",
       "2013                      255,435,390.00\n",
       "2014                    1,302,484,783.00\n",
       "2015                    7,696,670,223.00\n",
       "2016                    7,536,236,668.00\n",
       "2017                    6,951,572,568.00\n",
       "2018                    7,000,664,099.00\n",
       "2019                   11,235,073,892.00"
      ]
     },
     "execution_count": 72,
     "metadata": {},
     "output_type": "execute_result"
    }
   ],
   "source": [
    "government_support_df.pivot_table(index='film_distribution_year', values='budget', aggfunc='sum')"
   ]
  },
  {
   "cell_type": "code",
   "execution_count": 73,
   "metadata": {
    "scrolled": true
   },
   "outputs": [
    {
     "data": {
      "image/png": "[encoded data removed]",
      "text/plain": [
       "<Figure size 864x360 with 1 Axes>"
      ]
     },
     "metadata": {
      "needs_background": "light"
     },
     "output_type": "display_data"
    }
   ],
   "source": [
    "ax = (government_support_df\n",
    " .pivot_table(index='film_distribution_year', values='box_office', aggfunc='sum')\n",
    " .plot(grid=True, figsize=(12, 5)))             \n",
    "(government_support_df\n",
    " .pivot_table(index='film_distribution_year', values=['budget', 'refundable_support', 'nonrefundable_support', 'total_support'], aggfunc='sum')\n",
    " .plot(ax=ax, grid=True, figsize=(12, 5)))\n",
    "plt.ylabel(\"amount_of_money\")\n",
    "plt.show()"
   ]
  },
  {
   "cell_type": "markdown",
   "metadata": {},
   "source": [
    "Из графика можно увидеть, что лишь в небольшой период времени с начала 2016 года и до середины 2018 года суммарные сборы от кинопроката фильмов с господдержкой окупали суммарные затраты на их создание. Также можно отметить, что зачастую почти половину суммарных бюджетов фильмов составляли государственные средства."
   ]
  },
  {
   "cell_type": "markdown",
   "metadata": {},
   "source": [
    "Определим наиболее популярные жанры фильмов с господдержкой:"
   ]
  },
  {
   "cell_type": "code",
   "execution_count": 74,
   "metadata": {},
   "outputs": [
    {
     "data": {
      "image/png": "[encoded data removed]",
      "text/plain": [
       "<Figure size 720x360 with 1 Axes>"
      ]
     },
     "metadata": {
      "needs_background": "light"
     },
     "output_type": "display_data"
    }
   ],
   "source": [
    "(government_support_df\n",
    " .pivot_table(index='main_genre', values='title', aggfunc='count')\n",
    " .sort_values(by='title', ascending=False)\n",
    " .plot(kind='bar', figsize=(10, 5)))\n",
    "plt.ylabel(\"number_of_films\")\n",
    "plt.show()"
   ]
  },
  {
   "cell_type": "markdown",
   "metadata": {},
   "source": [
    "Драма, комедия и мультфильм - три столпа отечественного киноискусства."
   ]
  },
  {
   "cell_type": "markdown",
   "metadata": {},
   "source": [
    "Посмотрим, какой режиссёр снял больше всего фильмов с госучастием:"
   ]
  },
  {
   "cell_type": "code",
   "execution_count": 75,
   "metadata": {
    "scrolled": false
   },
   "outputs": [
    {
     "data": {
      "image/png": "[encoded data removed]",
      "text/plain": [
       "<Figure size 720x360 with 1 Axes>"
      ]
     },
     "metadata": {
      "needs_background": "light"
     },
     "output_type": "display_data"
    }
   ],
   "source": [
    "(government_support_df\n",
    " .pivot_table(index='main_director', values='title', aggfunc='count')\n",
    " .sort_values(by='title', ascending=False)\n",
    " .head(15)\n",
    " .plot(kind='bar', figsize=(10, 5)))\n",
    "plt.ylabel(\"number_of_films\")\n",
    "plt.show()"
   ]
  },
  {
   "cell_type": "markdown",
   "metadata": {},
   "source": [
    "Ренат Давлетьяров срежиссировал целых пять фильмов с госучастием. Лишь на один меньше у Сарика Андреасяна и Дмитрия Дьяченко."
   ]
  },
  {
   "cell_type": "markdown",
   "metadata": {},
   "source": [
    "А теперь посмотрим, какой режиссёр получил больше всего денежных средств от государства:"
   ]
  },
  {
   "cell_type": "code",
   "execution_count": 76,
   "metadata": {
    "scrolled": false
   },
   "outputs": [
    {
     "data": {
      "image/png": "[encoded data removed]",
      "text/plain": [
       "<Figure size 720x360 with 1 Axes>"
      ]
     },
     "metadata": {
      "needs_background": "light"
     },
     "output_type": "display_data"
    }
   ],
   "source": [
    "(government_support_df\n",
    " .pivot_table(index='main_director', values='total_support', aggfunc='sum')\n",
    " .sort_values(by='total_support', ascending=False)\n",
    " .head(15)\n",
    " .plot(kind='bar', figsize=(10, 5)))\n",
    "plt.ylabel(\"amount_of_money\")\n",
    "plt.show()"
   ]
  },
  {
   "cell_type": "markdown",
   "metadata": {},
   "source": [
    "Ренат Давлетьяров и тут в тройке лидеров, хотя и замыкает её. Николай Хомерики безоговорочный лидер этого рейтинга, за ним следует Андрей Кравчук."
   ]
  },
  {
   "cell_type": "markdown",
   "metadata": {},
   "source": [
    "Найдем режиссёра снимающего лучшие фильмы при поддержке государства:"
   ]
  },
  {
   "cell_type": "code",
   "execution_count": 77,
   "metadata": {
    "scrolled": false
   },
   "outputs": [
    {
     "data": {
      "image/png": "[encoded data removed]",
      "text/plain": [
       "<Figure size 720x360 with 1 Axes>"
      ]
     },
     "metadata": {
      "needs_background": "light"
     },
     "output_type": "display_data"
    }
   ],
   "source": [
    "(government_support_df\n",
    " .pivot_table(index='main_director', values='ratings', aggfunc='max')\n",
    " .sort_values(by='ratings', ascending=False)\n",
    " .head(15)\n",
    " .plot(kind='bar', figsize=(10, 5)))\n",
    "plt.ylabel(\"max_ratings\")\n",
    "plt.show()"
   ]
  },
  {
   "cell_type": "markdown",
   "metadata": {},
   "source": [
    "И снова Ренат Давлетьяров! Он делит первое место с Валерием Тодоровским."
   ]
  },
  {
   "cell_type": "markdown",
   "metadata": {},
   "source": [
    "Рассмотрим рейтинги всех фильмов с господдержкой:"
   ]
  },
  {
   "cell_type": "code",
   "execution_count": 78,
   "metadata": {},
   "outputs": [
    {
     "data": {
      "text/html": [
       "<div>\n",
       "<style scoped>\n",
       "    .dataframe tbody tr th:only-of-type {\n",
       "        vertical-align: middle;\n",
       "    }\n",
       "\n",
       "    .dataframe tbody tr th {\n",
       "        vertical-align: top;\n",
       "    }\n",
       "\n",
       "    .dataframe thead tr th {\n",
       "        text-align: left;\n",
       "    }\n",
       "\n",
       "    .dataframe thead tr:last-of-type th {\n",
       "        text-align: right;\n",
       "    }\n",
       "</style>\n",
       "<table border=\"1\" class=\"dataframe\">\n",
       "  <thead>\n",
       "    <tr>\n",
       "      <th></th>\n",
       "      <th>max</th>\n",
       "      <th>min</th>\n",
       "    </tr>\n",
       "    <tr>\n",
       "      <th></th>\n",
       "      <th>ratings</th>\n",
       "      <th>ratings</th>\n",
       "    </tr>\n",
       "    <tr>\n",
       "      <th>film_distribution_year</th>\n",
       "      <th></th>\n",
       "      <th></th>\n",
       "    </tr>\n",
       "  </thead>\n",
       "  <tbody>\n",
       "    <tr>\n",
       "      <td>2013</td>\n",
       "      <td>8.10</td>\n",
       "      <td>5.30</td>\n",
       "    </tr>\n",
       "    <tr>\n",
       "      <td>2014</td>\n",
       "      <td>6.90</td>\n",
       "      <td>3.80</td>\n",
       "    </tr>\n",
       "    <tr>\n",
       "      <td>2015</td>\n",
       "      <td>8.50</td>\n",
       "      <td>2.80</td>\n",
       "    </tr>\n",
       "    <tr>\n",
       "      <td>2016</td>\n",
       "      <td>8.50</td>\n",
       "      <td>1.00</td>\n",
       "    </tr>\n",
       "    <tr>\n",
       "      <td>2017</td>\n",
       "      <td>8.00</td>\n",
       "      <td>2.90</td>\n",
       "    </tr>\n",
       "    <tr>\n",
       "      <td>2018</td>\n",
       "      <td>7.70</td>\n",
       "      <td>2.50</td>\n",
       "    </tr>\n",
       "    <tr>\n",
       "      <td>2019</td>\n",
       "      <td>8.20</td>\n",
       "      <td>3.20</td>\n",
       "    </tr>\n",
       "  </tbody>\n",
       "</table>\n",
       "</div>"
      ],
      "text/plain": [
       "                           max     min\n",
       "                       ratings ratings\n",
       "film_distribution_year                \n",
       "2013                      8.10    5.30\n",
       "2014                      6.90    3.80\n",
       "2015                      8.50    2.80\n",
       "2016                      8.50    1.00\n",
       "2017                      8.00    2.90\n",
       "2018                      7.70    2.50\n",
       "2019                      8.20    3.20"
      ]
     },
     "execution_count": 78,
     "metadata": {},
     "output_type": "execute_result"
    }
   ],
   "source": [
    "government_support_df.pivot_table(index='film_distribution_year', values='ratings', aggfunc=['max', 'min'])"
   ]
  },
  {
   "cell_type": "code",
   "execution_count": 79,
   "metadata": {},
   "outputs": [
    {
     "data": {
      "image/png": "[encoded data removed]",
      "text/plain": [
       "<Figure size 864x360 with 1 Axes>"
      ]
     },
     "metadata": {
      "needs_background": "light"
     },
     "output_type": "display_data"
    }
   ],
   "source": [
    "(government_support_df\n",
    " .pivot_table(index='film_distribution_year', values='ratings', aggfunc=['mean', 'median', 'max', 'min'])\n",
    " .plot(grid=True, figsize=(12, 5)))\n",
    "plt.show()"
   ]
  },
  {
   "cell_type": "markdown",
   "metadata": {},
   "source": [
    "Среднее и медиана рейтинга почти совпадают, что говорит нам о том, что распределение рейтингов близко к нормальному. Максимальный рейтинг фильмов из года в год держится почти стабильно и достигает 8.5 в 2015 и 2016 годах. В то же время минимальный рейтинг фильмов очень проседает с 5.3 в 2013 году до 1.0 в 2016 году."
   ]
  },
  {
   "cell_type": "markdown",
   "metadata": {},
   "source": [
    "В результате проведения исследования фильмов, которые получили государственную поддержку можно сделать следующие **выводы**:\n",
    "\n",
    "* За рассмотренный период с 2013 по 2019 годы можно увидеть тенденцию к увеличению суммарных бюджетов фильмов, в том числе за счёт увеличения государственной поддержки;\n",
    "* Наиболее популярные жанры кинокартин с госучастием - дама, комедия и мультфильм;\n",
    "* Рената Давлетьярова можно назвать наиболее успешным режиссёром фильмов с государственной поддержкой;\n",
    "* В 2016 году вышли фильмы с наилучшим и наихудшим рейтингами. С тех пор максимальный рейтинг держится на хорошей высоте, а минимальный рейтинг неуклонно растёт."
   ]
  },
  {
   "cell_type": "markdown",
   "metadata": {
    "id": "V2gYwMcPgFyd"
   },
   "source": [
    "## Общий вывод"
   ]
  },
  {
   "cell_type": "markdown",
   "metadata": {
    "id": "AYRg3dzXgFye"
   },
   "source": [
    "В ходе проведения исследования рынка российского кинопроката за несколько лет былы получены следующие результаты:\n",
    "\n",
    "* Больше всего в прокат выходило фильмов в 2016 и 2019 годах. с 2010 по 2016 годы наблюдался продолжительный постоянный рост количества фильмов в прокате. В 2017 году произошёл серъёзный спад, после которого вновь начался подъём;\n",
    "* Доля фильмов, для которых указана информация о прокате в кинотеатрах составляет 41,86%;\n",
    "* Начиная с 2013 до 2016 год можно увидеть взрывной рост суммарных сборов от проката фильмов в кинотеатрах. С 2016 до 2018 последовал очень плавный рост, а затем до 2019 небольшой спад;\n",
    "* В период с 2015 до 2019 годы наибольшей популярностью в прокате пользовались фильмы с рейтингом \"16+\", достигнув максимума в 2017 году. Возможно это связано с расцветом популярности фильмов киновселенных MARVEL и DC в этот период.\n",
    "\n",
    "При исследовании фильмов, которые получили государственную поддержку были выявлены следующие тенденции:\n",
    "\n",
    "* За рассмотренный период с 2013 по 2019 годы можно увидеть тенденцию к увеличению суммарных бюджетов фильмов (с 255 миллионов до 11 миллиардов!), в том числе за счёт увеличения государственной поддержки;\n",
    "* Наиболее популярные жанры кинокартин с госучастием - дама, комедия и мультфильм;\n",
    "* Рената Давлетьярова можно назвать наиболее успешным режиссёром фильмов с государственной поддержкой;\n",
    "* В 2016 году вышли фильмы с наилучшим (8.5) и наихудшим (1.0) рейтингами. С тех пор максимальный рейтинг держится на отметке около 8.0, а минимальный рейтинг неуклонно растёт с 1.0 до 3.2."
   ]
  }
 ],
 "metadata": {
  "ExecuteTimeLog": [
   {
    "duration": 537,
    "start_time": "2021-07-07T10:12:08.634Z"
   },
   {
    "duration": 206,
    "start_time": "2021-07-07T10:12:30.191Z"
   },
   {
    "duration": 227,
    "start_time": "2021-07-07T10:12:33.078Z"
   },
   {
    "duration": 153,
    "start_time": "2021-07-07T10:13:42.146Z"
   },
   {
    "duration": 233,
    "start_time": "2021-07-07T10:30:09.252Z"
   },
   {
    "duration": 19,
    "start_time": "2021-07-07T10:30:15.577Z"
   },
   {
    "duration": 18,
    "start_time": "2021-07-07T10:30:57.348Z"
   },
   {
    "duration": 19,
    "start_time": "2021-07-07T10:31:17.452Z"
   },
   {
    "duration": 21,
    "start_time": "2021-07-07T10:31:32.227Z"
   },
   {
    "duration": 27,
    "start_time": "2021-07-07T10:32:06.588Z"
   },
   {
    "duration": 23,
    "start_time": "2021-07-07T10:32:43.645Z"
   },
   {
    "duration": 24,
    "start_time": "2021-07-07T10:33:06.948Z"
   },
   {
    "duration": 7,
    "start_time": "2021-07-07T10:33:28.558Z"
   },
   {
    "duration": 23,
    "start_time": "2021-07-07T10:33:43.761Z"
   },
   {
    "duration": 28,
    "start_time": "2021-07-07T10:34:13.466Z"
   },
   {
    "duration": 23,
    "start_time": "2021-07-07T10:35:56.187Z"
   },
   {
    "duration": 6,
    "start_time": "2021-07-07T10:36:48.182Z"
   },
   {
    "duration": 14,
    "start_time": "2021-07-07T10:37:49.641Z"
   },
   {
    "duration": 6,
    "start_time": "2021-07-07T10:38:06.694Z"
   },
   {
    "duration": 6,
    "start_time": "2021-07-07T10:38:13.493Z"
   },
   {
    "duration": 19,
    "start_time": "2021-07-07T10:38:44.056Z"
   },
   {
    "duration": 186,
    "start_time": "2021-07-07T10:48:35.618Z"
   },
   {
    "duration": 24,
    "start_time": "2021-07-07T10:48:51.498Z"
   },
   {
    "duration": 20,
    "start_time": "2021-07-07T10:48:59.415Z"
   },
   {
    "duration": 20,
    "start_time": "2021-07-07T10:53:02.195Z"
   },
   {
    "duration": 188,
    "start_time": "2021-07-07T10:54:40.486Z"
   },
   {
    "duration": 115,
    "start_time": "2021-07-07T10:54:52.552Z"
   },
   {
    "duration": 214,
    "start_time": "2021-07-07T10:54:56.354Z"
   },
   {
    "duration": 47,
    "start_time": "2021-07-07T10:54:58.282Z"
   },
   {
    "duration": 217,
    "start_time": "2021-07-07T10:59:16.075Z"
   },
   {
    "duration": 51,
    "start_time": "2021-07-07T10:59:16.243Z"
   },
   {
    "duration": 578,
    "start_time": "2021-07-07T10:59:18.774Z"
   },
   {
    "duration": 161,
    "start_time": "2021-07-07T10:59:21.238Z"
   },
   {
    "duration": 59,
    "start_time": "2021-07-07T10:59:21.453Z"
   },
   {
    "duration": 3,
    "start_time": "2021-07-07T11:02:10.786Z"
   },
   {
    "duration": 13,
    "start_time": "2021-07-07T11:07:07.722Z"
   },
   {
    "duration": 26,
    "start_time": "2021-07-07T11:07:17.958Z"
   },
   {
    "duration": 22,
    "start_time": "2021-07-07T11:08:17.939Z"
   },
   {
    "duration": 212,
    "start_time": "2021-07-07T11:08:19.665Z"
   },
   {
    "duration": 21,
    "start_time": "2021-07-07T11:08:29.945Z"
   },
   {
    "duration": 31,
    "start_time": "2021-07-07T11:08:38.899Z"
   },
   {
    "duration": 23,
    "start_time": "2021-07-07T11:08:54.527Z"
   },
   {
    "duration": 8,
    "start_time": "2021-07-07T11:18:55.974Z"
   },
   {
    "duration": 7,
    "start_time": "2021-07-07T11:19:03.639Z"
   },
   {
    "duration": 7,
    "start_time": "2021-07-07T11:19:06.444Z"
   },
   {
    "duration": 578,
    "start_time": "2021-07-07T12:09:59.576Z"
   },
   {
    "duration": 195,
    "start_time": "2021-07-07T12:10:00.156Z"
   },
   {
    "duration": 115,
    "start_time": "2021-07-07T12:10:00.353Z"
   },
   {
    "duration": 3,
    "start_time": "2021-07-07T12:10:00.470Z"
   },
   {
    "duration": 32,
    "start_time": "2021-07-07T12:10:00.474Z"
   },
   {
    "duration": 23,
    "start_time": "2021-07-07T12:10:00.508Z"
   },
   {
    "duration": 19,
    "start_time": "2021-07-07T12:10:00.533Z"
   },
   {
    "duration": 44,
    "start_time": "2021-07-07T12:10:00.553Z"
   },
   {
    "duration": 7,
    "start_time": "2021-07-07T12:10:00.600Z"
   },
   {
    "duration": 7,
    "start_time": "2021-07-07T12:19:45.761Z"
   },
   {
    "duration": 21,
    "start_time": "2021-07-07T12:21:35.482Z"
   },
   {
    "duration": 21,
    "start_time": "2021-07-07T12:29:23.569Z"
   },
   {
    "duration": 525,
    "start_time": "2021-07-07T12:29:44.542Z"
   },
   {
    "duration": 214,
    "start_time": "2021-07-07T12:29:45.069Z"
   },
   {
    "duration": 92,
    "start_time": "2021-07-07T12:29:45.285Z"
   },
   {
    "duration": 3,
    "start_time": "2021-07-07T12:29:45.379Z"
   },
   {
    "duration": 28,
    "start_time": "2021-07-07T12:29:45.384Z"
   },
   {
    "duration": 23,
    "start_time": "2021-07-07T12:29:45.413Z"
   },
   {
    "duration": 21,
    "start_time": "2021-07-07T12:29:45.437Z"
   },
   {
    "duration": 41,
    "start_time": "2021-07-07T12:29:45.460Z"
   },
   {
    "duration": 7,
    "start_time": "2021-07-07T12:29:45.502Z"
   },
   {
    "duration": 20,
    "start_time": "2021-07-07T12:29:45.511Z"
   },
   {
    "duration": 12,
    "start_time": "2021-07-07T12:34:02.800Z"
   },
   {
    "duration": 7,
    "start_time": "2021-07-07T12:35:10.479Z"
   },
   {
    "duration": 8,
    "start_time": "2021-07-07T12:35:22.440Z"
   },
   {
    "duration": 6,
    "start_time": "2021-07-07T12:35:35.649Z"
   },
   {
    "duration": 6,
    "start_time": "2021-07-07T12:35:43.107Z"
   },
   {
    "duration": 22,
    "start_time": "2021-07-07T12:38:03.029Z"
   },
   {
    "duration": 10,
    "start_time": "2021-07-07T12:38:06.592Z"
   },
   {
    "duration": 563,
    "start_time": "2021-07-07T12:38:46.493Z"
   },
   {
    "duration": 265,
    "start_time": "2021-07-07T12:38:47.058Z"
   },
   {
    "duration": 94,
    "start_time": "2021-07-07T12:38:47.325Z"
   },
   {
    "duration": 3,
    "start_time": "2021-07-07T12:38:47.422Z"
   },
   {
    "duration": 30,
    "start_time": "2021-07-07T12:38:47.427Z"
   },
   {
    "duration": 16,
    "start_time": "2021-07-07T12:38:53.305Z"
   },
   {
    "duration": 10,
    "start_time": "2021-07-07T12:38:53.499Z"
   },
   {
    "duration": 8,
    "start_time": "2021-07-07T12:39:48.161Z"
   },
   {
    "duration": 27,
    "start_time": "2021-07-07T12:41:17.629Z"
   },
   {
    "duration": 17,
    "start_time": "2021-07-07T12:41:17.867Z"
   },
   {
    "duration": 21,
    "start_time": "2021-07-07T12:41:19.310Z"
   },
   {
    "duration": 7,
    "start_time": "2021-07-07T12:41:19.544Z"
   },
   {
    "duration": 20,
    "start_time": "2021-07-07T12:41:20.504Z"
   },
   {
    "duration": 554,
    "start_time": "2021-07-07T12:56:23.696Z"
   },
   {
    "duration": 200,
    "start_time": "2021-07-07T12:56:25.234Z"
   },
   {
    "duration": 119,
    "start_time": "2021-07-07T12:56:25.480Z"
   },
   {
    "duration": 4,
    "start_time": "2021-07-07T12:56:25.762Z"
   },
   {
    "duration": 26,
    "start_time": "2021-07-07T12:56:27.172Z"
   },
   {
    "duration": 12,
    "start_time": "2021-07-07T12:56:29.051Z"
   },
   {
    "duration": 10,
    "start_time": "2021-07-07T12:56:29.291Z"
   },
   {
    "duration": 8,
    "start_time": "2021-07-07T12:56:29.623Z"
   },
   {
    "duration": 28,
    "start_time": "2021-07-07T12:56:32.137Z"
   },
   {
    "duration": 19,
    "start_time": "2021-07-07T12:56:39.785Z"
   },
   {
    "duration": 20,
    "start_time": "2021-07-07T12:56:44.297Z"
   },
   {
    "duration": 7,
    "start_time": "2021-07-07T12:56:45.392Z"
   },
   {
    "duration": 23,
    "start_time": "2021-07-07T12:56:46.615Z"
   },
   {
    "duration": 4,
    "start_time": "2021-07-07T12:57:06.625Z"
   },
   {
    "duration": 32,
    "start_time": "2021-07-07T12:57:36.690Z"
   },
   {
    "duration": 18,
    "start_time": "2021-07-07T12:58:00.149Z"
   },
   {
    "duration": 15,
    "start_time": "2021-07-07T12:59:16.793Z"
   },
   {
    "duration": 7,
    "start_time": "2021-07-07T13:19:22.624Z"
   },
   {
    "duration": 6,
    "start_time": "2021-07-07T14:17:33.527Z"
   },
   {
    "duration": 9,
    "start_time": "2021-07-07T14:17:48.409Z"
   },
   {
    "duration": 8,
    "start_time": "2021-07-07T14:20:13.060Z"
   },
   {
    "duration": 8,
    "start_time": "2021-07-07T14:20:37.957Z"
   },
   {
    "duration": 8,
    "start_time": "2021-07-07T14:20:47.470Z"
   },
   {
    "duration": 9,
    "start_time": "2021-07-07T14:20:54.503Z"
   },
   {
    "duration": 10,
    "start_time": "2021-07-07T14:28:57.763Z"
   },
   {
    "duration": 3,
    "start_time": "2021-07-07T14:30:23.377Z"
   },
   {
    "duration": 3,
    "start_time": "2021-07-07T14:30:36.489Z"
   },
   {
    "duration": 103,
    "start_time": "2021-07-07T14:30:52.351Z"
   },
   {
    "duration": 8,
    "start_time": "2021-07-07T14:30:54.763Z"
   },
   {
    "duration": 8,
    "start_time": "2021-07-07T14:31:29.301Z"
   },
   {
    "duration": 13,
    "start_time": "2021-07-07T14:31:44.516Z"
   },
   {
    "duration": 7,
    "start_time": "2021-07-07T14:33:10.972Z"
   },
   {
    "duration": 11,
    "start_time": "2021-07-07T14:33:27.780Z"
   },
   {
    "duration": 8,
    "start_time": "2021-07-07T14:34:44.588Z"
   },
   {
    "duration": 57,
    "start_time": "2021-07-07T14:35:59.042Z"
   },
   {
    "duration": 3,
    "start_time": "2021-07-07T14:36:28.168Z"
   },
   {
    "duration": 5,
    "start_time": "2021-07-07T14:36:46.254Z"
   },
   {
    "duration": 4,
    "start_time": "2021-07-07T14:36:52.714Z"
   },
   {
    "duration": 3,
    "start_time": "2021-07-07T14:36:56.612Z"
   },
   {
    "duration": 4,
    "start_time": "2021-07-07T14:36:57.049Z"
   },
   {
    "duration": 3,
    "start_time": "2021-07-07T14:39:21.214Z"
   },
   {
    "duration": 7,
    "start_time": "2021-07-07T14:39:52.406Z"
   },
   {
    "duration": 11,
    "start_time": "2021-07-07T14:39:58.576Z"
   },
   {
    "duration": 9,
    "start_time": "2021-07-07T14:40:26.301Z"
   },
   {
    "duration": 10,
    "start_time": "2021-07-07T14:40:31.704Z"
   },
   {
    "duration": 11,
    "start_time": "2021-07-07T14:40:36.249Z"
   },
   {
    "duration": 10,
    "start_time": "2021-07-07T14:40:39.783Z"
   },
   {
    "duration": 9,
    "start_time": "2021-07-07T14:40:48.558Z"
   },
   {
    "duration": 10,
    "start_time": "2021-07-07T14:40:57.143Z"
   },
   {
    "duration": 9,
    "start_time": "2021-07-07T14:41:06.074Z"
   },
   {
    "duration": 4324,
    "start_time": "2021-07-07T14:41:22.004Z"
   },
   {
    "duration": 11,
    "start_time": "2021-07-07T14:41:33.392Z"
   },
   {
    "duration": 9,
    "start_time": "2021-07-07T14:41:39.288Z"
   },
   {
    "duration": 569,
    "start_time": "2021-07-07T14:42:14.387Z"
   },
   {
    "duration": 197,
    "start_time": "2021-07-07T14:42:14.959Z"
   },
   {
    "duration": 84,
    "start_time": "2021-07-07T14:42:16.052Z"
   },
   {
    "duration": 4,
    "start_time": "2021-07-07T14:42:16.900Z"
   },
   {
    "duration": 27,
    "start_time": "2021-07-07T14:42:19.898Z"
   },
   {
    "duration": 12,
    "start_time": "2021-07-07T14:42:21.577Z"
   },
   {
    "duration": 9,
    "start_time": "2021-07-07T14:42:21.813Z"
   },
   {
    "duration": 9,
    "start_time": "2021-07-07T14:42:22.569Z"
   },
   {
    "duration": 29,
    "start_time": "2021-07-07T14:42:25.837Z"
   },
   {
    "duration": 20,
    "start_time": "2021-07-07T14:42:27.003Z"
   },
   {
    "duration": 21,
    "start_time": "2021-07-07T14:42:28.767Z"
   },
   {
    "duration": 7,
    "start_time": "2021-07-07T14:42:29.838Z"
   },
   {
    "duration": 4,
    "start_time": "2021-07-07T14:43:25.493Z"
   },
   {
    "duration": 7,
    "start_time": "2021-07-07T14:43:26.573Z"
   },
   {
    "duration": 10,
    "start_time": "2021-07-07T14:43:31.639Z"
   },
   {
    "duration": 9,
    "start_time": "2021-07-07T14:43:32.046Z"
   },
   {
    "duration": 10,
    "start_time": "2021-07-07T14:43:33.301Z"
   },
   {
    "duration": 12,
    "start_time": "2021-07-07T14:43:33.658Z"
   },
   {
    "duration": 8,
    "start_time": "2021-07-07T14:43:34.552Z"
   },
   {
    "duration": 9,
    "start_time": "2021-07-07T14:43:35.058Z"
   },
   {
    "duration": 12,
    "start_time": "2021-07-07T14:43:35.914Z"
   },
   {
    "duration": 17,
    "start_time": "2021-07-07T14:45:34.368Z"
   },
   {
    "duration": 512,
    "start_time": "2021-07-07T14:51:58.236Z"
   },
   {
    "duration": 223,
    "start_time": "2021-07-07T14:51:58.750Z"
   },
   {
    "duration": 93,
    "start_time": "2021-07-07T14:51:58.977Z"
   },
   {
    "duration": 4,
    "start_time": "2021-07-07T14:51:59.071Z"
   },
   {
    "duration": 37,
    "start_time": "2021-07-07T14:51:59.077Z"
   },
   {
    "duration": 18,
    "start_time": "2021-07-07T14:51:59.116Z"
   },
   {
    "duration": 10,
    "start_time": "2021-07-07T14:51:59.137Z"
   },
   {
    "duration": 8,
    "start_time": "2021-07-07T14:51:59.149Z"
   },
   {
    "duration": 54,
    "start_time": "2021-07-07T14:51:59.158Z"
   },
   {
    "duration": 18,
    "start_time": "2021-07-07T14:51:59.213Z"
   },
   {
    "duration": 22,
    "start_time": "2021-07-07T14:51:59.232Z"
   },
   {
    "duration": 36,
    "start_time": "2021-07-07T14:51:59.255Z"
   },
   {
    "duration": 7,
    "start_time": "2021-07-07T14:51:59.293Z"
   },
   {
    "duration": 10,
    "start_time": "2021-07-07T14:51:59.302Z"
   },
   {
    "duration": 9,
    "start_time": "2021-07-07T14:51:59.313Z"
   },
   {
    "duration": 11,
    "start_time": "2021-07-07T14:51:59.324Z"
   },
   {
    "duration": 8,
    "start_time": "2021-07-07T14:51:59.337Z"
   },
   {
    "duration": 46,
    "start_time": "2021-07-07T14:51:59.347Z"
   },
   {
    "duration": 22,
    "start_time": "2021-07-07T14:51:59.395Z"
   },
   {
    "duration": 24,
    "start_time": "2021-07-07T14:57:32.911Z"
   },
   {
    "duration": 7,
    "start_time": "2021-07-07T14:58:22.070Z"
   },
   {
    "duration": 4,
    "start_time": "2021-07-07T14:59:11.239Z"
   },
   {
    "duration": 25,
    "start_time": "2021-07-07T15:07:22.208Z"
   },
   {
    "duration": 16,
    "start_time": "2021-07-07T15:08:25.560Z"
   },
   {
    "duration": 15,
    "start_time": "2021-07-07T15:08:40.647Z"
   },
   {
    "duration": 14,
    "start_time": "2021-07-07T15:08:46.669Z"
   },
   {
    "duration": 533,
    "start_time": "2021-07-07T15:18:07.440Z"
   },
   {
    "duration": 173,
    "start_time": "2021-07-07T15:18:07.974Z"
   },
   {
    "duration": 84,
    "start_time": "2021-07-07T15:18:08.149Z"
   },
   {
    "duration": 3,
    "start_time": "2021-07-07T15:18:08.235Z"
   },
   {
    "duration": 30,
    "start_time": "2021-07-07T15:18:08.240Z"
   },
   {
    "duration": 22,
    "start_time": "2021-07-07T15:18:08.272Z"
   },
   {
    "duration": 11,
    "start_time": "2021-07-07T15:18:08.295Z"
   },
   {
    "duration": 11,
    "start_time": "2021-07-07T15:18:08.309Z"
   },
   {
    "duration": 40,
    "start_time": "2021-07-07T15:18:08.322Z"
   },
   {
    "duration": 42,
    "start_time": "2021-07-07T15:18:08.364Z"
   },
   {
    "duration": 22,
    "start_time": "2021-07-07T15:18:08.408Z"
   },
   {
    "duration": 5,
    "start_time": "2021-07-07T15:18:08.432Z"
   },
   {
    "duration": 13,
    "start_time": "2021-07-07T15:18:08.439Z"
   },
   {
    "duration": 9,
    "start_time": "2021-07-07T15:18:08.454Z"
   },
   {
    "duration": 32,
    "start_time": "2021-07-07T15:18:08.465Z"
   },
   {
    "duration": 10,
    "start_time": "2021-07-07T15:18:08.501Z"
   },
   {
    "duration": 7,
    "start_time": "2021-07-07T15:18:08.513Z"
   },
   {
    "duration": 11,
    "start_time": "2021-07-07T15:18:08.521Z"
   },
   {
    "duration": 17,
    "start_time": "2021-07-07T15:18:08.534Z"
   },
   {
    "duration": 44,
    "start_time": "2021-07-07T15:18:08.553Z"
   },
   {
    "duration": 22,
    "start_time": "2021-07-07T15:18:08.599Z"
   },
   {
    "duration": 61,
    "start_time": "2021-07-07T15:18:08.622Z"
   },
   {
    "duration": 7,
    "start_time": "2021-07-07T15:18:39.457Z"
   },
   {
    "duration": 5,
    "start_time": "2021-07-07T16:05:17.020Z"
   },
   {
    "duration": 5,
    "start_time": "2021-07-07T16:51:28.794Z"
   },
   {
    "duration": 546,
    "start_time": "2021-07-07T16:52:26.306Z"
   },
   {
    "duration": 203,
    "start_time": "2021-07-07T16:52:27.523Z"
   },
   {
    "duration": 85,
    "start_time": "2021-07-07T16:52:27.736Z"
   },
   {
    "duration": 4,
    "start_time": "2021-07-07T16:52:27.899Z"
   },
   {
    "duration": 25,
    "start_time": "2021-07-07T16:52:28.674Z"
   },
   {
    "duration": 8,
    "start_time": "2021-07-07T16:52:32.956Z"
   },
   {
    "duration": 18,
    "start_time": "2021-07-07T16:52:35.616Z"
   },
   {
    "duration": 6,
    "start_time": "2021-07-07T16:52:36.913Z"
   },
   {
    "duration": 11,
    "start_time": "2021-07-07T16:52:40.258Z"
   },
   {
    "duration": 10,
    "start_time": "2021-07-07T16:52:46.251Z"
   },
   {
    "duration": 8,
    "start_time": "2021-07-07T16:52:47.182Z"
   },
   {
    "duration": 27,
    "start_time": "2021-07-07T16:53:20.391Z"
   },
   {
    "duration": 20,
    "start_time": "2021-07-07T16:53:22.022Z"
   },
   {
    "duration": 23,
    "start_time": "2021-07-07T16:53:23.690Z"
   },
   {
    "duration": 8,
    "start_time": "2021-07-07T16:53:24.261Z"
   },
   {
    "duration": 4,
    "start_time": "2021-07-07T16:53:38.733Z"
   },
   {
    "duration": 7,
    "start_time": "2021-07-07T16:53:40.445Z"
   },
   {
    "duration": 11,
    "start_time": "2021-07-07T16:53:41.348Z"
   },
   {
    "duration": 13,
    "start_time": "2021-07-07T16:53:45.250Z"
   },
   {
    "duration": 12,
    "start_time": "2021-07-07T16:53:45.467Z"
   },
   {
    "duration": 4,
    "start_time": "2021-07-07T16:55:32.704Z"
   },
   {
    "duration": 12,
    "start_time": "2021-07-07T16:55:49.012Z"
   },
   {
    "duration": 18,
    "start_time": "2021-07-07T16:55:49.547Z"
   },
   {
    "duration": 611,
    "start_time": "2021-07-07T16:58:35.156Z"
   },
   {
    "duration": 200,
    "start_time": "2021-07-07T16:58:35.770Z"
   },
   {
    "duration": 86,
    "start_time": "2021-07-07T16:58:35.972Z"
   },
   {
    "duration": 3,
    "start_time": "2021-07-07T16:58:36.060Z"
   },
   {
    "duration": 27,
    "start_time": "2021-07-07T16:58:36.065Z"
   },
   {
    "duration": 8,
    "start_time": "2021-07-07T16:58:36.094Z"
   },
   {
    "duration": 17,
    "start_time": "2021-07-07T16:58:36.103Z"
   },
   {
    "duration": 5,
    "start_time": "2021-07-07T16:58:36.123Z"
   },
   {
    "duration": 11,
    "start_time": "2021-07-07T16:58:36.130Z"
   },
   {
    "duration": 7,
    "start_time": "2021-07-07T16:58:36.143Z"
   },
   {
    "duration": 37,
    "start_time": "2021-07-07T16:58:36.152Z"
   },
   {
    "duration": 27,
    "start_time": "2021-07-07T16:58:36.191Z"
   },
   {
    "duration": 19,
    "start_time": "2021-07-07T16:58:36.219Z"
   },
   {
    "duration": 49,
    "start_time": "2021-07-07T16:58:36.240Z"
   },
   {
    "duration": 6,
    "start_time": "2021-07-07T16:58:36.291Z"
   },
   {
    "duration": 3,
    "start_time": "2021-07-07T16:58:36.299Z"
   },
   {
    "duration": 13,
    "start_time": "2021-07-07T16:58:36.304Z"
   },
   {
    "duration": 10,
    "start_time": "2021-07-07T16:58:36.319Z"
   },
   {
    "duration": 10,
    "start_time": "2021-07-07T16:58:36.331Z"
   },
   {
    "duration": 44,
    "start_time": "2021-07-07T16:58:36.343Z"
   },
   {
    "duration": 4,
    "start_time": "2021-07-07T16:58:36.388Z"
   },
   {
    "duration": 13,
    "start_time": "2021-07-07T16:58:36.394Z"
   },
   {
    "duration": 16,
    "start_time": "2021-07-07T16:58:36.410Z"
   },
   {
    "duration": 8,
    "start_time": "2021-07-07T17:02:31.629Z"
   },
   {
    "duration": 8,
    "start_time": "2021-07-07T17:02:34.308Z"
   },
   {
    "duration": 6,
    "start_time": "2021-07-07T17:05:13.483Z"
   },
   {
    "duration": 17,
    "start_time": "2021-07-07T17:05:20.606Z"
   },
   {
    "duration": 7,
    "start_time": "2021-07-07T17:05:34.638Z"
   },
   {
    "duration": 3,
    "start_time": "2021-07-07T17:06:31.883Z"
   },
   {
    "duration": 570,
    "start_time": "2021-07-07T17:06:37.165Z"
   },
   {
    "duration": 174,
    "start_time": "2021-07-07T17:06:37.737Z"
   },
   {
    "duration": 47,
    "start_time": "2021-07-07T17:06:37.913Z"
   },
   {
    "duration": 3,
    "start_time": "2021-07-07T17:06:37.962Z"
   },
   {
    "duration": 27,
    "start_time": "2021-07-07T17:06:37.967Z"
   },
   {
    "duration": 7,
    "start_time": "2021-07-07T17:06:37.996Z"
   },
   {
    "duration": 16,
    "start_time": "2021-07-07T17:06:38.005Z"
   },
   {
    "duration": 6,
    "start_time": "2021-07-07T17:06:38.024Z"
   },
   {
    "duration": 12,
    "start_time": "2021-07-07T17:06:38.031Z"
   },
   {
    "duration": 41,
    "start_time": "2021-07-07T17:06:38.045Z"
   },
   {
    "duration": 8,
    "start_time": "2021-07-07T17:06:38.088Z"
   },
   {
    "duration": 26,
    "start_time": "2021-07-07T17:06:38.098Z"
   },
   {
    "duration": 17,
    "start_time": "2021-07-07T17:06:38.126Z"
   },
   {
    "duration": 43,
    "start_time": "2021-07-07T17:06:38.144Z"
   },
   {
    "duration": 6,
    "start_time": "2021-07-07T17:06:38.188Z"
   },
   {
    "duration": 5,
    "start_time": "2021-07-07T17:06:38.195Z"
   },
   {
    "duration": 9,
    "start_time": "2021-07-07T17:06:38.201Z"
   },
   {
    "duration": 12,
    "start_time": "2021-07-07T17:06:38.212Z"
   },
   {
    "duration": 11,
    "start_time": "2021-07-07T17:06:38.226Z"
   },
   {
    "duration": 47,
    "start_time": "2021-07-07T17:06:38.239Z"
   },
   {
    "duration": 4,
    "start_time": "2021-07-07T17:06:38.288Z"
   },
   {
    "duration": 13,
    "start_time": "2021-07-07T17:06:38.293Z"
   },
   {
    "duration": 5,
    "start_time": "2021-07-07T17:06:38.309Z"
   },
   {
    "duration": 18,
    "start_time": "2021-07-07T17:06:38.325Z"
   },
   {
    "duration": 20,
    "start_time": "2021-07-07T17:07:02.805Z"
   },
   {
    "duration": 19,
    "start_time": "2021-07-07T17:07:08.527Z"
   },
   {
    "duration": 19,
    "start_time": "2021-07-07T17:07:12.758Z"
   },
   {
    "duration": 22,
    "start_time": "2021-07-07T17:07:17.497Z"
   },
   {
    "duration": 19,
    "start_time": "2021-07-07T17:07:19.645Z"
   },
   {
    "duration": 10,
    "start_time": "2021-07-07T17:07:34.239Z"
   },
   {
    "duration": 17,
    "start_time": "2021-07-07T17:07:54.144Z"
   },
   {
    "duration": 14,
    "start_time": "2021-07-07T17:08:14.357Z"
   },
   {
    "duration": 616,
    "start_time": "2021-07-07T17:08:45.254Z"
   },
   {
    "duration": 178,
    "start_time": "2021-07-07T17:08:45.872Z"
   },
   {
    "duration": 60,
    "start_time": "2021-07-07T17:08:46.054Z"
   },
   {
    "duration": 3,
    "start_time": "2021-07-07T17:08:46.116Z"
   },
   {
    "duration": 26,
    "start_time": "2021-07-07T17:08:46.121Z"
   },
   {
    "duration": 7,
    "start_time": "2021-07-07T17:08:46.149Z"
   },
   {
    "duration": 17,
    "start_time": "2021-07-07T17:08:46.158Z"
   },
   {
    "duration": 14,
    "start_time": "2021-07-07T17:08:46.176Z"
   },
   {
    "duration": 17,
    "start_time": "2021-07-07T17:08:46.193Z"
   },
   {
    "duration": 9,
    "start_time": "2021-07-07T17:08:46.211Z"
   },
   {
    "duration": 21,
    "start_time": "2021-07-07T17:08:46.221Z"
   },
   {
    "duration": 49,
    "start_time": "2021-07-07T17:08:46.244Z"
   },
   {
    "duration": 24,
    "start_time": "2021-07-07T17:08:46.295Z"
   },
   {
    "duration": 22,
    "start_time": "2021-07-07T17:08:46.321Z"
   },
   {
    "duration": 6,
    "start_time": "2021-07-07T17:08:46.345Z"
   },
   {
    "duration": 5,
    "start_time": "2021-07-07T17:08:46.353Z"
   },
   {
    "duration": 13,
    "start_time": "2021-07-07T17:08:46.386Z"
   },
   {
    "duration": 12,
    "start_time": "2021-07-07T17:08:46.402Z"
   },
   {
    "duration": 10,
    "start_time": "2021-07-07T17:08:46.415Z"
   },
   {
    "duration": 7,
    "start_time": "2021-07-07T17:08:46.427Z"
   },
   {
    "duration": 8,
    "start_time": "2021-07-07T17:08:46.435Z"
   },
   {
    "duration": 68,
    "start_time": "2021-07-07T17:08:46.446Z"
   },
   {
    "duration": 13,
    "start_time": "2021-07-07T17:08:46.516Z"
   },
   {
    "duration": 78,
    "start_time": "2021-07-07T17:08:46.530Z"
   },
   {
    "duration": 40,
    "start_time": "2021-07-07T17:09:08.185Z"
   },
   {
    "duration": 16,
    "start_time": "2021-07-07T17:09:19.324Z"
   },
   {
    "duration": 21,
    "start_time": "2021-07-07T17:09:23.290Z"
   },
   {
    "duration": 13,
    "start_time": "2021-07-07T17:09:54.812Z"
   },
   {
    "duration": 13,
    "start_time": "2021-07-07T17:10:02.039Z"
   },
   {
    "duration": 10,
    "start_time": "2021-07-07T17:10:29.632Z"
   },
   {
    "duration": 13,
    "start_time": "2021-07-07T17:10:52.372Z"
   },
   {
    "duration": 13,
    "start_time": "2021-07-07T17:11:17.270Z"
   },
   {
    "duration": 13,
    "start_time": "2021-07-07T17:14:59.284Z"
   },
   {
    "duration": 547,
    "start_time": "2021-07-07T17:18:52.403Z"
   },
   {
    "duration": 163,
    "start_time": "2021-07-07T17:18:52.952Z"
   },
   {
    "duration": 44,
    "start_time": "2021-07-07T17:18:53.117Z"
   },
   {
    "duration": 3,
    "start_time": "2021-07-07T17:18:53.162Z"
   },
   {
    "duration": 26,
    "start_time": "2021-07-07T17:18:53.167Z"
   },
   {
    "duration": 6,
    "start_time": "2021-07-07T17:18:53.195Z"
   },
   {
    "duration": 15,
    "start_time": "2021-07-07T17:18:53.203Z"
   },
   {
    "duration": 5,
    "start_time": "2021-07-07T17:18:53.220Z"
   },
   {
    "duration": 11,
    "start_time": "2021-07-07T17:18:53.228Z"
   },
   {
    "duration": 9,
    "start_time": "2021-07-07T17:18:53.241Z"
   },
   {
    "duration": 41,
    "start_time": "2021-07-07T17:18:53.252Z"
   },
   {
    "duration": 33,
    "start_time": "2021-07-07T17:18:53.295Z"
   },
   {
    "duration": 19,
    "start_time": "2021-07-07T17:18:53.330Z"
   },
   {
    "duration": 49,
    "start_time": "2021-07-07T17:18:53.350Z"
   },
   {
    "duration": 5,
    "start_time": "2021-07-07T17:18:53.401Z"
   },
   {
    "duration": 5,
    "start_time": "2021-07-07T17:18:53.408Z"
   },
   {
    "duration": 11,
    "start_time": "2021-07-07T17:18:53.414Z"
   },
   {
    "duration": 9,
    "start_time": "2021-07-07T17:18:53.427Z"
   },
   {
    "duration": 10,
    "start_time": "2021-07-07T17:18:53.437Z"
   },
   {
    "duration": 39,
    "start_time": "2021-07-07T17:18:53.448Z"
   },
   {
    "duration": 26,
    "start_time": "2021-07-07T17:18:55.799Z"
   },
   {
    "duration": 598,
    "start_time": "2021-07-07T17:20:17.862Z"
   },
   {
    "duration": 161,
    "start_time": "2021-07-07T17:20:18.462Z"
   },
   {
    "duration": 45,
    "start_time": "2021-07-07T17:20:18.626Z"
   },
   {
    "duration": 4,
    "start_time": "2021-07-07T17:20:18.673Z"
   },
   {
    "duration": 38,
    "start_time": "2021-07-07T17:20:26.877Z"
   },
   {
    "duration": 7,
    "start_time": "2021-07-07T17:20:37.405Z"
   },
   {
    "duration": 19,
    "start_time": "2021-07-07T17:20:51.534Z"
   },
   {
    "duration": 5,
    "start_time": "2021-07-07T17:20:57.228Z"
   },
   {
    "duration": 7,
    "start_time": "2021-07-07T17:21:08.235Z"
   },
   {
    "duration": 19,
    "start_time": "2021-07-07T17:21:42.158Z"
   },
   {
    "duration": 14,
    "start_time": "2021-07-07T17:21:50.225Z"
   },
   {
    "duration": 22,
    "start_time": "2021-07-07T17:22:54.104Z"
   },
   {
    "duration": 5,
    "start_time": "2021-07-07T17:22:56.371Z"
   },
   {
    "duration": 14,
    "start_time": "2021-07-07T17:22:58.316Z"
   },
   {
    "duration": 5,
    "start_time": "2021-07-07T17:22:58.493Z"
   },
   {
    "duration": 35,
    "start_time": "2021-07-07T17:22:59.666Z"
   },
   {
    "duration": 6,
    "start_time": "2021-07-07T17:23:02.410Z"
   },
   {
    "duration": 611,
    "start_time": "2021-07-07T17:24:59.664Z"
   },
   {
    "duration": 178,
    "start_time": "2021-07-07T17:25:01.945Z"
   },
   {
    "duration": 47,
    "start_time": "2021-07-07T17:25:02.125Z"
   },
   {
    "duration": 2,
    "start_time": "2021-07-07T17:25:07.903Z"
   },
   {
    "duration": 254,
    "start_time": "2021-07-07T17:25:08.232Z"
   },
   {
    "duration": 182,
    "start_time": "2021-07-07T17:25:08.671Z"
   },
   {
    "duration": 6,
    "start_time": "2021-07-07T17:25:13.104Z"
   },
   {
    "duration": 36,
    "start_time": "2021-07-07T17:25:13.662Z"
   },
   {
    "duration": 7,
    "start_time": "2021-07-07T17:25:14.528Z"
   },
   {
    "duration": 24,
    "start_time": "2021-07-07T17:25:27.982Z"
   },
   {
    "duration": 3,
    "start_time": "2021-07-07T17:25:48.982Z"
   },
   {
    "duration": 165,
    "start_time": "2021-07-07T17:25:48.987Z"
   },
   {
    "duration": 50,
    "start_time": "2021-07-07T17:25:49.154Z"
   },
   {
    "duration": 4,
    "start_time": "2021-07-07T17:25:49.206Z"
   },
   {
    "duration": 26,
    "start_time": "2021-07-07T17:25:49.212Z"
   },
   {
    "duration": 7,
    "start_time": "2021-07-07T17:25:49.240Z"
   },
   {
    "duration": 16,
    "start_time": "2021-07-07T17:25:49.249Z"
   },
   {
    "duration": 22,
    "start_time": "2021-07-07T17:25:49.266Z"
   },
   {
    "duration": 16,
    "start_time": "2021-07-07T17:25:49.291Z"
   },
   {
    "duration": 9,
    "start_time": "2021-07-07T17:25:49.309Z"
   },
   {
    "duration": 7,
    "start_time": "2021-07-07T17:25:49.319Z"
   },
   {
    "duration": 28,
    "start_time": "2021-07-07T17:25:49.328Z"
   },
   {
    "duration": 44,
    "start_time": "2021-07-07T17:25:49.357Z"
   },
   {
    "duration": 22,
    "start_time": "2021-07-07T17:25:49.403Z"
   },
   {
    "duration": 7,
    "start_time": "2021-07-07T17:25:49.427Z"
   },
   {
    "duration": 3,
    "start_time": "2021-07-07T17:25:49.436Z"
   },
   {
    "duration": 44,
    "start_time": "2021-07-07T17:25:49.441Z"
   },
   {
    "duration": 12,
    "start_time": "2021-07-07T17:25:49.488Z"
   },
   {
    "duration": 13,
    "start_time": "2021-07-07T17:25:49.502Z"
   },
   {
    "duration": 10,
    "start_time": "2021-07-07T17:25:49.516Z"
   },
   {
    "duration": 62,
    "start_time": "2021-07-07T17:25:49.527Z"
   },
   {
    "duration": 26,
    "start_time": "2021-07-07T17:26:51.809Z"
   },
   {
    "duration": 26,
    "start_time": "2021-07-07T17:26:55.759Z"
   },
   {
    "duration": 26,
    "start_time": "2021-07-07T17:27:04.501Z"
   },
   {
    "duration": 25,
    "start_time": "2021-07-07T17:28:24.859Z"
   },
   {
    "duration": 21,
    "start_time": "2021-07-07T17:28:55.250Z"
   },
   {
    "duration": 21,
    "start_time": "2021-07-07T17:28:58.885Z"
   },
   {
    "duration": 7,
    "start_time": "2021-07-07T17:45:40.972Z"
   },
   {
    "duration": 13,
    "start_time": "2021-07-07T17:45:42.529Z"
   },
   {
    "duration": 27,
    "start_time": "2021-07-07T17:45:51.026Z"
   },
   {
    "duration": 518,
    "start_time": "2021-07-07T17:46:15.532Z"
   },
   {
    "duration": 235,
    "start_time": "2021-07-07T17:46:16.053Z"
   },
   {
    "duration": 80,
    "start_time": "2021-07-07T17:46:16.292Z"
   },
   {
    "duration": 5,
    "start_time": "2021-07-07T17:46:16.373Z"
   },
   {
    "duration": 26,
    "start_time": "2021-07-07T17:46:16.380Z"
   },
   {
    "duration": 7,
    "start_time": "2021-07-07T17:46:16.408Z"
   },
   {
    "duration": 16,
    "start_time": "2021-07-07T17:46:16.418Z"
   },
   {
    "duration": 5,
    "start_time": "2021-07-07T17:46:16.436Z"
   },
   {
    "duration": 13,
    "start_time": "2021-07-07T17:46:16.442Z"
   },
   {
    "duration": 35,
    "start_time": "2021-07-07T17:46:16.456Z"
   },
   {
    "duration": 8,
    "start_time": "2021-07-07T17:46:16.493Z"
   },
   {
    "duration": 28,
    "start_time": "2021-07-07T17:46:16.502Z"
   },
   {
    "duration": 17,
    "start_time": "2021-07-07T17:46:16.532Z"
   },
   {
    "duration": 44,
    "start_time": "2021-07-07T17:46:16.551Z"
   },
   {
    "duration": 6,
    "start_time": "2021-07-07T17:46:16.597Z"
   },
   {
    "duration": 4,
    "start_time": "2021-07-07T17:46:16.605Z"
   },
   {
    "duration": 9,
    "start_time": "2021-07-07T17:46:16.610Z"
   },
   {
    "duration": 9,
    "start_time": "2021-07-07T17:46:16.621Z"
   },
   {
    "duration": 10,
    "start_time": "2021-07-07T17:46:16.632Z"
   },
   {
    "duration": 43,
    "start_time": "2021-07-07T17:46:16.644Z"
   },
   {
    "duration": 26,
    "start_time": "2021-07-07T17:46:16.689Z"
   },
   {
    "duration": 19,
    "start_time": "2021-07-07T17:46:16.718Z"
   },
   {
    "duration": 8,
    "start_time": "2021-07-07T17:46:16.738Z"
   },
   {
    "duration": 43,
    "start_time": "2021-07-07T17:46:16.747Z"
   },
   {
    "duration": 19,
    "start_time": "2021-07-07T17:46:16.791Z"
   },
   {
    "duration": 9,
    "start_time": "2021-07-07T17:46:16.812Z"
   },
   {
    "duration": 60,
    "start_time": "2021-07-07T17:46:16.822Z"
   },
   {
    "duration": -8,
    "start_time": "2021-07-07T17:46:16.892Z"
   },
   {
    "duration": 12,
    "start_time": "2021-07-07T17:48:47.707Z"
   },
   {
    "duration": 553,
    "start_time": "2021-07-07T18:10:09.350Z"
   },
   {
    "duration": 230,
    "start_time": "2021-07-07T18:10:09.905Z"
   },
   {
    "duration": 97,
    "start_time": "2021-07-07T18:10:10.137Z"
   },
   {
    "duration": 5,
    "start_time": "2021-07-07T18:10:10.236Z"
   },
   {
    "duration": 29,
    "start_time": "2021-07-07T18:10:10.242Z"
   },
   {
    "duration": 7,
    "start_time": "2021-07-07T18:10:10.272Z"
   },
   {
    "duration": 15,
    "start_time": "2021-07-07T18:10:10.281Z"
   },
   {
    "duration": 4,
    "start_time": "2021-07-07T18:10:10.299Z"
   },
   {
    "duration": 14,
    "start_time": "2021-07-07T18:10:10.305Z"
   },
   {
    "duration": 8,
    "start_time": "2021-07-07T18:10:10.321Z"
   },
   {
    "duration": 8,
    "start_time": "2021-07-07T18:10:10.331Z"
   },
   {
    "duration": 56,
    "start_time": "2021-07-07T18:10:10.341Z"
   },
   {
    "duration": 19,
    "start_time": "2021-07-07T18:10:10.399Z"
   },
   {
    "duration": 23,
    "start_time": "2021-07-07T18:10:10.419Z"
   },
   {
    "duration": 6,
    "start_time": "2021-07-07T18:10:10.444Z"
   },
   {
    "duration": 9,
    "start_time": "2021-07-07T18:10:10.451Z"
   },
   {
    "duration": 30,
    "start_time": "2021-07-07T18:10:10.462Z"
   },
   {
    "duration": 9,
    "start_time": "2021-07-07T18:10:10.494Z"
   },
   {
    "duration": 14,
    "start_time": "2021-07-07T18:10:10.505Z"
   },
   {
    "duration": 7,
    "start_time": "2021-07-07T18:10:10.521Z"
   },
   {
    "duration": 26,
    "start_time": "2021-07-07T18:10:10.530Z"
   },
   {
    "duration": 44,
    "start_time": "2021-07-07T18:10:10.558Z"
   },
   {
    "duration": 7,
    "start_time": "2021-07-07T18:10:10.605Z"
   },
   {
    "duration": 11,
    "start_time": "2021-07-07T18:10:10.614Z"
   },
   {
    "duration": 19,
    "start_time": "2021-07-07T18:10:10.626Z"
   },
   {
    "duration": 44,
    "start_time": "2021-07-07T18:10:10.646Z"
   },
   {
    "duration": 516,
    "start_time": "2021-07-07T18:14:00.826Z"
   },
   {
    "duration": 230,
    "start_time": "2021-07-07T18:14:01.344Z"
   },
   {
    "duration": 105,
    "start_time": "2021-07-07T18:14:01.576Z"
   },
   {
    "duration": 5,
    "start_time": "2021-07-07T18:14:01.683Z"
   },
   {
    "duration": 46,
    "start_time": "2021-07-07T18:14:01.690Z"
   },
   {
    "duration": 7,
    "start_time": "2021-07-07T18:14:01.738Z"
   },
   {
    "duration": 20,
    "start_time": "2021-07-07T18:14:01.747Z"
   },
   {
    "duration": 16,
    "start_time": "2021-07-07T18:14:01.769Z"
   },
   {
    "duration": 14,
    "start_time": "2021-07-07T18:14:01.787Z"
   },
   {
    "duration": 15,
    "start_time": "2021-07-07T18:14:01.803Z"
   },
   {
    "duration": 12,
    "start_time": "2021-07-07T18:14:01.820Z"
   },
   {
    "duration": 35,
    "start_time": "2021-07-07T18:14:01.833Z"
   },
   {
    "duration": 31,
    "start_time": "2021-07-07T18:14:01.869Z"
   },
   {
    "duration": 37,
    "start_time": "2021-07-07T18:14:01.902Z"
   },
   {
    "duration": 8,
    "start_time": "2021-07-07T18:14:01.942Z"
   },
   {
    "duration": 16,
    "start_time": "2021-07-07T18:14:01.952Z"
   },
   {
    "duration": 13,
    "start_time": "2021-07-07T18:14:01.970Z"
   },
   {
    "duration": 32,
    "start_time": "2021-07-07T18:14:01.985Z"
   },
   {
    "duration": 11,
    "start_time": "2021-07-07T18:14:02.019Z"
   },
   {
    "duration": 22,
    "start_time": "2021-07-07T18:14:02.031Z"
   },
   {
    "duration": 27,
    "start_time": "2021-07-07T18:14:02.055Z"
   },
   {
    "duration": 18,
    "start_time": "2021-07-07T18:14:02.084Z"
   },
   {
    "duration": 18,
    "start_time": "2021-07-07T18:14:02.106Z"
   },
   {
    "duration": 11,
    "start_time": "2021-07-07T18:14:02.126Z"
   },
   {
    "duration": 21,
    "start_time": "2021-07-07T18:14:02.138Z"
   },
   {
    "duration": 32,
    "start_time": "2021-07-07T18:14:02.161Z"
   },
   {
    "duration": 28,
    "start_time": "2021-07-07T18:14:44.295Z"
   },
   {
    "duration": 6,
    "start_time": "2021-07-07T18:15:05.834Z"
   },
   {
    "duration": 511,
    "start_time": "2021-07-07T18:15:41.541Z"
   },
   {
    "duration": 183,
    "start_time": "2021-07-07T18:15:42.054Z"
   },
   {
    "duration": 50,
    "start_time": "2021-07-07T18:15:42.239Z"
   },
   {
    "duration": 5,
    "start_time": "2021-07-07T18:15:42.291Z"
   },
   {
    "duration": 48,
    "start_time": "2021-07-07T18:15:42.297Z"
   },
   {
    "duration": 8,
    "start_time": "2021-07-07T18:15:42.346Z"
   },
   {
    "duration": 17,
    "start_time": "2021-07-07T18:15:42.356Z"
   },
   {
    "duration": 15,
    "start_time": "2021-07-07T18:15:42.375Z"
   },
   {
    "duration": 12,
    "start_time": "2021-07-07T18:15:42.392Z"
   },
   {
    "duration": 7,
    "start_time": "2021-07-07T18:15:42.406Z"
   },
   {
    "duration": 7,
    "start_time": "2021-07-07T18:15:42.415Z"
   },
   {
    "duration": 29,
    "start_time": "2021-07-07T18:15:42.423Z"
   },
   {
    "duration": 43,
    "start_time": "2021-07-07T18:15:42.453Z"
   },
   {
    "duration": 18,
    "start_time": "2021-07-07T18:15:42.497Z"
   },
   {
    "duration": 6,
    "start_time": "2021-07-07T18:15:42.516Z"
   },
   {
    "duration": 3,
    "start_time": "2021-07-07T18:15:42.523Z"
   },
   {
    "duration": 18,
    "start_time": "2021-07-07T18:15:42.528Z"
   },
   {
    "duration": 10,
    "start_time": "2021-07-07T18:15:42.547Z"
   },
   {
    "duration": 36,
    "start_time": "2021-07-07T18:15:42.559Z"
   },
   {
    "duration": 8,
    "start_time": "2021-07-07T18:15:42.597Z"
   },
   {
    "duration": 28,
    "start_time": "2021-07-07T18:15:42.606Z"
   },
   {
    "duration": 52,
    "start_time": "2021-07-07T18:15:42.635Z"
   },
   {
    "duration": 7,
    "start_time": "2021-07-07T18:15:42.690Z"
   },
   {
    "duration": 10,
    "start_time": "2021-07-07T18:15:42.699Z"
   },
   {
    "duration": 19,
    "start_time": "2021-07-07T18:15:42.711Z"
   },
   {
    "duration": 9,
    "start_time": "2021-07-07T18:15:42.732Z"
   },
   {
    "duration": 5,
    "start_time": "2021-07-07T18:15:42.743Z"
   },
   {
    "duration": 1450,
    "start_time": "2021-07-07T18:15:51.984Z"
   },
   {
    "duration": 161,
    "start_time": "2021-07-07T18:15:53.435Z"
   },
   {
    "duration": 124,
    "start_time": "2021-07-07T18:15:53.598Z"
   },
   {
    "duration": 5,
    "start_time": "2021-07-07T18:15:53.724Z"
   },
   {
    "duration": 34,
    "start_time": "2021-07-07T18:15:53.730Z"
   },
   {
    "duration": 7,
    "start_time": "2021-07-07T18:15:53.765Z"
   },
   {
    "duration": 15,
    "start_time": "2021-07-07T18:15:53.773Z"
   },
   {
    "duration": 5,
    "start_time": "2021-07-07T18:15:53.791Z"
   },
   {
    "duration": 19,
    "start_time": "2021-07-07T18:15:53.798Z"
   },
   {
    "duration": 9,
    "start_time": "2021-07-07T18:15:53.818Z"
   },
   {
    "duration": 19,
    "start_time": "2021-07-07T18:15:53.828Z"
   },
   {
    "duration": 27,
    "start_time": "2021-07-07T18:15:53.848Z"
   },
   {
    "duration": 16,
    "start_time": "2021-07-07T18:15:53.884Z"
   },
   {
    "duration": 29,
    "start_time": "2021-07-07T18:15:53.901Z"
   },
   {
    "duration": 5,
    "start_time": "2021-07-07T18:15:53.932Z"
   },
   {
    "duration": 15,
    "start_time": "2021-07-07T18:15:53.939Z"
   },
   {
    "duration": 13,
    "start_time": "2021-07-07T18:15:53.956Z"
   },
   {
    "duration": 20,
    "start_time": "2021-07-07T18:15:53.971Z"
   },
   {
    "duration": 14,
    "start_time": "2021-07-07T18:15:53.992Z"
   },
   {
    "duration": 9,
    "start_time": "2021-07-07T18:15:54.009Z"
   },
   {
    "duration": 28,
    "start_time": "2021-07-07T18:15:54.020Z"
   },
   {
    "duration": 50,
    "start_time": "2021-07-07T18:15:54.051Z"
   },
   {
    "duration": 8,
    "start_time": "2021-07-07T18:15:54.105Z"
   },
   {
    "duration": 11,
    "start_time": "2021-07-07T18:15:54.115Z"
   },
   {
    "duration": 20,
    "start_time": "2021-07-07T18:15:54.128Z"
   },
   {
    "duration": 13,
    "start_time": "2021-07-07T18:15:54.184Z"
   },
   {
    "duration": 7,
    "start_time": "2021-07-07T18:15:54.199Z"
   },
   {
    "duration": 7,
    "start_time": "2021-07-07T18:17:08.042Z"
   },
   {
    "duration": 8,
    "start_time": "2021-07-07T18:17:21.008Z"
   },
   {
    "duration": 7,
    "start_time": "2021-07-07T18:17:29.003Z"
   },
   {
    "duration": 8,
    "start_time": "2021-07-07T18:17:32.492Z"
   },
   {
    "duration": 9,
    "start_time": "2021-07-07T18:17:41.758Z"
   },
   {
    "duration": 255,
    "start_time": "2021-07-07T18:20:20.897Z"
   },
   {
    "duration": 173,
    "start_time": "2021-07-07T18:20:26.636Z"
   },
   {
    "duration": 7,
    "start_time": "2021-07-07T18:21:47.164Z"
   },
   {
    "duration": 254,
    "start_time": "2021-07-07T18:23:08.703Z"
   },
   {
    "duration": 21,
    "start_time": "2021-07-07T18:23:22.506Z"
   },
   {
    "duration": 315,
    "start_time": "2021-07-07T18:25:54.801Z"
   },
   {
    "duration": 34,
    "start_time": "2021-07-07T18:26:51.817Z"
   },
   {
    "duration": 327,
    "start_time": "2021-07-07T18:26:56.147Z"
   },
   {
    "duration": 342,
    "start_time": "2021-07-07T18:27:15.887Z"
   },
   {
    "duration": 302,
    "start_time": "2021-07-07T18:28:18.569Z"
   },
   {
    "duration": 226,
    "start_time": "2021-07-07T18:29:20.879Z"
   },
   {
    "duration": 207,
    "start_time": "2021-07-07T18:29:58.114Z"
   },
   {
    "duration": 140,
    "start_time": "2021-07-07T18:32:04.372Z"
   },
   {
    "duration": 158,
    "start_time": "2021-07-07T18:32:32.508Z"
   },
   {
    "duration": 145,
    "start_time": "2021-07-07T18:32:41.365Z"
   },
   {
    "duration": 132,
    "start_time": "2021-07-07T18:32:45.199Z"
   },
   {
    "duration": 11,
    "start_time": "2021-07-07T18:35:24.679Z"
   },
   {
    "duration": 268,
    "start_time": "2021-07-07T18:36:16.145Z"
   },
   {
    "duration": 227,
    "start_time": "2021-07-07T18:37:04.918Z"
   },
   {
    "duration": 3,
    "start_time": "2021-07-07T18:37:33.012Z"
   },
   {
    "duration": 671,
    "start_time": "2021-07-07T18:37:38.295Z"
   },
   {
    "duration": 54,
    "start_time": "2021-07-07T18:37:53.406Z"
   },
   {
    "duration": 631,
    "start_time": "2021-07-07T18:37:56.463Z"
   },
   {
    "duration": 19,
    "start_time": "2021-07-07T18:39:40.535Z"
   },
   {
    "duration": 20,
    "start_time": "2021-07-07T18:40:12.236Z"
   },
   {
    "duration": 633,
    "start_time": "2021-07-07T18:42:00.398Z"
   },
   {
    "duration": 218,
    "start_time": "2021-07-07T18:42:01.033Z"
   },
   {
    "duration": 49,
    "start_time": "2021-07-07T18:42:01.253Z"
   },
   {
    "duration": 5,
    "start_time": "2021-07-07T18:42:01.303Z"
   },
   {
    "duration": 27,
    "start_time": "2021-07-07T18:42:01.310Z"
   },
   {
    "duration": 8,
    "start_time": "2021-07-07T18:42:01.339Z"
   },
   {
    "duration": 20,
    "start_time": "2021-07-07T18:42:01.348Z"
   },
   {
    "duration": 6,
    "start_time": "2021-07-07T18:42:01.386Z"
   },
   {
    "duration": 16,
    "start_time": "2021-07-07T18:42:01.394Z"
   },
   {
    "duration": 9,
    "start_time": "2021-07-07T18:42:01.411Z"
   },
   {
    "duration": 11,
    "start_time": "2021-07-07T18:42:01.421Z"
   },
   {
    "duration": 31,
    "start_time": "2021-07-07T18:42:01.434Z"
   },
   {
    "duration": 18,
    "start_time": "2021-07-07T18:42:01.485Z"
   },
   {
    "duration": 23,
    "start_time": "2021-07-07T18:42:01.505Z"
   },
   {
    "duration": 6,
    "start_time": "2021-07-07T18:42:01.530Z"
   },
   {
    "duration": 10,
    "start_time": "2021-07-07T18:42:01.538Z"
   },
   {
    "duration": 13,
    "start_time": "2021-07-07T18:42:01.550Z"
   },
   {
    "duration": 24,
    "start_time": "2021-07-07T18:42:01.564Z"
   },
   {
    "duration": 20,
    "start_time": "2021-07-07T18:42:01.590Z"
   },
   {
    "duration": 8,
    "start_time": "2021-07-07T18:42:01.611Z"
   },
   {
    "duration": 31,
    "start_time": "2021-07-07T18:42:01.620Z"
   },
   {
    "duration": 39,
    "start_time": "2021-07-07T18:42:01.653Z"
   },
   {
    "duration": 8,
    "start_time": "2021-07-07T18:42:01.696Z"
   },
   {
    "duration": 13,
    "start_time": "2021-07-07T18:42:01.705Z"
   },
   {
    "duration": 20,
    "start_time": "2021-07-07T18:42:01.720Z"
   },
   {
    "duration": 12,
    "start_time": "2021-07-07T18:42:01.741Z"
   },
   {
    "duration": 35,
    "start_time": "2021-07-07T18:42:01.755Z"
   },
   {
    "duration": 14,
    "start_time": "2021-07-07T18:42:01.792Z"
   },
   {
    "duration": 188,
    "start_time": "2021-07-07T18:42:01.808Z"
   },
   {
    "duration": 19,
    "start_time": "2021-07-07T18:42:01.998Z"
   },
   {
    "duration": 175,
    "start_time": "2021-07-07T18:42:02.019Z"
   },
   {
    "duration": 134,
    "start_time": "2021-07-07T18:42:02.196Z"
   },
   {
    "duration": 10,
    "start_time": "2021-07-07T18:42:02.331Z"
   },
   {
    "duration": 19,
    "start_time": "2021-07-07T18:42:02.343Z"
   },
   {
    "duration": 628,
    "start_time": "2021-07-07T18:46:30.701Z"
   },
   {
    "duration": 183,
    "start_time": "2021-07-07T18:46:31.331Z"
   },
   {
    "duration": 48,
    "start_time": "2021-07-07T18:46:31.516Z"
   },
   {
    "duration": 5,
    "start_time": "2021-07-07T18:46:31.566Z"
   },
   {
    "duration": 28,
    "start_time": "2021-07-07T18:46:31.572Z"
   },
   {
    "duration": 8,
    "start_time": "2021-07-07T18:46:31.602Z"
   },
   {
    "duration": 19,
    "start_time": "2021-07-07T18:46:31.611Z"
   },
   {
    "duration": 6,
    "start_time": "2021-07-07T18:46:31.633Z"
   },
   {
    "duration": 17,
    "start_time": "2021-07-07T18:46:31.642Z"
   },
   {
    "duration": 10,
    "start_time": "2021-07-07T18:46:31.684Z"
   },
   {
    "duration": 9,
    "start_time": "2021-07-07T18:46:31.695Z"
   },
   {
    "duration": 28,
    "start_time": "2021-07-07T18:46:31.705Z"
   },
   {
    "duration": 18,
    "start_time": "2021-07-07T18:46:31.735Z"
   },
   {
    "duration": 48,
    "start_time": "2021-07-07T18:46:31.755Z"
   },
   {
    "duration": 6,
    "start_time": "2021-07-07T18:46:31.804Z"
   },
   {
    "duration": 4,
    "start_time": "2021-07-07T18:46:31.812Z"
   },
   {
    "duration": 9,
    "start_time": "2021-07-07T18:46:31.817Z"
   },
   {
    "duration": 10,
    "start_time": "2021-07-07T18:46:31.827Z"
   },
   {
    "duration": 12,
    "start_time": "2021-07-07T18:46:31.838Z"
   },
   {
    "duration": 39,
    "start_time": "2021-07-07T18:46:31.851Z"
   },
   {
    "duration": 24,
    "start_time": "2021-07-07T18:46:31.892Z"
   },
   {
    "duration": 15,
    "start_time": "2021-07-07T18:46:31.918Z"
   },
   {
    "duration": 7,
    "start_time": "2021-07-07T18:46:31.936Z"
   },
   {
    "duration": 8,
    "start_time": "2021-07-07T18:46:31.944Z"
   },
   {
    "duration": 19,
    "start_time": "2021-07-07T18:46:31.984Z"
   },
   {
    "duration": 10,
    "start_time": "2021-07-07T18:46:32.004Z"
   },
   {
    "duration": 5,
    "start_time": "2021-07-07T18:46:32.016Z"
   },
   {
    "duration": 9,
    "start_time": "2021-07-07T18:46:32.023Z"
   },
   {
    "duration": 199,
    "start_time": "2021-07-07T18:46:32.033Z"
   },
   {
    "duration": 19,
    "start_time": "2021-07-07T18:46:32.234Z"
   },
   {
    "duration": 159,
    "start_time": "2021-07-07T18:46:32.255Z"
   },
   {
    "duration": 134,
    "start_time": "2021-07-07T18:46:32.416Z"
   },
   {
    "duration": 10,
    "start_time": "2021-07-07T18:46:32.552Z"
   },
   {
    "duration": 34,
    "start_time": "2021-07-07T18:46:32.563Z"
   },
   {
    "duration": 1039,
    "start_time": "2021-07-08T08:41:09.419Z"
   },
   {
    "duration": 333,
    "start_time": "2021-07-08T08:41:10.459Z"
   },
   {
    "duration": 173,
    "start_time": "2021-07-08T08:41:10.794Z"
   },
   {
    "duration": 5,
    "start_time": "2021-07-08T08:41:10.968Z"
   },
   {
    "duration": 25,
    "start_time": "2021-07-08T08:41:10.975Z"
   },
   {
    "duration": 9,
    "start_time": "2021-07-08T08:41:11.002Z"
   },
   {
    "duration": 18,
    "start_time": "2021-07-08T08:41:11.013Z"
   },
   {
    "duration": 6,
    "start_time": "2021-07-08T08:41:11.033Z"
   },
   {
    "duration": 44,
    "start_time": "2021-07-08T08:41:11.042Z"
   },
   {
    "duration": 10,
    "start_time": "2021-07-08T08:41:11.088Z"
   },
   {
    "duration": 9,
    "start_time": "2021-07-08T08:41:11.100Z"
   },
   {
    "duration": 27,
    "start_time": "2021-07-08T08:41:11.111Z"
   },
   {
    "duration": 46,
    "start_time": "2021-07-08T08:41:11.140Z"
   },
   {
    "duration": 17,
    "start_time": "2021-07-08T08:41:11.187Z"
   },
   {
    "duration": 6,
    "start_time": "2021-07-08T08:41:11.206Z"
   },
   {
    "duration": 5,
    "start_time": "2021-07-08T08:41:11.213Z"
   },
   {
    "duration": 10,
    "start_time": "2021-07-08T08:41:11.219Z"
   },
   {
    "duration": 9,
    "start_time": "2021-07-08T08:41:11.230Z"
   },
   {
    "duration": 45,
    "start_time": "2021-07-08T08:41:11.241Z"
   },
   {
    "duration": 7,
    "start_time": "2021-07-08T08:41:11.287Z"
   },
   {
    "duration": 24,
    "start_time": "2021-07-08T08:41:11.296Z"
   },
   {
    "duration": 16,
    "start_time": "2021-07-08T08:41:11.322Z"
   },
   {
    "duration": 7,
    "start_time": "2021-07-08T08:41:11.341Z"
   },
   {
    "duration": 41,
    "start_time": "2021-07-08T08:41:11.349Z"
   },
   {
    "duration": 17,
    "start_time": "2021-07-08T08:41:11.391Z"
   },
   {
    "duration": 9,
    "start_time": "2021-07-08T08:41:11.410Z"
   },
   {
    "duration": 5,
    "start_time": "2021-07-08T08:41:11.421Z"
   },
   {
    "duration": 6,
    "start_time": "2021-07-08T08:41:11.428Z"
   },
   {
    "duration": 198,
    "start_time": "2021-07-08T08:41:11.435Z"
   },
   {
    "duration": 18,
    "start_time": "2021-07-08T08:41:11.635Z"
   },
   {
    "duration": 155,
    "start_time": "2021-07-08T08:41:11.655Z"
   },
   {
    "duration": 138,
    "start_time": "2021-07-08T08:41:11.811Z"
   },
   {
    "duration": 10,
    "start_time": "2021-07-08T08:41:11.950Z"
   },
   {
    "duration": 29,
    "start_time": "2021-07-08T08:41:11.961Z"
   },
   {
    "duration": 171,
    "start_time": "2021-07-08T08:47:44.522Z"
   },
   {
    "duration": 124,
    "start_time": "2021-07-08T08:47:46.872Z"
   },
   {
    "duration": 191,
    "start_time": "2021-07-08T08:47:58.148Z"
   },
   {
    "duration": 191,
    "start_time": "2021-07-08T08:48:07.412Z"
   },
   {
    "duration": 261,
    "start_time": "2021-07-08T08:48:10.385Z"
   },
   {
    "duration": 255,
    "start_time": "2021-07-08T08:48:14.494Z"
   },
   {
    "duration": 219,
    "start_time": "2021-07-08T08:48:22.752Z"
   },
   {
    "duration": 173,
    "start_time": "2021-07-08T08:49:06.395Z"
   },
   {
    "duration": 180,
    "start_time": "2021-07-08T08:49:21.011Z"
   },
   {
    "duration": 6,
    "start_time": "2021-07-08T08:50:31.697Z"
   },
   {
    "duration": 10,
    "start_time": "2021-07-08T08:50:47.394Z"
   },
   {
    "duration": 11,
    "start_time": "2021-07-08T08:53:49.332Z"
   },
   {
    "duration": 171,
    "start_time": "2021-07-08T08:54:28.408Z"
   },
   {
    "duration": 636,
    "start_time": "2021-07-08T09:02:48.385Z"
   },
   {
    "duration": 227,
    "start_time": "2021-07-08T09:02:49.023Z"
   },
   {
    "duration": 104,
    "start_time": "2021-07-08T09:02:49.252Z"
   },
   {
    "duration": 5,
    "start_time": "2021-07-08T09:02:49.358Z"
   },
   {
    "duration": 27,
    "start_time": "2021-07-08T09:02:49.365Z"
   },
   {
    "duration": 8,
    "start_time": "2021-07-08T09:02:49.394Z"
   },
   {
    "duration": 18,
    "start_time": "2021-07-08T09:02:49.404Z"
   },
   {
    "duration": 6,
    "start_time": "2021-07-08T09:02:49.424Z"
   },
   {
    "duration": 11,
    "start_time": "2021-07-08T09:02:49.433Z"
   },
   {
    "duration": 13,
    "start_time": "2021-07-08T09:02:49.485Z"
   },
   {
    "duration": 9,
    "start_time": "2021-07-08T09:02:49.500Z"
   },
   {
    "duration": 38,
    "start_time": "2021-07-08T09:02:49.511Z"
   },
   {
    "duration": 42,
    "start_time": "2021-07-08T09:02:49.551Z"
   },
   {
    "duration": 21,
    "start_time": "2021-07-08T09:02:49.594Z"
   },
   {
    "duration": 6,
    "start_time": "2021-07-08T09:02:49.616Z"
   },
   {
    "duration": 3,
    "start_time": "2021-07-08T09:02:49.623Z"
   },
   {
    "duration": 9,
    "start_time": "2021-07-08T09:02:49.628Z"
   },
   {
    "duration": 52,
    "start_time": "2021-07-08T09:02:49.638Z"
   },
   {
    "duration": 11,
    "start_time": "2021-07-08T09:02:49.692Z"
   },
   {
    "duration": 8,
    "start_time": "2021-07-08T09:02:49.704Z"
   },
   {
    "duration": 27,
    "start_time": "2021-07-08T09:02:49.713Z"
   },
   {
    "duration": 59,
    "start_time": "2021-07-08T09:02:49.741Z"
   },
   {
    "duration": 8,
    "start_time": "2021-07-08T09:02:49.803Z"
   },
   {
    "duration": 14,
    "start_time": "2021-07-08T09:02:49.813Z"
   },
   {
    "duration": 20,
    "start_time": "2021-07-08T09:02:49.829Z"
   },
   {
    "duration": 44,
    "start_time": "2021-07-08T09:02:49.851Z"
   },
   {
    "duration": 14,
    "start_time": "2021-07-08T09:02:49.896Z"
   },
   {
    "duration": 221,
    "start_time": "2021-07-08T09:02:49.912Z"
   },
   {
    "duration": 6,
    "start_time": "2021-07-08T09:02:50.134Z"
   },
   {
    "duration": 206,
    "start_time": "2021-07-08T09:02:50.142Z"
   },
   {
    "duration": 19,
    "start_time": "2021-07-08T09:02:50.350Z"
   },
   {
    "duration": 21,
    "start_time": "2021-07-08T09:02:50.370Z"
   },
   {
    "duration": 20,
    "start_time": "2021-07-08T09:02:50.393Z"
   },
   {
    "duration": 5,
    "start_time": "2021-07-08T09:02:50.414Z"
   },
   {
    "duration": 5,
    "start_time": "2021-07-08T09:03:34.173Z"
   },
   {
    "duration": 6,
    "start_time": "2021-07-08T09:04:49.062Z"
   },
   {
    "duration": 9,
    "start_time": "2021-07-08T09:04:50.118Z"
   },
   {
    "duration": 14,
    "start_time": "2021-07-08T09:04:58.512Z"
   },
   {
    "duration": 9,
    "start_time": "2021-07-08T09:05:10.988Z"
   },
   {
    "duration": 11,
    "start_time": "2021-07-08T09:05:11.743Z"
   },
   {
    "duration": 7,
    "start_time": "2021-07-08T09:05:25.677Z"
   },
   {
    "duration": 13,
    "start_time": "2021-07-08T09:05:47.189Z"
   },
   {
    "duration": 13,
    "start_time": "2021-07-08T09:05:54.755Z"
   },
   {
    "duration": 4,
    "start_time": "2021-07-08T09:06:29.189Z"
   },
   {
    "duration": 244,
    "start_time": "2021-07-08T09:06:29.195Z"
   },
   {
    "duration": 91,
    "start_time": "2021-07-08T09:06:29.441Z"
   },
   {
    "duration": 4,
    "start_time": "2021-07-08T09:06:29.534Z"
   },
   {
    "duration": 28,
    "start_time": "2021-07-08T09:06:29.540Z"
   },
   {
    "duration": 6,
    "start_time": "2021-07-08T09:06:29.570Z"
   },
   {
    "duration": 18,
    "start_time": "2021-07-08T09:06:29.578Z"
   },
   {
    "duration": 5,
    "start_time": "2021-07-08T09:06:29.597Z"
   },
   {
    "duration": 13,
    "start_time": "2021-07-08T09:06:29.605Z"
   },
   {
    "duration": 8,
    "start_time": "2021-07-08T09:06:29.620Z"
   },
   {
    "duration": 7,
    "start_time": "2021-07-08T09:06:29.630Z"
   },
   {
    "duration": 63,
    "start_time": "2021-07-08T09:06:29.639Z"
   },
   {
    "duration": 17,
    "start_time": "2021-07-08T09:06:29.704Z"
   },
   {
    "duration": 20,
    "start_time": "2021-07-08T09:06:29.723Z"
   },
   {
    "duration": 6,
    "start_time": "2021-07-08T09:06:29.745Z"
   },
   {
    "duration": 3,
    "start_time": "2021-07-08T09:06:29.752Z"
   },
   {
    "duration": 7,
    "start_time": "2021-07-08T09:06:29.785Z"
   },
   {
    "duration": 11,
    "start_time": "2021-07-08T09:06:29.794Z"
   },
   {
    "duration": 15,
    "start_time": "2021-07-08T09:06:29.807Z"
   },
   {
    "duration": 8,
    "start_time": "2021-07-08T09:06:29.823Z"
   },
   {
    "duration": 70,
    "start_time": "2021-07-08T09:06:29.832Z"
   },
   {
    "duration": 17,
    "start_time": "2021-07-08T09:06:29.903Z"
   },
   {
    "duration": 9,
    "start_time": "2021-07-08T09:06:29.921Z"
   },
   {
    "duration": 9,
    "start_time": "2021-07-08T09:06:29.932Z"
   },
   {
    "duration": 57,
    "start_time": "2021-07-08T09:06:29.942Z"
   },
   {
    "duration": 11,
    "start_time": "2021-07-08T09:06:30.001Z"
   },
   {
    "duration": 19,
    "start_time": "2021-07-08T09:06:30.016Z"
   },
   {
    "duration": 217,
    "start_time": "2021-07-08T09:06:30.037Z"
   },
   {
    "duration": 6,
    "start_time": "2021-07-08T09:06:30.255Z"
   },
   {
    "duration": 205,
    "start_time": "2021-07-08T09:06:30.263Z"
   },
   {
    "duration": 27,
    "start_time": "2021-07-08T09:06:30.470Z"
   },
   {
    "duration": 11,
    "start_time": "2021-07-08T09:06:30.500Z"
   },
   {
    "duration": 31,
    "start_time": "2021-07-08T09:06:30.513Z"
   },
   {
    "duration": 18,
    "start_time": "2021-07-08T09:06:30.546Z"
   },
   {
    "duration": 11,
    "start_time": "2021-07-08T09:06:30.566Z"
   },
   {
    "duration": 19,
    "start_time": "2021-07-08T09:06:30.579Z"
   },
   {
    "duration": 20,
    "start_time": "2021-07-08T09:06:49.466Z"
   },
   {
    "duration": 9,
    "start_time": "2021-07-08T09:06:51.994Z"
   },
   {
    "duration": 20,
    "start_time": "2021-07-08T09:06:52.273Z"
   },
   {
    "duration": 246,
    "start_time": "2021-07-08T09:10:21.272Z"
   },
   {
    "duration": 84,
    "start_time": "2021-07-08T09:10:21.436Z"
   },
   {
    "duration": 7,
    "start_time": "2021-07-08T09:10:37.608Z"
   },
   {
    "duration": 189,
    "start_time": "2021-07-08T09:10:38.573Z"
   },
   {
    "duration": 185,
    "start_time": "2021-07-08T09:10:53.181Z"
   },
   {
    "duration": 11,
    "start_time": "2021-07-08T09:10:59.549Z"
   },
   {
    "duration": 42,
    "start_time": "2021-07-08T09:10:59.709Z"
   },
   {
    "duration": 12,
    "start_time": "2021-07-08T09:11:02.857Z"
   },
   {
    "duration": 28,
    "start_time": "2021-07-08T09:11:10.062Z"
   },
   {
    "duration": 249,
    "start_time": "2021-07-08T09:11:37.388Z"
   },
   {
    "duration": 232,
    "start_time": "2021-07-08T09:11:49.485Z"
   },
   {
    "duration": 453,
    "start_time": "2021-07-08T09:12:01.546Z"
   },
   {
    "duration": 440,
    "start_time": "2021-07-08T09:12:12.347Z"
   },
   {
    "duration": 213,
    "start_time": "2021-07-08T09:13:32.196Z"
   },
   {
    "duration": 172,
    "start_time": "2021-07-08T09:14:07.400Z"
   },
   {
    "duration": 185,
    "start_time": "2021-07-08T09:14:14.905Z"
   },
   {
    "duration": 209,
    "start_time": "2021-07-08T09:14:40.109Z"
   },
   {
    "duration": 201,
    "start_time": "2021-07-08T09:14:54.506Z"
   },
   {
    "duration": 622,
    "start_time": "2021-07-08T09:18:14.497Z"
   },
   {
    "duration": 220,
    "start_time": "2021-07-08T09:18:15.121Z"
   },
   {
    "duration": 79,
    "start_time": "2021-07-08T09:18:15.343Z"
   },
   {
    "duration": 4,
    "start_time": "2021-07-08T09:18:15.425Z"
   },
   {
    "duration": 24,
    "start_time": "2021-07-08T09:18:15.431Z"
   },
   {
    "duration": 8,
    "start_time": "2021-07-08T09:18:15.457Z"
   },
   {
    "duration": 16,
    "start_time": "2021-07-08T09:18:15.466Z"
   },
   {
    "duration": 5,
    "start_time": "2021-07-08T09:18:15.484Z"
   },
   {
    "duration": 10,
    "start_time": "2021-07-08T09:18:15.493Z"
   },
   {
    "duration": 8,
    "start_time": "2021-07-08T09:18:15.504Z"
   },
   {
    "duration": 7,
    "start_time": "2021-07-08T09:18:15.513Z"
   },
   {
    "duration": 26,
    "start_time": "2021-07-08T09:18:15.522Z"
   },
   {
    "duration": 49,
    "start_time": "2021-07-08T09:18:15.550Z"
   },
   {
    "duration": 21,
    "start_time": "2021-07-08T09:18:15.601Z"
   },
   {
    "duration": 8,
    "start_time": "2021-07-08T09:18:15.624Z"
   },
   {
    "duration": 3,
    "start_time": "2021-07-08T09:18:15.634Z"
   },
   {
    "duration": 8,
    "start_time": "2021-07-08T09:18:15.639Z"
   },
   {
    "duration": 45,
    "start_time": "2021-07-08T09:18:15.649Z"
   },
   {
    "duration": 13,
    "start_time": "2021-07-08T09:18:15.696Z"
   },
   {
    "duration": 10,
    "start_time": "2021-07-08T09:18:15.711Z"
   },
   {
    "duration": 64,
    "start_time": "2021-07-08T09:18:15.722Z"
   },
   {
    "duration": 19,
    "start_time": "2021-07-08T09:18:15.788Z"
   },
   {
    "duration": 9,
    "start_time": "2021-07-08T09:18:15.809Z"
   },
   {
    "duration": 9,
    "start_time": "2021-07-08T09:18:15.820Z"
   },
   {
    "duration": 18,
    "start_time": "2021-07-08T09:18:15.831Z"
   },
   {
    "duration": 43,
    "start_time": "2021-07-08T09:18:15.851Z"
   },
   {
    "duration": 12,
    "start_time": "2021-07-08T09:18:15.897Z"
   },
   {
    "duration": 219,
    "start_time": "2021-07-08T09:18:15.911Z"
   },
   {
    "duration": 8,
    "start_time": "2021-07-08T09:18:16.132Z"
   },
   {
    "duration": 199,
    "start_time": "2021-07-08T09:18:16.141Z"
   },
   {
    "duration": 18,
    "start_time": "2021-07-08T09:18:16.341Z"
   },
   {
    "duration": 24,
    "start_time": "2021-07-08T09:18:16.361Z"
   },
   {
    "duration": 24,
    "start_time": "2021-07-08T09:18:16.387Z"
   },
   {
    "duration": 211,
    "start_time": "2021-07-08T09:18:16.413Z"
   },
   {
    "duration": 18,
    "start_time": "2021-07-08T09:18:16.626Z"
   },
   {
    "duration": 596,
    "start_time": "2021-07-08T10:06:33.623Z"
   },
   {
    "duration": 181,
    "start_time": "2021-07-08T10:06:34.221Z"
   },
   {
    "duration": 176,
    "start_time": "2021-07-08T10:06:34.635Z"
   },
   {
    "duration": 239,
    "start_time": "2021-07-08T10:06:55.572Z"
   },
   {
    "duration": 6,
    "start_time": "2021-07-08T10:06:57.687Z"
   },
   {
    "duration": 4,
    "start_time": "2021-07-08T10:07:03.956Z"
   },
   {
    "duration": 4,
    "start_time": "2021-07-08T10:07:10.376Z"
   },
   {
    "duration": 4,
    "start_time": "2021-07-08T10:17:19.889Z"
   },
   {
    "duration": 3,
    "start_time": "2021-07-08T10:19:19.407Z"
   },
   {
    "duration": 197,
    "start_time": "2021-07-08T10:19:19.412Z"
   },
   {
    "duration": 127,
    "start_time": "2021-07-08T10:19:19.611Z"
   },
   {
    "duration": 4,
    "start_time": "2021-07-08T10:19:19.740Z"
   },
   {
    "duration": 27,
    "start_time": "2021-07-08T10:19:19.746Z"
   },
   {
    "duration": 7,
    "start_time": "2021-07-08T10:19:19.775Z"
   },
   {
    "duration": 30,
    "start_time": "2021-07-08T10:19:19.784Z"
   },
   {
    "duration": 7,
    "start_time": "2021-07-08T10:19:19.817Z"
   },
   {
    "duration": 26,
    "start_time": "2021-07-08T10:19:19.826Z"
   },
   {
    "duration": 18,
    "start_time": "2021-07-08T10:19:19.854Z"
   },
   {
    "duration": 14,
    "start_time": "2021-07-08T10:19:19.874Z"
   },
   {
    "duration": 48,
    "start_time": "2021-07-08T10:19:19.890Z"
   },
   {
    "duration": 17,
    "start_time": "2021-07-08T10:19:19.940Z"
   },
   {
    "duration": 38,
    "start_time": "2021-07-08T10:19:19.959Z"
   },
   {
    "duration": 8,
    "start_time": "2021-07-08T10:19:19.999Z"
   },
   {
    "duration": 15,
    "start_time": "2021-07-08T10:19:20.009Z"
   },
   {
    "duration": 22,
    "start_time": "2021-07-08T10:19:20.026Z"
   },
   {
    "duration": 10,
    "start_time": "2021-07-08T10:19:20.050Z"
   },
   {
    "duration": 10,
    "start_time": "2021-07-08T10:19:20.062Z"
   },
   {
    "duration": 20,
    "start_time": "2021-07-08T10:19:20.073Z"
   },
   {
    "duration": 29,
    "start_time": "2021-07-08T10:19:20.095Z"
   },
   {
    "duration": 17,
    "start_time": "2021-07-08T10:19:20.126Z"
   },
   {
    "duration": 40,
    "start_time": "2021-07-08T10:19:20.146Z"
   },
   {
    "duration": 15,
    "start_time": "2021-07-08T10:19:20.189Z"
   },
   {
    "duration": 19,
    "start_time": "2021-07-08T10:19:20.206Z"
   },
   {
    "duration": 10,
    "start_time": "2021-07-08T10:19:20.226Z"
   },
   {
    "duration": 11,
    "start_time": "2021-07-08T10:19:20.238Z"
   },
   {
    "duration": 297,
    "start_time": "2021-07-08T10:19:20.250Z"
   },
   {
    "duration": 6,
    "start_time": "2021-07-08T10:19:20.549Z"
   },
   {
    "duration": 191,
    "start_time": "2021-07-08T10:19:20.557Z"
   },
   {
    "duration": 19,
    "start_time": "2021-07-08T10:19:20.750Z"
   },
   {
    "duration": 20,
    "start_time": "2021-07-08T10:19:20.771Z"
   },
   {
    "duration": 15,
    "start_time": "2021-07-08T10:19:20.793Z"
   },
   {
    "duration": 222,
    "start_time": "2021-07-08T10:19:20.809Z"
   },
   {
    "duration": 20,
    "start_time": "2021-07-08T10:19:21.033Z"
   },
   {
    "duration": 27,
    "start_time": "2021-07-08T10:45:04.055Z"
   },
   {
    "duration": 8,
    "start_time": "2021-07-08T10:45:08.478Z"
   },
   {
    "duration": 8,
    "start_time": "2021-07-08T10:45:31.982Z"
   },
   {
    "duration": 10,
    "start_time": "2021-07-08T10:46:01.221Z"
   },
   {
    "duration": 17,
    "start_time": "2021-07-08T10:46:40.011Z"
   },
   {
    "duration": 193,
    "start_time": "2021-07-08T10:48:19.471Z"
   },
   {
    "duration": 225,
    "start_time": "2021-07-08T10:49:26.480Z"
   },
   {
    "duration": 204,
    "start_time": "2021-07-08T10:49:59.992Z"
   },
   {
    "duration": 435,
    "start_time": "2021-07-08T10:50:06.779Z"
   },
   {
    "duration": 199,
    "start_time": "2021-07-08T10:50:14.891Z"
   },
   {
    "duration": 204,
    "start_time": "2021-07-08T10:50:18.501Z"
   },
   {
    "duration": 244,
    "start_time": "2021-07-08T10:50:23.359Z"
   },
   {
    "duration": 192,
    "start_time": "2021-07-08T10:50:29.135Z"
   },
   {
    "duration": 218,
    "start_time": "2021-07-08T10:50:33.092Z"
   },
   {
    "duration": 207,
    "start_time": "2021-07-08T10:52:45.381Z"
   },
   {
    "duration": 5,
    "start_time": "2021-07-08T10:53:34.641Z"
   },
   {
    "duration": 196,
    "start_time": "2021-07-08T10:53:41.478Z"
   },
   {
    "duration": 43,
    "start_time": "2021-07-08T10:53:50.335Z"
   },
   {
    "duration": 32,
    "start_time": "2021-07-08T10:53:55.294Z"
   },
   {
    "duration": 55,
    "start_time": "2021-07-08T10:54:09.675Z"
   },
   {
    "duration": 16,
    "start_time": "2021-07-08T10:54:12.260Z"
   },
   {
    "duration": 15,
    "start_time": "2021-07-08T10:54:49.150Z"
   },
   {
    "duration": 20,
    "start_time": "2021-07-08T10:56:07.596Z"
   },
   {
    "duration": 16,
    "start_time": "2021-07-08T10:58:26.276Z"
   },
   {
    "duration": 22,
    "start_time": "2021-07-08T10:59:00.486Z"
   },
   {
    "duration": 18,
    "start_time": "2021-07-08T11:02:09.653Z"
   },
   {
    "duration": 10,
    "start_time": "2021-07-08T11:03:44.331Z"
   },
   {
    "duration": 10,
    "start_time": "2021-07-08T11:03:54.055Z"
   },
   {
    "duration": 12,
    "start_time": "2021-07-08T11:04:41.967Z"
   },
   {
    "duration": 24,
    "start_time": "2021-07-08T11:07:30.732Z"
   },
   {
    "duration": 6,
    "start_time": "2021-07-08T11:07:37.364Z"
   },
   {
    "duration": 16,
    "start_time": "2021-07-08T11:08:01.819Z"
   },
   {
    "duration": 17,
    "start_time": "2021-07-08T11:09:47.488Z"
   },
   {
    "duration": 246,
    "start_time": "2021-07-08T11:10:00.830Z"
   },
   {
    "duration": 18,
    "start_time": "2021-07-08T11:13:55.195Z"
   },
   {
    "duration": 204,
    "start_time": "2021-07-08T11:14:04.951Z"
   },
   {
    "duration": 19,
    "start_time": "2021-07-08T11:15:10.613Z"
   },
   {
    "duration": 680,
    "start_time": "2021-07-08T11:16:25.793Z"
   },
   {
    "duration": 451,
    "start_time": "2021-07-08T11:16:40.313Z"
   },
   {
    "duration": 469,
    "start_time": "2021-07-08T11:17:21.286Z"
   },
   {
    "duration": 20,
    "start_time": "2021-07-08T11:19:12.554Z"
   },
   {
    "duration": 35,
    "start_time": "2021-07-08T11:20:05.484Z"
   },
   {
    "duration": 53,
    "start_time": "2021-07-08T11:21:40.050Z"
   },
   {
    "duration": 13,
    "start_time": "2021-07-08T11:22:26.059Z"
   },
   {
    "duration": 19,
    "start_time": "2021-07-08T11:22:47.419Z"
   },
   {
    "duration": 25,
    "start_time": "2021-07-08T11:23:19.958Z"
   },
   {
    "duration": 29,
    "start_time": "2021-07-08T11:23:25.415Z"
   },
   {
    "duration": 10,
    "start_time": "2021-07-08T11:24:45.138Z"
   },
   {
    "duration": 19,
    "start_time": "2021-07-08T11:24:54.498Z"
   },
   {
    "duration": 12,
    "start_time": "2021-07-08T11:25:32.225Z"
   },
   {
    "duration": 19,
    "start_time": "2021-07-08T11:25:37.092Z"
   },
   {
    "duration": 17,
    "start_time": "2021-07-08T11:25:58.116Z"
   },
   {
    "duration": 15,
    "start_time": "2021-07-08T11:26:02.258Z"
   },
   {
    "duration": 8,
    "start_time": "2021-07-08T11:26:59.682Z"
   },
   {
    "duration": 184,
    "start_time": "2021-07-08T11:27:21.894Z"
   },
   {
    "duration": 8,
    "start_time": "2021-07-08T11:27:23.824Z"
   },
   {
    "duration": 202,
    "start_time": "2021-07-08T11:27:23.962Z"
   },
   {
    "duration": 360,
    "start_time": "2021-07-08T11:28:33.215Z"
   },
   {
    "duration": 231,
    "start_time": "2021-07-08T11:32:05.542Z"
   },
   {
    "duration": 607,
    "start_time": "2021-07-08T11:36:27.854Z"
   },
   {
    "duration": 241,
    "start_time": "2021-07-08T11:36:28.463Z"
   },
   {
    "duration": 67,
    "start_time": "2021-07-08T11:36:28.709Z"
   },
   {
    "duration": 5,
    "start_time": "2021-07-08T11:36:28.778Z"
   },
   {
    "duration": 32,
    "start_time": "2021-07-08T11:36:28.784Z"
   },
   {
    "duration": 11,
    "start_time": "2021-07-08T11:36:28.819Z"
   },
   {
    "duration": 20,
    "start_time": "2021-07-08T11:36:28.834Z"
   },
   {
    "duration": 36,
    "start_time": "2021-07-08T11:36:28.857Z"
   },
   {
    "duration": 16,
    "start_time": "2021-07-08T11:36:28.895Z"
   },
   {
    "duration": 14,
    "start_time": "2021-07-08T11:36:28.913Z"
   },
   {
    "duration": 9,
    "start_time": "2021-07-08T11:36:28.930Z"
   },
   {
    "duration": 55,
    "start_time": "2021-07-08T11:36:28.941Z"
   },
   {
    "duration": 27,
    "start_time": "2021-07-08T11:36:28.999Z"
   },
   {
    "duration": 30,
    "start_time": "2021-07-08T11:36:29.028Z"
   },
   {
    "duration": 31,
    "start_time": "2021-07-08T11:36:29.060Z"
   },
   {
    "duration": 3,
    "start_time": "2021-07-08T11:36:29.093Z"
   },
   {
    "duration": 12,
    "start_time": "2021-07-08T11:36:29.099Z"
   },
   {
    "duration": 11,
    "start_time": "2021-07-08T11:36:29.112Z"
   },
   {
    "duration": 12,
    "start_time": "2021-07-08T11:36:29.125Z"
   },
   {
    "duration": 9,
    "start_time": "2021-07-08T11:36:29.139Z"
   },
   {
    "duration": 31,
    "start_time": "2021-07-08T11:36:29.191Z"
   },
   {
    "duration": 17,
    "start_time": "2021-07-08T11:36:29.226Z"
   },
   {
    "duration": 7,
    "start_time": "2021-07-08T11:36:29.245Z"
   },
   {
    "duration": 10,
    "start_time": "2021-07-08T11:36:29.254Z"
   },
   {
    "duration": 30,
    "start_time": "2021-07-08T11:36:29.292Z"
   },
   {
    "duration": 11,
    "start_time": "2021-07-08T11:36:29.324Z"
   },
   {
    "duration": 11,
    "start_time": "2021-07-08T11:36:29.337Z"
   },
   {
    "duration": 230,
    "start_time": "2021-07-08T11:36:29.349Z"
   },
   {
    "duration": 13,
    "start_time": "2021-07-08T11:36:29.588Z"
   },
   {
    "duration": 205,
    "start_time": "2021-07-08T11:36:29.603Z"
   },
   {
    "duration": 20,
    "start_time": "2021-07-08T11:36:29.810Z"
   },
   {
    "duration": 9,
    "start_time": "2021-07-08T11:36:29.832Z"
   },
   {
    "duration": 16,
    "start_time": "2021-07-08T11:36:29.843Z"
   },
   {
    "duration": 283,
    "start_time": "2021-07-08T11:36:29.861Z"
   },
   {
    "duration": 50,
    "start_time": "2021-07-08T11:36:30.146Z"
   },
   {
    "duration": 14,
    "start_time": "2021-07-08T11:36:30.198Z"
   },
   {
    "duration": 11,
    "start_time": "2021-07-08T11:36:30.214Z"
   },
   {
    "duration": 245,
    "start_time": "2021-07-08T11:36:30.227Z"
   },
   {
    "duration": 439,
    "start_time": "2021-07-08T11:36:30.474Z"
   },
   {
    "duration": 210,
    "start_time": "2021-07-08T11:36:30.915Z"
   },
   {
    "duration": 15,
    "start_time": "2021-07-08T11:36:31.127Z"
   },
   {
    "duration": 17,
    "start_time": "2021-07-08T11:38:20.451Z"
   },
   {
    "duration": 642,
    "start_time": "2021-07-08T11:46:17.881Z"
   },
   {
    "duration": 210,
    "start_time": "2021-07-08T11:46:18.525Z"
   },
   {
    "duration": 104,
    "start_time": "2021-07-08T11:46:18.741Z"
   },
   {
    "duration": 8,
    "start_time": "2021-07-08T11:46:18.847Z"
   },
   {
    "duration": 25,
    "start_time": "2021-07-08T11:46:18.857Z"
   },
   {
    "duration": 14,
    "start_time": "2021-07-08T11:46:18.884Z"
   },
   {
    "duration": 22,
    "start_time": "2021-07-08T11:46:18.900Z"
   },
   {
    "duration": 5,
    "start_time": "2021-07-08T11:46:18.924Z"
   },
   {
    "duration": 13,
    "start_time": "2021-07-08T11:46:18.931Z"
   },
   {
    "duration": 45,
    "start_time": "2021-07-08T11:46:18.946Z"
   },
   {
    "duration": 12,
    "start_time": "2021-07-08T11:46:18.993Z"
   },
   {
    "duration": 38,
    "start_time": "2021-07-08T11:46:19.006Z"
   },
   {
    "duration": 50,
    "start_time": "2021-07-08T11:46:19.046Z"
   },
   {
    "duration": 29,
    "start_time": "2021-07-08T11:46:19.099Z"
   },
   {
    "duration": 7,
    "start_time": "2021-07-08T11:46:19.130Z"
   },
   {
    "duration": 3,
    "start_time": "2021-07-08T11:46:19.139Z"
   },
   {
    "duration": 11,
    "start_time": "2021-07-08T11:46:19.144Z"
   },
   {
    "duration": 40,
    "start_time": "2021-07-08T11:46:19.157Z"
   },
   {
    "duration": 15,
    "start_time": "2021-07-08T11:46:19.199Z"
   },
   {
    "duration": 10,
    "start_time": "2021-07-08T11:46:19.217Z"
   },
   {
    "duration": 68,
    "start_time": "2021-07-08T11:46:19.230Z"
   },
   {
    "duration": 17,
    "start_time": "2021-07-08T11:46:19.301Z"
   },
   {
    "duration": 7,
    "start_time": "2021-07-08T11:46:19.321Z"
   },
   {
    "duration": 11,
    "start_time": "2021-07-08T11:46:19.330Z"
   },
   {
    "duration": 59,
    "start_time": "2021-07-08T11:46:19.343Z"
   },
   {
    "duration": 17,
    "start_time": "2021-07-08T11:46:19.405Z"
   },
   {
    "duration": 16,
    "start_time": "2021-07-08T11:46:19.424Z"
   },
   {
    "duration": 252,
    "start_time": "2021-07-08T11:46:19.443Z"
   },
   {
    "duration": 9,
    "start_time": "2021-07-08T11:46:19.697Z"
   },
   {
    "duration": 224,
    "start_time": "2021-07-08T11:46:19.708Z"
   },
   {
    "duration": 21,
    "start_time": "2021-07-08T11:46:19.934Z"
   },
   {
    "duration": 9,
    "start_time": "2021-07-08T11:46:19.956Z"
   },
   {
    "duration": 32,
    "start_time": "2021-07-08T11:46:19.967Z"
   },
   {
    "duration": 288,
    "start_time": "2021-07-08T11:46:20.004Z"
   },
   {
    "duration": 23,
    "start_time": "2021-07-08T11:46:20.300Z"
   },
   {
    "duration": 11,
    "start_time": "2021-07-08T11:46:20.325Z"
   },
   {
    "duration": 11,
    "start_time": "2021-07-08T11:46:20.339Z"
   },
   {
    "duration": 259,
    "start_time": "2021-07-08T11:46:20.352Z"
   },
   {
    "duration": 438,
    "start_time": "2021-07-08T11:46:20.613Z"
   },
   {
    "duration": 207,
    "start_time": "2021-07-08T11:46:21.054Z"
   },
   {
    "duration": 27,
    "start_time": "2021-07-08T11:46:21.262Z"
   },
   {
    "duration": 19,
    "start_time": "2021-07-08T11:46:21.291Z"
   },
   {
    "duration": 820,
    "start_time": "2021-07-08T11:49:01.655Z"
   },
   {
    "duration": 372,
    "start_time": "2021-07-08T11:49:02.478Z"
   },
   {
    "duration": 98,
    "start_time": "2021-07-08T11:49:02.853Z"
   },
   {
    "duration": 6,
    "start_time": "2021-07-08T11:49:02.953Z"
   },
   {
    "duration": 39,
    "start_time": "2021-07-08T11:49:02.960Z"
   },
   {
    "duration": 9,
    "start_time": "2021-07-08T11:49:03.003Z"
   },
   {
    "duration": 23,
    "start_time": "2021-07-08T11:49:03.014Z"
   },
   {
    "duration": 6,
    "start_time": "2021-07-08T11:49:03.041Z"
   },
   {
    "duration": 20,
    "start_time": "2021-07-08T11:49:03.049Z"
   },
   {
    "duration": 18,
    "start_time": "2021-07-08T11:49:03.084Z"
   },
   {
    "duration": 14,
    "start_time": "2021-07-08T11:49:03.104Z"
   },
   {
    "duration": 39,
    "start_time": "2021-07-08T11:49:03.119Z"
   },
   {
    "duration": 38,
    "start_time": "2021-07-08T11:49:03.160Z"
   },
   {
    "duration": 26,
    "start_time": "2021-07-08T11:49:03.200Z"
   },
   {
    "duration": 7,
    "start_time": "2021-07-08T11:49:03.227Z"
   },
   {
    "duration": 4,
    "start_time": "2021-07-08T11:49:03.236Z"
   },
   {
    "duration": 15,
    "start_time": "2021-07-08T11:49:03.243Z"
   },
   {
    "duration": 21,
    "start_time": "2021-07-08T11:49:03.285Z"
   },
   {
    "duration": 17,
    "start_time": "2021-07-08T11:49:03.309Z"
   },
   {
    "duration": 10,
    "start_time": "2021-07-08T11:49:03.328Z"
   },
   {
    "duration": 65,
    "start_time": "2021-07-08T11:49:03.340Z"
   },
   {
    "duration": 18,
    "start_time": "2021-07-08T11:49:03.407Z"
   },
   {
    "duration": 8,
    "start_time": "2021-07-08T11:49:03.428Z"
   },
   {
    "duration": 15,
    "start_time": "2021-07-08T11:49:03.438Z"
   },
   {
    "duration": 40,
    "start_time": "2021-07-08T11:49:03.455Z"
   },
   {
    "duration": 12,
    "start_time": "2021-07-08T11:49:03.497Z"
   },
   {
    "duration": 29,
    "start_time": "2021-07-08T11:49:03.511Z"
   },
   {
    "duration": 285,
    "start_time": "2021-07-08T11:49:03.542Z"
   },
   {
    "duration": 8,
    "start_time": "2021-07-08T11:49:03.829Z"
   },
   {
    "duration": 227,
    "start_time": "2021-07-08T11:49:03.838Z"
   },
   {
    "duration": 40,
    "start_time": "2021-07-08T11:49:04.066Z"
   },
   {
    "duration": 10,
    "start_time": "2021-07-08T11:49:04.108Z"
   },
   {
    "duration": 26,
    "start_time": "2021-07-08T11:49:04.121Z"
   },
   {
    "duration": 290,
    "start_time": "2021-07-08T11:49:04.149Z"
   },
   {
    "duration": 26,
    "start_time": "2021-07-08T11:49:04.441Z"
   },
   {
    "duration": 31,
    "start_time": "2021-07-08T11:49:04.470Z"
   },
   {
    "duration": 14,
    "start_time": "2021-07-08T11:49:04.503Z"
   },
   {
    "duration": 259,
    "start_time": "2021-07-08T11:49:04.521Z"
   },
   {
    "duration": 480,
    "start_time": "2021-07-08T11:49:04.782Z"
   },
   {
    "duration": 225,
    "start_time": "2021-07-08T11:49:05.264Z"
   },
   {
    "duration": 22,
    "start_time": "2021-07-08T11:49:05.491Z"
   },
   {
    "duration": 24,
    "start_time": "2021-07-08T11:49:05.515Z"
   },
   {
    "duration": 634,
    "start_time": "2021-07-08T11:52:24.960Z"
   },
   {
    "duration": 199,
    "start_time": "2021-07-08T11:52:25.599Z"
   },
   {
    "duration": 106,
    "start_time": "2021-07-08T11:52:25.803Z"
   },
   {
    "duration": 7,
    "start_time": "2021-07-08T11:52:25.911Z"
   },
   {
    "duration": 29,
    "start_time": "2021-07-08T11:52:25.920Z"
   },
   {
    "duration": 7,
    "start_time": "2021-07-08T11:52:25.951Z"
   },
   {
    "duration": 26,
    "start_time": "2021-07-08T11:52:25.961Z"
   },
   {
    "duration": 11,
    "start_time": "2021-07-08T11:52:25.990Z"
   },
   {
    "duration": 29,
    "start_time": "2021-07-08T11:52:26.005Z"
   },
   {
    "duration": 9,
    "start_time": "2021-07-08T11:52:26.036Z"
   },
   {
    "duration": 8,
    "start_time": "2021-07-08T11:52:26.047Z"
   },
   {
    "duration": 63,
    "start_time": "2021-07-08T11:52:26.057Z"
   },
   {
    "duration": 17,
    "start_time": "2021-07-08T11:52:26.122Z"
   },
   {
    "duration": 43,
    "start_time": "2021-07-08T11:52:26.142Z"
   },
   {
    "duration": 17,
    "start_time": "2021-07-08T11:52:26.187Z"
   },
   {
    "duration": 5,
    "start_time": "2021-07-08T11:52:26.206Z"
   },
   {
    "duration": 12,
    "start_time": "2021-07-08T11:52:26.212Z"
   },
   {
    "duration": 11,
    "start_time": "2021-07-08T11:52:26.226Z"
   },
   {
    "duration": 12,
    "start_time": "2021-07-08T11:52:26.238Z"
   },
   {
    "duration": 38,
    "start_time": "2021-07-08T11:52:26.252Z"
   },
   {
    "duration": 40,
    "start_time": "2021-07-08T11:52:26.292Z"
   },
   {
    "duration": 17,
    "start_time": "2021-07-08T11:52:26.336Z"
   },
   {
    "duration": 39,
    "start_time": "2021-07-08T11:52:26.355Z"
   },
   {
    "duration": 11,
    "start_time": "2021-07-08T11:52:26.395Z"
   },
   {
    "duration": 23,
    "start_time": "2021-07-08T11:52:26.408Z"
   },
   {
    "duration": 12,
    "start_time": "2021-07-08T11:52:26.432Z"
   },
   {
    "duration": 41,
    "start_time": "2021-07-08T11:52:26.446Z"
   },
   {
    "duration": 215,
    "start_time": "2021-07-08T11:52:26.493Z"
   },
   {
    "duration": 8,
    "start_time": "2021-07-08T11:52:26.710Z"
   },
   {
    "duration": 228,
    "start_time": "2021-07-08T11:52:26.720Z"
   },
   {
    "duration": 18,
    "start_time": "2021-07-08T11:52:26.950Z"
   },
   {
    "duration": 35,
    "start_time": "2021-07-08T11:52:26.969Z"
   },
   {
    "duration": 23,
    "start_time": "2021-07-08T11:52:27.006Z"
   },
   {
    "duration": 258,
    "start_time": "2021-07-08T11:52:27.030Z"
   },
   {
    "duration": 24,
    "start_time": "2021-07-08T11:52:27.290Z"
   },
   {
    "duration": 12,
    "start_time": "2021-07-08T11:52:27.316Z"
   },
   {
    "duration": 10,
    "start_time": "2021-07-08T11:52:27.329Z"
   },
   {
    "duration": 298,
    "start_time": "2021-07-08T11:52:27.341Z"
   },
   {
    "duration": 436,
    "start_time": "2021-07-08T11:52:27.641Z"
   },
   {
    "duration": 216,
    "start_time": "2021-07-08T11:52:28.079Z"
   },
   {
    "duration": 20,
    "start_time": "2021-07-08T11:52:28.297Z"
   },
   {
    "duration": 17,
    "start_time": "2021-07-08T11:52:28.319Z"
   },
   {
    "duration": 673,
    "start_time": "2022-01-20T16:43:26.596Z"
   },
   {
    "duration": 3,
    "start_time": "2022-01-20T16:43:27.967Z"
   },
   {
    "duration": 75,
    "start_time": "2022-01-20T16:43:28.838Z"
   },
   {
    "duration": 500,
    "start_time": "2022-01-20T16:43:29.462Z"
   },
   {
    "duration": 83,
    "start_time": "2022-01-20T16:43:30.542Z"
   },
   {
    "duration": 76,
    "start_time": "2022-01-20T16:44:01.049Z"
   },
   {
    "duration": 65,
    "start_time": "2022-01-20T16:45:09.031Z"
   },
   {
    "duration": 78,
    "start_time": "2022-01-20T16:47:59.325Z"
   },
   {
    "duration": 570,
    "start_time": "2022-01-20T16:48:29.960Z"
   },
   {
    "duration": 3,
    "start_time": "2022-01-20T16:48:30.532Z"
   },
   {
    "duration": 100,
    "start_time": "2022-01-20T16:48:30.540Z"
   },
   {
    "duration": 530,
    "start_time": "2022-01-20T16:48:30.642Z"
   },
   {
    "duration": 77,
    "start_time": "2022-01-20T16:48:31.174Z"
   },
   {
    "duration": 22,
    "start_time": "2022-01-20T16:48:31.253Z"
   },
   {
    "duration": 54,
    "start_time": "2022-01-20T16:48:31.277Z"
   },
   {
    "duration": 12,
    "start_time": "2022-01-20T16:49:00.705Z"
   },
   {
    "duration": 11,
    "start_time": "2022-01-20T16:49:15.508Z"
   },
   {
    "duration": 6,
    "start_time": "2022-01-20T16:49:21.011Z"
   },
   {
    "duration": 20,
    "start_time": "2022-01-20T16:51:32.787Z"
   },
   {
    "duration": 21,
    "start_time": "2022-01-20T16:52:40.301Z"
   },
   {
    "duration": 10,
    "start_time": "2022-01-20T16:57:38.346Z"
   },
   {
    "duration": 23,
    "start_time": "2022-01-20T17:04:30.671Z"
   },
   {
    "duration": 22,
    "start_time": "2022-01-20T17:05:38.785Z"
   },
   {
    "duration": 32,
    "start_time": "2022-01-20T17:05:46.992Z"
   },
   {
    "duration": 23,
    "start_time": "2022-01-20T17:09:08.594Z"
   },
   {
    "duration": 10,
    "start_time": "2022-01-20T17:10:17.552Z"
   },
   {
    "duration": 11,
    "start_time": "2022-01-20T17:11:40.406Z"
   },
   {
    "duration": 12,
    "start_time": "2022-01-20T17:12:27.159Z"
   },
   {
    "duration": 12,
    "start_time": "2022-01-20T17:16:48.822Z"
   },
   {
    "duration": 8,
    "start_time": "2022-01-20T17:17:56.733Z"
   },
   {
    "duration": 9,
    "start_time": "2022-01-20T17:18:13.864Z"
   },
   {
    "duration": 60,
    "start_time": "2022-01-20T17:22:11.607Z"
   },
   {
    "duration": 53,
    "start_time": "2022-01-20T17:23:11.926Z"
   },
   {
    "duration": 51,
    "start_time": "2022-01-20T17:23:23.189Z"
   },
   {
    "duration": 40,
    "start_time": "2022-01-20T17:25:38.822Z"
   },
   {
    "duration": 446,
    "start_time": "2022-01-20T17:28:10.836Z"
   },
   {
    "duration": 366,
    "start_time": "2022-01-20T17:32:41.011Z"
   },
   {
    "duration": 98,
    "start_time": "2022-01-20T17:33:05.180Z"
   },
   {
    "duration": 10,
    "start_time": "2022-01-20T17:33:33.098Z"
   },
   {
    "duration": 6,
    "start_time": "2022-01-20T17:33:33.930Z"
   },
   {
    "duration": 16,
    "start_time": "2022-01-20T17:35:49.834Z"
   },
   {
    "duration": 629,
    "start_time": "2022-01-20T17:36:31.970Z"
   },
   {
    "duration": 4515,
    "start_time": "2022-01-20T17:36:42.906Z"
   },
   {
    "duration": 5,
    "start_time": "2022-01-20T17:37:45.226Z"
   },
   {
    "duration": 5,
    "start_time": "2022-01-20T17:37:56.353Z"
   },
   {
    "duration": 13,
    "start_time": "2022-01-20T17:39:01.986Z"
   },
   {
    "duration": 8,
    "start_time": "2022-01-20T17:41:10.002Z"
   },
   {
    "duration": 11,
    "start_time": "2022-01-20T17:41:32.841Z"
   },
   {
    "duration": 4,
    "start_time": "2022-01-20T17:42:46.880Z"
   },
   {
    "duration": 10,
    "start_time": "2022-01-20T17:42:47.888Z"
   },
   {
    "duration": 17,
    "start_time": "2022-01-20T17:47:53.665Z"
   },
   {
    "duration": 607,
    "start_time": "2022-01-20T17:48:21.509Z"
   },
   {
    "duration": 3,
    "start_time": "2022-01-20T17:48:22.118Z"
   },
   {
    "duration": 102,
    "start_time": "2022-01-20T17:48:22.124Z"
   },
   {
    "duration": 589,
    "start_time": "2022-01-20T17:48:22.228Z"
   },
   {
    "duration": 125,
    "start_time": "2022-01-20T17:48:22.819Z"
   },
   {
    "duration": 13,
    "start_time": "2022-01-20T17:48:22.946Z"
   },
   {
    "duration": 16,
    "start_time": "2022-01-20T17:48:22.961Z"
   },
   {
    "duration": 16,
    "start_time": "2022-01-20T17:48:22.980Z"
   },
   {
    "duration": 27,
    "start_time": "2022-01-20T17:48:22.998Z"
   },
   {
    "duration": 12,
    "start_time": "2022-01-20T17:48:23.027Z"
   },
   {
    "duration": 39,
    "start_time": "2022-01-20T17:48:23.041Z"
   },
   {
    "duration": 403,
    "start_time": "2022-01-20T17:48:23.082Z"
   },
   {
    "duration": 49,
    "start_time": "2022-01-20T17:48:23.438Z"
   },
   {
    "duration": 45,
    "start_time": "2022-01-20T17:48:23.443Z"
   },
   {
    "duration": 44,
    "start_time": "2022-01-20T17:48:23.445Z"
   },
   {
    "duration": 1875,
    "start_time": "2022-01-20T17:48:45.848Z"
   },
   {
    "duration": 281,
    "start_time": "2022-01-20T17:49:26.719Z"
   },
   {
    "duration": 305,
    "start_time": "2022-01-20T17:49:30.352Z"
   },
   {
    "duration": 290,
    "start_time": "2022-01-20T17:49:37.289Z"
   },
   {
    "duration": 283,
    "start_time": "2022-01-20T17:49:54.649Z"
   },
   {
    "duration": 15,
    "start_time": "2022-01-20T17:50:10.776Z"
   },
   {
    "duration": 18,
    "start_time": "2022-01-20T17:50:15.559Z"
   },
   {
    "duration": 8,
    "start_time": "2022-01-20T17:50:58.071Z"
   },
   {
    "duration": 16,
    "start_time": "2022-01-20T17:51:14.119Z"
   },
   {
    "duration": 17,
    "start_time": "2022-01-20T17:52:23.336Z"
   },
   {
    "duration": 616,
    "start_time": "2022-01-20T17:52:34.998Z"
   },
   {
    "duration": 2,
    "start_time": "2022-01-20T17:52:35.616Z"
   },
   {
    "duration": 85,
    "start_time": "2022-01-20T17:52:35.621Z"
   },
   {
    "duration": 443,
    "start_time": "2022-01-20T17:52:35.707Z"
   },
   {
    "duration": 103,
    "start_time": "2022-01-20T17:52:36.152Z"
   },
   {
    "duration": 11,
    "start_time": "2022-01-20T17:52:36.257Z"
   },
   {
    "duration": 23,
    "start_time": "2022-01-20T17:52:36.270Z"
   },
   {
    "duration": 9,
    "start_time": "2022-01-20T17:52:36.295Z"
   },
   {
    "duration": 30,
    "start_time": "2022-01-20T17:52:36.306Z"
   },
   {
    "duration": 7,
    "start_time": "2022-01-20T17:52:36.338Z"
   },
   {
    "duration": 35,
    "start_time": "2022-01-20T17:52:36.346Z"
   },
   {
    "duration": 30,
    "start_time": "2022-01-20T17:52:36.382Z"
   },
   {
    "duration": 8,
    "start_time": "2022-01-20T17:52:36.414Z"
   },
   {
    "duration": 32,
    "start_time": "2022-01-20T17:52:36.424Z"
   },
   {
    "duration": 12,
    "start_time": "2022-01-20T17:52:36.458Z"
   },
   {
    "duration": 97,
    "start_time": "2022-01-20T17:56:42.084Z"
   },
   {
    "duration": 355,
    "start_time": "2022-01-20T17:56:55.875Z"
   },
   {
    "duration": 608,
    "start_time": "2022-01-20T17:57:44.916Z"
   },
   {
    "duration": 3,
    "start_time": "2022-01-20T17:57:45.526Z"
   },
   {
    "duration": 89,
    "start_time": "2022-01-20T17:57:45.533Z"
   },
   {
    "duration": 448,
    "start_time": "2022-01-20T17:57:45.624Z"
   },
   {
    "duration": 97,
    "start_time": "2022-01-20T17:57:46.074Z"
   },
   {
    "duration": 12,
    "start_time": "2022-01-20T17:57:46.173Z"
   },
   {
    "duration": 10,
    "start_time": "2022-01-20T17:57:46.188Z"
   },
   {
    "duration": 5,
    "start_time": "2022-01-20T17:57:46.200Z"
   },
   {
    "duration": 12,
    "start_time": "2022-01-20T17:57:46.206Z"
   },
   {
    "duration": 87,
    "start_time": "2022-01-20T17:57:46.220Z"
   },
   {
    "duration": 59,
    "start_time": "2022-01-20T17:57:46.250Z"
   },
   {
    "duration": 57,
    "start_time": "2022-01-20T17:57:46.253Z"
   },
   {
    "duration": 55,
    "start_time": "2022-01-20T17:57:46.256Z"
   },
   {
    "duration": 54,
    "start_time": "2022-01-20T17:57:46.258Z"
   },
   {
    "duration": 42,
    "start_time": "2022-01-20T17:57:46.271Z"
   },
   {
    "duration": 364,
    "start_time": "2022-01-20T17:57:56.841Z"
   },
   {
    "duration": 284,
    "start_time": "2022-01-20T17:58:00.626Z"
   },
   {
    "duration": 82,
    "start_time": "2022-01-20T17:58:34.091Z"
   },
   {
    "duration": 1442,
    "start_time": "2022-01-20T17:58:39.281Z"
   },
   {
    "duration": 12,
    "start_time": "2022-01-20T17:58:59.248Z"
   },
   {
    "duration": 93,
    "start_time": "2022-01-20T17:59:34.857Z"
   },
   {
    "duration": 83,
    "start_time": "2022-01-20T17:59:44.729Z"
   },
   {
    "duration": 287,
    "start_time": "2022-01-20T17:59:47.298Z"
   },
   {
    "duration": 287,
    "start_time": "2022-01-20T18:00:08.689Z"
   },
   {
    "duration": 312,
    "start_time": "2022-01-20T18:00:15.682Z"
   },
   {
    "duration": 84,
    "start_time": "2022-01-20T18:06:21.209Z"
   },
   {
    "duration": 278,
    "start_time": "2022-01-20T18:06:30.278Z"
   },
   {
    "duration": 261,
    "start_time": "2022-01-20T18:07:14.359Z"
   },
   {
    "duration": 4,
    "start_time": "2022-01-20T18:09:11.245Z"
   },
   {
    "duration": 28,
    "start_time": "2022-01-20T18:48:34.655Z"
   },
   {
    "duration": 589,
    "start_time": "2022-01-20T18:48:51.706Z"
   },
   {
    "duration": 3,
    "start_time": "2022-01-20T18:48:52.297Z"
   },
   {
    "duration": 79,
    "start_time": "2022-01-20T18:48:52.302Z"
   },
   {
    "duration": 491,
    "start_time": "2022-01-20T18:48:52.383Z"
   },
   {
    "duration": 98,
    "start_time": "2022-01-20T18:48:52.876Z"
   },
   {
    "duration": 26,
    "start_time": "2022-01-20T18:48:52.976Z"
   },
   {
    "duration": 4,
    "start_time": "2022-01-20T18:48:53.004Z"
   },
   {
    "duration": 555,
    "start_time": "2022-01-20T18:48:53.010Z"
   },
   {
    "duration": 28,
    "start_time": "2022-01-20T18:48:53.539Z"
   },
   {
    "duration": 27,
    "start_time": "2022-01-20T18:48:53.541Z"
   },
   {
    "duration": 25,
    "start_time": "2022-01-20T18:48:53.544Z"
   },
   {
    "duration": 13,
    "start_time": "2022-01-20T18:49:45.795Z"
   },
   {
    "duration": 27,
    "start_time": "2022-01-20T18:49:47.522Z"
   },
   {
    "duration": 36,
    "start_time": "2022-01-20T18:50:20.794Z"
   },
   {
    "duration": 10,
    "start_time": "2022-01-20T18:50:45.098Z"
   },
   {
    "duration": 663,
    "start_time": "2022-01-20T19:28:38.496Z"
   },
   {
    "duration": 2,
    "start_time": "2022-01-20T19:28:39.161Z"
   },
   {
    "duration": 96,
    "start_time": "2022-01-20T19:28:39.168Z"
   },
   {
    "duration": 498,
    "start_time": "2022-01-20T19:28:39.266Z"
   },
   {
    "duration": 98,
    "start_time": "2022-01-20T19:28:39.766Z"
   },
   {
    "duration": 25,
    "start_time": "2022-01-20T19:28:39.866Z"
   },
   {
    "duration": 11,
    "start_time": "2022-01-20T19:28:39.893Z"
   },
   {
    "duration": 30,
    "start_time": "2022-01-20T19:28:39.906Z"
   },
   {
    "duration": 41,
    "start_time": "2022-01-20T19:28:39.938Z"
   },
   {
    "duration": 26,
    "start_time": "2022-01-20T19:29:23.814Z"
   },
   {
    "duration": 12,
    "start_time": "2022-01-20T19:29:31.172Z"
   },
   {
    "duration": 88,
    "start_time": "2022-01-20T19:29:45.741Z"
   },
   {
    "duration": 29,
    "start_time": "2022-01-20T19:29:50.774Z"
   },
   {
    "duration": 24,
    "start_time": "2022-01-20T19:31:30.613Z"
   },
   {
    "duration": 10,
    "start_time": "2022-01-20T19:33:08.261Z"
   },
   {
    "duration": 6,
    "start_time": "2022-01-20T19:33:12.292Z"
   },
   {
    "duration": 10,
    "start_time": "2022-01-20T19:34:05.501Z"
   },
   {
    "duration": 9,
    "start_time": "2022-01-20T19:34:09.572Z"
   },
   {
    "duration": 21,
    "start_time": "2022-01-20T19:34:18.684Z"
   },
   {
    "duration": 23,
    "start_time": "2022-01-20T19:34:22.476Z"
   },
   {
    "duration": 20,
    "start_time": "2022-01-20T19:35:14.021Z"
   },
   {
    "duration": 18,
    "start_time": "2022-01-20T19:35:28.021Z"
   },
   {
    "duration": 21,
    "start_time": "2022-01-20T19:35:40.205Z"
   },
   {
    "duration": 338,
    "start_time": "2022-01-20T19:40:50.796Z"
   },
   {
    "duration": 9,
    "start_time": "2022-01-20T19:41:03.963Z"
   },
   {
    "duration": 5,
    "start_time": "2022-01-20T19:53:48.586Z"
   },
   {
    "duration": 5,
    "start_time": "2022-01-20T19:54:50.258Z"
   },
   {
    "duration": 8,
    "start_time": "2022-01-20T19:55:48.961Z"
   },
   {
    "duration": 9,
    "start_time": "2022-01-20T19:59:39.304Z"
   },
   {
    "duration": 322,
    "start_time": "2022-01-22T16:34:52.282Z"
   },
   {
    "duration": 658,
    "start_time": "2022-01-22T16:34:56.406Z"
   },
   {
    "duration": 2,
    "start_time": "2022-01-22T16:34:57.066Z"
   },
   {
    "duration": 72,
    "start_time": "2022-01-22T16:34:57.071Z"
   },
   {
    "duration": 458,
    "start_time": "2022-01-22T16:34:57.145Z"
   },
   {
    "duration": 117,
    "start_time": "2022-01-22T16:34:57.604Z"
   },
   {
    "duration": 22,
    "start_time": "2022-01-22T16:34:57.722Z"
   },
   {
    "duration": 8,
    "start_time": "2022-01-22T16:34:57.745Z"
   },
   {
    "duration": 7,
    "start_time": "2022-01-22T16:34:57.755Z"
   },
   {
    "duration": 21,
    "start_time": "2022-01-22T16:34:57.763Z"
   },
   {
    "duration": 16,
    "start_time": "2022-01-22T16:34:57.786Z"
   },
   {
    "duration": 24,
    "start_time": "2022-01-22T16:34:57.804Z"
   },
   {
    "duration": 3,
    "start_time": "2022-01-22T16:34:57.830Z"
   },
   {
    "duration": 9,
    "start_time": "2022-01-22T16:34:57.835Z"
   },
   {
    "duration": 32,
    "start_time": "2022-01-22T16:34:57.845Z"
   },
   {
    "duration": 6,
    "start_time": "2022-01-22T16:34:57.879Z"
   },
   {
    "duration": 20,
    "start_time": "2022-01-22T16:34:57.887Z"
   },
   {
    "duration": 1017,
    "start_time": "2022-01-22T16:35:17.973Z"
   },
   {
    "duration": 4,
    "start_time": "2022-01-22T16:37:51.817Z"
   },
   {
    "duration": 7,
    "start_time": "2022-01-22T16:38:45.338Z"
   },
   {
    "duration": 19,
    "start_time": "2022-01-22T16:40:40.745Z"
   },
   {
    "duration": 17,
    "start_time": "2022-01-22T16:44:55.305Z"
   },
   {
    "duration": 5,
    "start_time": "2022-01-22T16:45:15.863Z"
   },
   {
    "duration": 583,
    "start_time": "2022-01-22T16:45:24.067Z"
   },
   {
    "duration": 3,
    "start_time": "2022-01-22T16:45:24.652Z"
   },
   {
    "duration": 76,
    "start_time": "2022-01-22T16:45:24.659Z"
   },
   {
    "duration": 491,
    "start_time": "2022-01-22T16:45:24.737Z"
   },
   {
    "duration": 102,
    "start_time": "2022-01-22T16:45:25.230Z"
   },
   {
    "duration": 23,
    "start_time": "2022-01-22T16:45:25.334Z"
   },
   {
    "duration": 9,
    "start_time": "2022-01-22T16:45:25.359Z"
   },
   {
    "duration": 7,
    "start_time": "2022-01-22T16:45:25.370Z"
   },
   {
    "duration": 21,
    "start_time": "2022-01-22T16:45:25.378Z"
   },
   {
    "duration": 17,
    "start_time": "2022-01-22T16:45:25.400Z"
   },
   {
    "duration": 26,
    "start_time": "2022-01-22T16:45:25.419Z"
   },
   {
    "duration": 4,
    "start_time": "2022-01-22T16:45:25.446Z"
   },
   {
    "duration": 27,
    "start_time": "2022-01-22T16:45:25.452Z"
   },
   {
    "duration": 7,
    "start_time": "2022-01-22T16:45:25.481Z"
   },
   {
    "duration": 7,
    "start_time": "2022-01-22T16:45:25.489Z"
   },
   {
    "duration": 20,
    "start_time": "2022-01-22T16:45:25.497Z"
   },
   {
    "duration": 6,
    "start_time": "2022-01-22T16:45:25.518Z"
   },
   {
    "duration": 5,
    "start_time": "2022-01-22T16:45:25.526Z"
   },
   {
    "duration": 386,
    "start_time": "2022-01-22T16:46:09.788Z"
   },
   {
    "duration": 325,
    "start_time": "2022-01-22T16:47:53.476Z"
   },
   {
    "duration": 759,
    "start_time": "2022-01-22T16:47:59.647Z"
   },
   {
    "duration": 3,
    "start_time": "2022-01-22T16:48:00.408Z"
   },
   {
    "duration": 125,
    "start_time": "2022-01-22T16:48:00.414Z"
   },
   {
    "duration": 611,
    "start_time": "2022-01-22T16:48:00.541Z"
   },
   {
    "duration": 122,
    "start_time": "2022-01-22T16:48:01.155Z"
   },
   {
    "duration": 36,
    "start_time": "2022-01-22T16:48:01.280Z"
   },
   {
    "duration": 13,
    "start_time": "2022-01-22T16:48:01.319Z"
   },
   {
    "duration": 36,
    "start_time": "2022-01-22T16:48:01.336Z"
   },
   {
    "duration": 31,
    "start_time": "2022-01-22T16:48:01.374Z"
   },
   {
    "duration": 29,
    "start_time": "2022-01-22T16:48:01.407Z"
   },
   {
    "duration": 42,
    "start_time": "2022-01-22T16:48:01.438Z"
   },
   {
    "duration": 4,
    "start_time": "2022-01-22T16:48:01.482Z"
   },
   {
    "duration": 16,
    "start_time": "2022-01-22T16:48:01.488Z"
   },
   {
    "duration": 6,
    "start_time": "2022-01-22T16:48:01.506Z"
   },
   {
    "duration": 48,
    "start_time": "2022-01-22T16:48:01.514Z"
   },
   {
    "duration": 23,
    "start_time": "2022-01-22T16:48:01.564Z"
   },
   {
    "duration": 7,
    "start_time": "2022-01-22T16:48:01.588Z"
   },
   {
    "duration": 395,
    "start_time": "2022-01-22T16:48:01.597Z"
   },
   {
    "duration": 323,
    "start_time": "2022-01-22T16:49:55.007Z"
   },
   {
    "duration": 621,
    "start_time": "2022-01-22T16:50:05.966Z"
   },
   {
    "duration": 3,
    "start_time": "2022-01-22T16:50:06.588Z"
   },
   {
    "duration": 84,
    "start_time": "2022-01-22T16:50:06.593Z"
   },
   {
    "duration": 437,
    "start_time": "2022-01-22T16:50:06.679Z"
   },
   {
    "duration": 99,
    "start_time": "2022-01-22T16:50:07.118Z"
   },
   {
    "duration": 25,
    "start_time": "2022-01-22T16:50:07.219Z"
   },
   {
    "duration": 11,
    "start_time": "2022-01-22T16:50:07.246Z"
   },
   {
    "duration": 9,
    "start_time": "2022-01-22T16:50:07.259Z"
   },
   {
    "duration": 26,
    "start_time": "2022-01-22T16:50:07.270Z"
   },
   {
    "duration": 17,
    "start_time": "2022-01-22T16:50:07.298Z"
   },
   {
    "duration": 16,
    "start_time": "2022-01-22T16:50:07.318Z"
   },
   {
    "duration": 37,
    "start_time": "2022-01-22T16:50:07.336Z"
   },
   {
    "duration": 27,
    "start_time": "2022-01-22T16:50:07.374Z"
   },
   {
    "duration": 3,
    "start_time": "2022-01-22T16:50:07.403Z"
   },
   {
    "duration": 8,
    "start_time": "2022-01-22T16:50:07.408Z"
   },
   {
    "duration": 6,
    "start_time": "2022-01-22T16:50:07.418Z"
   },
   {
    "duration": 47,
    "start_time": "2022-01-22T16:50:07.425Z"
   },
   {
    "duration": 7,
    "start_time": "2022-01-22T16:50:07.473Z"
   },
   {
    "duration": 414,
    "start_time": "2022-01-22T16:50:07.481Z"
   },
   {
    "duration": 15,
    "start_time": "2022-01-22T16:50:16.899Z"
   },
   {
    "duration": 100,
    "start_time": "2022-01-22T16:51:29.745Z"
   },
   {
    "duration": 321,
    "start_time": "2022-01-22T16:51:40.146Z"
   },
   {
    "duration": 570,
    "start_time": "2022-01-22T16:51:51.482Z"
   },
   {
    "duration": 2,
    "start_time": "2022-01-22T16:51:52.054Z"
   },
   {
    "duration": 69,
    "start_time": "2022-01-22T16:51:52.058Z"
   },
   {
    "duration": 477,
    "start_time": "2022-01-22T16:51:52.129Z"
   },
   {
    "duration": 94,
    "start_time": "2022-01-22T16:51:52.608Z"
   },
   {
    "duration": 23,
    "start_time": "2022-01-22T16:51:52.704Z"
   },
   {
    "duration": 9,
    "start_time": "2022-01-22T16:51:52.728Z"
   },
   {
    "duration": 7,
    "start_time": "2022-01-22T16:51:52.739Z"
   },
   {
    "duration": 21,
    "start_time": "2022-01-22T16:51:52.747Z"
   },
   {
    "duration": 14,
    "start_time": "2022-01-22T16:51:52.769Z"
   },
   {
    "duration": 11,
    "start_time": "2022-01-22T16:51:52.784Z"
   },
   {
    "duration": 13,
    "start_time": "2022-01-22T16:51:52.797Z"
   },
   {
    "duration": 25,
    "start_time": "2022-01-22T16:51:52.812Z"
   },
   {
    "duration": 4,
    "start_time": "2022-01-22T16:51:52.838Z"
   },
   {
    "duration": 6,
    "start_time": "2022-01-22T16:51:52.872Z"
   },
   {
    "duration": 7,
    "start_time": "2022-01-22T16:51:52.880Z"
   },
   {
    "duration": 19,
    "start_time": "2022-01-22T16:51:52.888Z"
   },
   {
    "duration": 6,
    "start_time": "2022-01-22T16:51:52.908Z"
   },
   {
    "duration": 427,
    "start_time": "2022-01-22T16:51:52.915Z"
   },
   {
    "duration": 586,
    "start_time": "2022-01-22T16:52:35.788Z"
   },
   {
    "duration": 2,
    "start_time": "2022-01-22T16:52:36.376Z"
   },
   {
    "duration": 72,
    "start_time": "2022-01-22T16:52:36.380Z"
   },
   {
    "duration": 480,
    "start_time": "2022-01-22T16:52:36.453Z"
   },
   {
    "duration": 94,
    "start_time": "2022-01-22T16:52:36.935Z"
   },
   {
    "duration": 25,
    "start_time": "2022-01-22T16:52:37.031Z"
   },
   {
    "duration": 9,
    "start_time": "2022-01-22T16:52:37.057Z"
   },
   {
    "duration": 7,
    "start_time": "2022-01-22T16:52:37.069Z"
   },
   {
    "duration": 21,
    "start_time": "2022-01-22T16:52:37.078Z"
   },
   {
    "duration": 15,
    "start_time": "2022-01-22T16:52:37.101Z"
   },
   {
    "duration": 16,
    "start_time": "2022-01-22T16:52:37.117Z"
   },
   {
    "duration": 44,
    "start_time": "2022-01-22T16:52:37.134Z"
   },
   {
    "duration": 26,
    "start_time": "2022-01-22T16:52:37.180Z"
   },
   {
    "duration": 4,
    "start_time": "2022-01-22T16:52:37.207Z"
   },
   {
    "duration": 7,
    "start_time": "2022-01-22T16:52:37.213Z"
   },
   {
    "duration": 6,
    "start_time": "2022-01-22T16:52:37.222Z"
   },
   {
    "duration": 54,
    "start_time": "2022-01-22T16:52:37.229Z"
   },
   {
    "duration": 7,
    "start_time": "2022-01-22T16:52:37.284Z"
   },
   {
    "duration": 477,
    "start_time": "2022-01-22T16:52:37.292Z"
   },
   {
    "duration": 573,
    "start_time": "2022-01-22T16:53:07.386Z"
   },
   {
    "duration": 2,
    "start_time": "2022-01-22T16:53:07.960Z"
   },
   {
    "duration": 75,
    "start_time": "2022-01-22T16:53:07.964Z"
   },
   {
    "duration": 464,
    "start_time": "2022-01-22T16:53:08.041Z"
   },
   {
    "duration": 90,
    "start_time": "2022-01-22T16:53:08.507Z"
   },
   {
    "duration": 23,
    "start_time": "2022-01-22T16:53:08.599Z"
   },
   {
    "duration": 9,
    "start_time": "2022-01-22T16:53:08.623Z"
   },
   {
    "duration": 7,
    "start_time": "2022-01-22T16:53:08.635Z"
   },
   {
    "duration": 20,
    "start_time": "2022-01-22T16:53:08.644Z"
   },
   {
    "duration": 17,
    "start_time": "2022-01-22T16:53:08.666Z"
   },
   {
    "duration": 16,
    "start_time": "2022-01-22T16:53:08.684Z"
   },
   {
    "duration": 15,
    "start_time": "2022-01-22T16:53:08.702Z"
   },
   {
    "duration": 26,
    "start_time": "2022-01-22T16:53:08.719Z"
   },
   {
    "duration": 25,
    "start_time": "2022-01-22T16:53:08.746Z"
   },
   {
    "duration": 6,
    "start_time": "2022-01-22T16:53:08.773Z"
   },
   {
    "duration": 7,
    "start_time": "2022-01-22T16:53:08.781Z"
   },
   {
    "duration": 19,
    "start_time": "2022-01-22T16:53:08.789Z"
   },
   {
    "duration": 6,
    "start_time": "2022-01-22T16:53:08.810Z"
   },
   {
    "duration": 393,
    "start_time": "2022-01-22T16:53:08.818Z"
   },
   {
    "duration": 15,
    "start_time": "2022-01-22T16:54:27.619Z"
   },
   {
    "duration": 568,
    "start_time": "2022-01-22T16:54:58.419Z"
   },
   {
    "duration": 3,
    "start_time": "2022-01-22T16:54:58.988Z"
   },
   {
    "duration": 78,
    "start_time": "2022-01-22T16:54:58.993Z"
   },
   {
    "duration": 440,
    "start_time": "2022-01-22T16:54:59.073Z"
   },
   {
    "duration": 91,
    "start_time": "2022-01-22T16:54:59.515Z"
   },
   {
    "duration": 24,
    "start_time": "2022-01-22T16:54:59.608Z"
   },
   {
    "duration": 8,
    "start_time": "2022-01-22T16:54:59.634Z"
   },
   {
    "duration": 7,
    "start_time": "2022-01-22T16:54:59.645Z"
   },
   {
    "duration": 19,
    "start_time": "2022-01-22T16:54:59.653Z"
   },
   {
    "duration": 15,
    "start_time": "2022-01-22T16:54:59.674Z"
   },
   {
    "duration": 14,
    "start_time": "2022-01-22T16:54:59.690Z"
   },
   {
    "duration": 14,
    "start_time": "2022-01-22T16:54:59.705Z"
   },
   {
    "duration": 26,
    "start_time": "2022-01-22T16:54:59.720Z"
   },
   {
    "duration": 5,
    "start_time": "2022-01-22T16:54:59.771Z"
   },
   {
    "duration": 7,
    "start_time": "2022-01-22T16:54:59.778Z"
   },
   {
    "duration": 7,
    "start_time": "2022-01-22T16:54:59.787Z"
   },
   {
    "duration": 21,
    "start_time": "2022-01-22T16:54:59.795Z"
   },
   {
    "duration": 7,
    "start_time": "2022-01-22T16:54:59.818Z"
   },
   {
    "duration": 379,
    "start_time": "2022-01-22T16:54:59.826Z"
   },
   {
    "duration": 626,
    "start_time": "2022-01-22T16:55:27.744Z"
   },
   {
    "duration": 2,
    "start_time": "2022-01-22T16:55:28.372Z"
   },
   {
    "duration": 69,
    "start_time": "2022-01-22T16:55:28.376Z"
   },
   {
    "duration": 465,
    "start_time": "2022-01-22T16:55:28.447Z"
   },
   {
    "duration": 93,
    "start_time": "2022-01-22T16:55:28.914Z"
   },
   {
    "duration": 27,
    "start_time": "2022-01-22T16:55:29.009Z"
   },
   {
    "duration": 9,
    "start_time": "2022-01-22T16:55:29.038Z"
   },
   {
    "duration": 16,
    "start_time": "2022-01-22T16:55:29.049Z"
   },
   {
    "duration": 7,
    "start_time": "2022-01-22T16:55:29.066Z"
   },
   {
    "duration": 19,
    "start_time": "2022-01-22T16:55:29.074Z"
   },
   {
    "duration": 13,
    "start_time": "2022-01-22T16:55:29.094Z"
   },
   {
    "duration": 13,
    "start_time": "2022-01-22T16:55:29.109Z"
   },
   {
    "duration": 24,
    "start_time": "2022-01-22T16:55:29.124Z"
   },
   {
    "duration": 24,
    "start_time": "2022-01-22T16:55:29.150Z"
   },
   {
    "duration": 7,
    "start_time": "2022-01-22T16:55:29.176Z"
   },
   {
    "duration": 8,
    "start_time": "2022-01-22T16:55:29.185Z"
   },
   {
    "duration": 19,
    "start_time": "2022-01-22T16:55:29.194Z"
   },
   {
    "duration": 6,
    "start_time": "2022-01-22T16:55:29.214Z"
   },
   {
    "duration": 445,
    "start_time": "2022-01-22T16:55:29.222Z"
   },
   {
    "duration": 612,
    "start_time": "2022-01-22T16:58:56.548Z"
   },
   {
    "duration": 3,
    "start_time": "2022-01-22T16:58:57.161Z"
   },
   {
    "duration": 69,
    "start_time": "2022-01-22T16:58:57.166Z"
   },
   {
    "duration": 456,
    "start_time": "2022-01-22T16:58:57.237Z"
   },
   {
    "duration": 91,
    "start_time": "2022-01-22T16:58:57.694Z"
   },
   {
    "duration": 22,
    "start_time": "2022-01-22T16:58:57.787Z"
   },
   {
    "duration": 13,
    "start_time": "2022-01-22T16:58:57.811Z"
   },
   {
    "duration": 9,
    "start_time": "2022-01-22T16:58:57.827Z"
   },
   {
    "duration": 19,
    "start_time": "2022-01-22T16:58:57.838Z"
   },
   {
    "duration": 22,
    "start_time": "2022-01-22T16:58:57.859Z"
   },
   {
    "duration": 25,
    "start_time": "2022-01-22T16:58:57.882Z"
   },
   {
    "duration": 4,
    "start_time": "2022-01-22T16:58:57.909Z"
   },
   {
    "duration": 7,
    "start_time": "2022-01-22T16:58:57.914Z"
   },
   {
    "duration": 6,
    "start_time": "2022-01-22T16:58:57.923Z"
   },
   {
    "duration": 43,
    "start_time": "2022-01-22T16:58:57.930Z"
   },
   {
    "duration": 3,
    "start_time": "2022-01-22T16:58:57.974Z"
   },
   {
    "duration": 24,
    "start_time": "2022-01-22T16:58:57.979Z"
   },
   {
    "duration": 6,
    "start_time": "2022-01-22T16:58:58.004Z"
   },
   {
    "duration": 6,
    "start_time": "2022-01-22T16:58:58.012Z"
   },
   {
    "duration": 12,
    "start_time": "2022-01-22T16:59:22.952Z"
   },
   {
    "duration": 574,
    "start_time": "2022-01-22T17:00:07.173Z"
   },
   {
    "duration": 3,
    "start_time": "2022-01-22T17:00:07.749Z"
   },
   {
    "duration": 79,
    "start_time": "2022-01-22T17:00:07.754Z"
   },
   {
    "duration": 466,
    "start_time": "2022-01-22T17:00:07.835Z"
   },
   {
    "duration": 91,
    "start_time": "2022-01-22T17:00:08.303Z"
   },
   {
    "duration": 22,
    "start_time": "2022-01-22T17:00:08.395Z"
   },
   {
    "duration": 8,
    "start_time": "2022-01-22T17:00:08.418Z"
   },
   {
    "duration": 7,
    "start_time": "2022-01-22T17:00:08.429Z"
   },
   {
    "duration": 21,
    "start_time": "2022-01-22T17:00:08.437Z"
   },
   {
    "duration": 18,
    "start_time": "2022-01-22T17:00:08.460Z"
   },
   {
    "duration": 29,
    "start_time": "2022-01-22T17:00:08.480Z"
   },
   {
    "duration": 3,
    "start_time": "2022-01-22T17:00:08.511Z"
   },
   {
    "duration": 6,
    "start_time": "2022-01-22T17:00:08.516Z"
   },
   {
    "duration": 7,
    "start_time": "2022-01-22T17:00:08.524Z"
   },
   {
    "duration": 41,
    "start_time": "2022-01-22T17:00:08.533Z"
   },
   {
    "duration": 4,
    "start_time": "2022-01-22T17:00:08.576Z"
   },
   {
    "duration": 20,
    "start_time": "2022-01-22T17:00:08.582Z"
   },
   {
    "duration": 7,
    "start_time": "2022-01-22T17:00:08.604Z"
   },
   {
    "duration": 5,
    "start_time": "2022-01-22T17:00:08.613Z"
   },
   {
    "duration": 45,
    "start_time": "2022-01-22T17:00:53.764Z"
   },
   {
    "duration": 51,
    "start_time": "2022-01-22T17:01:03.812Z"
   },
   {
    "duration": 392,
    "start_time": "2022-01-22T17:02:53.068Z"
   },
   {
    "duration": 404,
    "start_time": "2022-01-22T17:03:07.772Z"
   },
   {
    "duration": 5,
    "start_time": "2022-01-22T17:03:27.395Z"
   },
   {
    "duration": 4,
    "start_time": "2022-01-22T17:04:43.948Z"
   },
   {
    "duration": 5,
    "start_time": "2022-01-22T17:04:58.907Z"
   },
   {
    "duration": 5,
    "start_time": "2022-01-22T17:05:13.852Z"
   },
   {
    "duration": 10,
    "start_time": "2022-01-22T17:05:46.553Z"
   },
   {
    "duration": 4,
    "start_time": "2022-01-22T17:11:33.546Z"
   },
   {
    "duration": 5,
    "start_time": "2022-01-22T17:11:37.178Z"
   },
   {
    "duration": 24,
    "start_time": "2022-01-22T17:13:01.857Z"
   },
   {
    "duration": 5,
    "start_time": "2022-01-22T17:20:00.729Z"
   },
   {
    "duration": 134,
    "start_time": "2022-01-22T17:24:35.046Z"
   },
   {
    "duration": 99,
    "start_time": "2022-01-22T17:24:48.496Z"
   },
   {
    "duration": 91,
    "start_time": "2022-01-22T17:25:28.711Z"
   },
   {
    "duration": 25,
    "start_time": "2022-01-22T17:25:41.407Z"
   },
   {
    "duration": 7,
    "start_time": "2022-01-22T17:33:59.790Z"
   },
   {
    "duration": 27,
    "start_time": "2022-01-22T17:34:27.110Z"
   },
   {
    "duration": 9,
    "start_time": "2022-01-22T17:34:57.622Z"
   },
   {
    "duration": 2108,
    "start_time": "2022-01-22T17:43:17.245Z"
   },
   {
    "duration": 8,
    "start_time": "2022-01-22T17:43:27.103Z"
   },
   {
    "duration": 7,
    "start_time": "2022-01-22T17:43:48.877Z"
   },
   {
    "duration": 8,
    "start_time": "2022-01-22T17:44:24.691Z"
   },
   {
    "duration": 8,
    "start_time": "2022-01-22T17:44:46.956Z"
   },
   {
    "duration": 7,
    "start_time": "2022-01-22T17:45:10.684Z"
   },
   {
    "duration": 7909,
    "start_time": "2022-01-22T17:46:51.012Z"
   },
   {
    "duration": 545,
    "start_time": "2022-01-22T17:47:08.714Z"
   },
   {
    "duration": 2,
    "start_time": "2022-01-22T17:47:09.261Z"
   },
   {
    "duration": 71,
    "start_time": "2022-01-22T17:47:09.265Z"
   },
   {
    "duration": 471,
    "start_time": "2022-01-22T17:47:09.338Z"
   },
   {
    "duration": 91,
    "start_time": "2022-01-22T17:47:09.811Z"
   },
   {
    "duration": 23,
    "start_time": "2022-01-22T17:47:09.903Z"
   },
   {
    "duration": 9,
    "start_time": "2022-01-22T17:47:09.927Z"
   },
   {
    "duration": 10,
    "start_time": "2022-01-22T17:47:09.938Z"
   },
   {
    "duration": 55,
    "start_time": "2022-01-22T17:47:09.949Z"
   },
   {
    "duration": 15,
    "start_time": "2022-01-22T17:47:10.005Z"
   },
   {
    "duration": 27,
    "start_time": "2022-01-22T17:47:10.022Z"
   },
   {
    "duration": 4,
    "start_time": "2022-01-22T17:47:10.050Z"
   },
   {
    "duration": 18,
    "start_time": "2022-01-22T17:47:10.056Z"
   },
   {
    "duration": 5,
    "start_time": "2022-01-22T17:47:10.076Z"
   },
   {
    "duration": 5,
    "start_time": "2022-01-22T17:47:10.083Z"
   },
   {
    "duration": 5,
    "start_time": "2022-01-22T17:47:10.090Z"
   },
   {
    "duration": 10,
    "start_time": "2022-01-22T17:47:10.096Z"
   },
   {
    "duration": 24,
    "start_time": "2022-01-22T17:47:10.108Z"
   },
   {
    "duration": 43,
    "start_time": "2022-01-22T17:47:10.134Z"
   },
   {
    "duration": 15,
    "start_time": "2022-01-22T17:47:10.178Z"
   },
   {
    "duration": 5,
    "start_time": "2022-01-22T17:47:10.194Z"
   },
   {
    "duration": 19,
    "start_time": "2022-01-22T17:47:10.200Z"
   },
   {
    "duration": 6,
    "start_time": "2022-01-22T17:47:10.221Z"
   },
   {
    "duration": 13,
    "start_time": "2022-01-22T17:47:10.228Z"
   },
   {
    "duration": 30,
    "start_time": "2022-01-22T17:47:10.242Z"
   },
   {
    "duration": 43,
    "start_time": "2022-01-22T17:47:10.273Z"
   },
   {
    "duration": 12,
    "start_time": "2022-01-22T17:50:13.599Z"
   },
   {
    "duration": 34,
    "start_time": "2022-01-22T17:50:30.230Z"
   },
   {
    "duration": 4,
    "start_time": "2022-01-22T17:53:27.782Z"
   },
   {
    "duration": 4,
    "start_time": "2022-01-22T17:54:05.121Z"
   },
   {
    "duration": 5,
    "start_time": "2022-01-22T17:54:12.284Z"
   },
   {
    "duration": 5,
    "start_time": "2022-01-22T17:54:57.996Z"
   },
   {
    "duration": 371,
    "start_time": "2022-01-22T17:55:42.060Z"
   },
   {
    "duration": 6,
    "start_time": "2022-01-22T17:56:14.284Z"
   },
   {
    "duration": 35,
    "start_time": "2022-01-22T17:56:21.020Z"
   },
   {
    "duration": 5,
    "start_time": "2022-01-22T18:00:25.152Z"
   },
   {
    "duration": 6,
    "start_time": "2022-01-22T18:00:34.468Z"
   },
   {
    "duration": 655,
    "start_time": "2022-01-22T18:01:02.138Z"
   },
   {
    "duration": 3,
    "start_time": "2022-01-22T18:01:02.795Z"
   },
   {
    "duration": 101,
    "start_time": "2022-01-22T18:01:02.800Z"
   },
   {
    "duration": 428,
    "start_time": "2022-01-22T18:01:02.903Z"
   },
   {
    "duration": 94,
    "start_time": "2022-01-22T18:01:03.332Z"
   },
   {
    "duration": 22,
    "start_time": "2022-01-22T18:01:03.428Z"
   },
   {
    "duration": 8,
    "start_time": "2022-01-22T18:01:03.452Z"
   },
   {
    "duration": 10,
    "start_time": "2022-01-22T18:01:03.462Z"
   },
   {
    "duration": 51,
    "start_time": "2022-01-22T18:01:03.474Z"
   },
   {
    "duration": 13,
    "start_time": "2022-01-22T18:01:03.527Z"
   },
   {
    "duration": 41,
    "start_time": "2022-01-22T18:01:03.542Z"
   },
   {
    "duration": 4,
    "start_time": "2022-01-22T18:01:03.584Z"
   },
   {
    "duration": 22,
    "start_time": "2022-01-22T18:01:03.589Z"
   },
   {
    "duration": 9,
    "start_time": "2022-01-22T18:01:03.613Z"
   },
   {
    "duration": 11,
    "start_time": "2022-01-22T18:01:03.623Z"
   },
   {
    "duration": 12,
    "start_time": "2022-01-22T18:01:03.635Z"
   },
   {
    "duration": 15,
    "start_time": "2022-01-22T18:01:03.648Z"
   },
   {
    "duration": 6,
    "start_time": "2022-01-22T18:01:03.664Z"
   },
   {
    "duration": 9,
    "start_time": "2022-01-22T18:01:03.671Z"
   },
   {
    "duration": 18,
    "start_time": "2022-01-22T18:01:03.682Z"
   },
   {
    "duration": 5,
    "start_time": "2022-01-22T18:01:03.701Z"
   },
   {
    "duration": 28,
    "start_time": "2022-01-22T18:01:03.707Z"
   },
   {
    "duration": 6,
    "start_time": "2022-01-22T18:01:03.737Z"
   },
   {
    "duration": 12,
    "start_time": "2022-01-22T18:01:03.745Z"
   },
   {
    "duration": 14,
    "start_time": "2022-01-22T18:01:03.759Z"
   },
   {
    "duration": 14,
    "start_time": "2022-01-22T18:01:03.774Z"
   },
   {
    "duration": 6,
    "start_time": "2022-01-22T18:01:03.790Z"
   },
   {
    "duration": 35,
    "start_time": "2022-01-22T18:01:03.797Z"
   },
   {
    "duration": 13,
    "start_time": "2022-01-22T18:02:40.458Z"
   },
   {
    "duration": 7,
    "start_time": "2022-01-22T18:03:14.794Z"
   },
   {
    "duration": 5,
    "start_time": "2022-01-22T18:03:28.122Z"
   },
   {
    "duration": 564,
    "start_time": "2022-01-22T18:03:39.390Z"
   },
   {
    "duration": 3,
    "start_time": "2022-01-22T18:03:39.956Z"
   },
   {
    "duration": 81,
    "start_time": "2022-01-22T18:03:39.962Z"
   },
   {
    "duration": 473,
    "start_time": "2022-01-22T18:03:40.045Z"
   },
   {
    "duration": 94,
    "start_time": "2022-01-22T18:03:40.519Z"
   },
   {
    "duration": 23,
    "start_time": "2022-01-22T18:03:40.614Z"
   },
   {
    "duration": 9,
    "start_time": "2022-01-22T18:03:40.638Z"
   },
   {
    "duration": 7,
    "start_time": "2022-01-22T18:03:40.649Z"
   },
   {
    "duration": 53,
    "start_time": "2022-01-22T18:03:40.658Z"
   },
   {
    "duration": 14,
    "start_time": "2022-01-22T18:03:40.712Z"
   },
   {
    "duration": 23,
    "start_time": "2022-01-22T18:03:40.727Z"
   },
   {
    "duration": 21,
    "start_time": "2022-01-22T18:03:40.752Z"
   },
   {
    "duration": 5,
    "start_time": "2022-01-22T18:03:40.774Z"
   },
   {
    "duration": 5,
    "start_time": "2022-01-22T18:03:40.781Z"
   },
   {
    "duration": 5,
    "start_time": "2022-01-22T18:03:40.787Z"
   },
   {
    "duration": 4,
    "start_time": "2022-01-22T18:03:40.793Z"
   },
   {
    "duration": 13,
    "start_time": "2022-01-22T18:03:40.799Z"
   },
   {
    "duration": 4,
    "start_time": "2022-01-22T18:03:40.813Z"
   },
   {
    "duration": 13,
    "start_time": "2022-01-22T18:03:40.819Z"
   },
   {
    "duration": 42,
    "start_time": "2022-01-22T18:03:40.833Z"
   },
   {
    "duration": 14,
    "start_time": "2022-01-22T18:03:40.877Z"
   },
   {
    "duration": 3,
    "start_time": "2022-01-22T18:03:40.892Z"
   },
   {
    "duration": 20,
    "start_time": "2022-01-22T18:03:40.898Z"
   },
   {
    "duration": 6,
    "start_time": "2022-01-22T18:03:40.920Z"
   },
   {
    "duration": 12,
    "start_time": "2022-01-22T18:03:40.927Z"
   },
   {
    "duration": 32,
    "start_time": "2022-01-22T18:03:40.941Z"
   },
   {
    "duration": 12,
    "start_time": "2022-01-22T18:03:40.974Z"
   },
   {
    "duration": 5,
    "start_time": "2022-01-22T18:03:40.987Z"
   },
   {
    "duration": 32,
    "start_time": "2022-01-22T18:03:40.994Z"
   },
   {
    "duration": 541,
    "start_time": "2022-01-22T18:16:41.615Z"
   },
   {
    "duration": 2,
    "start_time": "2022-01-22T18:16:42.157Z"
   },
   {
    "duration": 71,
    "start_time": "2022-01-22T18:16:42.161Z"
   },
   {
    "duration": 466,
    "start_time": "2022-01-22T18:16:42.234Z"
   },
   {
    "duration": 4,
    "start_time": "2022-01-22T18:16:42.702Z"
   },
   {
    "duration": 3,
    "start_time": "2022-01-22T18:16:42.707Z"
   },
   {
    "duration": 116,
    "start_time": "2022-01-22T18:16:42.712Z"
   },
   {
    "duration": 23,
    "start_time": "2022-01-22T18:16:42.831Z"
   },
   {
    "duration": 8,
    "start_time": "2022-01-22T18:16:42.856Z"
   },
   {
    "duration": 7,
    "start_time": "2022-01-22T18:16:42.866Z"
   },
   {
    "duration": 53,
    "start_time": "2022-01-22T18:16:42.874Z"
   },
   {
    "duration": 13,
    "start_time": "2022-01-22T18:16:42.929Z"
   },
   {
    "duration": 42,
    "start_time": "2022-01-22T18:16:42.943Z"
   },
   {
    "duration": 4,
    "start_time": "2022-01-22T18:16:42.986Z"
   },
   {
    "duration": 6,
    "start_time": "2022-01-22T18:16:42.991Z"
   },
   {
    "duration": 5,
    "start_time": "2022-01-22T18:16:42.998Z"
   },
   {
    "duration": 5,
    "start_time": "2022-01-22T18:16:43.005Z"
   },
   {
    "duration": 5,
    "start_time": "2022-01-22T18:16:43.012Z"
   },
   {
    "duration": 12,
    "start_time": "2022-01-22T18:16:43.019Z"
   },
   {
    "duration": 4,
    "start_time": "2022-01-22T18:16:43.072Z"
   },
   {
    "duration": 11,
    "start_time": "2022-01-22T18:16:43.078Z"
   },
   {
    "duration": 7,
    "start_time": "2022-01-22T18:16:43.091Z"
   },
   {
    "duration": 15,
    "start_time": "2022-01-22T18:16:43.102Z"
   },
   {
    "duration": 5,
    "start_time": "2022-01-22T18:16:43.119Z"
   },
   {
    "duration": 56,
    "start_time": "2022-01-22T18:16:43.126Z"
   },
   {
    "duration": 6,
    "start_time": "2022-01-22T18:16:43.184Z"
   },
   {
    "duration": 15,
    "start_time": "2022-01-22T18:16:43.191Z"
   },
   {
    "duration": 3,
    "start_time": "2022-01-22T18:16:43.207Z"
   },
   {
    "duration": 15,
    "start_time": "2022-01-22T18:16:43.211Z"
   },
   {
    "duration": 4,
    "start_time": "2022-01-22T18:16:43.228Z"
   },
   {
    "duration": 49,
    "start_time": "2022-01-22T18:16:43.233Z"
   },
   {
    "duration": 3,
    "start_time": "2022-01-22T18:17:32.079Z"
   },
   {
    "duration": 3,
    "start_time": "2022-01-22T18:17:35.070Z"
   },
   {
    "duration": 601,
    "start_time": "2022-01-22T18:29:03.457Z"
   },
   {
    "duration": 2,
    "start_time": "2022-01-22T18:29:04.060Z"
   },
   {
    "duration": 73,
    "start_time": "2022-01-22T18:29:04.064Z"
   },
   {
    "duration": 470,
    "start_time": "2022-01-22T18:29:04.138Z"
   },
   {
    "duration": 4,
    "start_time": "2022-01-22T18:29:04.609Z"
   },
   {
    "duration": 19,
    "start_time": "2022-01-22T18:29:04.615Z"
   },
   {
    "duration": 175,
    "start_time": "2022-01-22T18:29:04.635Z"
   },
   {
    "duration": 23,
    "start_time": "2022-01-22T18:29:04.812Z"
   },
   {
    "duration": 21,
    "start_time": "2022-01-22T18:29:04.836Z"
   },
   {
    "duration": 35,
    "start_time": "2022-01-22T18:29:04.859Z"
   },
   {
    "duration": 65,
    "start_time": "2022-01-22T18:29:04.895Z"
   },
   {
    "duration": 15,
    "start_time": "2022-01-22T18:29:04.961Z"
   },
   {
    "duration": 42,
    "start_time": "2022-01-22T18:29:04.977Z"
   },
   {
    "duration": 3,
    "start_time": "2022-01-22T18:29:05.021Z"
   },
   {
    "duration": 20,
    "start_time": "2022-01-22T18:29:05.026Z"
   },
   {
    "duration": 19,
    "start_time": "2022-01-22T18:29:05.047Z"
   },
   {
    "duration": 26,
    "start_time": "2022-01-22T18:29:05.067Z"
   },
   {
    "duration": 16,
    "start_time": "2022-01-22T18:29:05.095Z"
   },
   {
    "duration": 24,
    "start_time": "2022-01-22T18:29:05.112Z"
   },
   {
    "duration": 24,
    "start_time": "2022-01-22T18:29:05.138Z"
   },
   {
    "duration": 13,
    "start_time": "2022-01-22T18:29:05.164Z"
   },
   {
    "duration": 24,
    "start_time": "2022-01-22T18:29:05.178Z"
   },
   {
    "duration": 10,
    "start_time": "2022-01-22T18:29:05.205Z"
   },
   {
    "duration": 23,
    "start_time": "2022-01-22T18:29:05.216Z"
   },
   {
    "duration": 13,
    "start_time": "2022-01-22T18:29:05.240Z"
   },
   {
    "duration": 11,
    "start_time": "2022-01-22T18:29:05.254Z"
   },
   {
    "duration": 3,
    "start_time": "2022-01-22T18:29:05.266Z"
   },
   {
    "duration": 13,
    "start_time": "2022-01-22T18:29:05.271Z"
   },
   {
    "duration": 4,
    "start_time": "2022-01-22T18:29:05.286Z"
   },
   {
    "duration": 35,
    "start_time": "2022-01-22T18:29:05.292Z"
   },
   {
    "duration": 9,
    "start_time": "2022-01-22T18:32:43.773Z"
   },
   {
    "duration": 25,
    "start_time": "2022-01-22T18:32:47.374Z"
   },
   {
    "duration": 6,
    "start_time": "2022-01-22T18:39:41.245Z"
   },
   {
    "duration": 588,
    "start_time": "2022-01-22T18:39:52.288Z"
   },
   {
    "duration": 2,
    "start_time": "2022-01-22T18:39:52.878Z"
   },
   {
    "duration": 73,
    "start_time": "2022-01-22T18:39:52.883Z"
   },
   {
    "duration": 456,
    "start_time": "2022-01-22T18:39:52.958Z"
   },
   {
    "duration": 4,
    "start_time": "2022-01-22T18:39:53.416Z"
   },
   {
    "duration": 3,
    "start_time": "2022-01-22T18:39:53.422Z"
   },
   {
    "duration": 158,
    "start_time": "2022-01-22T18:39:53.426Z"
   },
   {
    "duration": 22,
    "start_time": "2022-01-22T18:39:53.586Z"
   },
   {
    "duration": 8,
    "start_time": "2022-01-22T18:39:53.610Z"
   },
   {
    "duration": 7,
    "start_time": "2022-01-22T18:39:53.619Z"
   },
   {
    "duration": 60,
    "start_time": "2022-01-22T18:39:53.628Z"
   },
   {
    "duration": 15,
    "start_time": "2022-01-22T18:39:53.689Z"
   },
   {
    "duration": 30,
    "start_time": "2022-01-22T18:39:53.705Z"
   },
   {
    "duration": 4,
    "start_time": "2022-01-22T18:39:53.737Z"
   },
   {
    "duration": 5,
    "start_time": "2022-01-22T18:39:53.742Z"
   },
   {
    "duration": 27,
    "start_time": "2022-01-22T18:39:53.748Z"
   },
   {
    "duration": 5,
    "start_time": "2022-01-22T18:39:53.777Z"
   },
   {
    "duration": 5,
    "start_time": "2022-01-22T18:39:53.783Z"
   },
   {
    "duration": 5,
    "start_time": "2022-01-22T18:39:53.789Z"
   },
   {
    "duration": 7,
    "start_time": "2022-01-22T18:39:53.795Z"
   },
   {
    "duration": 14,
    "start_time": "2022-01-22T18:39:53.804Z"
   },
   {
    "duration": 2,
    "start_time": "2022-01-22T18:39:53.820Z"
   },
   {
    "duration": 53,
    "start_time": "2022-01-22T18:39:53.825Z"
   },
   {
    "duration": 7,
    "start_time": "2022-01-22T18:39:53.880Z"
   },
   {
    "duration": 11,
    "start_time": "2022-01-22T18:39:53.889Z"
   },
   {
    "duration": 9,
    "start_time": "2022-01-22T18:39:53.902Z"
   },
   {
    "duration": 28,
    "start_time": "2022-01-22T18:39:53.912Z"
   },
   {
    "duration": 13,
    "start_time": "2022-01-22T18:39:53.941Z"
   },
   {
    "duration": 40,
    "start_time": "2022-01-22T18:39:53.955Z"
   },
   {
    "duration": 7,
    "start_time": "2022-01-22T18:40:11.240Z"
   },
   {
    "duration": 552,
    "start_time": "2022-01-22T18:40:18.015Z"
   },
   {
    "duration": 2,
    "start_time": "2022-01-22T18:40:18.569Z"
   },
   {
    "duration": 71,
    "start_time": "2022-01-22T18:40:18.573Z"
   },
   {
    "duration": 491,
    "start_time": "2022-01-22T18:40:18.646Z"
   },
   {
    "duration": 5,
    "start_time": "2022-01-22T18:40:19.138Z"
   },
   {
    "duration": 3,
    "start_time": "2022-01-22T18:40:19.144Z"
   },
   {
    "duration": 133,
    "start_time": "2022-01-22T18:40:19.149Z"
   },
   {
    "duration": 26,
    "start_time": "2022-01-22T18:40:19.285Z"
   },
   {
    "duration": 10,
    "start_time": "2022-01-22T18:40:19.314Z"
   },
   {
    "duration": 7,
    "start_time": "2022-01-22T18:40:19.325Z"
   },
   {
    "duration": 77,
    "start_time": "2022-01-22T18:40:19.334Z"
   },
   {
    "duration": 13,
    "start_time": "2022-01-22T18:40:19.413Z"
   },
   {
    "duration": 30,
    "start_time": "2022-01-22T18:40:19.428Z"
   },
   {
    "duration": 5,
    "start_time": "2022-01-22T18:40:19.472Z"
   },
   {
    "duration": 8,
    "start_time": "2022-01-22T18:40:19.478Z"
   },
   {
    "duration": 9,
    "start_time": "2022-01-22T18:40:19.488Z"
   },
   {
    "duration": 19,
    "start_time": "2022-01-22T18:40:19.498Z"
   },
   {
    "duration": 13,
    "start_time": "2022-01-22T18:40:19.518Z"
   },
   {
    "duration": 25,
    "start_time": "2022-01-22T18:40:19.533Z"
   },
   {
    "duration": 14,
    "start_time": "2022-01-22T18:40:19.559Z"
   },
   {
    "duration": 25,
    "start_time": "2022-01-22T18:40:19.574Z"
   },
   {
    "duration": 4,
    "start_time": "2022-01-22T18:40:19.601Z"
   },
   {
    "duration": 23,
    "start_time": "2022-01-22T18:40:19.608Z"
   },
   {
    "duration": 7,
    "start_time": "2022-01-22T18:40:19.633Z"
   },
   {
    "duration": 35,
    "start_time": "2022-01-22T18:40:19.641Z"
   },
   {
    "duration": 11,
    "start_time": "2022-01-22T18:40:19.678Z"
   },
   {
    "duration": 92,
    "start_time": "2022-01-22T18:40:19.690Z"
   },
   {
    "duration": 5,
    "start_time": "2022-01-22T18:40:19.784Z"
   },
   {
    "duration": 42,
    "start_time": "2022-01-22T18:40:19.791Z"
   },
   {
    "duration": 19,
    "start_time": "2022-01-22T18:47:13.416Z"
   },
   {
    "duration": 7,
    "start_time": "2022-01-22T18:50:27.833Z"
   },
   {
    "duration": 36,
    "start_time": "2022-01-22T18:52:45.591Z"
   },
   {
    "duration": 8,
    "start_time": "2022-01-22T18:53:25.438Z"
   },
   {
    "duration": 6,
    "start_time": "2022-01-22T18:53:38.823Z"
   },
   {
    "duration": 415,
    "start_time": "2022-01-22T18:55:19.809Z"
   },
   {
    "duration": 606,
    "start_time": "2022-01-22T18:55:25.440Z"
   },
   {
    "duration": 2,
    "start_time": "2022-01-22T18:55:26.048Z"
   },
   {
    "duration": 81,
    "start_time": "2022-01-22T18:55:26.053Z"
   },
   {
    "duration": 483,
    "start_time": "2022-01-22T18:55:26.135Z"
   },
   {
    "duration": 5,
    "start_time": "2022-01-22T18:55:26.619Z"
   },
   {
    "duration": 3,
    "start_time": "2022-01-22T18:55:26.625Z"
   },
   {
    "duration": 158,
    "start_time": "2022-01-22T18:55:26.630Z"
   },
   {
    "duration": 25,
    "start_time": "2022-01-22T18:55:26.792Z"
   },
   {
    "duration": 9,
    "start_time": "2022-01-22T18:55:26.820Z"
   },
   {
    "duration": 8,
    "start_time": "2022-01-22T18:55:26.830Z"
   },
   {
    "duration": 68,
    "start_time": "2022-01-22T18:55:26.839Z"
   },
   {
    "duration": 14,
    "start_time": "2022-01-22T18:55:26.909Z"
   },
   {
    "duration": 63,
    "start_time": "2022-01-22T18:55:26.925Z"
   },
   {
    "duration": 23,
    "start_time": "2022-01-22T18:55:26.991Z"
   },
   {
    "duration": 57,
    "start_time": "2022-01-22T18:55:27.016Z"
   },
   {
    "duration": 4,
    "start_time": "2022-01-22T18:55:27.075Z"
   },
   {
    "duration": 5,
    "start_time": "2022-01-22T18:55:27.080Z"
   },
   {
    "duration": 16,
    "start_time": "2022-01-22T18:55:27.087Z"
   },
   {
    "duration": 4,
    "start_time": "2022-01-22T18:55:27.104Z"
   },
   {
    "duration": 4,
    "start_time": "2022-01-22T18:55:27.110Z"
   },
   {
    "duration": 5,
    "start_time": "2022-01-22T18:55:27.172Z"
   },
   {
    "duration": 7,
    "start_time": "2022-01-22T18:55:27.178Z"
   },
   {
    "duration": 3,
    "start_time": "2022-01-22T18:55:27.188Z"
   },
   {
    "duration": 19,
    "start_time": "2022-01-22T18:55:27.193Z"
   },
   {
    "duration": 60,
    "start_time": "2022-01-22T18:55:27.214Z"
   },
   {
    "duration": 9,
    "start_time": "2022-01-22T18:55:27.275Z"
   },
   {
    "duration": 3,
    "start_time": "2022-01-22T18:55:27.286Z"
   },
   {
    "duration": 14,
    "start_time": "2022-01-22T18:55:27.290Z"
   },
   {
    "duration": 5,
    "start_time": "2022-01-22T18:55:27.306Z"
   },
   {
    "duration": 79,
    "start_time": "2022-01-22T18:55:27.312Z"
   },
   {
    "duration": 3,
    "start_time": "2022-01-22T18:57:56.645Z"
   },
   {
    "duration": 4,
    "start_time": "2022-01-22T18:59:17.204Z"
   },
   {
    "duration": 27,
    "start_time": "2022-01-22T18:59:35.340Z"
   },
   {
    "duration": 25,
    "start_time": "2022-01-22T19:20:59.736Z"
   },
   {
    "duration": 7,
    "start_time": "2022-01-22T19:36:03.063Z"
   },
   {
    "duration": 26,
    "start_time": "2022-01-22T19:36:07.564Z"
   },
   {
    "duration": 6,
    "start_time": "2022-01-22T19:38:54.229Z"
   },
   {
    "duration": 23,
    "start_time": "2022-01-22T19:40:57.480Z"
   },
   {
    "duration": 3,
    "start_time": "2022-01-22T19:43:49.539Z"
   },
   {
    "duration": 732,
    "start_time": "2022-01-22T19:44:45.526Z"
   },
   {
    "duration": 16,
    "start_time": "2022-01-22T19:45:00.734Z"
   },
   {
    "duration": 405,
    "start_time": "2022-01-22T19:45:56.046Z"
   },
   {
    "duration": 19,
    "start_time": "2022-01-22T19:46:35.278Z"
   },
   {
    "duration": 18,
    "start_time": "2022-01-22T19:47:00.383Z"
   },
   {
    "duration": 112,
    "start_time": "2022-01-22T19:47:31.559Z"
   },
   {
    "duration": 4,
    "start_time": "2022-01-22T19:48:01.838Z"
   },
   {
    "duration": 637,
    "start_time": "2022-01-22T19:48:07.773Z"
   },
   {
    "duration": 603,
    "start_time": "2022-01-22T19:48:23.092Z"
   },
   {
    "duration": 2,
    "start_time": "2022-01-22T19:48:23.696Z"
   },
   {
    "duration": 76,
    "start_time": "2022-01-22T19:48:23.700Z"
   },
   {
    "duration": 429,
    "start_time": "2022-01-22T19:48:23.778Z"
   },
   {
    "duration": 4,
    "start_time": "2022-01-22T19:48:24.208Z"
   },
   {
    "duration": 3,
    "start_time": "2022-01-22T19:48:24.213Z"
   },
   {
    "duration": 123,
    "start_time": "2022-01-22T19:48:24.217Z"
   },
   {
    "duration": 21,
    "start_time": "2022-01-22T19:48:24.342Z"
   },
   {
    "duration": 8,
    "start_time": "2022-01-22T19:48:24.365Z"
   },
   {
    "duration": 7,
    "start_time": "2022-01-22T19:48:24.375Z"
   },
   {
    "duration": 53,
    "start_time": "2022-01-22T19:48:24.384Z"
   },
   {
    "duration": 16,
    "start_time": "2022-01-22T19:48:24.439Z"
   },
   {
    "duration": 33,
    "start_time": "2022-01-22T19:48:24.456Z"
   },
   {
    "duration": 13,
    "start_time": "2022-01-22T19:48:24.491Z"
   },
   {
    "duration": 4,
    "start_time": "2022-01-22T19:48:24.506Z"
   },
   {
    "duration": 5,
    "start_time": "2022-01-22T19:48:24.511Z"
   },
   {
    "duration": 17,
    "start_time": "2022-01-22T19:48:24.518Z"
   },
   {
    "duration": 4,
    "start_time": "2022-01-22T19:48:24.536Z"
   },
   {
    "duration": 33,
    "start_time": "2022-01-22T19:48:24.541Z"
   },
   {
    "duration": 4,
    "start_time": "2022-01-22T19:48:24.576Z"
   },
   {
    "duration": 5,
    "start_time": "2022-01-22T19:48:24.581Z"
   },
   {
    "duration": 9,
    "start_time": "2022-01-22T19:48:24.588Z"
   },
   {
    "duration": 2,
    "start_time": "2022-01-22T19:48:24.601Z"
   },
   {
    "duration": 9,
    "start_time": "2022-01-22T19:48:24.605Z"
   },
   {
    "duration": 10,
    "start_time": "2022-01-22T19:48:24.615Z"
   },
   {
    "duration": 71,
    "start_time": "2022-01-22T19:48:24.627Z"
   },
   {
    "duration": 18,
    "start_time": "2022-01-22T19:48:24.700Z"
   },
   {
    "duration": 7,
    "start_time": "2022-01-22T19:48:24.720Z"
   },
   {
    "duration": 12,
    "start_time": "2022-01-22T19:48:24.728Z"
   },
   {
    "duration": 3,
    "start_time": "2022-01-22T19:48:24.741Z"
   },
   {
    "duration": 37,
    "start_time": "2022-01-22T19:48:24.745Z"
   },
   {
    "duration": 5,
    "start_time": "2022-01-22T19:48:24.784Z"
   },
   {
    "duration": 28,
    "start_time": "2022-01-22T19:48:24.790Z"
   },
   {
    "duration": 25,
    "start_time": "2022-01-22T19:48:24.819Z"
   },
   {
    "duration": 3,
    "start_time": "2022-01-22T19:48:24.845Z"
   },
   {
    "duration": 764,
    "start_time": "2022-01-22T19:48:24.849Z"
   },
   {
    "duration": 74,
    "start_time": "2022-01-22T19:48:25.614Z"
   },
   {
    "duration": 695,
    "start_time": "2022-01-22T19:49:35.061Z"
   },
   {
    "duration": 589,
    "start_time": "2022-01-22T19:49:42.989Z"
   },
   {
    "duration": 2,
    "start_time": "2022-01-22T19:49:43.580Z"
   },
   {
    "duration": 68,
    "start_time": "2022-01-22T19:49:43.584Z"
   },
   {
    "duration": 458,
    "start_time": "2022-01-22T19:49:43.653Z"
   },
   {
    "duration": 3,
    "start_time": "2022-01-22T19:49:44.113Z"
   },
   {
    "duration": 4,
    "start_time": "2022-01-22T19:49:44.117Z"
   },
   {
    "duration": 116,
    "start_time": "2022-01-22T19:49:44.122Z"
   },
   {
    "duration": 22,
    "start_time": "2022-01-22T19:49:44.241Z"
   },
   {
    "duration": 8,
    "start_time": "2022-01-22T19:49:44.265Z"
   },
   {
    "duration": 7,
    "start_time": "2022-01-22T19:49:44.274Z"
   },
   {
    "duration": 53,
    "start_time": "2022-01-22T19:49:44.283Z"
   },
   {
    "duration": 13,
    "start_time": "2022-01-22T19:49:44.338Z"
   },
   {
    "duration": 41,
    "start_time": "2022-01-22T19:49:44.353Z"
   },
   {
    "duration": 14,
    "start_time": "2022-01-22T19:49:44.395Z"
   },
   {
    "duration": 3,
    "start_time": "2022-01-22T19:49:44.411Z"
   },
   {
    "duration": 5,
    "start_time": "2022-01-22T19:49:44.416Z"
   },
   {
    "duration": 15,
    "start_time": "2022-01-22T19:49:44.422Z"
   },
   {
    "duration": 34,
    "start_time": "2022-01-22T19:49:44.438Z"
   },
   {
    "duration": 5,
    "start_time": "2022-01-22T19:49:44.474Z"
   },
   {
    "duration": 5,
    "start_time": "2022-01-22T19:49:44.480Z"
   },
   {
    "duration": 5,
    "start_time": "2022-01-22T19:49:44.486Z"
   },
   {
    "duration": 14,
    "start_time": "2022-01-22T19:49:44.492Z"
   },
   {
    "duration": 5,
    "start_time": "2022-01-22T19:49:44.509Z"
   },
   {
    "duration": 8,
    "start_time": "2022-01-22T19:49:44.515Z"
   },
   {
    "duration": 9,
    "start_time": "2022-01-22T19:49:44.525Z"
   },
   {
    "duration": 59,
    "start_time": "2022-01-22T19:49:44.535Z"
   },
   {
    "duration": 18,
    "start_time": "2022-01-22T19:49:44.595Z"
   },
   {
    "duration": 7,
    "start_time": "2022-01-22T19:49:44.615Z"
   },
   {
    "duration": 9,
    "start_time": "2022-01-22T19:49:44.623Z"
   },
   {
    "duration": 4,
    "start_time": "2022-01-22T19:49:44.633Z"
   },
   {
    "duration": 44,
    "start_time": "2022-01-22T19:49:44.638Z"
   },
   {
    "duration": 5,
    "start_time": "2022-01-22T19:49:44.683Z"
   },
   {
    "duration": 28,
    "start_time": "2022-01-22T19:49:44.690Z"
   },
   {
    "duration": 24,
    "start_time": "2022-01-22T19:49:44.720Z"
   },
   {
    "duration": 3,
    "start_time": "2022-01-22T19:49:44.745Z"
   },
   {
    "duration": 875,
    "start_time": "2022-01-22T19:49:44.750Z"
   },
   {
    "duration": 17,
    "start_time": "2022-01-22T19:49:45.627Z"
   },
   {
    "duration": 3,
    "start_time": "2022-01-22T19:51:18.033Z"
   },
   {
    "duration": 597,
    "start_time": "2022-01-22T19:51:29.416Z"
   },
   {
    "duration": 383,
    "start_time": "2022-01-22T19:51:32.297Z"
   },
   {
    "duration": 1160,
    "start_time": "2022-01-22T19:51:47.744Z"
   },
   {
    "duration": 3,
    "start_time": "2022-01-22T19:53:35.024Z"
   },
   {
    "duration": 1206,
    "start_time": "2022-01-22T19:53:36.224Z"
   },
   {
    "duration": 594,
    "start_time": "2022-01-22T19:53:59.678Z"
   },
   {
    "duration": 3,
    "start_time": "2022-01-22T19:54:00.274Z"
   },
   {
    "duration": 77,
    "start_time": "2022-01-22T19:54:00.279Z"
   },
   {
    "duration": 469,
    "start_time": "2022-01-22T19:54:00.357Z"
   },
   {
    "duration": 4,
    "start_time": "2022-01-22T19:54:00.828Z"
   },
   {
    "duration": 9,
    "start_time": "2022-01-22T19:54:00.834Z"
   },
   {
    "duration": 130,
    "start_time": "2022-01-22T19:54:00.845Z"
   },
   {
    "duration": 25,
    "start_time": "2022-01-22T19:54:00.978Z"
   },
   {
    "duration": 11,
    "start_time": "2022-01-22T19:54:01.005Z"
   },
   {
    "duration": 10,
    "start_time": "2022-01-22T19:54:01.018Z"
   },
   {
    "duration": 71,
    "start_time": "2022-01-22T19:54:01.029Z"
   },
   {
    "duration": 13,
    "start_time": "2022-01-22T19:54:01.101Z"
   },
   {
    "duration": 42,
    "start_time": "2022-01-22T19:54:01.115Z"
   },
   {
    "duration": 21,
    "start_time": "2022-01-22T19:54:01.159Z"
   },
   {
    "duration": 4,
    "start_time": "2022-01-22T19:54:01.182Z"
   },
   {
    "duration": 22,
    "start_time": "2022-01-22T19:54:01.188Z"
   },
   {
    "duration": 22,
    "start_time": "2022-01-22T19:54:01.212Z"
   },
   {
    "duration": 16,
    "start_time": "2022-01-22T19:54:01.235Z"
   },
   {
    "duration": 15,
    "start_time": "2022-01-22T19:54:01.252Z"
   },
   {
    "duration": 23,
    "start_time": "2022-01-22T19:54:01.268Z"
   },
   {
    "duration": 14,
    "start_time": "2022-01-22T19:54:01.292Z"
   },
   {
    "duration": 22,
    "start_time": "2022-01-22T19:54:01.307Z"
   },
   {
    "duration": 12,
    "start_time": "2022-01-22T19:54:01.332Z"
   },
   {
    "duration": 16,
    "start_time": "2022-01-22T19:54:01.346Z"
   },
   {
    "duration": 13,
    "start_time": "2022-01-22T19:54:01.364Z"
   },
   {
    "duration": 58,
    "start_time": "2022-01-22T19:54:01.379Z"
   },
   {
    "duration": 19,
    "start_time": "2022-01-22T19:54:01.438Z"
   },
   {
    "duration": 7,
    "start_time": "2022-01-22T19:54:01.458Z"
   },
   {
    "duration": 20,
    "start_time": "2022-01-22T19:54:01.467Z"
   },
   {
    "duration": 16,
    "start_time": "2022-01-22T19:54:01.488Z"
   },
   {
    "duration": 21,
    "start_time": "2022-01-22T19:54:01.506Z"
   },
   {
    "duration": 24,
    "start_time": "2022-01-22T19:54:01.528Z"
   },
   {
    "duration": 35,
    "start_time": "2022-01-22T19:54:01.554Z"
   },
   {
    "duration": 21,
    "start_time": "2022-01-22T19:54:01.591Z"
   },
   {
    "duration": 2,
    "start_time": "2022-01-22T19:54:01.614Z"
   },
   {
    "duration": 831,
    "start_time": "2022-01-22T19:54:01.618Z"
   },
   {
    "duration": 22,
    "start_time": "2022-01-22T19:54:02.450Z"
   },
   {
    "duration": 4,
    "start_time": "2022-01-22T19:57:29.989Z"
   },
   {
    "duration": 730,
    "start_time": "2022-01-22T19:58:00.868Z"
   },
   {
    "duration": 530,
    "start_time": "2022-01-22T19:58:06.422Z"
   },
   {
    "duration": 2,
    "start_time": "2022-01-22T19:58:06.954Z"
   },
   {
    "duration": 76,
    "start_time": "2022-01-22T19:58:06.958Z"
   },
   {
    "duration": 483,
    "start_time": "2022-01-22T19:58:07.036Z"
   },
   {
    "duration": 4,
    "start_time": "2022-01-22T19:58:07.521Z"
   },
   {
    "duration": 3,
    "start_time": "2022-01-22T19:58:07.526Z"
   },
   {
    "duration": 121,
    "start_time": "2022-01-22T19:58:07.530Z"
   },
   {
    "duration": 24,
    "start_time": "2022-01-22T19:58:07.654Z"
   },
   {
    "duration": 9,
    "start_time": "2022-01-22T19:58:07.680Z"
   },
   {
    "duration": 7,
    "start_time": "2022-01-22T19:58:07.690Z"
   },
   {
    "duration": 74,
    "start_time": "2022-01-22T19:58:07.698Z"
   },
   {
    "duration": 15,
    "start_time": "2022-01-22T19:58:07.773Z"
   },
   {
    "duration": 26,
    "start_time": "2022-01-22T19:58:07.789Z"
   },
   {
    "duration": 14,
    "start_time": "2022-01-22T19:58:07.816Z"
   },
   {
    "duration": 4,
    "start_time": "2022-01-22T19:58:07.832Z"
   },
   {
    "duration": 36,
    "start_time": "2022-01-22T19:58:07.837Z"
   },
   {
    "duration": 15,
    "start_time": "2022-01-22T19:58:07.875Z"
   },
   {
    "duration": 5,
    "start_time": "2022-01-22T19:58:07.892Z"
   },
   {
    "duration": 5,
    "start_time": "2022-01-22T19:58:07.899Z"
   },
   {
    "duration": 4,
    "start_time": "2022-01-22T19:58:07.905Z"
   },
   {
    "duration": 5,
    "start_time": "2022-01-22T19:58:07.910Z"
   },
   {
    "duration": 11,
    "start_time": "2022-01-22T19:58:07.916Z"
   },
   {
    "duration": 4,
    "start_time": "2022-01-22T19:58:07.930Z"
   },
   {
    "duration": 36,
    "start_time": "2022-01-22T19:58:07.936Z"
   },
   {
    "duration": 7,
    "start_time": "2022-01-22T19:58:07.973Z"
   },
   {
    "duration": 52,
    "start_time": "2022-01-22T19:58:07.981Z"
   },
   {
    "duration": 18,
    "start_time": "2022-01-22T19:58:08.035Z"
   },
   {
    "duration": 19,
    "start_time": "2022-01-22T19:58:08.054Z"
   },
   {
    "duration": 9,
    "start_time": "2022-01-22T19:58:08.075Z"
   },
   {
    "duration": 3,
    "start_time": "2022-01-22T19:58:08.085Z"
   },
   {
    "duration": 16,
    "start_time": "2022-01-22T19:58:08.090Z"
   },
   {
    "duration": 5,
    "start_time": "2022-01-22T19:58:08.107Z"
   },
   {
    "duration": 30,
    "start_time": "2022-01-22T19:58:08.113Z"
   },
   {
    "duration": 47,
    "start_time": "2022-01-22T19:58:08.145Z"
   },
   {
    "duration": 4,
    "start_time": "2022-01-22T19:58:08.194Z"
   },
   {
    "duration": 1131,
    "start_time": "2022-01-22T19:58:08.200Z"
   },
   {
    "duration": 20,
    "start_time": "2022-01-22T19:58:09.333Z"
   },
   {
    "duration": 126,
    "start_time": "2022-01-22T19:59:06.893Z"
   },
   {
    "duration": 4,
    "start_time": "2022-01-22T19:59:12.900Z"
   },
   {
    "duration": 601,
    "start_time": "2022-01-22T19:59:16.777Z"
   },
   {
    "duration": 3,
    "start_time": "2022-01-22T19:59:17.379Z"
   },
   {
    "duration": 71,
    "start_time": "2022-01-22T19:59:17.387Z"
   },
   {
    "duration": 533,
    "start_time": "2022-01-22T19:59:17.460Z"
   },
   {
    "duration": 4,
    "start_time": "2022-01-22T19:59:17.995Z"
   },
   {
    "duration": 4,
    "start_time": "2022-01-22T19:59:18.000Z"
   },
   {
    "duration": 165,
    "start_time": "2022-01-22T19:59:18.007Z"
   },
   {
    "duration": 23,
    "start_time": "2022-01-22T19:59:18.175Z"
   },
   {
    "duration": 10,
    "start_time": "2022-01-22T19:59:18.200Z"
   },
   {
    "duration": 61,
    "start_time": "2022-01-22T19:59:18.211Z"
   },
   {
    "duration": 58,
    "start_time": "2022-01-22T19:59:18.273Z"
   },
   {
    "duration": 48,
    "start_time": "2022-01-22T19:59:18.333Z"
   },
   {
    "duration": 25,
    "start_time": "2022-01-22T19:59:18.383Z"
   },
   {
    "duration": 14,
    "start_time": "2022-01-22T19:59:18.410Z"
   },
   {
    "duration": 4,
    "start_time": "2022-01-22T19:59:18.426Z"
   },
   {
    "duration": 7,
    "start_time": "2022-01-22T19:59:18.431Z"
   },
   {
    "duration": 43,
    "start_time": "2022-01-22T19:59:18.439Z"
   },
   {
    "duration": 4,
    "start_time": "2022-01-22T19:59:18.484Z"
   },
   {
    "duration": 6,
    "start_time": "2022-01-22T19:59:18.490Z"
   },
   {
    "duration": 5,
    "start_time": "2022-01-22T19:59:18.497Z"
   },
   {
    "duration": 5,
    "start_time": "2022-01-22T19:59:18.504Z"
   },
   {
    "duration": 8,
    "start_time": "2022-01-22T19:59:18.513Z"
   },
   {
    "duration": 4,
    "start_time": "2022-01-22T19:59:18.523Z"
   },
   {
    "duration": 45,
    "start_time": "2022-01-22T19:59:18.528Z"
   },
   {
    "duration": 4,
    "start_time": "2022-01-22T19:59:18.575Z"
   },
   {
    "duration": 43,
    "start_time": "2022-01-22T19:59:18.581Z"
   },
   {
    "duration": 19,
    "start_time": "2022-01-22T19:59:18.626Z"
   },
   {
    "duration": 28,
    "start_time": "2022-01-22T19:59:18.646Z"
   },
   {
    "duration": 11,
    "start_time": "2022-01-22T19:59:18.676Z"
   },
   {
    "duration": 4,
    "start_time": "2022-01-22T19:59:18.688Z"
   },
   {
    "duration": 13,
    "start_time": "2022-01-22T19:59:18.694Z"
   },
   {
    "duration": 5,
    "start_time": "2022-01-22T19:59:18.709Z"
   },
   {
    "duration": 56,
    "start_time": "2022-01-22T19:59:18.716Z"
   },
   {
    "duration": 24,
    "start_time": "2022-01-22T19:59:18.773Z"
   },
   {
    "duration": 4,
    "start_time": "2022-01-22T19:59:18.799Z"
   },
   {
    "duration": 584,
    "start_time": "2022-01-22T19:59:18.804Z"
   },
   {
    "duration": 17,
    "start_time": "2022-01-22T19:59:19.390Z"
   },
   {
    "duration": 18,
    "start_time": "2022-01-22T19:59:37.501Z"
   },
   {
    "duration": 12,
    "start_time": "2022-01-22T20:02:15.876Z"
   },
   {
    "duration": 590,
    "start_time": "2022-01-22T20:02:24.655Z"
   },
   {
    "duration": 2,
    "start_time": "2022-01-22T20:02:25.247Z"
   },
   {
    "duration": 75,
    "start_time": "2022-01-22T20:02:25.251Z"
   },
   {
    "duration": 478,
    "start_time": "2022-01-22T20:02:25.328Z"
   },
   {
    "duration": 4,
    "start_time": "2022-01-22T20:02:25.808Z"
   },
   {
    "duration": 3,
    "start_time": "2022-01-22T20:02:25.814Z"
   },
   {
    "duration": 117,
    "start_time": "2022-01-22T20:02:25.819Z"
   },
   {
    "duration": 23,
    "start_time": "2022-01-22T20:02:25.939Z"
   },
   {
    "duration": 8,
    "start_time": "2022-01-22T20:02:25.964Z"
   },
   {
    "duration": 8,
    "start_time": "2022-01-22T20:02:25.974Z"
   },
   {
    "duration": 53,
    "start_time": "2022-01-22T20:02:25.984Z"
   },
   {
    "duration": 33,
    "start_time": "2022-01-22T20:02:26.039Z"
   },
   {
    "duration": 24,
    "start_time": "2022-01-22T20:02:26.074Z"
   },
   {
    "duration": 15,
    "start_time": "2022-01-22T20:02:26.100Z"
   },
   {
    "duration": 3,
    "start_time": "2022-01-22T20:02:26.117Z"
   },
   {
    "duration": 5,
    "start_time": "2022-01-22T20:02:26.122Z"
   },
   {
    "duration": 13,
    "start_time": "2022-01-22T20:02:26.128Z"
   },
   {
    "duration": 30,
    "start_time": "2022-01-22T20:02:26.143Z"
   },
   {
    "duration": 8,
    "start_time": "2022-01-22T20:02:26.174Z"
   },
   {
    "duration": 4,
    "start_time": "2022-01-22T20:02:26.183Z"
   },
   {
    "duration": 8,
    "start_time": "2022-01-22T20:02:26.189Z"
   },
   {
    "duration": 10,
    "start_time": "2022-01-22T20:02:26.198Z"
   },
   {
    "duration": 4,
    "start_time": "2022-01-22T20:02:26.211Z"
   },
   {
    "duration": 8,
    "start_time": "2022-01-22T20:02:26.216Z"
   },
   {
    "duration": 8,
    "start_time": "2022-01-22T20:02:26.226Z"
   },
   {
    "duration": 57,
    "start_time": "2022-01-22T20:02:26.236Z"
   },
   {
    "duration": 17,
    "start_time": "2022-01-22T20:02:26.295Z"
   },
   {
    "duration": 6,
    "start_time": "2022-01-22T20:02:26.314Z"
   },
   {
    "duration": 10,
    "start_time": "2022-01-22T20:02:26.322Z"
   },
   {
    "duration": 3,
    "start_time": "2022-01-22T20:02:26.334Z"
   },
   {
    "duration": 39,
    "start_time": "2022-01-22T20:02:26.338Z"
   },
   {
    "duration": 5,
    "start_time": "2022-01-22T20:02:26.379Z"
   },
   {
    "duration": 28,
    "start_time": "2022-01-22T20:02:26.385Z"
   },
   {
    "duration": 24,
    "start_time": "2022-01-22T20:02:26.414Z"
   },
   {
    "duration": 4,
    "start_time": "2022-01-22T20:02:26.439Z"
   },
   {
    "duration": 766,
    "start_time": "2022-01-22T20:02:26.472Z"
   },
   {
    "duration": 18,
    "start_time": "2022-01-22T20:02:27.239Z"
   },
   {
    "duration": 13,
    "start_time": "2022-01-22T20:04:27.617Z"
   },
   {
    "duration": 581,
    "start_time": "2022-01-22T20:04:33.480Z"
   },
   {
    "duration": 2,
    "start_time": "2022-01-22T20:04:34.063Z"
   },
   {
    "duration": 69,
    "start_time": "2022-01-22T20:04:34.067Z"
   },
   {
    "duration": 475,
    "start_time": "2022-01-22T20:04:34.137Z"
   },
   {
    "duration": 4,
    "start_time": "2022-01-22T20:04:34.613Z"
   },
   {
    "duration": 5,
    "start_time": "2022-01-22T20:04:34.618Z"
   },
   {
    "duration": 117,
    "start_time": "2022-01-22T20:04:34.624Z"
   },
   {
    "duration": 24,
    "start_time": "2022-01-22T20:04:34.743Z"
   },
   {
    "duration": 8,
    "start_time": "2022-01-22T20:04:34.769Z"
   },
   {
    "duration": 8,
    "start_time": "2022-01-22T20:04:34.779Z"
   },
   {
    "duration": 56,
    "start_time": "2022-01-22T20:04:34.788Z"
   },
   {
    "duration": 34,
    "start_time": "2022-01-22T20:04:34.845Z"
   },
   {
    "duration": 26,
    "start_time": "2022-01-22T20:04:34.880Z"
   },
   {
    "duration": 16,
    "start_time": "2022-01-22T20:04:34.908Z"
   },
   {
    "duration": 5,
    "start_time": "2022-01-22T20:04:34.925Z"
   },
   {
    "duration": 6,
    "start_time": "2022-01-22T20:04:34.931Z"
   },
   {
    "duration": 42,
    "start_time": "2022-01-22T20:04:34.938Z"
   },
   {
    "duration": 5,
    "start_time": "2022-01-22T20:04:34.981Z"
   },
   {
    "duration": 5,
    "start_time": "2022-01-22T20:04:34.988Z"
   },
   {
    "duration": 5,
    "start_time": "2022-01-22T20:04:34.995Z"
   },
   {
    "duration": 6,
    "start_time": "2022-01-22T20:04:35.001Z"
   },
   {
    "duration": 7,
    "start_time": "2022-01-22T20:04:35.009Z"
   },
   {
    "duration": 3,
    "start_time": "2022-01-22T20:04:35.019Z"
   },
   {
    "duration": 6,
    "start_time": "2022-01-22T20:04:35.024Z"
   },
   {
    "duration": 41,
    "start_time": "2022-01-22T20:04:35.032Z"
   },
   {
    "duration": 46,
    "start_time": "2022-01-22T20:04:35.074Z"
   },
   {
    "duration": 17,
    "start_time": "2022-01-22T20:04:35.122Z"
   },
   {
    "duration": 7,
    "start_time": "2022-01-22T20:04:35.141Z"
   },
   {
    "duration": 30,
    "start_time": "2022-01-22T20:04:35.149Z"
   },
   {
    "duration": 3,
    "start_time": "2022-01-22T20:04:35.181Z"
   },
   {
    "duration": 14,
    "start_time": "2022-01-22T20:04:35.185Z"
   },
   {
    "duration": 5,
    "start_time": "2022-01-22T20:04:35.201Z"
   },
   {
    "duration": 27,
    "start_time": "2022-01-22T20:04:35.207Z"
   },
   {
    "duration": 43,
    "start_time": "2022-01-22T20:04:35.236Z"
   },
   {
    "duration": 20,
    "start_time": "2022-01-22T20:05:45.451Z"
   },
   {
    "duration": 7,
    "start_time": "2022-01-22T20:07:36.355Z"
   },
   {
    "duration": 6,
    "start_time": "2022-01-22T20:10:35.552Z"
   },
   {
    "duration": 6,
    "start_time": "2022-01-22T20:10:42.106Z"
   },
   {
    "duration": 5,
    "start_time": "2022-01-22T20:12:10.250Z"
   },
   {
    "duration": 9,
    "start_time": "2022-01-22T20:14:35.402Z"
   },
   {
    "duration": 24,
    "start_time": "2022-01-22T20:14:43.513Z"
   },
   {
    "duration": 108,
    "start_time": "2022-01-22T20:18:36.675Z"
   },
   {
    "duration": 10,
    "start_time": "2022-01-22T20:19:03.480Z"
   },
   {
    "duration": 11,
    "start_time": "2022-01-22T20:19:28.265Z"
   },
   {
    "duration": 590,
    "start_time": "2022-01-22T20:19:35.271Z"
   },
   {
    "duration": 3,
    "start_time": "2022-01-22T20:19:35.862Z"
   },
   {
    "duration": 71,
    "start_time": "2022-01-22T20:19:35.869Z"
   },
   {
    "duration": 472,
    "start_time": "2022-01-22T20:19:35.942Z"
   },
   {
    "duration": 4,
    "start_time": "2022-01-22T20:19:36.416Z"
   },
   {
    "duration": 3,
    "start_time": "2022-01-22T20:19:36.421Z"
   },
   {
    "duration": 118,
    "start_time": "2022-01-22T20:19:36.427Z"
   },
   {
    "duration": 23,
    "start_time": "2022-01-22T20:19:36.547Z"
   },
   {
    "duration": 9,
    "start_time": "2022-01-22T20:19:36.571Z"
   },
   {
    "duration": 7,
    "start_time": "2022-01-22T20:19:36.582Z"
   },
   {
    "duration": 55,
    "start_time": "2022-01-22T20:19:36.590Z"
   },
   {
    "duration": 30,
    "start_time": "2022-01-22T20:19:36.647Z"
   },
   {
    "duration": 26,
    "start_time": "2022-01-22T20:19:36.678Z"
   },
   {
    "duration": 16,
    "start_time": "2022-01-22T20:19:36.706Z"
   },
   {
    "duration": 4,
    "start_time": "2022-01-22T20:19:36.724Z"
   },
   {
    "duration": 6,
    "start_time": "2022-01-22T20:19:36.729Z"
   },
   {
    "duration": 45,
    "start_time": "2022-01-22T20:19:36.736Z"
   },
   {
    "duration": 4,
    "start_time": "2022-01-22T20:19:36.783Z"
   },
   {
    "duration": 6,
    "start_time": "2022-01-22T20:19:36.789Z"
   },
   {
    "duration": 5,
    "start_time": "2022-01-22T20:19:36.796Z"
   },
   {
    "duration": 5,
    "start_time": "2022-01-22T20:19:36.802Z"
   },
   {
    "duration": 9,
    "start_time": "2022-01-22T20:19:36.809Z"
   },
   {
    "duration": 4,
    "start_time": "2022-01-22T20:19:36.820Z"
   },
   {
    "duration": 8,
    "start_time": "2022-01-22T20:19:36.826Z"
   },
   {
    "duration": 14,
    "start_time": "2022-01-22T20:19:36.836Z"
   },
   {
    "duration": 45,
    "start_time": "2022-01-22T20:19:36.872Z"
   },
   {
    "duration": 20,
    "start_time": "2022-01-22T20:19:36.918Z"
   },
   {
    "duration": 8,
    "start_time": "2022-01-22T20:19:36.940Z"
   },
   {
    "duration": 11,
    "start_time": "2022-01-22T20:19:36.972Z"
   },
   {
    "duration": 4,
    "start_time": "2022-01-22T20:19:36.985Z"
   },
   {
    "duration": 16,
    "start_time": "2022-01-22T20:19:36.991Z"
   },
   {
    "duration": 7,
    "start_time": "2022-01-22T20:19:37.008Z"
   },
   {
    "duration": 58,
    "start_time": "2022-01-22T20:19:37.017Z"
   },
   {
    "duration": 25,
    "start_time": "2022-01-22T20:19:37.077Z"
   },
   {
    "duration": 12,
    "start_time": "2022-01-22T20:19:37.103Z"
   },
   {
    "duration": 56,
    "start_time": "2022-01-22T20:19:37.117Z"
   },
   {
    "duration": 19,
    "start_time": "2022-01-22T20:20:04.256Z"
   },
   {
    "duration": 12,
    "start_time": "2022-01-22T20:20:24.232Z"
   },
   {
    "duration": 12,
    "start_time": "2022-01-22T20:20:36.152Z"
   },
   {
    "duration": 577,
    "start_time": "2022-01-22T20:20:40.590Z"
   },
   {
    "duration": 3,
    "start_time": "2022-01-22T20:20:41.168Z"
   },
   {
    "duration": 71,
    "start_time": "2022-01-22T20:20:41.172Z"
   },
   {
    "duration": 461,
    "start_time": "2022-01-22T20:20:41.244Z"
   },
   {
    "duration": 4,
    "start_time": "2022-01-22T20:20:41.707Z"
   },
   {
    "duration": 3,
    "start_time": "2022-01-22T20:20:41.712Z"
   },
   {
    "duration": 116,
    "start_time": "2022-01-22T20:20:41.717Z"
   },
   {
    "duration": 22,
    "start_time": "2022-01-22T20:20:41.835Z"
   },
   {
    "duration": 8,
    "start_time": "2022-01-22T20:20:41.859Z"
   },
   {
    "duration": 6,
    "start_time": "2022-01-22T20:20:41.869Z"
   },
   {
    "duration": 55,
    "start_time": "2022-01-22T20:20:41.877Z"
   },
   {
    "duration": 14,
    "start_time": "2022-01-22T20:20:41.933Z"
   },
   {
    "duration": 41,
    "start_time": "2022-01-22T20:20:41.949Z"
   },
   {
    "duration": 13,
    "start_time": "2022-01-22T20:20:41.992Z"
   },
   {
    "duration": 9,
    "start_time": "2022-01-22T20:20:42.006Z"
   },
   {
    "duration": 28,
    "start_time": "2022-01-22T20:20:42.017Z"
   },
   {
    "duration": 31,
    "start_time": "2022-01-22T20:20:42.047Z"
   },
   {
    "duration": 6,
    "start_time": "2022-01-22T20:20:42.079Z"
   },
   {
    "duration": 29,
    "start_time": "2022-01-22T20:20:42.086Z"
   },
   {
    "duration": 25,
    "start_time": "2022-01-22T20:20:42.116Z"
   },
   {
    "duration": 30,
    "start_time": "2022-01-22T20:20:42.143Z"
   },
   {
    "duration": 30,
    "start_time": "2022-01-22T20:20:42.174Z"
   },
   {
    "duration": 20,
    "start_time": "2022-01-22T20:20:42.207Z"
   },
   {
    "duration": 23,
    "start_time": "2022-01-22T20:20:42.229Z"
   },
   {
    "duration": 19,
    "start_time": "2022-01-22T20:20:42.254Z"
   },
   {
    "duration": 66,
    "start_time": "2022-01-22T20:20:42.274Z"
   },
   {
    "duration": 19,
    "start_time": "2022-01-22T20:20:42.342Z"
   },
   {
    "duration": 11,
    "start_time": "2022-01-22T20:20:42.362Z"
   },
   {
    "duration": 24,
    "start_time": "2022-01-22T20:20:42.375Z"
   },
   {
    "duration": 12,
    "start_time": "2022-01-22T20:20:42.401Z"
   },
   {
    "duration": 25,
    "start_time": "2022-01-22T20:20:42.415Z"
   },
   {
    "duration": 27,
    "start_time": "2022-01-22T20:20:42.442Z"
   },
   {
    "duration": 47,
    "start_time": "2022-01-22T20:20:42.470Z"
   },
   {
    "duration": 41,
    "start_time": "2022-01-22T20:20:42.519Z"
   },
   {
    "duration": 10,
    "start_time": "2022-01-22T20:20:42.562Z"
   },
   {
    "duration": 36,
    "start_time": "2022-01-22T20:20:42.574Z"
   },
   {
    "duration": 548,
    "start_time": "2022-01-22T20:25:32.324Z"
   },
   {
    "duration": 2,
    "start_time": "2022-01-22T20:25:32.874Z"
   },
   {
    "duration": 71,
    "start_time": "2022-01-22T20:25:32.878Z"
   },
   {
    "duration": 463,
    "start_time": "2022-01-22T20:25:32.951Z"
   },
   {
    "duration": 4,
    "start_time": "2022-01-22T20:25:33.415Z"
   },
   {
    "duration": 3,
    "start_time": "2022-01-22T20:25:33.421Z"
   },
   {
    "duration": 119,
    "start_time": "2022-01-22T20:25:33.425Z"
   },
   {
    "duration": 24,
    "start_time": "2022-01-22T20:25:33.547Z"
   },
   {
    "duration": 8,
    "start_time": "2022-01-22T20:25:33.573Z"
   },
   {
    "duration": 6,
    "start_time": "2022-01-22T20:25:33.583Z"
   },
   {
    "duration": 103,
    "start_time": "2022-01-22T20:25:33.591Z"
   },
   {
    "duration": 14,
    "start_time": "2022-01-22T20:25:33.696Z"
   },
   {
    "duration": 79,
    "start_time": "2022-01-22T20:25:33.711Z"
   },
   {
    "duration": 14,
    "start_time": "2022-01-22T20:25:33.792Z"
   },
   {
    "duration": 4,
    "start_time": "2022-01-22T20:25:33.808Z"
   },
   {
    "duration": 60,
    "start_time": "2022-01-22T20:25:33.814Z"
   },
   {
    "duration": 23,
    "start_time": "2022-01-22T20:25:33.876Z"
   },
   {
    "duration": 5,
    "start_time": "2022-01-22T20:25:33.901Z"
   },
   {
    "duration": 5,
    "start_time": "2022-01-22T20:25:33.908Z"
   },
   {
    "duration": 5,
    "start_time": "2022-01-22T20:25:33.971Z"
   },
   {
    "duration": 5,
    "start_time": "2022-01-22T20:25:33.978Z"
   },
   {
    "duration": 9,
    "start_time": "2022-01-22T20:25:33.985Z"
   },
   {
    "duration": 4,
    "start_time": "2022-01-22T20:25:33.998Z"
   },
   {
    "duration": 5,
    "start_time": "2022-01-22T20:25:34.004Z"
   },
   {
    "duration": 5,
    "start_time": "2022-01-22T20:25:34.010Z"
   },
   {
    "duration": 94,
    "start_time": "2022-01-22T20:25:34.017Z"
   },
   {
    "duration": 18,
    "start_time": "2022-01-22T20:25:34.113Z"
   },
   {
    "duration": 7,
    "start_time": "2022-01-22T20:25:34.132Z"
   },
   {
    "duration": 42,
    "start_time": "2022-01-22T20:25:34.140Z"
   },
   {
    "duration": 3,
    "start_time": "2022-01-22T20:25:34.184Z"
   },
   {
    "duration": 13,
    "start_time": "2022-01-22T20:25:34.189Z"
   },
   {
    "duration": 4,
    "start_time": "2022-01-22T20:25:34.204Z"
   },
   {
    "duration": 26,
    "start_time": "2022-01-22T20:25:34.210Z"
   },
   {
    "duration": 49,
    "start_time": "2022-01-22T20:25:34.238Z"
   },
   {
    "duration": 10,
    "start_time": "2022-01-22T20:25:34.289Z"
   },
   {
    "duration": 11,
    "start_time": "2022-01-22T20:25:34.301Z"
   },
   {
    "duration": 600,
    "start_time": "2022-01-22T20:30:35.548Z"
   },
   {
    "duration": 2,
    "start_time": "2022-01-22T20:30:36.150Z"
   },
   {
    "duration": 75,
    "start_time": "2022-01-22T20:30:36.154Z"
   },
   {
    "duration": 484,
    "start_time": "2022-01-22T20:30:36.231Z"
   },
   {
    "duration": 4,
    "start_time": "2022-01-22T20:30:36.716Z"
   },
   {
    "duration": 4,
    "start_time": "2022-01-22T20:30:36.721Z"
   },
   {
    "duration": 120,
    "start_time": "2022-01-22T20:30:36.726Z"
   },
   {
    "duration": 22,
    "start_time": "2022-01-22T20:30:36.849Z"
   },
   {
    "duration": 8,
    "start_time": "2022-01-22T20:30:36.873Z"
   },
   {
    "duration": 7,
    "start_time": "2022-01-22T20:30:36.883Z"
   },
   {
    "duration": 54,
    "start_time": "2022-01-22T20:30:36.892Z"
   },
   {
    "duration": 30,
    "start_time": "2022-01-22T20:30:36.948Z"
   },
   {
    "duration": 27,
    "start_time": "2022-01-22T20:30:36.980Z"
   },
   {
    "duration": 15,
    "start_time": "2022-01-22T20:30:37.008Z"
   },
   {
    "duration": 3,
    "start_time": "2022-01-22T20:30:37.025Z"
   },
   {
    "duration": 7,
    "start_time": "2022-01-22T20:30:37.030Z"
   },
   {
    "duration": 44,
    "start_time": "2022-01-22T20:30:37.039Z"
   },
   {
    "duration": 4,
    "start_time": "2022-01-22T20:30:37.084Z"
   },
   {
    "duration": 6,
    "start_time": "2022-01-22T20:30:37.089Z"
   },
   {
    "duration": 5,
    "start_time": "2022-01-22T20:30:37.096Z"
   },
   {
    "duration": 7,
    "start_time": "2022-01-22T20:30:37.103Z"
   },
   {
    "duration": 11,
    "start_time": "2022-01-22T20:30:37.112Z"
   },
   {
    "duration": 4,
    "start_time": "2022-01-22T20:30:37.126Z"
   },
   {
    "duration": 13,
    "start_time": "2022-01-22T20:30:37.131Z"
   },
   {
    "duration": 25,
    "start_time": "2022-01-22T20:30:37.146Z"
   },
   {
    "duration": 44,
    "start_time": "2022-01-22T20:30:37.173Z"
   },
   {
    "duration": 19,
    "start_time": "2022-01-22T20:30:37.218Z"
   },
   {
    "duration": 6,
    "start_time": "2022-01-22T20:30:37.238Z"
   },
   {
    "duration": 33,
    "start_time": "2022-01-22T20:30:37.246Z"
   },
   {
    "duration": 3,
    "start_time": "2022-01-22T20:30:37.280Z"
   },
   {
    "duration": 15,
    "start_time": "2022-01-22T20:30:37.285Z"
   },
   {
    "duration": 5,
    "start_time": "2022-01-22T20:30:37.302Z"
   },
   {
    "duration": 30,
    "start_time": "2022-01-22T20:30:37.308Z"
   },
   {
    "duration": 6,
    "start_time": "2022-01-22T20:30:37.340Z"
   },
   {
    "duration": 32,
    "start_time": "2022-01-22T20:30:37.348Z"
   },
   {
    "duration": 24,
    "start_time": "2022-01-22T20:30:37.382Z"
   },
   {
    "duration": 13,
    "start_time": "2022-01-22T20:32:22.240Z"
   },
   {
    "duration": 618,
    "start_time": "2022-01-22T20:32:27.047Z"
   },
   {
    "duration": 2,
    "start_time": "2022-01-22T20:32:27.666Z"
   },
   {
    "duration": 70,
    "start_time": "2022-01-22T20:32:27.670Z"
   },
   {
    "duration": 472,
    "start_time": "2022-01-22T20:32:27.742Z"
   },
   {
    "duration": 3,
    "start_time": "2022-01-22T20:32:28.215Z"
   },
   {
    "duration": 3,
    "start_time": "2022-01-22T20:32:28.220Z"
   },
   {
    "duration": 99,
    "start_time": "2022-01-22T20:32:28.225Z"
   },
   {
    "duration": 22,
    "start_time": "2022-01-22T20:32:28.326Z"
   },
   {
    "duration": 9,
    "start_time": "2022-01-22T20:32:28.350Z"
   },
   {
    "duration": 7,
    "start_time": "2022-01-22T20:32:28.361Z"
   },
   {
    "duration": 55,
    "start_time": "2022-01-22T20:32:28.370Z"
   },
   {
    "duration": 14,
    "start_time": "2022-01-22T20:32:28.426Z"
   },
   {
    "duration": 37,
    "start_time": "2022-01-22T20:32:28.442Z"
   },
   {
    "duration": 13,
    "start_time": "2022-01-22T20:32:28.481Z"
   },
   {
    "duration": 4,
    "start_time": "2022-01-22T20:32:28.496Z"
   },
   {
    "duration": 6,
    "start_time": "2022-01-22T20:32:28.501Z"
   },
   {
    "duration": 16,
    "start_time": "2022-01-22T20:32:28.508Z"
   },
   {
    "duration": 5,
    "start_time": "2022-01-22T20:32:28.525Z"
   },
   {
    "duration": 5,
    "start_time": "2022-01-22T20:32:28.531Z"
   },
   {
    "duration": 37,
    "start_time": "2022-01-22T20:32:28.537Z"
   },
   {
    "duration": 4,
    "start_time": "2022-01-22T20:32:28.576Z"
   },
   {
    "duration": 10,
    "start_time": "2022-01-22T20:32:28.582Z"
   },
   {
    "duration": 3,
    "start_time": "2022-01-22T20:32:28.595Z"
   },
   {
    "duration": 8,
    "start_time": "2022-01-22T20:32:28.600Z"
   },
   {
    "duration": 8,
    "start_time": "2022-01-22T20:32:28.610Z"
   },
   {
    "duration": 57,
    "start_time": "2022-01-22T20:32:28.619Z"
   },
   {
    "duration": 19,
    "start_time": "2022-01-22T20:32:28.677Z"
   },
   {
    "duration": 7,
    "start_time": "2022-01-22T20:32:28.698Z"
   },
   {
    "duration": 10,
    "start_time": "2022-01-22T20:32:28.706Z"
   },
   {
    "duration": 3,
    "start_time": "2022-01-22T20:32:28.718Z"
   },
   {
    "duration": 18,
    "start_time": "2022-01-22T20:32:28.722Z"
   },
   {
    "duration": 31,
    "start_time": "2022-01-22T20:32:28.742Z"
   },
   {
    "duration": 30,
    "start_time": "2022-01-22T20:32:28.775Z"
   },
   {
    "duration": 23,
    "start_time": "2022-01-22T20:32:28.807Z"
   },
   {
    "duration": 9,
    "start_time": "2022-01-22T20:32:28.832Z"
   },
   {
    "duration": 47,
    "start_time": "2022-01-22T20:32:28.843Z"
   },
   {
    "duration": 12,
    "start_time": "2022-01-22T20:33:18.419Z"
   },
   {
    "duration": 617,
    "start_time": "2022-01-22T20:33:25.739Z"
   },
   {
    "duration": 2,
    "start_time": "2022-01-22T20:33:26.358Z"
   },
   {
    "duration": 74,
    "start_time": "2022-01-22T20:33:26.363Z"
   },
   {
    "duration": 479,
    "start_time": "2022-01-22T20:33:26.439Z"
   },
   {
    "duration": 5,
    "start_time": "2022-01-22T20:33:26.919Z"
   },
   {
    "duration": 3,
    "start_time": "2022-01-22T20:33:26.926Z"
   },
   {
    "duration": 97,
    "start_time": "2022-01-22T20:33:26.931Z"
   },
   {
    "duration": 23,
    "start_time": "2022-01-22T20:33:27.030Z"
   },
   {
    "duration": 10,
    "start_time": "2022-01-22T20:33:27.055Z"
   },
   {
    "duration": 9,
    "start_time": "2022-01-22T20:33:27.067Z"
   },
   {
    "duration": 56,
    "start_time": "2022-01-22T20:33:27.078Z"
   },
   {
    "duration": 14,
    "start_time": "2022-01-22T20:33:27.136Z"
   },
   {
    "duration": 28,
    "start_time": "2022-01-22T20:33:27.171Z"
   },
   {
    "duration": 16,
    "start_time": "2022-01-22T20:33:27.201Z"
   },
   {
    "duration": 6,
    "start_time": "2022-01-22T20:33:27.218Z"
   },
   {
    "duration": 7,
    "start_time": "2022-01-22T20:33:27.226Z"
   },
   {
    "duration": 50,
    "start_time": "2022-01-22T20:33:27.235Z"
   },
   {
    "duration": 5,
    "start_time": "2022-01-22T20:33:27.287Z"
   },
   {
    "duration": 5,
    "start_time": "2022-01-22T20:33:27.293Z"
   },
   {
    "duration": 3,
    "start_time": "2022-01-22T20:33:27.300Z"
   },
   {
    "duration": 5,
    "start_time": "2022-01-22T20:33:27.305Z"
   },
   {
    "duration": 7,
    "start_time": "2022-01-22T20:33:27.311Z"
   },
   {
    "duration": 3,
    "start_time": "2022-01-22T20:33:27.321Z"
   },
   {
    "duration": 9,
    "start_time": "2022-01-22T20:33:27.326Z"
   },
   {
    "duration": 36,
    "start_time": "2022-01-22T20:33:27.337Z"
   },
   {
    "duration": 47,
    "start_time": "2022-01-22T20:33:27.374Z"
   },
   {
    "duration": 18,
    "start_time": "2022-01-22T20:33:27.423Z"
   },
   {
    "duration": 7,
    "start_time": "2022-01-22T20:33:27.443Z"
   },
   {
    "duration": 10,
    "start_time": "2022-01-22T20:33:27.472Z"
   },
   {
    "duration": 3,
    "start_time": "2022-01-22T20:33:27.483Z"
   },
   {
    "duration": 18,
    "start_time": "2022-01-22T20:33:27.488Z"
   },
   {
    "duration": 5,
    "start_time": "2022-01-22T20:33:27.507Z"
   },
   {
    "duration": 74,
    "start_time": "2022-01-22T20:33:27.514Z"
   },
   {
    "duration": 24,
    "start_time": "2022-01-22T20:33:27.590Z"
   },
   {
    "duration": 62,
    "start_time": "2022-01-22T20:33:27.615Z"
   },
   {
    "duration": 12,
    "start_time": "2022-01-22T20:33:27.678Z"
   },
   {
    "duration": 94,
    "start_time": "2022-01-22T20:33:27.692Z"
   },
   {
    "duration": 4,
    "start_time": "2022-01-22T20:38:57.177Z"
   },
   {
    "duration": 19,
    "start_time": "2022-01-22T20:39:24.183Z"
   },
   {
    "duration": 18,
    "start_time": "2022-01-22T20:39:28.192Z"
   },
   {
    "duration": 5,
    "start_time": "2022-01-22T20:41:31.071Z"
   },
   {
    "duration": 18,
    "start_time": "2022-01-22T20:41:33.791Z"
   },
   {
    "duration": 552,
    "start_time": "2022-01-22T20:41:50.025Z"
   },
   {
    "duration": 3,
    "start_time": "2022-01-22T20:41:50.578Z"
   },
   {
    "duration": 85,
    "start_time": "2022-01-22T20:41:50.582Z"
   },
   {
    "duration": 455,
    "start_time": "2022-01-22T20:41:50.669Z"
   },
   {
    "duration": 4,
    "start_time": "2022-01-22T20:41:51.126Z"
   },
   {
    "duration": 3,
    "start_time": "2022-01-22T20:41:51.131Z"
   },
   {
    "duration": 96,
    "start_time": "2022-01-22T20:41:51.135Z"
   },
   {
    "duration": 21,
    "start_time": "2022-01-22T20:41:51.234Z"
   },
   {
    "duration": 8,
    "start_time": "2022-01-22T20:41:51.257Z"
   },
   {
    "duration": 7,
    "start_time": "2022-01-22T20:41:51.266Z"
   },
   {
    "duration": 52,
    "start_time": "2022-01-22T20:41:51.274Z"
   },
   {
    "duration": 13,
    "start_time": "2022-01-22T20:41:51.328Z"
   },
   {
    "duration": 37,
    "start_time": "2022-01-22T20:41:51.342Z"
   },
   {
    "duration": 15,
    "start_time": "2022-01-22T20:41:51.380Z"
   },
   {
    "duration": 3,
    "start_time": "2022-01-22T20:41:51.397Z"
   },
   {
    "duration": 6,
    "start_time": "2022-01-22T20:41:51.402Z"
   },
   {
    "duration": 14,
    "start_time": "2022-01-22T20:41:51.409Z"
   },
   {
    "duration": 4,
    "start_time": "2022-01-22T20:41:51.424Z"
   },
   {
    "duration": 5,
    "start_time": "2022-01-22T20:41:51.429Z"
   },
   {
    "duration": 37,
    "start_time": "2022-01-22T20:41:51.436Z"
   },
   {
    "duration": 5,
    "start_time": "2022-01-22T20:41:51.474Z"
   },
   {
    "duration": 9,
    "start_time": "2022-01-22T20:41:51.480Z"
   },
   {
    "duration": 4,
    "start_time": "2022-01-22T20:41:51.492Z"
   },
   {
    "duration": 8,
    "start_time": "2022-01-22T20:41:51.498Z"
   },
   {
    "duration": 8,
    "start_time": "2022-01-22T20:41:51.508Z"
   },
   {
    "duration": 54,
    "start_time": "2022-01-22T20:41:51.517Z"
   },
   {
    "duration": 16,
    "start_time": "2022-01-22T20:41:51.573Z"
   },
   {
    "duration": 6,
    "start_time": "2022-01-22T20:41:51.591Z"
   },
   {
    "duration": 9,
    "start_time": "2022-01-22T20:41:51.599Z"
   },
   {
    "duration": 3,
    "start_time": "2022-01-22T20:41:51.609Z"
   },
   {
    "duration": 17,
    "start_time": "2022-01-22T20:41:51.613Z"
   },
   {
    "duration": 4,
    "start_time": "2022-01-22T20:41:51.631Z"
   },
   {
    "duration": 54,
    "start_time": "2022-01-22T20:41:51.637Z"
   },
   {
    "duration": 22,
    "start_time": "2022-01-22T20:41:51.692Z"
   },
   {
    "duration": 5,
    "start_time": "2022-01-22T20:41:51.716Z"
   },
   {
    "duration": 11,
    "start_time": "2022-01-22T20:41:51.722Z"
   },
   {
    "duration": 42,
    "start_time": "2022-01-22T20:41:51.734Z"
   },
   {
    "duration": 4,
    "start_time": "2022-01-22T20:41:51.777Z"
   },
   {
    "duration": 16,
    "start_time": "2022-01-22T20:41:51.783Z"
   },
   {
    "duration": 5,
    "start_time": "2022-01-22T20:47:44.885Z"
   },
   {
    "duration": 17,
    "start_time": "2022-01-22T20:47:52.525Z"
   },
   {
    "duration": 36,
    "start_time": "2022-01-22T20:48:38.797Z"
   },
   {
    "duration": 5,
    "start_time": "2022-01-22T20:49:04.765Z"
   },
   {
    "duration": 40,
    "start_time": "2022-01-22T20:49:05.613Z"
   },
   {
    "duration": 8,
    "start_time": "2022-01-22T20:49:22.133Z"
   },
   {
    "duration": 36,
    "start_time": "2022-01-22T20:49:26.645Z"
   },
   {
    "duration": 592,
    "start_time": "2022-01-22T20:53:30.631Z"
   },
   {
    "duration": 2,
    "start_time": "2022-01-22T20:53:31.225Z"
   },
   {
    "duration": 78,
    "start_time": "2022-01-22T20:53:31.229Z"
   },
   {
    "duration": 481,
    "start_time": "2022-01-22T20:53:31.309Z"
   },
   {
    "duration": 4,
    "start_time": "2022-01-22T20:53:31.792Z"
   },
   {
    "duration": 4,
    "start_time": "2022-01-22T20:53:31.797Z"
   },
   {
    "duration": 94,
    "start_time": "2022-01-22T20:53:31.802Z"
   },
   {
    "duration": 22,
    "start_time": "2022-01-22T20:53:31.899Z"
   },
   {
    "duration": 8,
    "start_time": "2022-01-22T20:53:31.923Z"
   },
   {
    "duration": 7,
    "start_time": "2022-01-22T20:53:31.933Z"
   },
   {
    "duration": 55,
    "start_time": "2022-01-22T20:53:31.941Z"
   },
   {
    "duration": 14,
    "start_time": "2022-01-22T20:53:31.997Z"
   },
   {
    "duration": 29,
    "start_time": "2022-01-22T20:53:32.013Z"
   },
   {
    "duration": 31,
    "start_time": "2022-01-22T20:53:32.044Z"
   },
   {
    "duration": 4,
    "start_time": "2022-01-22T20:53:32.077Z"
   },
   {
    "duration": 7,
    "start_time": "2022-01-22T20:53:32.082Z"
   },
   {
    "duration": 20,
    "start_time": "2022-01-22T20:53:32.091Z"
   },
   {
    "duration": 5,
    "start_time": "2022-01-22T20:53:32.113Z"
   },
   {
    "duration": 5,
    "start_time": "2022-01-22T20:53:32.120Z"
   },
   {
    "duration": 6,
    "start_time": "2022-01-22T20:53:32.127Z"
   },
   {
    "duration": 40,
    "start_time": "2022-01-22T20:53:32.135Z"
   },
   {
    "duration": 8,
    "start_time": "2022-01-22T20:53:32.177Z"
   },
   {
    "duration": 4,
    "start_time": "2022-01-22T20:53:32.189Z"
   },
   {
    "duration": 15,
    "start_time": "2022-01-22T20:53:32.195Z"
   },
   {
    "duration": 10,
    "start_time": "2022-01-22T20:53:32.211Z"
   },
   {
    "duration": 57,
    "start_time": "2022-01-22T20:53:32.222Z"
   },
   {
    "duration": 16,
    "start_time": "2022-01-22T20:53:32.280Z"
   },
   {
    "duration": 7,
    "start_time": "2022-01-22T20:53:32.298Z"
   },
   {
    "duration": 10,
    "start_time": "2022-01-22T20:53:32.306Z"
   },
   {
    "duration": 3,
    "start_time": "2022-01-22T20:53:32.318Z"
   },
   {
    "duration": 16,
    "start_time": "2022-01-22T20:53:32.322Z"
   },
   {
    "duration": 6,
    "start_time": "2022-01-22T20:53:32.340Z"
   },
   {
    "duration": 25,
    "start_time": "2022-01-22T20:53:32.372Z"
   },
   {
    "duration": 23,
    "start_time": "2022-01-22T20:53:32.398Z"
   },
   {
    "duration": 5,
    "start_time": "2022-01-22T20:53:32.423Z"
   },
   {
    "duration": 13,
    "start_time": "2022-01-22T20:53:32.429Z"
   },
   {
    "duration": 51,
    "start_time": "2022-01-22T20:53:32.444Z"
   },
   {
    "duration": 4,
    "start_time": "2022-01-22T20:53:32.496Z"
   },
   {
    "duration": 4,
    "start_time": "2022-01-22T20:53:32.501Z"
   },
   {
    "duration": 38,
    "start_time": "2022-01-22T20:53:32.507Z"
   },
   {
    "duration": 803,
    "start_time": "2022-01-23T06:30:53.138Z"
   },
   {
    "duration": 3,
    "start_time": "2022-01-23T06:30:53.944Z"
   },
   {
    "duration": 131,
    "start_time": "2022-01-23T06:30:53.950Z"
   },
   {
    "duration": 630,
    "start_time": "2022-01-23T06:30:54.083Z"
   },
   {
    "duration": 6,
    "start_time": "2022-01-23T06:30:54.715Z"
   },
   {
    "duration": 10,
    "start_time": "2022-01-23T06:30:54.724Z"
   },
   {
    "duration": 285,
    "start_time": "2022-01-23T06:30:54.736Z"
   },
   {
    "duration": 36,
    "start_time": "2022-01-23T06:30:55.025Z"
   },
   {
    "duration": 15,
    "start_time": "2022-01-23T06:30:55.064Z"
   },
   {
    "duration": 11,
    "start_time": "2022-01-23T06:30:55.081Z"
   },
   {
    "duration": 123,
    "start_time": "2022-01-23T06:30:55.094Z"
   },
   {
    "duration": 33,
    "start_time": "2022-01-23T06:30:55.219Z"
   },
   {
    "duration": 53,
    "start_time": "2022-01-23T06:30:55.255Z"
   },
   {
    "duration": 40,
    "start_time": "2022-01-23T06:30:55.311Z"
   },
   {
    "duration": 6,
    "start_time": "2022-01-23T06:30:55.353Z"
   },
   {
    "duration": 14,
    "start_time": "2022-01-23T06:30:55.362Z"
   },
   {
    "duration": 54,
    "start_time": "2022-01-23T06:30:55.378Z"
   },
   {
    "duration": 6,
    "start_time": "2022-01-23T06:30:55.435Z"
   },
   {
    "duration": 13,
    "start_time": "2022-01-23T06:30:55.443Z"
   },
   {
    "duration": 6,
    "start_time": "2022-01-23T06:30:55.458Z"
   },
   {
    "duration": 8,
    "start_time": "2022-01-23T06:30:55.466Z"
   },
   {
    "duration": 12,
    "start_time": "2022-01-23T06:30:55.476Z"
   },
   {
    "duration": 42,
    "start_time": "2022-01-23T06:30:55.492Z"
   },
   {
    "duration": 19,
    "start_time": "2022-01-23T06:30:55.537Z"
   },
   {
    "duration": 8,
    "start_time": "2022-01-23T06:30:55.558Z"
   },
   {
    "duration": 82,
    "start_time": "2022-01-23T06:30:55.569Z"
   },
   {
    "duration": 28,
    "start_time": "2022-01-23T06:30:55.653Z"
   },
   {
    "duration": 9,
    "start_time": "2022-01-23T06:30:55.684Z"
   },
   {
    "duration": 39,
    "start_time": "2022-01-23T06:30:55.695Z"
   },
   {
    "duration": 4,
    "start_time": "2022-01-23T06:30:55.736Z"
   },
   {
    "duration": 19,
    "start_time": "2022-01-23T06:30:55.743Z"
   },
   {
    "duration": 7,
    "start_time": "2022-01-23T06:30:55.765Z"
   },
   {
    "duration": 73,
    "start_time": "2022-01-23T06:30:55.774Z"
   },
   {
    "duration": 40,
    "start_time": "2022-01-23T06:30:55.850Z"
   },
   {
    "duration": 11,
    "start_time": "2022-01-23T06:30:55.893Z"
   },
   {
    "duration": 39,
    "start_time": "2022-01-23T06:30:55.906Z"
   },
   {
    "duration": 43,
    "start_time": "2022-01-23T06:30:55.948Z"
   },
   {
    "duration": 5,
    "start_time": "2022-01-23T06:30:55.993Z"
   },
   {
    "duration": 35,
    "start_time": "2022-01-23T06:30:56.000Z"
   },
   {
    "duration": 65,
    "start_time": "2022-01-23T06:30:56.037Z"
   },
   {
    "duration": 898,
    "start_time": "2022-01-23T06:36:57.035Z"
   },
   {
    "duration": 1383,
    "start_time": "2022-01-23T06:37:26.124Z"
   },
   {
    "duration": 923,
    "start_time": "2022-01-23T07:05:09.929Z"
   },
   {
    "duration": 31,
    "start_time": "2022-01-23T07:11:20.535Z"
   },
   {
    "duration": 4,
    "start_time": "2022-01-23T07:12:11.617Z"
   },
   {
    "duration": 2393,
    "start_time": "2022-01-23T07:13:35.648Z"
   },
   {
    "duration": 31,
    "start_time": "2022-01-23T07:13:57.280Z"
   },
   {
    "duration": 8,
    "start_time": "2022-01-23T07:15:45.615Z"
   },
   {
    "duration": 6,
    "start_time": "2022-01-23T07:16:08.335Z"
   },
   {
    "duration": 1516,
    "start_time": "2022-01-23T07:17:13.342Z"
   },
   {
    "duration": 6,
    "start_time": "2022-01-23T07:18:14.895Z"
   },
   {
    "duration": 683,
    "start_time": "2022-01-23T07:18:19.878Z"
   },
   {
    "duration": 4,
    "start_time": "2022-01-23T07:18:20.563Z"
   },
   {
    "duration": 120,
    "start_time": "2022-01-23T07:18:20.570Z"
   },
   {
    "duration": 605,
    "start_time": "2022-01-23T07:18:20.693Z"
   },
   {
    "duration": 5,
    "start_time": "2022-01-23T07:18:21.301Z"
   },
   {
    "duration": 4,
    "start_time": "2022-01-23T07:18:21.308Z"
   },
   {
    "duration": 112,
    "start_time": "2022-01-23T07:18:21.314Z"
   },
   {
    "duration": 36,
    "start_time": "2022-01-23T07:18:21.432Z"
   },
   {
    "duration": 13,
    "start_time": "2022-01-23T07:18:21.471Z"
   },
   {
    "duration": 11,
    "start_time": "2022-01-23T07:18:21.486Z"
   },
   {
    "duration": 109,
    "start_time": "2022-01-23T07:18:21.499Z"
   },
   {
    "duration": 35,
    "start_time": "2022-01-23T07:18:21.611Z"
   },
   {
    "duration": 42,
    "start_time": "2022-01-23T07:18:21.649Z"
   },
   {
    "duration": 52,
    "start_time": "2022-01-23T07:18:21.693Z"
   },
   {
    "duration": 6,
    "start_time": "2022-01-23T07:18:21.747Z"
   },
   {
    "duration": 17,
    "start_time": "2022-01-23T07:18:21.754Z"
   },
   {
    "duration": 31,
    "start_time": "2022-01-23T07:18:21.773Z"
   },
   {
    "duration": 28,
    "start_time": "2022-01-23T07:18:21.807Z"
   },
   {
    "duration": 9,
    "start_time": "2022-01-23T07:18:21.837Z"
   },
   {
    "duration": 7,
    "start_time": "2022-01-23T07:18:21.848Z"
   },
   {
    "duration": 21,
    "start_time": "2022-01-23T07:18:21.857Z"
   },
   {
    "duration": 10,
    "start_time": "2022-01-23T07:18:21.880Z"
   },
   {
    "duration": 5,
    "start_time": "2022-01-23T07:18:21.895Z"
   },
   {
    "duration": 13,
    "start_time": "2022-01-23T07:18:21.933Z"
   },
   {
    "duration": 9,
    "start_time": "2022-01-23T07:18:21.948Z"
   },
   {
    "duration": 7,
    "start_time": "2022-01-23T07:18:21.959Z"
   },
   {
    "duration": 83,
    "start_time": "2022-01-23T07:18:21.968Z"
   },
   {
    "duration": 27,
    "start_time": "2022-01-23T07:18:22.053Z"
   },
   {
    "duration": 11,
    "start_time": "2022-01-23T07:18:22.082Z"
   },
   {
    "duration": 45,
    "start_time": "2022-01-23T07:18:22.096Z"
   },
   {
    "duration": 5,
    "start_time": "2022-01-23T07:18:22.143Z"
   },
   {
    "duration": 21,
    "start_time": "2022-01-23T07:18:22.150Z"
   },
   {
    "duration": 7,
    "start_time": "2022-01-23T07:18:22.173Z"
   },
   {
    "duration": 76,
    "start_time": "2022-01-23T07:18:22.182Z"
   },
   {
    "duration": 38,
    "start_time": "2022-01-23T07:18:22.260Z"
   },
   {
    "duration": 8,
    "start_time": "2022-01-23T07:18:22.301Z"
   },
   {
    "duration": 19,
    "start_time": "2022-01-23T07:18:22.333Z"
   },
   {
    "duration": 43,
    "start_time": "2022-01-23T07:18:22.354Z"
   },
   {
    "duration": 34,
    "start_time": "2022-01-23T07:18:22.399Z"
   },
   {
    "duration": 3,
    "start_time": "2022-01-23T07:18:22.435Z"
   },
   {
    "duration": 6,
    "start_time": "2022-01-23T07:18:22.440Z"
   },
   {
    "duration": 2872,
    "start_time": "2022-01-23T07:18:22.448Z"
   },
   {
    "duration": 2634,
    "start_time": "2022-01-23T07:18:25.322Z"
   },
   {
    "duration": 32,
    "start_time": "2022-01-23T07:18:27.959Z"
   },
   {
    "duration": 7,
    "start_time": "2022-01-23T07:18:27.994Z"
   },
   {
    "duration": 92,
    "start_time": "2022-01-23T07:18:28.003Z"
   },
   {
    "duration": 788,
    "start_time": "2022-01-23T08:26:25.616Z"
   },
   {
    "duration": 3,
    "start_time": "2022-01-23T08:26:26.406Z"
   },
   {
    "duration": 120,
    "start_time": "2022-01-23T08:26:26.412Z"
   },
   {
    "duration": 636,
    "start_time": "2022-01-23T08:26:26.535Z"
   },
   {
    "duration": 5,
    "start_time": "2022-01-23T08:26:27.174Z"
   },
   {
    "duration": 5,
    "start_time": "2022-01-23T08:26:27.181Z"
   },
   {
    "duration": 113,
    "start_time": "2022-01-23T08:26:27.188Z"
   },
   {
    "duration": 40,
    "start_time": "2022-01-23T08:26:27.305Z"
   },
   {
    "duration": 13,
    "start_time": "2022-01-23T08:26:27.348Z"
   },
   {
    "duration": 9,
    "start_time": "2022-01-23T08:26:27.364Z"
   },
   {
    "duration": 198,
    "start_time": "2022-01-23T08:26:27.376Z"
   },
   {
    "duration": 24,
    "start_time": "2022-01-23T08:26:27.576Z"
   },
   {
    "duration": 61,
    "start_time": "2022-01-23T08:26:27.602Z"
   },
   {
    "duration": 25,
    "start_time": "2022-01-23T08:26:27.665Z"
   },
   {
    "duration": 6,
    "start_time": "2022-01-23T08:26:27.692Z"
   },
   {
    "duration": 37,
    "start_time": "2022-01-23T08:26:27.700Z"
   },
   {
    "duration": 30,
    "start_time": "2022-01-23T08:26:27.740Z"
   },
   {
    "duration": 7,
    "start_time": "2022-01-23T08:26:27.772Z"
   },
   {
    "duration": 7,
    "start_time": "2022-01-23T08:26:27.781Z"
   },
   {
    "duration": 47,
    "start_time": "2022-01-23T08:26:27.790Z"
   },
   {
    "duration": 8,
    "start_time": "2022-01-23T08:26:27.840Z"
   },
   {
    "duration": 9,
    "start_time": "2022-01-23T08:26:27.851Z"
   },
   {
    "duration": 4,
    "start_time": "2022-01-23T08:26:27.865Z"
   },
   {
    "duration": 62,
    "start_time": "2022-01-23T08:26:27.871Z"
   },
   {
    "duration": 10,
    "start_time": "2022-01-23T08:26:27.936Z"
   },
   {
    "duration": 8,
    "start_time": "2022-01-23T08:26:27.949Z"
   },
   {
    "duration": 206,
    "start_time": "2022-01-23T08:26:27.960Z"
   },
   {
    "duration": 27,
    "start_time": "2022-01-23T08:26:28.168Z"
   },
   {
    "duration": 11,
    "start_time": "2022-01-23T08:26:28.232Z"
   },
   {
    "duration": 17,
    "start_time": "2022-01-23T08:26:28.246Z"
   },
   {
    "duration": 5,
    "start_time": "2022-01-23T08:26:28.266Z"
   },
   {
    "duration": 64,
    "start_time": "2022-01-23T08:26:28.274Z"
   },
   {
    "duration": 8,
    "start_time": "2022-01-23T08:26:28.341Z"
   },
   {
    "duration": 43,
    "start_time": "2022-01-23T08:26:28.352Z"
   },
   {
    "duration": 63,
    "start_time": "2022-01-23T08:26:28.398Z"
   },
   {
    "duration": 9,
    "start_time": "2022-01-23T08:26:28.464Z"
   },
   {
    "duration": 17,
    "start_time": "2022-01-23T08:26:28.476Z"
   },
   {
    "duration": 70,
    "start_time": "2022-01-23T08:26:28.496Z"
   },
   {
    "duration": 6,
    "start_time": "2022-01-23T08:26:28.568Z"
   },
   {
    "duration": 5,
    "start_time": "2022-01-23T08:26:28.576Z"
   },
   {
    "duration": 5,
    "start_time": "2022-01-23T08:26:28.583Z"
   },
   {
    "duration": 2366,
    "start_time": "2022-01-23T08:26:28.590Z"
   },
   {
    "duration": 2559,
    "start_time": "2022-01-23T08:26:30.959Z"
   },
   {
    "duration": 40,
    "start_time": "2022-01-23T08:26:33.520Z"
   },
   {
    "duration": 7,
    "start_time": "2022-01-23T08:26:33.562Z"
   },
   {
    "duration": 152,
    "start_time": "2022-01-23T08:26:33.571Z"
   },
   {
    "duration": 766,
    "start_time": "2022-01-23T15:48:12.117Z"
   },
   {
    "duration": 3,
    "start_time": "2022-01-23T15:48:12.886Z"
   },
   {
    "duration": 127,
    "start_time": "2022-01-23T15:48:12.892Z"
   },
   {
    "duration": 608,
    "start_time": "2022-01-23T15:48:13.022Z"
   },
   {
    "duration": 6,
    "start_time": "2022-01-23T15:48:13.632Z"
   },
   {
    "duration": 18,
    "start_time": "2022-01-23T15:48:13.641Z"
   },
   {
    "duration": 724,
    "start_time": "2022-01-23T15:48:13.663Z"
   },
   {
    "duration": 39,
    "start_time": "2022-01-23T15:48:14.391Z"
   },
   {
    "duration": 14,
    "start_time": "2022-01-23T15:48:14.434Z"
   },
   {
    "duration": 16,
    "start_time": "2022-01-23T15:48:14.451Z"
   },
   {
    "duration": 107,
    "start_time": "2022-01-23T15:48:14.469Z"
   },
   {
    "duration": 24,
    "start_time": "2022-01-23T15:48:14.579Z"
   },
   {
    "duration": 66,
    "start_time": "2022-01-23T15:48:14.606Z"
   },
   {
    "duration": 27,
    "start_time": "2022-01-23T15:48:14.675Z"
   },
   {
    "duration": 6,
    "start_time": "2022-01-23T15:48:14.704Z"
   },
   {
    "duration": 8,
    "start_time": "2022-01-23T15:48:14.712Z"
   },
   {
    "duration": 58,
    "start_time": "2022-01-23T15:48:14.722Z"
   },
   {
    "duration": 6,
    "start_time": "2022-01-23T15:48:14.782Z"
   },
   {
    "duration": 7,
    "start_time": "2022-01-23T15:48:14.790Z"
   },
   {
    "duration": 5,
    "start_time": "2022-01-23T15:48:14.799Z"
   },
   {
    "duration": 57,
    "start_time": "2022-01-23T15:48:14.806Z"
   },
   {
    "duration": 9,
    "start_time": "2022-01-23T15:48:14.866Z"
   },
   {
    "duration": 4,
    "start_time": "2022-01-23T15:48:14.880Z"
   },
   {
    "duration": 6,
    "start_time": "2022-01-23T15:48:14.887Z"
   },
   {
    "duration": 6,
    "start_time": "2022-01-23T15:48:14.896Z"
   },
   {
    "duration": 7,
    "start_time": "2022-01-23T15:48:14.959Z"
   },
   {
    "duration": 97,
    "start_time": "2022-01-23T15:48:14.968Z"
   },
   {
    "duration": 29,
    "start_time": "2022-01-23T15:48:15.068Z"
   },
   {
    "duration": 10,
    "start_time": "2022-01-23T15:48:15.100Z"
   },
   {
    "duration": 48,
    "start_time": "2022-01-23T15:48:15.113Z"
   },
   {
    "duration": 5,
    "start_time": "2022-01-23T15:48:15.163Z"
   },
   {
    "duration": 21,
    "start_time": "2022-01-23T15:48:15.171Z"
   },
   {
    "duration": 8,
    "start_time": "2022-01-23T15:48:15.194Z"
   },
   {
    "duration": 79,
    "start_time": "2022-01-23T15:48:15.205Z"
   },
   {
    "duration": 40,
    "start_time": "2022-01-23T15:48:15.287Z"
   },
   {
    "duration": 30,
    "start_time": "2022-01-23T15:48:15.329Z"
   },
   {
    "duration": 18,
    "start_time": "2022-01-23T15:48:15.362Z"
   },
   {
    "duration": 43,
    "start_time": "2022-01-23T15:48:15.383Z"
   },
   {
    "duration": 8,
    "start_time": "2022-01-23T15:48:15.460Z"
   },
   {
    "duration": 4,
    "start_time": "2022-01-23T15:48:15.470Z"
   },
   {
    "duration": 6,
    "start_time": "2022-01-23T15:48:15.476Z"
   },
   {
    "duration": 4,
    "start_time": "2022-01-23T15:48:15.485Z"
   },
   {
    "duration": 4,
    "start_time": "2022-01-23T15:48:15.492Z"
   },
   {
    "duration": 5,
    "start_time": "2022-01-23T15:48:15.499Z"
   },
   {
    "duration": 74,
    "start_time": "2022-01-23T15:48:15.507Z"
   },
   {
    "duration": 5,
    "start_time": "2022-01-23T15:48:15.583Z"
   },
   {
    "duration": 91,
    "start_time": "2022-01-23T15:48:15.590Z"
   },
   {
    "duration": 473,
    "start_time": "2022-01-23T15:57:36.862Z"
   },
   {
    "duration": 939,
    "start_time": "2022-01-23T15:59:28.622Z"
   },
   {
    "duration": 307,
    "start_time": "2022-01-23T18:07:00.615Z"
   },
   {
    "duration": 12,
    "start_time": "2022-01-23T18:07:03.159Z"
   },
   {
    "duration": 781,
    "start_time": "2022-01-23T18:08:23.043Z"
   },
   {
    "duration": 3,
    "start_time": "2022-01-23T18:08:23.827Z"
   },
   {
    "duration": 132,
    "start_time": "2022-01-23T18:08:23.834Z"
   },
   {
    "duration": 573,
    "start_time": "2022-01-23T18:08:23.968Z"
   },
   {
    "duration": 15,
    "start_time": "2022-01-23T18:08:24.544Z"
   },
   {
    "duration": 3,
    "start_time": "2022-01-23T18:08:24.561Z"
   },
   {
    "duration": 142,
    "start_time": "2022-01-23T18:08:24.566Z"
   },
   {
    "duration": 36,
    "start_time": "2022-01-23T18:08:24.712Z"
   },
   {
    "duration": 13,
    "start_time": "2022-01-23T18:08:24.751Z"
   },
   {
    "duration": 11,
    "start_time": "2022-01-23T18:08:24.766Z"
   },
   {
    "duration": 125,
    "start_time": "2022-01-23T18:08:24.780Z"
   },
   {
    "duration": 24,
    "start_time": "2022-01-23T18:08:24.909Z"
   },
   {
    "duration": 58,
    "start_time": "2022-01-23T18:08:24.935Z"
   },
   {
    "duration": 28,
    "start_time": "2022-01-23T18:08:24.996Z"
   },
   {
    "duration": 5,
    "start_time": "2022-01-23T18:08:25.027Z"
   },
   {
    "duration": 33,
    "start_time": "2022-01-23T18:08:25.035Z"
   },
   {
    "duration": 29,
    "start_time": "2022-01-23T18:08:25.071Z"
   },
   {
    "duration": 5,
    "start_time": "2022-01-23T18:08:25.103Z"
   },
   {
    "duration": 6,
    "start_time": "2022-01-23T18:08:25.111Z"
   },
   {
    "duration": 6,
    "start_time": "2022-01-23T18:08:25.119Z"
   },
   {
    "duration": 6,
    "start_time": "2022-01-23T18:08:25.160Z"
   },
   {
    "duration": 10,
    "start_time": "2022-01-23T18:08:25.168Z"
   },
   {
    "duration": 4,
    "start_time": "2022-01-23T18:08:25.185Z"
   },
   {
    "duration": 6,
    "start_time": "2022-01-23T18:08:25.193Z"
   },
   {
    "duration": 6,
    "start_time": "2022-01-23T18:08:25.202Z"
   },
   {
    "duration": 5,
    "start_time": "2022-01-23T18:08:25.259Z"
   },
   {
    "duration": 75,
    "start_time": "2022-01-23T18:08:25.266Z"
   },
   {
    "duration": 27,
    "start_time": "2022-01-23T18:08:25.359Z"
   },
   {
    "duration": 10,
    "start_time": "2022-01-23T18:08:25.389Z"
   },
   {
    "duration": 16,
    "start_time": "2022-01-23T18:08:25.401Z"
   },
   {
    "duration": 4,
    "start_time": "2022-01-23T18:08:25.419Z"
   },
   {
    "duration": 52,
    "start_time": "2022-01-23T18:08:25.425Z"
   },
   {
    "duration": 7,
    "start_time": "2022-01-23T18:08:25.479Z"
   },
   {
    "duration": 74,
    "start_time": "2022-01-23T18:08:25.489Z"
   },
   {
    "duration": 44,
    "start_time": "2022-01-23T18:08:25.565Z"
   },
   {
    "duration": 10,
    "start_time": "2022-01-23T18:08:25.611Z"
   },
   {
    "duration": 48,
    "start_time": "2022-01-23T18:08:25.623Z"
   },
   {
    "duration": 48,
    "start_time": "2022-01-23T18:08:25.674Z"
   },
   {
    "duration": 7,
    "start_time": "2022-01-23T18:08:25.725Z"
   },
   {
    "duration": 27,
    "start_time": "2022-01-23T18:08:25.735Z"
   },
   {
    "duration": 1160,
    "start_time": "2022-01-23T18:08:25.764Z"
   },
   {
    "duration": 4,
    "start_time": "2022-01-23T18:08:26.927Z"
   },
   {
    "duration": 5,
    "start_time": "2022-01-23T18:08:26.934Z"
   },
   {
    "duration": 8,
    "start_time": "2022-01-23T18:08:26.958Z"
   },
   {
    "duration": 4,
    "start_time": "2022-01-23T18:08:26.969Z"
   },
   {
    "duration": 31,
    "start_time": "2022-01-23T18:08:26.976Z"
   },
   {
    "duration": 6,
    "start_time": "2022-01-23T18:08:27.010Z"
   },
   {
    "duration": 104,
    "start_time": "2022-01-23T18:08:27.018Z"
   },
   {
    "duration": 13,
    "start_time": "2022-01-23T18:08:27.124Z"
   },
   {
    "duration": 9914,
    "start_time": "2022-01-23T18:08:27.159Z"
   },
   {
    "duration": 300,
    "start_time": "2022-01-23T18:08:57.678Z"
   },
   {
    "duration": 15,
    "start_time": "2022-01-23T18:10:22.315Z"
   },
   {
    "duration": 403,
    "start_time": "2022-01-23T18:24:02.519Z"
   },
   {
    "duration": 378,
    "start_time": "2022-01-23T18:24:27.536Z"
   },
   {
    "duration": 519,
    "start_time": "2022-01-23T18:25:58.743Z"
   },
   {
    "duration": 32,
    "start_time": "2022-01-23T18:30:24.862Z"
   },
   {
    "duration": 38,
    "start_time": "2022-01-23T18:32:27.575Z"
   },
   {
    "duration": 7,
    "start_time": "2022-01-23T18:33:59.253Z"
   },
   {
    "duration": 13,
    "start_time": "2022-01-23T18:34:13.748Z"
   },
   {
    "duration": 36,
    "start_time": "2022-01-23T18:35:51.397Z"
   },
   {
    "duration": 55,
    "start_time": "2022-01-23T18:36:09.028Z"
   },
   {
    "duration": 55,
    "start_time": "2022-01-23T18:36:17.804Z"
   },
   {
    "duration": 11,
    "start_time": "2022-01-23T18:37:00.764Z"
   },
   {
    "duration": 12,
    "start_time": "2022-01-23T18:37:06.108Z"
   },
   {
    "duration": 392,
    "start_time": "2022-01-23T18:38:25.484Z"
   },
   {
    "duration": 30,
    "start_time": "2022-01-23T18:39:08.333Z"
   },
   {
    "duration": 371,
    "start_time": "2022-01-23T18:40:55.876Z"
   },
   {
    "duration": 12,
    "start_time": "2022-01-23T18:40:59.969Z"
   },
   {
    "duration": 58,
    "start_time": "2022-01-23T18:41:20.402Z"
   },
   {
    "duration": 57,
    "start_time": "2022-01-23T18:41:52.788Z"
   },
   {
    "duration": 44,
    "start_time": "2022-01-23T18:42:20.770Z"
   },
   {
    "duration": 107,
    "start_time": "2022-01-23T18:44:25.252Z"
   },
   {
    "duration": 8,
    "start_time": "2022-01-23T18:46:26.802Z"
   },
   {
    "duration": 355,
    "start_time": "2022-01-23T18:46:32.505Z"
   },
   {
    "duration": 10,
    "start_time": "2022-01-23T18:46:41.113Z"
   },
   {
    "duration": 380,
    "start_time": "2022-01-23T18:46:42.264Z"
   },
   {
    "duration": 32,
    "start_time": "2022-01-23T18:46:52.200Z"
   },
   {
    "duration": 31,
    "start_time": "2022-01-23T18:47:32.737Z"
   },
   {
    "duration": 527,
    "start_time": "2022-01-23T18:48:37.568Z"
   },
   {
    "duration": 31,
    "start_time": "2022-01-23T18:48:56.344Z"
   },
   {
    "duration": 799,
    "start_time": "2022-01-23T18:49:29.460Z"
   },
   {
    "duration": 4,
    "start_time": "2022-01-23T18:49:30.261Z"
   },
   {
    "duration": 130,
    "start_time": "2022-01-23T18:49:30.268Z"
   },
   {
    "duration": 634,
    "start_time": "2022-01-23T18:49:30.401Z"
   },
   {
    "duration": 6,
    "start_time": "2022-01-23T18:49:31.038Z"
   },
   {
    "duration": 17,
    "start_time": "2022-01-23T18:49:31.046Z"
   },
   {
    "duration": 126,
    "start_time": "2022-01-23T18:49:31.065Z"
   },
   {
    "duration": 41,
    "start_time": "2022-01-23T18:49:31.195Z"
   },
   {
    "duration": 18,
    "start_time": "2022-01-23T18:49:31.241Z"
   },
   {
    "duration": 11,
    "start_time": "2022-01-23T18:49:31.262Z"
   },
   {
    "duration": 114,
    "start_time": "2022-01-23T18:49:31.275Z"
   },
   {
    "duration": 24,
    "start_time": "2022-01-23T18:49:31.392Z"
   },
   {
    "duration": 65,
    "start_time": "2022-01-23T18:49:31.419Z"
   },
   {
    "duration": 27,
    "start_time": "2022-01-23T18:49:31.486Z"
   },
   {
    "duration": 6,
    "start_time": "2022-01-23T18:49:31.516Z"
   },
   {
    "duration": 35,
    "start_time": "2022-01-23T18:49:31.524Z"
   },
   {
    "duration": 25,
    "start_time": "2022-01-23T18:49:31.562Z"
   },
   {
    "duration": 6,
    "start_time": "2022-01-23T18:49:31.590Z"
   },
   {
    "duration": 7,
    "start_time": "2022-01-23T18:49:31.598Z"
   },
   {
    "duration": 6,
    "start_time": "2022-01-23T18:49:31.607Z"
   },
   {
    "duration": 45,
    "start_time": "2022-01-23T18:49:31.615Z"
   },
   {
    "duration": 8,
    "start_time": "2022-01-23T18:49:31.663Z"
   },
   {
    "duration": 5,
    "start_time": "2022-01-23T18:49:31.677Z"
   },
   {
    "duration": 5,
    "start_time": "2022-01-23T18:49:31.685Z"
   },
   {
    "duration": 8,
    "start_time": "2022-01-23T18:49:31.692Z"
   },
   {
    "duration": 7,
    "start_time": "2022-01-23T18:49:31.702Z"
   },
   {
    "duration": 120,
    "start_time": "2022-01-23T18:49:31.711Z"
   },
   {
    "duration": 42,
    "start_time": "2022-01-23T18:49:31.834Z"
   },
   {
    "duration": 12,
    "start_time": "2022-01-23T18:49:31.878Z"
   },
   {
    "duration": 19,
    "start_time": "2022-01-23T18:49:31.893Z"
   },
   {
    "duration": 4,
    "start_time": "2022-01-23T18:49:31.915Z"
   },
   {
    "duration": 57,
    "start_time": "2022-01-23T18:49:31.921Z"
   },
   {
    "duration": 7,
    "start_time": "2022-01-23T18:49:31.980Z"
   },
   {
    "duration": 69,
    "start_time": "2022-01-23T18:49:31.990Z"
   },
   {
    "duration": 39,
    "start_time": "2022-01-23T18:49:32.062Z"
   },
   {
    "duration": 9,
    "start_time": "2022-01-23T18:49:32.104Z"
   },
   {
    "duration": 48,
    "start_time": "2022-01-23T18:49:32.115Z"
   },
   {
    "duration": 42,
    "start_time": "2022-01-23T18:49:32.166Z"
   },
   {
    "duration": 6,
    "start_time": "2022-01-23T18:49:32.210Z"
   },
   {
    "duration": 3,
    "start_time": "2022-01-23T18:49:32.219Z"
   },
   {
    "duration": 939,
    "start_time": "2022-01-23T18:49:32.259Z"
   },
   {
    "duration": 5,
    "start_time": "2022-01-23T18:49:33.200Z"
   },
   {
    "duration": 5,
    "start_time": "2022-01-23T18:49:33.207Z"
   },
   {
    "duration": 4,
    "start_time": "2022-01-23T18:49:33.214Z"
   },
   {
    "duration": 4,
    "start_time": "2022-01-23T18:49:33.221Z"
   },
   {
    "duration": 61,
    "start_time": "2022-01-23T18:49:33.228Z"
   },
   {
    "duration": 7,
    "start_time": "2022-01-23T18:49:33.292Z"
   },
   {
    "duration": 94,
    "start_time": "2022-01-23T18:49:33.302Z"
   },
   {
    "duration": 13,
    "start_time": "2022-01-23T18:49:33.399Z"
   },
   {
    "duration": 404,
    "start_time": "2022-01-23T18:49:33.415Z"
   },
   {
    "duration": 45,
    "start_time": "2022-01-23T18:49:33.822Z"
   },
   {
    "duration": 29,
    "start_time": "2022-01-23T18:49:33.870Z"
   },
   {
    "duration": 2391,
    "start_time": "2022-01-23T18:52:15.041Z"
   },
   {
    "duration": 2304,
    "start_time": "2022-01-23T18:52:35.800Z"
   },
   {
    "duration": 618,
    "start_time": "2022-01-23T18:54:45.400Z"
   },
   {
    "duration": 1083,
    "start_time": "2022-01-23T18:54:55.239Z"
   },
   {
    "duration": 363,
    "start_time": "2022-01-23T18:55:27.367Z"
   },
   {
    "duration": 356,
    "start_time": "2022-01-23T18:55:51.253Z"
   },
   {
    "duration": 5,
    "start_time": "2022-01-23T19:00:50.608Z"
   },
   {
    "duration": 1698,
    "start_time": "2022-01-23T19:00:52.165Z"
   },
   {
    "duration": 2801,
    "start_time": "2022-01-23T19:00:53.866Z"
   },
   {
    "duration": 38,
    "start_time": "2022-01-23T19:00:58.934Z"
   },
   {
    "duration": 5,
    "start_time": "2022-01-23T19:02:37.180Z"
   },
   {
    "duration": 2755,
    "start_time": "2022-01-23T19:02:39.260Z"
   },
   {
    "duration": 33,
    "start_time": "2022-01-23T19:02:43.147Z"
   },
   {
    "duration": 4,
    "start_time": "2022-01-23T19:03:39.997Z"
   },
   {
    "duration": 908,
    "start_time": "2022-01-23T19:03:51.854Z"
   },
   {
    "duration": 4,
    "start_time": "2022-01-23T19:03:52.764Z"
   },
   {
    "duration": 126,
    "start_time": "2022-01-23T19:03:52.772Z"
   },
   {
    "duration": 892,
    "start_time": "2022-01-23T19:03:52.901Z"
   },
   {
    "duration": 63,
    "start_time": "2022-01-23T19:03:53.796Z"
   },
   {
    "duration": 3,
    "start_time": "2022-01-23T19:03:53.862Z"
   },
   {
    "duration": 165,
    "start_time": "2022-01-23T19:03:53.868Z"
   },
   {
    "duration": 37,
    "start_time": "2022-01-23T19:03:54.037Z"
   },
   {
    "duration": 13,
    "start_time": "2022-01-23T19:03:54.077Z"
   },
   {
    "duration": 14,
    "start_time": "2022-01-23T19:03:54.093Z"
   },
   {
    "duration": 129,
    "start_time": "2022-01-23T19:03:54.109Z"
   },
   {
    "duration": 28,
    "start_time": "2022-01-23T19:03:54.241Z"
   },
   {
    "duration": 42,
    "start_time": "2022-01-23T19:03:54.272Z"
   },
   {
    "duration": 52,
    "start_time": "2022-01-23T19:03:54.317Z"
   },
   {
    "duration": 6,
    "start_time": "2022-01-23T19:03:54.371Z"
   },
   {
    "duration": 10,
    "start_time": "2022-01-23T19:03:54.379Z"
   },
   {
    "duration": 27,
    "start_time": "2022-01-23T19:03:54.391Z"
   },
   {
    "duration": 5,
    "start_time": "2022-01-23T19:03:54.421Z"
   },
   {
    "duration": 8,
    "start_time": "2022-01-23T19:03:54.461Z"
   },
   {
    "duration": 8,
    "start_time": "2022-01-23T19:03:54.472Z"
   },
   {
    "duration": 6,
    "start_time": "2022-01-23T19:03:54.482Z"
   },
   {
    "duration": 10,
    "start_time": "2022-01-23T19:03:54.490Z"
   },
   {
    "duration": 56,
    "start_time": "2022-01-23T19:03:54.506Z"
   },
   {
    "duration": 7,
    "start_time": "2022-01-23T19:03:54.565Z"
   },
   {
    "duration": 7,
    "start_time": "2022-01-23T19:03:54.574Z"
   },
   {
    "duration": 7,
    "start_time": "2022-01-23T19:03:54.583Z"
   },
   {
    "duration": 104,
    "start_time": "2022-01-23T19:03:54.592Z"
   },
   {
    "duration": 28,
    "start_time": "2022-01-23T19:03:54.698Z"
   },
   {
    "duration": 29,
    "start_time": "2022-01-23T19:03:54.729Z"
   },
   {
    "duration": 15,
    "start_time": "2022-01-23T19:03:54.760Z"
   },
   {
    "duration": 5,
    "start_time": "2022-01-23T19:03:54.777Z"
   },
   {
    "duration": 23,
    "start_time": "2022-01-23T19:03:54.785Z"
   },
   {
    "duration": 9,
    "start_time": "2022-01-23T19:03:54.810Z"
   },
   {
    "duration": 81,
    "start_time": "2022-01-23T19:03:54.822Z"
   },
   {
    "duration": 76,
    "start_time": "2022-01-23T19:03:54.906Z"
   },
   {
    "duration": 12,
    "start_time": "2022-01-23T19:03:54.985Z"
   },
   {
    "duration": 17,
    "start_time": "2022-01-23T19:03:54.999Z"
   },
   {
    "duration": 68,
    "start_time": "2022-01-23T19:03:55.019Z"
   },
   {
    "duration": 8,
    "start_time": "2022-01-23T19:03:55.090Z"
   },
   {
    "duration": 5,
    "start_time": "2022-01-23T19:03:55.100Z"
   },
   {
    "duration": 966,
    "start_time": "2022-01-23T19:03:55.107Z"
   },
   {
    "duration": 5,
    "start_time": "2022-01-23T19:03:56.076Z"
   },
   {
    "duration": 6,
    "start_time": "2022-01-23T19:03:56.084Z"
   },
   {
    "duration": 2300,
    "start_time": "2022-01-23T19:03:56.092Z"
   },
   {
    "duration": -615,
    "start_time": "2022-01-23T19:03:59.010Z"
   },
   {
    "duration": -616,
    "start_time": "2022-01-23T19:03:59.013Z"
   },
   {
    "duration": -618,
    "start_time": "2022-01-23T19:03:59.016Z"
   },
   {
    "duration": -625,
    "start_time": "2022-01-23T19:03:59.025Z"
   },
   {
    "duration": -627,
    "start_time": "2022-01-23T19:03:59.028Z"
   },
   {
    "duration": -628,
    "start_time": "2022-01-23T19:03:59.031Z"
   },
   {
    "duration": -629,
    "start_time": "2022-01-23T19:03:59.034Z"
   },
   {
    "duration": 4,
    "start_time": "2022-01-23T19:04:20.761Z"
   },
   {
    "duration": 2571,
    "start_time": "2022-01-23T19:04:22.729Z"
   },
   {
    "duration": 31,
    "start_time": "2022-01-23T19:04:26.337Z"
   },
   {
    "duration": 44,
    "start_time": "2022-01-23T19:04:56.697Z"
   },
   {
    "duration": 4,
    "start_time": "2022-01-23T19:11:07.192Z"
   },
   {
    "duration": 808,
    "start_time": "2022-01-23T19:11:19.131Z"
   },
   {
    "duration": 4,
    "start_time": "2022-01-23T19:11:19.943Z"
   },
   {
    "duration": 124,
    "start_time": "2022-01-23T19:11:19.961Z"
   },
   {
    "duration": 733,
    "start_time": "2022-01-23T19:11:20.088Z"
   },
   {
    "duration": 7,
    "start_time": "2022-01-23T19:11:20.824Z"
   },
   {
    "duration": 4,
    "start_time": "2022-01-23T19:11:20.834Z"
   },
   {
    "duration": 118,
    "start_time": "2022-01-23T19:11:20.859Z"
   },
   {
    "duration": 54,
    "start_time": "2022-01-23T19:11:20.982Z"
   },
   {
    "duration": 24,
    "start_time": "2022-01-23T19:11:21.040Z"
   },
   {
    "duration": 14,
    "start_time": "2022-01-23T19:11:21.067Z"
   },
   {
    "duration": 118,
    "start_time": "2022-01-23T19:11:21.083Z"
   },
   {
    "duration": 24,
    "start_time": "2022-01-23T19:11:21.203Z"
   },
   {
    "duration": 67,
    "start_time": "2022-01-23T19:11:21.230Z"
   },
   {
    "duration": 28,
    "start_time": "2022-01-23T19:11:21.300Z"
   },
   {
    "duration": 7,
    "start_time": "2022-01-23T19:11:21.331Z"
   },
   {
    "duration": 10,
    "start_time": "2022-01-23T19:11:21.360Z"
   },
   {
    "duration": 31,
    "start_time": "2022-01-23T19:11:21.372Z"
   },
   {
    "duration": 7,
    "start_time": "2022-01-23T19:11:21.405Z"
   },
   {
    "duration": 47,
    "start_time": "2022-01-23T19:11:21.414Z"
   },
   {
    "duration": 8,
    "start_time": "2022-01-23T19:11:21.463Z"
   },
   {
    "duration": 6,
    "start_time": "2022-01-23T19:11:21.473Z"
   },
   {
    "duration": 10,
    "start_time": "2022-01-23T19:11:21.481Z"
   },
   {
    "duration": 5,
    "start_time": "2022-01-23T19:11:21.496Z"
   },
   {
    "duration": 5,
    "start_time": "2022-01-23T19:11:21.504Z"
   },
   {
    "duration": 48,
    "start_time": "2022-01-23T19:11:21.512Z"
   },
   {
    "duration": 6,
    "start_time": "2022-01-23T19:11:21.562Z"
   },
   {
    "duration": 97,
    "start_time": "2022-01-23T19:11:21.570Z"
   },
   {
    "duration": 30,
    "start_time": "2022-01-23T19:11:21.669Z"
   },
   {
    "duration": 12,
    "start_time": "2022-01-23T19:11:21.702Z"
   },
   {
    "duration": 49,
    "start_time": "2022-01-23T19:11:21.717Z"
   },
   {
    "duration": 5,
    "start_time": "2022-01-23T19:11:21.768Z"
   },
   {
    "duration": 23,
    "start_time": "2022-01-23T19:11:21.775Z"
   },
   {
    "duration": 7,
    "start_time": "2022-01-23T19:11:21.800Z"
   },
   {
    "duration": 75,
    "start_time": "2022-01-23T19:11:21.809Z"
   },
   {
    "duration": 41,
    "start_time": "2022-01-23T19:11:21.887Z"
   },
   {
    "duration": 33,
    "start_time": "2022-01-23T19:11:21.931Z"
   },
   {
    "duration": 16,
    "start_time": "2022-01-23T19:11:21.967Z"
   },
   {
    "duration": 43,
    "start_time": "2022-01-23T19:11:21.986Z"
   },
   {
    "duration": 6,
    "start_time": "2022-01-23T19:11:22.060Z"
   },
   {
    "duration": 3,
    "start_time": "2022-01-23T19:11:22.068Z"
   },
   {
    "duration": 1313,
    "start_time": "2022-01-23T19:11:22.073Z"
   },
   {
    "duration": 3,
    "start_time": "2022-01-23T19:11:23.389Z"
   },
   {
    "duration": 7,
    "start_time": "2022-01-23T19:11:23.394Z"
   },
   {
    "duration": 1935,
    "start_time": "2022-01-23T19:11:23.404Z"
   },
   {
    "duration": -618,
    "start_time": "2022-01-23T19:11:25.960Z"
   },
   {
    "duration": -620,
    "start_time": "2022-01-23T19:11:25.964Z"
   },
   {
    "duration": -621,
    "start_time": "2022-01-23T19:11:25.967Z"
   },
   {
    "duration": -622,
    "start_time": "2022-01-23T19:11:25.971Z"
   },
   {
    "duration": -623,
    "start_time": "2022-01-23T19:11:25.974Z"
   },
   {
    "duration": -624,
    "start_time": "2022-01-23T19:11:25.978Z"
   },
   {
    "duration": -625,
    "start_time": "2022-01-23T19:11:25.981Z"
   },
   {
    "duration": -632,
    "start_time": "2022-01-23T19:11:25.991Z"
   },
   {
    "duration": 113,
    "start_time": "2022-01-23T19:13:28.302Z"
   },
   {
    "duration": 12,
    "start_time": "2022-01-23T19:13:32.750Z"
   },
   {
    "duration": 486,
    "start_time": "2022-01-23T19:13:46.574Z"
   },
   {
    "duration": 3,
    "start_time": "2022-01-23T19:14:45.214Z"
   },
   {
    "duration": 10,
    "start_time": "2022-01-23T19:14:47.933Z"
   },
   {
    "duration": 10,
    "start_time": "2022-01-23T19:14:49.829Z"
   },
   {
    "duration": 40,
    "start_time": "2022-01-23T19:14:51.206Z"
   },
   {
    "duration": 31,
    "start_time": "2022-01-23T19:14:56.969Z"
   },
   {
    "duration": 41,
    "start_time": "2022-01-23T19:16:11.990Z"
   },
   {
    "duration": 29,
    "start_time": "2022-01-23T19:16:46.679Z"
   },
   {
    "duration": 773,
    "start_time": "2022-01-23T19:17:02.417Z"
   },
   {
    "duration": 4,
    "start_time": "2022-01-23T19:17:03.192Z"
   },
   {
    "duration": 128,
    "start_time": "2022-01-23T19:17:03.201Z"
   },
   {
    "duration": 601,
    "start_time": "2022-01-23T19:17:03.332Z"
   },
   {
    "duration": 114,
    "start_time": "2022-01-23T19:17:03.935Z"
   },
   {
    "duration": 36,
    "start_time": "2022-01-23T19:17:04.051Z"
   },
   {
    "duration": 14,
    "start_time": "2022-01-23T19:17:04.091Z"
   },
   {
    "duration": 11,
    "start_time": "2022-01-23T19:17:04.108Z"
   },
   {
    "duration": 130,
    "start_time": "2022-01-23T19:17:04.121Z"
   },
   {
    "duration": 29,
    "start_time": "2022-01-23T19:17:04.260Z"
   },
   {
    "duration": 70,
    "start_time": "2022-01-23T19:17:04.291Z"
   },
   {
    "duration": 28,
    "start_time": "2022-01-23T19:17:04.363Z"
   },
   {
    "duration": 7,
    "start_time": "2022-01-23T19:17:04.393Z"
   },
   {
    "duration": 8,
    "start_time": "2022-01-23T19:17:04.403Z"
   },
   {
    "duration": 57,
    "start_time": "2022-01-23T19:17:04.414Z"
   },
   {
    "duration": 8,
    "start_time": "2022-01-23T19:17:04.474Z"
   },
   {
    "duration": 9,
    "start_time": "2022-01-23T19:17:04.484Z"
   },
   {
    "duration": 7,
    "start_time": "2022-01-23T19:17:04.495Z"
   },
   {
    "duration": 8,
    "start_time": "2022-01-23T19:17:04.505Z"
   },
   {
    "duration": 52,
    "start_time": "2022-01-23T19:17:04.515Z"
   },
   {
    "duration": 5,
    "start_time": "2022-01-23T19:17:04.569Z"
   },
   {
    "duration": 5,
    "start_time": "2022-01-23T19:17:04.579Z"
   },
   {
    "duration": 5,
    "start_time": "2022-01-23T19:17:04.587Z"
   },
   {
    "duration": 6,
    "start_time": "2022-01-23T19:17:04.594Z"
   },
   {
    "duration": 123,
    "start_time": "2022-01-23T19:17:04.603Z"
   },
   {
    "duration": 41,
    "start_time": "2022-01-23T19:17:04.728Z"
   },
   {
    "duration": 11,
    "start_time": "2022-01-23T19:17:04.772Z"
   },
   {
    "duration": 15,
    "start_time": "2022-01-23T19:17:04.786Z"
   },
   {
    "duration": 5,
    "start_time": "2022-01-23T19:17:04.804Z"
   },
   {
    "duration": 57,
    "start_time": "2022-01-23T19:17:04.811Z"
   },
   {
    "duration": 8,
    "start_time": "2022-01-23T19:17:04.871Z"
   },
   {
    "duration": 47,
    "start_time": "2022-01-23T19:17:04.881Z"
   },
   {
    "duration": 63,
    "start_time": "2022-01-23T19:17:04.931Z"
   },
   {
    "duration": 10,
    "start_time": "2022-01-23T19:17:04.997Z"
   },
   {
    "duration": 23,
    "start_time": "2022-01-23T19:17:05.010Z"
   },
   {
    "duration": 41,
    "start_time": "2022-01-23T19:17:05.060Z"
   },
   {
    "duration": 9,
    "start_time": "2022-01-23T19:17:05.103Z"
   },
   {
    "duration": 5,
    "start_time": "2022-01-23T19:17:05.114Z"
   },
   {
    "duration": 45,
    "start_time": "2022-01-23T19:17:05.121Z"
   },
   {
    "duration": 13,
    "start_time": "2022-01-23T19:17:05.168Z"
   },
   {
    "duration": 32,
    "start_time": "2022-01-23T19:17:05.184Z"
   },
   {
    "duration": 5,
    "start_time": "2022-01-23T19:17:05.219Z"
   },
   {
    "duration": 93,
    "start_time": "2022-01-23T19:17:05.227Z"
   },
   {
    "duration": 11,
    "start_time": "2022-01-23T19:17:05.323Z"
   },
   {
    "duration": 402,
    "start_time": "2022-01-23T19:17:05.336Z"
   },
   {
    "duration": 38,
    "start_time": "2022-01-23T19:17:05.740Z"
   },
   {
    "duration": 42,
    "start_time": "2022-01-23T19:17:05.780Z"
   },
   {
    "duration": 4,
    "start_time": "2022-01-23T19:18:54.351Z"
   },
   {
    "duration": 994,
    "start_time": "2022-01-23T19:20:16.891Z"
   },
   {
    "duration": 4,
    "start_time": "2022-01-23T19:20:17.888Z"
   },
   {
    "duration": 123,
    "start_time": "2022-01-23T19:20:17.895Z"
   },
   {
    "duration": 598,
    "start_time": "2022-01-23T19:20:18.021Z"
   },
   {
    "duration": 113,
    "start_time": "2022-01-23T19:20:18.621Z"
   },
   {
    "duration": 39,
    "start_time": "2022-01-23T19:20:18.736Z"
   },
   {
    "duration": 15,
    "start_time": "2022-01-23T19:20:18.777Z"
   },
   {
    "duration": 11,
    "start_time": "2022-01-23T19:20:18.796Z"
   },
   {
    "duration": 125,
    "start_time": "2022-01-23T19:20:18.810Z"
   },
   {
    "duration": 29,
    "start_time": "2022-01-23T19:20:18.938Z"
   },
   {
    "duration": 40,
    "start_time": "2022-01-23T19:20:18.969Z"
   },
   {
    "duration": 57,
    "start_time": "2022-01-23T19:20:19.011Z"
   },
   {
    "duration": 8,
    "start_time": "2022-01-23T19:20:19.071Z"
   },
   {
    "duration": 8,
    "start_time": "2022-01-23T19:20:19.081Z"
   },
   {
    "duration": 25,
    "start_time": "2022-01-23T19:20:19.091Z"
   },
   {
    "duration": 40,
    "start_time": "2022-01-23T19:20:19.118Z"
   },
   {
    "duration": 6,
    "start_time": "2022-01-23T19:20:19.161Z"
   },
   {
    "duration": 6,
    "start_time": "2022-01-23T19:20:19.169Z"
   },
   {
    "duration": 6,
    "start_time": "2022-01-23T19:20:19.176Z"
   },
   {
    "duration": 10,
    "start_time": "2022-01-23T19:20:19.184Z"
   },
   {
    "duration": 4,
    "start_time": "2022-01-23T19:20:19.197Z"
   },
   {
    "duration": 56,
    "start_time": "2022-01-23T19:20:19.204Z"
   },
   {
    "duration": 6,
    "start_time": "2022-01-23T19:20:19.265Z"
   },
   {
    "duration": 9,
    "start_time": "2022-01-23T19:20:19.274Z"
   },
   {
    "duration": 108,
    "start_time": "2022-01-23T19:20:19.285Z"
   },
   {
    "duration": 28,
    "start_time": "2022-01-23T19:20:19.396Z"
   },
   {
    "duration": 35,
    "start_time": "2022-01-23T19:20:19.427Z"
   },
   {
    "duration": 14,
    "start_time": "2022-01-23T19:20:19.465Z"
   },
   {
    "duration": 6,
    "start_time": "2022-01-23T19:20:19.482Z"
   },
   {
    "duration": 26,
    "start_time": "2022-01-23T19:20:19.491Z"
   },
   {
    "duration": 43,
    "start_time": "2022-01-23T19:20:19.519Z"
   },
   {
    "duration": 44,
    "start_time": "2022-01-23T19:20:19.564Z"
   },
   {
    "duration": 70,
    "start_time": "2022-01-23T19:20:19.610Z"
   },
   {
    "duration": 10,
    "start_time": "2022-01-23T19:20:19.682Z"
   },
   {
    "duration": 19,
    "start_time": "2022-01-23T19:20:19.694Z"
   },
   {
    "duration": 69,
    "start_time": "2022-01-23T19:20:19.715Z"
   },
   {
    "duration": 5,
    "start_time": "2022-01-23T19:20:19.786Z"
   },
   {
    "duration": 4,
    "start_time": "2022-01-23T19:20:19.794Z"
   },
   {
    "duration": 11,
    "start_time": "2022-01-23T19:20:19.800Z"
   },
   {
    "duration": 9,
    "start_time": "2022-01-23T19:20:19.814Z"
   },
   {
    "duration": 63,
    "start_time": "2022-01-23T19:20:19.825Z"
   },
   {
    "duration": 5,
    "start_time": "2022-01-23T19:20:19.891Z"
   },
   {
    "duration": 96,
    "start_time": "2022-01-23T19:20:19.899Z"
   },
   {
    "duration": 11,
    "start_time": "2022-01-23T19:20:19.997Z"
   },
   {
    "duration": 400,
    "start_time": "2022-01-23T19:20:20.010Z"
   },
   {
    "duration": 48,
    "start_time": "2022-01-23T19:20:20.413Z"
   },
   {
    "duration": 31,
    "start_time": "2022-01-23T19:20:20.464Z"
   },
   {
    "duration": 4,
    "start_time": "2022-01-23T19:28:43.725Z"
   },
   {
    "duration": 390,
    "start_time": "2022-01-23T19:32:46.652Z"
   },
   {
    "duration": 380,
    "start_time": "2022-01-23T19:33:07.556Z"
   },
   {
    "duration": 626,
    "start_time": "2022-01-23T19:33:51.401Z"
   },
   {
    "duration": 377,
    "start_time": "2022-01-23T19:34:11.532Z"
   },
   {
    "duration": 274,
    "start_time": "2022-01-24T14:41:28.202Z"
   },
   {
    "duration": 596,
    "start_time": "2022-01-24T14:41:32.404Z"
   },
   {
    "duration": 2,
    "start_time": "2022-01-24T14:41:33.003Z"
   },
   {
    "duration": 95,
    "start_time": "2022-01-24T14:41:33.007Z"
   },
   {
    "duration": 560,
    "start_time": "2022-01-24T14:41:33.104Z"
   },
   {
    "duration": 108,
    "start_time": "2022-01-24T14:41:33.666Z"
   },
   {
    "duration": 29,
    "start_time": "2022-01-24T14:41:33.776Z"
   },
   {
    "duration": 10,
    "start_time": "2022-01-24T14:41:33.807Z"
   },
   {
    "duration": 9,
    "start_time": "2022-01-24T14:41:33.820Z"
   },
   {
    "duration": 80,
    "start_time": "2022-01-24T14:41:33.832Z"
   },
   {
    "duration": 17,
    "start_time": "2022-01-24T14:41:33.914Z"
   },
   {
    "duration": 27,
    "start_time": "2022-01-24T14:41:33.934Z"
   },
   {
    "duration": 47,
    "start_time": "2022-01-24T14:41:33.964Z"
   },
   {
    "duration": 4,
    "start_time": "2022-01-24T14:41:34.013Z"
   },
   {
    "duration": 9,
    "start_time": "2022-01-24T14:41:34.019Z"
   },
   {
    "duration": 23,
    "start_time": "2022-01-24T14:41:34.030Z"
   },
   {
    "duration": 8,
    "start_time": "2022-01-24T14:41:34.055Z"
   },
   {
    "duration": 12,
    "start_time": "2022-01-24T14:41:34.065Z"
   },
   {
    "duration": 22,
    "start_time": "2022-01-24T14:41:34.079Z"
   },
   {
    "duration": 8,
    "start_time": "2022-01-24T14:41:34.102Z"
   },
   {
    "duration": 12,
    "start_time": "2022-01-24T14:41:34.112Z"
   },
   {
    "duration": 5,
    "start_time": "2022-01-24T14:41:34.125Z"
   },
   {
    "duration": 8,
    "start_time": "2022-01-24T14:41:34.132Z"
   },
   {
    "duration": 5,
    "start_time": "2022-01-24T14:41:34.143Z"
   },
   {
    "duration": 8,
    "start_time": "2022-01-24T14:41:34.150Z"
   },
   {
    "duration": 72,
    "start_time": "2022-01-24T14:41:34.160Z"
   },
   {
    "duration": 21,
    "start_time": "2022-01-24T14:41:34.233Z"
   },
   {
    "duration": 7,
    "start_time": "2022-01-24T14:41:34.255Z"
   },
   {
    "duration": 34,
    "start_time": "2022-01-24T14:41:34.264Z"
   },
   {
    "duration": 4,
    "start_time": "2022-01-24T14:41:34.300Z"
   },
   {
    "duration": 17,
    "start_time": "2022-01-24T14:41:34.306Z"
   },
   {
    "duration": 12,
    "start_time": "2022-01-24T14:41:34.325Z"
   },
   {
    "duration": 36,
    "start_time": "2022-01-24T14:41:34.338Z"
   },
   {
    "duration": 40,
    "start_time": "2022-01-24T14:41:34.376Z"
   },
   {
    "duration": 7,
    "start_time": "2022-01-24T14:41:34.418Z"
   },
   {
    "duration": 11,
    "start_time": "2022-01-24T14:41:34.426Z"
   },
   {
    "duration": 26,
    "start_time": "2022-01-24T14:41:34.438Z"
   },
   {
    "duration": 32,
    "start_time": "2022-01-24T14:41:34.466Z"
   },
   {
    "duration": 3,
    "start_time": "2022-01-24T14:41:34.500Z"
   },
   {
    "duration": 11,
    "start_time": "2022-01-24T14:41:34.505Z"
   },
   {
    "duration": 11,
    "start_time": "2022-01-24T14:41:34.518Z"
   },
   {
    "duration": 24,
    "start_time": "2022-01-24T14:41:34.530Z"
   },
   {
    "duration": 5,
    "start_time": "2022-01-24T14:41:34.555Z"
   },
   {
    "duration": 79,
    "start_time": "2022-01-24T14:41:34.561Z"
   },
   {
    "duration": 8,
    "start_time": "2022-01-24T14:41:34.641Z"
   },
   {
    "duration": 266,
    "start_time": "2022-01-24T14:41:34.651Z"
   },
   {
    "duration": 21,
    "start_time": "2022-01-24T14:41:34.919Z"
   },
   {
    "duration": 21,
    "start_time": "2022-01-24T14:41:34.941Z"
   },
   {
    "duration": 350,
    "start_time": "2022-01-24T14:41:34.963Z"
   },
   {
    "duration": 360,
    "start_time": "2022-01-24T14:42:23.200Z"
   },
   {
    "duration": 333,
    "start_time": "2022-01-24T14:43:01.718Z"
   },
   {
    "duration": 11,
    "start_time": "2022-01-24T16:15:45.428Z"
   },
   {
    "duration": 275,
    "start_time": "2022-01-24T16:15:55.002Z"
   },
   {
    "duration": 10,
    "start_time": "2022-01-24T16:16:18.147Z"
   },
   {
    "duration": 7,
    "start_time": "2022-01-24T16:16:41.962Z"
   },
   {
    "duration": 480,
    "start_time": "2022-01-25T08:54:14.493Z"
   },
   {
    "duration": 835,
    "start_time": "2022-01-25T08:54:21.576Z"
   },
   {
    "duration": 4,
    "start_time": "2022-01-25T08:54:22.414Z"
   },
   {
    "duration": 119,
    "start_time": "2022-01-25T08:54:22.422Z"
   },
   {
    "duration": 586,
    "start_time": "2022-01-25T08:54:22.544Z"
   },
   {
    "duration": 112,
    "start_time": "2022-01-25T08:54:23.132Z"
   },
   {
    "duration": 38,
    "start_time": "2022-01-25T08:54:23.246Z"
   },
   {
    "duration": 14,
    "start_time": "2022-01-25T08:54:23.287Z"
   },
   {
    "duration": 13,
    "start_time": "2022-01-25T08:54:23.307Z"
   },
   {
    "duration": 124,
    "start_time": "2022-01-25T08:54:23.323Z"
   },
   {
    "duration": 23,
    "start_time": "2022-01-25T08:54:23.466Z"
   },
   {
    "duration": 17,
    "start_time": "2022-01-25T08:54:23.492Z"
   },
   {
    "duration": 63,
    "start_time": "2022-01-25T08:54:23.512Z"
   },
   {
    "duration": 29,
    "start_time": "2022-01-25T08:54:23.578Z"
   },
   {
    "duration": 6,
    "start_time": "2022-01-25T08:54:23.610Z"
   },
   {
    "duration": 11,
    "start_time": "2022-01-25T08:54:23.618Z"
   },
   {
    "duration": 52,
    "start_time": "2022-01-25T08:54:23.632Z"
   },
   {
    "duration": 6,
    "start_time": "2022-01-25T08:54:23.687Z"
   },
   {
    "duration": 9,
    "start_time": "2022-01-25T08:54:23.695Z"
   },
   {
    "duration": 7,
    "start_time": "2022-01-25T08:54:23.706Z"
   },
   {
    "duration": 49,
    "start_time": "2022-01-25T08:54:23.716Z"
   },
   {
    "duration": 9,
    "start_time": "2022-01-25T08:54:23.768Z"
   },
   {
    "duration": 6,
    "start_time": "2022-01-25T08:54:23.780Z"
   },
   {
    "duration": 5,
    "start_time": "2022-01-25T08:54:23.792Z"
   },
   {
    "duration": 8,
    "start_time": "2022-01-25T08:54:23.800Z"
   },
   {
    "duration": 10,
    "start_time": "2022-01-25T08:54:23.810Z"
   },
   {
    "duration": 113,
    "start_time": "2022-01-25T08:54:23.822Z"
   },
   {
    "duration": 39,
    "start_time": "2022-01-25T08:54:23.938Z"
   },
   {
    "duration": 11,
    "start_time": "2022-01-25T08:54:23.979Z"
   },
   {
    "duration": 21,
    "start_time": "2022-01-25T08:54:23.992Z"
   },
   {
    "duration": 4,
    "start_time": "2022-01-25T08:54:24.015Z"
   },
   {
    "duration": 50,
    "start_time": "2022-01-25T08:54:24.022Z"
   },
   {
    "duration": 8,
    "start_time": "2022-01-25T08:54:24.074Z"
   },
   {
    "duration": 54,
    "start_time": "2022-01-25T08:54:24.084Z"
   },
   {
    "duration": 57,
    "start_time": "2022-01-25T08:54:24.141Z"
   },
   {
    "duration": 9,
    "start_time": "2022-01-25T08:54:24.201Z"
   },
   {
    "duration": 22,
    "start_time": "2022-01-25T08:54:24.213Z"
   },
   {
    "duration": 64,
    "start_time": "2022-01-25T08:54:24.237Z"
   },
   {
    "duration": 6,
    "start_time": "2022-01-25T08:54:24.303Z"
   },
   {
    "duration": 9,
    "start_time": "2022-01-25T08:54:24.311Z"
   },
   {
    "duration": 15,
    "start_time": "2022-01-25T08:54:24.323Z"
   },
   {
    "duration": 32,
    "start_time": "2022-01-25T08:54:24.340Z"
   },
   {
    "duration": 34,
    "start_time": "2022-01-25T08:54:24.374Z"
   },
   {
    "duration": 5,
    "start_time": "2022-01-25T08:54:24.410Z"
   },
   {
    "duration": 94,
    "start_time": "2022-01-25T08:54:24.418Z"
   },
   {
    "duration": 12,
    "start_time": "2022-01-25T08:54:24.515Z"
   },
   {
    "duration": 409,
    "start_time": "2022-01-25T08:54:24.530Z"
   },
   {
    "duration": 44,
    "start_time": "2022-01-25T08:54:24.942Z"
   },
   {
    "duration": 29,
    "start_time": "2022-01-25T08:54:24.988Z"
   },
   {
    "duration": 494,
    "start_time": "2022-01-25T08:54:25.019Z"
   },
   {
    "duration": 10,
    "start_time": "2022-01-25T08:54:25.516Z"
   },
   {
    "duration": 764,
    "start_time": "2022-01-25T09:44:01.522Z"
   },
   {
    "duration": 4,
    "start_time": "2022-01-25T09:44:02.288Z"
   },
   {
    "duration": 131,
    "start_time": "2022-01-25T09:44:02.295Z"
   },
   {
    "duration": 595,
    "start_time": "2022-01-25T09:44:02.428Z"
   },
   {
    "duration": 111,
    "start_time": "2022-01-25T09:44:03.026Z"
   },
   {
    "duration": 36,
    "start_time": "2022-01-25T09:44:03.139Z"
   },
   {
    "duration": 14,
    "start_time": "2022-01-25T09:44:03.177Z"
   },
   {
    "duration": 11,
    "start_time": "2022-01-25T09:44:03.196Z"
   },
   {
    "duration": 119,
    "start_time": "2022-01-25T09:44:03.210Z"
   },
   {
    "duration": 35,
    "start_time": "2022-01-25T09:44:03.332Z"
   },
   {
    "duration": 15,
    "start_time": "2022-01-25T09:44:03.369Z"
   },
   {
    "duration": 45,
    "start_time": "2022-01-25T09:44:03.387Z"
   },
   {
    "duration": 67,
    "start_time": "2022-01-25T09:44:03.435Z"
   },
   {
    "duration": 6,
    "start_time": "2022-01-25T09:44:03.504Z"
   },
   {
    "duration": 37,
    "start_time": "2022-01-25T09:44:03.513Z"
   },
   {
    "duration": 31,
    "start_time": "2022-01-25T09:44:03.553Z"
   },
   {
    "duration": 12,
    "start_time": "2022-01-25T09:44:03.587Z"
   },
   {
    "duration": 26,
    "start_time": "2022-01-25T09:44:03.601Z"
   },
   {
    "duration": 21,
    "start_time": "2022-01-25T09:44:03.630Z"
   },
   {
    "duration": 26,
    "start_time": "2022-01-25T09:44:03.653Z"
   },
   {
    "duration": 26,
    "start_time": "2022-01-25T09:44:03.682Z"
   },
   {
    "duration": 20,
    "start_time": "2022-01-25T09:44:03.710Z"
   },
   {
    "duration": 8,
    "start_time": "2022-01-25T09:44:03.737Z"
   },
   {
    "duration": 32,
    "start_time": "2022-01-25T09:44:03.749Z"
   },
   {
    "duration": 22,
    "start_time": "2022-01-25T09:44:03.784Z"
   },
   {
    "duration": 94,
    "start_time": "2022-01-25T09:44:03.808Z"
   },
   {
    "duration": 39,
    "start_time": "2022-01-25T09:44:03.904Z"
   },
   {
    "duration": 28,
    "start_time": "2022-01-25T09:44:03.949Z"
   },
   {
    "duration": 41,
    "start_time": "2022-01-25T09:44:03.980Z"
   },
   {
    "duration": 4,
    "start_time": "2022-01-25T09:44:04.024Z"
   },
   {
    "duration": 37,
    "start_time": "2022-01-25T09:44:04.031Z"
   },
   {
    "duration": 24,
    "start_time": "2022-01-25T09:44:04.070Z"
   },
   {
    "duration": 77,
    "start_time": "2022-01-25T09:44:04.096Z"
   },
   {
    "duration": 41,
    "start_time": "2022-01-25T09:44:04.176Z"
   },
   {
    "duration": 9,
    "start_time": "2022-01-25T09:44:04.220Z"
   },
   {
    "duration": 42,
    "start_time": "2022-01-25T09:44:04.231Z"
   },
   {
    "duration": 52,
    "start_time": "2022-01-25T09:44:04.275Z"
   },
   {
    "duration": 5,
    "start_time": "2022-01-25T09:44:04.329Z"
   },
   {
    "duration": 15,
    "start_time": "2022-01-25T09:44:04.337Z"
   },
   {
    "duration": 27,
    "start_time": "2022-01-25T09:44:04.355Z"
   },
   {
    "duration": 41,
    "start_time": "2022-01-25T09:44:04.384Z"
   },
   {
    "duration": 39,
    "start_time": "2022-01-25T09:44:04.429Z"
   },
   {
    "duration": 20,
    "start_time": "2022-01-25T09:44:04.471Z"
   },
   {
    "duration": 75,
    "start_time": "2022-01-25T09:44:04.494Z"
   },
   {
    "duration": 9,
    "start_time": "2022-01-25T09:44:04.572Z"
   },
   {
    "duration": 390,
    "start_time": "2022-01-25T09:44:04.583Z"
   },
   {
    "duration": 33,
    "start_time": "2022-01-25T09:44:04.976Z"
   },
   {
    "duration": 59,
    "start_time": "2022-01-25T09:44:05.012Z"
   },
   {
    "duration": 496,
    "start_time": "2022-01-25T09:44:05.075Z"
   },
   {
    "duration": 9,
    "start_time": "2022-01-25T09:44:05.573Z"
   },
   {
    "duration": 554,
    "start_time": "2022-01-25T16:14:02.204Z"
   },
   {
    "duration": 2,
    "start_time": "2022-01-25T16:14:02.760Z"
   },
   {
    "duration": 74,
    "start_time": "2022-01-25T16:14:02.764Z"
   },
   {
    "duration": 457,
    "start_time": "2022-01-25T16:14:02.840Z"
   },
   {
    "duration": 91,
    "start_time": "2022-01-25T16:14:03.298Z"
   },
   {
    "duration": 21,
    "start_time": "2022-01-25T16:14:03.391Z"
   },
   {
    "duration": 7,
    "start_time": "2022-01-25T16:14:03.414Z"
   },
   {
    "duration": 6,
    "start_time": "2022-01-25T16:14:03.424Z"
   },
   {
    "duration": 57,
    "start_time": "2022-01-25T16:14:03.432Z"
   },
   {
    "duration": 13,
    "start_time": "2022-01-25T16:14:03.490Z"
   },
   {
    "duration": 8,
    "start_time": "2022-01-25T16:14:03.505Z"
   },
   {
    "duration": 24,
    "start_time": "2022-01-25T16:14:03.515Z"
   },
   {
    "duration": 35,
    "start_time": "2022-01-25T16:14:03.540Z"
   },
   {
    "duration": 4,
    "start_time": "2022-01-25T16:14:03.576Z"
   },
   {
    "duration": 8,
    "start_time": "2022-01-25T16:14:03.581Z"
   },
   {
    "duration": 14,
    "start_time": "2022-01-25T16:14:03.590Z"
   },
   {
    "duration": 4,
    "start_time": "2022-01-25T16:14:03.605Z"
   },
   {
    "duration": 7,
    "start_time": "2022-01-25T16:14:03.610Z"
   },
   {
    "duration": 5,
    "start_time": "2022-01-25T16:14:03.619Z"
   },
   {
    "duration": 5,
    "start_time": "2022-01-25T16:14:03.625Z"
   },
   {
    "duration": 8,
    "start_time": "2022-01-25T16:14:03.631Z"
   },
   {
    "duration": 3,
    "start_time": "2022-01-25T16:14:03.672Z"
   },
   {
    "duration": 4,
    "start_time": "2022-01-25T16:14:03.677Z"
   },
   {
    "duration": 9,
    "start_time": "2022-01-25T16:14:03.683Z"
   },
   {
    "duration": 6,
    "start_time": "2022-01-25T16:14:03.693Z"
   },
   {
    "duration": 44,
    "start_time": "2022-01-25T16:14:03.700Z"
   },
   {
    "duration": 37,
    "start_time": "2022-01-25T16:14:03.745Z"
   },
   {
    "duration": 7,
    "start_time": "2022-01-25T16:14:03.784Z"
   },
   {
    "duration": 10,
    "start_time": "2022-01-25T16:14:03.792Z"
   },
   {
    "duration": 3,
    "start_time": "2022-01-25T16:14:03.803Z"
   },
   {
    "duration": 13,
    "start_time": "2022-01-25T16:14:03.808Z"
   },
   {
    "duration": 5,
    "start_time": "2022-01-25T16:14:03.822Z"
   },
   {
    "duration": 51,
    "start_time": "2022-01-25T16:14:03.829Z"
   },
   {
    "duration": 22,
    "start_time": "2022-01-25T16:14:03.882Z"
   },
   {
    "duration": 5,
    "start_time": "2022-01-25T16:14:03.905Z"
   },
   {
    "duration": 9,
    "start_time": "2022-01-25T16:14:03.912Z"
   },
   {
    "duration": 22,
    "start_time": "2022-01-25T16:14:03.922Z"
   },
   {
    "duration": 28,
    "start_time": "2022-01-25T16:14:03.946Z"
   },
   {
    "duration": 12,
    "start_time": "2022-01-25T16:14:03.976Z"
   },
   {
    "duration": 24,
    "start_time": "2022-01-25T16:14:03.989Z"
   },
   {
    "duration": 16,
    "start_time": "2022-01-25T16:14:04.015Z"
   },
   {
    "duration": 30,
    "start_time": "2022-01-25T16:14:04.033Z"
   },
   {
    "duration": 4,
    "start_time": "2022-01-25T16:14:04.064Z"
   },
   {
    "duration": 54,
    "start_time": "2022-01-25T16:14:04.069Z"
   },
   {
    "duration": 5,
    "start_time": "2022-01-25T16:14:04.125Z"
   },
   {
    "duration": 222,
    "start_time": "2022-01-25T16:14:04.132Z"
   },
   {
    "duration": 24,
    "start_time": "2022-01-25T16:14:04.355Z"
   },
   {
    "duration": 17,
    "start_time": "2022-01-25T16:14:04.380Z"
   },
   {
    "duration": 284,
    "start_time": "2022-01-25T16:14:04.398Z"
   },
   {
    "duration": 7,
    "start_time": "2022-01-25T16:14:04.683Z"
   },
   {
    "duration": 18,
    "start_time": "2022-01-25T16:24:34.207Z"
   },
   {
    "duration": 201,
    "start_time": "2022-01-25T16:25:48.184Z"
   },
   {
    "duration": 214,
    "start_time": "2022-01-25T16:26:05.568Z"
   },
   {
    "duration": 5,
    "start_time": "2022-01-25T16:26:41.455Z"
   },
   {
    "duration": 4,
    "start_time": "2022-01-25T16:27:08.792Z"
   },
   {
    "duration": 389,
    "start_time": "2022-01-25T16:29:04.144Z"
   },
   {
    "duration": 11,
    "start_time": "2022-01-25T16:29:20.432Z"
   },
   {
    "duration": 13,
    "start_time": "2022-01-25T16:29:58.557Z"
   },
   {
    "duration": 309,
    "start_time": "2022-01-25T16:31:07.967Z"
   },
   {
    "duration": 309,
    "start_time": "2022-01-25T16:31:18.710Z"
   },
   {
    "duration": 13,
    "start_time": "2022-01-25T16:35:14.159Z"
   },
   {
    "duration": 218,
    "start_time": "2022-01-25T16:55:48.164Z"
   },
   {
    "duration": 233,
    "start_time": "2022-01-25T16:58:07.516Z"
   },
   {
    "duration": 34,
    "start_time": "2022-01-25T16:59:32.091Z"
   },
   {
    "duration": 9,
    "start_time": "2022-01-25T17:00:28.882Z"
   },
   {
    "duration": 36,
    "start_time": "2022-01-25T17:00:31.387Z"
   },
   {
    "duration": 563,
    "start_time": "2022-01-25T17:00:45.909Z"
   },
   {
    "duration": 3,
    "start_time": "2022-01-25T17:00:46.474Z"
   },
   {
    "duration": 91,
    "start_time": "2022-01-25T17:00:46.482Z"
   },
   {
    "duration": 434,
    "start_time": "2022-01-25T17:00:46.574Z"
   },
   {
    "duration": 156,
    "start_time": "2022-01-25T17:00:47.010Z"
   },
   {
    "duration": 22,
    "start_time": "2022-01-25T17:00:47.168Z"
   },
   {
    "duration": 19,
    "start_time": "2022-01-25T17:00:47.192Z"
   },
   {
    "duration": 8,
    "start_time": "2022-01-25T17:00:47.213Z"
   },
   {
    "duration": 61,
    "start_time": "2022-01-25T17:00:47.223Z"
   },
   {
    "duration": 12,
    "start_time": "2022-01-25T17:00:47.286Z"
   },
   {
    "duration": 17,
    "start_time": "2022-01-25T17:00:47.300Z"
   },
   {
    "duration": 30,
    "start_time": "2022-01-25T17:00:47.319Z"
   },
   {
    "duration": 22,
    "start_time": "2022-01-25T17:00:47.351Z"
   },
   {
    "duration": 4,
    "start_time": "2022-01-25T17:00:47.374Z"
   },
   {
    "duration": 18,
    "start_time": "2022-01-25T17:00:47.380Z"
   },
   {
    "duration": 23,
    "start_time": "2022-01-25T17:00:47.400Z"
   },
   {
    "duration": 6,
    "start_time": "2022-01-25T17:00:47.424Z"
   },
   {
    "duration": 16,
    "start_time": "2022-01-25T17:00:47.431Z"
   },
   {
    "duration": 7,
    "start_time": "2022-01-25T17:00:47.448Z"
   },
   {
    "duration": 11,
    "start_time": "2022-01-25T17:00:47.456Z"
   },
   {
    "duration": 6,
    "start_time": "2022-01-25T17:00:47.469Z"
   },
   {
    "duration": 3,
    "start_time": "2022-01-25T17:00:47.479Z"
   },
   {
    "duration": 12,
    "start_time": "2022-01-25T17:00:47.484Z"
   },
   {
    "duration": 14,
    "start_time": "2022-01-25T17:00:47.497Z"
   },
   {
    "duration": 57,
    "start_time": "2022-01-25T17:00:47.513Z"
   },
   {
    "duration": 19,
    "start_time": "2022-01-25T17:00:47.571Z"
   },
   {
    "duration": 7,
    "start_time": "2022-01-25T17:00:47.592Z"
   },
   {
    "duration": 15,
    "start_time": "2022-01-25T17:00:47.600Z"
   },
   {
    "duration": 5,
    "start_time": "2022-01-25T17:00:47.617Z"
   },
   {
    "duration": 26,
    "start_time": "2022-01-25T17:00:47.623Z"
   },
   {
    "duration": 17,
    "start_time": "2022-01-25T17:00:47.650Z"
   },
   {
    "duration": 46,
    "start_time": "2022-01-25T17:00:47.668Z"
   },
   {
    "duration": 23,
    "start_time": "2022-01-25T17:00:47.716Z"
   },
   {
    "duration": 5,
    "start_time": "2022-01-25T17:00:47.741Z"
   },
   {
    "duration": 21,
    "start_time": "2022-01-25T17:00:47.747Z"
   },
   {
    "duration": 42,
    "start_time": "2022-01-25T17:00:47.769Z"
   },
   {
    "duration": 4,
    "start_time": "2022-01-25T17:00:47.813Z"
   },
   {
    "duration": 18,
    "start_time": "2022-01-25T17:00:47.818Z"
   },
   {
    "duration": 23,
    "start_time": "2022-01-25T17:00:47.838Z"
   },
   {
    "duration": 23,
    "start_time": "2022-01-25T17:00:47.863Z"
   },
   {
    "duration": 31,
    "start_time": "2022-01-25T17:00:47.887Z"
   },
   {
    "duration": 9,
    "start_time": "2022-01-25T17:00:47.920Z"
   },
   {
    "duration": 57,
    "start_time": "2022-01-25T17:00:47.930Z"
   },
   {
    "duration": 6,
    "start_time": "2022-01-25T17:00:47.989Z"
   },
   {
    "duration": 229,
    "start_time": "2022-01-25T17:00:47.996Z"
   },
   {
    "duration": 18,
    "start_time": "2022-01-25T17:00:48.227Z"
   },
   {
    "duration": 30,
    "start_time": "2022-01-25T17:00:48.247Z"
   },
   {
    "duration": 283,
    "start_time": "2022-01-25T17:00:48.279Z"
   },
   {
    "duration": 13,
    "start_time": "2022-01-25T17:00:48.564Z"
   },
   {
    "duration": 54,
    "start_time": "2022-01-25T17:00:48.578Z"
   },
   {
    "duration": 228,
    "start_time": "2022-01-25T17:00:48.634Z"
   },
   {
    "duration": 17,
    "start_time": "2022-01-25T17:00:48.863Z"
   },
   {
    "duration": 13,
    "start_time": "2022-01-25T17:04:36.557Z"
   },
   {
    "duration": 13,
    "start_time": "2022-01-25T17:04:51.415Z"
   },
   {
    "duration": 101,
    "start_time": "2022-01-25T17:05:43.503Z"
   },
   {
    "duration": 105,
    "start_time": "2022-01-25T17:07:17.100Z"
   },
   {
    "duration": 147,
    "start_time": "2022-01-25T17:07:43.733Z"
   },
   {
    "duration": 16,
    "start_time": "2022-01-25T17:07:59.251Z"
   },
   {
    "duration": 15,
    "start_time": "2022-01-25T17:08:06.036Z"
   },
   {
    "duration": 13,
    "start_time": "2022-01-25T17:08:21.588Z"
   },
   {
    "duration": 13,
    "start_time": "2022-01-25T17:08:25.189Z"
   },
   {
    "duration": 20,
    "start_time": "2022-01-25T17:11:01.094Z"
   },
   {
    "duration": 11,
    "start_time": "2022-01-25T17:11:09.548Z"
   },
   {
    "duration": 13,
    "start_time": "2022-01-25T17:12:05.805Z"
   },
   {
    "duration": 13,
    "start_time": "2022-01-25T17:19:05.250Z"
   },
   {
    "duration": 12,
    "start_time": "2022-01-25T17:19:32.226Z"
   },
   {
    "duration": 109,
    "start_time": "2022-01-25T17:20:26.290Z"
   },
   {
    "duration": 241,
    "start_time": "2022-01-25T17:20:46.145Z"
   },
   {
    "duration": 292,
    "start_time": "2022-01-25T17:22:57.136Z"
   },
   {
    "duration": 3381,
    "start_time": "2022-01-25T17:23:29.408Z"
   },
   {
    "duration": 213,
    "start_time": "2022-01-25T17:23:53.432Z"
   },
   {
    "duration": 320,
    "start_time": "2022-01-25T17:23:59.927Z"
   },
   {
    "duration": 18,
    "start_time": "2022-01-25T17:25:20.617Z"
   },
   {
    "duration": 259,
    "start_time": "2022-01-25T17:25:47.207Z"
   },
   {
    "duration": 276,
    "start_time": "2022-01-25T17:25:55.095Z"
   },
   {
    "duration": 7457,
    "start_time": "2022-01-25T17:27:54.264Z"
   },
   {
    "duration": 5,
    "start_time": "2022-01-25T17:28:03.472Z"
   },
   {
    "duration": 592,
    "start_time": "2022-01-25T17:29:25.933Z"
   },
   {
    "duration": 2,
    "start_time": "2022-01-25T17:29:26.527Z"
   },
   {
    "duration": 78,
    "start_time": "2022-01-25T17:29:26.532Z"
   },
   {
    "duration": 521,
    "start_time": "2022-01-25T17:29:26.612Z"
   },
   {
    "duration": 119,
    "start_time": "2022-01-25T17:29:27.134Z"
   },
   {
    "duration": 32,
    "start_time": "2022-01-25T17:29:27.266Z"
   },
   {
    "duration": 9,
    "start_time": "2022-01-25T17:29:27.300Z"
   },
   {
    "duration": 8,
    "start_time": "2022-01-25T17:29:27.310Z"
   },
   {
    "duration": 85,
    "start_time": "2022-01-25T17:29:27.320Z"
   },
   {
    "duration": 14,
    "start_time": "2022-01-25T17:29:27.406Z"
   },
   {
    "duration": 18,
    "start_time": "2022-01-25T17:29:27.422Z"
   },
   {
    "duration": 38,
    "start_time": "2022-01-25T17:29:27.442Z"
   },
   {
    "duration": 14,
    "start_time": "2022-01-25T17:29:27.482Z"
   },
   {
    "duration": 4,
    "start_time": "2022-01-25T17:29:27.498Z"
   },
   {
    "duration": 22,
    "start_time": "2022-01-25T17:29:27.503Z"
   },
   {
    "duration": 20,
    "start_time": "2022-01-25T17:29:27.527Z"
   },
   {
    "duration": 9,
    "start_time": "2022-01-25T17:29:27.549Z"
   },
   {
    "duration": 25,
    "start_time": "2022-01-25T17:29:27.563Z"
   },
   {
    "duration": 5,
    "start_time": "2022-01-25T17:29:27.592Z"
   },
   {
    "duration": 8,
    "start_time": "2022-01-25T17:29:27.599Z"
   },
   {
    "duration": 20,
    "start_time": "2022-01-25T17:29:27.609Z"
   },
   {
    "duration": 6,
    "start_time": "2022-01-25T17:29:27.630Z"
   },
   {
    "duration": 15,
    "start_time": "2022-01-25T17:29:27.638Z"
   },
   {
    "duration": 15,
    "start_time": "2022-01-25T17:29:27.655Z"
   },
   {
    "duration": 52,
    "start_time": "2022-01-25T17:29:27.672Z"
   },
   {
    "duration": 28,
    "start_time": "2022-01-25T17:29:27.726Z"
   },
   {
    "duration": 18,
    "start_time": "2022-01-25T17:29:27.756Z"
   },
   {
    "duration": 22,
    "start_time": "2022-01-25T17:29:27.776Z"
   },
   {
    "duration": 3,
    "start_time": "2022-01-25T17:29:27.800Z"
   },
   {
    "duration": 19,
    "start_time": "2022-01-25T17:29:27.804Z"
   },
   {
    "duration": 9,
    "start_time": "2022-01-25T17:29:27.825Z"
   },
   {
    "duration": 42,
    "start_time": "2022-01-25T17:29:27.835Z"
   },
   {
    "duration": 26,
    "start_time": "2022-01-25T17:29:27.878Z"
   },
   {
    "duration": 13,
    "start_time": "2022-01-25T17:29:27.906Z"
   },
   {
    "duration": 15,
    "start_time": "2022-01-25T17:29:27.920Z"
   },
   {
    "duration": 39,
    "start_time": "2022-01-25T17:29:27.937Z"
   },
   {
    "duration": 4,
    "start_time": "2022-01-25T17:29:27.978Z"
   },
   {
    "duration": 17,
    "start_time": "2022-01-25T17:29:27.983Z"
   },
   {
    "duration": 22,
    "start_time": "2022-01-25T17:29:28.002Z"
   },
   {
    "duration": 24,
    "start_time": "2022-01-25T17:29:28.026Z"
   },
   {
    "duration": 35,
    "start_time": "2022-01-25T17:29:28.052Z"
   },
   {
    "duration": 4,
    "start_time": "2022-01-25T17:29:28.089Z"
   },
   {
    "duration": 11,
    "start_time": "2022-01-25T17:29:28.094Z"
   },
   {
    "duration": 60,
    "start_time": "2022-01-25T17:29:28.107Z"
   },
   {
    "duration": 7,
    "start_time": "2022-01-25T17:29:28.169Z"
   },
   {
    "duration": 227,
    "start_time": "2022-01-25T17:29:28.178Z"
   },
   {
    "duration": 21,
    "start_time": "2022-01-25T17:29:28.406Z"
   },
   {
    "duration": 18,
    "start_time": "2022-01-25T17:29:28.428Z"
   },
   {
    "duration": 318,
    "start_time": "2022-01-25T17:29:28.448Z"
   },
   {
    "duration": 9,
    "start_time": "2022-01-25T17:29:28.771Z"
   },
   {
    "duration": 4,
    "start_time": "2022-01-25T17:29:28.782Z"
   },
   {
    "duration": 28,
    "start_time": "2022-01-25T17:29:28.788Z"
   },
   {
    "duration": 287,
    "start_time": "2022-01-25T17:29:28.818Z"
   },
   {
    "duration": 292,
    "start_time": "2022-01-25T17:29:29.110Z"
   },
   {
    "duration": 258,
    "start_time": "2022-01-25T17:29:29.404Z"
   },
   {
    "duration": 225,
    "start_time": "2022-01-25T17:30:17.433Z"
   },
   {
    "duration": 299,
    "start_time": "2022-01-25T17:31:11.824Z"
   },
   {
    "duration": 372,
    "start_time": "2022-01-25T17:31:54.519Z"
   },
   {
    "duration": 273,
    "start_time": "2022-01-25T17:32:10.657Z"
   },
   {
    "duration": 282,
    "start_time": "2022-01-25T17:34:06.112Z"
   },
   {
    "duration": 27,
    "start_time": "2022-01-25T17:34:08.271Z"
   },
   {
    "duration": 29,
    "start_time": "2022-01-25T17:34:23.967Z"
   },
   {
    "duration": 332,
    "start_time": "2022-01-25T17:35:19.559Z"
   },
   {
    "duration": 29,
    "start_time": "2022-01-25T17:35:35.768Z"
   },
   {
    "duration": 280,
    "start_time": "2022-01-25T17:35:44.934Z"
   },
   {
    "duration": 264,
    "start_time": "2022-01-25T17:35:49.871Z"
   },
   {
    "duration": 248,
    "start_time": "2022-01-25T17:36:50.415Z"
   },
   {
    "duration": 560,
    "start_time": "2022-01-25T17:37:22.121Z"
   },
   {
    "duration": 4,
    "start_time": "2022-01-25T17:37:22.683Z"
   },
   {
    "duration": 81,
    "start_time": "2022-01-25T17:37:22.690Z"
   },
   {
    "duration": 454,
    "start_time": "2022-01-25T17:37:22.773Z"
   },
   {
    "duration": 129,
    "start_time": "2022-01-25T17:37:23.229Z"
   },
   {
    "duration": 27,
    "start_time": "2022-01-25T17:37:23.359Z"
   },
   {
    "duration": 9,
    "start_time": "2022-01-25T17:37:23.387Z"
   },
   {
    "duration": 9,
    "start_time": "2022-01-25T17:37:23.398Z"
   },
   {
    "duration": 68,
    "start_time": "2022-01-25T17:37:23.409Z"
   },
   {
    "duration": 15,
    "start_time": "2022-01-25T17:37:23.479Z"
   },
   {
    "duration": 14,
    "start_time": "2022-01-25T17:37:23.496Z"
   },
   {
    "duration": 38,
    "start_time": "2022-01-25T17:37:23.512Z"
   },
   {
    "duration": 20,
    "start_time": "2022-01-25T17:37:23.552Z"
   },
   {
    "duration": 4,
    "start_time": "2022-01-25T17:37:23.574Z"
   },
   {
    "duration": 19,
    "start_time": "2022-01-25T17:37:23.580Z"
   },
   {
    "duration": 25,
    "start_time": "2022-01-25T17:37:23.601Z"
   },
   {
    "duration": 6,
    "start_time": "2022-01-25T17:37:23.628Z"
   },
   {
    "duration": 8,
    "start_time": "2022-01-25T17:37:23.636Z"
   },
   {
    "duration": 16,
    "start_time": "2022-01-25T17:37:23.646Z"
   },
   {
    "duration": 10,
    "start_time": "2022-01-25T17:37:23.671Z"
   },
   {
    "duration": 22,
    "start_time": "2022-01-25T17:37:23.683Z"
   },
   {
    "duration": 6,
    "start_time": "2022-01-25T17:37:23.707Z"
   },
   {
    "duration": 11,
    "start_time": "2022-01-25T17:37:23.717Z"
   },
   {
    "duration": 27,
    "start_time": "2022-01-25T17:37:23.730Z"
   },
   {
    "duration": 71,
    "start_time": "2022-01-25T17:37:23.759Z"
   },
   {
    "duration": 20,
    "start_time": "2022-01-25T17:37:23.832Z"
   },
   {
    "duration": 8,
    "start_time": "2022-01-25T17:37:23.854Z"
   },
   {
    "duration": 22,
    "start_time": "2022-01-25T17:37:23.864Z"
   },
   {
    "duration": 4,
    "start_time": "2022-01-25T17:37:23.888Z"
   },
   {
    "duration": 18,
    "start_time": "2022-01-25T17:37:23.894Z"
   },
   {
    "duration": 6,
    "start_time": "2022-01-25T17:37:23.914Z"
   },
   {
    "duration": 31,
    "start_time": "2022-01-25T17:37:23.922Z"
   },
   {
    "duration": 38,
    "start_time": "2022-01-25T17:37:23.955Z"
   },
   {
    "duration": 7,
    "start_time": "2022-01-25T17:37:23.995Z"
   },
   {
    "duration": 11,
    "start_time": "2022-01-25T17:37:24.004Z"
   },
   {
    "duration": 62,
    "start_time": "2022-01-25T17:37:24.017Z"
   },
   {
    "duration": 4,
    "start_time": "2022-01-25T17:37:24.080Z"
   },
   {
    "duration": 3,
    "start_time": "2022-01-25T17:37:24.085Z"
   },
   {
    "duration": 9,
    "start_time": "2022-01-25T17:37:24.089Z"
   },
   {
    "duration": 15,
    "start_time": "2022-01-25T17:37:24.100Z"
   },
   {
    "duration": 28,
    "start_time": "2022-01-25T17:37:24.117Z"
   },
   {
    "duration": 5,
    "start_time": "2022-01-25T17:37:24.147Z"
   },
   {
    "duration": 20,
    "start_time": "2022-01-25T17:37:24.154Z"
   },
   {
    "duration": 56,
    "start_time": "2022-01-25T17:37:24.176Z"
   },
   {
    "duration": 7,
    "start_time": "2022-01-25T17:37:24.233Z"
   },
   {
    "duration": 239,
    "start_time": "2022-01-25T17:37:24.242Z"
   },
   {
    "duration": 20,
    "start_time": "2022-01-25T17:37:24.483Z"
   },
   {
    "duration": 17,
    "start_time": "2022-01-25T17:37:24.505Z"
   },
   {
    "duration": 301,
    "start_time": "2022-01-25T17:37:24.524Z"
   },
   {
    "duration": 9,
    "start_time": "2022-01-25T17:37:24.827Z"
   },
   {
    "duration": 38,
    "start_time": "2022-01-25T17:37:24.837Z"
   },
   {
    "duration": 261,
    "start_time": "2022-01-25T17:37:24.877Z"
   },
   {
    "duration": 280,
    "start_time": "2022-01-25T17:37:25.140Z"
   },
   {
    "duration": 281,
    "start_time": "2022-01-25T17:37:25.421Z"
   },
   {
    "duration": 261,
    "start_time": "2022-01-25T17:37:25.704Z"
   },
   {
    "duration": 301,
    "start_time": "2022-01-25T17:40:22.379Z"
   },
   {
    "duration": 235,
    "start_time": "2022-01-25T17:40:26.363Z"
   },
   {
    "duration": 262,
    "start_time": "2022-01-25T17:41:24.195Z"
   },
   {
    "duration": 570,
    "start_time": "2022-01-25T17:43:46.201Z"
   },
   {
    "duration": 2,
    "start_time": "2022-01-25T17:43:46.774Z"
   },
   {
    "duration": 72,
    "start_time": "2022-01-25T17:43:46.779Z"
   },
   {
    "duration": 460,
    "start_time": "2022-01-25T17:43:46.853Z"
   },
   {
    "duration": 133,
    "start_time": "2022-01-25T17:43:47.314Z"
   },
   {
    "duration": 23,
    "start_time": "2022-01-25T17:43:47.448Z"
   },
   {
    "duration": 8,
    "start_time": "2022-01-25T17:43:47.473Z"
   },
   {
    "duration": 7,
    "start_time": "2022-01-25T17:43:47.484Z"
   },
   {
    "duration": 63,
    "start_time": "2022-01-25T17:43:47.493Z"
   },
   {
    "duration": 16,
    "start_time": "2022-01-25T17:43:47.571Z"
   },
   {
    "duration": 9,
    "start_time": "2022-01-25T17:43:47.588Z"
   },
   {
    "duration": 25,
    "start_time": "2022-01-25T17:43:47.598Z"
   },
   {
    "duration": 15,
    "start_time": "2022-01-25T17:43:47.624Z"
   },
   {
    "duration": 32,
    "start_time": "2022-01-25T17:43:47.641Z"
   },
   {
    "duration": 5,
    "start_time": "2022-01-25T17:43:47.675Z"
   },
   {
    "duration": 16,
    "start_time": "2022-01-25T17:43:47.681Z"
   },
   {
    "duration": 6,
    "start_time": "2022-01-25T17:43:47.698Z"
   },
   {
    "duration": 7,
    "start_time": "2022-01-25T17:43:47.706Z"
   },
   {
    "duration": 8,
    "start_time": "2022-01-25T17:43:47.714Z"
   },
   {
    "duration": 10,
    "start_time": "2022-01-25T17:43:47.723Z"
   },
   {
    "duration": 12,
    "start_time": "2022-01-25T17:43:47.734Z"
   },
   {
    "duration": 24,
    "start_time": "2022-01-25T17:43:47.748Z"
   },
   {
    "duration": 3,
    "start_time": "2022-01-25T17:43:47.776Z"
   },
   {
    "duration": 10,
    "start_time": "2022-01-25T17:43:47.782Z"
   },
   {
    "duration": 49,
    "start_time": "2022-01-25T17:43:47.793Z"
   },
   {
    "duration": 38,
    "start_time": "2022-01-25T17:43:47.844Z"
   },
   {
    "duration": 8,
    "start_time": "2022-01-25T17:43:47.884Z"
   },
   {
    "duration": 11,
    "start_time": "2022-01-25T17:43:47.893Z"
   },
   {
    "duration": 4,
    "start_time": "2022-01-25T17:43:47.906Z"
   },
   {
    "duration": 16,
    "start_time": "2022-01-25T17:43:47.911Z"
   },
   {
    "duration": 6,
    "start_time": "2022-01-25T17:43:47.928Z"
   },
   {
    "duration": 59,
    "start_time": "2022-01-25T17:43:47.935Z"
   },
   {
    "duration": 25,
    "start_time": "2022-01-25T17:43:47.996Z"
   },
   {
    "duration": 6,
    "start_time": "2022-01-25T17:43:48.023Z"
   },
   {
    "duration": 10,
    "start_time": "2022-01-25T17:43:48.030Z"
   },
   {
    "duration": 47,
    "start_time": "2022-01-25T17:43:48.042Z"
   },
   {
    "duration": 5,
    "start_time": "2022-01-25T17:43:48.090Z"
   },
   {
    "duration": 3,
    "start_time": "2022-01-25T17:43:48.097Z"
   },
   {
    "duration": 8,
    "start_time": "2022-01-25T17:43:48.102Z"
   },
   {
    "duration": 9,
    "start_time": "2022-01-25T17:43:48.111Z"
   },
   {
    "duration": 27,
    "start_time": "2022-01-25T17:43:48.121Z"
   },
   {
    "duration": 24,
    "start_time": "2022-01-25T17:43:48.150Z"
   },
   {
    "duration": 4,
    "start_time": "2022-01-25T17:43:48.176Z"
   },
   {
    "duration": 52,
    "start_time": "2022-01-25T17:43:48.182Z"
   },
   {
    "duration": 8,
    "start_time": "2022-01-25T17:43:48.236Z"
   },
   {
    "duration": 231,
    "start_time": "2022-01-25T17:43:48.246Z"
   },
   {
    "duration": 18,
    "start_time": "2022-01-25T17:43:48.479Z"
   },
   {
    "duration": 21,
    "start_time": "2022-01-25T17:43:48.499Z"
   },
   {
    "duration": 299,
    "start_time": "2022-01-25T17:43:48.521Z"
   },
   {
    "duration": 8,
    "start_time": "2022-01-25T17:43:48.822Z"
   },
   {
    "duration": 40,
    "start_time": "2022-01-25T17:43:48.831Z"
   },
   {
    "duration": 242,
    "start_time": "2022-01-25T17:43:48.873Z"
   },
   {
    "duration": 266,
    "start_time": "2022-01-25T17:43:49.116Z"
   },
   {
    "duration": 333,
    "start_time": "2022-01-25T17:43:49.384Z"
   },
   {
    "duration": 249,
    "start_time": "2022-01-25T17:43:49.719Z"
   },
   {
    "duration": 310,
    "start_time": "2022-01-25T17:43:49.971Z"
   },
   {
    "duration": 248,
    "start_time": "2022-01-25T17:47:47.961Z"
   },
   {
    "duration": 286,
    "start_time": "2022-01-25T17:48:40.112Z"
   },
   {
    "duration": 274,
    "start_time": "2022-01-25T17:48:53.738Z"
   },
   {
    "duration": 290,
    "start_time": "2022-01-25T17:49:46.586Z"
   },
   {
    "duration": 392,
    "start_time": "2022-01-25T17:52:02.071Z"
   },
   {
    "duration": 301,
    "start_time": "2022-01-25T17:52:24.775Z"
   },
   {
    "duration": 289,
    "start_time": "2022-01-26T08:29:03.796Z"
   },
   {
    "duration": 613,
    "start_time": "2022-01-26T08:33:47.835Z"
   },
   {
    "duration": 2,
    "start_time": "2022-01-26T08:33:48.450Z"
   },
   {
    "duration": 92,
    "start_time": "2022-01-26T08:33:48.454Z"
   },
   {
    "duration": 537,
    "start_time": "2022-01-26T08:33:48.548Z"
   },
   {
    "duration": 106,
    "start_time": "2022-01-26T08:33:49.087Z"
   },
   {
    "duration": 26,
    "start_time": "2022-01-26T08:33:49.196Z"
   },
   {
    "duration": 13,
    "start_time": "2022-01-26T08:33:49.224Z"
   },
   {
    "duration": 10,
    "start_time": "2022-01-26T08:33:49.240Z"
   },
   {
    "duration": 89,
    "start_time": "2022-01-26T08:33:49.254Z"
   },
   {
    "duration": 17,
    "start_time": "2022-01-26T08:33:49.347Z"
   },
   {
    "duration": 19,
    "start_time": "2022-01-26T08:33:49.367Z"
   },
   {
    "duration": 33,
    "start_time": "2022-01-26T08:33:49.408Z"
   },
   {
    "duration": 18,
    "start_time": "2022-01-26T08:33:49.443Z"
   },
   {
    "duration": 36,
    "start_time": "2022-01-26T08:33:49.463Z"
   },
   {
    "duration": 12,
    "start_time": "2022-01-26T08:33:49.501Z"
   },
   {
    "duration": 22,
    "start_time": "2022-01-26T08:33:49.515Z"
   },
   {
    "duration": 9,
    "start_time": "2022-01-26T08:33:49.539Z"
   },
   {
    "duration": 10,
    "start_time": "2022-01-26T08:33:49.550Z"
   },
   {
    "duration": 8,
    "start_time": "2022-01-26T08:33:49.562Z"
   },
   {
    "duration": 7,
    "start_time": "2022-01-26T08:33:49.572Z"
   },
   {
    "duration": 32,
    "start_time": "2022-01-26T08:33:49.580Z"
   },
   {
    "duration": 6,
    "start_time": "2022-01-26T08:33:49.614Z"
   },
   {
    "duration": 10,
    "start_time": "2022-01-26T08:33:49.621Z"
   },
   {
    "duration": 15,
    "start_time": "2022-01-26T08:33:49.633Z"
   },
   {
    "duration": 65,
    "start_time": "2022-01-26T08:33:49.650Z"
   },
   {
    "duration": 23,
    "start_time": "2022-01-26T08:33:49.717Z"
   },
   {
    "duration": 8,
    "start_time": "2022-01-26T08:33:49.744Z"
   },
   {
    "duration": 15,
    "start_time": "2022-01-26T08:33:49.754Z"
   },
   {
    "duration": 4,
    "start_time": "2022-01-26T08:33:49.771Z"
   },
   {
    "duration": 15,
    "start_time": "2022-01-26T08:33:49.807Z"
   },
   {
    "duration": 5,
    "start_time": "2022-01-26T08:33:49.824Z"
   },
   {
    "duration": 37,
    "start_time": "2022-01-26T08:33:49.831Z"
   },
   {
    "duration": 50,
    "start_time": "2022-01-26T08:33:49.870Z"
   },
   {
    "duration": 7,
    "start_time": "2022-01-26T08:33:49.921Z"
   },
   {
    "duration": 23,
    "start_time": "2022-01-26T08:33:49.930Z"
   },
   {
    "duration": 27,
    "start_time": "2022-01-26T08:33:49.956Z"
   },
   {
    "duration": 22,
    "start_time": "2022-01-26T08:33:49.985Z"
   },
   {
    "duration": 7,
    "start_time": "2022-01-26T08:33:50.010Z"
   },
   {
    "duration": 15,
    "start_time": "2022-01-26T08:33:50.019Z"
   },
   {
    "duration": 8,
    "start_time": "2022-01-26T08:33:50.036Z"
   },
   {
    "duration": 28,
    "start_time": "2022-01-26T08:33:50.046Z"
   },
   {
    "duration": 30,
    "start_time": "2022-01-26T08:33:50.076Z"
   },
   {
    "duration": 7,
    "start_time": "2022-01-26T08:33:50.108Z"
   },
   {
    "duration": 62,
    "start_time": "2022-01-26T08:33:50.118Z"
   },
   {
    "duration": 8,
    "start_time": "2022-01-26T08:33:50.182Z"
   },
   {
    "duration": 255,
    "start_time": "2022-01-26T08:33:50.208Z"
   },
   {
    "duration": 22,
    "start_time": "2022-01-26T08:33:50.464Z"
   },
   {
    "duration": 35,
    "start_time": "2022-01-26T08:33:50.487Z"
   },
   {
    "duration": 330,
    "start_time": "2022-01-26T08:33:50.524Z"
   },
   {
    "duration": 10,
    "start_time": "2022-01-26T08:33:50.856Z"
   },
   {
    "duration": 58,
    "start_time": "2022-01-26T08:33:50.868Z"
   },
   {
    "duration": 303,
    "start_time": "2022-01-26T08:33:50.928Z"
   },
   {
    "duration": 328,
    "start_time": "2022-01-26T08:33:51.233Z"
   },
   {
    "duration": 276,
    "start_time": "2022-01-26T08:33:51.563Z"
   },
   {
    "duration": 289,
    "start_time": "2022-01-26T08:33:51.841Z"
   },
   {
    "duration": 360,
    "start_time": "2022-01-26T08:33:52.132Z"
   },
   {
    "duration": 305,
    "start_time": "2022-01-26T08:33:52.494Z"
   },
   {
    "duration": 785,
    "start_time": "2022-01-26T16:32:14.428Z"
   },
   {
    "duration": 3,
    "start_time": "2022-01-26T16:32:15.216Z"
   },
   {
    "duration": 125,
    "start_time": "2022-01-26T16:32:15.222Z"
   },
   {
    "duration": 558,
    "start_time": "2022-01-26T16:32:15.350Z"
   },
   {
    "duration": 115,
    "start_time": "2022-01-26T16:32:15.910Z"
   },
   {
    "duration": 37,
    "start_time": "2022-01-26T16:32:16.027Z"
   },
   {
    "duration": 13,
    "start_time": "2022-01-26T16:32:16.067Z"
   },
   {
    "duration": 15,
    "start_time": "2022-01-26T16:32:16.083Z"
   },
   {
    "duration": 123,
    "start_time": "2022-01-26T16:32:16.101Z"
   },
   {
    "duration": 28,
    "start_time": "2022-01-26T16:32:16.226Z"
   },
   {
    "duration": 14,
    "start_time": "2022-01-26T16:32:16.257Z"
   },
   {
    "duration": 41,
    "start_time": "2022-01-26T16:32:16.274Z"
   },
   {
    "duration": 53,
    "start_time": "2022-01-26T16:32:16.317Z"
   },
   {
    "duration": 6,
    "start_time": "2022-01-26T16:32:16.372Z"
   },
   {
    "duration": 8,
    "start_time": "2022-01-26T16:32:16.380Z"
   },
   {
    "duration": 63,
    "start_time": "2022-01-26T16:32:16.390Z"
   },
   {
    "duration": 17,
    "start_time": "2022-01-26T16:32:16.456Z"
   },
   {
    "duration": 7,
    "start_time": "2022-01-26T16:32:16.475Z"
   },
   {
    "duration": 8,
    "start_time": "2022-01-26T16:32:16.484Z"
   },
   {
    "duration": 11,
    "start_time": "2022-01-26T16:32:16.494Z"
   },
   {
    "duration": 14,
    "start_time": "2022-01-26T16:32:16.507Z"
   },
   {
    "duration": 27,
    "start_time": "2022-01-26T16:32:16.524Z"
   },
   {
    "duration": 6,
    "start_time": "2022-01-26T16:32:16.556Z"
   },
   {
    "duration": 10,
    "start_time": "2022-01-26T16:32:16.565Z"
   },
   {
    "duration": 104,
    "start_time": "2022-01-26T16:32:16.577Z"
   },
   {
    "duration": 31,
    "start_time": "2022-01-26T16:32:16.684Z"
   },
   {
    "duration": 32,
    "start_time": "2022-01-26T16:32:16.718Z"
   },
   {
    "duration": 16,
    "start_time": "2022-01-26T16:32:16.752Z"
   },
   {
    "duration": 5,
    "start_time": "2022-01-26T16:32:16.770Z"
   },
   {
    "duration": 20,
    "start_time": "2022-01-26T16:32:16.777Z"
   },
   {
    "duration": 7,
    "start_time": "2022-01-26T16:32:16.800Z"
   },
   {
    "duration": 77,
    "start_time": "2022-01-26T16:32:16.809Z"
   },
   {
    "duration": 38,
    "start_time": "2022-01-26T16:32:16.889Z"
   },
   {
    "duration": 9,
    "start_time": "2022-01-26T16:32:16.949Z"
   },
   {
    "duration": 19,
    "start_time": "2022-01-26T16:32:16.960Z"
   },
   {
    "duration": 39,
    "start_time": "2022-01-26T16:32:16.981Z"
   },
   {
    "duration": 5,
    "start_time": "2022-01-26T16:32:17.049Z"
   },
   {
    "duration": 5,
    "start_time": "2022-01-26T16:32:17.057Z"
   },
   {
    "duration": 12,
    "start_time": "2022-01-26T16:32:17.064Z"
   },
   {
    "duration": 12,
    "start_time": "2022-01-26T16:32:17.078Z"
   },
   {
    "duration": 67,
    "start_time": "2022-01-26T16:32:17.092Z"
   },
   {
    "duration": 6,
    "start_time": "2022-01-26T16:32:17.162Z"
   },
   {
    "duration": 11,
    "start_time": "2022-01-26T16:32:17.170Z"
   },
   {
    "duration": 111,
    "start_time": "2022-01-26T16:32:17.183Z"
   },
   {
    "duration": 10,
    "start_time": "2022-01-26T16:32:17.296Z"
   },
   {
    "duration": 401,
    "start_time": "2022-01-26T16:32:17.308Z"
   },
   {
    "duration": 45,
    "start_time": "2022-01-26T16:32:17.711Z"
   },
   {
    "duration": 28,
    "start_time": "2022-01-26T16:32:17.758Z"
   },
   {
    "duration": 501,
    "start_time": "2022-01-26T16:32:17.789Z"
   },
   {
    "duration": 15,
    "start_time": "2022-01-26T16:32:18.294Z"
   },
   {
    "duration": 62,
    "start_time": "2022-01-26T16:32:18.311Z"
   },
   {
    "duration": 430,
    "start_time": "2022-01-26T16:32:18.375Z"
   },
   {
    "duration": 483,
    "start_time": "2022-01-26T16:32:18.808Z"
   },
   {
    "duration": 416,
    "start_time": "2022-01-26T16:32:19.293Z"
   },
   {
    "duration": 413,
    "start_time": "2022-01-26T16:32:19.711Z"
   },
   {
    "duration": 480,
    "start_time": "2022-01-26T16:32:20.126Z"
   },
   {
    "duration": 461,
    "start_time": "2022-01-26T16:32:20.609Z"
   },
   {
    "duration": 452,
    "start_time": "2022-01-26T16:40:14.781Z"
   },
   {
    "duration": 449,
    "start_time": "2022-01-26T16:48:21.769Z"
   },
   {
    "duration": 884,
    "start_time": "2022-01-26T16:49:01.545Z"
   },
   {
    "duration": 436,
    "start_time": "2022-01-26T16:49:08.025Z"
   },
   {
    "duration": 512,
    "start_time": "2022-01-26T17:19:52.629Z"
   },
   {
    "duration": 441,
    "start_time": "2022-01-26T17:20:20.491Z"
   },
   {
    "duration": 437,
    "start_time": "2022-01-26T17:20:37.939Z"
   },
   {
    "duration": 490,
    "start_time": "2022-01-26T17:21:06.339Z"
   },
   {
    "duration": 444,
    "start_time": "2022-01-26T17:21:13.330Z"
   },
   {
    "duration": 461,
    "start_time": "2022-01-26T17:21:39.163Z"
   },
   {
    "duration": 500,
    "start_time": "2022-01-26T17:35:08.049Z"
   },
   {
    "duration": 5,
    "start_time": "2022-01-26T18:00:43.379Z"
   },
   {
    "duration": 558,
    "start_time": "2022-01-26T18:04:29.333Z"
   },
   {
    "duration": 372,
    "start_time": "2022-01-26T18:05:01.907Z"
   },
   {
    "duration": 423,
    "start_time": "2022-01-26T18:22:53.329Z"
   },
   {
    "duration": 407,
    "start_time": "2022-01-26T18:23:05.216Z"
   },
   {
    "duration": 32,
    "start_time": "2022-01-26T18:24:33.390Z"
   },
   {
    "duration": 463,
    "start_time": "2022-01-26T18:25:12.271Z"
   },
   {
    "duration": 439,
    "start_time": "2022-01-26T18:26:18.726Z"
   },
   {
    "duration": 466,
    "start_time": "2022-01-26T18:27:06.200Z"
   },
   {
    "duration": 95,
    "start_time": "2022-01-26T18:51:15.962Z"
   },
   {
    "duration": 31,
    "start_time": "2022-01-26T18:51:24.362Z"
   },
   {
    "duration": 20,
    "start_time": "2022-01-26T18:54:17.193Z"
   },
   {
    "duration": 25,
    "start_time": "2022-01-26T18:55:05.739Z"
   },
   {
    "duration": 738,
    "start_time": "2022-01-26T18:59:44.173Z"
   },
   {
    "duration": 3,
    "start_time": "2022-01-26T18:59:44.914Z"
   },
   {
    "duration": 126,
    "start_time": "2022-01-26T18:59:44.920Z"
   },
   {
    "duration": 558,
    "start_time": "2022-01-26T18:59:45.049Z"
   },
   {
    "duration": 113,
    "start_time": "2022-01-26T18:59:45.610Z"
   },
   {
    "duration": 36,
    "start_time": "2022-01-26T18:59:45.725Z"
   },
   {
    "duration": 13,
    "start_time": "2022-01-26T18:59:45.763Z"
   },
   {
    "duration": 10,
    "start_time": "2022-01-26T18:59:45.780Z"
   },
   {
    "duration": 120,
    "start_time": "2022-01-26T18:59:45.794Z"
   },
   {
    "duration": 33,
    "start_time": "2022-01-26T18:59:45.917Z"
   },
   {
    "duration": 17,
    "start_time": "2022-01-26T18:59:45.953Z"
   },
   {
    "duration": 41,
    "start_time": "2022-01-26T18:59:45.973Z"
   },
   {
    "duration": 50,
    "start_time": "2022-01-26T18:59:46.016Z"
   },
   {
    "duration": 6,
    "start_time": "2022-01-26T18:59:46.069Z"
   },
   {
    "duration": 8,
    "start_time": "2022-01-26T18:59:46.078Z"
   },
   {
    "duration": 75,
    "start_time": "2022-01-26T18:59:46.089Z"
   },
   {
    "duration": 7,
    "start_time": "2022-01-26T18:59:46.167Z"
   },
   {
    "duration": 15,
    "start_time": "2022-01-26T18:59:46.187Z"
   },
   {
    "duration": 6,
    "start_time": "2022-01-26T18:59:46.205Z"
   },
   {
    "duration": 7,
    "start_time": "2022-01-26T18:59:46.213Z"
   },
   {
    "duration": 35,
    "start_time": "2022-01-26T18:59:46.222Z"
   },
   {
    "duration": 6,
    "start_time": "2022-01-26T18:59:46.260Z"
   },
   {
    "duration": 5,
    "start_time": "2022-01-26T18:59:46.274Z"
   },
   {
    "duration": 11,
    "start_time": "2022-01-26T18:59:46.283Z"
   },
   {
    "duration": 115,
    "start_time": "2022-01-26T18:59:46.296Z"
   },
   {
    "duration": 46,
    "start_time": "2022-01-26T18:59:46.414Z"
   },
   {
    "duration": 11,
    "start_time": "2022-01-26T18:59:46.463Z"
   },
   {
    "duration": 24,
    "start_time": "2022-01-26T18:59:46.476Z"
   },
   {
    "duration": 6,
    "start_time": "2022-01-26T18:59:46.503Z"
   },
   {
    "duration": 49,
    "start_time": "2022-01-26T18:59:46.512Z"
   },
   {
    "duration": 7,
    "start_time": "2022-01-26T18:59:46.564Z"
   },
   {
    "duration": 42,
    "start_time": "2022-01-26T18:59:46.574Z"
   },
   {
    "duration": 59,
    "start_time": "2022-01-26T18:59:46.618Z"
   },
   {
    "duration": 12,
    "start_time": "2022-01-26T18:59:46.680Z"
   },
   {
    "duration": 20,
    "start_time": "2022-01-26T18:59:46.694Z"
   },
   {
    "duration": 63,
    "start_time": "2022-01-26T18:59:46.716Z"
   },
   {
    "duration": 5,
    "start_time": "2022-01-26T18:59:46.781Z"
   },
   {
    "duration": 7,
    "start_time": "2022-01-26T18:59:46.789Z"
   },
   {
    "duration": 12,
    "start_time": "2022-01-26T18:59:46.799Z"
   },
   {
    "duration": 40,
    "start_time": "2022-01-26T18:59:46.813Z"
   },
   {
    "duration": 32,
    "start_time": "2022-01-26T18:59:46.855Z"
   },
   {
    "duration": 5,
    "start_time": "2022-01-26T18:59:46.889Z"
   },
   {
    "duration": 8,
    "start_time": "2022-01-26T18:59:46.896Z"
   },
   {
    "duration": 102,
    "start_time": "2022-01-26T18:59:46.906Z"
   },
   {
    "duration": 10,
    "start_time": "2022-01-26T18:59:47.011Z"
   },
   {
    "duration": 403,
    "start_time": "2022-01-26T18:59:47.023Z"
   },
   {
    "duration": 5,
    "start_time": "2022-01-26T18:59:47.429Z"
   },
   {
    "duration": 431,
    "start_time": "2022-01-26T18:59:47.436Z"
   },
   {
    "duration": 30,
    "start_time": "2022-01-26T18:59:47.869Z"
   },
   {
    "duration": 499,
    "start_time": "2022-01-26T18:59:47.902Z"
   },
   {
    "duration": 14,
    "start_time": "2022-01-26T18:59:48.403Z"
   },
   {
    "duration": 62,
    "start_time": "2022-01-26T18:59:48.419Z"
   },
   {
    "duration": 19,
    "start_time": "2022-01-26T18:59:48.483Z"
   },
   {
    "duration": 562,
    "start_time": "2022-01-26T18:59:48.504Z"
   },
   {
    "duration": 470,
    "start_time": "2022-01-26T18:59:49.068Z"
   },
   {
    "duration": 396,
    "start_time": "2022-01-26T18:59:49.541Z"
   },
   {
    "duration": 492,
    "start_time": "2022-01-26T18:59:49.940Z"
   },
   {
    "duration": 441,
    "start_time": "2022-01-26T18:59:50.435Z"
   },
   {
    "duration": 35,
    "start_time": "2022-01-26T18:59:50.878Z"
   },
   {
    "duration": 456,
    "start_time": "2022-01-26T18:59:50.916Z"
   },
   {
    "duration": 940,
    "start_time": "2022-01-26T19:00:02.036Z"
   },
   {
    "duration": 4,
    "start_time": "2022-01-26T19:00:02.979Z"
   },
   {
    "duration": 137,
    "start_time": "2022-01-26T19:00:02.986Z"
   },
   {
    "duration": 121,
    "start_time": "2022-01-26T19:00:03.125Z"
   },
   {
    "duration": 37,
    "start_time": "2022-01-26T19:00:03.248Z"
   },
   {
    "duration": 13,
    "start_time": "2022-01-26T19:00:03.288Z"
   },
   {
    "duration": 48,
    "start_time": "2022-01-26T19:00:03.304Z"
   },
   {
    "duration": 119,
    "start_time": "2022-01-26T19:00:03.356Z"
   },
   {
    "duration": 23,
    "start_time": "2022-01-26T19:00:03.478Z"
   },
   {
    "duration": 45,
    "start_time": "2022-01-26T19:00:03.503Z"
   },
   {
    "duration": 43,
    "start_time": "2022-01-26T19:00:03.551Z"
   },
   {
    "duration": 53,
    "start_time": "2022-01-26T19:00:03.597Z"
   },
   {
    "duration": 6,
    "start_time": "2022-01-26T19:00:03.653Z"
   },
   {
    "duration": 17,
    "start_time": "2022-01-26T19:00:03.661Z"
   },
   {
    "duration": 57,
    "start_time": "2022-01-26T19:00:03.681Z"
   },
   {
    "duration": 11,
    "start_time": "2022-01-26T19:00:03.741Z"
   },
   {
    "duration": 12,
    "start_time": "2022-01-26T19:00:03.754Z"
   },
   {
    "duration": 13,
    "start_time": "2022-01-26T19:00:03.768Z"
   },
   {
    "duration": 22,
    "start_time": "2022-01-26T19:00:03.783Z"
   },
   {
    "duration": 30,
    "start_time": "2022-01-26T19:00:03.808Z"
   },
   {
    "duration": 21,
    "start_time": "2022-01-26T19:00:03.840Z"
   },
   {
    "duration": 19,
    "start_time": "2022-01-26T19:00:03.864Z"
   },
   {
    "duration": 19,
    "start_time": "2022-01-26T19:00:03.893Z"
   },
   {
    "duration": 146,
    "start_time": "2022-01-26T19:00:03.919Z"
   },
   {
    "duration": 34,
    "start_time": "2022-01-26T19:00:04.069Z"
   },
   {
    "duration": 11,
    "start_time": "2022-01-26T19:00:04.106Z"
   },
   {
    "duration": 42,
    "start_time": "2022-01-26T19:00:04.120Z"
   },
   {
    "duration": 14,
    "start_time": "2022-01-26T19:00:04.165Z"
   },
   {
    "duration": 28,
    "start_time": "2022-01-26T19:00:04.183Z"
   },
   {
    "duration": 24,
    "start_time": "2022-01-26T19:00:04.214Z"
   },
   {
    "duration": 50,
    "start_time": "2022-01-26T19:00:04.240Z"
   },
   {
    "duration": 60,
    "start_time": "2022-01-26T19:00:04.293Z"
   },
   {
    "duration": 50,
    "start_time": "2022-01-26T19:00:04.356Z"
   },
   {
    "duration": 48,
    "start_time": "2022-01-26T19:00:04.409Z"
   },
   {
    "duration": 82,
    "start_time": "2022-01-26T19:00:04.459Z"
   },
   {
    "duration": 5,
    "start_time": "2022-01-26T19:00:04.544Z"
   },
   {
    "duration": 7,
    "start_time": "2022-01-26T19:00:04.553Z"
   },
   {
    "duration": 33,
    "start_time": "2022-01-26T19:00:04.563Z"
   },
   {
    "duration": 16,
    "start_time": "2022-01-26T19:00:04.599Z"
   },
   {
    "duration": 45,
    "start_time": "2022-01-26T19:00:04.618Z"
   },
   {
    "duration": 9,
    "start_time": "2022-01-26T19:00:04.665Z"
   },
   {
    "duration": 21,
    "start_time": "2022-01-26T19:00:04.677Z"
   },
   {
    "duration": 94,
    "start_time": "2022-01-26T19:00:04.701Z"
   },
   {
    "duration": 10,
    "start_time": "2022-01-26T19:00:04.797Z"
   },
   {
    "duration": 391,
    "start_time": "2022-01-26T19:00:04.810Z"
   },
   {
    "duration": 5,
    "start_time": "2022-01-26T19:00:05.204Z"
   },
   {
    "duration": 662,
    "start_time": "2022-01-26T19:00:05.212Z"
   },
   {
    "duration": 34,
    "start_time": "2022-01-26T19:00:05.878Z"
   },
   {
    "duration": 527,
    "start_time": "2022-01-26T19:00:05.915Z"
   },
   {
    "duration": 16,
    "start_time": "2022-01-26T19:00:06.444Z"
   },
   {
    "duration": 50,
    "start_time": "2022-01-26T19:00:06.463Z"
   },
   {
    "duration": 50,
    "start_time": "2022-01-26T19:00:06.515Z"
   },
   {
    "duration": 598,
    "start_time": "2022-01-26T19:00:06.567Z"
   },
   {
    "duration": 547,
    "start_time": "2022-01-26T19:00:07.168Z"
   },
   {
    "duration": 483,
    "start_time": "2022-01-26T19:00:07.717Z"
   },
   {
    "duration": 452,
    "start_time": "2022-01-26T19:00:08.202Z"
   },
   {
    "duration": 706,
    "start_time": "2022-01-26T19:00:08.657Z"
   },
   {
    "duration": 35,
    "start_time": "2022-01-26T19:00:09.365Z"
   },
   {
    "duration": 521,
    "start_time": "2022-01-26T19:00:09.403Z"
   },
   {
    "duration": 499,
    "start_time": "2022-02-04T06:03:44.161Z"
   },
   {
    "duration": 621,
    "start_time": "2022-02-04T15:10:24.088Z"
   },
   {
    "duration": 2,
    "start_time": "2022-02-04T15:10:24.711Z"
   },
   {
    "duration": 77,
    "start_time": "2022-02-04T15:10:24.715Z"
   },
   {
    "duration": 172,
    "start_time": "2022-02-04T15:10:24.794Z"
   },
   {
    "duration": 21,
    "start_time": "2022-02-04T15:10:24.968Z"
   },
   {
    "duration": 9,
    "start_time": "2022-02-04T15:10:24.990Z"
   },
   {
    "duration": 9,
    "start_time": "2022-02-04T15:10:25.001Z"
   },
   {
    "duration": 68,
    "start_time": "2022-02-04T15:10:25.013Z"
   },
   {
    "duration": 13,
    "start_time": "2022-02-04T15:10:25.083Z"
   },
   {
    "duration": 14,
    "start_time": "2022-02-04T15:10:25.098Z"
   },
   {
    "duration": 29,
    "start_time": "2022-02-04T15:10:25.113Z"
   },
   {
    "duration": 28,
    "start_time": "2022-02-04T15:10:25.144Z"
   },
   {
    "duration": 3,
    "start_time": "2022-02-04T15:10:25.174Z"
   },
   {
    "duration": 5,
    "start_time": "2022-02-04T15:10:25.179Z"
   },
   {
    "duration": 14,
    "start_time": "2022-02-04T15:10:25.186Z"
   },
   {
    "duration": 4,
    "start_time": "2022-02-04T15:10:25.201Z"
   },
   {
    "duration": 5,
    "start_time": "2022-02-04T15:10:25.206Z"
   },
   {
    "duration": 3,
    "start_time": "2022-02-04T15:10:25.213Z"
   },
   {
    "duration": 4,
    "start_time": "2022-02-04T15:10:25.218Z"
   },
   {
    "duration": 9,
    "start_time": "2022-02-04T15:10:25.223Z"
   },
   {
    "duration": 40,
    "start_time": "2022-02-04T15:10:25.233Z"
   },
   {
    "duration": 4,
    "start_time": "2022-02-04T15:10:25.275Z"
   },
   {
    "duration": 9,
    "start_time": "2022-02-04T15:10:25.283Z"
   },
   {
    "duration": 43,
    "start_time": "2022-02-04T15:10:25.294Z"
   },
   {
    "duration": 36,
    "start_time": "2022-02-04T15:10:25.339Z"
   },
   {
    "duration": 8,
    "start_time": "2022-02-04T15:10:25.377Z"
   },
   {
    "duration": 13,
    "start_time": "2022-02-04T15:10:25.386Z"
   },
   {
    "duration": 4,
    "start_time": "2022-02-04T15:10:25.400Z"
   },
   {
    "duration": 15,
    "start_time": "2022-02-04T15:10:25.405Z"
   },
   {
    "duration": 5,
    "start_time": "2022-02-04T15:10:25.422Z"
   },
   {
    "duration": 57,
    "start_time": "2022-02-04T15:10:25.429Z"
   },
   {
    "duration": 27,
    "start_time": "2022-02-04T15:10:25.487Z"
   },
   {
    "duration": 5,
    "start_time": "2022-02-04T15:10:25.516Z"
   },
   {
    "duration": 11,
    "start_time": "2022-02-04T15:10:25.522Z"
   },
   {
    "duration": 43,
    "start_time": "2022-02-04T15:10:25.534Z"
   },
   {
    "duration": 4,
    "start_time": "2022-02-04T15:10:25.578Z"
   },
   {
    "duration": 4,
    "start_time": "2022-02-04T15:10:25.583Z"
   },
   {
    "duration": 9,
    "start_time": "2022-02-04T15:10:25.588Z"
   },
   {
    "duration": 10,
    "start_time": "2022-02-04T15:10:25.598Z"
   },
   {
    "duration": 23,
    "start_time": "2022-02-04T15:10:25.609Z"
   },
   {
    "duration": 6,
    "start_time": "2022-02-04T15:10:25.634Z"
   },
   {
    "duration": 9,
    "start_time": "2022-02-04T15:10:25.641Z"
   },
   {
    "duration": 66,
    "start_time": "2022-02-04T15:10:25.651Z"
   },
   {
    "duration": 6,
    "start_time": "2022-02-04T15:10:25.719Z"
   },
   {
    "duration": 224,
    "start_time": "2022-02-04T15:10:25.727Z"
   },
   {
    "duration": 3,
    "start_time": "2022-02-04T15:10:25.953Z"
   },
   {
    "duration": 242,
    "start_time": "2022-02-04T15:10:25.957Z"
   },
   {
    "duration": 18,
    "start_time": "2022-02-04T15:10:26.201Z"
   },
   {
    "duration": 284,
    "start_time": "2022-02-04T15:10:26.220Z"
   },
   {
    "duration": 9,
    "start_time": "2022-02-04T15:10:26.505Z"
   },
   {
    "duration": 41,
    "start_time": "2022-02-04T15:10:26.515Z"
   },
   {
    "duration": 15,
    "start_time": "2022-02-04T15:10:26.557Z"
   },
   {
    "duration": 302,
    "start_time": "2022-02-04T15:10:26.573Z"
   },
   {
    "duration": 272,
    "start_time": "2022-02-04T15:10:26.877Z"
   },
   {
    "duration": 228,
    "start_time": "2022-02-04T15:10:27.150Z"
   },
   {
    "duration": 231,
    "start_time": "2022-02-04T15:10:27.380Z"
   },
   {
    "duration": 240,
    "start_time": "2022-02-04T15:10:27.612Z"
   },
   {
    "duration": 24,
    "start_time": "2022-02-04T15:10:27.853Z"
   },
   {
    "duration": 239,
    "start_time": "2022-02-04T15:10:27.878Z"
   },
   {
    "duration": 5,
    "start_time": "2022-02-04T15:11:38.854Z"
   },
   {
    "duration": 6,
    "start_time": "2022-02-04T15:12:52.446Z"
   },
   {
    "duration": 5,
    "start_time": "2022-02-04T15:12:57.940Z"
   },
   {
    "duration": 391,
    "start_time": "2022-02-04T15:17:23.764Z"
   },
   {
    "duration": 24,
    "start_time": "2022-02-04T15:18:00.851Z"
   },
   {
    "duration": 6,
    "start_time": "2022-02-04T15:18:34.059Z"
   },
   {
    "duration": 128,
    "start_time": "2022-02-04T15:19:03.491Z"
   },
   {
    "duration": 351,
    "start_time": "2022-02-04T15:19:10.958Z"
   },
   {
    "duration": 43,
    "start_time": "2022-02-04T15:19:19.619Z"
   },
   {
    "duration": 24,
    "start_time": "2022-02-04T15:20:11.707Z"
   },
   {
    "duration": 30,
    "start_time": "2022-02-04T15:22:08.811Z"
   },
   {
    "duration": 23,
    "start_time": "2022-02-04T15:25:15.433Z"
   },
   {
    "duration": 24,
    "start_time": "2022-02-04T15:25:53.072Z"
   },
   {
    "duration": 34,
    "start_time": "2022-02-04T16:28:21.199Z"
   },
   {
    "duration": 43,
    "start_time": "2022-02-04T16:28:42.422Z"
   },
   {
    "duration": 333,
    "start_time": "2022-02-04T16:29:33.525Z"
   },
   {
    "duration": 26,
    "start_time": "2022-02-04T16:30:21.117Z"
   },
   {
    "duration": 22,
    "start_time": "2022-02-04T16:31:11.204Z"
   },
   {
    "duration": 21,
    "start_time": "2022-02-04T16:37:54.221Z"
   },
   {
    "duration": 9,
    "start_time": "2022-02-04T16:39:11.402Z"
   },
   {
    "duration": 8,
    "start_time": "2022-02-04T16:43:13.394Z"
   },
   {
    "duration": 403,
    "start_time": "2022-02-04T16:44:29.394Z"
   },
   {
    "duration": 358,
    "start_time": "2022-02-04T16:44:52.483Z"
   },
   {
    "duration": 10,
    "start_time": "2022-02-04T16:47:23.425Z"
   },
   {
    "duration": 431,
    "start_time": "2022-02-04T16:47:50.969Z"
   },
   {
    "duration": 343,
    "start_time": "2022-02-04T16:48:32.633Z"
   },
   {
    "duration": 9,
    "start_time": "2022-02-04T16:49:31.079Z"
   },
   {
    "duration": 25,
    "start_time": "2022-02-04T16:50:53.040Z"
   },
   {
    "duration": 25,
    "start_time": "2022-02-04T16:52:35.496Z"
   },
   {
    "duration": 350,
    "start_time": "2022-02-04T16:55:43.616Z"
   },
   {
    "duration": 489,
    "start_time": "2022-02-04T16:56:03.326Z"
   },
   {
    "duration": 28,
    "start_time": "2022-02-04T16:58:17.841Z"
   },
   {
    "duration": 24,
    "start_time": "2022-02-04T16:58:39.583Z"
   },
   {
    "duration": 24,
    "start_time": "2022-02-04T16:59:03.727Z"
   },
   {
    "duration": 113,
    "start_time": "2022-02-04T17:09:05.412Z"
   },
   {
    "duration": 4,
    "start_time": "2022-02-04T17:09:30.995Z"
   },
   {
    "duration": 5,
    "start_time": "2022-02-04T17:10:00.141Z"
   },
   {
    "duration": 5,
    "start_time": "2022-02-04T17:19:36.161Z"
   },
   {
    "duration": 8,
    "start_time": "2022-02-04T17:20:08.297Z"
   },
   {
    "duration": 617,
    "start_time": "2022-02-05T07:56:28.115Z"
   },
   {
    "duration": 758,
    "start_time": "2022-02-05T07:56:37.229Z"
   },
   {
    "duration": 4,
    "start_time": "2022-02-05T07:56:37.989Z"
   },
   {
    "duration": 123,
    "start_time": "2022-02-05T07:56:37.995Z"
   },
   {
    "duration": 3,
    "start_time": "2022-02-05T07:56:38.123Z"
   },
   {
    "duration": 110,
    "start_time": "2022-02-05T07:56:38.129Z"
   },
   {
    "duration": 37,
    "start_time": "2022-02-05T07:56:38.242Z"
   },
   {
    "duration": 13,
    "start_time": "2022-02-05T07:56:38.281Z"
   },
   {
    "duration": 28,
    "start_time": "2022-02-05T07:56:38.298Z"
   },
   {
    "duration": 97,
    "start_time": "2022-02-05T07:56:38.329Z"
   },
   {
    "duration": 21,
    "start_time": "2022-02-05T07:56:38.428Z"
   },
   {
    "duration": 16,
    "start_time": "2022-02-05T07:56:38.452Z"
   },
   {
    "duration": 62,
    "start_time": "2022-02-05T07:56:38.470Z"
   },
   {
    "duration": 26,
    "start_time": "2022-02-05T07:56:38.534Z"
   },
   {
    "duration": 5,
    "start_time": "2022-02-05T07:56:38.563Z"
   },
   {
    "duration": 7,
    "start_time": "2022-02-05T07:56:38.570Z"
   },
   {
    "duration": 60,
    "start_time": "2022-02-05T07:56:38.580Z"
   },
   {
    "duration": 7,
    "start_time": "2022-02-05T07:56:38.642Z"
   },
   {
    "duration": 7,
    "start_time": "2022-02-05T07:56:38.651Z"
   },
   {
    "duration": 6,
    "start_time": "2022-02-05T07:56:38.660Z"
   },
   {
    "duration": 6,
    "start_time": "2022-02-05T07:56:38.668Z"
   },
   {
    "duration": 51,
    "start_time": "2022-02-05T07:56:38.677Z"
   },
   {
    "duration": 5,
    "start_time": "2022-02-05T07:56:38.730Z"
   },
   {
    "duration": 4,
    "start_time": "2022-02-05T07:56:38.741Z"
   },
   {
    "duration": 10,
    "start_time": "2022-02-05T07:56:38.750Z"
   },
   {
    "duration": 108,
    "start_time": "2022-02-05T07:56:38.762Z"
   },
   {
    "duration": 28,
    "start_time": "2022-02-05T07:56:38.872Z"
   },
   {
    "duration": 26,
    "start_time": "2022-02-05T07:56:38.903Z"
   },
   {
    "duration": 14,
    "start_time": "2022-02-05T07:56:38.931Z"
   },
   {
    "duration": 22,
    "start_time": "2022-02-05T07:56:38.947Z"
   },
   {
    "duration": 54,
    "start_time": "2022-02-05T07:56:38.972Z"
   },
   {
    "duration": 8,
    "start_time": "2022-02-05T07:56:39.028Z"
   },
   {
    "duration": 13,
    "start_time": "2022-02-05T07:56:39.039Z"
   },
   {
    "duration": 7,
    "start_time": "2022-02-05T07:56:39.054Z"
   },
   {
    "duration": 63,
    "start_time": "2022-02-05T07:56:39.063Z"
   },
   {
    "duration": 22,
    "start_time": "2022-02-05T07:56:39.129Z"
   },
   {
    "duration": 24,
    "start_time": "2022-02-05T07:56:39.154Z"
   },
   {
    "duration": 47,
    "start_time": "2022-02-05T07:56:39.180Z"
   },
   {
    "duration": 5,
    "start_time": "2022-02-05T07:56:39.230Z"
   },
   {
    "duration": 24,
    "start_time": "2022-02-05T07:56:39.238Z"
   },
   {
    "duration": 8,
    "start_time": "2022-02-05T07:56:39.265Z"
   },
   {
    "duration": 78,
    "start_time": "2022-02-05T07:56:39.276Z"
   },
   {
    "duration": 36,
    "start_time": "2022-02-05T07:56:39.357Z"
   },
   {
    "duration": 30,
    "start_time": "2022-02-05T07:56:39.396Z"
   },
   {
    "duration": 19,
    "start_time": "2022-02-05T07:56:39.430Z"
   },
   {
    "duration": 41,
    "start_time": "2022-02-05T07:56:39.452Z"
   },
   {
    "duration": 31,
    "start_time": "2022-02-05T07:56:39.496Z"
   },
   {
    "duration": 18,
    "start_time": "2022-02-05T07:56:39.530Z"
   },
   {
    "duration": 18,
    "start_time": "2022-02-05T07:56:39.550Z"
   },
   {
    "duration": 12,
    "start_time": "2022-02-05T07:56:39.570Z"
   },
   {
    "duration": 45,
    "start_time": "2022-02-05T07:56:39.584Z"
   },
   {
    "duration": 5,
    "start_time": "2022-02-05T07:56:39.632Z"
   },
   {
    "duration": 8,
    "start_time": "2022-02-05T07:56:39.640Z"
   },
   {
    "duration": 99,
    "start_time": "2022-02-05T07:56:39.651Z"
   },
   {
    "duration": 12,
    "start_time": "2022-02-05T07:56:39.753Z"
   },
   {
    "duration": 389,
    "start_time": "2022-02-05T07:56:39.768Z"
   },
   {
    "duration": 6,
    "start_time": "2022-02-05T07:56:40.160Z"
   },
   {
    "duration": 772,
    "start_time": "2022-02-05T07:56:40.169Z"
   },
   {
    "duration": 30,
    "start_time": "2022-02-05T07:56:40.943Z"
   },
   {
    "duration": 506,
    "start_time": "2022-02-05T07:56:40.975Z"
   },
   {
    "duration": 14,
    "start_time": "2022-02-05T07:56:41.484Z"
   },
   {
    "duration": 58,
    "start_time": "2022-02-05T07:56:41.501Z"
   },
   {
    "duration": 19,
    "start_time": "2022-02-05T07:56:41.562Z"
   },
   {
    "duration": 513,
    "start_time": "2022-02-05T07:56:41.584Z"
   },
   {
    "duration": 438,
    "start_time": "2022-02-05T07:56:42.099Z"
   },
   {
    "duration": 402,
    "start_time": "2022-02-05T07:56:42.539Z"
   },
   {
    "duration": 447,
    "start_time": "2022-02-05T07:56:42.944Z"
   },
   {
    "duration": 414,
    "start_time": "2022-02-05T07:56:43.394Z"
   },
   {
    "duration": 31,
    "start_time": "2022-02-05T07:56:43.823Z"
   },
   {
    "duration": 425,
    "start_time": "2022-02-05T07:56:43.856Z"
   },
   {
    "duration": 851,
    "start_time": "2022-02-05T16:57:28.999Z"
   },
   {
    "duration": 5,
    "start_time": "2022-02-05T16:57:29.853Z"
   },
   {
    "duration": 126,
    "start_time": "2022-02-05T16:57:29.870Z"
   },
   {
    "duration": 3,
    "start_time": "2022-02-05T16:57:29.999Z"
   },
   {
    "duration": 121,
    "start_time": "2022-02-05T16:57:30.004Z"
   },
   {
    "duration": 38,
    "start_time": "2022-02-05T16:57:30.128Z"
   },
   {
    "duration": 14,
    "start_time": "2022-02-05T16:57:30.169Z"
   },
   {
    "duration": 13,
    "start_time": "2022-02-05T16:57:30.187Z"
   },
   {
    "duration": 118,
    "start_time": "2022-02-05T16:57:30.203Z"
   },
   {
    "duration": 22,
    "start_time": "2022-02-05T16:57:30.324Z"
   },
   {
    "duration": 19,
    "start_time": "2022-02-05T16:57:30.369Z"
   },
   {
    "duration": 48,
    "start_time": "2022-02-05T16:57:30.391Z"
   },
   {
    "duration": 39,
    "start_time": "2022-02-05T16:57:30.442Z"
   },
   {
    "duration": 8,
    "start_time": "2022-02-05T16:57:30.484Z"
   },
   {
    "duration": 12,
    "start_time": "2022-02-05T16:57:30.495Z"
   },
   {
    "duration": 65,
    "start_time": "2022-02-05T16:57:30.509Z"
   },
   {
    "duration": 12,
    "start_time": "2022-02-05T16:57:30.577Z"
   },
   {
    "duration": 10,
    "start_time": "2022-02-05T16:57:30.591Z"
   },
   {
    "duration": 21,
    "start_time": "2022-02-05T16:57:30.604Z"
   },
   {
    "duration": 11,
    "start_time": "2022-02-05T16:57:30.628Z"
   },
   {
    "duration": 33,
    "start_time": "2022-02-05T16:57:30.642Z"
   },
   {
    "duration": 8,
    "start_time": "2022-02-05T16:57:30.678Z"
   },
   {
    "duration": 5,
    "start_time": "2022-02-05T16:57:30.694Z"
   },
   {
    "duration": 13,
    "start_time": "2022-02-05T16:57:30.704Z"
   },
   {
    "duration": 122,
    "start_time": "2022-02-05T16:57:30.720Z"
   },
   {
    "duration": 47,
    "start_time": "2022-02-05T16:57:30.845Z"
   },
   {
    "duration": 12,
    "start_time": "2022-02-05T16:57:30.895Z"
   },
   {
    "duration": 27,
    "start_time": "2022-02-05T16:57:30.910Z"
   },
   {
    "duration": 53,
    "start_time": "2022-02-05T16:57:30.940Z"
   },
   {
    "duration": 37,
    "start_time": "2022-02-05T16:57:30.996Z"
   },
   {
    "duration": 37,
    "start_time": "2022-02-05T16:57:31.035Z"
   },
   {
    "duration": 27,
    "start_time": "2022-02-05T16:57:31.075Z"
   },
   {
    "duration": 12,
    "start_time": "2022-02-05T16:57:31.104Z"
   },
   {
    "duration": 52,
    "start_time": "2022-02-05T16:57:31.119Z"
   },
   {
    "duration": 36,
    "start_time": "2022-02-05T16:57:31.174Z"
   },
   {
    "duration": 58,
    "start_time": "2022-02-05T16:57:31.213Z"
   },
   {
    "duration": 18,
    "start_time": "2022-02-05T16:57:31.275Z"
   },
   {
    "duration": 18,
    "start_time": "2022-02-05T16:57:31.296Z"
   },
   {
    "duration": 53,
    "start_time": "2022-02-05T16:57:31.317Z"
   },
   {
    "duration": 21,
    "start_time": "2022-02-05T16:57:31.373Z"
   },
   {
    "duration": 61,
    "start_time": "2022-02-05T16:57:31.397Z"
   },
   {
    "duration": 37,
    "start_time": "2022-02-05T16:57:31.460Z"
   },
   {
    "duration": 10,
    "start_time": "2022-02-05T16:57:31.499Z"
   },
   {
    "duration": 21,
    "start_time": "2022-02-05T16:57:31.511Z"
   },
   {
    "duration": 70,
    "start_time": "2022-02-05T16:57:31.535Z"
   },
   {
    "duration": 6,
    "start_time": "2022-02-05T16:57:31.607Z"
   },
   {
    "duration": 4,
    "start_time": "2022-02-05T16:57:31.615Z"
   },
   {
    "duration": 47,
    "start_time": "2022-02-05T16:57:31.622Z"
   },
   {
    "duration": 9,
    "start_time": "2022-02-05T16:57:31.672Z"
   },
   {
    "duration": 32,
    "start_time": "2022-02-05T16:57:31.684Z"
   },
   {
    "duration": 9,
    "start_time": "2022-02-05T16:57:31.718Z"
   },
   {
    "duration": 40,
    "start_time": "2022-02-05T16:57:31.730Z"
   },
   {
    "duration": 106,
    "start_time": "2022-02-05T16:57:31.772Z"
   },
   {
    "duration": 15,
    "start_time": "2022-02-05T16:57:31.881Z"
   },
   {
    "duration": 1091,
    "start_time": "2022-02-05T16:57:31.899Z"
   },
   {
    "duration": 5,
    "start_time": "2022-02-05T16:57:32.993Z"
   },
   {
    "duration": 473,
    "start_time": "2022-02-05T16:57:33.001Z"
   },
   {
    "duration": 30,
    "start_time": "2022-02-05T16:57:33.477Z"
   },
   {
    "duration": 511,
    "start_time": "2022-02-05T16:57:33.510Z"
   },
   {
    "duration": 14,
    "start_time": "2022-02-05T16:57:34.025Z"
   },
   {
    "duration": 59,
    "start_time": "2022-02-05T16:57:34.042Z"
   },
   {
    "duration": 28,
    "start_time": "2022-02-05T16:57:34.104Z"
   },
   {
    "duration": 579,
    "start_time": "2022-02-05T16:57:34.135Z"
   },
   {
    "duration": 628,
    "start_time": "2022-02-05T16:57:34.717Z"
   },
   {
    "duration": 434,
    "start_time": "2022-02-05T16:57:35.348Z"
   },
   {
    "duration": 457,
    "start_time": "2022-02-05T16:57:35.786Z"
   },
   {
    "duration": 491,
    "start_time": "2022-02-05T16:57:36.246Z"
   },
   {
    "duration": 47,
    "start_time": "2022-02-05T16:57:36.745Z"
   },
   {
    "duration": 621,
    "start_time": "2022-02-05T16:57:36.794Z"
   },
   {
    "duration": 88,
    "start_time": "2022-02-05T17:00:17.378Z"
   },
   {
    "duration": 374,
    "start_time": "2022-02-05T17:00:41.714Z"
   },
   {
    "duration": 371,
    "start_time": "2022-02-05T17:03:03.483Z"
   },
   {
    "duration": 377,
    "start_time": "2022-02-05T17:04:49.241Z"
   },
   {
    "duration": 369,
    "start_time": "2022-02-05T17:04:56.721Z"
   },
   {
    "duration": 381,
    "start_time": "2022-02-05T17:05:04.657Z"
   },
   {
    "duration": 463,
    "start_time": "2022-02-05T17:05:09.985Z"
   },
   {
    "duration": 673,
    "start_time": "2022-02-06T08:34:59.572Z"
   },
   {
    "duration": 3,
    "start_time": "2022-02-06T08:35:00.247Z"
   },
   {
    "duration": 94,
    "start_time": "2022-02-06T08:35:00.254Z"
   },
   {
    "duration": 3,
    "start_time": "2022-02-06T08:35:00.350Z"
   },
   {
    "duration": 127,
    "start_time": "2022-02-06T08:35:00.354Z"
   },
   {
    "duration": 28,
    "start_time": "2022-02-06T08:35:00.483Z"
   },
   {
    "duration": 30,
    "start_time": "2022-02-06T08:35:00.513Z"
   },
   {
    "duration": 30,
    "start_time": "2022-02-06T08:35:00.547Z"
   },
   {
    "duration": 82,
    "start_time": "2022-02-06T08:35:00.579Z"
   },
   {
    "duration": 17,
    "start_time": "2022-02-06T08:35:00.663Z"
   },
   {
    "duration": 33,
    "start_time": "2022-02-06T08:35:00.682Z"
   },
   {
    "duration": 46,
    "start_time": "2022-02-06T08:35:00.718Z"
   },
   {
    "duration": 17,
    "start_time": "2022-02-06T08:35:00.766Z"
   },
   {
    "duration": 6,
    "start_time": "2022-02-06T08:35:00.786Z"
   },
   {
    "duration": 19,
    "start_time": "2022-02-06T08:35:00.794Z"
   },
   {
    "duration": 35,
    "start_time": "2022-02-06T08:35:00.815Z"
   },
   {
    "duration": 35,
    "start_time": "2022-02-06T08:35:00.853Z"
   },
   {
    "duration": 18,
    "start_time": "2022-02-06T08:35:00.890Z"
   },
   {
    "duration": 28,
    "start_time": "2022-02-06T08:35:00.910Z"
   },
   {
    "duration": 28,
    "start_time": "2022-02-06T08:35:00.940Z"
   },
   {
    "duration": 26,
    "start_time": "2022-02-06T08:35:00.970Z"
   },
   {
    "duration": 63,
    "start_time": "2022-02-06T08:35:01.000Z"
   },
   {
    "duration": 22,
    "start_time": "2022-02-06T08:35:01.066Z"
   },
   {
    "duration": 48,
    "start_time": "2022-02-06T08:35:01.090Z"
   },
   {
    "duration": 76,
    "start_time": "2022-02-06T08:35:01.140Z"
   },
   {
    "duration": 27,
    "start_time": "2022-02-06T08:35:01.217Z"
   },
   {
    "duration": 9,
    "start_time": "2022-02-06T08:35:01.246Z"
   },
   {
    "duration": 20,
    "start_time": "2022-02-06T08:35:01.257Z"
   },
   {
    "duration": 35,
    "start_time": "2022-02-06T08:35:01.279Z"
   },
   {
    "duration": 16,
    "start_time": "2022-02-06T08:35:01.316Z"
   },
   {
    "duration": 28,
    "start_time": "2022-02-06T08:35:01.334Z"
   },
   {
    "duration": 38,
    "start_time": "2022-02-06T08:35:01.363Z"
   },
   {
    "duration": 25,
    "start_time": "2022-02-06T08:35:01.403Z"
   },
   {
    "duration": 24,
    "start_time": "2022-02-06T08:35:01.429Z"
   },
   {
    "duration": 17,
    "start_time": "2022-02-06T08:35:01.455Z"
   },
   {
    "duration": 33,
    "start_time": "2022-02-06T08:35:01.474Z"
   },
   {
    "duration": 12,
    "start_time": "2022-02-06T08:35:01.508Z"
   },
   {
    "duration": 8,
    "start_time": "2022-02-06T08:35:01.522Z"
   },
   {
    "duration": 41,
    "start_time": "2022-02-06T08:35:01.532Z"
   },
   {
    "duration": 8,
    "start_time": "2022-02-06T08:35:01.575Z"
   },
   {
    "duration": 42,
    "start_time": "2022-02-06T08:35:01.585Z"
   },
   {
    "duration": 25,
    "start_time": "2022-02-06T08:35:01.629Z"
   },
   {
    "duration": 16,
    "start_time": "2022-02-06T08:35:01.656Z"
   },
   {
    "duration": 26,
    "start_time": "2022-02-06T08:35:01.674Z"
   },
   {
    "duration": 37,
    "start_time": "2022-02-06T08:35:01.702Z"
   },
   {
    "duration": 41,
    "start_time": "2022-02-06T08:35:01.741Z"
   },
   {
    "duration": 51,
    "start_time": "2022-02-06T08:35:01.785Z"
   },
   {
    "duration": 81,
    "start_time": "2022-02-06T08:35:01.838Z"
   },
   {
    "duration": 24,
    "start_time": "2022-02-06T08:35:01.921Z"
   },
   {
    "duration": 33,
    "start_time": "2022-02-06T08:35:01.947Z"
   },
   {
    "duration": 34,
    "start_time": "2022-02-06T08:35:01.982Z"
   },
   {
    "duration": 53,
    "start_time": "2022-02-06T08:35:02.018Z"
   },
   {
    "duration": 110,
    "start_time": "2022-02-06T08:35:02.073Z"
   },
   {
    "duration": 9,
    "start_time": "2022-02-06T08:35:02.185Z"
   },
   {
    "duration": 305,
    "start_time": "2022-02-06T08:35:02.196Z"
   },
   {
    "duration": 5,
    "start_time": "2022-02-06T08:35:02.504Z"
   },
   {
    "duration": 298,
    "start_time": "2022-02-06T08:35:02.512Z"
   },
   {
    "duration": 23,
    "start_time": "2022-02-06T08:35:02.812Z"
   },
   {
    "duration": 352,
    "start_time": "2022-02-06T08:35:02.837Z"
   },
   {
    "duration": 19,
    "start_time": "2022-02-06T08:35:03.191Z"
   },
   {
    "duration": 29,
    "start_time": "2022-02-06T08:35:03.212Z"
   },
   {
    "duration": 14,
    "start_time": "2022-02-06T08:35:03.243Z"
   },
   {
    "duration": 885,
    "start_time": "2022-02-06T08:35:03.259Z"
   },
   {
    "duration": 312,
    "start_time": "2022-02-06T08:35:04.146Z"
   },
   {
    "duration": 302,
    "start_time": "2022-02-06T08:35:04.460Z"
   },
   {
    "duration": 298,
    "start_time": "2022-02-06T08:35:04.765Z"
   },
   {
    "duration": 305,
    "start_time": "2022-02-06T08:35:05.069Z"
   },
   {
    "duration": 20,
    "start_time": "2022-02-06T08:35:05.376Z"
   },
   {
    "duration": 301,
    "start_time": "2022-02-06T08:35:05.406Z"
   },
   {
    "duration": 10,
    "start_time": "2022-02-06T08:35:22.875Z"
   },
   {
    "duration": 7,
    "start_time": "2022-02-06T08:46:33.207Z"
   },
   {
    "duration": 7,
    "start_time": "2022-02-06T08:47:21.239Z"
   },
   {
    "duration": 7,
    "start_time": "2022-02-06T08:47:56.992Z"
   },
   {
    "duration": 7,
    "start_time": "2022-02-06T08:48:26.607Z"
   },
   {
    "duration": 6,
    "start_time": "2022-02-06T08:48:37.935Z"
   },
   {
    "duration": 3,
    "start_time": "2022-02-06T09:02:26.610Z"
   },
   {
    "duration": 1475,
    "start_time": "2022-02-06T09:03:58.498Z"
   },
   {
    "duration": 3,
    "start_time": "2022-02-06T09:04:19.692Z"
   },
   {
    "duration": 5106,
    "start_time": "2022-02-06T09:04:22.425Z"
   },
   {
    "duration": 3,
    "start_time": "2022-02-06T09:05:07.073Z"
   },
   {
    "duration": 8,
    "start_time": "2022-02-06T09:05:12.777Z"
   },
   {
    "duration": 629,
    "start_time": "2022-02-06T09:34:40.463Z"
   },
   {
    "duration": 3,
    "start_time": "2022-02-06T09:34:41.094Z"
   },
   {
    "duration": 91,
    "start_time": "2022-02-06T09:34:41.099Z"
   },
   {
    "duration": 3,
    "start_time": "2022-02-06T09:34:41.193Z"
   },
   {
    "duration": 111,
    "start_time": "2022-02-06T09:34:41.198Z"
   },
   {
    "duration": 27,
    "start_time": "2022-02-06T09:34:41.311Z"
   },
   {
    "duration": 10,
    "start_time": "2022-02-06T09:34:41.340Z"
   },
   {
    "duration": 13,
    "start_time": "2022-02-06T09:34:41.353Z"
   },
   {
    "duration": 88,
    "start_time": "2022-02-06T09:34:41.368Z"
   },
   {
    "duration": 14,
    "start_time": "2022-02-06T09:34:41.458Z"
   },
   {
    "duration": 15,
    "start_time": "2022-02-06T09:34:41.474Z"
   },
   {
    "duration": 36,
    "start_time": "2022-02-06T09:34:41.491Z"
   },
   {
    "duration": 19,
    "start_time": "2022-02-06T09:34:41.529Z"
   },
   {
    "duration": 5,
    "start_time": "2022-02-06T09:34:41.550Z"
   },
   {
    "duration": 9,
    "start_time": "2022-02-06T09:34:41.557Z"
   },
   {
    "duration": 47,
    "start_time": "2022-02-06T09:34:41.568Z"
   },
   {
    "duration": 7,
    "start_time": "2022-02-06T09:34:41.618Z"
   },
   {
    "duration": 8,
    "start_time": "2022-02-06T09:34:41.626Z"
   },
   {
    "duration": 6,
    "start_time": "2022-02-06T09:34:41.636Z"
   },
   {
    "duration": 8,
    "start_time": "2022-02-06T09:34:41.644Z"
   },
   {
    "duration": 14,
    "start_time": "2022-02-06T09:34:41.654Z"
   },
   {
    "duration": 11,
    "start_time": "2022-02-06T09:34:41.670Z"
   },
   {
    "duration": 25,
    "start_time": "2022-02-06T09:34:41.685Z"
   },
   {
    "duration": 11,
    "start_time": "2022-02-06T09:34:41.713Z"
   },
   {
    "duration": 62,
    "start_time": "2022-02-06T09:34:41.726Z"
   },
   {
    "duration": 34,
    "start_time": "2022-02-06T09:34:41.790Z"
   },
   {
    "duration": 9,
    "start_time": "2022-02-06T09:34:41.826Z"
   },
   {
    "duration": 14,
    "start_time": "2022-02-06T09:34:41.836Z"
   },
   {
    "duration": 17,
    "start_time": "2022-02-06T09:34:41.852Z"
   },
   {
    "duration": 47,
    "start_time": "2022-02-06T09:34:41.871Z"
   },
   {
    "duration": 11,
    "start_time": "2022-02-06T09:34:41.920Z"
   },
   {
    "duration": 14,
    "start_time": "2022-02-06T09:34:41.933Z"
   },
   {
    "duration": 5,
    "start_time": "2022-02-06T09:34:41.949Z"
   },
   {
    "duration": 17,
    "start_time": "2022-02-06T09:34:41.956Z"
   },
   {
    "duration": 36,
    "start_time": "2022-02-06T09:34:41.975Z"
   },
   {
    "duration": 18,
    "start_time": "2022-02-06T09:34:42.013Z"
   },
   {
    "duration": 11,
    "start_time": "2022-02-06T09:34:42.032Z"
   },
   {
    "duration": 4,
    "start_time": "2022-02-06T09:34:42.045Z"
   },
   {
    "duration": 23,
    "start_time": "2022-02-06T09:34:42.051Z"
   },
   {
    "duration": 6,
    "start_time": "2022-02-06T09:34:42.076Z"
   },
   {
    "duration": 37,
    "start_time": "2022-02-06T09:34:42.107Z"
   },
   {
    "duration": 9,
    "start_time": "2022-02-06T09:34:42.146Z"
   },
   {
    "duration": 8,
    "start_time": "2022-02-06T09:34:42.157Z"
   },
   {
    "duration": 44,
    "start_time": "2022-02-06T09:34:42.167Z"
   },
   {
    "duration": 6,
    "start_time": "2022-02-06T09:34:42.214Z"
   },
   {
    "duration": 26,
    "start_time": "2022-02-06T09:34:42.222Z"
   },
   {
    "duration": 7,
    "start_time": "2022-02-06T09:34:42.250Z"
   },
   {
    "duration": 17,
    "start_time": "2022-02-06T09:34:42.259Z"
   },
   {
    "duration": 26,
    "start_time": "2022-02-06T09:34:42.308Z"
   },
   {
    "duration": 4,
    "start_time": "2022-02-06T09:34:42.336Z"
   },
   {
    "duration": 11,
    "start_time": "2022-02-06T09:34:42.342Z"
   },
   {
    "duration": 17,
    "start_time": "2022-02-06T09:34:42.354Z"
   },
   {
    "duration": 16,
    "start_time": "2022-02-06T09:34:42.373Z"
   },
   {
    "duration": 35,
    "start_time": "2022-02-06T09:34:42.391Z"
   },
   {
    "duration": 4,
    "start_time": "2022-02-06T09:34:42.428Z"
   },
   {
    "duration": 8,
    "start_time": "2022-02-06T09:34:42.434Z"
   },
   {
    "duration": 67,
    "start_time": "2022-02-06T09:34:42.444Z"
   },
   {
    "duration": 7,
    "start_time": "2022-02-06T09:34:42.513Z"
   },
   {
    "duration": 257,
    "start_time": "2022-02-06T09:34:42.522Z"
   },
   {
    "duration": 4,
    "start_time": "2022-02-06T09:34:42.781Z"
   },
   {
    "duration": 280,
    "start_time": "2022-02-06T09:34:42.787Z"
   },
   {
    "duration": 21,
    "start_time": "2022-02-06T09:34:43.069Z"
   },
   {
    "duration": 580,
    "start_time": "2022-02-06T09:34:43.092Z"
   },
   {
    "duration": 37,
    "start_time": "2022-02-06T09:34:43.674Z"
   },
   {
    "duration": 27,
    "start_time": "2022-02-06T09:34:43.713Z"
   },
   {
    "duration": 15,
    "start_time": "2022-02-06T09:34:43.742Z"
   },
   {
    "duration": 384,
    "start_time": "2022-02-06T09:34:43.760Z"
   },
   {
    "duration": 302,
    "start_time": "2022-02-06T09:34:44.149Z"
   },
   {
    "duration": 281,
    "start_time": "2022-02-06T09:34:44.453Z"
   },
   {
    "duration": 284,
    "start_time": "2022-02-06T09:34:44.736Z"
   },
   {
    "duration": 292,
    "start_time": "2022-02-06T09:34:45.022Z"
   },
   {
    "duration": 22,
    "start_time": "2022-02-06T09:34:45.316Z"
   },
   {
    "duration": 311,
    "start_time": "2022-02-06T09:34:45.340Z"
   },
   {
    "duration": 605,
    "start_time": "2022-02-06T09:36:06.963Z"
   },
   {
    "duration": 3,
    "start_time": "2022-02-06T09:36:07.570Z"
   },
   {
    "duration": 103,
    "start_time": "2022-02-06T09:36:07.576Z"
   },
   {
    "duration": 3,
    "start_time": "2022-02-06T09:36:07.681Z"
   },
   {
    "duration": 108,
    "start_time": "2022-02-06T09:36:07.687Z"
   },
   {
    "duration": 30,
    "start_time": "2022-02-06T09:36:07.797Z"
   },
   {
    "duration": 12,
    "start_time": "2022-02-06T09:36:07.829Z"
   },
   {
    "duration": 17,
    "start_time": "2022-02-06T09:36:07.845Z"
   },
   {
    "duration": 84,
    "start_time": "2022-02-06T09:36:07.865Z"
   },
   {
    "duration": 16,
    "start_time": "2022-02-06T09:36:07.952Z"
   },
   {
    "duration": 27,
    "start_time": "2022-02-06T09:36:07.970Z"
   },
   {
    "duration": 38,
    "start_time": "2022-02-06T09:36:07.999Z"
   },
   {
    "duration": 15,
    "start_time": "2022-02-06T09:36:08.039Z"
   },
   {
    "duration": 16,
    "start_time": "2022-02-06T09:36:08.056Z"
   },
   {
    "duration": 19,
    "start_time": "2022-02-06T09:36:08.074Z"
   },
   {
    "duration": 30,
    "start_time": "2022-02-06T09:36:08.095Z"
   },
   {
    "duration": 23,
    "start_time": "2022-02-06T09:36:08.127Z"
   },
   {
    "duration": 19,
    "start_time": "2022-02-06T09:36:08.152Z"
   },
   {
    "duration": 18,
    "start_time": "2022-02-06T09:36:08.174Z"
   },
   {
    "duration": 21,
    "start_time": "2022-02-06T09:36:08.194Z"
   },
   {
    "duration": 31,
    "start_time": "2022-02-06T09:36:08.216Z"
   },
   {
    "duration": 8,
    "start_time": "2022-02-06T09:36:08.249Z"
   },
   {
    "duration": 12,
    "start_time": "2022-02-06T09:36:08.263Z"
   },
   {
    "duration": 16,
    "start_time": "2022-02-06T09:36:08.279Z"
   },
   {
    "duration": 65,
    "start_time": "2022-02-06T09:36:08.297Z"
   },
   {
    "duration": 26,
    "start_time": "2022-02-06T09:36:08.364Z"
   },
   {
    "duration": 7,
    "start_time": "2022-02-06T09:36:08.393Z"
   },
   {
    "duration": 11,
    "start_time": "2022-02-06T09:36:08.408Z"
   },
   {
    "duration": 23,
    "start_time": "2022-02-06T09:36:08.421Z"
   },
   {
    "duration": 28,
    "start_time": "2022-02-06T09:36:08.445Z"
   },
   {
    "duration": 5,
    "start_time": "2022-02-06T09:36:08.475Z"
   },
   {
    "duration": 33,
    "start_time": "2022-02-06T09:36:08.482Z"
   },
   {
    "duration": 9,
    "start_time": "2022-02-06T09:36:08.517Z"
   },
   {
    "duration": 25,
    "start_time": "2022-02-06T09:36:08.527Z"
   },
   {
    "duration": 15,
    "start_time": "2022-02-06T09:36:08.554Z"
   },
   {
    "duration": 15,
    "start_time": "2022-02-06T09:36:08.571Z"
   },
   {
    "duration": 29,
    "start_time": "2022-02-06T09:36:08.588Z"
   },
   {
    "duration": 6,
    "start_time": "2022-02-06T09:36:08.619Z"
   },
   {
    "duration": 28,
    "start_time": "2022-02-06T09:36:08.627Z"
   },
   {
    "duration": 6,
    "start_time": "2022-02-06T09:36:08.657Z"
   },
   {
    "duration": 49,
    "start_time": "2022-02-06T09:36:08.665Z"
   },
   {
    "duration": 7,
    "start_time": "2022-02-06T09:36:08.716Z"
   },
   {
    "duration": 14,
    "start_time": "2022-02-06T09:36:08.724Z"
   },
   {
    "duration": 18,
    "start_time": "2022-02-06T09:36:08.740Z"
   },
   {
    "duration": 34,
    "start_time": "2022-02-06T09:36:08.760Z"
   },
   {
    "duration": 15,
    "start_time": "2022-02-06T09:36:08.796Z"
   },
   {
    "duration": 26,
    "start_time": "2022-02-06T09:36:08.813Z"
   },
   {
    "duration": 16,
    "start_time": "2022-02-06T09:36:08.841Z"
   },
   {
    "duration": 11,
    "start_time": "2022-02-06T09:36:08.858Z"
   },
   {
    "duration": 11,
    "start_time": "2022-02-06T09:36:08.871Z"
   },
   {
    "duration": 14,
    "start_time": "2022-02-06T09:36:08.884Z"
   },
   {
    "duration": 44,
    "start_time": "2022-02-06T09:36:08.900Z"
   },
   {
    "duration": 7,
    "start_time": "2022-02-06T09:36:08.945Z"
   },
   {
    "duration": 21,
    "start_time": "2022-02-06T09:36:08.954Z"
   },
   {
    "duration": 43,
    "start_time": "2022-02-06T09:36:08.977Z"
   },
   {
    "duration": 8,
    "start_time": "2022-02-06T09:36:09.022Z"
   },
   {
    "duration": 8,
    "start_time": "2022-02-06T09:36:09.032Z"
   },
   {
    "duration": 16,
    "start_time": "2022-02-06T09:36:09.042Z"
   },
   {
    "duration": 25,
    "start_time": "2022-02-06T09:36:09.060Z"
   },
   {
    "duration": 21,
    "start_time": "2022-02-06T09:36:09.087Z"
   },
   {
    "duration": 10,
    "start_time": "2022-02-06T09:36:09.110Z"
   },
   {
    "duration": 20,
    "start_time": "2022-02-06T09:36:09.122Z"
   },
   {
    "duration": 64,
    "start_time": "2022-02-06T09:36:09.144Z"
   },
   {
    "duration": 8,
    "start_time": "2022-02-06T09:36:09.210Z"
   },
   {
    "duration": 258,
    "start_time": "2022-02-06T09:36:09.220Z"
   },
   {
    "duration": 4,
    "start_time": "2022-02-06T09:36:09.480Z"
   },
   {
    "duration": 301,
    "start_time": "2022-02-06T09:36:09.486Z"
   },
   {
    "duration": 34,
    "start_time": "2022-02-06T09:36:09.794Z"
   },
   {
    "duration": 347,
    "start_time": "2022-02-06T09:36:09.830Z"
   },
   {
    "duration": 10,
    "start_time": "2022-02-06T09:36:10.178Z"
   },
   {
    "duration": 37,
    "start_time": "2022-02-06T09:36:10.190Z"
   },
   {
    "duration": 15,
    "start_time": "2022-02-06T09:36:10.229Z"
   },
   {
    "duration": 609,
    "start_time": "2022-02-06T09:36:10.246Z"
   },
   {
    "duration": 337,
    "start_time": "2022-02-06T09:36:10.857Z"
   },
   {
    "duration": 283,
    "start_time": "2022-02-06T09:36:11.196Z"
   },
   {
    "duration": 293,
    "start_time": "2022-02-06T09:36:11.481Z"
   },
   {
    "duration": 288,
    "start_time": "2022-02-06T09:36:11.776Z"
   },
   {
    "duration": 22,
    "start_time": "2022-02-06T09:36:12.065Z"
   },
   {
    "duration": 322,
    "start_time": "2022-02-06T09:36:12.089Z"
   },
   {
    "duration": 668,
    "start_time": "2022-02-06T09:55:54.355Z"
   },
   {
    "duration": 3,
    "start_time": "2022-02-06T09:55:55.025Z"
   },
   {
    "duration": 95,
    "start_time": "2022-02-06T09:55:55.030Z"
   },
   {
    "duration": 3,
    "start_time": "2022-02-06T09:55:55.128Z"
   },
   {
    "duration": 112,
    "start_time": "2022-02-06T09:55:55.132Z"
   },
   {
    "duration": 26,
    "start_time": "2022-02-06T09:55:55.246Z"
   },
   {
    "duration": 10,
    "start_time": "2022-02-06T09:55:55.274Z"
   },
   {
    "duration": 5,
    "start_time": "2022-02-06T09:55:55.287Z"
   },
   {
    "duration": 380,
    "start_time": "2022-02-06T09:55:55.295Z"
   },
   {
    "duration": -704,
    "start_time": "2022-02-06T09:55:56.383Z"
   },
   {
    "duration": -708,
    "start_time": "2022-02-06T09:55:56.388Z"
   },
   {
    "duration": -713,
    "start_time": "2022-02-06T09:55:56.395Z"
   },
   {
    "duration": -741,
    "start_time": "2022-02-06T09:55:56.424Z"
   },
   {
    "duration": -750,
    "start_time": "2022-02-06T09:55:56.434Z"
   },
   {
    "duration": -756,
    "start_time": "2022-02-06T09:55:56.441Z"
   },
   {
    "duration": -763,
    "start_time": "2022-02-06T09:55:56.449Z"
   },
   {
    "duration": -769,
    "start_time": "2022-02-06T09:55:56.456Z"
   },
   {
    "duration": -775,
    "start_time": "2022-02-06T09:55:56.463Z"
   },
   {
    "duration": -782,
    "start_time": "2022-02-06T09:55:56.471Z"
   },
   {
    "duration": -789,
    "start_time": "2022-02-06T09:55:56.479Z"
   },
   {
    "duration": -796,
    "start_time": "2022-02-06T09:55:56.487Z"
   },
   {
    "duration": -803,
    "start_time": "2022-02-06T09:55:56.496Z"
   },
   {
    "duration": -810,
    "start_time": "2022-02-06T09:55:56.504Z"
   },
   {
    "duration": -817,
    "start_time": "2022-02-06T09:55:56.512Z"
   },
   {
    "duration": -832,
    "start_time": "2022-02-06T09:55:56.528Z"
   },
   {
    "duration": -840,
    "start_time": "2022-02-06T09:55:56.537Z"
   },
   {
    "duration": -847,
    "start_time": "2022-02-06T09:55:56.545Z"
   },
   {
    "duration": -855,
    "start_time": "2022-02-06T09:55:56.554Z"
   },
   {
    "duration": -861,
    "start_time": "2022-02-06T09:55:56.561Z"
   },
   {
    "duration": -866,
    "start_time": "2022-02-06T09:55:56.568Z"
   },
   {
    "duration": -872,
    "start_time": "2022-02-06T09:55:56.575Z"
   },
   {
    "duration": -878,
    "start_time": "2022-02-06T09:55:56.582Z"
   },
   {
    "duration": -884,
    "start_time": "2022-02-06T09:55:56.589Z"
   },
   {
    "duration": -890,
    "start_time": "2022-02-06T09:55:56.596Z"
   },
   {
    "duration": -895,
    "start_time": "2022-02-06T09:55:56.602Z"
   },
   {
    "duration": -902,
    "start_time": "2022-02-06T09:55:56.610Z"
   },
   {
    "duration": -907,
    "start_time": "2022-02-06T09:55:56.616Z"
   },
   {
    "duration": -914,
    "start_time": "2022-02-06T09:55:56.624Z"
   },
   {
    "duration": -930,
    "start_time": "2022-02-06T09:55:56.642Z"
   },
   {
    "duration": -937,
    "start_time": "2022-02-06T09:55:56.650Z"
   },
   {
    "duration": -942,
    "start_time": "2022-02-06T09:55:56.656Z"
   },
   {
    "duration": -948,
    "start_time": "2022-02-06T09:55:56.663Z"
   },
   {
    "duration": -953,
    "start_time": "2022-02-06T09:55:56.669Z"
   },
   {
    "duration": -960,
    "start_time": "2022-02-06T09:55:56.677Z"
   },
   {
    "duration": -966,
    "start_time": "2022-02-06T09:55:56.684Z"
   },
   {
    "duration": -971,
    "start_time": "2022-02-06T09:55:56.690Z"
   },
   {
    "duration": -977,
    "start_time": "2022-02-06T09:55:56.697Z"
   },
   {
    "duration": -983,
    "start_time": "2022-02-06T09:55:56.704Z"
   },
   {
    "duration": -989,
    "start_time": "2022-02-06T09:55:56.711Z"
   },
   {
    "duration": -996,
    "start_time": "2022-02-06T09:55:56.719Z"
   },
   {
    "duration": -1001,
    "start_time": "2022-02-06T09:55:56.725Z"
   },
   {
    "duration": -1018,
    "start_time": "2022-02-06T09:55:56.743Z"
   },
   {
    "duration": -1031,
    "start_time": "2022-02-06T09:55:56.757Z"
   },
   {
    "duration": -1036,
    "start_time": "2022-02-06T09:55:56.763Z"
   },
   {
    "duration": -1040,
    "start_time": "2022-02-06T09:55:56.768Z"
   },
   {
    "duration": -1044,
    "start_time": "2022-02-06T09:55:56.773Z"
   },
   {
    "duration": -1072,
    "start_time": "2022-02-06T09:55:56.803Z"
   },
   {
    "duration": -1077,
    "start_time": "2022-02-06T09:55:56.808Z"
   },
   {
    "duration": -1081,
    "start_time": "2022-02-06T09:55:56.813Z"
   },
   {
    "duration": -1086,
    "start_time": "2022-02-06T09:55:56.819Z"
   },
   {
    "duration": -1090,
    "start_time": "2022-02-06T09:55:56.824Z"
   },
   {
    "duration": -1095,
    "start_time": "2022-02-06T09:55:56.830Z"
   },
   {
    "duration": -1099,
    "start_time": "2022-02-06T09:55:56.835Z"
   },
   {
    "duration": -1118,
    "start_time": "2022-02-06T09:55:56.855Z"
   },
   {
    "duration": -1129,
    "start_time": "2022-02-06T09:55:56.867Z"
   },
   {
    "duration": -1133,
    "start_time": "2022-02-06T09:55:56.872Z"
   },
   {
    "duration": -1137,
    "start_time": "2022-02-06T09:55:56.877Z"
   },
   {
    "duration": -1142,
    "start_time": "2022-02-06T09:55:56.883Z"
   },
   {
    "duration": -1145,
    "start_time": "2022-02-06T09:55:56.888Z"
   },
   {
    "duration": -1158,
    "start_time": "2022-02-06T09:55:56.902Z"
   },
   {
    "duration": -1162,
    "start_time": "2022-02-06T09:55:56.907Z"
   },
   {
    "duration": -1167,
    "start_time": "2022-02-06T09:55:56.913Z"
   },
   {
    "duration": -1171,
    "start_time": "2022-02-06T09:55:56.918Z"
   },
   {
    "duration": -1175,
    "start_time": "2022-02-06T09:55:56.923Z"
   },
   {
    "duration": -1183,
    "start_time": "2022-02-06T09:55:56.933Z"
   },
   {
    "duration": -1188,
    "start_time": "2022-02-06T09:55:56.939Z"
   },
   {
    "duration": -1192,
    "start_time": "2022-02-06T09:55:56.944Z"
   },
   {
    "duration": -1197,
    "start_time": "2022-02-06T09:55:56.950Z"
   },
   {
    "duration": -1148,
    "start_time": "2022-02-06T09:55:56.955Z"
   },
   {
    "duration": 8,
    "start_time": "2022-02-06T09:56:24.710Z"
   },
   {
    "duration": 695,
    "start_time": "2022-02-06T09:56:29.277Z"
   },
   {
    "duration": 3,
    "start_time": "2022-02-06T09:56:29.975Z"
   },
   {
    "duration": 98,
    "start_time": "2022-02-06T09:56:29.981Z"
   },
   {
    "duration": 4,
    "start_time": "2022-02-06T09:56:30.081Z"
   },
   {
    "duration": 116,
    "start_time": "2022-02-06T09:56:30.087Z"
   },
   {
    "duration": 29,
    "start_time": "2022-02-06T09:56:30.205Z"
   },
   {
    "duration": 12,
    "start_time": "2022-02-06T09:56:30.237Z"
   },
   {
    "duration": 18,
    "start_time": "2022-02-06T09:56:30.253Z"
   },
   {
    "duration": 77,
    "start_time": "2022-02-06T09:56:30.274Z"
   },
   {
    "duration": 14,
    "start_time": "2022-02-06T09:56:30.353Z"
   },
   {
    "duration": 17,
    "start_time": "2022-02-06T09:56:30.369Z"
   },
   {
    "duration": 32,
    "start_time": "2022-02-06T09:56:30.407Z"
   },
   {
    "duration": 19,
    "start_time": "2022-02-06T09:56:30.441Z"
   },
   {
    "duration": 5,
    "start_time": "2022-02-06T09:56:30.461Z"
   },
   {
    "duration": 12,
    "start_time": "2022-02-06T09:56:30.468Z"
   },
   {
    "duration": 36,
    "start_time": "2022-02-06T09:56:30.482Z"
   },
   {
    "duration": 44,
    "start_time": "2022-02-06T09:56:30.520Z"
   },
   {
    "duration": 29,
    "start_time": "2022-02-06T09:56:30.566Z"
   },
   {
    "duration": 39,
    "start_time": "2022-02-06T09:56:30.598Z"
   },
   {
    "duration": 79,
    "start_time": "2022-02-06T09:56:30.639Z"
   },
   {
    "duration": 44,
    "start_time": "2022-02-06T09:56:30.720Z"
   },
   {
    "duration": 58,
    "start_time": "2022-02-06T09:56:30.766Z"
   },
   {
    "duration": 16,
    "start_time": "2022-02-06T09:56:30.828Z"
   },
   {
    "duration": 23,
    "start_time": "2022-02-06T09:56:30.847Z"
   },
   {
    "duration": 60,
    "start_time": "2022-02-06T09:56:30.872Z"
   },
   {
    "duration": 27,
    "start_time": "2022-02-06T09:56:30.935Z"
   },
   {
    "duration": 8,
    "start_time": "2022-02-06T09:56:30.965Z"
   },
   {
    "duration": 34,
    "start_time": "2022-02-06T09:56:30.975Z"
   },
   {
    "duration": 27,
    "start_time": "2022-02-06T09:56:31.011Z"
   },
   {
    "duration": 38,
    "start_time": "2022-02-06T09:56:31.040Z"
   },
   {
    "duration": 17,
    "start_time": "2022-02-06T09:56:31.081Z"
   },
   {
    "duration": 32,
    "start_time": "2022-02-06T09:56:31.101Z"
   },
   {
    "duration": 13,
    "start_time": "2022-02-06T09:56:31.135Z"
   },
   {
    "duration": 60,
    "start_time": "2022-02-06T09:56:31.150Z"
   },
   {
    "duration": 31,
    "start_time": "2022-02-06T09:56:31.212Z"
   },
   {
    "duration": 23,
    "start_time": "2022-02-06T09:56:31.245Z"
   },
   {
    "duration": 25,
    "start_time": "2022-02-06T09:56:31.270Z"
   },
   {
    "duration": 17,
    "start_time": "2022-02-06T09:56:31.297Z"
   },
   {
    "duration": 24,
    "start_time": "2022-02-06T09:56:31.317Z"
   },
   {
    "duration": 10,
    "start_time": "2022-02-06T09:56:31.343Z"
   },
   {
    "duration": 51,
    "start_time": "2022-02-06T09:56:31.355Z"
   },
   {
    "duration": 6,
    "start_time": "2022-02-06T09:56:31.408Z"
   },
   {
    "duration": 16,
    "start_time": "2022-02-06T09:56:31.416Z"
   },
   {
    "duration": 14,
    "start_time": "2022-02-06T09:56:31.434Z"
   },
   {
    "duration": 9,
    "start_time": "2022-02-06T09:56:31.450Z"
   },
   {
    "duration": 14,
    "start_time": "2022-02-06T09:56:31.461Z"
   },
   {
    "duration": 7,
    "start_time": "2022-02-06T09:56:31.477Z"
   },
   {
    "duration": 24,
    "start_time": "2022-02-06T09:56:31.486Z"
   },
   {
    "duration": 5,
    "start_time": "2022-02-06T09:56:31.513Z"
   },
   {
    "duration": 14,
    "start_time": "2022-02-06T09:56:31.520Z"
   },
   {
    "duration": 14,
    "start_time": "2022-02-06T09:56:31.536Z"
   },
   {
    "duration": 47,
    "start_time": "2022-02-06T09:56:31.552Z"
   },
   {
    "duration": 7,
    "start_time": "2022-02-06T09:56:31.601Z"
   },
   {
    "duration": 28,
    "start_time": "2022-02-06T09:56:31.610Z"
   },
   {
    "duration": 53,
    "start_time": "2022-02-06T09:56:31.640Z"
   },
   {
    "duration": 4,
    "start_time": "2022-02-06T09:56:31.695Z"
   },
   {
    "duration": 11,
    "start_time": "2022-02-06T09:56:31.701Z"
   },
   {
    "duration": 20,
    "start_time": "2022-02-06T09:56:31.714Z"
   },
   {
    "duration": 26,
    "start_time": "2022-02-06T09:56:31.736Z"
   },
   {
    "duration": 27,
    "start_time": "2022-02-06T09:56:31.763Z"
   },
   {
    "duration": 13,
    "start_time": "2022-02-06T09:56:31.792Z"
   },
   {
    "duration": 10,
    "start_time": "2022-02-06T09:56:31.807Z"
   },
   {
    "duration": 73,
    "start_time": "2022-02-06T09:56:31.820Z"
   },
   {
    "duration": 13,
    "start_time": "2022-02-06T09:56:31.895Z"
   },
   {
    "duration": 271,
    "start_time": "2022-02-06T09:56:31.910Z"
   },
   {
    "duration": 5,
    "start_time": "2022-02-06T09:56:32.183Z"
   },
   {
    "duration": 299,
    "start_time": "2022-02-06T09:56:32.190Z"
   },
   {
    "duration": 31,
    "start_time": "2022-02-06T09:56:32.494Z"
   },
   {
    "duration": 338,
    "start_time": "2022-02-06T09:56:32.528Z"
   },
   {
    "duration": 10,
    "start_time": "2022-02-06T09:56:32.868Z"
   },
   {
    "duration": 46,
    "start_time": "2022-02-06T09:56:32.879Z"
   },
   {
    "duration": 15,
    "start_time": "2022-02-06T09:56:32.927Z"
   },
   {
    "duration": 355,
    "start_time": "2022-02-06T09:56:32.944Z"
   },
   {
    "duration": 298,
    "start_time": "2022-02-06T09:56:33.301Z"
   },
   {
    "duration": 280,
    "start_time": "2022-02-06T09:56:33.601Z"
   },
   {
    "duration": 285,
    "start_time": "2022-02-06T09:56:33.883Z"
   },
   {
    "duration": 276,
    "start_time": "2022-02-06T09:56:34.170Z"
   },
   {
    "duration": 22,
    "start_time": "2022-02-06T09:56:34.448Z"
   },
   {
    "duration": 303,
    "start_time": "2022-02-06T09:56:34.472Z"
   },
   {
    "duration": 708,
    "start_time": "2022-02-06T10:12:41.475Z"
   },
   {
    "duration": 3,
    "start_time": "2022-02-06T10:12:42.185Z"
   },
   {
    "duration": 93,
    "start_time": "2022-02-06T10:12:42.191Z"
   },
   {
    "duration": 3,
    "start_time": "2022-02-06T10:12:42.286Z"
   },
   {
    "duration": 111,
    "start_time": "2022-02-06T10:12:42.291Z"
   },
   {
    "duration": 26,
    "start_time": "2022-02-06T10:12:42.404Z"
   },
   {
    "duration": 10,
    "start_time": "2022-02-06T10:12:42.432Z"
   },
   {
    "duration": 7,
    "start_time": "2022-02-06T10:12:42.444Z"
   },
   {
    "duration": 322,
    "start_time": "2022-02-06T10:12:42.453Z"
   },
   {
    "duration": -777,
    "start_time": "2022-02-06T10:12:43.556Z"
   },
   {
    "duration": -781,
    "start_time": "2022-02-06T10:12:43.562Z"
   },
   {
    "duration": -787,
    "start_time": "2022-02-06T10:12:43.568Z"
   },
   {
    "duration": -792,
    "start_time": "2022-02-06T10:12:43.574Z"
   },
   {
    "duration": -797,
    "start_time": "2022-02-06T10:12:43.580Z"
   },
   {
    "duration": -802,
    "start_time": "2022-02-06T10:12:43.586Z"
   },
   {
    "duration": -807,
    "start_time": "2022-02-06T10:12:43.592Z"
   },
   {
    "duration": -812,
    "start_time": "2022-02-06T10:12:43.598Z"
   },
   {
    "duration": -816,
    "start_time": "2022-02-06T10:12:43.603Z"
   },
   {
    "duration": -821,
    "start_time": "2022-02-06T10:12:43.609Z"
   },
   {
    "duration": -825,
    "start_time": "2022-02-06T10:12:43.614Z"
   },
   {
    "duration": -830,
    "start_time": "2022-02-06T10:12:43.621Z"
   },
   {
    "duration": -835,
    "start_time": "2022-02-06T10:12:43.627Z"
   },
   {
    "duration": -841,
    "start_time": "2022-02-06T10:12:43.633Z"
   },
   {
    "duration": -845,
    "start_time": "2022-02-06T10:12:43.638Z"
   },
   {
    "duration": -850,
    "start_time": "2022-02-06T10:12:43.645Z"
   },
   {
    "duration": -875,
    "start_time": "2022-02-06T10:12:43.671Z"
   },
   {
    "duration": -881,
    "start_time": "2022-02-06T10:12:43.678Z"
   },
   {
    "duration": -886,
    "start_time": "2022-02-06T10:12:43.684Z"
   },
   {
    "duration": -891,
    "start_time": "2022-02-06T10:12:43.690Z"
   },
   {
    "duration": -895,
    "start_time": "2022-02-06T10:12:43.695Z"
   },
   {
    "duration": -900,
    "start_time": "2022-02-06T10:12:43.701Z"
   },
   {
    "duration": -903,
    "start_time": "2022-02-06T10:12:43.706Z"
   },
   {
    "duration": -909,
    "start_time": "2022-02-06T10:12:43.712Z"
   },
   {
    "duration": -914,
    "start_time": "2022-02-06T10:12:43.718Z"
   },
   {
    "duration": -919,
    "start_time": "2022-02-06T10:12:43.724Z"
   },
   {
    "duration": -923,
    "start_time": "2022-02-06T10:12:43.729Z"
   },
   {
    "duration": -929,
    "start_time": "2022-02-06T10:12:43.736Z"
   },
   {
    "duration": -933,
    "start_time": "2022-02-06T10:12:43.741Z"
   },
   {
    "duration": -938,
    "start_time": "2022-02-06T10:12:43.747Z"
   },
   {
    "duration": -942,
    "start_time": "2022-02-06T10:12:43.753Z"
   },
   {
    "duration": -947,
    "start_time": "2022-02-06T10:12:43.759Z"
   },
   {
    "duration": -951,
    "start_time": "2022-02-06T10:12:43.764Z"
   },
   {
    "duration": -956,
    "start_time": "2022-02-06T10:12:43.770Z"
   },
   {
    "duration": -969,
    "start_time": "2022-02-06T10:12:43.784Z"
   },
   {
    "duration": -974,
    "start_time": "2022-02-06T10:12:43.790Z"
   },
   {
    "duration": -979,
    "start_time": "2022-02-06T10:12:43.796Z"
   },
   {
    "duration": -984,
    "start_time": "2022-02-06T10:12:43.802Z"
   },
   {
    "duration": -988,
    "start_time": "2022-02-06T10:12:43.807Z"
   },
   {
    "duration": -993,
    "start_time": "2022-02-06T10:12:43.813Z"
   },
   {
    "duration": -998,
    "start_time": "2022-02-06T10:12:43.820Z"
   },
   {
    "duration": -1003,
    "start_time": "2022-02-06T10:12:43.826Z"
   },
   {
    "duration": -1007,
    "start_time": "2022-02-06T10:12:43.831Z"
   },
   {
    "duration": -1015,
    "start_time": "2022-02-06T10:12:43.840Z"
   },
   {
    "duration": -1019,
    "start_time": "2022-02-06T10:12:43.845Z"
   },
   {
    "duration": -1025,
    "start_time": "2022-02-06T10:12:43.852Z"
   },
   {
    "duration": -1030,
    "start_time": "2022-02-06T10:12:43.858Z"
   },
   {
    "duration": -1035,
    "start_time": "2022-02-06T10:12:43.864Z"
   },
   {
    "duration": -1039,
    "start_time": "2022-02-06T10:12:43.869Z"
   },
   {
    "duration": -1044,
    "start_time": "2022-02-06T10:12:43.875Z"
   },
   {
    "duration": -1049,
    "start_time": "2022-02-06T10:12:43.881Z"
   },
   {
    "duration": -1062,
    "start_time": "2022-02-06T10:12:43.895Z"
   },
   {
    "duration": -1067,
    "start_time": "2022-02-06T10:12:43.901Z"
   },
   {
    "duration": -1072,
    "start_time": "2022-02-06T10:12:43.907Z"
   },
   {
    "duration": -1076,
    "start_time": "2022-02-06T10:12:43.912Z"
   },
   {
    "duration": -1082,
    "start_time": "2022-02-06T10:12:43.919Z"
   },
   {
    "duration": -1088,
    "start_time": "2022-02-06T10:12:43.925Z"
   },
   {
    "duration": -1093,
    "start_time": "2022-02-06T10:12:43.931Z"
   },
   {
    "duration": -1098,
    "start_time": "2022-02-06T10:12:43.937Z"
   },
   {
    "duration": -1102,
    "start_time": "2022-02-06T10:12:43.942Z"
   },
   {
    "duration": -1107,
    "start_time": "2022-02-06T10:12:43.948Z"
   },
   {
    "duration": -1112,
    "start_time": "2022-02-06T10:12:43.954Z"
   },
   {
    "duration": -1117,
    "start_time": "2022-02-06T10:12:43.960Z"
   },
   {
    "duration": -1123,
    "start_time": "2022-02-06T10:12:43.966Z"
   },
   {
    "duration": -1128,
    "start_time": "2022-02-06T10:12:43.972Z"
   },
   {
    "duration": -1133,
    "start_time": "2022-02-06T10:12:43.978Z"
   },
   {
    "duration": -1137,
    "start_time": "2022-02-06T10:12:43.983Z"
   },
   {
    "duration": -1142,
    "start_time": "2022-02-06T10:12:43.989Z"
   },
   {
    "duration": -1154,
    "start_time": "2022-02-06T10:12:44.002Z"
   },
   {
    "duration": -1160,
    "start_time": "2022-02-06T10:12:44.009Z"
   },
   {
    "duration": 8,
    "start_time": "2022-02-06T10:13:24.883Z"
   },
   {
    "duration": 632,
    "start_time": "2022-02-06T10:13:30.444Z"
   },
   {
    "duration": 3,
    "start_time": "2022-02-06T10:13:31.078Z"
   },
   {
    "duration": 108,
    "start_time": "2022-02-06T10:13:31.084Z"
   },
   {
    "duration": 4,
    "start_time": "2022-02-06T10:13:31.194Z"
   },
   {
    "duration": 107,
    "start_time": "2022-02-06T10:13:31.208Z"
   },
   {
    "duration": 39,
    "start_time": "2022-02-06T10:13:31.317Z"
   },
   {
    "duration": 15,
    "start_time": "2022-02-06T10:13:31.359Z"
   },
   {
    "duration": 34,
    "start_time": "2022-02-06T10:13:31.378Z"
   },
   {
    "duration": 121,
    "start_time": "2022-02-06T10:13:31.415Z"
   },
   {
    "duration": 23,
    "start_time": "2022-02-06T10:13:31.538Z"
   },
   {
    "duration": 35,
    "start_time": "2022-02-06T10:13:31.564Z"
   },
   {
    "duration": 101,
    "start_time": "2022-02-06T10:13:31.602Z"
   },
   {
    "duration": 21,
    "start_time": "2022-02-06T10:13:31.706Z"
   },
   {
    "duration": 9,
    "start_time": "2022-02-06T10:13:31.729Z"
   },
   {
    "duration": 23,
    "start_time": "2022-02-06T10:13:31.740Z"
   },
   {
    "duration": 26,
    "start_time": "2022-02-06T10:13:31.764Z"
   },
   {
    "duration": 9,
    "start_time": "2022-02-06T10:13:31.792Z"
   },
   {
    "duration": 10,
    "start_time": "2022-02-06T10:13:31.807Z"
   },
   {
    "duration": 35,
    "start_time": "2022-02-06T10:13:31.819Z"
   },
   {
    "duration": 13,
    "start_time": "2022-02-06T10:13:31.856Z"
   },
   {
    "duration": 24,
    "start_time": "2022-02-06T10:13:31.871Z"
   },
   {
    "duration": 12,
    "start_time": "2022-02-06T10:13:31.897Z"
   },
   {
    "duration": 12,
    "start_time": "2022-02-06T10:13:31.914Z"
   },
   {
    "duration": 19,
    "start_time": "2022-02-06T10:13:31.929Z"
   },
   {
    "duration": 65,
    "start_time": "2022-02-06T10:13:31.950Z"
   },
   {
    "duration": 32,
    "start_time": "2022-02-06T10:13:32.017Z"
   },
   {
    "duration": 8,
    "start_time": "2022-02-06T10:13:32.052Z"
   },
   {
    "duration": 25,
    "start_time": "2022-02-06T10:13:32.063Z"
   },
   {
    "duration": 33,
    "start_time": "2022-02-06T10:13:32.109Z"
   },
   {
    "duration": 43,
    "start_time": "2022-02-06T10:13:32.145Z"
   },
   {
    "duration": 28,
    "start_time": "2022-02-06T10:13:32.191Z"
   },
   {
    "duration": 24,
    "start_time": "2022-02-06T10:13:32.222Z"
   },
   {
    "duration": 7,
    "start_time": "2022-02-06T10:13:32.249Z"
   },
   {
    "duration": 28,
    "start_time": "2022-02-06T10:13:32.258Z"
   },
   {
    "duration": 32,
    "start_time": "2022-02-06T10:13:32.289Z"
   },
   {
    "duration": 25,
    "start_time": "2022-02-06T10:13:32.323Z"
   },
   {
    "duration": 17,
    "start_time": "2022-02-06T10:13:32.350Z"
   },
   {
    "duration": 5,
    "start_time": "2022-02-06T10:13:32.369Z"
   },
   {
    "duration": 54,
    "start_time": "2022-02-06T10:13:32.376Z"
   },
   {
    "duration": 10,
    "start_time": "2022-02-06T10:13:32.432Z"
   },
   {
    "duration": 71,
    "start_time": "2022-02-06T10:13:32.444Z"
   },
   {
    "duration": 10,
    "start_time": "2022-02-06T10:13:32.518Z"
   },
   {
    "duration": 12,
    "start_time": "2022-02-06T10:13:32.530Z"
   },
   {
    "duration": 10,
    "start_time": "2022-02-06T10:13:32.544Z"
   },
   {
    "duration": 12,
    "start_time": "2022-02-06T10:13:32.555Z"
   },
   {
    "duration": 40,
    "start_time": "2022-02-06T10:13:32.569Z"
   },
   {
    "duration": 5,
    "start_time": "2022-02-06T10:13:32.611Z"
   },
   {
    "duration": 15,
    "start_time": "2022-02-06T10:13:32.618Z"
   },
   {
    "duration": 7,
    "start_time": "2022-02-06T10:13:32.635Z"
   },
   {
    "duration": 9,
    "start_time": "2022-02-06T10:13:32.644Z"
   },
   {
    "duration": 9,
    "start_time": "2022-02-06T10:13:32.655Z"
   },
   {
    "duration": 57,
    "start_time": "2022-02-06T10:13:32.666Z"
   },
   {
    "duration": 8,
    "start_time": "2022-02-06T10:13:32.725Z"
   },
   {
    "duration": 20,
    "start_time": "2022-02-06T10:13:32.735Z"
   },
   {
    "duration": 26,
    "start_time": "2022-02-06T10:13:32.757Z"
   },
   {
    "duration": 25,
    "start_time": "2022-02-06T10:13:32.785Z"
   },
   {
    "duration": 3,
    "start_time": "2022-02-06T10:13:32.812Z"
   },
   {
    "duration": 18,
    "start_time": "2022-02-06T10:13:32.817Z"
   },
   {
    "duration": 12,
    "start_time": "2022-02-06T10:13:32.837Z"
   },
   {
    "duration": 20,
    "start_time": "2022-02-06T10:13:32.851Z"
   },
   {
    "duration": 8,
    "start_time": "2022-02-06T10:13:32.873Z"
   },
   {
    "duration": 49,
    "start_time": "2022-02-06T10:13:32.883Z"
   },
   {
    "duration": 60,
    "start_time": "2022-02-06T10:13:32.935Z"
   },
   {
    "duration": 8,
    "start_time": "2022-02-06T10:13:32.997Z"
   },
   {
    "duration": 258,
    "start_time": "2022-02-06T10:13:33.007Z"
   },
   {
    "duration": 5,
    "start_time": "2022-02-06T10:13:33.267Z"
   },
   {
    "duration": 449,
    "start_time": "2022-02-06T10:13:33.275Z"
   },
   {
    "duration": 33,
    "start_time": "2022-02-06T10:13:33.733Z"
   },
   {
    "duration": 787,
    "start_time": "2022-02-06T10:13:33.769Z"
   },
   {
    "duration": 12,
    "start_time": "2022-02-06T10:13:34.558Z"
   },
   {
    "duration": 51,
    "start_time": "2022-02-06T10:13:34.572Z"
   },
   {
    "duration": 15,
    "start_time": "2022-02-06T10:13:34.625Z"
   },
   {
    "duration": 384,
    "start_time": "2022-02-06T10:13:34.642Z"
   },
   {
    "duration": 332,
    "start_time": "2022-02-06T10:13:35.028Z"
   },
   {
    "duration": 306,
    "start_time": "2022-02-06T10:13:35.362Z"
   },
   {
    "duration": 299,
    "start_time": "2022-02-06T10:13:35.670Z"
   },
   {
    "duration": 399,
    "start_time": "2022-02-06T10:13:35.972Z"
   },
   {
    "duration": 43,
    "start_time": "2022-02-06T10:13:36.373Z"
   },
   {
    "duration": 475,
    "start_time": "2022-02-06T10:13:36.418Z"
   },
   {
    "duration": 677,
    "start_time": "2022-02-06T10:35:36.655Z"
   },
   {
    "duration": 3,
    "start_time": "2022-02-06T10:35:37.335Z"
   },
   {
    "duration": 94,
    "start_time": "2022-02-06T10:35:37.341Z"
   },
   {
    "duration": 3,
    "start_time": "2022-02-06T10:35:37.438Z"
   },
   {
    "duration": 111,
    "start_time": "2022-02-06T10:35:37.442Z"
   },
   {
    "duration": 28,
    "start_time": "2022-02-06T10:35:37.555Z"
   },
   {
    "duration": 11,
    "start_time": "2022-02-06T10:35:37.584Z"
   },
   {
    "duration": 12,
    "start_time": "2022-02-06T10:35:37.599Z"
   },
   {
    "duration": 60,
    "start_time": "2022-02-06T10:35:37.614Z"
   },
   {
    "duration": 15,
    "start_time": "2022-02-06T10:35:37.676Z"
   },
   {
    "duration": 12,
    "start_time": "2022-02-06T10:35:37.708Z"
   },
   {
    "duration": 26,
    "start_time": "2022-02-06T10:35:37.722Z"
   },
   {
    "duration": 18,
    "start_time": "2022-02-06T10:35:37.750Z"
   },
   {
    "duration": 37,
    "start_time": "2022-02-06T10:35:37.770Z"
   },
   {
    "duration": 6,
    "start_time": "2022-02-06T10:35:37.810Z"
   },
   {
    "duration": 20,
    "start_time": "2022-02-06T10:35:37.818Z"
   },
   {
    "duration": 6,
    "start_time": "2022-02-06T10:35:37.840Z"
   },
   {
    "duration": 6,
    "start_time": "2022-02-06T10:35:37.848Z"
   },
   {
    "duration": 5,
    "start_time": "2022-02-06T10:35:37.855Z"
   },
   {
    "duration": 7,
    "start_time": "2022-02-06T10:35:37.862Z"
   },
   {
    "duration": 38,
    "start_time": "2022-02-06T10:35:37.871Z"
   },
   {
    "duration": 7,
    "start_time": "2022-02-06T10:35:37.912Z"
   },
   {
    "duration": 4,
    "start_time": "2022-02-06T10:35:37.923Z"
   },
   {
    "duration": 11,
    "start_time": "2022-02-06T10:35:37.930Z"
   },
   {
    "duration": 76,
    "start_time": "2022-02-06T10:35:37.943Z"
   },
   {
    "duration": 26,
    "start_time": "2022-02-06T10:35:38.021Z"
   },
   {
    "duration": 8,
    "start_time": "2022-02-06T10:35:38.049Z"
   },
   {
    "duration": 14,
    "start_time": "2022-02-06T10:35:38.059Z"
   },
   {
    "duration": 42,
    "start_time": "2022-02-06T10:35:38.075Z"
   },
   {
    "duration": 17,
    "start_time": "2022-02-06T10:35:38.119Z"
   },
   {
    "duration": 7,
    "start_time": "2022-02-06T10:35:38.138Z"
   },
   {
    "duration": 20,
    "start_time": "2022-02-06T10:35:38.147Z"
   },
   {
    "duration": 21,
    "start_time": "2022-02-06T10:35:38.169Z"
   },
   {
    "duration": 30,
    "start_time": "2022-02-06T10:35:38.191Z"
   },
   {
    "duration": 22,
    "start_time": "2022-02-06T10:35:38.222Z"
   },
   {
    "duration": 22,
    "start_time": "2022-02-06T10:35:38.246Z"
   },
   {
    "duration": 31,
    "start_time": "2022-02-06T10:35:38.270Z"
   },
   {
    "duration": 12,
    "start_time": "2022-02-06T10:35:38.303Z"
   },
   {
    "duration": 33,
    "start_time": "2022-02-06T10:35:38.317Z"
   },
   {
    "duration": 21,
    "start_time": "2022-02-06T10:35:38.352Z"
   },
   {
    "duration": 49,
    "start_time": "2022-02-06T10:35:38.375Z"
   },
   {
    "duration": 6,
    "start_time": "2022-02-06T10:35:38.426Z"
   },
   {
    "duration": 25,
    "start_time": "2022-02-06T10:35:38.434Z"
   },
   {
    "duration": 21,
    "start_time": "2022-02-06T10:35:38.461Z"
   },
   {
    "duration": 16,
    "start_time": "2022-02-06T10:35:38.484Z"
   },
   {
    "duration": 15,
    "start_time": "2022-02-06T10:35:38.502Z"
   },
   {
    "duration": 23,
    "start_time": "2022-02-06T10:35:38.519Z"
   },
   {
    "duration": 19,
    "start_time": "2022-02-06T10:35:38.544Z"
   },
   {
    "duration": 7,
    "start_time": "2022-02-06T10:35:38.565Z"
   },
   {
    "duration": 12,
    "start_time": "2022-02-06T10:35:38.574Z"
   },
   {
    "duration": 9,
    "start_time": "2022-02-06T10:35:38.588Z"
   },
   {
    "duration": 29,
    "start_time": "2022-02-06T10:35:38.599Z"
   },
   {
    "duration": 7,
    "start_time": "2022-02-06T10:35:38.630Z"
   },
   {
    "duration": 13,
    "start_time": "2022-02-06T10:35:38.639Z"
   },
   {
    "duration": 24,
    "start_time": "2022-02-06T10:35:38.654Z"
   },
   {
    "duration": 29,
    "start_time": "2022-02-06T10:35:38.680Z"
   },
   {
    "duration": 5,
    "start_time": "2022-02-06T10:35:38.711Z"
   },
   {
    "duration": 10,
    "start_time": "2022-02-06T10:35:38.718Z"
   },
   {
    "duration": 11,
    "start_time": "2022-02-06T10:35:38.730Z"
   },
   {
    "duration": 23,
    "start_time": "2022-02-06T10:35:38.743Z"
   },
   {
    "duration": 4,
    "start_time": "2022-02-06T10:35:38.768Z"
   },
   {
    "duration": 11,
    "start_time": "2022-02-06T10:35:38.774Z"
   },
   {
    "duration": 76,
    "start_time": "2022-02-06T10:35:38.787Z"
   },
   {
    "duration": 8,
    "start_time": "2022-02-06T10:35:38.865Z"
   },
   {
    "duration": 277,
    "start_time": "2022-02-06T10:35:38.875Z"
   },
   {
    "duration": 4,
    "start_time": "2022-02-06T10:35:39.154Z"
   },
   {
    "duration": 310,
    "start_time": "2022-02-06T10:35:39.160Z"
   },
   {
    "duration": 22,
    "start_time": "2022-02-06T10:35:39.475Z"
   },
   {
    "duration": 350,
    "start_time": "2022-02-06T10:35:39.507Z"
   },
   {
    "duration": 9,
    "start_time": "2022-02-06T10:35:39.859Z"
   },
   {
    "duration": 41,
    "start_time": "2022-02-06T10:35:39.870Z"
   },
   {
    "duration": 15,
    "start_time": "2022-02-06T10:35:39.913Z"
   },
   {
    "duration": 359,
    "start_time": "2022-02-06T10:35:39.930Z"
   },
   {
    "duration": 846,
    "start_time": "2022-02-06T10:35:40.291Z"
   },
   {
    "duration": 302,
    "start_time": "2022-02-06T10:35:41.140Z"
   },
   {
    "duration": 286,
    "start_time": "2022-02-06T10:35:41.444Z"
   },
   {
    "duration": 300,
    "start_time": "2022-02-06T10:35:41.733Z"
   },
   {
    "duration": 22,
    "start_time": "2022-02-06T10:35:42.035Z"
   },
   {
    "duration": 308,
    "start_time": "2022-02-06T10:35:42.059Z"
   },
   {
    "duration": 591,
    "start_time": "2022-02-06T14:05:51.724Z"
   },
   {
    "duration": 3,
    "start_time": "2022-02-06T14:05:52.316Z"
   },
   {
    "duration": 74,
    "start_time": "2022-02-06T14:05:52.323Z"
   },
   {
    "duration": 14,
    "start_time": "2022-02-06T14:05:52.399Z"
   },
   {
    "duration": 119,
    "start_time": "2022-02-06T14:05:52.415Z"
   },
   {
    "duration": 24,
    "start_time": "2022-02-06T14:05:52.535Z"
   },
   {
    "duration": 9,
    "start_time": "2022-02-06T14:05:52.561Z"
   },
   {
    "duration": 7,
    "start_time": "2022-02-06T14:05:52.572Z"
   },
   {
    "duration": 58,
    "start_time": "2022-02-06T14:05:52.581Z"
   },
   {
    "duration": 13,
    "start_time": "2022-02-06T14:05:52.640Z"
   },
   {
    "duration": 10,
    "start_time": "2022-02-06T14:05:52.655Z"
   },
   {
    "duration": 22,
    "start_time": "2022-02-06T14:05:52.667Z"
   },
   {
    "duration": 12,
    "start_time": "2022-02-06T14:05:52.712Z"
   },
   {
    "duration": 3,
    "start_time": "2022-02-06T14:05:52.726Z"
   },
   {
    "duration": 7,
    "start_time": "2022-02-06T14:05:52.730Z"
   },
   {
    "duration": 14,
    "start_time": "2022-02-06T14:05:52.738Z"
   },
   {
    "duration": 4,
    "start_time": "2022-02-06T14:05:52.754Z"
   },
   {
    "duration": 5,
    "start_time": "2022-02-06T14:05:52.759Z"
   },
   {
    "duration": 5,
    "start_time": "2022-02-06T14:05:52.766Z"
   },
   {
    "duration": 40,
    "start_time": "2022-02-06T14:05:52.773Z"
   },
   {
    "duration": 7,
    "start_time": "2022-02-06T14:05:52.814Z"
   },
   {
    "duration": 3,
    "start_time": "2022-02-06T14:05:52.825Z"
   },
   {
    "duration": 4,
    "start_time": "2022-02-06T14:05:52.830Z"
   },
   {
    "duration": 9,
    "start_time": "2022-02-06T14:05:52.835Z"
   },
   {
    "duration": 69,
    "start_time": "2022-02-06T14:05:52.845Z"
   },
   {
    "duration": 23,
    "start_time": "2022-02-06T14:05:52.915Z"
   },
   {
    "duration": 7,
    "start_time": "2022-02-06T14:05:52.939Z"
   },
   {
    "duration": 9,
    "start_time": "2022-02-06T14:05:52.947Z"
   },
   {
    "duration": 14,
    "start_time": "2022-02-06T14:05:52.958Z"
   },
   {
    "duration": 43,
    "start_time": "2022-02-06T14:05:52.973Z"
   },
   {
    "duration": 5,
    "start_time": "2022-02-06T14:05:53.017Z"
   },
   {
    "duration": 10,
    "start_time": "2022-02-06T14:05:53.023Z"
   },
   {
    "duration": 4,
    "start_time": "2022-02-06T14:05:53.034Z"
   },
   {
    "duration": 12,
    "start_time": "2022-02-06T14:05:53.039Z"
   },
   {
    "duration": 12,
    "start_time": "2022-02-06T14:05:53.053Z"
   },
   {
    "duration": 46,
    "start_time": "2022-02-06T14:05:53.067Z"
   },
   {
    "duration": 10,
    "start_time": "2022-02-06T14:05:53.114Z"
   },
   {
    "duration": 4,
    "start_time": "2022-02-06T14:05:53.125Z"
   },
   {
    "duration": 19,
    "start_time": "2022-02-06T14:05:53.130Z"
   },
   {
    "duration": 5,
    "start_time": "2022-02-06T14:05:53.150Z"
   },
   {
    "duration": 29,
    "start_time": "2022-02-06T14:05:53.156Z"
   },
   {
    "duration": 26,
    "start_time": "2022-02-06T14:05:53.187Z"
   },
   {
    "duration": 6,
    "start_time": "2022-02-06T14:05:53.214Z"
   },
   {
    "duration": 6,
    "start_time": "2022-02-06T14:05:53.221Z"
   },
   {
    "duration": 4,
    "start_time": "2022-02-06T14:05:53.229Z"
   },
   {
    "duration": 4,
    "start_time": "2022-02-06T14:05:53.235Z"
   },
   {
    "duration": 5,
    "start_time": "2022-02-06T14:05:53.240Z"
   },
   {
    "duration": 5,
    "start_time": "2022-02-06T14:05:53.246Z"
   },
   {
    "duration": 4,
    "start_time": "2022-02-06T14:05:53.253Z"
   },
   {
    "duration": 54,
    "start_time": "2022-02-06T14:05:53.258Z"
   },
   {
    "duration": 4,
    "start_time": "2022-02-06T14:05:53.314Z"
   },
   {
    "duration": 22,
    "start_time": "2022-02-06T14:05:53.320Z"
   },
   {
    "duration": 7,
    "start_time": "2022-02-06T14:05:53.344Z"
   },
   {
    "duration": 11,
    "start_time": "2022-02-06T14:05:53.352Z"
   },
   {
    "duration": 59,
    "start_time": "2022-02-06T14:05:53.365Z"
   },
   {
    "duration": 5,
    "start_time": "2022-02-06T14:05:53.426Z"
   },
   {
    "duration": 4,
    "start_time": "2022-02-06T14:05:53.432Z"
   },
   {
    "duration": 8,
    "start_time": "2022-02-06T14:05:53.437Z"
   },
   {
    "duration": 7,
    "start_time": "2022-02-06T14:05:53.447Z"
   },
   {
    "duration": 18,
    "start_time": "2022-02-06T14:05:53.455Z"
   },
   {
    "duration": 4,
    "start_time": "2022-02-06T14:05:53.474Z"
   },
   {
    "duration": 34,
    "start_time": "2022-02-06T14:05:53.479Z"
   },
   {
    "duration": 48,
    "start_time": "2022-02-06T14:05:53.515Z"
   },
   {
    "duration": 6,
    "start_time": "2022-02-06T14:05:53.565Z"
   },
   {
    "duration": 264,
    "start_time": "2022-02-06T14:05:53.573Z"
   },
   {
    "duration": 4,
    "start_time": "2022-02-06T14:05:53.839Z"
   },
   {
    "duration": 396,
    "start_time": "2022-02-06T14:05:53.847Z"
   },
   {
    "duration": 70,
    "start_time": "2022-02-06T14:05:54.245Z"
   },
   {
    "duration": 395,
    "start_time": "2022-02-06T14:05:54.317Z"
   },
   {
    "duration": 9,
    "start_time": "2022-02-06T14:05:54.714Z"
   },
   {
    "duration": 28,
    "start_time": "2022-02-06T14:05:54.725Z"
   },
   {
    "duration": 13,
    "start_time": "2022-02-06T14:05:54.755Z"
   },
   {
    "duration": 342,
    "start_time": "2022-02-06T14:05:54.770Z"
   },
   {
    "duration": 286,
    "start_time": "2022-02-06T14:05:55.114Z"
   },
   {
    "duration": 267,
    "start_time": "2022-02-06T14:05:55.401Z"
   },
   {
    "duration": 277,
    "start_time": "2022-02-06T14:05:55.670Z"
   },
   {
    "duration": 279,
    "start_time": "2022-02-06T14:05:55.948Z"
   },
   {
    "duration": 26,
    "start_time": "2022-02-06T14:05:56.230Z"
   },
   {
    "duration": 313,
    "start_time": "2022-02-06T14:05:56.258Z"
   },
   {
    "duration": 2,
    "start_time": "2022-02-06T14:28:27.098Z"
   },
   {
    "duration": 3,
    "start_time": "2022-02-06T14:28:27.802Z"
   },
   {
    "duration": 3,
    "start_time": "2022-02-06T14:28:28.466Z"
   },
   {
    "duration": 3,
    "start_time": "2022-02-06T14:28:29.074Z"
   },
   {
    "duration": 87,
    "start_time": "2022-02-06T14:28:29.650Z"
   },
   {
    "duration": 21,
    "start_time": "2022-02-06T14:28:30.259Z"
   },
   {
    "duration": 9,
    "start_time": "2022-02-06T14:28:30.903Z"
   },
   {
    "duration": 8,
    "start_time": "2022-02-06T14:28:31.523Z"
   },
   {
    "duration": 59,
    "start_time": "2022-02-06T14:28:32.138Z"
   },
   {
    "duration": 14,
    "start_time": "2022-02-06T14:28:32.779Z"
   },
   {
    "duration": 9,
    "start_time": "2022-02-06T14:28:33.539Z"
   },
   {
    "duration": 24,
    "start_time": "2022-02-06T14:28:34.219Z"
   },
   {
    "duration": 14,
    "start_time": "2022-02-06T14:28:34.859Z"
   },
   {
    "duration": 5,
    "start_time": "2022-02-06T14:28:35.547Z"
   },
   {
    "duration": 6,
    "start_time": "2022-02-06T14:28:36.259Z"
   },
   {
    "duration": 16,
    "start_time": "2022-02-06T14:28:37.259Z"
   },
   {
    "duration": 5,
    "start_time": "2022-02-06T14:28:37.971Z"
   },
   {
    "duration": 5,
    "start_time": "2022-02-06T14:28:38.613Z"
   },
   {
    "duration": 4,
    "start_time": "2022-02-06T14:28:39.284Z"
   },
   {
    "duration": 4,
    "start_time": "2022-02-06T14:28:40.060Z"
   },
   {
    "duration": 8,
    "start_time": "2022-02-06T14:28:40.868Z"
   },
   {
    "duration": 4,
    "start_time": "2022-02-06T14:28:42.275Z"
   },
   {
    "duration": 3,
    "start_time": "2022-02-06T14:28:43.044Z"
   },
   {
    "duration": 8,
    "start_time": "2022-02-06T14:28:43.826Z"
   },
   {
    "duration": 45,
    "start_time": "2022-02-06T14:28:44.532Z"
   },
   {
    "duration": 24,
    "start_time": "2022-02-06T14:28:45.188Z"
   },
   {
    "duration": 8,
    "start_time": "2022-02-06T14:28:47.084Z"
   },
   {
    "duration": 11,
    "start_time": "2022-02-06T14:28:48.188Z"
   },
   {
    "duration": 16,
    "start_time": "2022-02-06T14:28:49.357Z"
   },
   {
    "duration": 16,
    "start_time": "2022-02-06T14:28:50.845Z"
   },
   {
    "duration": 5,
    "start_time": "2022-02-06T14:28:51.688Z"
   },
   {
    "duration": 11,
    "start_time": "2022-02-06T14:28:52.628Z"
   },
   {
    "duration": 6,
    "start_time": "2022-02-06T14:28:54.045Z"
   },
   {
    "duration": 587,
    "start_time": "2022-02-06T14:29:14.662Z"
   },
   {
    "duration": 3,
    "start_time": "2022-02-06T14:29:15.250Z"
   },
   {
    "duration": 85,
    "start_time": "2022-02-06T14:29:15.255Z"
   },
   {
    "duration": 2,
    "start_time": "2022-02-06T14:29:15.342Z"
   },
   {
    "duration": 93,
    "start_time": "2022-02-06T14:29:15.346Z"
   },
   {
    "duration": 25,
    "start_time": "2022-02-06T14:29:15.441Z"
   },
   {
    "duration": 8,
    "start_time": "2022-02-06T14:29:15.467Z"
   },
   {
    "duration": 8,
    "start_time": "2022-02-06T14:29:15.478Z"
   },
   {
    "duration": 58,
    "start_time": "2022-02-06T14:29:15.488Z"
   },
   {
    "duration": 13,
    "start_time": "2022-02-06T14:29:15.548Z"
   },
   {
    "duration": 12,
    "start_time": "2022-02-06T14:29:15.563Z"
   },
   {
    "duration": 48,
    "start_time": "2022-02-06T14:29:15.576Z"
   },
   {
    "duration": 15,
    "start_time": "2022-02-06T14:29:15.627Z"
   },
   {
    "duration": 4,
    "start_time": "2022-02-06T14:29:15.644Z"
   },
   {
    "duration": 7,
    "start_time": "2022-02-06T14:29:15.649Z"
   },
   {
    "duration": 15,
    "start_time": "2022-02-06T14:29:15.657Z"
   },
   {
    "duration": 4,
    "start_time": "2022-02-06T14:29:15.674Z"
   },
   {
    "duration": 33,
    "start_time": "2022-02-06T14:29:15.679Z"
   },
   {
    "duration": 5,
    "start_time": "2022-02-06T14:29:15.714Z"
   },
   {
    "duration": 5,
    "start_time": "2022-02-06T14:29:15.721Z"
   },
   {
    "duration": 7,
    "start_time": "2022-02-06T14:29:15.727Z"
   },
   {
    "duration": 3,
    "start_time": "2022-02-06T14:29:15.736Z"
   },
   {
    "duration": 4,
    "start_time": "2022-02-06T14:29:15.743Z"
   },
   {
    "duration": 8,
    "start_time": "2022-02-06T14:29:15.749Z"
   },
   {
    "duration": 98,
    "start_time": "2022-02-06T14:29:15.759Z"
   },
   {
    "duration": 73,
    "start_time": "2022-02-06T14:29:15.859Z"
   },
   {
    "duration": 8,
    "start_time": "2022-02-06T14:29:15.933Z"
   },
   {
    "duration": 11,
    "start_time": "2022-02-06T14:29:15.943Z"
   },
   {
    "duration": 70,
    "start_time": "2022-02-06T14:29:15.955Z"
   },
   {
    "duration": 14,
    "start_time": "2022-02-06T14:29:16.026Z"
   },
   {
    "duration": 6,
    "start_time": "2022-02-06T14:29:16.041Z"
   },
   {
    "duration": 64,
    "start_time": "2022-02-06T14:29:16.048Z"
   },
   {
    "duration": 5,
    "start_time": "2022-02-06T14:29:16.114Z"
   },
   {
    "duration": 14,
    "start_time": "2022-02-06T14:29:16.121Z"
   },
   {
    "duration": 15,
    "start_time": "2022-02-06T14:29:16.136Z"
   },
   {
    "duration": 67,
    "start_time": "2022-02-06T14:29:16.152Z"
   },
   {
    "duration": 11,
    "start_time": "2022-02-06T14:29:16.221Z"
   },
   {
    "duration": 4,
    "start_time": "2022-02-06T14:29:16.234Z"
   },
   {
    "duration": 16,
    "start_time": "2022-02-06T14:29:16.239Z"
   },
   {
    "duration": 57,
    "start_time": "2022-02-06T14:29:16.257Z"
   },
   {
    "duration": 29,
    "start_time": "2022-02-06T14:29:16.316Z"
   },
   {
    "duration": 6,
    "start_time": "2022-02-06T14:29:16.346Z"
   },
   {
    "duration": 59,
    "start_time": "2022-02-06T14:29:16.353Z"
   },
   {
    "duration": 9,
    "start_time": "2022-02-06T14:29:16.414Z"
   },
   {
    "duration": 6,
    "start_time": "2022-02-06T14:29:16.425Z"
   },
   {
    "duration": 7,
    "start_time": "2022-02-06T14:29:16.433Z"
   },
   {
    "duration": 8,
    "start_time": "2022-02-06T14:29:16.442Z"
   },
   {
    "duration": 62,
    "start_time": "2022-02-06T14:29:16.452Z"
   },
   {
    "duration": 7,
    "start_time": "2022-02-06T14:29:16.516Z"
   },
   {
    "duration": 8,
    "start_time": "2022-02-06T14:29:16.525Z"
   },
   {
    "duration": 5,
    "start_time": "2022-02-06T14:29:16.534Z"
   },
   {
    "duration": 23,
    "start_time": "2022-02-06T14:29:16.540Z"
   },
   {
    "duration": 375,
    "start_time": "2022-02-06T14:29:16.565Z"
   },
   {
    "duration": -551,
    "start_time": "2022-02-06T14:29:17.494Z"
   },
   {
    "duration": -552,
    "start_time": "2022-02-06T14:29:17.496Z"
   },
   {
    "duration": -553,
    "start_time": "2022-02-06T14:29:17.498Z"
   },
   {
    "duration": -554,
    "start_time": "2022-02-06T14:29:17.500Z"
   },
   {
    "duration": -556,
    "start_time": "2022-02-06T14:29:17.503Z"
   },
   {
    "duration": -557,
    "start_time": "2022-02-06T14:29:17.505Z"
   },
   {
    "duration": -559,
    "start_time": "2022-02-06T14:29:17.508Z"
   },
   {
    "duration": -560,
    "start_time": "2022-02-06T14:29:17.510Z"
   },
   {
    "duration": -561,
    "start_time": "2022-02-06T14:29:17.512Z"
   },
   {
    "duration": -562,
    "start_time": "2022-02-06T14:29:17.514Z"
   },
   {
    "duration": -563,
    "start_time": "2022-02-06T14:29:17.516Z"
   },
   {
    "duration": -564,
    "start_time": "2022-02-06T14:29:17.518Z"
   },
   {
    "duration": -566,
    "start_time": "2022-02-06T14:29:17.521Z"
   },
   {
    "duration": -571,
    "start_time": "2022-02-06T14:29:17.527Z"
   },
   {
    "duration": -572,
    "start_time": "2022-02-06T14:29:17.529Z"
   },
   {
    "duration": -573,
    "start_time": "2022-02-06T14:29:17.531Z"
   },
   {
    "duration": -575,
    "start_time": "2022-02-06T14:29:17.534Z"
   },
   {
    "duration": -576,
    "start_time": "2022-02-06T14:29:17.536Z"
   },
   {
    "duration": -577,
    "start_time": "2022-02-06T14:29:17.538Z"
   },
   {
    "duration": -578,
    "start_time": "2022-02-06T14:29:17.540Z"
   },
   {
    "duration": -580,
    "start_time": "2022-02-06T14:29:17.543Z"
   },
   {
    "duration": -582,
    "start_time": "2022-02-06T14:29:17.545Z"
   },
   {
    "duration": -584,
    "start_time": "2022-02-06T14:29:17.548Z"
   },
   {
    "duration": -585,
    "start_time": "2022-02-06T14:29:17.550Z"
   },
   {
    "duration": -587,
    "start_time": "2022-02-06T14:29:17.553Z"
   },
   {
    "duration": -588,
    "start_time": "2022-02-06T14:29:17.555Z"
   },
   {
    "duration": 6,
    "start_time": "2022-02-06T14:29:38.006Z"
   },
   {
    "duration": 20,
    "start_time": "2022-02-06T14:29:43.406Z"
   },
   {
    "duration": 5,
    "start_time": "2022-02-06T14:29:59.152Z"
   },
   {
    "duration": 27,
    "start_time": "2022-02-06T14:30:59.713Z"
   },
   {
    "duration": 18,
    "start_time": "2022-02-06T14:31:39.534Z"
   },
   {
    "duration": 7,
    "start_time": "2022-02-06T14:31:55.295Z"
   },
   {
    "duration": 98,
    "start_time": "2022-02-06T14:33:06.219Z"
   },
   {
    "duration": 93,
    "start_time": "2022-02-06T14:33:24.914Z"
   },
   {
    "duration": 9,
    "start_time": "2022-02-06T14:33:30.003Z"
   },
   {
    "duration": 7646,
    "start_time": "2022-02-06T14:33:41.932Z"
   },
   {
    "duration": 6,
    "start_time": "2022-02-06T14:41:25.935Z"
   },
   {
    "duration": 11,
    "start_time": "2022-02-06T14:41:42.177Z"
   },
   {
    "duration": 10,
    "start_time": "2022-02-06T14:45:34.206Z"
   },
   {
    "duration": 576,
    "start_time": "2022-02-06T15:06:32.449Z"
   },
   {
    "duration": 3,
    "start_time": "2022-02-06T15:06:33.027Z"
   },
   {
    "duration": 85,
    "start_time": "2022-02-06T15:06:33.033Z"
   },
   {
    "duration": 3,
    "start_time": "2022-02-06T15:06:33.120Z"
   },
   {
    "duration": 89,
    "start_time": "2022-02-06T15:06:33.125Z"
   },
   {
    "duration": 23,
    "start_time": "2022-02-06T15:06:33.215Z"
   },
   {
    "duration": 8,
    "start_time": "2022-02-06T15:06:33.239Z"
   },
   {
    "duration": 8,
    "start_time": "2022-02-06T15:06:33.250Z"
   },
   {
    "duration": 78,
    "start_time": "2022-02-06T15:06:33.260Z"
   },
   {
    "duration": 13,
    "start_time": "2022-02-06T15:06:33.340Z"
   },
   {
    "duration": 10,
    "start_time": "2022-02-06T15:06:33.355Z"
   },
   {
    "duration": 45,
    "start_time": "2022-02-06T15:06:33.367Z"
   },
   {
    "duration": 14,
    "start_time": "2022-02-06T15:06:33.413Z"
   },
   {
    "duration": 4,
    "start_time": "2022-02-06T15:06:33.428Z"
   },
   {
    "duration": 6,
    "start_time": "2022-02-06T15:06:33.433Z"
   },
   {
    "duration": 14,
    "start_time": "2022-02-06T15:06:33.440Z"
   },
   {
    "duration": 4,
    "start_time": "2022-02-06T15:06:33.455Z"
   },
   {
    "duration": 7,
    "start_time": "2022-02-06T15:06:33.460Z"
   },
   {
    "duration": 4,
    "start_time": "2022-02-06T15:06:33.468Z"
   },
   {
    "duration": 40,
    "start_time": "2022-02-06T15:06:33.473Z"
   },
   {
    "duration": 8,
    "start_time": "2022-02-06T15:06:33.514Z"
   },
   {
    "duration": 3,
    "start_time": "2022-02-06T15:06:33.524Z"
   },
   {
    "duration": 3,
    "start_time": "2022-02-06T15:06:33.531Z"
   },
   {
    "duration": 9,
    "start_time": "2022-02-06T15:06:33.536Z"
   },
   {
    "duration": 73,
    "start_time": "2022-02-06T15:06:33.546Z"
   },
   {
    "duration": 23,
    "start_time": "2022-02-06T15:06:33.621Z"
   },
   {
    "duration": 7,
    "start_time": "2022-02-06T15:06:33.646Z"
   },
   {
    "duration": 10,
    "start_time": "2022-02-06T15:06:33.654Z"
   },
   {
    "duration": 16,
    "start_time": "2022-02-06T15:06:33.666Z"
   },
   {
    "duration": 16,
    "start_time": "2022-02-06T15:06:33.712Z"
   },
   {
    "duration": 6,
    "start_time": "2022-02-06T15:06:33.729Z"
   },
   {
    "duration": 10,
    "start_time": "2022-02-06T15:06:33.736Z"
   },
   {
    "duration": 4,
    "start_time": "2022-02-06T15:06:33.748Z"
   },
   {
    "duration": 16,
    "start_time": "2022-02-06T15:06:33.753Z"
   },
   {
    "duration": 43,
    "start_time": "2022-02-06T15:06:33.770Z"
   },
   {
    "duration": 13,
    "start_time": "2022-02-06T15:06:33.815Z"
   },
   {
    "duration": 12,
    "start_time": "2022-02-06T15:06:33.830Z"
   },
   {
    "duration": 4,
    "start_time": "2022-02-06T15:06:33.843Z"
   },
   {
    "duration": 14,
    "start_time": "2022-02-06T15:06:33.849Z"
   },
   {
    "duration": 5,
    "start_time": "2022-02-06T15:06:33.865Z"
   },
   {
    "duration": 60,
    "start_time": "2022-02-06T15:06:33.872Z"
   },
   {
    "duration": 6,
    "start_time": "2022-02-06T15:06:33.934Z"
   },
   {
    "duration": 5,
    "start_time": "2022-02-06T15:06:33.942Z"
   },
   {
    "duration": 6,
    "start_time": "2022-02-06T15:06:33.948Z"
   },
   {
    "duration": 9,
    "start_time": "2022-02-06T15:06:33.955Z"
   },
   {
    "duration": 5,
    "start_time": "2022-02-06T15:06:33.966Z"
   },
   {
    "duration": 5,
    "start_time": "2022-02-06T15:06:33.972Z"
   },
   {
    "duration": 37,
    "start_time": "2022-02-06T15:06:33.979Z"
   },
   {
    "duration": 5,
    "start_time": "2022-02-06T15:06:34.018Z"
   },
   {
    "duration": 9,
    "start_time": "2022-02-06T15:06:34.025Z"
   },
   {
    "duration": 5,
    "start_time": "2022-02-06T15:06:34.036Z"
   },
   {
    "duration": 23,
    "start_time": "2022-02-06T15:06:34.042Z"
   },
   {
    "duration": 48,
    "start_time": "2022-02-06T15:06:34.067Z"
   },
   {
    "duration": 12,
    "start_time": "2022-02-06T15:06:34.117Z"
   },
   {
    "duration": 22,
    "start_time": "2022-02-06T15:06:34.131Z"
   },
   {
    "duration": 5,
    "start_time": "2022-02-06T15:06:34.155Z"
   },
   {
    "duration": 3,
    "start_time": "2022-02-06T15:06:34.162Z"
   },
   {
    "duration": 45,
    "start_time": "2022-02-06T15:06:34.167Z"
   },
   {
    "duration": 7,
    "start_time": "2022-02-06T15:06:34.214Z"
   },
   {
    "duration": 20,
    "start_time": "2022-02-06T15:06:34.223Z"
   },
   {
    "duration": 4,
    "start_time": "2022-02-06T15:06:34.246Z"
   },
   {
    "duration": 6,
    "start_time": "2022-02-06T15:06:34.252Z"
   },
   {
    "duration": 71,
    "start_time": "2022-02-06T15:06:34.260Z"
   },
   {
    "duration": 8,
    "start_time": "2022-02-06T15:06:34.333Z"
   },
   {
    "duration": 259,
    "start_time": "2022-02-06T15:06:34.342Z"
   },
   {
    "duration": 11,
    "start_time": "2022-02-06T15:06:34.603Z"
   },
   {
    "duration": 503,
    "start_time": "2022-02-06T15:06:34.616Z"
   },
   {
    "duration": 19,
    "start_time": "2022-02-06T15:06:35.123Z"
   },
   {
    "duration": 337,
    "start_time": "2022-02-06T15:06:35.144Z"
   },
   {
    "duration": 9,
    "start_time": "2022-02-06T15:06:35.483Z"
   },
   {
    "duration": 39,
    "start_time": "2022-02-06T15:06:35.494Z"
   },
   {
    "duration": 11,
    "start_time": "2022-02-06T15:06:35.535Z"
   },
   {
    "duration": 344,
    "start_time": "2022-02-06T15:06:35.548Z"
   },
   {
    "duration": 309,
    "start_time": "2022-02-06T15:06:35.894Z"
   },
   {
    "duration": 423,
    "start_time": "2022-02-06T15:06:36.205Z"
   },
   {
    "duration": 584,
    "start_time": "2022-02-06T15:06:36.629Z"
   },
   {
    "duration": 312,
    "start_time": "2022-02-06T15:06:37.215Z"
   },
   {
    "duration": 19,
    "start_time": "2022-02-06T15:06:37.529Z"
   },
   {
    "duration": 294,
    "start_time": "2022-02-06T15:06:37.550Z"
   }
  ],
  "colab": {
   "name": "DA+. Сборный проект 1. Шаблон (1).ipynb",
   "provenance": []
  },
  "kernelspec": {
   "display_name": "Python 3 (ipykernel)",
   "language": "python",
   "name": "python3"
  },
  "language_info": {
   "codemirror_mode": {
    "name": "ipython",
    "version": 3
   },
   "file_extension": ".py",
   "mimetype": "text/x-python",
   "name": "python",
   "nbconvert_exporter": "python",
   "pygments_lexer": "ipython3",
   "version": "3.9.12"
  },
  "toc": {
   "base_numbering": 1,
   "nav_menu": {},
   "number_sections": true,
   "sideBar": true,
   "skip_h1_title": true,
   "title_cell": "Table of Contents",
   "title_sidebar": "Contents",
   "toc_cell": false,
   "toc_position": {
    "height": "calc(100% - 180px)",
    "left": "10px",
    "top": "150px",
    "width": "375px"
   },
   "toc_section_display": true,
   "toc_window_display": true
  }
 },
 "nbformat": 4,
 "nbformat_minor": 1
}
