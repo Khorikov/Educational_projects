{
 "cells": [
  {
   "cell_type": "markdown",
   "id": "97e49b3f",
   "metadata": {},
   "source": [
    "# Исследование текущего уровня потребительской лояльности телекоммуникационной компании"
   ]
  },
  {
   "cell_type": "markdown",
   "id": "83bee615",
   "metadata": {},
   "source": [
    "Заказчик этого исследования — большая телекоммуникационная компания, которая оказывает услуги на территории всего СНГ. \n",
    "\n",
    "Нужно определить текущий уровень потребительской лояльности, или NPS (от англ. Net Promoter Score), среди клиентов из России.\n",
    "\n",
    "Для исследования используются данные о клиентах телекоммуникационной компании, а также результаты опроса клиентов."
   ]
  },
  {
   "cell_type": "markdown",
   "id": "5bb6e6b1",
   "metadata": {},
   "source": [
    "Цели исследования:\n",
    "\n",
    "1. Определить распределение участников опроса по возрасту, полу и возрасту;\n",
    "2. Найти количество новых и старых пользователей;\n",
    "3. Обнаружить в каких городах клиенты наиболее активно участвовали в опросе;\n",
    "4. Выяснить какие группы пользователей наиболее и наименее лояльны к сервису;\n",
    "5. Рассчитать общий NPS среди всех опрошенных;\n",
    "6. Описать клиентов, которые относятся к группе сторонников.\n",
    "\n",
    "Ход исследования пройдёт в три этапа:\n",
    "\n",
    "1. Обзор, предобработка и выгрузка данных;\n",
    "2. Подготовка дашборда;\n",
    "3. Подготовка презентации."
   ]
  },
  {
   "cell_type": "markdown",
   "id": "c673b564",
   "metadata": {},
   "source": [
    "Импортируем библиотеки:"
   ]
  },
  {
   "cell_type": "code",
   "execution_count": 1,
   "id": "94168ac5",
   "metadata": {
    "tags": [
     "aa81075c-062f-4de0-b5fe-14c73dc7468e"
    ]
   },
   "outputs": [],
   "source": [
    "import pandas as pd\n",
    "import numpy as np\n",
    "\n",
    "from sqlalchemy import create_engine"
   ]
  },
  {
   "cell_type": "markdown",
   "id": "ce07a013",
   "metadata": {},
   "source": [
    "Подключаемся к БД:"
   ]
  },
  {
   "cell_type": "code",
   "execution_count": 2,
   "id": "c3fd12f7",
   "metadata": {},
   "outputs": [],
   "source": [
    "path_to_db = '/datasets/telecomm_csi.db'\n",
    "engine = create_engine(f'sqlite:///{path_to_db}', echo = False)"
   ]
  },
  {
   "cell_type": "markdown",
   "id": "2e741d51",
   "metadata": {},
   "source": [
    "## Обзор данных"
   ]
  },
  {
   "cell_type": "markdown",
   "id": "6259276e",
   "metadata": {},
   "source": [
    "Рассмотрим все таблицы изучаемой БД:"
   ]
  },
  {
   "cell_type": "code",
   "execution_count": 3,
   "id": "84dc512a",
   "metadata": {},
   "outputs": [],
   "source": [
    "query = \"\"\"\n",
    "SELECT * \n",
    "FROM user\n",
    "LIMIT 20;\n",
    "\"\"\""
   ]
  },
  {
   "cell_type": "code",
   "execution_count": 4,
   "id": "dd78b701",
   "metadata": {},
   "outputs": [
    {
     "data": {
      "text/html": [
       "<div>\n",
       "<style scoped>\n",
       "    .dataframe tbody tr th:only-of-type {\n",
       "        vertical-align: middle;\n",
       "    }\n",
       "\n",
       "    .dataframe tbody tr th {\n",
       "        vertical-align: top;\n",
       "    }\n",
       "\n",
       "    .dataframe thead th {\n",
       "        text-align: right;\n",
       "    }\n",
       "</style>\n",
       "<table border=\"1\" class=\"dataframe\">\n",
       "  <thead>\n",
       "    <tr style=\"text-align: right;\">\n",
       "      <th></th>\n",
       "      <th>user_id</th>\n",
       "      <th>lt_day</th>\n",
       "      <th>age</th>\n",
       "      <th>gender_segment</th>\n",
       "      <th>os_name</th>\n",
       "      <th>cpe_type_name</th>\n",
       "      <th>location_id</th>\n",
       "      <th>age_gr_id</th>\n",
       "      <th>tr_gr_id</th>\n",
       "      <th>lt_gr_id</th>\n",
       "      <th>nps_score</th>\n",
       "    </tr>\n",
       "  </thead>\n",
       "  <tbody>\n",
       "    <tr>\n",
       "      <th>0</th>\n",
       "      <td>A001A2</td>\n",
       "      <td>2320</td>\n",
       "      <td>45.0</td>\n",
       "      <td>1.0</td>\n",
       "      <td>ANDROID</td>\n",
       "      <td>SMARTPHONE</td>\n",
       "      <td>55</td>\n",
       "      <td>5</td>\n",
       "      <td>5</td>\n",
       "      <td>8</td>\n",
       "      <td>10</td>\n",
       "    </tr>\n",
       "    <tr>\n",
       "      <th>1</th>\n",
       "      <td>A001WF</td>\n",
       "      <td>2344</td>\n",
       "      <td>53.0</td>\n",
       "      <td>0.0</td>\n",
       "      <td>ANDROID</td>\n",
       "      <td>SMARTPHONE</td>\n",
       "      <td>21</td>\n",
       "      <td>5</td>\n",
       "      <td>5</td>\n",
       "      <td>8</td>\n",
       "      <td>10</td>\n",
       "    </tr>\n",
       "    <tr>\n",
       "      <th>2</th>\n",
       "      <td>A003Q7</td>\n",
       "      <td>467</td>\n",
       "      <td>57.0</td>\n",
       "      <td>0.0</td>\n",
       "      <td>ANDROID</td>\n",
       "      <td>SMARTPHONE</td>\n",
       "      <td>28</td>\n",
       "      <td>6</td>\n",
       "      <td>9</td>\n",
       "      <td>6</td>\n",
       "      <td>10</td>\n",
       "    </tr>\n",
       "    <tr>\n",
       "      <th>3</th>\n",
       "      <td>A004TB</td>\n",
       "      <td>4190</td>\n",
       "      <td>44.0</td>\n",
       "      <td>1.0</td>\n",
       "      <td>IOS</td>\n",
       "      <td>SMARTPHONE</td>\n",
       "      <td>38</td>\n",
       "      <td>4</td>\n",
       "      <td>4</td>\n",
       "      <td>8</td>\n",
       "      <td>10</td>\n",
       "    </tr>\n",
       "    <tr>\n",
       "      <th>4</th>\n",
       "      <td>A004XT</td>\n",
       "      <td>1163</td>\n",
       "      <td>24.0</td>\n",
       "      <td>0.0</td>\n",
       "      <td>ANDROID</td>\n",
       "      <td>SMARTPHONE</td>\n",
       "      <td>39</td>\n",
       "      <td>2</td>\n",
       "      <td>6</td>\n",
       "      <td>8</td>\n",
       "      <td>10</td>\n",
       "    </tr>\n",
       "    <tr>\n",
       "      <th>5</th>\n",
       "      <td>A005O0</td>\n",
       "      <td>5501</td>\n",
       "      <td>42.0</td>\n",
       "      <td>1.0</td>\n",
       "      <td>ANDROID</td>\n",
       "      <td>SMARTPHONE</td>\n",
       "      <td>34</td>\n",
       "      <td>4</td>\n",
       "      <td>6</td>\n",
       "      <td>8</td>\n",
       "      <td>6</td>\n",
       "    </tr>\n",
       "    <tr>\n",
       "      <th>6</th>\n",
       "      <td>A0061R</td>\n",
       "      <td>1236</td>\n",
       "      <td>45.0</td>\n",
       "      <td>0.0</td>\n",
       "      <td>ANDROID</td>\n",
       "      <td>SMARTPHONE</td>\n",
       "      <td>55</td>\n",
       "      <td>5</td>\n",
       "      <td>7</td>\n",
       "      <td>8</td>\n",
       "      <td>10</td>\n",
       "    </tr>\n",
       "    <tr>\n",
       "      <th>7</th>\n",
       "      <td>A009KS</td>\n",
       "      <td>313</td>\n",
       "      <td>35.0</td>\n",
       "      <td>0.0</td>\n",
       "      <td>ANDROID</td>\n",
       "      <td>SMARTPHONE</td>\n",
       "      <td>28</td>\n",
       "      <td>4</td>\n",
       "      <td>14</td>\n",
       "      <td>5</td>\n",
       "      <td>10</td>\n",
       "    </tr>\n",
       "    <tr>\n",
       "      <th>8</th>\n",
       "      <td>A00AES</td>\n",
       "      <td>3238</td>\n",
       "      <td>36.0</td>\n",
       "      <td>1.0</td>\n",
       "      <td>ANDROID</td>\n",
       "      <td>SMARTPHONE</td>\n",
       "      <td>41</td>\n",
       "      <td>4</td>\n",
       "      <td>5</td>\n",
       "      <td>8</td>\n",
       "      <td>10</td>\n",
       "    </tr>\n",
       "    <tr>\n",
       "      <th>9</th>\n",
       "      <td>A00F70</td>\n",
       "      <td>4479</td>\n",
       "      <td>54.0</td>\n",
       "      <td>1.0</td>\n",
       "      <td>ANDROID</td>\n",
       "      <td>SMARTPHONE</td>\n",
       "      <td>9</td>\n",
       "      <td>5</td>\n",
       "      <td>8</td>\n",
       "      <td>8</td>\n",
       "      <td>9</td>\n",
       "    </tr>\n",
       "    <tr>\n",
       "      <th>10</th>\n",
       "      <td>A00HL5</td>\n",
       "      <td>5297</td>\n",
       "      <td>39.0</td>\n",
       "      <td>0.0</td>\n",
       "      <td>ANDROID</td>\n",
       "      <td>SMARTPHONE</td>\n",
       "      <td>49</td>\n",
       "      <td>4</td>\n",
       "      <td>10</td>\n",
       "      <td>8</td>\n",
       "      <td>10</td>\n",
       "    </tr>\n",
       "    <tr>\n",
       "      <th>11</th>\n",
       "      <td>A00NDN</td>\n",
       "      <td>1374</td>\n",
       "      <td>21.0</td>\n",
       "      <td>0.0</td>\n",
       "      <td>ANDROID</td>\n",
       "      <td>SMARTPHONE</td>\n",
       "      <td>39</td>\n",
       "      <td>2</td>\n",
       "      <td>7</td>\n",
       "      <td>8</td>\n",
       "      <td>2</td>\n",
       "    </tr>\n",
       "    <tr>\n",
       "      <th>12</th>\n",
       "      <td>A00P46</td>\n",
       "      <td>179</td>\n",
       "      <td>27.0</td>\n",
       "      <td>0.0</td>\n",
       "      <td>ANDROID</td>\n",
       "      <td>SMARTPHONE</td>\n",
       "      <td>17</td>\n",
       "      <td>3</td>\n",
       "      <td>14</td>\n",
       "      <td>4</td>\n",
       "      <td>10</td>\n",
       "    </tr>\n",
       "    <tr>\n",
       "      <th>13</th>\n",
       "      <td>A00SA7</td>\n",
       "      <td>667</td>\n",
       "      <td>60.0</td>\n",
       "      <td>0.0</td>\n",
       "      <td>ANDROID</td>\n",
       "      <td>TABLET</td>\n",
       "      <td>17</td>\n",
       "      <td>6</td>\n",
       "      <td>6</td>\n",
       "      <td>6</td>\n",
       "      <td>5</td>\n",
       "    </tr>\n",
       "    <tr>\n",
       "      <th>14</th>\n",
       "      <td>A00U8A</td>\n",
       "      <td>2908</td>\n",
       "      <td>44.0</td>\n",
       "      <td>1.0</td>\n",
       "      <td>ANDROID</td>\n",
       "      <td>SMARTPHONE</td>\n",
       "      <td>41</td>\n",
       "      <td>4</td>\n",
       "      <td>6</td>\n",
       "      <td>8</td>\n",
       "      <td>10</td>\n",
       "    </tr>\n",
       "    <tr>\n",
       "      <th>15</th>\n",
       "      <td>A0116Q</td>\n",
       "      <td>2517</td>\n",
       "      <td>34.0</td>\n",
       "      <td>0.0</td>\n",
       "      <td>ANDROID</td>\n",
       "      <td>SMARTPHONE</td>\n",
       "      <td>40</td>\n",
       "      <td>3</td>\n",
       "      <td>8</td>\n",
       "      <td>8</td>\n",
       "      <td>10</td>\n",
       "    </tr>\n",
       "    <tr>\n",
       "      <th>16</th>\n",
       "      <td>A015CX</td>\n",
       "      <td>4073</td>\n",
       "      <td>47.0</td>\n",
       "      <td>0.0</td>\n",
       "      <td>ANDROID</td>\n",
       "      <td>SMARTPHONE</td>\n",
       "      <td>40</td>\n",
       "      <td>5</td>\n",
       "      <td>13</td>\n",
       "      <td>8</td>\n",
       "      <td>9</td>\n",
       "    </tr>\n",
       "    <tr>\n",
       "      <th>17</th>\n",
       "      <td>A017L3</td>\n",
       "      <td>372</td>\n",
       "      <td>37.0</td>\n",
       "      <td>0.0</td>\n",
       "      <td>IOS</td>\n",
       "      <td>SMARTPHONE</td>\n",
       "      <td>23</td>\n",
       "      <td>4</td>\n",
       "      <td>6</td>\n",
       "      <td>6</td>\n",
       "      <td>10</td>\n",
       "    </tr>\n",
       "    <tr>\n",
       "      <th>18</th>\n",
       "      <td>A017QF</td>\n",
       "      <td>6155</td>\n",
       "      <td>42.0</td>\n",
       "      <td>1.0</td>\n",
       "      <td>ANDROID</td>\n",
       "      <td>SMARTPHONE</td>\n",
       "      <td>13</td>\n",
       "      <td>4</td>\n",
       "      <td>6</td>\n",
       "      <td>8</td>\n",
       "      <td>8</td>\n",
       "    </tr>\n",
       "    <tr>\n",
       "      <th>19</th>\n",
       "      <td>A018WZ</td>\n",
       "      <td>709</td>\n",
       "      <td>43.0</td>\n",
       "      <td>0.0</td>\n",
       "      <td>ANDROID</td>\n",
       "      <td>SMARTPHONE</td>\n",
       "      <td>19</td>\n",
       "      <td>4</td>\n",
       "      <td>9</td>\n",
       "      <td>6</td>\n",
       "      <td>10</td>\n",
       "    </tr>\n",
       "  </tbody>\n",
       "</table>\n",
       "</div>"
      ],
      "text/plain": [
       "   user_id  lt_day   age  gender_segment  os_name cpe_type_name  location_id  \\\n",
       "0   A001A2    2320  45.0             1.0  ANDROID    SMARTPHONE           55   \n",
       "1   A001WF    2344  53.0             0.0  ANDROID    SMARTPHONE           21   \n",
       "2   A003Q7     467  57.0             0.0  ANDROID    SMARTPHONE           28   \n",
       "3   A004TB    4190  44.0             1.0      IOS    SMARTPHONE           38   \n",
       "4   A004XT    1163  24.0             0.0  ANDROID    SMARTPHONE           39   \n",
       "5   A005O0    5501  42.0             1.0  ANDROID    SMARTPHONE           34   \n",
       "6   A0061R    1236  45.0             0.0  ANDROID    SMARTPHONE           55   \n",
       "7   A009KS     313  35.0             0.0  ANDROID    SMARTPHONE           28   \n",
       "8   A00AES    3238  36.0             1.0  ANDROID    SMARTPHONE           41   \n",
       "9   A00F70    4479  54.0             1.0  ANDROID    SMARTPHONE            9   \n",
       "10  A00HL5    5297  39.0             0.0  ANDROID    SMARTPHONE           49   \n",
       "11  A00NDN    1374  21.0             0.0  ANDROID    SMARTPHONE           39   \n",
       "12  A00P46     179  27.0             0.0  ANDROID    SMARTPHONE           17   \n",
       "13  A00SA7     667  60.0             0.0  ANDROID        TABLET           17   \n",
       "14  A00U8A    2908  44.0             1.0  ANDROID    SMARTPHONE           41   \n",
       "15  A0116Q    2517  34.0             0.0  ANDROID    SMARTPHONE           40   \n",
       "16  A015CX    4073  47.0             0.0  ANDROID    SMARTPHONE           40   \n",
       "17  A017L3     372  37.0             0.0      IOS    SMARTPHONE           23   \n",
       "18  A017QF    6155  42.0             1.0  ANDROID    SMARTPHONE           13   \n",
       "19  A018WZ     709  43.0             0.0  ANDROID    SMARTPHONE           19   \n",
       "\n",
       "    age_gr_id  tr_gr_id  lt_gr_id  nps_score  \n",
       "0           5         5         8         10  \n",
       "1           5         5         8         10  \n",
       "2           6         9         6         10  \n",
       "3           4         4         8         10  \n",
       "4           2         6         8         10  \n",
       "5           4         6         8          6  \n",
       "6           5         7         8         10  \n",
       "7           4        14         5         10  \n",
       "8           4         5         8         10  \n",
       "9           5         8         8          9  \n",
       "10          4        10         8         10  \n",
       "11          2         7         8          2  \n",
       "12          3        14         4         10  \n",
       "13          6         6         6          5  \n",
       "14          4         6         8         10  \n",
       "15          3         8         8         10  \n",
       "16          5        13         8          9  \n",
       "17          4         6         6         10  \n",
       "18          4         6         8          8  \n",
       "19          4         9         6         10  "
      ]
     },
     "execution_count": 4,
     "metadata": {},
     "output_type": "execute_result"
    }
   ],
   "source": [
    "user = pd.read_sql(query, engine)\n",
    "user"
   ]
  },
  {
   "cell_type": "code",
   "execution_count": 5,
   "id": "876e43f6",
   "metadata": {},
   "outputs": [],
   "source": [
    "query = \"\"\"\n",
    "SELECT * \n",
    "FROM location\n",
    "LIMIT 20;\n",
    "\"\"\""
   ]
  },
  {
   "cell_type": "code",
   "execution_count": 6,
   "id": "0b64c6b9",
   "metadata": {},
   "outputs": [
    {
     "data": {
      "text/html": [
       "<div>\n",
       "<style scoped>\n",
       "    .dataframe tbody tr th:only-of-type {\n",
       "        vertical-align: middle;\n",
       "    }\n",
       "\n",
       "    .dataframe tbody tr th {\n",
       "        vertical-align: top;\n",
       "    }\n",
       "\n",
       "    .dataframe thead th {\n",
       "        text-align: right;\n",
       "    }\n",
       "</style>\n",
       "<table border=\"1\" class=\"dataframe\">\n",
       "  <thead>\n",
       "    <tr style=\"text-align: right;\">\n",
       "      <th></th>\n",
       "      <th>location_id</th>\n",
       "      <th>city</th>\n",
       "      <th>country</th>\n",
       "    </tr>\n",
       "  </thead>\n",
       "  <tbody>\n",
       "    <tr>\n",
       "      <th>0</th>\n",
       "      <td>1</td>\n",
       "      <td>Архангельск</td>\n",
       "      <td>Россия</td>\n",
       "    </tr>\n",
       "    <tr>\n",
       "      <th>1</th>\n",
       "      <td>2</td>\n",
       "      <td>Астрахань</td>\n",
       "      <td>Россия</td>\n",
       "    </tr>\n",
       "    <tr>\n",
       "      <th>2</th>\n",
       "      <td>3</td>\n",
       "      <td>Балашиха</td>\n",
       "      <td>Россия</td>\n",
       "    </tr>\n",
       "    <tr>\n",
       "      <th>3</th>\n",
       "      <td>4</td>\n",
       "      <td>Барнаул</td>\n",
       "      <td>Россия</td>\n",
       "    </tr>\n",
       "    <tr>\n",
       "      <th>4</th>\n",
       "      <td>5</td>\n",
       "      <td>Белгород</td>\n",
       "      <td>Россия</td>\n",
       "    </tr>\n",
       "    <tr>\n",
       "      <th>5</th>\n",
       "      <td>6</td>\n",
       "      <td>Брянск</td>\n",
       "      <td>Россия</td>\n",
       "    </tr>\n",
       "    <tr>\n",
       "      <th>6</th>\n",
       "      <td>7</td>\n",
       "      <td>Владивосток</td>\n",
       "      <td>Россия</td>\n",
       "    </tr>\n",
       "    <tr>\n",
       "      <th>7</th>\n",
       "      <td>8</td>\n",
       "      <td>Владимир</td>\n",
       "      <td>Россия</td>\n",
       "    </tr>\n",
       "    <tr>\n",
       "      <th>8</th>\n",
       "      <td>9</td>\n",
       "      <td>Волгоград</td>\n",
       "      <td>Россия</td>\n",
       "    </tr>\n",
       "    <tr>\n",
       "      <th>9</th>\n",
       "      <td>10</td>\n",
       "      <td>Волжский</td>\n",
       "      <td>Россия</td>\n",
       "    </tr>\n",
       "    <tr>\n",
       "      <th>10</th>\n",
       "      <td>11</td>\n",
       "      <td>Воронеж</td>\n",
       "      <td>Россия</td>\n",
       "    </tr>\n",
       "    <tr>\n",
       "      <th>11</th>\n",
       "      <td>12</td>\n",
       "      <td>Грозный</td>\n",
       "      <td>Россия</td>\n",
       "    </tr>\n",
       "    <tr>\n",
       "      <th>12</th>\n",
       "      <td>13</td>\n",
       "      <td>Екатеринбург</td>\n",
       "      <td>Россия</td>\n",
       "    </tr>\n",
       "    <tr>\n",
       "      <th>13</th>\n",
       "      <td>14</td>\n",
       "      <td>Иваново</td>\n",
       "      <td>Россия</td>\n",
       "    </tr>\n",
       "    <tr>\n",
       "      <th>14</th>\n",
       "      <td>15</td>\n",
       "      <td>Ижевск</td>\n",
       "      <td>Россия</td>\n",
       "    </tr>\n",
       "    <tr>\n",
       "      <th>15</th>\n",
       "      <td>16</td>\n",
       "      <td>Иркутск</td>\n",
       "      <td>Россия</td>\n",
       "    </tr>\n",
       "    <tr>\n",
       "      <th>16</th>\n",
       "      <td>17</td>\n",
       "      <td>Казань</td>\n",
       "      <td>Россия</td>\n",
       "    </tr>\n",
       "    <tr>\n",
       "      <th>17</th>\n",
       "      <td>18</td>\n",
       "      <td>Калининград</td>\n",
       "      <td>Россия</td>\n",
       "    </tr>\n",
       "    <tr>\n",
       "      <th>18</th>\n",
       "      <td>19</td>\n",
       "      <td>Калуга</td>\n",
       "      <td>Россия</td>\n",
       "    </tr>\n",
       "    <tr>\n",
       "      <th>19</th>\n",
       "      <td>20</td>\n",
       "      <td>Кемерово</td>\n",
       "      <td>Россия</td>\n",
       "    </tr>\n",
       "  </tbody>\n",
       "</table>\n",
       "</div>"
      ],
      "text/plain": [
       "    location_id          city country\n",
       "0             1   Архангельск  Россия\n",
       "1             2     Астрахань  Россия\n",
       "2             3      Балашиха  Россия\n",
       "3             4       Барнаул  Россия\n",
       "4             5      Белгород  Россия\n",
       "5             6        Брянск  Россия\n",
       "6             7   Владивосток  Россия\n",
       "7             8      Владимир  Россия\n",
       "8             9     Волгоград  Россия\n",
       "9            10      Волжский  Россия\n",
       "10           11       Воронеж  Россия\n",
       "11           12       Грозный  Россия\n",
       "12           13  Екатеринбург  Россия\n",
       "13           14       Иваново  Россия\n",
       "14           15        Ижевск  Россия\n",
       "15           16       Иркутск  Россия\n",
       "16           17        Казань  Россия\n",
       "17           18   Калининград  Россия\n",
       "18           19        Калуга  Россия\n",
       "19           20      Кемерово  Россия"
      ]
     },
     "execution_count": 6,
     "metadata": {},
     "output_type": "execute_result"
    }
   ],
   "source": [
    "location = pd.read_sql(query, engine)\n",
    "location"
   ]
  },
  {
   "cell_type": "code",
   "execution_count": 7,
   "id": "2a57e7d4",
   "metadata": {},
   "outputs": [],
   "source": [
    "query = \"\"\"\n",
    "SELECT * \n",
    "FROM age_segment\n",
    "LIMIT 20;\n",
    "\"\"\""
   ]
  },
  {
   "cell_type": "code",
   "execution_count": 8,
   "id": "04a89037",
   "metadata": {},
   "outputs": [
    {
     "data": {
      "text/html": [
       "<div>\n",
       "<style scoped>\n",
       "    .dataframe tbody tr th:only-of-type {\n",
       "        vertical-align: middle;\n",
       "    }\n",
       "\n",
       "    .dataframe tbody tr th {\n",
       "        vertical-align: top;\n",
       "    }\n",
       "\n",
       "    .dataframe thead th {\n",
       "        text-align: right;\n",
       "    }\n",
       "</style>\n",
       "<table border=\"1\" class=\"dataframe\">\n",
       "  <thead>\n",
       "    <tr style=\"text-align: right;\">\n",
       "      <th></th>\n",
       "      <th>age_gr_id</th>\n",
       "      <th>bucket_min</th>\n",
       "      <th>bucket_max</th>\n",
       "      <th>title</th>\n",
       "    </tr>\n",
       "  </thead>\n",
       "  <tbody>\n",
       "    <tr>\n",
       "      <th>0</th>\n",
       "      <td>1</td>\n",
       "      <td>NaN</td>\n",
       "      <td>15.0</td>\n",
       "      <td>01 до 16</td>\n",
       "    </tr>\n",
       "    <tr>\n",
       "      <th>1</th>\n",
       "      <td>2</td>\n",
       "      <td>16.0</td>\n",
       "      <td>24.0</td>\n",
       "      <td>02 16-24</td>\n",
       "    </tr>\n",
       "    <tr>\n",
       "      <th>2</th>\n",
       "      <td>3</td>\n",
       "      <td>25.0</td>\n",
       "      <td>34.0</td>\n",
       "      <td>03 25-34</td>\n",
       "    </tr>\n",
       "    <tr>\n",
       "      <th>3</th>\n",
       "      <td>4</td>\n",
       "      <td>35.0</td>\n",
       "      <td>44.0</td>\n",
       "      <td>04 35-44</td>\n",
       "    </tr>\n",
       "    <tr>\n",
       "      <th>4</th>\n",
       "      <td>5</td>\n",
       "      <td>45.0</td>\n",
       "      <td>54.0</td>\n",
       "      <td>05 45-54</td>\n",
       "    </tr>\n",
       "    <tr>\n",
       "      <th>5</th>\n",
       "      <td>6</td>\n",
       "      <td>55.0</td>\n",
       "      <td>64.0</td>\n",
       "      <td>06 55-64</td>\n",
       "    </tr>\n",
       "    <tr>\n",
       "      <th>6</th>\n",
       "      <td>7</td>\n",
       "      <td>66.0</td>\n",
       "      <td>NaN</td>\n",
       "      <td>07 66 +</td>\n",
       "    </tr>\n",
       "    <tr>\n",
       "      <th>7</th>\n",
       "      <td>8</td>\n",
       "      <td>NaN</td>\n",
       "      <td>NaN</td>\n",
       "      <td>08 n/a</td>\n",
       "    </tr>\n",
       "  </tbody>\n",
       "</table>\n",
       "</div>"
      ],
      "text/plain": [
       "   age_gr_id  bucket_min  bucket_max     title\n",
       "0          1         NaN        15.0  01 до 16\n",
       "1          2        16.0        24.0  02 16-24\n",
       "2          3        25.0        34.0  03 25-34\n",
       "3          4        35.0        44.0  04 35-44\n",
       "4          5        45.0        54.0  05 45-54\n",
       "5          6        55.0        64.0  06 55-64\n",
       "6          7        66.0         NaN   07 66 +\n",
       "7          8         NaN         NaN    08 n/a"
      ]
     },
     "execution_count": 8,
     "metadata": {},
     "output_type": "execute_result"
    }
   ],
   "source": [
    "age_segment = pd.read_sql(query, engine)\n",
    "age_segment"
   ]
  },
  {
   "cell_type": "markdown",
   "id": "00de1a9c",
   "metadata": {},
   "source": [
    "Категория `8` говорит нам о том, что в таблце есть пропуски"
   ]
  },
  {
   "cell_type": "code",
   "execution_count": 9,
   "id": "2cd76acb",
   "metadata": {},
   "outputs": [],
   "source": [
    "query = \"\"\"\n",
    "SELECT * \n",
    "FROM traffic_segment\n",
    "LIMIT 20;\n",
    "\"\"\""
   ]
  },
  {
   "cell_type": "code",
   "execution_count": 10,
   "id": "ae89d88a",
   "metadata": {},
   "outputs": [
    {
     "data": {
      "text/html": [
       "<div>\n",
       "<style scoped>\n",
       "    .dataframe tbody tr th:only-of-type {\n",
       "        vertical-align: middle;\n",
       "    }\n",
       "\n",
       "    .dataframe tbody tr th {\n",
       "        vertical-align: top;\n",
       "    }\n",
       "\n",
       "    .dataframe thead th {\n",
       "        text-align: right;\n",
       "    }\n",
       "</style>\n",
       "<table border=\"1\" class=\"dataframe\">\n",
       "  <thead>\n",
       "    <tr style=\"text-align: right;\">\n",
       "      <th></th>\n",
       "      <th>tr_gr_id</th>\n",
       "      <th>bucket_min</th>\n",
       "      <th>bucket_max</th>\n",
       "      <th>title</th>\n",
       "    </tr>\n",
       "  </thead>\n",
       "  <tbody>\n",
       "    <tr>\n",
       "      <th>0</th>\n",
       "      <td>1</td>\n",
       "      <td>0.00</td>\n",
       "      <td>0.00</td>\n",
       "      <td>01 0</td>\n",
       "    </tr>\n",
       "    <tr>\n",
       "      <th>1</th>\n",
       "      <td>2</td>\n",
       "      <td>0.00</td>\n",
       "      <td>0.01</td>\n",
       "      <td>01 0-0.01</td>\n",
       "    </tr>\n",
       "    <tr>\n",
       "      <th>2</th>\n",
       "      <td>3</td>\n",
       "      <td>0.01</td>\n",
       "      <td>0.10</td>\n",
       "      <td>02 0.01-0.1</td>\n",
       "    </tr>\n",
       "    <tr>\n",
       "      <th>3</th>\n",
       "      <td>4</td>\n",
       "      <td>0.10</td>\n",
       "      <td>1.00</td>\n",
       "      <td>03 0.1-1</td>\n",
       "    </tr>\n",
       "    <tr>\n",
       "      <th>4</th>\n",
       "      <td>5</td>\n",
       "      <td>1.00</td>\n",
       "      <td>5.00</td>\n",
       "      <td>04 1-5</td>\n",
       "    </tr>\n",
       "    <tr>\n",
       "      <th>5</th>\n",
       "      <td>6</td>\n",
       "      <td>5.00</td>\n",
       "      <td>10.00</td>\n",
       "      <td>05 5-10</td>\n",
       "    </tr>\n",
       "    <tr>\n",
       "      <th>6</th>\n",
       "      <td>7</td>\n",
       "      <td>10.00</td>\n",
       "      <td>15.00</td>\n",
       "      <td>06 10-15</td>\n",
       "    </tr>\n",
       "    <tr>\n",
       "      <th>7</th>\n",
       "      <td>8</td>\n",
       "      <td>15.00</td>\n",
       "      <td>20.00</td>\n",
       "      <td>07 15-20</td>\n",
       "    </tr>\n",
       "    <tr>\n",
       "      <th>8</th>\n",
       "      <td>9</td>\n",
       "      <td>20.00</td>\n",
       "      <td>25.00</td>\n",
       "      <td>08 20-25</td>\n",
       "    </tr>\n",
       "    <tr>\n",
       "      <th>9</th>\n",
       "      <td>10</td>\n",
       "      <td>25.00</td>\n",
       "      <td>30.00</td>\n",
       "      <td>09 25-30</td>\n",
       "    </tr>\n",
       "    <tr>\n",
       "      <th>10</th>\n",
       "      <td>11</td>\n",
       "      <td>30.00</td>\n",
       "      <td>35.00</td>\n",
       "      <td>10 30-35</td>\n",
       "    </tr>\n",
       "    <tr>\n",
       "      <th>11</th>\n",
       "      <td>12</td>\n",
       "      <td>35.00</td>\n",
       "      <td>40.00</td>\n",
       "      <td>11 35-40</td>\n",
       "    </tr>\n",
       "    <tr>\n",
       "      <th>12</th>\n",
       "      <td>13</td>\n",
       "      <td>40.00</td>\n",
       "      <td>45.00</td>\n",
       "      <td>12 40-45</td>\n",
       "    </tr>\n",
       "    <tr>\n",
       "      <th>13</th>\n",
       "      <td>14</td>\n",
       "      <td>45.00</td>\n",
       "      <td>50.00</td>\n",
       "      <td>13 45-50</td>\n",
       "    </tr>\n",
       "    <tr>\n",
       "      <th>14</th>\n",
       "      <td>15</td>\n",
       "      <td>50.00</td>\n",
       "      <td>55.00</td>\n",
       "      <td>14 50-55</td>\n",
       "    </tr>\n",
       "    <tr>\n",
       "      <th>15</th>\n",
       "      <td>16</td>\n",
       "      <td>55.00</td>\n",
       "      <td>60.00</td>\n",
       "      <td>15 55-60</td>\n",
       "    </tr>\n",
       "    <tr>\n",
       "      <th>16</th>\n",
       "      <td>17</td>\n",
       "      <td>60.00</td>\n",
       "      <td>65.00</td>\n",
       "      <td>16 60-65</td>\n",
       "    </tr>\n",
       "    <tr>\n",
       "      <th>17</th>\n",
       "      <td>18</td>\n",
       "      <td>65.00</td>\n",
       "      <td>70.00</td>\n",
       "      <td>17 65-70</td>\n",
       "    </tr>\n",
       "    <tr>\n",
       "      <th>18</th>\n",
       "      <td>19</td>\n",
       "      <td>70.00</td>\n",
       "      <td>75.00</td>\n",
       "      <td>18 70-75</td>\n",
       "    </tr>\n",
       "    <tr>\n",
       "      <th>19</th>\n",
       "      <td>20</td>\n",
       "      <td>75.00</td>\n",
       "      <td>80.00</td>\n",
       "      <td>19 75-80</td>\n",
       "    </tr>\n",
       "  </tbody>\n",
       "</table>\n",
       "</div>"
      ],
      "text/plain": [
       "    tr_gr_id  bucket_min  bucket_max        title\n",
       "0          1        0.00        0.00         01 0\n",
       "1          2        0.00        0.01    01 0-0.01\n",
       "2          3        0.01        0.10  02 0.01-0.1\n",
       "3          4        0.10        1.00     03 0.1-1\n",
       "4          5        1.00        5.00       04 1-5\n",
       "5          6        5.00       10.00      05 5-10\n",
       "6          7       10.00       15.00     06 10-15\n",
       "7          8       15.00       20.00     07 15-20\n",
       "8          9       20.00       25.00     08 20-25\n",
       "9         10       25.00       30.00     09 25-30\n",
       "10        11       30.00       35.00     10 30-35\n",
       "11        12       35.00       40.00     11 35-40\n",
       "12        13       40.00       45.00     12 40-45\n",
       "13        14       45.00       50.00     13 45-50\n",
       "14        15       50.00       55.00     14 50-55\n",
       "15        16       55.00       60.00     15 55-60\n",
       "16        17       60.00       65.00     16 60-65\n",
       "17        18       65.00       70.00     17 65-70\n",
       "18        19       70.00       75.00     18 70-75\n",
       "19        20       75.00       80.00     19 75-80"
      ]
     },
     "execution_count": 10,
     "metadata": {},
     "output_type": "execute_result"
    }
   ],
   "source": [
    "traffic_segment = pd.read_sql(query, engine)\n",
    "traffic_segment"
   ]
  },
  {
   "cell_type": "code",
   "execution_count": 11,
   "id": "9027a0d6",
   "metadata": {},
   "outputs": [],
   "source": [
    "query = \"\"\"\n",
    "SELECT * \n",
    "FROM lifetime_segment\n",
    "LIMIT 20;\n",
    "\"\"\""
   ]
  },
  {
   "cell_type": "code",
   "execution_count": 12,
   "id": "8689456b",
   "metadata": {
    "scrolled": true
   },
   "outputs": [
    {
     "data": {
      "text/html": [
       "<div>\n",
       "<style scoped>\n",
       "    .dataframe tbody tr th:only-of-type {\n",
       "        vertical-align: middle;\n",
       "    }\n",
       "\n",
       "    .dataframe tbody tr th {\n",
       "        vertical-align: top;\n",
       "    }\n",
       "\n",
       "    .dataframe thead th {\n",
       "        text-align: right;\n",
       "    }\n",
       "</style>\n",
       "<table border=\"1\" class=\"dataframe\">\n",
       "  <thead>\n",
       "    <tr style=\"text-align: right;\">\n",
       "      <th></th>\n",
       "      <th>lt_gr_id</th>\n",
       "      <th>bucket_min</th>\n",
       "      <th>bucket_max</th>\n",
       "      <th>title</th>\n",
       "    </tr>\n",
       "  </thead>\n",
       "  <tbody>\n",
       "    <tr>\n",
       "      <th>0</th>\n",
       "      <td>1</td>\n",
       "      <td>1.0</td>\n",
       "      <td>1.0</td>\n",
       "      <td>01 1</td>\n",
       "    </tr>\n",
       "    <tr>\n",
       "      <th>1</th>\n",
       "      <td>2</td>\n",
       "      <td>2.0</td>\n",
       "      <td>2.0</td>\n",
       "      <td>02 2</td>\n",
       "    </tr>\n",
       "    <tr>\n",
       "      <th>2</th>\n",
       "      <td>3</td>\n",
       "      <td>3.0</td>\n",
       "      <td>3.0</td>\n",
       "      <td>03 3</td>\n",
       "    </tr>\n",
       "    <tr>\n",
       "      <th>3</th>\n",
       "      <td>4</td>\n",
       "      <td>4.0</td>\n",
       "      <td>6.0</td>\n",
       "      <td>04 4-6</td>\n",
       "    </tr>\n",
       "    <tr>\n",
       "      <th>4</th>\n",
       "      <td>5</td>\n",
       "      <td>7.0</td>\n",
       "      <td>12.0</td>\n",
       "      <td>05 7-12</td>\n",
       "    </tr>\n",
       "    <tr>\n",
       "      <th>5</th>\n",
       "      <td>6</td>\n",
       "      <td>13.0</td>\n",
       "      <td>24.0</td>\n",
       "      <td>06 13-24</td>\n",
       "    </tr>\n",
       "    <tr>\n",
       "      <th>6</th>\n",
       "      <td>7</td>\n",
       "      <td>25.0</td>\n",
       "      <td>36.0</td>\n",
       "      <td>07 25-36</td>\n",
       "    </tr>\n",
       "    <tr>\n",
       "      <th>7</th>\n",
       "      <td>8</td>\n",
       "      <td>36.0</td>\n",
       "      <td>NaN</td>\n",
       "      <td>08 36+</td>\n",
       "    </tr>\n",
       "  </tbody>\n",
       "</table>\n",
       "</div>"
      ],
      "text/plain": [
       "   lt_gr_id  bucket_min  bucket_max     title\n",
       "0         1         1.0         1.0      01 1\n",
       "1         2         2.0         2.0      02 2\n",
       "2         3         3.0         3.0      03 3\n",
       "3         4         4.0         6.0    04 4-6\n",
       "4         5         7.0        12.0   05 7-12\n",
       "5         6        13.0        24.0  06 13-24\n",
       "6         7        25.0        36.0  07 25-36\n",
       "7         8        36.0         NaN    08 36+"
      ]
     },
     "execution_count": 12,
     "metadata": {},
     "output_type": "execute_result"
    }
   ],
   "source": [
    "lifetime_segment = pd.read_sql(query, engine)\n",
    "lifetime_segment"
   ]
  },
  {
   "cell_type": "markdown",
   "id": "5cd5e1ec",
   "metadata": {},
   "source": [
    "Проверим таблицу user на наличие пропусков:"
   ]
  },
  {
   "cell_type": "code",
   "execution_count": 13,
   "id": "f19ace8f",
   "metadata": {},
   "outputs": [],
   "source": [
    "query = \"\"\"\n",
    "SELECT * \n",
    "FROM user\n",
    "WHERE user_id IS NULL OR\n",
    "      lt_day IS NULL OR\n",
    "      age IS NULL OR\n",
    "      gender_segment IS NULL OR\n",
    "      os_name IS NULL OR\n",
    "      cpe_type_name IS NULL OR\n",
    "      location_id IS NULL OR\n",
    "      age_gr_id IS NULL OR\n",
    "      tr_gr_id IS NULL OR\n",
    "      lt_gr_id IS NULL OR\n",
    "      nps_score IS NULL\n",
    "LIMIT 20;\n",
    "\"\"\""
   ]
  },
  {
   "cell_type": "code",
   "execution_count": 14,
   "id": "07d3d2cf",
   "metadata": {
    "scrolled": false
   },
   "outputs": [
    {
     "data": {
      "text/html": [
       "<div>\n",
       "<style scoped>\n",
       "    .dataframe tbody tr th:only-of-type {\n",
       "        vertical-align: middle;\n",
       "    }\n",
       "\n",
       "    .dataframe tbody tr th {\n",
       "        vertical-align: top;\n",
       "    }\n",
       "\n",
       "    .dataframe thead th {\n",
       "        text-align: right;\n",
       "    }\n",
       "</style>\n",
       "<table border=\"1\" class=\"dataframe\">\n",
       "  <thead>\n",
       "    <tr style=\"text-align: right;\">\n",
       "      <th></th>\n",
       "      <th>user_id</th>\n",
       "      <th>lt_day</th>\n",
       "      <th>age</th>\n",
       "      <th>gender_segment</th>\n",
       "      <th>os_name</th>\n",
       "      <th>cpe_type_name</th>\n",
       "      <th>location_id</th>\n",
       "      <th>age_gr_id</th>\n",
       "      <th>tr_gr_id</th>\n",
       "      <th>lt_gr_id</th>\n",
       "      <th>nps_score</th>\n",
       "    </tr>\n",
       "  </thead>\n",
       "  <tbody>\n",
       "    <tr>\n",
       "      <th>0</th>\n",
       "      <td>A1E59W</td>\n",
       "      <td>4055</td>\n",
       "      <td>NaN</td>\n",
       "      <td>None</td>\n",
       "      <td>ANDROID</td>\n",
       "      <td>SMARTPHONE</td>\n",
       "      <td>13</td>\n",
       "      <td>8</td>\n",
       "      <td>5</td>\n",
       "      <td>8</td>\n",
       "      <td>1</td>\n",
       "    </tr>\n",
       "    <tr>\n",
       "      <th>1</th>\n",
       "      <td>A1S6VL</td>\n",
       "      <td>335</td>\n",
       "      <td>40.0</td>\n",
       "      <td>None</td>\n",
       "      <td>ANDROID</td>\n",
       "      <td>TABLET</td>\n",
       "      <td>14</td>\n",
       "      <td>4</td>\n",
       "      <td>8</td>\n",
       "      <td>5</td>\n",
       "      <td>8</td>\n",
       "    </tr>\n",
       "    <tr>\n",
       "      <th>2</th>\n",
       "      <td>A28ZDT</td>\n",
       "      <td>4243</td>\n",
       "      <td>NaN</td>\n",
       "      <td>None</td>\n",
       "      <td>ANDROID</td>\n",
       "      <td>SMARTPHONE</td>\n",
       "      <td>56</td>\n",
       "      <td>8</td>\n",
       "      <td>5</td>\n",
       "      <td>8</td>\n",
       "      <td>5</td>\n",
       "    </tr>\n",
       "    <tr>\n",
       "      <th>3</th>\n",
       "      <td>A2GLPQ</td>\n",
       "      <td>2354</td>\n",
       "      <td>NaN</td>\n",
       "      <td>None</td>\n",
       "      <td>ANDROID</td>\n",
       "      <td>SMARTPHONE</td>\n",
       "      <td>16</td>\n",
       "      <td>8</td>\n",
       "      <td>7</td>\n",
       "      <td>8</td>\n",
       "      <td>1</td>\n",
       "    </tr>\n",
       "    <tr>\n",
       "      <th>4</th>\n",
       "      <td>A3XMNW</td>\n",
       "      <td>41</td>\n",
       "      <td>32.0</td>\n",
       "      <td>None</td>\n",
       "      <td>ANDROID</td>\n",
       "      <td>SMARTPHONE</td>\n",
       "      <td>41</td>\n",
       "      <td>3</td>\n",
       "      <td>4</td>\n",
       "      <td>2</td>\n",
       "      <td>1</td>\n",
       "    </tr>\n",
       "    <tr>\n",
       "      <th>5</th>\n",
       "      <td>A41C1K</td>\n",
       "      <td>557</td>\n",
       "      <td>NaN</td>\n",
       "      <td>None</td>\n",
       "      <td>ANDROID</td>\n",
       "      <td>SMARTPHONE</td>\n",
       "      <td>38</td>\n",
       "      <td>8</td>\n",
       "      <td>5</td>\n",
       "      <td>6</td>\n",
       "      <td>3</td>\n",
       "    </tr>\n",
       "    <tr>\n",
       "      <th>6</th>\n",
       "      <td>A4590P</td>\n",
       "      <td>94</td>\n",
       "      <td>27.0</td>\n",
       "      <td>None</td>\n",
       "      <td>ANDROID</td>\n",
       "      <td>SMARTPHONE</td>\n",
       "      <td>28</td>\n",
       "      <td>3</td>\n",
       "      <td>6</td>\n",
       "      <td>4</td>\n",
       "      <td>10</td>\n",
       "    </tr>\n",
       "    <tr>\n",
       "      <th>7</th>\n",
       "      <td>A48OT7</td>\n",
       "      <td>61</td>\n",
       "      <td>33.0</td>\n",
       "      <td>None</td>\n",
       "      <td>ANDROID</td>\n",
       "      <td>SMARTPHONE</td>\n",
       "      <td>28</td>\n",
       "      <td>3</td>\n",
       "      <td>12</td>\n",
       "      <td>3</td>\n",
       "      <td>9</td>\n",
       "    </tr>\n",
       "    <tr>\n",
       "      <th>8</th>\n",
       "      <td>A4T128</td>\n",
       "      <td>76</td>\n",
       "      <td>38.0</td>\n",
       "      <td>None</td>\n",
       "      <td>ANDROID</td>\n",
       "      <td>SMARTPHONE</td>\n",
       "      <td>28</td>\n",
       "      <td>4</td>\n",
       "      <td>7</td>\n",
       "      <td>3</td>\n",
       "      <td>10</td>\n",
       "    </tr>\n",
       "    <tr>\n",
       "      <th>9</th>\n",
       "      <td>A513VG</td>\n",
       "      <td>4705</td>\n",
       "      <td>NaN</td>\n",
       "      <td>None</td>\n",
       "      <td>IOS</td>\n",
       "      <td>SMARTPHONE</td>\n",
       "      <td>13</td>\n",
       "      <td>8</td>\n",
       "      <td>24</td>\n",
       "      <td>8</td>\n",
       "      <td>9</td>\n",
       "    </tr>\n",
       "    <tr>\n",
       "      <th>10</th>\n",
       "      <td>A5JGTX</td>\n",
       "      <td>289</td>\n",
       "      <td>NaN</td>\n",
       "      <td>None</td>\n",
       "      <td>ANDROID</td>\n",
       "      <td>SMARTPHONE</td>\n",
       "      <td>41</td>\n",
       "      <td>8</td>\n",
       "      <td>13</td>\n",
       "      <td>5</td>\n",
       "      <td>3</td>\n",
       "    </tr>\n",
       "    <tr>\n",
       "      <th>11</th>\n",
       "      <td>A6SR1U</td>\n",
       "      <td>35</td>\n",
       "      <td>26.0</td>\n",
       "      <td>None</td>\n",
       "      <td>ANDROID</td>\n",
       "      <td>SMARTPHONE</td>\n",
       "      <td>13</td>\n",
       "      <td>3</td>\n",
       "      <td>10</td>\n",
       "      <td>2</td>\n",
       "      <td>5</td>\n",
       "    </tr>\n",
       "    <tr>\n",
       "      <th>12</th>\n",
       "      <td>A715IB</td>\n",
       "      <td>122</td>\n",
       "      <td>26.0</td>\n",
       "      <td>None</td>\n",
       "      <td>ANDROID</td>\n",
       "      <td>SMARTPHONE</td>\n",
       "      <td>43</td>\n",
       "      <td>3</td>\n",
       "      <td>6</td>\n",
       "      <td>4</td>\n",
       "      <td>10</td>\n",
       "    </tr>\n",
       "    <tr>\n",
       "      <th>13</th>\n",
       "      <td>A79PN4</td>\n",
       "      <td>34</td>\n",
       "      <td>29.0</td>\n",
       "      <td>None</td>\n",
       "      <td>ANDROID</td>\n",
       "      <td>SMARTPHONE</td>\n",
       "      <td>3</td>\n",
       "      <td>3</td>\n",
       "      <td>14</td>\n",
       "      <td>2</td>\n",
       "      <td>4</td>\n",
       "    </tr>\n",
       "    <tr>\n",
       "      <th>14</th>\n",
       "      <td>A95J8P</td>\n",
       "      <td>213</td>\n",
       "      <td>19.0</td>\n",
       "      <td>None</td>\n",
       "      <td>ANDROID</td>\n",
       "      <td>SMARTPHONE</td>\n",
       "      <td>11</td>\n",
       "      <td>2</td>\n",
       "      <td>5</td>\n",
       "      <td>5</td>\n",
       "      <td>1</td>\n",
       "    </tr>\n",
       "    <tr>\n",
       "      <th>15</th>\n",
       "      <td>AARV4B</td>\n",
       "      <td>48</td>\n",
       "      <td>21.0</td>\n",
       "      <td>None</td>\n",
       "      <td>ANDROID</td>\n",
       "      <td>SMARTPHONE</td>\n",
       "      <td>43</td>\n",
       "      <td>2</td>\n",
       "      <td>7</td>\n",
       "      <td>2</td>\n",
       "      <td>7</td>\n",
       "    </tr>\n",
       "    <tr>\n",
       "      <th>16</th>\n",
       "      <td>AAW0OR</td>\n",
       "      <td>6011</td>\n",
       "      <td>NaN</td>\n",
       "      <td>None</td>\n",
       "      <td>ANDROID</td>\n",
       "      <td>SMARTPHONE</td>\n",
       "      <td>2</td>\n",
       "      <td>8</td>\n",
       "      <td>8</td>\n",
       "      <td>8</td>\n",
       "      <td>7</td>\n",
       "    </tr>\n",
       "    <tr>\n",
       "      <th>17</th>\n",
       "      <td>AAXHDK</td>\n",
       "      <td>32</td>\n",
       "      <td>28.0</td>\n",
       "      <td>None</td>\n",
       "      <td>ANDROID</td>\n",
       "      <td>TABLET</td>\n",
       "      <td>29</td>\n",
       "      <td>3</td>\n",
       "      <td>6</td>\n",
       "      <td>2</td>\n",
       "      <td>9</td>\n",
       "    </tr>\n",
       "    <tr>\n",
       "      <th>18</th>\n",
       "      <td>AAZ9KD</td>\n",
       "      <td>2779</td>\n",
       "      <td>33.0</td>\n",
       "      <td>None</td>\n",
       "      <td>ANDROID</td>\n",
       "      <td>SMARTPHONE</td>\n",
       "      <td>8</td>\n",
       "      <td>3</td>\n",
       "      <td>4</td>\n",
       "      <td>8</td>\n",
       "      <td>10</td>\n",
       "    </tr>\n",
       "    <tr>\n",
       "      <th>19</th>\n",
       "      <td>ABNVHS</td>\n",
       "      <td>3654</td>\n",
       "      <td>NaN</td>\n",
       "      <td>None</td>\n",
       "      <td>ANDROID</td>\n",
       "      <td>SMARTPHONE</td>\n",
       "      <td>37</td>\n",
       "      <td>8</td>\n",
       "      <td>6</td>\n",
       "      <td>8</td>\n",
       "      <td>5</td>\n",
       "    </tr>\n",
       "  </tbody>\n",
       "</table>\n",
       "</div>"
      ],
      "text/plain": [
       "   user_id  lt_day   age gender_segment  os_name cpe_type_name  location_id  \\\n",
       "0   A1E59W    4055   NaN           None  ANDROID    SMARTPHONE           13   \n",
       "1   A1S6VL     335  40.0           None  ANDROID        TABLET           14   \n",
       "2   A28ZDT    4243   NaN           None  ANDROID    SMARTPHONE           56   \n",
       "3   A2GLPQ    2354   NaN           None  ANDROID    SMARTPHONE           16   \n",
       "4   A3XMNW      41  32.0           None  ANDROID    SMARTPHONE           41   \n",
       "5   A41C1K     557   NaN           None  ANDROID    SMARTPHONE           38   \n",
       "6   A4590P      94  27.0           None  ANDROID    SMARTPHONE           28   \n",
       "7   A48OT7      61  33.0           None  ANDROID    SMARTPHONE           28   \n",
       "8   A4T128      76  38.0           None  ANDROID    SMARTPHONE           28   \n",
       "9   A513VG    4705   NaN           None      IOS    SMARTPHONE           13   \n",
       "10  A5JGTX     289   NaN           None  ANDROID    SMARTPHONE           41   \n",
       "11  A6SR1U      35  26.0           None  ANDROID    SMARTPHONE           13   \n",
       "12  A715IB     122  26.0           None  ANDROID    SMARTPHONE           43   \n",
       "13  A79PN4      34  29.0           None  ANDROID    SMARTPHONE            3   \n",
       "14  A95J8P     213  19.0           None  ANDROID    SMARTPHONE           11   \n",
       "15  AARV4B      48  21.0           None  ANDROID    SMARTPHONE           43   \n",
       "16  AAW0OR    6011   NaN           None  ANDROID    SMARTPHONE            2   \n",
       "17  AAXHDK      32  28.0           None  ANDROID        TABLET           29   \n",
       "18  AAZ9KD    2779  33.0           None  ANDROID    SMARTPHONE            8   \n",
       "19  ABNVHS    3654   NaN           None  ANDROID    SMARTPHONE           37   \n",
       "\n",
       "    age_gr_id  tr_gr_id  lt_gr_id  nps_score  \n",
       "0           8         5         8          1  \n",
       "1           4         8         5          8  \n",
       "2           8         5         8          5  \n",
       "3           8         7         8          1  \n",
       "4           3         4         2          1  \n",
       "5           8         5         6          3  \n",
       "6           3         6         4         10  \n",
       "7           3        12         3          9  \n",
       "8           4         7         3         10  \n",
       "9           8        24         8          9  \n",
       "10          8        13         5          3  \n",
       "11          3        10         2          5  \n",
       "12          3         6         4         10  \n",
       "13          3        14         2          4  \n",
       "14          2         5         5          1  \n",
       "15          2         7         2          7  \n",
       "16          8         8         8          7  \n",
       "17          3         6         2          9  \n",
       "18          3         4         8         10  \n",
       "19          8         6         8          5  "
      ]
     },
     "execution_count": 14,
     "metadata": {},
     "output_type": "execute_result"
    }
   ],
   "source": [
    "user_has_null = pd.read_sql(query, engine)\n",
    "user_has_null"
   ]
  },
  {
   "cell_type": "code",
   "execution_count": 15,
   "id": "14ecb0cd",
   "metadata": {},
   "outputs": [],
   "source": [
    "query = \"\"\"\n",
    "SELECT COUNT(*)\n",
    "FROM user\n",
    "WHERE user_id IS NULL OR\n",
    "      lt_day IS NULL OR\n",
    "      age IS NULL OR\n",
    "      gender_segment IS NULL OR\n",
    "      os_name IS NULL OR\n",
    "      cpe_type_name IS NULL OR\n",
    "      location_id IS NULL OR\n",
    "      age_gr_id IS NULL OR\n",
    "      tr_gr_id IS NULL OR\n",
    "      lt_gr_id IS NULL OR\n",
    "      nps_score IS NULL;\n",
    "\"\"\""
   ]
  },
  {
   "cell_type": "code",
   "execution_count": 16,
   "id": "ff221bf8",
   "metadata": {},
   "outputs": [
    {
     "data": {
      "text/html": [
       "<div>\n",
       "<style scoped>\n",
       "    .dataframe tbody tr th:only-of-type {\n",
       "        vertical-align: middle;\n",
       "    }\n",
       "\n",
       "    .dataframe tbody tr th {\n",
       "        vertical-align: top;\n",
       "    }\n",
       "\n",
       "    .dataframe thead th {\n",
       "        text-align: right;\n",
       "    }\n",
       "</style>\n",
       "<table border=\"1\" class=\"dataframe\">\n",
       "  <thead>\n",
       "    <tr style=\"text-align: right;\">\n",
       "      <th></th>\n",
       "      <th>COUNT(*)</th>\n",
       "    </tr>\n",
       "  </thead>\n",
       "  <tbody>\n",
       "    <tr>\n",
       "      <th>0</th>\n",
       "      <td>1341</td>\n",
       "    </tr>\n",
       "  </tbody>\n",
       "</table>\n",
       "</div>"
      ],
      "text/plain": [
       "   COUNT(*)\n",
       "0      1341"
      ]
     },
     "execution_count": 16,
     "metadata": {},
     "output_type": "execute_result"
    }
   ],
   "source": [
    "user_has_null_quantity = pd.read_sql(query, engine)\n",
    "user_has_null_quantity"
   ]
  },
  {
   "cell_type": "markdown",
   "id": "5e60f5a9",
   "metadata": {},
   "source": [
    "1341 запись с пропусками. Можно заметить, что пропуски находятся в полях `age` и `gender_segment`. Учтём это при формировании запроса для выгрузки данных."
   ]
  },
  {
   "cell_type": "markdown",
   "id": "39e0b9fc",
   "metadata": {},
   "source": [
    "Формируем sql-запрос, выполняем и сохраняем результат выполнения в DataFrame:"
   ]
  },
  {
   "cell_type": "code",
   "execution_count": 17,
   "id": "82297434",
   "metadata": {},
   "outputs": [],
   "source": [
    "query = \"\"\"\n",
    "SELECT user_id,\n",
    "       lt_day,\n",
    "       CASE\n",
    "           WHEN lt_day <= 365 THEN 'Новый'\n",
    "           WHEN lt_day > 365 THEN 'Старый'\n",
    "       END AS is_new,\n",
    "       age,\n",
    "       CASE\n",
    "           WHEN gender_segment = 0 THEN 'Мужчина'\n",
    "           WHEN gender_segment = 1 THEN 'Женщина'\n",
    "       END AS gender_segment,\n",
    "       os_name,\n",
    "       cpe_type_name,\n",
    "       l.country,\n",
    "       l.city,\n",
    "       SUBSTRING(a.title, 4) AS age_segment,\n",
    "       SUBSTRING(t.title, 4) AS traffic_segment,\n",
    "       SUBSTRING(lt.title, 4) AS lifetime_segment,\n",
    "       nps_score,\n",
    "       CASE\n",
    "           WHEN nps_score >= 9 THEN 'Сторонники'\n",
    "           WHEN nps_score > 6 AND nps_score < 9 THEN 'Нейтралы'\n",
    "           WHEN nps_score <= 6 THEN 'Критики'\n",
    "       END AS nps_group\n",
    "FROM user AS u\n",
    "INNER JOIN location AS l ON u.location_id = l.location_id\n",
    "INNER JOIN age_segment AS a ON u.age_gr_id = a.age_gr_id\n",
    "INNER JOIN traffic_segment AS t ON u.tr_gr_id = t.tr_gr_id\n",
    "INNER JOIN lifetime_segment AS lt ON u.lt_gr_id = lt.lt_gr_id\n",
    "WHERE gender_segment IS NOT NULL AND age IS NOT NULL;\n",
    "\"\"\""
   ]
  },
  {
   "cell_type": "code",
   "execution_count": 18,
   "id": "84f7e832",
   "metadata": {
    "scrolled": true
   },
   "outputs": [
    {
     "data": {
      "text/html": [
       "<div>\n",
       "<style scoped>\n",
       "    .dataframe tbody tr th:only-of-type {\n",
       "        vertical-align: middle;\n",
       "    }\n",
       "\n",
       "    .dataframe tbody tr th {\n",
       "        vertical-align: top;\n",
       "    }\n",
       "\n",
       "    .dataframe thead th {\n",
       "        text-align: right;\n",
       "    }\n",
       "</style>\n",
       "<table border=\"1\" class=\"dataframe\">\n",
       "  <thead>\n",
       "    <tr style=\"text-align: right;\">\n",
       "      <th></th>\n",
       "      <th>user_id</th>\n",
       "      <th>lt_day</th>\n",
       "      <th>is_new</th>\n",
       "      <th>age</th>\n",
       "      <th>gender_segment</th>\n",
       "      <th>os_name</th>\n",
       "      <th>cpe_type_name</th>\n",
       "      <th>country</th>\n",
       "      <th>city</th>\n",
       "      <th>age_segment</th>\n",
       "      <th>traffic_segment</th>\n",
       "      <th>lifetime_segment</th>\n",
       "      <th>nps_score</th>\n",
       "      <th>nps_group</th>\n",
       "    </tr>\n",
       "  </thead>\n",
       "  <tbody>\n",
       "    <tr>\n",
       "      <th>0</th>\n",
       "      <td>A001A2</td>\n",
       "      <td>2320</td>\n",
       "      <td>Старый</td>\n",
       "      <td>45.0</td>\n",
       "      <td>Женщина</td>\n",
       "      <td>ANDROID</td>\n",
       "      <td>SMARTPHONE</td>\n",
       "      <td>Россия</td>\n",
       "      <td>Уфа</td>\n",
       "      <td>45-54</td>\n",
       "      <td>1-5</td>\n",
       "      <td>36+</td>\n",
       "      <td>10</td>\n",
       "      <td>Сторонники</td>\n",
       "    </tr>\n",
       "    <tr>\n",
       "      <th>1</th>\n",
       "      <td>A001WF</td>\n",
       "      <td>2344</td>\n",
       "      <td>Старый</td>\n",
       "      <td>53.0</td>\n",
       "      <td>Мужчина</td>\n",
       "      <td>ANDROID</td>\n",
       "      <td>SMARTPHONE</td>\n",
       "      <td>Россия</td>\n",
       "      <td>Киров</td>\n",
       "      <td>45-54</td>\n",
       "      <td>1-5</td>\n",
       "      <td>36+</td>\n",
       "      <td>10</td>\n",
       "      <td>Сторонники</td>\n",
       "    </tr>\n",
       "    <tr>\n",
       "      <th>2</th>\n",
       "      <td>A003Q7</td>\n",
       "      <td>467</td>\n",
       "      <td>Старый</td>\n",
       "      <td>57.0</td>\n",
       "      <td>Мужчина</td>\n",
       "      <td>ANDROID</td>\n",
       "      <td>SMARTPHONE</td>\n",
       "      <td>Россия</td>\n",
       "      <td>Москва</td>\n",
       "      <td>55-64</td>\n",
       "      <td>20-25</td>\n",
       "      <td>13-24</td>\n",
       "      <td>10</td>\n",
       "      <td>Сторонники</td>\n",
       "    </tr>\n",
       "    <tr>\n",
       "      <th>3</th>\n",
       "      <td>A004TB</td>\n",
       "      <td>4190</td>\n",
       "      <td>Старый</td>\n",
       "      <td>44.0</td>\n",
       "      <td>Женщина</td>\n",
       "      <td>IOS</td>\n",
       "      <td>SMARTPHONE</td>\n",
       "      <td>Россия</td>\n",
       "      <td>РостовнаДону</td>\n",
       "      <td>35-44</td>\n",
       "      <td>0.1-1</td>\n",
       "      <td>36+</td>\n",
       "      <td>10</td>\n",
       "      <td>Сторонники</td>\n",
       "    </tr>\n",
       "    <tr>\n",
       "      <th>4</th>\n",
       "      <td>A004XT</td>\n",
       "      <td>1163</td>\n",
       "      <td>Старый</td>\n",
       "      <td>24.0</td>\n",
       "      <td>Мужчина</td>\n",
       "      <td>ANDROID</td>\n",
       "      <td>SMARTPHONE</td>\n",
       "      <td>Россия</td>\n",
       "      <td>Рязань</td>\n",
       "      <td>16-24</td>\n",
       "      <td>5-10</td>\n",
       "      <td>36+</td>\n",
       "      <td>10</td>\n",
       "      <td>Сторонники</td>\n",
       "    </tr>\n",
       "    <tr>\n",
       "      <th>...</th>\n",
       "      <td>...</td>\n",
       "      <td>...</td>\n",
       "      <td>...</td>\n",
       "      <td>...</td>\n",
       "      <td>...</td>\n",
       "      <td>...</td>\n",
       "      <td>...</td>\n",
       "      <td>...</td>\n",
       "      <td>...</td>\n",
       "      <td>...</td>\n",
       "      <td>...</td>\n",
       "      <td>...</td>\n",
       "      <td>...</td>\n",
       "      <td>...</td>\n",
       "    </tr>\n",
       "    <tr>\n",
       "      <th>501147</th>\n",
       "      <td>ZZZKLD</td>\n",
       "      <td>1249</td>\n",
       "      <td>Старый</td>\n",
       "      <td>54.0</td>\n",
       "      <td>Женщина</td>\n",
       "      <td>ANDROID</td>\n",
       "      <td>SMARTPHONE</td>\n",
       "      <td>Россия</td>\n",
       "      <td>Москва</td>\n",
       "      <td>45-54</td>\n",
       "      <td>1-5</td>\n",
       "      <td>36+</td>\n",
       "      <td>5</td>\n",
       "      <td>Критики</td>\n",
       "    </tr>\n",
       "    <tr>\n",
       "      <th>501148</th>\n",
       "      <td>ZZZLWY</td>\n",
       "      <td>129</td>\n",
       "      <td>Новый</td>\n",
       "      <td>31.0</td>\n",
       "      <td>Мужчина</td>\n",
       "      <td>ANDROID</td>\n",
       "      <td>SMARTPHONE</td>\n",
       "      <td>Россия</td>\n",
       "      <td>Москва</td>\n",
       "      <td>25-34</td>\n",
       "      <td>1-5</td>\n",
       "      <td>4-6</td>\n",
       "      <td>8</td>\n",
       "      <td>Нейтралы</td>\n",
       "    </tr>\n",
       "    <tr>\n",
       "      <th>501149</th>\n",
       "      <td>ZZZQ5F</td>\n",
       "      <td>522</td>\n",
       "      <td>Старый</td>\n",
       "      <td>36.0</td>\n",
       "      <td>Мужчина</td>\n",
       "      <td>ANDROID</td>\n",
       "      <td>SMARTPHONE</td>\n",
       "      <td>Россия</td>\n",
       "      <td>Сургут</td>\n",
       "      <td>35-44</td>\n",
       "      <td>25-30</td>\n",
       "      <td>13-24</td>\n",
       "      <td>10</td>\n",
       "      <td>Сторонники</td>\n",
       "    </tr>\n",
       "    <tr>\n",
       "      <th>501150</th>\n",
       "      <td>ZZZQ8E</td>\n",
       "      <td>2936</td>\n",
       "      <td>Старый</td>\n",
       "      <td>37.0</td>\n",
       "      <td>Женщина</td>\n",
       "      <td>ANDROID</td>\n",
       "      <td>SMARTPHONE</td>\n",
       "      <td>Россия</td>\n",
       "      <td>УланУдэ</td>\n",
       "      <td>35-44</td>\n",
       "      <td>65-70</td>\n",
       "      <td>36+</td>\n",
       "      <td>9</td>\n",
       "      <td>Сторонники</td>\n",
       "    </tr>\n",
       "    <tr>\n",
       "      <th>501151</th>\n",
       "      <td>ZZZYH0</td>\n",
       "      <td>2471</td>\n",
       "      <td>Старый</td>\n",
       "      <td>37.0</td>\n",
       "      <td>Мужчина</td>\n",
       "      <td>IOS</td>\n",
       "      <td>SMARTPHONE</td>\n",
       "      <td>Россия</td>\n",
       "      <td>Самара</td>\n",
       "      <td>35-44</td>\n",
       "      <td>10-15</td>\n",
       "      <td>36+</td>\n",
       "      <td>2</td>\n",
       "      <td>Критики</td>\n",
       "    </tr>\n",
       "  </tbody>\n",
       "</table>\n",
       "<p>501152 rows × 14 columns</p>\n",
       "</div>"
      ],
      "text/plain": [
       "       user_id  lt_day  is_new   age gender_segment  os_name cpe_type_name  \\\n",
       "0       A001A2    2320  Старый  45.0        Женщина  ANDROID    SMARTPHONE   \n",
       "1       A001WF    2344  Старый  53.0        Мужчина  ANDROID    SMARTPHONE   \n",
       "2       A003Q7     467  Старый  57.0        Мужчина  ANDROID    SMARTPHONE   \n",
       "3       A004TB    4190  Старый  44.0        Женщина      IOS    SMARTPHONE   \n",
       "4       A004XT    1163  Старый  24.0        Мужчина  ANDROID    SMARTPHONE   \n",
       "...        ...     ...     ...   ...            ...      ...           ...   \n",
       "501147  ZZZKLD    1249  Старый  54.0        Женщина  ANDROID    SMARTPHONE   \n",
       "501148  ZZZLWY     129   Новый  31.0        Мужчина  ANDROID    SMARTPHONE   \n",
       "501149  ZZZQ5F     522  Старый  36.0        Мужчина  ANDROID    SMARTPHONE   \n",
       "501150  ZZZQ8E    2936  Старый  37.0        Женщина  ANDROID    SMARTPHONE   \n",
       "501151  ZZZYH0    2471  Старый  37.0        Мужчина      IOS    SMARTPHONE   \n",
       "\n",
       "       country          city age_segment traffic_segment lifetime_segment  \\\n",
       "0       Россия           Уфа       45-54             1-5              36+   \n",
       "1       Россия         Киров       45-54             1-5              36+   \n",
       "2       Россия        Москва       55-64           20-25            13-24   \n",
       "3       Россия  РостовнаДону       35-44           0.1-1              36+   \n",
       "4       Россия        Рязань       16-24            5-10              36+   \n",
       "...        ...           ...         ...             ...              ...   \n",
       "501147  Россия        Москва       45-54             1-5              36+   \n",
       "501148  Россия        Москва       25-34             1-5              4-6   \n",
       "501149  Россия        Сургут       35-44           25-30            13-24   \n",
       "501150  Россия       УланУдэ       35-44           65-70              36+   \n",
       "501151  Россия        Самара       35-44           10-15              36+   \n",
       "\n",
       "        nps_score   nps_group  \n",
       "0              10  Сторонники  \n",
       "1              10  Сторонники  \n",
       "2              10  Сторонники  \n",
       "3              10  Сторонники  \n",
       "4              10  Сторонники  \n",
       "...           ...         ...  \n",
       "501147          5     Критики  \n",
       "501148          8    Нейтралы  \n",
       "501149         10  Сторонники  \n",
       "501150          9  Сторонники  \n",
       "501151          2     Критики  \n",
       "\n",
       "[501152 rows x 14 columns]"
      ]
     },
     "execution_count": 18,
     "metadata": {},
     "output_type": "execute_result"
    }
   ],
   "source": [
    "df = pd.read_sql(query, engine)\n",
    "df"
   ]
  },
  {
   "cell_type": "code",
   "execution_count": 19,
   "id": "ae0a0b2f",
   "metadata": {},
   "outputs": [],
   "source": [
    "df.to_csv('telecomm_csi_tableau.csv', index=False)"
   ]
  },
  {
   "cell_type": "markdown",
   "id": "ef5e965d",
   "metadata": {},
   "source": [
    "## Дашборд на сайте Tableau Public"
   ]
  },
  {
   "cell_type": "markdown",
   "id": "dde6c4d9",
   "metadata": {},
   "source": [
    "[NPS и распределение клиентов](https://public.tableau.com/app/profile/aleksei8634/viz/Book2_16557462547020/Dashboard?publish=yes)"
   ]
  }
 ],
 "metadata": {
  "ExecuteTimeLog": [
   {
    "duration": 752,
    "start_time": "2021-10-03T17:40:52.731Z"
   },
   {
    "duration": 20,
    "start_time": "2021-10-03T17:40:53.486Z"
   },
   {
    "duration": 4,
    "start_time": "2021-10-03T17:41:04.638Z"
   },
   {
    "duration": 461,
    "start_time": "2021-10-03T17:41:04.912Z"
   },
   {
    "duration": 284,
    "start_time": "2021-10-03T17:41:05.376Z"
   },
   {
    "duration": 574,
    "start_time": "2021-10-06T07:55:05.029Z"
   },
   {
    "duration": 6,
    "start_time": "2021-10-06T07:55:05.605Z"
   },
   {
    "duration": 3,
    "start_time": "2021-10-06T07:55:14.685Z"
   },
   {
    "duration": 406,
    "start_time": "2021-10-06T07:55:15.522Z"
   },
   {
    "duration": 67,
    "start_time": "2021-10-06T07:55:15.929Z"
   },
   {
    "duration": 840,
    "start_time": "2021-10-07T07:54:04.647Z"
   },
   {
    "duration": 10,
    "start_time": "2021-10-07T07:54:05.490Z"
   },
   {
    "duration": 4,
    "start_time": "2021-10-07T07:54:05.544Z"
   },
   {
    "duration": 391,
    "start_time": "2021-10-07T07:54:06.237Z"
   },
   {
    "duration": 293,
    "start_time": "2021-10-07T07:54:06.654Z"
   },
   {
    "duration": 506,
    "start_time": "2022-06-20T16:02:46.268Z"
   },
   {
    "duration": 19,
    "start_time": "2022-06-20T16:02:46.776Z"
   },
   {
    "duration": 3,
    "start_time": "2022-06-20T16:02:46.797Z"
   },
   {
    "duration": 596,
    "start_time": "2022-06-20T16:02:46.802Z"
   },
   {
    "duration": 114,
    "start_time": "2022-06-20T16:02:47.400Z"
   },
   {
    "duration": 3,
    "start_time": "2022-06-20T16:03:06.011Z"
   },
   {
    "duration": 4760,
    "start_time": "2022-06-20T16:03:06.658Z"
   },
   {
    "duration": 4,
    "start_time": "2022-06-20T16:03:50.072Z"
   },
   {
    "duration": 594,
    "start_time": "2022-06-20T16:03:51.656Z"
   },
   {
    "duration": 2,
    "start_time": "2022-06-20T16:04:27.714Z"
   },
   {
    "duration": 535,
    "start_time": "2022-06-20T16:04:28.370Z"
   },
   {
    "duration": 4,
    "start_time": "2022-06-20T16:05:01.047Z"
   },
   {
    "duration": 545,
    "start_time": "2022-06-20T16:05:02.418Z"
   },
   {
    "duration": 3,
    "start_time": "2022-06-20T16:10:47.345Z"
   },
   {
    "duration": 3372,
    "start_time": "2022-06-20T16:10:47.976Z"
   },
   {
    "duration": 3,
    "start_time": "2022-06-20T16:22:30.260Z"
   },
   {
    "duration": 589,
    "start_time": "2022-06-20T16:22:31.565Z"
   },
   {
    "duration": 3,
    "start_time": "2022-06-20T16:23:19.069Z"
   },
   {
    "duration": 579,
    "start_time": "2022-06-20T16:23:20.176Z"
   },
   {
    "duration": 3,
    "start_time": "2022-06-20T16:36:19.032Z"
   },
   {
    "duration": 2296,
    "start_time": "2022-06-20T16:36:19.882Z"
   },
   {
    "duration": 2,
    "start_time": "2022-06-20T16:38:46.497Z"
   },
   {
    "duration": 396,
    "start_time": "2022-06-20T16:38:47.362Z"
   },
   {
    "duration": 3,
    "start_time": "2022-06-20T16:38:56.303Z"
   },
   {
    "duration": 2753,
    "start_time": "2022-06-20T16:38:56.899Z"
   },
   {
    "duration": 2,
    "start_time": "2022-06-20T16:39:40.593Z"
   },
   {
    "duration": 3058,
    "start_time": "2022-06-20T16:39:41.550Z"
   },
   {
    "duration": 3,
    "start_time": "2022-06-20T16:44:00.809Z"
   },
   {
    "duration": 3990,
    "start_time": "2022-06-20T16:44:01.583Z"
   },
   {
    "duration": 3,
    "start_time": "2022-06-20T16:48:29.848Z"
   },
   {
    "duration": 5437,
    "start_time": "2022-06-20T16:48:30.740Z"
   },
   {
    "duration": 5,
    "start_time": "2022-06-20T16:55:09.063Z"
   },
   {
    "duration": 6103,
    "start_time": "2022-06-20T16:55:10.108Z"
   },
   {
    "duration": 5944,
    "start_time": "2022-06-20T16:59:37.351Z"
   },
   {
    "duration": 757,
    "start_time": "2022-06-20T17:04:52.053Z"
   },
   {
    "duration": 14,
    "start_time": "2022-06-20T17:04:52.813Z"
   },
   {
    "duration": 42,
    "start_time": "2022-06-20T17:04:52.829Z"
   },
   {
    "duration": 7316,
    "start_time": "2022-06-20T17:04:52.874Z"
   },
   {
    "duration": 7084,
    "start_time": "2022-06-20T17:05:00.193Z"
   },
   {
    "duration": 566,
    "start_time": "2022-06-21T05:31:48.745Z"
   },
   {
    "duration": 8,
    "start_time": "2022-06-21T05:31:49.313Z"
   },
   {
    "duration": 18,
    "start_time": "2022-06-21T05:31:49.323Z"
   },
   {
    "duration": 5333,
    "start_time": "2022-06-21T05:31:49.342Z"
   },
   {
    "duration": 5093,
    "start_time": "2022-06-21T05:31:54.679Z"
   },
   {
    "duration": 524,
    "start_time": "2022-06-21T05:36:06.126Z"
   },
   {
    "duration": 9,
    "start_time": "2022-06-21T05:36:06.653Z"
   },
   {
    "duration": 3,
    "start_time": "2022-06-21T05:36:06.664Z"
   },
   {
    "duration": 511,
    "start_time": "2022-06-21T05:36:06.669Z"
   },
   {
    "duration": 4,
    "start_time": "2022-06-21T05:36:07.182Z"
   },
   {
    "duration": 5005,
    "start_time": "2022-06-21T05:36:07.188Z"
   },
   {
    "duration": 4098,
    "start_time": "2022-06-21T05:36:12.195Z"
   },
   {
    "duration": 508,
    "start_time": "2022-06-21T05:43:53.596Z"
   },
   {
    "duration": 9,
    "start_time": "2022-06-21T05:43:54.107Z"
   },
   {
    "duration": 12,
    "start_time": "2022-06-21T05:43:54.118Z"
   },
   {
    "duration": 533,
    "start_time": "2022-06-21T05:43:54.132Z"
   },
   {
    "duration": 8,
    "start_time": "2022-06-21T05:43:54.668Z"
   },
   {
    "duration": 5410,
    "start_time": "2022-06-21T05:43:54.678Z"
   },
   {
    "duration": 4568,
    "start_time": "2022-06-21T05:44:00.090Z"
   },
   {
    "duration": 525,
    "start_time": "2022-06-21T05:45:29.298Z"
   },
   {
    "duration": 10,
    "start_time": "2022-06-21T05:45:29.825Z"
   },
   {
    "duration": 3,
    "start_time": "2022-06-21T05:45:29.837Z"
   },
   {
    "duration": 497,
    "start_time": "2022-06-21T05:45:29.853Z"
   },
   {
    "duration": 3,
    "start_time": "2022-06-21T05:45:30.353Z"
   },
   {
    "duration": 5387,
    "start_time": "2022-06-21T05:45:30.358Z"
   },
   {
    "duration": 5082,
    "start_time": "2022-06-21T05:45:35.747Z"
   },
   {
    "duration": 5706,
    "start_time": "2022-06-21T05:46:02.617Z"
   },
   {
    "duration": 2,
    "start_time": "2022-06-21T06:09:54.685Z"
   },
   {
    "duration": 586,
    "start_time": "2022-06-21T06:09:56.057Z"
   },
   {
    "duration": 3,
    "start_time": "2022-06-21T06:12:41.396Z"
   },
   {
    "duration": 499,
    "start_time": "2022-06-21T14:50:35.076Z"
   },
   {
    "duration": 9,
    "start_time": "2022-06-21T14:50:35.577Z"
   },
   {
    "duration": 6,
    "start_time": "2022-06-21T14:50:35.587Z"
   },
   {
    "duration": 621,
    "start_time": "2022-06-21T14:50:35.595Z"
   },
   {
    "duration": 2,
    "start_time": "2022-06-21T14:50:36.218Z"
   },
   {
    "duration": 1913,
    "start_time": "2022-06-21T14:50:36.221Z"
   },
   {
    "duration": 2,
    "start_time": "2022-06-21T14:50:38.136Z"
   },
   {
    "duration": 53,
    "start_time": "2022-06-21T14:50:38.140Z"
   },
   {
    "duration": 0,
    "start_time": "2022-06-21T14:50:38.194Z"
   },
   {
    "duration": 0,
    "start_time": "2022-06-21T14:50:38.196Z"
   },
   {
    "duration": 0,
    "start_time": "2022-06-21T14:50:38.197Z"
   },
   {
    "duration": 586,
    "start_time": "2022-06-21T14:51:04.999Z"
   },
   {
    "duration": 3,
    "start_time": "2022-06-21T14:51:06.513Z"
   },
   {
    "duration": 4829,
    "start_time": "2022-06-21T14:51:08.952Z"
   },
   {
    "duration": 3918,
    "start_time": "2022-06-21T14:51:13.783Z"
   },
   {
    "duration": 502,
    "start_time": "2022-06-21T14:51:21.980Z"
   },
   {
    "duration": 8,
    "start_time": "2022-06-21T14:51:22.484Z"
   },
   {
    "duration": 3,
    "start_time": "2022-06-21T14:51:22.493Z"
   },
   {
    "duration": 542,
    "start_time": "2022-06-21T14:51:22.497Z"
   },
   {
    "duration": 3,
    "start_time": "2022-06-21T14:51:23.041Z"
   },
   {
    "duration": 605,
    "start_time": "2022-06-21T14:51:23.045Z"
   },
   {
    "duration": 2,
    "start_time": "2022-06-21T14:51:23.651Z"
   },
   {
    "duration": 575,
    "start_time": "2022-06-21T14:51:23.655Z"
   },
   {
    "duration": 3,
    "start_time": "2022-06-21T14:51:24.232Z"
   },
   {
    "duration": 4866,
    "start_time": "2022-06-21T14:51:24.236Z"
   },
   {
    "duration": 3607,
    "start_time": "2022-06-21T14:51:29.104Z"
   },
   {
    "duration": 487,
    "start_time": "2022-06-21T14:51:37.399Z"
   },
   {
    "duration": 9,
    "start_time": "2022-06-21T14:51:37.888Z"
   },
   {
    "duration": 8,
    "start_time": "2022-06-21T14:51:37.898Z"
   },
   {
    "duration": 552,
    "start_time": "2022-06-21T14:51:37.908Z"
   },
   {
    "duration": 3,
    "start_time": "2022-06-21T14:51:38.462Z"
   },
   {
    "duration": 638,
    "start_time": "2022-06-21T14:51:38.467Z"
   },
   {
    "duration": 3,
    "start_time": "2022-06-21T14:51:39.107Z"
   },
   {
    "duration": 592,
    "start_time": "2022-06-21T14:51:39.112Z"
   },
   {
    "duration": 5,
    "start_time": "2022-06-21T14:51:39.705Z"
   },
   {
    "duration": 4936,
    "start_time": "2022-06-21T14:51:39.712Z"
   },
   {
    "duration": 3832,
    "start_time": "2022-06-21T14:51:44.650Z"
   },
   {
    "duration": 2,
    "start_time": "2022-06-21T14:53:06.906Z"
   },
   {
    "duration": 5100,
    "start_time": "2022-06-21T14:53:08.030Z"
   },
   {
    "duration": 522,
    "start_time": "2022-06-21T14:56:46.377Z"
   },
   {
    "duration": 14,
    "start_time": "2022-06-21T14:56:46.902Z"
   },
   {
    "duration": 16,
    "start_time": "2022-06-21T14:56:46.918Z"
   },
   {
    "duration": 5353,
    "start_time": "2022-06-21T14:56:46.936Z"
   },
   {
    "duration": 4176,
    "start_time": "2022-06-21T14:56:52.292Z"
   },
   {
    "duration": 73,
    "start_time": "2022-06-21T14:58:18.130Z"
   },
   {
    "duration": 2,
    "start_time": "2022-06-21T14:58:33.670Z"
   },
   {
    "duration": 8,
    "start_time": "2022-06-21T14:58:34.463Z"
   },
   {
    "duration": 548,
    "start_time": "2022-06-21T14:58:48.463Z"
   },
   {
    "duration": 541,
    "start_time": "2022-06-21T14:59:28.592Z"
   },
   {
    "duration": 541,
    "start_time": "2022-06-21T14:59:46.952Z"
   },
   {
    "duration": 542,
    "start_time": "2022-06-21T14:59:58.826Z"
   },
   {
    "duration": 514,
    "start_time": "2022-06-21T15:07:38.253Z"
   },
   {
    "duration": 9,
    "start_time": "2022-06-21T15:07:38.769Z"
   },
   {
    "duration": 15,
    "start_time": "2022-06-21T15:07:38.779Z"
   },
   {
    "duration": 5328,
    "start_time": "2022-06-21T15:07:38.795Z"
   },
   {
    "duration": 4042,
    "start_time": "2022-06-21T15:07:44.125Z"
   },
   {
    "duration": 476,
    "start_time": "2022-06-21T15:09:36.118Z"
   },
   {
    "duration": 9,
    "start_time": "2022-06-21T15:09:36.596Z"
   },
   {
    "duration": 7,
    "start_time": "2022-06-21T15:09:36.606Z"
   },
   {
    "duration": 5285,
    "start_time": "2022-06-21T15:09:36.615Z"
   },
   {
    "duration": 4115,
    "start_time": "2022-06-21T15:09:41.902Z"
   },
   {
    "duration": 3,
    "start_time": "2022-06-21T15:12:11.212Z"
   },
   {
    "duration": 5409,
    "start_time": "2022-06-21T15:12:16.274Z"
   },
   {
    "duration": 442,
    "start_time": "2022-06-21T15:12:33.625Z"
   },
   {
    "duration": 8,
    "start_time": "2022-06-21T15:12:34.069Z"
   },
   {
    "duration": 3,
    "start_time": "2022-06-21T15:12:34.081Z"
   },
   {
    "duration": 5515,
    "start_time": "2022-06-21T15:12:34.086Z"
   },
   {
    "duration": 3955,
    "start_time": "2022-06-21T15:12:39.603Z"
   },
   {
    "duration": 3,
    "start_time": "2022-06-21T15:13:36.670Z"
   },
   {
    "duration": 5236,
    "start_time": "2022-06-21T15:13:37.479Z"
   },
   {
    "duration": 3,
    "start_time": "2022-06-21T15:13:56.919Z"
   },
   {
    "duration": 5386,
    "start_time": "2022-06-21T15:13:57.622Z"
   },
   {
    "duration": 3,
    "start_time": "2022-06-21T15:14:16.185Z"
   },
   {
    "duration": 5248,
    "start_time": "2022-06-21T15:14:18.190Z"
   },
   {
    "duration": 3,
    "start_time": "2022-06-21T15:15:00.598Z"
   },
   {
    "duration": 5319,
    "start_time": "2022-06-21T15:15:01.252Z"
   },
   {
    "duration": 2,
    "start_time": "2022-06-21T15:15:18.837Z"
   },
   {
    "duration": 5352,
    "start_time": "2022-06-21T15:15:20.085Z"
   },
   {
    "duration": 519,
    "start_time": "2022-06-21T15:16:41.458Z"
   },
   {
    "duration": 8,
    "start_time": "2022-06-21T15:16:41.979Z"
   },
   {
    "duration": 3,
    "start_time": "2022-06-21T15:16:41.989Z"
   },
   {
    "duration": 5299,
    "start_time": "2022-06-21T15:16:41.993Z"
   },
   {
    "duration": 3950,
    "start_time": "2022-06-21T15:16:47.294Z"
   },
   {
    "duration": 477,
    "start_time": "2022-06-21T15:18:44.217Z"
   },
   {
    "duration": 10,
    "start_time": "2022-06-21T15:18:44.697Z"
   },
   {
    "duration": 4,
    "start_time": "2022-06-21T15:18:44.708Z"
   },
   {
    "duration": 5459,
    "start_time": "2022-06-21T15:18:44.714Z"
   },
   {
    "duration": 4175,
    "start_time": "2022-06-21T15:18:50.174Z"
   },
   {
    "duration": 560,
    "start_time": "2022-06-22T16:16:39.270Z"
   },
   {
    "duration": 9,
    "start_time": "2022-06-22T16:16:39.832Z"
   },
   {
    "duration": 3,
    "start_time": "2022-06-22T16:16:39.843Z"
   },
   {
    "duration": 490,
    "start_time": "2022-06-22T16:16:39.847Z"
   },
   {
    "duration": 0,
    "start_time": "2022-06-22T16:16:40.339Z"
   },
   {
    "duration": 3,
    "start_time": "2022-06-22T16:17:24.609Z"
   },
   {
    "duration": 5567,
    "start_time": "2022-06-22T16:17:26.369Z"
   },
   {
    "duration": 3,
    "start_time": "2022-06-22T16:22:57.737Z"
   },
   {
    "duration": 446,
    "start_time": "2022-06-22T16:22:58.342Z"
   },
   {
    "duration": 3,
    "start_time": "2022-06-22T16:23:17.585Z"
   },
   {
    "duration": 432,
    "start_time": "2022-06-22T16:23:18.719Z"
   },
   {
    "duration": 3,
    "start_time": "2022-06-22T16:23:42.406Z"
   },
   {
    "duration": 464,
    "start_time": "2022-06-22T16:23:42.999Z"
   },
   {
    "duration": 3,
    "start_time": "2022-06-22T16:24:07.768Z"
   },
   {
    "duration": 577,
    "start_time": "2022-06-22T16:24:08.441Z"
   },
   {
    "duration": 3,
    "start_time": "2022-06-22T16:24:14.742Z"
   },
   {
    "duration": 474,
    "start_time": "2022-06-22T16:24:15.304Z"
   },
   {
    "duration": 3,
    "start_time": "2022-06-22T16:27:44.761Z"
   },
   {
    "duration": 5044,
    "start_time": "2022-06-22T16:27:48.904Z"
   },
   {
    "duration": 3,
    "start_time": "2022-06-22T16:28:54.919Z"
   },
   {
    "duration": 5117,
    "start_time": "2022-06-22T16:28:55.726Z"
   },
   {
    "duration": 2,
    "start_time": "2022-06-22T16:33:51.518Z"
   },
   {
    "duration": 540,
    "start_time": "2022-06-22T16:33:52.163Z"
   },
   {
    "duration": 2,
    "start_time": "2022-06-22T16:34:01.494Z"
   },
   {
    "duration": 520,
    "start_time": "2022-06-22T16:34:05.948Z"
   },
   {
    "duration": 3,
    "start_time": "2022-06-22T16:34:52.389Z"
   },
   {
    "duration": 507,
    "start_time": "2022-06-22T16:34:54.622Z"
   },
   {
    "duration": 3,
    "start_time": "2022-06-22T16:36:08.119Z"
   },
   {
    "duration": 513,
    "start_time": "2022-06-22T16:36:08.964Z"
   },
   {
    "duration": 2,
    "start_time": "2022-06-22T16:36:16.813Z"
   },
   {
    "duration": 540,
    "start_time": "2022-06-22T16:36:18.284Z"
   },
   {
    "duration": 3,
    "start_time": "2022-06-22T16:37:31.437Z"
   },
   {
    "duration": 467,
    "start_time": "2022-06-22T16:37:31.917Z"
   },
   {
    "duration": 2,
    "start_time": "2022-06-22T16:38:55.676Z"
   },
   {
    "duration": 477,
    "start_time": "2022-06-22T16:38:56.196Z"
   },
   {
    "duration": 3,
    "start_time": "2022-06-22T16:38:58.849Z"
   },
   {
    "duration": 466,
    "start_time": "2022-06-22T16:38:59.364Z"
   },
   {
    "duration": 2,
    "start_time": "2022-06-22T16:43:32.739Z"
   },
   {
    "duration": 557,
    "start_time": "2022-06-22T16:43:33.278Z"
   },
   {
    "duration": 2,
    "start_time": "2022-06-22T16:44:19.899Z"
   },
   {
    "duration": 529,
    "start_time": "2022-06-22T16:44:20.535Z"
   },
   {
    "duration": 2,
    "start_time": "2022-06-22T16:44:29.968Z"
   },
   {
    "duration": 527,
    "start_time": "2022-06-22T16:44:30.692Z"
   },
   {
    "duration": 3,
    "start_time": "2022-06-22T16:55:46.674Z"
   },
   {
    "duration": 528,
    "start_time": "2022-06-22T16:55:47.276Z"
   },
   {
    "duration": 2,
    "start_time": "2022-06-22T16:55:57.670Z"
   },
   {
    "duration": 534,
    "start_time": "2022-06-22T16:56:00.116Z"
   },
   {
    "duration": 2,
    "start_time": "2022-06-22T16:57:45.578Z"
   },
   {
    "duration": 576,
    "start_time": "2022-06-22T16:57:46.442Z"
   },
   {
    "duration": 3,
    "start_time": "2022-06-22T17:32:16.232Z"
   },
   {
    "duration": 5194,
    "start_time": "2022-06-22T17:32:27.613Z"
   },
   {
    "duration": 3,
    "start_time": "2022-06-22T17:34:56.897Z"
   },
   {
    "duration": 3265,
    "start_time": "2022-06-22T17:34:57.394Z"
   },
   {
    "duration": 3,
    "start_time": "2022-06-22T17:37:50.998Z"
   },
   {
    "duration": 471,
    "start_time": "2022-06-22T17:37:51.522Z"
   },
   {
    "duration": 507,
    "start_time": "2022-06-22T17:38:08.135Z"
   },
   {
    "duration": 9,
    "start_time": "2022-06-22T17:38:08.644Z"
   },
   {
    "duration": 3,
    "start_time": "2022-06-22T17:38:08.654Z"
   },
   {
    "duration": 3501,
    "start_time": "2022-06-22T17:38:08.667Z"
   },
   {
    "duration": 4,
    "start_time": "2022-06-22T17:38:12.170Z"
   },
   {
    "duration": 471,
    "start_time": "2022-06-22T17:38:12.176Z"
   },
   {
    "duration": 3,
    "start_time": "2022-06-22T17:38:12.649Z"
   },
   {
    "duration": 453,
    "start_time": "2022-06-22T17:38:12.654Z"
   },
   {
    "duration": 3,
    "start_time": "2022-06-22T17:38:13.110Z"
   },
   {
    "duration": 510,
    "start_time": "2022-06-22T17:38:13.115Z"
   },
   {
    "duration": 2,
    "start_time": "2022-06-22T17:38:13.627Z"
   },
   {
    "duration": 470,
    "start_time": "2022-06-22T17:38:13.631Z"
   },
   {
    "duration": 2,
    "start_time": "2022-06-22T17:38:14.103Z"
   },
   {
    "duration": 624,
    "start_time": "2022-06-22T17:38:14.107Z"
   },
   {
    "duration": 4,
    "start_time": "2022-06-22T17:38:14.733Z"
   },
   {
    "duration": 5106,
    "start_time": "2022-06-22T17:38:14.738Z"
   },
   {
    "duration": 4043,
    "start_time": "2022-06-22T17:38:19.846Z"
   },
   {
    "duration": 546,
    "start_time": "2022-06-26T06:05:00.717Z"
   },
   {
    "duration": 11,
    "start_time": "2022-06-26T06:05:01.266Z"
   },
   {
    "duration": 5,
    "start_time": "2022-06-26T06:05:01.281Z"
   },
   {
    "duration": 4282,
    "start_time": "2022-06-26T06:05:01.287Z"
   },
   {
    "duration": 2,
    "start_time": "2022-06-26T06:05:05.571Z"
   },
   {
    "duration": 534,
    "start_time": "2022-06-26T06:05:05.574Z"
   },
   {
    "duration": 3,
    "start_time": "2022-06-26T06:05:06.109Z"
   },
   {
    "duration": 532,
    "start_time": "2022-06-26T06:05:06.113Z"
   },
   {
    "duration": 3,
    "start_time": "2022-06-26T06:05:06.647Z"
   },
   {
    "duration": 510,
    "start_time": "2022-06-26T06:05:06.651Z"
   },
   {
    "duration": 2,
    "start_time": "2022-06-26T06:05:07.163Z"
   },
   {
    "duration": 550,
    "start_time": "2022-06-26T06:05:07.166Z"
   },
   {
    "duration": 2,
    "start_time": "2022-06-26T06:05:07.718Z"
   },
   {
    "duration": 617,
    "start_time": "2022-06-26T06:05:07.722Z"
   },
   {
    "duration": 4,
    "start_time": "2022-06-26T06:05:08.340Z"
   },
   {
    "duration": 5378,
    "start_time": "2022-06-26T06:05:08.346Z"
   },
   {
    "duration": 4276,
    "start_time": "2022-06-26T06:05:13.726Z"
   },
   {
    "duration": 508,
    "start_time": "2022-06-26T08:16:29.058Z"
   },
   {
    "duration": 39,
    "start_time": "2022-06-26T08:16:29.568Z"
   },
   {
    "duration": 3,
    "start_time": "2022-06-26T08:16:29.609Z"
   },
   {
    "duration": 4455,
    "start_time": "2022-06-26T08:16:29.614Z"
   },
   {
    "duration": 3,
    "start_time": "2022-06-26T08:16:34.070Z"
   },
   {
    "duration": 485,
    "start_time": "2022-06-26T08:16:34.074Z"
   },
   {
    "duration": 2,
    "start_time": "2022-06-26T08:16:34.561Z"
   },
   {
    "duration": 463,
    "start_time": "2022-06-26T08:16:34.565Z"
   },
   {
    "duration": 3,
    "start_time": "2022-06-26T08:16:35.030Z"
   },
   {
    "duration": 495,
    "start_time": "2022-06-26T08:16:35.035Z"
   },
   {
    "duration": 3,
    "start_time": "2022-06-26T08:16:35.532Z"
   },
   {
    "duration": 462,
    "start_time": "2022-06-26T08:16:35.536Z"
   },
   {
    "duration": 3,
    "start_time": "2022-06-26T08:16:36.000Z"
   },
   {
    "duration": 617,
    "start_time": "2022-06-26T08:16:36.005Z"
   },
   {
    "duration": 3,
    "start_time": "2022-06-26T08:16:36.623Z"
   },
   {
    "duration": 5206,
    "start_time": "2022-06-26T08:16:36.628Z"
   },
   {
    "duration": 4457,
    "start_time": "2022-06-26T08:16:41.835Z"
   },
   {
    "duration": 489,
    "start_time": "2022-06-26T10:33:16.862Z"
   },
   {
    "duration": 17,
    "start_time": "2022-06-26T10:33:17.353Z"
   },
   {
    "duration": 3,
    "start_time": "2022-06-26T10:33:17.372Z"
   },
   {
    "duration": 4310,
    "start_time": "2022-06-26T10:33:17.377Z"
   },
   {
    "duration": 3,
    "start_time": "2022-06-26T10:33:21.689Z"
   },
   {
    "duration": 514,
    "start_time": "2022-06-26T10:33:21.693Z"
   },
   {
    "duration": 3,
    "start_time": "2022-06-26T10:33:22.208Z"
   },
   {
    "duration": 469,
    "start_time": "2022-06-26T10:33:22.212Z"
   },
   {
    "duration": 2,
    "start_time": "2022-06-26T10:33:22.683Z"
   },
   {
    "duration": 505,
    "start_time": "2022-06-26T10:33:22.688Z"
   },
   {
    "duration": 3,
    "start_time": "2022-06-26T10:33:23.194Z"
   },
   {
    "duration": 470,
    "start_time": "2022-06-26T10:33:23.198Z"
   },
   {
    "duration": 2,
    "start_time": "2022-06-26T10:33:23.670Z"
   },
   {
    "duration": 619,
    "start_time": "2022-06-26T10:33:23.674Z"
   },
   {
    "duration": 3,
    "start_time": "2022-06-26T10:33:24.294Z"
   },
   {
    "duration": 5385,
    "start_time": "2022-06-26T10:33:24.299Z"
   },
   {
    "duration": 4541,
    "start_time": "2022-06-26T10:33:29.686Z"
   },
   {
    "duration": 504,
    "start_time": "2022-06-26T10:33:40.776Z"
   },
   {
    "duration": 9,
    "start_time": "2022-06-26T10:33:41.281Z"
   },
   {
    "duration": 12,
    "start_time": "2022-06-26T10:33:41.291Z"
   },
   {
    "duration": 3362,
    "start_time": "2022-06-26T10:33:41.305Z"
   },
   {
    "duration": 2,
    "start_time": "2022-06-26T10:33:44.669Z"
   },
   {
    "duration": 494,
    "start_time": "2022-06-26T10:33:44.673Z"
   },
   {
    "duration": 4,
    "start_time": "2022-06-26T10:33:45.168Z"
   },
   {
    "duration": 479,
    "start_time": "2022-06-26T10:33:45.174Z"
   },
   {
    "duration": 2,
    "start_time": "2022-06-26T10:33:45.655Z"
   },
   {
    "duration": 524,
    "start_time": "2022-06-26T10:33:45.660Z"
   },
   {
    "duration": 3,
    "start_time": "2022-06-26T10:33:46.185Z"
   },
   {
    "duration": 479,
    "start_time": "2022-06-26T10:33:46.189Z"
   },
   {
    "duration": 3,
    "start_time": "2022-06-26T10:33:46.669Z"
   },
   {
    "duration": 616,
    "start_time": "2022-06-26T10:33:46.673Z"
   },
   {
    "duration": 2,
    "start_time": "2022-06-26T10:33:47.291Z"
   },
   {
    "duration": 5457,
    "start_time": "2022-06-26T10:33:47.295Z"
   },
   {
    "duration": 4551,
    "start_time": "2022-06-26T10:33:52.754Z"
   },
   {
    "duration": 3,
    "start_time": "2022-06-26T10:34:59.476Z"
   },
   {
    "duration": 491,
    "start_time": "2022-06-26T10:35:00.042Z"
   },
   {
    "duration": 3,
    "start_time": "2022-06-26T10:35:22.122Z"
   },
   {
    "duration": 491,
    "start_time": "2022-06-26T10:35:22.698Z"
   },
   {
    "duration": 2,
    "start_time": "2022-06-26T10:35:34.154Z"
   },
   {
    "duration": 484,
    "start_time": "2022-06-26T10:35:34.769Z"
   },
   {
    "duration": 3,
    "start_time": "2022-06-26T10:35:43.666Z"
   },
   {
    "duration": 492,
    "start_time": "2022-06-26T10:35:44.337Z"
   },
   {
    "duration": 3,
    "start_time": "2022-06-26T10:35:53.034Z"
   },
   {
    "duration": 490,
    "start_time": "2022-06-26T10:35:53.504Z"
   },
   {
    "duration": 4,
    "start_time": "2022-06-26T10:36:40.269Z"
   },
   {
    "duration": 489,
    "start_time": "2022-06-26T10:36:43.956Z"
   },
   {
    "duration": 3,
    "start_time": "2022-06-26T10:38:50.042Z"
   },
   {
    "duration": 580,
    "start_time": "2022-06-26T10:38:50.641Z"
   },
   {
    "duration": 520,
    "start_time": "2022-06-26T10:39:23.832Z"
   },
   {
    "duration": 9,
    "start_time": "2022-06-26T10:39:24.354Z"
   },
   {
    "duration": 3,
    "start_time": "2022-06-26T10:39:24.364Z"
   },
   {
    "duration": 518,
    "start_time": "2022-06-26T10:39:24.369Z"
   },
   {
    "duration": 2,
    "start_time": "2022-06-26T10:39:24.889Z"
   },
   {
    "duration": 475,
    "start_time": "2022-06-26T10:39:24.893Z"
   },
   {
    "duration": 3,
    "start_time": "2022-06-26T10:39:25.370Z"
   },
   {
    "duration": 508,
    "start_time": "2022-06-26T10:39:25.375Z"
   },
   {
    "duration": 2,
    "start_time": "2022-06-26T10:39:25.885Z"
   },
   {
    "duration": 474,
    "start_time": "2022-06-26T10:39:25.890Z"
   },
   {
    "duration": 3,
    "start_time": "2022-06-26T10:39:26.367Z"
   },
   {
    "duration": 496,
    "start_time": "2022-06-26T10:39:26.371Z"
   },
   {
    "duration": 3,
    "start_time": "2022-06-26T10:39:26.869Z"
   },
   {
    "duration": 483,
    "start_time": "2022-06-26T10:39:26.873Z"
   },
   {
    "duration": 3,
    "start_time": "2022-06-26T10:39:27.357Z"
   },
   {
    "duration": 628,
    "start_time": "2022-06-26T10:39:27.361Z"
   },
   {
    "duration": 3,
    "start_time": "2022-06-26T10:39:27.991Z"
   },
   {
    "duration": 5596,
    "start_time": "2022-06-26T10:39:27.996Z"
   },
   {
    "duration": 4521,
    "start_time": "2022-06-26T10:39:33.593Z"
   },
   {
    "duration": 5536,
    "start_time": "2022-06-26T10:46:55.248Z"
   },
   {
    "duration": 584,
    "start_time": "2022-06-26T10:47:07.816Z"
   },
   {
    "duration": 13,
    "start_time": "2022-06-26T10:47:08.402Z"
   },
   {
    "duration": 17,
    "start_time": "2022-06-26T10:47:08.417Z"
   },
   {
    "duration": 517,
    "start_time": "2022-06-26T10:47:08.437Z"
   },
   {
    "duration": 3,
    "start_time": "2022-06-26T10:47:08.955Z"
   },
   {
    "duration": 467,
    "start_time": "2022-06-26T10:47:08.959Z"
   },
   {
    "duration": 4,
    "start_time": "2022-06-26T10:47:09.428Z"
   },
   {
    "duration": 526,
    "start_time": "2022-06-26T10:47:09.434Z"
   },
   {
    "duration": 3,
    "start_time": "2022-06-26T10:47:09.962Z"
   },
   {
    "duration": 471,
    "start_time": "2022-06-26T10:47:09.968Z"
   },
   {
    "duration": 2,
    "start_time": "2022-06-26T10:47:10.441Z"
   },
   {
    "duration": 508,
    "start_time": "2022-06-26T10:47:10.445Z"
   },
   {
    "duration": 3,
    "start_time": "2022-06-26T10:47:10.955Z"
   },
   {
    "duration": 480,
    "start_time": "2022-06-26T10:47:10.959Z"
   },
   {
    "duration": 3,
    "start_time": "2022-06-26T10:47:11.442Z"
   },
   {
    "duration": 678,
    "start_time": "2022-06-26T10:47:11.446Z"
   },
   {
    "duration": 3,
    "start_time": "2022-06-26T10:47:12.126Z"
   },
   {
    "duration": 5642,
    "start_time": "2022-06-26T10:47:12.131Z"
   },
   {
    "duration": 4489,
    "start_time": "2022-06-26T10:47:17.775Z"
   },
   {
    "duration": 528,
    "start_time": "2022-06-26T10:56:10.320Z"
   },
   {
    "duration": 9,
    "start_time": "2022-06-26T10:56:10.849Z"
   },
   {
    "duration": 6,
    "start_time": "2022-06-26T10:56:10.862Z"
   },
   {
    "duration": 509,
    "start_time": "2022-06-26T10:56:10.869Z"
   },
   {
    "duration": 2,
    "start_time": "2022-06-26T10:56:11.380Z"
   },
   {
    "duration": 479,
    "start_time": "2022-06-26T10:56:11.383Z"
   },
   {
    "duration": 3,
    "start_time": "2022-06-26T10:56:11.864Z"
   },
   {
    "duration": 510,
    "start_time": "2022-06-26T10:56:11.868Z"
   },
   {
    "duration": 3,
    "start_time": "2022-06-26T10:56:12.380Z"
   },
   {
    "duration": 482,
    "start_time": "2022-06-26T10:56:12.384Z"
   },
   {
    "duration": 2,
    "start_time": "2022-06-26T10:56:12.868Z"
   },
   {
    "duration": 520,
    "start_time": "2022-06-26T10:56:12.871Z"
   },
   {
    "duration": 2,
    "start_time": "2022-06-26T10:56:13.393Z"
   },
   {
    "duration": 500,
    "start_time": "2022-06-26T10:56:13.397Z"
   },
   {
    "duration": 3,
    "start_time": "2022-06-26T10:56:13.899Z"
   },
   {
    "duration": 605,
    "start_time": "2022-06-26T10:56:13.904Z"
   },
   {
    "duration": 3,
    "start_time": "2022-06-26T10:56:14.511Z"
   },
   {
    "duration": 5615,
    "start_time": "2022-06-26T10:56:14.516Z"
   },
   {
    "duration": 4549,
    "start_time": "2022-06-26T10:56:20.132Z"
   },
   {
    "duration": 501,
    "start_time": "2022-06-27T05:09:43.899Z"
   },
   {
    "duration": 59,
    "start_time": "2022-06-27T05:09:44.402Z"
   },
   {
    "duration": 4,
    "start_time": "2022-06-27T05:09:44.463Z"
   },
   {
    "duration": 760,
    "start_time": "2022-06-27T05:09:44.469Z"
   },
   {
    "duration": 3,
    "start_time": "2022-06-27T05:09:45.231Z"
   },
   {
    "duration": 704,
    "start_time": "2022-06-27T05:09:45.236Z"
   },
   {
    "duration": 3,
    "start_time": "2022-06-27T05:09:45.948Z"
   },
   {
    "duration": 726,
    "start_time": "2022-06-27T05:09:45.957Z"
   },
   {
    "duration": 2,
    "start_time": "2022-06-27T05:09:46.686Z"
   },
   {
    "duration": 730,
    "start_time": "2022-06-27T05:09:46.691Z"
   },
   {
    "duration": 3,
    "start_time": "2022-06-27T05:09:47.422Z"
   },
   {
    "duration": 719,
    "start_time": "2022-06-27T05:09:47.426Z"
   },
   {
    "duration": 3,
    "start_time": "2022-06-27T05:09:48.148Z"
   },
   {
    "duration": 731,
    "start_time": "2022-06-27T05:09:48.153Z"
   },
   {
    "duration": 3,
    "start_time": "2022-06-27T05:09:48.886Z"
   },
   {
    "duration": 2277,
    "start_time": "2022-06-27T05:09:48.890Z"
   },
   {
    "duration": 7,
    "start_time": "2022-06-27T05:09:51.169Z"
   },
   {
    "duration": 5796,
    "start_time": "2022-06-27T05:09:51.179Z"
   },
   {
    "duration": 5273,
    "start_time": "2022-06-27T05:09:56.978Z"
   }
  ],
  "kernelspec": {
   "display_name": "Python 3 (ipykernel)",
   "language": "python",
   "name": "python3"
  },
  "language_info": {
   "codemirror_mode": {
    "name": "ipython",
    "version": 3
   },
   "file_extension": ".py",
   "mimetype": "text/x-python",
   "name": "python",
   "nbconvert_exporter": "python",
   "pygments_lexer": "ipython3",
   "version": "3.9.12"
  },
  "toc": {
   "base_numbering": 1,
   "nav_menu": {},
   "number_sections": true,
   "sideBar": true,
   "skip_h1_title": true,
   "title_cell": "Table of Contents",
   "title_sidebar": "Contents",
   "toc_cell": false,
   "toc_position": {},
   "toc_section_display": true,
   "toc_window_display": false
  }
 },
 "nbformat": 4,
 "nbformat_minor": 5
}
